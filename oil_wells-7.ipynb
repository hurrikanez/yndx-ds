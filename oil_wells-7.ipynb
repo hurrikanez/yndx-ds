{
 "cells": [
  {
   "cell_type": "markdown",
   "metadata": {},
   "source": [
    "# Выбор локации для скважины"
   ]
  },
  {
   "cell_type": "markdown",
   "metadata": {},
   "source": [
    "Предположим, что вы работаете в компании, занимающейся добычей нефти. Вам необходимо принять решение о месте бурения новой нефтяной скважины.\n",
    "\n",
    "В вашем распоряжении имеются данные о пробах нефти из трех регионов, где было произведено измерение качества нефти и объема ее запасов на 10 000 месторождениях в каждом регионе. Ваша задача состоит в том, чтобы построить модель машинного обучения, которая поможет определить регион, в котором добыча нефти принесет наибольшую прибыль. После этого проведите анализ возможной прибыли и рисков с использованием методики Bootstrap.\n",
    "\n",
    "Шаги для выбора локации:\n",
    "\n",
    "- В избранном регионе ищут месторождения, для каждого определяют значения признаков;\n",
    "- Строят модель и оценивают объём запасов;\n",
    "- Выбирают месторождения с самым высокими оценками значений. Количество месторождений зависит от бюджета компании и стоимости разработки одной скважины;\n",
    "- Прибыль равна суммарной прибыли отобранных месторождений."
   ]
  },
  {
   "cell_type": "markdown",
   "metadata": {},
   "source": [
    "**Описание данных** <br>\n",
    "Данные геологоразведки трёх регионов находятся в файлах: <br>\n",
    "*/datasets/geo_data_0.csv <br>\n",
    "/datasets/geo_data_1.csv <br>\n",
    "/datasets/geo_data_2.csv* <br>\n",
    "* id — уникальный идентификатор скважины;\n",
    "* f0, f1, f2 — три признака точек (неважно, что они означают, но сами признаки значимы);\n",
    "* product — объём запасов в скважине (тыс. баррелей).\n",
    "\n",
    "**Условия задачи:** <br>\n",
    "Для обучения модели подходит только линейная регрессия (остальные — недостаточно предсказуемые). <br>\n",
    "При разведке региона исследуют 500 точек, из которых с помощью машинного обучения выбирают 200 лучших для разработки.\n",
    "Бюджет на разработку скважин в регионе — 10 млрд рублей. <br>\n",
    "При нынешних ценах один баррель сырья приносит 450 рублей дохода. Доход с каждой единицы продукта составляет 450 тыс. рублей, поскольку объём указан в тысячах баррелей. <br>\n",
    "После оценки рисков нужно оставить лишь те регионы, в которых вероятность убытков меньше 2.5%. Среди них выбирают регион с наибольшей средней прибылью. <br>\n",
    "Данные синтетические: детали контрактов и характеристики месторождений не разглашаются.\n",
    "\n",
    "**Инструкция по выполнению проекта**\n",
    "1. Загрузите и подготовьте данные. Поясните порядок действий.<br>\n",
    "2. Обучите и проверьте модель для каждого региона: <br>\n",
    " 2.1. Разбейте данные на обучающую и валидационную выборки в соотношении 75:25.<br>\n",
    " 2.2. Обучите модель и сделайте предсказания на валидационной выборке.<br>\n",
    " 2.3. Сохраните предсказания и правильные ответы на валидационной выборке.<br>\n",
    " 2.4. Напечатайте на экране средний запас предсказанного сырья и RMSE модели.<br>\n",
    " 2.5. Проанализируйте результаты.<br>\n",
    "3. Подготовьтесь к расчёту прибыли:<br>\n",
    " 3.1. Все ключевые значения для расчётов сохраните в отдельных переменных.<br>\n",
    " 3.2. Рассчитайте достаточный объём сырья для безубыточной разработки новой скважины. Сравните полученный объём сырья со средним запасом в каждом регионе. <br>\n",
    " 3.3. Напишите выводы по этапу подготовки расчёта прибыли.<br>\n",
    "4. Напишите функцию для расчёта прибыли по выбранным скважинам и предсказаниям модели:<br>\n",
    " 4.1. Выберите скважины с максимальными значениями предсказаний.<br>\n",
    " 4.2. Просуммируйте целевое значение объёма сырья, соответствующее этим предсказаниям.<br>\n",
    " 4.3. Рассчитайте прибыль для полученного объёма сырья.<br>\n",
    "5. Посчитайте риски и прибыль для каждого региона:<br>\n",
    " 5.1. Примените технику Bootstrap с 1000 выборок, чтобы найти распределение прибыли.<br>\n",
    " 5.2. Найдите среднюю прибыль, 95%-й доверительный интервал и риск убытков. Убыток — это отрицательная прибыль.<br>\n",
    " 5.3. Напишите выводы: предложите регион для разработки скважин и обоснуйте выбор.<br>\n",
    " \n",
    " *******************"
   ]
  },
  {
   "cell_type": "markdown",
   "metadata": {},
   "source": [
    "## Загрузка и подготовка данных"
   ]
  },
  {
   "cell_type": "code",
   "execution_count": 1,
   "metadata": {},
   "outputs": [],
   "source": [
    "import matplotlib.pyplot as plt\n",
    "import numpy as np\n",
    "import pandas as pd\n",
    "\n",
    "from sklearn.linear_model import LinearRegression\n",
    "from sklearn.metrics import mean_squared_error\n",
    "from sklearn.model_selection import train_test_split\n",
    "from sklearn.preprocessing import StandardScaler"
   ]
  },
  {
   "cell_type": "markdown",
   "metadata": {},
   "source": [
    "<div class=\"alert alert-block alert-success\">\n",
    "<b>Успех:</b> Отлично, что все импорты собраны в первой ячейке ноутбука! Если у того, кто будет запускать твой ноутбук будут отсутствовать некоторые библиотеки, то он это увидит сразу, а не в процессе!\n",
    "</div>"
   ]
  },
  {
   "cell_type": "code",
   "execution_count": 2,
   "metadata": {},
   "outputs": [],
   "source": [
    "reg_1 = pd.read_csv('/datasets/geo_data_0.csv')\n",
    "reg_2 = pd.read_csv('/datasets/geo_data_1.csv')\n",
    "reg_3 = pd.read_csv('/datasets/geo_data_2.csv')"
   ]
  },
  {
   "cell_type": "markdown",
   "metadata": {},
   "source": [
    "### Регион 1"
   ]
  },
  {
   "cell_type": "code",
   "execution_count": 3,
   "metadata": {},
   "outputs": [
    {
     "data": {
      "text/html": [
       "<div>\n",
       "<style scoped>\n",
       "    .dataframe tbody tr th:only-of-type {\n",
       "        vertical-align: middle;\n",
       "    }\n",
       "\n",
       "    .dataframe tbody tr th {\n",
       "        vertical-align: top;\n",
       "    }\n",
       "\n",
       "    .dataframe thead th {\n",
       "        text-align: right;\n",
       "    }\n",
       "</style>\n",
       "<table border=\"1\" class=\"dataframe\">\n",
       "  <thead>\n",
       "    <tr style=\"text-align: right;\">\n",
       "      <th></th>\n",
       "      <th>id</th>\n",
       "      <th>f0</th>\n",
       "      <th>f1</th>\n",
       "      <th>f2</th>\n",
       "      <th>product</th>\n",
       "    </tr>\n",
       "  </thead>\n",
       "  <tbody>\n",
       "    <tr>\n",
       "      <th>0</th>\n",
       "      <td>txEyH</td>\n",
       "      <td>0.705745</td>\n",
       "      <td>-0.497823</td>\n",
       "      <td>1.221170</td>\n",
       "      <td>105.280062</td>\n",
       "    </tr>\n",
       "    <tr>\n",
       "      <th>1</th>\n",
       "      <td>2acmU</td>\n",
       "      <td>1.334711</td>\n",
       "      <td>-0.340164</td>\n",
       "      <td>4.365080</td>\n",
       "      <td>73.037750</td>\n",
       "    </tr>\n",
       "    <tr>\n",
       "      <th>2</th>\n",
       "      <td>409Wp</td>\n",
       "      <td>1.022732</td>\n",
       "      <td>0.151990</td>\n",
       "      <td>1.419926</td>\n",
       "      <td>85.265647</td>\n",
       "    </tr>\n",
       "    <tr>\n",
       "      <th>3</th>\n",
       "      <td>iJLyR</td>\n",
       "      <td>-0.032172</td>\n",
       "      <td>0.139033</td>\n",
       "      <td>2.978566</td>\n",
       "      <td>168.620776</td>\n",
       "    </tr>\n",
       "    <tr>\n",
       "      <th>4</th>\n",
       "      <td>Xdl7t</td>\n",
       "      <td>1.988431</td>\n",
       "      <td>0.155413</td>\n",
       "      <td>4.751769</td>\n",
       "      <td>154.036647</td>\n",
       "    </tr>\n",
       "  </tbody>\n",
       "</table>\n",
       "</div>"
      ],
      "text/plain": [
       "      id        f0        f1        f2     product\n",
       "0  txEyH  0.705745 -0.497823  1.221170  105.280062\n",
       "1  2acmU  1.334711 -0.340164  4.365080   73.037750\n",
       "2  409Wp  1.022732  0.151990  1.419926   85.265647\n",
       "3  iJLyR -0.032172  0.139033  2.978566  168.620776\n",
       "4  Xdl7t  1.988431  0.155413  4.751769  154.036647"
      ]
     },
     "execution_count": 3,
     "metadata": {},
     "output_type": "execute_result"
    }
   ],
   "source": [
    "reg_1.head()"
   ]
  },
  {
   "cell_type": "code",
   "execution_count": 4,
   "metadata": {},
   "outputs": [
    {
     "name": "stdout",
     "output_type": "stream",
     "text": [
      "<class 'pandas.core.frame.DataFrame'>\n",
      "RangeIndex: 100000 entries, 0 to 99999\n",
      "Data columns (total 5 columns):\n",
      " #   Column   Non-Null Count   Dtype  \n",
      "---  ------   --------------   -----  \n",
      " 0   id       100000 non-null  object \n",
      " 1   f0       100000 non-null  float64\n",
      " 2   f1       100000 non-null  float64\n",
      " 3   f2       100000 non-null  float64\n",
      " 4   product  100000 non-null  float64\n",
      "dtypes: float64(4), object(1)\n",
      "memory usage: 3.8+ MB\n"
     ]
    }
   ],
   "source": [
    "reg_1.info()"
   ]
  },
  {
   "cell_type": "code",
   "execution_count": 5,
   "metadata": {},
   "outputs": [
    {
     "data": {
      "text/plain": [
       "0"
      ]
     },
     "execution_count": 5,
     "metadata": {},
     "output_type": "execute_result"
    }
   ],
   "source": [
    "reg_1.duplicated().sum() "
   ]
  },
  {
   "cell_type": "code",
   "execution_count": 6,
   "metadata": {},
   "outputs": [
    {
     "data": {
      "text/html": [
       "<div>\n",
       "<style scoped>\n",
       "    .dataframe tbody tr th:only-of-type {\n",
       "        vertical-align: middle;\n",
       "    }\n",
       "\n",
       "    .dataframe tbody tr th {\n",
       "        vertical-align: top;\n",
       "    }\n",
       "\n",
       "    .dataframe thead th {\n",
       "        text-align: right;\n",
       "    }\n",
       "</style>\n",
       "<table border=\"1\" class=\"dataframe\">\n",
       "  <thead>\n",
       "    <tr style=\"text-align: right;\">\n",
       "      <th></th>\n",
       "      <th>f0</th>\n",
       "      <th>f1</th>\n",
       "      <th>f2</th>\n",
       "      <th>product</th>\n",
       "    </tr>\n",
       "  </thead>\n",
       "  <tbody>\n",
       "    <tr>\n",
       "      <th>count</th>\n",
       "      <td>100000.000000</td>\n",
       "      <td>100000.000000</td>\n",
       "      <td>100000.000000</td>\n",
       "      <td>100000.000000</td>\n",
       "    </tr>\n",
       "    <tr>\n",
       "      <th>mean</th>\n",
       "      <td>0.500419</td>\n",
       "      <td>0.250143</td>\n",
       "      <td>2.502647</td>\n",
       "      <td>92.500000</td>\n",
       "    </tr>\n",
       "    <tr>\n",
       "      <th>std</th>\n",
       "      <td>0.871832</td>\n",
       "      <td>0.504433</td>\n",
       "      <td>3.248248</td>\n",
       "      <td>44.288691</td>\n",
       "    </tr>\n",
       "    <tr>\n",
       "      <th>min</th>\n",
       "      <td>-1.408605</td>\n",
       "      <td>-0.848218</td>\n",
       "      <td>-12.088328</td>\n",
       "      <td>0.000000</td>\n",
       "    </tr>\n",
       "    <tr>\n",
       "      <th>25%</th>\n",
       "      <td>-0.072580</td>\n",
       "      <td>-0.200881</td>\n",
       "      <td>0.287748</td>\n",
       "      <td>56.497507</td>\n",
       "    </tr>\n",
       "    <tr>\n",
       "      <th>50%</th>\n",
       "      <td>0.502360</td>\n",
       "      <td>0.250252</td>\n",
       "      <td>2.515969</td>\n",
       "      <td>91.849972</td>\n",
       "    </tr>\n",
       "    <tr>\n",
       "      <th>75%</th>\n",
       "      <td>1.073581</td>\n",
       "      <td>0.700646</td>\n",
       "      <td>4.715088</td>\n",
       "      <td>128.564089</td>\n",
       "    </tr>\n",
       "    <tr>\n",
       "      <th>max</th>\n",
       "      <td>2.362331</td>\n",
       "      <td>1.343769</td>\n",
       "      <td>16.003790</td>\n",
       "      <td>185.364347</td>\n",
       "    </tr>\n",
       "  </tbody>\n",
       "</table>\n",
       "</div>"
      ],
      "text/plain": [
       "                  f0             f1             f2        product\n",
       "count  100000.000000  100000.000000  100000.000000  100000.000000\n",
       "mean        0.500419       0.250143       2.502647      92.500000\n",
       "std         0.871832       0.504433       3.248248      44.288691\n",
       "min        -1.408605      -0.848218     -12.088328       0.000000\n",
       "25%        -0.072580      -0.200881       0.287748      56.497507\n",
       "50%         0.502360       0.250252       2.515969      91.849972\n",
       "75%         1.073581       0.700646       4.715088     128.564089\n",
       "max         2.362331       1.343769      16.003790     185.364347"
      ]
     },
     "execution_count": 6,
     "metadata": {},
     "output_type": "execute_result"
    }
   ],
   "source": [
    "reg_1.describe() "
   ]
  },
  {
   "cell_type": "code",
   "execution_count": 7,
   "metadata": {},
   "outputs": [
    {
     "data": {
      "image/png": "[encoded data removed]",
      "text/plain": [
       "<Figure size 864x432 with 4 Axes>"
      ]
     },
     "metadata": {
      "needs_background": "light"
     },
     "output_type": "display_data"
    }
   ],
   "source": [
    "fig, ax = plt.subplots(1, 4, figsize=(12, 6))\n",
    "\n",
    "reg_1.boxplot('f0', ax=ax[0])\n",
    "reg_1.boxplot('f1', ax=ax[1])\n",
    "reg_1.boxplot('f2', ax=ax[2])\n",
    "reg_1.boxplot('product', ax=ax[3])\n",
    "\n",
    "plt.subplots_adjust(wspace=0.5) \n",
    "\n",
    "plt.show()"
   ]
  },
  {
   "cell_type": "code",
   "execution_count": 8,
   "metadata": {
    "scrolled": true
   },
   "outputs": [
    {
     "data": {
      "image/png": "[encoded data removed]",
      "text/plain": [
       "<Figure size 576x432 with 4 Axes>"
      ]
     },
     "metadata": {
      "needs_background": "light"
     },
     "output_type": "display_data"
    }
   ],
   "source": [
    "reg_1.hist(figsize=(8,6));"
   ]
  },
  {
   "cell_type": "code",
   "execution_count": 9,
   "metadata": {
    "scrolled": true
   },
   "outputs": [
    {
     "data": {
      "text/html": [
       "<div>\n",
       "<style scoped>\n",
       "    .dataframe tbody tr th:only-of-type {\n",
       "        vertical-align: middle;\n",
       "    }\n",
       "\n",
       "    .dataframe tbody tr th {\n",
       "        vertical-align: top;\n",
       "    }\n",
       "\n",
       "    .dataframe thead th {\n",
       "        text-align: right;\n",
       "    }\n",
       "</style>\n",
       "<table border=\"1\" class=\"dataframe\">\n",
       "  <thead>\n",
       "    <tr style=\"text-align: right;\">\n",
       "      <th></th>\n",
       "      <th>f0</th>\n",
       "      <th>f1</th>\n",
       "      <th>f2</th>\n",
       "      <th>product</th>\n",
       "    </tr>\n",
       "  </thead>\n",
       "  <tbody>\n",
       "    <tr>\n",
       "      <th>f0</th>\n",
       "      <td>1.000000</td>\n",
       "      <td>-0.440723</td>\n",
       "      <td>-0.003153</td>\n",
       "      <td>0.143536</td>\n",
       "    </tr>\n",
       "    <tr>\n",
       "      <th>f1</th>\n",
       "      <td>-0.440723</td>\n",
       "      <td>1.000000</td>\n",
       "      <td>0.001724</td>\n",
       "      <td>-0.192356</td>\n",
       "    </tr>\n",
       "    <tr>\n",
       "      <th>f2</th>\n",
       "      <td>-0.003153</td>\n",
       "      <td>0.001724</td>\n",
       "      <td>1.000000</td>\n",
       "      <td>0.483663</td>\n",
       "    </tr>\n",
       "    <tr>\n",
       "      <th>product</th>\n",
       "      <td>0.143536</td>\n",
       "      <td>-0.192356</td>\n",
       "      <td>0.483663</td>\n",
       "      <td>1.000000</td>\n",
       "    </tr>\n",
       "  </tbody>\n",
       "</table>\n",
       "</div>"
      ],
      "text/plain": [
       "               f0        f1        f2   product\n",
       "f0       1.000000 -0.440723 -0.003153  0.143536\n",
       "f1      -0.440723  1.000000  0.001724 -0.192356\n",
       "f2      -0.003153  0.001724  1.000000  0.483663\n",
       "product  0.143536 -0.192356  0.483663  1.000000"
      ]
     },
     "execution_count": 9,
     "metadata": {},
     "output_type": "execute_result"
    }
   ],
   "source": [
    "reg_1.corr()"
   ]
  },
  {
   "cell_type": "markdown",
   "metadata": {},
   "source": [
    "### Регион 2"
   ]
  },
  {
   "cell_type": "code",
   "execution_count": 10,
   "metadata": {},
   "outputs": [
    {
     "data": {
      "text/html": [
       "<div>\n",
       "<style scoped>\n",
       "    .dataframe tbody tr th:only-of-type {\n",
       "        vertical-align: middle;\n",
       "    }\n",
       "\n",
       "    .dataframe tbody tr th {\n",
       "        vertical-align: top;\n",
       "    }\n",
       "\n",
       "    .dataframe thead th {\n",
       "        text-align: right;\n",
       "    }\n",
       "</style>\n",
       "<table border=\"1\" class=\"dataframe\">\n",
       "  <thead>\n",
       "    <tr style=\"text-align: right;\">\n",
       "      <th></th>\n",
       "      <th>id</th>\n",
       "      <th>f0</th>\n",
       "      <th>f1</th>\n",
       "      <th>f2</th>\n",
       "      <th>product</th>\n",
       "    </tr>\n",
       "  </thead>\n",
       "  <tbody>\n",
       "    <tr>\n",
       "      <th>0</th>\n",
       "      <td>kBEdx</td>\n",
       "      <td>-15.001348</td>\n",
       "      <td>-8.276000</td>\n",
       "      <td>-0.005876</td>\n",
       "      <td>3.179103</td>\n",
       "    </tr>\n",
       "    <tr>\n",
       "      <th>1</th>\n",
       "      <td>62mP7</td>\n",
       "      <td>14.272088</td>\n",
       "      <td>-3.475083</td>\n",
       "      <td>0.999183</td>\n",
       "      <td>26.953261</td>\n",
       "    </tr>\n",
       "    <tr>\n",
       "      <th>2</th>\n",
       "      <td>vyE1P</td>\n",
       "      <td>6.263187</td>\n",
       "      <td>-5.948386</td>\n",
       "      <td>5.001160</td>\n",
       "      <td>134.766305</td>\n",
       "    </tr>\n",
       "    <tr>\n",
       "      <th>3</th>\n",
       "      <td>KcrkZ</td>\n",
       "      <td>-13.081196</td>\n",
       "      <td>-11.506057</td>\n",
       "      <td>4.999415</td>\n",
       "      <td>137.945408</td>\n",
       "    </tr>\n",
       "    <tr>\n",
       "      <th>4</th>\n",
       "      <td>AHL4O</td>\n",
       "      <td>12.702195</td>\n",
       "      <td>-8.147433</td>\n",
       "      <td>5.004363</td>\n",
       "      <td>134.766305</td>\n",
       "    </tr>\n",
       "  </tbody>\n",
       "</table>\n",
       "</div>"
      ],
      "text/plain": [
       "      id         f0         f1        f2     product\n",
       "0  kBEdx -15.001348  -8.276000 -0.005876    3.179103\n",
       "1  62mP7  14.272088  -3.475083  0.999183   26.953261\n",
       "2  vyE1P   6.263187  -5.948386  5.001160  134.766305\n",
       "3  KcrkZ -13.081196 -11.506057  4.999415  137.945408\n",
       "4  AHL4O  12.702195  -8.147433  5.004363  134.766305"
      ]
     },
     "execution_count": 10,
     "metadata": {},
     "output_type": "execute_result"
    }
   ],
   "source": [
    "reg_2.head()"
   ]
  },
  {
   "cell_type": "code",
   "execution_count": 11,
   "metadata": {},
   "outputs": [
    {
     "name": "stdout",
     "output_type": "stream",
     "text": [
      "<class 'pandas.core.frame.DataFrame'>\n",
      "RangeIndex: 100000 entries, 0 to 99999\n",
      "Data columns (total 5 columns):\n",
      " #   Column   Non-Null Count   Dtype  \n",
      "---  ------   --------------   -----  \n",
      " 0   id       100000 non-null  object \n",
      " 1   f0       100000 non-null  float64\n",
      " 2   f1       100000 non-null  float64\n",
      " 3   f2       100000 non-null  float64\n",
      " 4   product  100000 non-null  float64\n",
      "dtypes: float64(4), object(1)\n",
      "memory usage: 3.8+ MB\n"
     ]
    }
   ],
   "source": [
    "reg_2.info()"
   ]
  },
  {
   "cell_type": "code",
   "execution_count": 12,
   "metadata": {},
   "outputs": [
    {
     "data": {
      "text/plain": [
       "0"
      ]
     },
     "execution_count": 12,
     "metadata": {},
     "output_type": "execute_result"
    }
   ],
   "source": [
    "reg_2.duplicated().sum()"
   ]
  },
  {
   "cell_type": "code",
   "execution_count": 13,
   "metadata": {},
   "outputs": [
    {
     "data": {
      "text/html": [
       "<div>\n",
       "<style scoped>\n",
       "    .dataframe tbody tr th:only-of-type {\n",
       "        vertical-align: middle;\n",
       "    }\n",
       "\n",
       "    .dataframe tbody tr th {\n",
       "        vertical-align: top;\n",
       "    }\n",
       "\n",
       "    .dataframe thead th {\n",
       "        text-align: right;\n",
       "    }\n",
       "</style>\n",
       "<table border=\"1\" class=\"dataframe\">\n",
       "  <thead>\n",
       "    <tr style=\"text-align: right;\">\n",
       "      <th></th>\n",
       "      <th>f0</th>\n",
       "      <th>f1</th>\n",
       "      <th>f2</th>\n",
       "      <th>product</th>\n",
       "    </tr>\n",
       "  </thead>\n",
       "  <tbody>\n",
       "    <tr>\n",
       "      <th>count</th>\n",
       "      <td>100000.000000</td>\n",
       "      <td>100000.000000</td>\n",
       "      <td>100000.000000</td>\n",
       "      <td>100000.000000</td>\n",
       "    </tr>\n",
       "    <tr>\n",
       "      <th>mean</th>\n",
       "      <td>1.141296</td>\n",
       "      <td>-4.796579</td>\n",
       "      <td>2.494541</td>\n",
       "      <td>68.825000</td>\n",
       "    </tr>\n",
       "    <tr>\n",
       "      <th>std</th>\n",
       "      <td>8.965932</td>\n",
       "      <td>5.119872</td>\n",
       "      <td>1.703572</td>\n",
       "      <td>45.944423</td>\n",
       "    </tr>\n",
       "    <tr>\n",
       "      <th>min</th>\n",
       "      <td>-31.609576</td>\n",
       "      <td>-26.358598</td>\n",
       "      <td>-0.018144</td>\n",
       "      <td>0.000000</td>\n",
       "    </tr>\n",
       "    <tr>\n",
       "      <th>25%</th>\n",
       "      <td>-6.298551</td>\n",
       "      <td>-8.267985</td>\n",
       "      <td>1.000021</td>\n",
       "      <td>26.953261</td>\n",
       "    </tr>\n",
       "    <tr>\n",
       "      <th>50%</th>\n",
       "      <td>1.153055</td>\n",
       "      <td>-4.813172</td>\n",
       "      <td>2.011479</td>\n",
       "      <td>57.085625</td>\n",
       "    </tr>\n",
       "    <tr>\n",
       "      <th>75%</th>\n",
       "      <td>8.621015</td>\n",
       "      <td>-1.332816</td>\n",
       "      <td>3.999904</td>\n",
       "      <td>107.813044</td>\n",
       "    </tr>\n",
       "    <tr>\n",
       "      <th>max</th>\n",
       "      <td>29.421755</td>\n",
       "      <td>18.734063</td>\n",
       "      <td>5.019721</td>\n",
       "      <td>137.945408</td>\n",
       "    </tr>\n",
       "  </tbody>\n",
       "</table>\n",
       "</div>"
      ],
      "text/plain": [
       "                  f0             f1             f2        product\n",
       "count  100000.000000  100000.000000  100000.000000  100000.000000\n",
       "mean        1.141296      -4.796579       2.494541      68.825000\n",
       "std         8.965932       5.119872       1.703572      45.944423\n",
       "min       -31.609576     -26.358598      -0.018144       0.000000\n",
       "25%        -6.298551      -8.267985       1.000021      26.953261\n",
       "50%         1.153055      -4.813172       2.011479      57.085625\n",
       "75%         8.621015      -1.332816       3.999904     107.813044\n",
       "max        29.421755      18.734063       5.019721     137.945408"
      ]
     },
     "execution_count": 13,
     "metadata": {},
     "output_type": "execute_result"
    }
   ],
   "source": [
    "reg_2.describe()"
   ]
  },
  {
   "cell_type": "code",
   "execution_count": 14,
   "metadata": {},
   "outputs": [
    {
     "data": {
      "image/png": "[encoded data removed]",
      "text/plain": [
       "<Figure size 864x432 with 4 Axes>"
      ]
     },
     "metadata": {
      "needs_background": "light"
     },
     "output_type": "display_data"
    }
   ],
   "source": [
    "fig, ax = plt.subplots(1, 4, figsize=(12, 6))\n",
    "\n",
    "reg_2.boxplot('f0', ax=ax[0])\n",
    "reg_2.boxplot('f1', ax=ax[1])\n",
    "reg_2.boxplot('f2', ax=ax[2])\n",
    "reg_2.boxplot('product', ax=ax[3])\n",
    "\n",
    "plt.subplots_adjust(wspace=0.5) \n",
    "\n",
    "plt.show()"
   ]
  },
  {
   "cell_type": "code",
   "execution_count": 15,
   "metadata": {
    "scrolled": true
   },
   "outputs": [
    {
     "data": {
      "image/png": "[encoded data removed]",
      "text/plain": [
       "<Figure size 576x432 with 4 Axes>"
      ]
     },
     "metadata": {
      "needs_background": "light"
     },
     "output_type": "display_data"
    }
   ],
   "source": [
    "reg_2.hist(figsize=(8,6));"
   ]
  },
  {
   "cell_type": "markdown",
   "metadata": {},
   "source": [
    "Данные распределены достаточно странно по сравнению с первым регионом."
   ]
  },
  {
   "cell_type": "code",
   "execution_count": 16,
   "metadata": {},
   "outputs": [
    {
     "data": {
      "text/plain": [
       "0.000000      1\n",
       "30.141653     1\n",
       "56.573577     1\n",
       "50.182301     1\n",
       "88.989990     1\n",
       "             ..\n",
       "146.560758    1\n",
       "155.729658    1\n",
       "27.829511     1\n",
       "85.382946     1\n",
       "154.424007    1\n",
       "Name: product, Length: 100000, dtype: int64"
      ]
     },
     "execution_count": 16,
     "metadata": {},
     "output_type": "execute_result"
    }
   ],
   "source": [
    "reg_1['product'].value_counts()"
   ]
  },
  {
   "cell_type": "code",
   "execution_count": 17,
   "metadata": {},
   "outputs": [
    {
     "data": {
      "text/plain": [
       "53.906522     8472\n",
       "26.953261     8468\n",
       "84.038886     8431\n",
       "57.085625     8390\n",
       "3.179103      8337\n",
       "80.859783     8320\n",
       "30.132364     8306\n",
       "134.766305    8304\n",
       "110.992147    8303\n",
       "0.000000      8235\n",
       "137.945408    8233\n",
       "107.813044    8201\n",
       "Name: product, dtype: int64"
      ]
     },
     "execution_count": 17,
     "metadata": {},
     "output_type": "execute_result"
    }
   ],
   "source": [
    "reg_2['product'].value_counts()"
   ]
  },
  {
   "cell_type": "code",
   "execution_count": 18,
   "metadata": {},
   "outputs": [
    {
     "data": {
      "text/plain": [
       "bfPNe    2\n",
       "wt4Uk    2\n",
       "5ltQ6    2\n",
       "LHZR0    2\n",
       "mo5uE    1\n",
       "        ..\n",
       "Hgrsd    1\n",
       "bRgmK    1\n",
       "YrAHM    1\n",
       "rBuR6    1\n",
       "KSn6M    1\n",
       "Name: id, Length: 99996, dtype: int64"
      ]
     },
     "execution_count": 18,
     "metadata": {},
     "output_type": "execute_result"
    }
   ],
   "source": [
    "reg_2['id'].value_counts()"
   ]
  },
  {
   "cell_type": "code",
   "execution_count": 19,
   "metadata": {},
   "outputs": [
    {
     "data": {
      "text/plain": [
       "3.996243    1\n",
       "4.003988    1\n",
       "1.996189    1\n",
       "0.996936    1\n",
       "3.998589    1\n",
       "           ..\n",
       "1.004759    1\n",
       "4.997377    1\n",
       "3.003466    1\n",
       "0.001041    1\n",
       "4.992682    1\n",
       "Name: f2, Length: 100000, dtype: int64"
      ]
     },
     "execution_count": 19,
     "metadata": {},
     "output_type": "execute_result"
    }
   ],
   "source": [
    "reg_2['f2'].value_counts()"
   ]
  },
  {
   "cell_type": "markdown",
   "metadata": {},
   "source": [
    "Картина выходит очень странная - информация для столбца product скорее всего была сгенерирована не совсем корректно, так как там всего 12 возможных значений, а уникальных скважин - не 12.  "
   ]
  },
  {
   "cell_type": "code",
   "execution_count": 20,
   "metadata": {},
   "outputs": [
    {
     "data": {
      "text/html": [
       "<div>\n",
       "<style scoped>\n",
       "    .dataframe tbody tr th:only-of-type {\n",
       "        vertical-align: middle;\n",
       "    }\n",
       "\n",
       "    .dataframe tbody tr th {\n",
       "        vertical-align: top;\n",
       "    }\n",
       "\n",
       "    .dataframe thead th {\n",
       "        text-align: right;\n",
       "    }\n",
       "</style>\n",
       "<table border=\"1\" class=\"dataframe\">\n",
       "  <thead>\n",
       "    <tr style=\"text-align: right;\">\n",
       "      <th></th>\n",
       "      <th>f0</th>\n",
       "      <th>f1</th>\n",
       "      <th>f2</th>\n",
       "      <th>product</th>\n",
       "    </tr>\n",
       "  </thead>\n",
       "  <tbody>\n",
       "    <tr>\n",
       "      <th>f0</th>\n",
       "      <td>1.000000</td>\n",
       "      <td>0.182287</td>\n",
       "      <td>-0.001777</td>\n",
       "      <td>-0.030491</td>\n",
       "    </tr>\n",
       "    <tr>\n",
       "      <th>f1</th>\n",
       "      <td>0.182287</td>\n",
       "      <td>1.000000</td>\n",
       "      <td>-0.002595</td>\n",
       "      <td>-0.010155</td>\n",
       "    </tr>\n",
       "    <tr>\n",
       "      <th>f2</th>\n",
       "      <td>-0.001777</td>\n",
       "      <td>-0.002595</td>\n",
       "      <td>1.000000</td>\n",
       "      <td>0.999397</td>\n",
       "    </tr>\n",
       "    <tr>\n",
       "      <th>product</th>\n",
       "      <td>-0.030491</td>\n",
       "      <td>-0.010155</td>\n",
       "      <td>0.999397</td>\n",
       "      <td>1.000000</td>\n",
       "    </tr>\n",
       "  </tbody>\n",
       "</table>\n",
       "</div>"
      ],
      "text/plain": [
       "               f0        f1        f2   product\n",
       "f0       1.000000  0.182287 -0.001777 -0.030491\n",
       "f1       0.182287  1.000000 -0.002595 -0.010155\n",
       "f2      -0.001777 -0.002595  1.000000  0.999397\n",
       "product -0.030491 -0.010155  0.999397  1.000000"
      ]
     },
     "execution_count": 20,
     "metadata": {},
     "output_type": "execute_result"
    }
   ],
   "source": [
    "reg_2.corr()"
   ]
  },
  {
   "cell_type": "markdown",
   "metadata": {},
   "source": [
    "Стоит заметить, что коэфициент корреляции между f2 и product у второго региона почти равен единице, что указывает об очень сильной линейной связи. Это может быть связано с вышеуказанной дискретностью product."
   ]
  },
  {
   "cell_type": "markdown",
   "metadata": {},
   "source": [
    "### Регион 3"
   ]
  },
  {
   "cell_type": "code",
   "execution_count": 21,
   "metadata": {},
   "outputs": [
    {
     "data": {
      "text/html": [
       "<div>\n",
       "<style scoped>\n",
       "    .dataframe tbody tr th:only-of-type {\n",
       "        vertical-align: middle;\n",
       "    }\n",
       "\n",
       "    .dataframe tbody tr th {\n",
       "        vertical-align: top;\n",
       "    }\n",
       "\n",
       "    .dataframe thead th {\n",
       "        text-align: right;\n",
       "    }\n",
       "</style>\n",
       "<table border=\"1\" class=\"dataframe\">\n",
       "  <thead>\n",
       "    <tr style=\"text-align: right;\">\n",
       "      <th></th>\n",
       "      <th>id</th>\n",
       "      <th>f0</th>\n",
       "      <th>f1</th>\n",
       "      <th>f2</th>\n",
       "      <th>product</th>\n",
       "    </tr>\n",
       "  </thead>\n",
       "  <tbody>\n",
       "    <tr>\n",
       "      <th>0</th>\n",
       "      <td>fwXo0</td>\n",
       "      <td>-1.146987</td>\n",
       "      <td>0.963328</td>\n",
       "      <td>-0.828965</td>\n",
       "      <td>27.758673</td>\n",
       "    </tr>\n",
       "    <tr>\n",
       "      <th>1</th>\n",
       "      <td>WJtFt</td>\n",
       "      <td>0.262778</td>\n",
       "      <td>0.269839</td>\n",
       "      <td>-2.530187</td>\n",
       "      <td>56.069697</td>\n",
       "    </tr>\n",
       "    <tr>\n",
       "      <th>2</th>\n",
       "      <td>ovLUW</td>\n",
       "      <td>0.194587</td>\n",
       "      <td>0.289035</td>\n",
       "      <td>-5.586433</td>\n",
       "      <td>62.871910</td>\n",
       "    </tr>\n",
       "    <tr>\n",
       "      <th>3</th>\n",
       "      <td>q6cA6</td>\n",
       "      <td>2.236060</td>\n",
       "      <td>-0.553760</td>\n",
       "      <td>0.930038</td>\n",
       "      <td>114.572842</td>\n",
       "    </tr>\n",
       "    <tr>\n",
       "      <th>4</th>\n",
       "      <td>WPMUX</td>\n",
       "      <td>-0.515993</td>\n",
       "      <td>1.716266</td>\n",
       "      <td>5.899011</td>\n",
       "      <td>149.600746</td>\n",
       "    </tr>\n",
       "  </tbody>\n",
       "</table>\n",
       "</div>"
      ],
      "text/plain": [
       "      id        f0        f1        f2     product\n",
       "0  fwXo0 -1.146987  0.963328 -0.828965   27.758673\n",
       "1  WJtFt  0.262778  0.269839 -2.530187   56.069697\n",
       "2  ovLUW  0.194587  0.289035 -5.586433   62.871910\n",
       "3  q6cA6  2.236060 -0.553760  0.930038  114.572842\n",
       "4  WPMUX -0.515993  1.716266  5.899011  149.600746"
      ]
     },
     "execution_count": 21,
     "metadata": {},
     "output_type": "execute_result"
    }
   ],
   "source": [
    "reg_3.head()"
   ]
  },
  {
   "cell_type": "code",
   "execution_count": 22,
   "metadata": {},
   "outputs": [
    {
     "name": "stdout",
     "output_type": "stream",
     "text": [
      "<class 'pandas.core.frame.DataFrame'>\n",
      "RangeIndex: 100000 entries, 0 to 99999\n",
      "Data columns (total 5 columns):\n",
      " #   Column   Non-Null Count   Dtype  \n",
      "---  ------   --------------   -----  \n",
      " 0   id       100000 non-null  object \n",
      " 1   f0       100000 non-null  float64\n",
      " 2   f1       100000 non-null  float64\n",
      " 3   f2       100000 non-null  float64\n",
      " 4   product  100000 non-null  float64\n",
      "dtypes: float64(4), object(1)\n",
      "memory usage: 3.8+ MB\n"
     ]
    }
   ],
   "source": [
    "reg_3.info()"
   ]
  },
  {
   "cell_type": "code",
   "execution_count": 23,
   "metadata": {},
   "outputs": [
    {
     "data": {
      "text/plain": [
       "0"
      ]
     },
     "execution_count": 23,
     "metadata": {},
     "output_type": "execute_result"
    }
   ],
   "source": [
    "reg_3.duplicated().sum()"
   ]
  },
  {
   "cell_type": "code",
   "execution_count": 24,
   "metadata": {},
   "outputs": [
    {
     "data": {
      "text/html": [
       "<div>\n",
       "<style scoped>\n",
       "    .dataframe tbody tr th:only-of-type {\n",
       "        vertical-align: middle;\n",
       "    }\n",
       "\n",
       "    .dataframe tbody tr th {\n",
       "        vertical-align: top;\n",
       "    }\n",
       "\n",
       "    .dataframe thead th {\n",
       "        text-align: right;\n",
       "    }\n",
       "</style>\n",
       "<table border=\"1\" class=\"dataframe\">\n",
       "  <thead>\n",
       "    <tr style=\"text-align: right;\">\n",
       "      <th></th>\n",
       "      <th>f0</th>\n",
       "      <th>f1</th>\n",
       "      <th>f2</th>\n",
       "      <th>product</th>\n",
       "    </tr>\n",
       "  </thead>\n",
       "  <tbody>\n",
       "    <tr>\n",
       "      <th>count</th>\n",
       "      <td>100000.000000</td>\n",
       "      <td>100000.000000</td>\n",
       "      <td>100000.000000</td>\n",
       "      <td>100000.000000</td>\n",
       "    </tr>\n",
       "    <tr>\n",
       "      <th>mean</th>\n",
       "      <td>0.002023</td>\n",
       "      <td>-0.002081</td>\n",
       "      <td>2.495128</td>\n",
       "      <td>95.000000</td>\n",
       "    </tr>\n",
       "    <tr>\n",
       "      <th>std</th>\n",
       "      <td>1.732045</td>\n",
       "      <td>1.730417</td>\n",
       "      <td>3.473445</td>\n",
       "      <td>44.749921</td>\n",
       "    </tr>\n",
       "    <tr>\n",
       "      <th>min</th>\n",
       "      <td>-8.760004</td>\n",
       "      <td>-7.084020</td>\n",
       "      <td>-11.970335</td>\n",
       "      <td>0.000000</td>\n",
       "    </tr>\n",
       "    <tr>\n",
       "      <th>25%</th>\n",
       "      <td>-1.162288</td>\n",
       "      <td>-1.174820</td>\n",
       "      <td>0.130359</td>\n",
       "      <td>59.450441</td>\n",
       "    </tr>\n",
       "    <tr>\n",
       "      <th>50%</th>\n",
       "      <td>0.009424</td>\n",
       "      <td>-0.009482</td>\n",
       "      <td>2.484236</td>\n",
       "      <td>94.925613</td>\n",
       "    </tr>\n",
       "    <tr>\n",
       "      <th>75%</th>\n",
       "      <td>1.158535</td>\n",
       "      <td>1.163678</td>\n",
       "      <td>4.858794</td>\n",
       "      <td>130.595027</td>\n",
       "    </tr>\n",
       "    <tr>\n",
       "      <th>max</th>\n",
       "      <td>7.238262</td>\n",
       "      <td>7.844801</td>\n",
       "      <td>16.739402</td>\n",
       "      <td>190.029838</td>\n",
       "    </tr>\n",
       "  </tbody>\n",
       "</table>\n",
       "</div>"
      ],
      "text/plain": [
       "                  f0             f1             f2        product\n",
       "count  100000.000000  100000.000000  100000.000000  100000.000000\n",
       "mean        0.002023      -0.002081       2.495128      95.000000\n",
       "std         1.732045       1.730417       3.473445      44.749921\n",
       "min        -8.760004      -7.084020     -11.970335       0.000000\n",
       "25%        -1.162288      -1.174820       0.130359      59.450441\n",
       "50%         0.009424      -0.009482       2.484236      94.925613\n",
       "75%         1.158535       1.163678       4.858794     130.595027\n",
       "max         7.238262       7.844801      16.739402     190.029838"
      ]
     },
     "execution_count": 24,
     "metadata": {},
     "output_type": "execute_result"
    }
   ],
   "source": [
    "reg_3.describe()"
   ]
  },
  {
   "cell_type": "code",
   "execution_count": 25,
   "metadata": {},
   "outputs": [
    {
     "data": {
      "image/png": "[encoded data removed]",
      "text/plain": [
       "<Figure size 864x432 with 4 Axes>"
      ]
     },
     "metadata": {
      "needs_background": "light"
     },
     "output_type": "display_data"
    }
   ],
   "source": [
    "fig, ax = plt.subplots(1, 4, figsize=(12, 6))\n",
    "\n",
    "reg_3.boxplot('f0', ax=ax[0])\n",
    "reg_3.boxplot('f1', ax=ax[1])\n",
    "reg_3.boxplot('f2', ax=ax[2])\n",
    "reg_3.boxplot('product', ax=ax[3])\n",
    "\n",
    "plt.subplots_adjust(wspace=0.5) \n",
    "\n",
    "plt.show()"
   ]
  },
  {
   "cell_type": "code",
   "execution_count": 26,
   "metadata": {
    "scrolled": false
   },
   "outputs": [
    {
     "data": {
      "image/png": "[encoded data removed]",
      "text/plain": [
       "<Figure size 576x432 with 4 Axes>"
      ]
     },
     "metadata": {
      "needs_background": "light"
     },
     "output_type": "display_data"
    }
   ],
   "source": [
    "reg_3.hist(figsize=(8,6));"
   ]
  },
  {
   "cell_type": "code",
   "execution_count": 27,
   "metadata": {
    "scrolled": true
   },
   "outputs": [
    {
     "data": {
      "text/html": [
       "<div>\n",
       "<style scoped>\n",
       "    .dataframe tbody tr th:only-of-type {\n",
       "        vertical-align: middle;\n",
       "    }\n",
       "\n",
       "    .dataframe tbody tr th {\n",
       "        vertical-align: top;\n",
       "    }\n",
       "\n",
       "    .dataframe thead th {\n",
       "        text-align: right;\n",
       "    }\n",
       "</style>\n",
       "<table border=\"1\" class=\"dataframe\">\n",
       "  <thead>\n",
       "    <tr style=\"text-align: right;\">\n",
       "      <th></th>\n",
       "      <th>f0</th>\n",
       "      <th>f1</th>\n",
       "      <th>f2</th>\n",
       "      <th>product</th>\n",
       "    </tr>\n",
       "  </thead>\n",
       "  <tbody>\n",
       "    <tr>\n",
       "      <th>f0</th>\n",
       "      <td>1.000000</td>\n",
       "      <td>0.000528</td>\n",
       "      <td>-0.000448</td>\n",
       "      <td>-0.001987</td>\n",
       "    </tr>\n",
       "    <tr>\n",
       "      <th>f1</th>\n",
       "      <td>0.000528</td>\n",
       "      <td>1.000000</td>\n",
       "      <td>0.000779</td>\n",
       "      <td>-0.001012</td>\n",
       "    </tr>\n",
       "    <tr>\n",
       "      <th>f2</th>\n",
       "      <td>-0.000448</td>\n",
       "      <td>0.000779</td>\n",
       "      <td>1.000000</td>\n",
       "      <td>0.445871</td>\n",
       "    </tr>\n",
       "    <tr>\n",
       "      <th>product</th>\n",
       "      <td>-0.001987</td>\n",
       "      <td>-0.001012</td>\n",
       "      <td>0.445871</td>\n",
       "      <td>1.000000</td>\n",
       "    </tr>\n",
       "  </tbody>\n",
       "</table>\n",
       "</div>"
      ],
      "text/plain": [
       "               f0        f1        f2   product\n",
       "f0       1.000000  0.000528 -0.000448 -0.001987\n",
       "f1       0.000528  1.000000  0.000779 -0.001012\n",
       "f2      -0.000448  0.000779  1.000000  0.445871\n",
       "product -0.001987 -0.001012  0.445871  1.000000"
      ]
     },
     "execution_count": 27,
     "metadata": {},
     "output_type": "execute_result"
    }
   ],
   "source": [
    "reg_3.corr()"
   ]
  },
  {
   "cell_type": "markdown",
   "metadata": {},
   "source": [
    "****\n",
    "Столбец id не является репрезентативным для предсказания целевого признака - объем нефти в скважине не зависит от ее id, поэтому эти столбцы можно удалить."
   ]
  },
  {
   "cell_type": "code",
   "execution_count": 28,
   "metadata": {},
   "outputs": [],
   "source": [
    "reg_1 = reg_1.drop('id', axis=1)\n",
    "reg_2 = reg_2.drop('id', axis=1)\n",
    "reg_3 = reg_3.drop('id', axis=1)"
   ]
  },
  {
   "cell_type": "code",
   "execution_count": 29,
   "metadata": {},
   "outputs": [
    {
     "name": "stdout",
     "output_type": "stream",
     "text": [
      "Index(['f0', 'f1', 'f2', 'product'], dtype='object')\n",
      "Index(['f0', 'f1', 'f2', 'product'], dtype='object')\n",
      "Index(['f0', 'f1', 'f2', 'product'], dtype='object')\n"
     ]
    }
   ],
   "source": [
    "print(reg_1.columns)\n",
    "print(reg_2.columns)\n",
    "print(reg_3.columns)"
   ]
  },
  {
   "cell_type": "markdown",
   "metadata": {},
   "source": [
    "**Вывод**:<br>\n",
    "Для исследования получены синтетические данные о 10 000 месторождениях нефти в 3 регионах в объеме 100 000 строк на регион.\n",
    "В данных не наблюдается ни пропусков, ни дубликатов; типы данных в столбцах соответсвуют содержимому.<br> \n",
    "График \"ящик с усами\" иллюстрирует наличие выбросов как минимум в одном столбце для каждого региона, но так как данные являются синтетическими, а информация о значении признаков отсутсвует, избавляться от них не представляется корректным. <br>\n",
    "Коэфициент корреляции между f2 и product у второго региона почти равен единице, что указывает об очень сильной линейной связи, для остальных признаков связь скорее слабая или отсуствующая вовсе. При этом, стоит заметить, что данные у второго региона могли быть сгенерированы не совсем корректно, так как распределение в столбцах f2 и product выглядит странно по сравнению с их распределением у первого и третьего регионов, а значение столбца product дискретно и равномерно принимает 1 из 12 значений.\n",
    "**********"
   ]
  },
  {
   "cell_type": "markdown",
   "metadata": {},
   "source": [
    "## Обучение и проверка модели"
   ]
  },
  {
   "cell_type": "markdown",
   "metadata": {},
   "source": [
    "2. Обучите и проверьте модель для каждого региона: <br>\n",
    " 2.1. Разбейте данные на обучающую и валидационную выборки в соотношении 75:25.<br>\n",
    " 2.2. Обучите модель и сделайте предсказания на валидационной выборке.<br>\n",
    " 2.3. Сохраните предсказания и правильные ответы на валидационной выборке.<br>\n",
    " 2.4. Напечатайте на экране средний запас предсказанного сырья и RMSE модели.<br>\n",
    " 2.5. Проанализируйте результаты.<br>"
   ]
  },
  {
   "cell_type": "code",
   "execution_count": 30,
   "metadata": {},
   "outputs": [],
   "source": [
    "def predict_reserves(df):\n",
    "    features = df.drop('product', axis=1)\n",
    "    target = df['product']\n",
    "    \n",
    "    features_train, features_valid, target_train, target_valid = train_test_split(features, target, \\\n",
    "                                                                                  test_size=0.25, random_state=12345)\n",
    "    scaler = StandardScaler()\n",
    "    pd.options.mode.chained_assignment = None\n",
    "    scaler.fit(features_train)\n",
    "    features_train = scaler.transform(features_train)\n",
    "    features_valid = scaler.transform(features_valid)\n",
    "    \n",
    "    model=LinearRegression()\n",
    "    model.fit(features_train, target_train)\n",
    "    predictions = pd.Series(model.predict(features_valid))\n",
    "    rmse = mean_squared_error(predictions, target_valid) ** 0.5\n",
    "    mean_reserves = predictions.sum() / len(predictions)\n",
    "    \n",
    "    print('RMSE:', '%.2f' % rmse)\n",
    "    print('Средний запас предсказанного сырья:', '%.2f' % mean_reserves)\n",
    "    return predictions, target_valid.reset_index(drop=True)"
   ]
  },
  {
   "cell_type": "code",
   "execution_count": 31,
   "metadata": {},
   "outputs": [
    {
     "name": "stdout",
     "output_type": "stream",
     "text": [
      "Регион 1\n",
      "RMSE: 37.58\n",
      "Средний запас предсказанного сырья: 92.59\n",
      "\n",
      "Регион 2\n",
      "RMSE: 0.89\n",
      "Средний запас предсказанного сырья: 68.73\n",
      "\n",
      "Регион 3\n",
      "RMSE: 40.03\n",
      "Средний запас предсказанного сырья: 94.97\n",
      "\n"
     ]
    }
   ],
   "source": [
    "predict_reserves_results = []\n",
    "for index, reg in enumerate([reg_1, reg_2, reg_3], start=1):\n",
    "    print('Регион', index)\n",
    "    predict_reserves_results.append(predict_reserves(reg))\n",
    "    print()"
   ]
  },
  {
   "cell_type": "code",
   "execution_count": 32,
   "metadata": {},
   "outputs": [],
   "source": [
    "# Сохраните предсказания и правильные ответы на валидационной выборке.\n",
    "predictions_1, target_1 = predict_reserves_results[0]\n",
    "predictions_2, target_2 = predict_reserves_results[1]\n",
    "predictions_3, target_3 = predict_reserves_results[2]"
   ]
  },
  {
   "cell_type": "markdown",
   "metadata": {},
   "source": [
    "**Вывод:**\n",
    "Наиболее точные предсказания модель сделала для второго региона, там же получился наименьший средний запас предсказанного сырья. Наибольший средний запас у третьего региона, но там и самая большая ошибка. \n",
    "*********"
   ]
  },
  {
   "cell_type": "markdown",
   "metadata": {},
   "source": [
    "## Подготовка к расчёту прибыли"
   ]
  },
  {
   "cell_type": "markdown",
   "metadata": {},
   "source": [
    "3. Подготовьтесь к расчёту прибыли:<br>\n",
    " 3.1. Все ключевые значения для расчётов сохраните в отдельных переменных.<br>\n",
    " 3.2. Рассчитайте достаточный объём сырья для безубыточной разработки новой скважины. Сравните полученный объём сырья со средним запасом в каждом регионе. <br>\n",
    " 3.3. Напишите выводы по этапу подготовки расчёта прибыли.<br>"
   ]
  },
  {
   "cell_type": "markdown",
   "metadata": {},
   "source": [
    "> При разведке региона исследуют 500 точек, из которых с помощью машинного обучения выбирают 200 лучших для разработки. Бюджет на разработку скважин в регионе — 10 млрд рублей.\n",
    "При нынешних ценах один баррель сырья приносит 450 рублей дохода. Доход с каждой единицы продукта составляет 450 тыс. рублей, поскольку объём указан в тысячах баррелей.\n",
    "После оценки рисков нужно оставить лишь те регионы, в которых вероятность убытков меньше 2.5%. Среди них выбирают регион с наибольшей средней прибылью."
   ]
  },
  {
   "cell_type": "code",
   "execution_count": 33,
   "metadata": {},
   "outputs": [],
   "source": [
    "TOTAL_WELLS = 500\n",
    "WELLS = 200\n",
    "BUDGET = 10 * 10 ** 9\n",
    "PRICE = 450\n",
    "PRICE_FOR_B = 450 * 1000\n",
    "LOSS_PROB = 2.5"
   ]
  },
  {
   "cell_type": "code",
   "execution_count": 34,
   "metadata": {},
   "outputs": [],
   "source": [
    "BUDGET_FOR_W = BUDGET / WELLS # бюджет на разработку каждой из 200 лучших скважин"
   ]
  },
  {
   "cell_type": "code",
   "execution_count": 35,
   "metadata": {},
   "outputs": [],
   "source": [
    "BREAK_EVEN = BUDGET_FOR_W / PRICE_FOR_B \n",
    "# точка безуботочности для каждой скважины: сколько т. баррелей нужно, чтобы окупиться"
   ]
  },
  {
   "cell_type": "code",
   "execution_count": 36,
   "metadata": {},
   "outputs": [
    {
     "data": {
      "text/plain": [
       "111.11111111111111"
      ]
     },
     "execution_count": 36,
     "metadata": {},
     "output_type": "execute_result"
    }
   ],
   "source": [
    "BREAK_EVEN"
   ]
  },
  {
   "cell_type": "code",
   "execution_count": 37,
   "metadata": {},
   "outputs": [
    {
     "data": {
      "text/plain": [
       "92.07859674082927"
      ]
     },
     "execution_count": 37,
     "metadata": {},
     "output_type": "execute_result"
    }
   ],
   "source": [
    "target_1.mean()"
   ]
  },
  {
   "cell_type": "code",
   "execution_count": 38,
   "metadata": {},
   "outputs": [
    {
     "data": {
      "text/plain": [
       "68.72313602435997"
      ]
     },
     "execution_count": 38,
     "metadata": {},
     "output_type": "execute_result"
    }
   ],
   "source": [
    "target_2.mean()"
   ]
  },
  {
   "cell_type": "code",
   "execution_count": 39,
   "metadata": {},
   "outputs": [
    {
     "data": {
      "text/plain": [
       "94.88423280885438"
      ]
     },
     "execution_count": 39,
     "metadata": {},
     "output_type": "execute_result"
    }
   ],
   "source": [
    "target_3.mean()"
   ]
  },
  {
   "cell_type": "markdown",
   "metadata": {},
   "source": [
    "**Вывод**: средний объем запасов во всех регионах меньше точки безубыточности. Значит, часть скважин будут убыточными."
   ]
  },
  {
   "cell_type": "markdown",
   "metadata": {},
   "source": [
    "4. Напишите функцию для расчёта прибыли по выбранным скважинам и предсказаниям модели:<br>\n",
    " 4.1. Выберите скважины с максимальными значениями предсказаний.<br>\n",
    " 4.2. Просуммируйте целевое значение объёма сырья, соответствующее этим предсказаниям.<br>\n",
    " 4.3. Рассчитайте прибыль для полученного объёма сырья.<br>"
   ]
  },
  {
   "cell_type": "code",
   "execution_count": 40,
   "metadata": {},
   "outputs": [],
   "source": [
    "def calculate_profit(predictions, target):\n",
    "    best_wells = predictions.sort_values(ascending=False)\n",
    "    reserves_sum = target[best_wells.index][:200].sum()\n",
    "    profit = reserves_sum * PRICE_FOR_B - BUDGET\n",
    "    return profit"
   ]
  },
  {
   "cell_type": "markdown",
   "metadata": {},
   "source": [
    "******\n",
    "## Расчёт прибыли и рисков "
   ]
  },
  {
   "cell_type": "markdown",
   "metadata": {},
   "source": [
    "5. Посчитайте риски и прибыль для каждого региона:<br>\n",
    " 5.1. Примените технику Bootstrap с 1000 выборок, чтобы найти распределение прибыли.<br>\n",
    " 5.2. Найдите среднюю прибыль, 95%-й доверительный интервал и риск убытков. Убыток — это отрицательная прибыль.<br>\n",
    " 5.3. Напишите выводы: предложите регион для разработки скважин и обоснуйте выбор.<br>"
   ]
  },
  {
   "cell_type": "markdown",
   "metadata": {},
   "source": [
    "> Риск — сочетание вероятности и последствий наступления событий.\n",
    "\n",
    "Вероятность наступления события A рассчитывается как P (A) = m/n, где n — общее число всех равновозможных, элементарных исходов этого испытания, а m — количество элементарных исходов, благоприятствующих событию A. <br>\n",
    "Соответственно, риск убытков (отрицательной прибыли) будем считать как число всех исходов с отрицательной прибылью к общему числу исходов."
   ]
  },
  {
   "cell_type": "code",
   "execution_count": 41,
   "metadata": {},
   "outputs": [],
   "source": [
    "state = np.random.RandomState(12345)"
   ]
  },
  {
   "cell_type": "code",
   "execution_count": 42,
   "metadata": {},
   "outputs": [],
   "source": [
    "def calculate_risks_and_profit(predictions, target, conf_int):\n",
    "    profit = []\n",
    "    for i in range(1000):\n",
    "        target_subsample = target.sample(n=TOTAL_WELLS, replace=True, random_state=state)\n",
    "        pred_subsample = predictions[target_subsample.index]\n",
    "        profit.append(calculate_profit(pred_subsample, target_subsample))\n",
    "\n",
    "    profit = pd.Series(profit)\n",
    "    mean_profit = profit.mean()\n",
    "    \n",
    "    conf_int_half = (100 - conf_int) / (100 * 2)\n",
    "    lower = round(profit.quantile(0 + conf_int_half), 2)\n",
    "    higher = round(profit.quantile(1 - conf_int_half), 2)\n",
    "\n",
    "    \n",
    "    risk = (profit < 0).mean() * 100\n",
    "    mean_profit = round(profit.mean(), 2)\n",
    "    print('Средняя прибыль:', mean_profit)\n",
    "    print(f'Доверительный интервал: от {lower} до {higher}')\n",
    "    if risk > LOSS_PROB:\n",
    "          print(f'Риск превосходит допустимый порог, cоставляет {risk}%')\n",
    "    else:\n",
    "        print(f'Риск ниже допустимого порога, составляет {risk}%')\n",
    "    return mean_profit, lower, higher, risk"
   ]
  },
  {
   "cell_type": "code",
   "execution_count": 43,
   "metadata": {},
   "outputs": [
    {
     "name": "stdout",
     "output_type": "stream",
     "text": [
      "Регион 1\n",
      "Средняя прибыль: 425938526.91\n",
      "Доверительный интервал: от -102090094.84 до 947976353.36\n",
      "Риск превосходит допустимый порог, cоставляет 6.0%\n"
     ]
    }
   ],
   "source": [
    "risks_profit = []\n",
    "print('Регион 1')\n",
    "risks_profit.append(calculate_risks_and_profit(predictions_1, target_1, 95))"
   ]
  },
  {
   "cell_type": "code",
   "execution_count": 44,
   "metadata": {},
   "outputs": [
    {
     "name": "stdout",
     "output_type": "stream",
     "text": [
      "Регион 2\n",
      "Средняя прибыль: 518259493.7\n",
      "Доверительный интервал: от 128123231.43 до 953612982.07\n",
      "Риск ниже допустимого порога, составляет 0.3%\n"
     ]
    }
   ],
   "source": [
    "print('Регион 2')\n",
    "risks_profit.append(calculate_risks_and_profit(predictions_2, target_2, 95))"
   ]
  },
  {
   "cell_type": "code",
   "execution_count": 45,
   "metadata": {},
   "outputs": [
    {
     "name": "stdout",
     "output_type": "stream",
     "text": [
      "Регион 3\n",
      "Средняя прибыль: 420194005.34\n",
      "Доверительный интервал: от -115852609.16 до 989629939.84\n",
      "Риск превосходит допустимый порог, cоставляет 6.2%\n"
     ]
    }
   ],
   "source": [
    "print('Регион 3')\n",
    "risks_profit.append(calculate_risks_and_profit(predictions_3, target_3, 95))"
   ]
  },
  {
   "cell_type": "code",
   "execution_count": 46,
   "metadata": {},
   "outputs": [],
   "source": [
    "pr_df = pd.DataFrame(risks_profit, columns = ['Средняя прибыль', 'Низ дов. инт.', 'Верх дов. инт.', 'Риск убытков'])"
   ]
  },
  {
   "cell_type": "code",
   "execution_count": 47,
   "metadata": {
    "scrolled": true
   },
   "outputs": [
    {
     "data": {
      "text/html": [
       "<div>\n",
       "<style scoped>\n",
       "    .dataframe tbody tr th:only-of-type {\n",
       "        vertical-align: middle;\n",
       "    }\n",
       "\n",
       "    .dataframe tbody tr th {\n",
       "        vertical-align: top;\n",
       "    }\n",
       "\n",
       "    .dataframe thead th {\n",
       "        text-align: right;\n",
       "    }\n",
       "</style>\n",
       "<table border=\"1\" class=\"dataframe\">\n",
       "  <thead>\n",
       "    <tr style=\"text-align: right;\">\n",
       "      <th></th>\n",
       "      <th>Средняя прибыль</th>\n",
       "      <th>Низ дов. инт.</th>\n",
       "      <th>Верх дов. инт.</th>\n",
       "      <th>Риск убытков</th>\n",
       "    </tr>\n",
       "  </thead>\n",
       "  <tbody>\n",
       "    <tr>\n",
       "      <th>0</th>\n",
       "      <td>4.259385e+08</td>\n",
       "      <td>-1.020901e+08</td>\n",
       "      <td>9.479764e+08</td>\n",
       "      <td>6.0</td>\n",
       "    </tr>\n",
       "    <tr>\n",
       "      <th>1</th>\n",
       "      <td>5.182595e+08</td>\n",
       "      <td>1.281232e+08</td>\n",
       "      <td>9.536130e+08</td>\n",
       "      <td>0.3</td>\n",
       "    </tr>\n",
       "    <tr>\n",
       "      <th>2</th>\n",
       "      <td>4.201940e+08</td>\n",
       "      <td>-1.158526e+08</td>\n",
       "      <td>9.896299e+08</td>\n",
       "      <td>6.2</td>\n",
       "    </tr>\n",
       "  </tbody>\n",
       "</table>\n",
       "</div>"
      ],
      "text/plain": [
       "   Средняя прибыль  Низ дов. инт.  Верх дов. инт.  Риск убытков\n",
       "0     4.259385e+08  -1.020901e+08    9.479764e+08           6.0\n",
       "1     5.182595e+08   1.281232e+08    9.536130e+08           0.3\n",
       "2     4.201940e+08  -1.158526e+08    9.896299e+08           6.2"
      ]
     },
     "execution_count": 47,
     "metadata": {},
     "output_type": "execute_result"
    }
   ],
   "source": [
    "pr_df"
   ]
  },
  {
   "cell_type": "markdown",
   "metadata": {},
   "source": [
    "**Вывод**: <br>\n",
    "Для исследования получены синтетические данные о 10 000 месторождениях нефти в 3 регионах в объеме 100 000 строк на регион. <br>\n",
    "В ходе исследования удалось выяснить, что средний объем запасов сырья в представленных регионах недостаточен для безубыточной разработки новых скважин. <br> \n",
    "Единственный регион, подходящий для разработки, - это второй. Риск убытков в нем не превышает заданный порог в 2,5% и составляет 0,3%, средняя прибыль составляет 518 259 493.7 миллионов рублей, и нижняя граница 95% доверительного интервала по средней прибыли лежит в пределах положительных значений."
   ]
  },
  {
   "cell_type": "code",
   "execution_count": null,
   "metadata": {},
   "outputs": [],
   "source": []
  }
 ],
 "metadata": {
  "ExecuteTimeLog": [
   {
    "duration": 429,
    "start_time": "2023-07-20T18:57:18.044Z"
   },
   {
    "duration": 2286,
    "start_time": "2023-07-20T18:58:15.991Z"
   },
   {
    "duration": 18,
    "start_time": "2023-07-20T18:58:25.843Z"
   },
   {
    "duration": 10,
    "start_time": "2023-07-20T18:58:46.554Z"
   },
   {
    "duration": 10,
    "start_time": "2023-07-20T18:59:00.043Z"
   },
   {
    "duration": 14,
    "start_time": "2023-07-20T18:59:19.559Z"
   },
   {
    "duration": 15,
    "start_time": "2023-07-20T18:59:28.779Z"
   },
   {
    "duration": 13,
    "start_time": "2023-07-20T18:59:40.373Z"
   },
   {
    "duration": 40,
    "start_time": "2023-07-20T19:00:46.019Z"
   },
   {
    "duration": 853,
    "start_time": "2023-07-20T19:01:14.637Z"
   },
   {
    "duration": 354,
    "start_time": "2023-07-20T19:01:17.642Z"
   },
   {
    "duration": 519,
    "start_time": "2023-07-20T19:01:28.763Z"
   },
   {
    "duration": 450,
    "start_time": "2023-07-20T19:01:33.047Z"
   },
   {
    "duration": 409,
    "start_time": "2023-07-20T19:01:41.762Z"
   },
   {
    "duration": 183,
    "start_time": "2023-07-20T19:03:40.480Z"
   },
   {
    "duration": 169,
    "start_time": "2023-07-20T19:03:57.977Z"
   },
   {
    "duration": 438,
    "start_time": "2023-07-20T19:04:03.896Z"
   },
   {
    "duration": 180,
    "start_time": "2023-07-20T19:04:47.386Z"
   },
   {
    "duration": 8,
    "start_time": "2023-07-20T19:05:29.874Z"
   },
   {
    "duration": 120,
    "start_time": "2023-07-20T19:05:33.409Z"
   },
   {
    "duration": 122,
    "start_time": "2023-07-20T19:05:45.838Z"
   },
   {
    "duration": 5,
    "start_time": "2023-07-20T19:05:48.475Z"
   },
   {
    "duration": 471,
    "start_time": "2023-07-20T19:06:21.023Z"
   },
   {
    "duration": 408,
    "start_time": "2023-07-20T19:07:27.362Z"
   },
   {
    "duration": 312,
    "start_time": "2023-07-20T19:07:34.939Z"
   },
   {
    "duration": 155,
    "start_time": "2023-07-20T19:07:55.088Z"
   },
   {
    "duration": 193,
    "start_time": "2023-07-20T19:08:07.822Z"
   },
   {
    "duration": 164,
    "start_time": "2023-07-20T19:08:09.829Z"
   },
   {
    "duration": 285,
    "start_time": "2023-07-20T19:08:22.333Z"
   },
   {
    "duration": 175,
    "start_time": "2023-07-20T19:08:25.549Z"
   },
   {
    "duration": 170,
    "start_time": "2023-07-20T19:08:46.183Z"
   },
   {
    "duration": 166,
    "start_time": "2023-07-20T19:08:56.058Z"
   },
   {
    "duration": 152,
    "start_time": "2023-07-20T19:09:22.801Z"
   },
   {
    "duration": 63,
    "start_time": "2023-07-20T19:15:35.305Z"
   },
   {
    "duration": 10,
    "start_time": "2023-07-20T19:29:57.791Z"
   },
   {
    "duration": 183,
    "start_time": "2023-07-20T19:30:07.166Z"
   },
   {
    "duration": 604,
    "start_time": "2023-07-20T19:32:04.922Z"
   },
   {
    "duration": 590,
    "start_time": "2023-07-20T19:33:12.947Z"
   },
   {
    "duration": 639,
    "start_time": "2023-07-20T19:33:21.176Z"
   },
   {
    "duration": 735,
    "start_time": "2023-07-20T19:33:29.518Z"
   },
   {
    "duration": 42,
    "start_time": "2023-07-20T19:35:07.923Z"
   },
   {
    "duration": 48,
    "start_time": "2023-07-20T19:37:16.671Z"
   },
   {
    "duration": 634,
    "start_time": "2023-07-20T19:39:29.002Z"
   },
   {
    "duration": 561,
    "start_time": "2023-07-20T19:41:26.914Z"
   },
   {
    "duration": 525,
    "start_time": "2023-07-20T19:41:29.644Z"
   },
   {
    "duration": 53,
    "start_time": "2023-07-20T19:42:14.760Z"
   },
   {
    "duration": 37,
    "start_time": "2023-07-20T19:42:23.737Z"
   },
   {
    "duration": 739,
    "start_time": "2023-07-20T19:42:33.653Z"
   },
   {
    "duration": 379,
    "start_time": "2023-07-20T19:43:17.289Z"
   },
   {
    "duration": 356,
    "start_time": "2023-07-20T19:43:19.964Z"
   },
   {
    "duration": 544,
    "start_time": "2023-07-20T19:44:33.506Z"
   },
   {
    "duration": 17,
    "start_time": "2023-07-20T19:46:01.536Z"
   },
   {
    "duration": 14,
    "start_time": "2023-07-20T19:46:12.571Z"
   },
   {
    "duration": 415,
    "start_time": "2023-07-20T19:47:08.259Z"
   },
   {
    "duration": 16,
    "start_time": "2023-07-20T19:47:15.184Z"
   },
   {
    "duration": 12,
    "start_time": "2023-07-20T19:54:49.802Z"
   },
   {
    "duration": 8,
    "start_time": "2023-07-20T19:55:01.156Z"
   },
   {
    "duration": 3,
    "start_time": "2023-07-20T19:55:06.678Z"
   },
   {
    "duration": 4,
    "start_time": "2023-07-20T19:55:24.328Z"
   },
   {
    "duration": 17,
    "start_time": "2023-07-20T20:04:38.968Z"
   },
   {
    "duration": 19,
    "start_time": "2023-07-20T20:05:06.291Z"
   },
   {
    "duration": 382,
    "start_time": "2023-07-20T20:05:22.363Z"
   },
   {
    "duration": 396,
    "start_time": "2023-07-20T20:05:22.747Z"
   },
   {
    "duration": 17,
    "start_time": "2023-07-20T20:05:23.145Z"
   },
   {
    "duration": 15,
    "start_time": "2023-07-20T20:05:23.165Z"
   },
   {
    "duration": 71,
    "start_time": "2023-07-20T20:05:23.182Z"
   },
   {
    "duration": 41,
    "start_time": "2023-07-20T20:05:23.255Z"
   },
   {
    "duration": 80,
    "start_time": "2023-07-20T20:05:23.298Z"
   },
   {
    "duration": 0,
    "start_time": "2023-07-20T20:05:23.381Z"
   },
   {
    "duration": 0,
    "start_time": "2023-07-20T20:05:23.383Z"
   },
   {
    "duration": 0,
    "start_time": "2023-07-20T20:05:23.384Z"
   },
   {
    "duration": 0,
    "start_time": "2023-07-20T20:05:23.385Z"
   },
   {
    "duration": 0,
    "start_time": "2023-07-20T20:05:23.386Z"
   },
   {
    "duration": 0,
    "start_time": "2023-07-20T20:05:23.387Z"
   },
   {
    "duration": 0,
    "start_time": "2023-07-20T20:05:23.389Z"
   },
   {
    "duration": 0,
    "start_time": "2023-07-20T20:05:23.413Z"
   },
   {
    "duration": 0,
    "start_time": "2023-07-20T20:05:23.414Z"
   },
   {
    "duration": 0,
    "start_time": "2023-07-20T20:05:23.415Z"
   },
   {
    "duration": 0,
    "start_time": "2023-07-20T20:05:23.416Z"
   },
   {
    "duration": 0,
    "start_time": "2023-07-20T20:05:23.418Z"
   },
   {
    "duration": 0,
    "start_time": "2023-07-20T20:05:23.419Z"
   },
   {
    "duration": 0,
    "start_time": "2023-07-20T20:05:23.420Z"
   },
   {
    "duration": 0,
    "start_time": "2023-07-20T20:05:23.421Z"
   },
   {
    "duration": 0,
    "start_time": "2023-07-20T20:05:23.422Z"
   },
   {
    "duration": 0,
    "start_time": "2023-07-20T20:05:23.423Z"
   },
   {
    "duration": 0,
    "start_time": "2023-07-20T20:05:23.424Z"
   },
   {
    "duration": 0,
    "start_time": "2023-07-20T20:05:23.425Z"
   },
   {
    "duration": 269,
    "start_time": "2023-07-20T20:05:56.601Z"
   },
   {
    "duration": 707,
    "start_time": "2023-07-20T20:06:01.872Z"
   },
   {
    "duration": 384,
    "start_time": "2023-07-20T20:06:02.581Z"
   },
   {
    "duration": 14,
    "start_time": "2023-07-20T20:06:02.966Z"
   },
   {
    "duration": 548,
    "start_time": "2023-07-20T20:06:02.981Z"
   },
   {
    "duration": 276,
    "start_time": "2023-07-20T20:06:03.532Z"
   },
   {
    "duration": 41,
    "start_time": "2023-07-20T20:06:03.810Z"
   },
   {
    "duration": 667,
    "start_time": "2023-07-20T20:06:03.853Z"
   },
   {
    "duration": 431,
    "start_time": "2023-07-20T20:06:04.522Z"
   },
   {
    "duration": 17,
    "start_time": "2023-07-20T20:06:04.955Z"
   },
   {
    "duration": 10,
    "start_time": "2023-07-20T20:06:04.974Z"
   },
   {
    "duration": 40,
    "start_time": "2023-07-20T20:06:04.985Z"
   },
   {
    "duration": 45,
    "start_time": "2023-07-20T20:06:05.027Z"
   },
   {
    "duration": 55,
    "start_time": "2023-07-20T20:06:05.074Z"
   },
   {
    "duration": 678,
    "start_time": "2023-07-20T20:06:05.131Z"
   },
   {
    "duration": 486,
    "start_time": "2023-07-20T20:06:05.813Z"
   },
   {
    "duration": 25,
    "start_time": "2023-07-20T20:06:06.300Z"
   },
   {
    "duration": 14,
    "start_time": "2023-07-20T20:06:06.327Z"
   },
   {
    "duration": 25,
    "start_time": "2023-07-20T20:06:06.342Z"
   },
   {
    "duration": 26,
    "start_time": "2023-07-20T20:06:06.369Z"
   },
   {
    "duration": 60,
    "start_time": "2023-07-20T20:06:06.396Z"
   },
   {
    "duration": 39,
    "start_time": "2023-07-20T20:06:06.458Z"
   },
   {
    "duration": 616,
    "start_time": "2023-07-20T20:06:06.499Z"
   },
   {
    "duration": 405,
    "start_time": "2023-07-20T20:06:07.117Z"
   },
   {
    "duration": 15,
    "start_time": "2023-07-20T20:06:07.524Z"
   },
   {
    "duration": 11,
    "start_time": "2023-07-20T20:06:07.540Z"
   },
   {
    "duration": 35,
    "start_time": "2023-07-20T20:06:07.553Z"
   },
   {
    "duration": 11,
    "start_time": "2023-07-20T20:06:33.469Z"
   },
   {
    "duration": 10,
    "start_time": "2023-07-20T20:06:39.196Z"
   },
   {
    "duration": 17,
    "start_time": "2023-07-20T20:06:49.299Z"
   },
   {
    "duration": 701,
    "start_time": "2023-07-20T20:07:09.070Z"
   },
   {
    "duration": 410,
    "start_time": "2023-07-20T20:07:09.774Z"
   },
   {
    "duration": 14,
    "start_time": "2023-07-20T20:07:10.186Z"
   },
   {
    "duration": 15,
    "start_time": "2023-07-20T20:07:10.213Z"
   },
   {
    "duration": 48,
    "start_time": "2023-07-20T20:07:10.230Z"
   },
   {
    "duration": 64,
    "start_time": "2023-07-20T20:07:10.280Z"
   },
   {
    "duration": 630,
    "start_time": "2023-07-20T20:07:10.346Z"
   },
   {
    "duration": 437,
    "start_time": "2023-07-20T20:07:10.978Z"
   },
   {
    "duration": 17,
    "start_time": "2023-07-20T20:07:11.417Z"
   },
   {
    "duration": 23,
    "start_time": "2023-07-20T20:07:11.436Z"
   },
   {
    "duration": 37,
    "start_time": "2023-07-20T20:07:11.461Z"
   },
   {
    "duration": 49,
    "start_time": "2023-07-20T20:07:11.500Z"
   },
   {
    "duration": 38,
    "start_time": "2023-07-20T20:07:11.551Z"
   },
   {
    "duration": 678,
    "start_time": "2023-07-20T20:07:11.591Z"
   },
   {
    "duration": 444,
    "start_time": "2023-07-20T20:07:12.271Z"
   },
   {
    "duration": 18,
    "start_time": "2023-07-20T20:07:12.717Z"
   },
   {
    "duration": 31,
    "start_time": "2023-07-20T20:07:12.737Z"
   },
   {
    "duration": 22,
    "start_time": "2023-07-20T20:07:12.770Z"
   },
   {
    "duration": 30,
    "start_time": "2023-07-20T20:07:12.794Z"
   },
   {
    "duration": 48,
    "start_time": "2023-07-20T20:07:12.826Z"
   },
   {
    "duration": 54,
    "start_time": "2023-07-20T20:07:12.876Z"
   },
   {
    "duration": 633,
    "start_time": "2023-07-20T20:07:12.932Z"
   },
   {
    "duration": 455,
    "start_time": "2023-07-20T20:07:13.567Z"
   },
   {
    "duration": 20,
    "start_time": "2023-07-20T20:07:14.023Z"
   },
   {
    "duration": 10,
    "start_time": "2023-07-20T20:07:14.044Z"
   },
   {
    "duration": 16,
    "start_time": "2023-07-20T20:07:14.056Z"
   },
   {
    "duration": 720,
    "start_time": "2023-07-20T20:07:30.916Z"
   },
   {
    "duration": 395,
    "start_time": "2023-07-20T20:07:31.639Z"
   },
   {
    "duration": 13,
    "start_time": "2023-07-20T20:07:32.036Z"
   },
   {
    "duration": 525,
    "start_time": "2023-07-20T20:07:32.051Z"
   },
   {
    "duration": 81,
    "start_time": "2023-07-20T20:07:32.578Z"
   },
   {
    "duration": 71,
    "start_time": "2023-07-20T20:07:32.662Z"
   },
   {
    "duration": 652,
    "start_time": "2023-07-20T20:07:32.736Z"
   },
   {
    "duration": 435,
    "start_time": "2023-07-20T20:07:33.390Z"
   },
   {
    "duration": 22,
    "start_time": "2023-07-20T20:07:33.827Z"
   },
   {
    "duration": 12,
    "start_time": "2023-07-20T20:07:33.853Z"
   },
   {
    "duration": 76,
    "start_time": "2023-07-20T20:07:33.868Z"
   },
   {
    "duration": 52,
    "start_time": "2023-07-20T20:07:33.946Z"
   },
   {
    "duration": 37,
    "start_time": "2023-07-20T20:07:34.000Z"
   },
   {
    "duration": 677,
    "start_time": "2023-07-20T20:07:34.039Z"
   },
   {
    "duration": 461,
    "start_time": "2023-07-20T20:07:34.718Z"
   },
   {
    "duration": 22,
    "start_time": "2023-07-20T20:07:35.181Z"
   },
   {
    "duration": 67,
    "start_time": "2023-07-20T20:07:35.214Z"
   },
   {
    "duration": 11,
    "start_time": "2023-07-20T20:07:35.283Z"
   },
   {
    "duration": 19,
    "start_time": "2023-07-20T20:07:35.296Z"
   },
   {
    "duration": 60,
    "start_time": "2023-07-20T20:07:35.318Z"
   },
   {
    "duration": 68,
    "start_time": "2023-07-20T20:07:35.380Z"
   },
   {
    "duration": 710,
    "start_time": "2023-07-20T20:07:35.450Z"
   },
   {
    "duration": 454,
    "start_time": "2023-07-20T20:07:36.162Z"
   },
   {
    "duration": 26,
    "start_time": "2023-07-20T20:07:36.620Z"
   },
   {
    "duration": 3,
    "start_time": "2023-07-20T20:07:36.648Z"
   },
   {
    "duration": 21,
    "start_time": "2023-07-20T20:07:36.652Z"
   },
   {
    "duration": 20,
    "start_time": "2023-07-20T20:08:08.413Z"
   },
   {
    "duration": 399,
    "start_time": "2023-07-20T20:08:31.255Z"
   },
   {
    "duration": 180,
    "start_time": "2023-07-20T20:08:37.279Z"
   },
   {
    "duration": 15,
    "start_time": "2023-07-20T20:08:56.774Z"
   },
   {
    "duration": 539,
    "start_time": "2023-07-20T20:09:18.148Z"
   },
   {
    "duration": 101,
    "start_time": "2023-07-20T20:10:48.439Z"
   },
   {
    "duration": 9,
    "start_time": "2023-07-20T20:10:51.258Z"
   },
   {
    "duration": 381,
    "start_time": "2023-07-20T20:11:49.688Z"
   },
   {
    "duration": 16,
    "start_time": "2023-07-20T20:13:31.876Z"
   },
   {
    "duration": 372,
    "start_time": "2023-07-20T20:13:39.683Z"
   },
   {
    "duration": 8,
    "start_time": "2023-07-20T20:13:46.587Z"
   },
   {
    "duration": 18,
    "start_time": "2023-07-20T20:13:51.608Z"
   },
   {
    "duration": 11,
    "start_time": "2023-07-20T20:14:06.915Z"
   },
   {
    "duration": 10,
    "start_time": "2023-07-20T20:14:48.235Z"
   },
   {
    "duration": 8,
    "start_time": "2023-07-20T20:15:56.498Z"
   },
   {
    "duration": 19,
    "start_time": "2023-07-20T20:15:59.768Z"
   },
   {
    "duration": 118,
    "start_time": "2023-07-20T20:17:11.843Z"
   },
   {
    "duration": 7,
    "start_time": "2023-07-20T20:18:56.040Z"
   },
   {
    "duration": 16,
    "start_time": "2023-07-20T20:19:45.094Z"
   },
   {
    "duration": 14,
    "start_time": "2023-07-20T20:20:22.280Z"
   },
   {
    "duration": 7,
    "start_time": "2023-07-20T20:20:38.741Z"
   },
   {
    "duration": 88,
    "start_time": "2023-07-20T20:21:15.649Z"
   },
   {
    "duration": 16,
    "start_time": "2023-07-20T20:21:42.044Z"
   },
   {
    "duration": 400,
    "start_time": "2023-07-20T20:30:36.830Z"
   },
   {
    "duration": 864,
    "start_time": "2023-07-20T21:03:40.079Z"
   },
   {
    "duration": 21,
    "start_time": "2023-07-20T21:09:04.530Z"
   },
   {
    "duration": 4,
    "start_time": "2023-07-20T21:11:11.064Z"
   },
   {
    "duration": 140,
    "start_time": "2023-07-20T21:18:57.564Z"
   },
   {
    "duration": 132,
    "start_time": "2023-07-20T21:19:29.403Z"
   },
   {
    "duration": 5,
    "start_time": "2023-07-20T21:19:33.291Z"
   },
   {
    "duration": 86,
    "start_time": "2023-07-20T21:19:46.910Z"
   },
   {
    "duration": 1455,
    "start_time": "2023-07-20T21:20:04.091Z"
   },
   {
    "duration": 366,
    "start_time": "2023-07-20T21:20:05.548Z"
   },
   {
    "duration": 13,
    "start_time": "2023-07-20T21:20:05.916Z"
   },
   {
    "duration": 25,
    "start_time": "2023-07-20T21:20:05.931Z"
   },
   {
    "duration": 49,
    "start_time": "2023-07-20T21:20:05.958Z"
   },
   {
    "duration": 37,
    "start_time": "2023-07-20T21:20:06.014Z"
   },
   {
    "duration": 582,
    "start_time": "2023-07-20T21:20:06.052Z"
   },
   {
    "duration": 417,
    "start_time": "2023-07-20T21:20:06.635Z"
   },
   {
    "duration": 16,
    "start_time": "2023-07-20T21:20:07.054Z"
   },
   {
    "duration": 9,
    "start_time": "2023-07-20T21:20:07.071Z"
   },
   {
    "duration": 32,
    "start_time": "2023-07-20T21:20:07.081Z"
   },
   {
    "duration": 48,
    "start_time": "2023-07-20T21:20:07.115Z"
   },
   {
    "duration": 54,
    "start_time": "2023-07-20T21:20:07.166Z"
   },
   {
    "duration": 634,
    "start_time": "2023-07-20T21:20:07.223Z"
   },
   {
    "duration": 420,
    "start_time": "2023-07-20T21:20:07.858Z"
   },
   {
    "duration": 13,
    "start_time": "2023-07-20T21:20:08.280Z"
   },
   {
    "duration": 19,
    "start_time": "2023-07-20T21:20:08.295Z"
   },
   {
    "duration": 60,
    "start_time": "2023-07-20T21:20:08.315Z"
   },
   {
    "duration": 15,
    "start_time": "2023-07-20T21:20:08.377Z"
   },
   {
    "duration": 34,
    "start_time": "2023-07-20T21:20:08.393Z"
   },
   {
    "duration": 9,
    "start_time": "2023-07-20T21:20:08.428Z"
   },
   {
    "duration": 33,
    "start_time": "2023-07-20T21:20:08.438Z"
   },
   {
    "duration": 46,
    "start_time": "2023-07-20T21:20:08.473Z"
   },
   {
    "duration": 37,
    "start_time": "2023-07-20T21:20:08.521Z"
   },
   {
    "duration": 591,
    "start_time": "2023-07-20T21:20:08.559Z"
   },
   {
    "duration": 395,
    "start_time": "2023-07-20T21:20:09.152Z"
   },
   {
    "duration": 14,
    "start_time": "2023-07-20T21:20:09.549Z"
   },
   {
    "duration": 24,
    "start_time": "2023-07-20T21:20:09.564Z"
   },
   {
    "duration": 12,
    "start_time": "2023-07-20T21:20:09.590Z"
   },
   {
    "duration": 30,
    "start_time": "2023-07-20T21:20:09.604Z"
   },
   {
    "duration": 195,
    "start_time": "2023-07-20T21:20:09.636Z"
   },
   {
    "duration": 5,
    "start_time": "2023-07-20T21:20:50.586Z"
   },
   {
    "duration": 85,
    "start_time": "2023-07-20T21:20:54.230Z"
   },
   {
    "duration": 5,
    "start_time": "2023-07-20T21:21:12.297Z"
   },
   {
    "duration": 80,
    "start_time": "2023-07-20T21:21:14.235Z"
   },
   {
    "duration": 371,
    "start_time": "2023-07-20T21:23:07.748Z"
   },
   {
    "duration": 374,
    "start_time": "2023-07-20T21:23:47.651Z"
   },
   {
    "duration": 357,
    "start_time": "2023-07-20T21:25:13.274Z"
   },
   {
    "duration": 5,
    "start_time": "2023-07-20T21:25:24.933Z"
   },
   {
    "duration": 392,
    "start_time": "2023-07-20T21:26:34.129Z"
   },
   {
    "duration": 371,
    "start_time": "2023-07-20T21:27:15.663Z"
   },
   {
    "duration": 385,
    "start_time": "2023-07-20T21:27:20.340Z"
   },
   {
    "duration": 424,
    "start_time": "2023-07-20T21:27:25.707Z"
   },
   {
    "duration": 4,
    "start_time": "2023-07-20T21:29:10.135Z"
   },
   {
    "duration": 415,
    "start_time": "2023-07-20T21:29:16.102Z"
   },
   {
    "duration": 1434,
    "start_time": "2023-07-20T21:38:00.041Z"
   },
   {
    "duration": 397,
    "start_time": "2023-07-20T21:38:01.477Z"
   },
   {
    "duration": 16,
    "start_time": "2023-07-20T21:38:01.876Z"
   },
   {
    "duration": 44,
    "start_time": "2023-07-20T21:38:01.894Z"
   },
   {
    "duration": 152,
    "start_time": "2023-07-20T21:38:01.939Z"
   },
   {
    "duration": 59,
    "start_time": "2023-07-20T21:38:02.093Z"
   },
   {
    "duration": 648,
    "start_time": "2023-07-20T21:38:02.154Z"
   },
   {
    "duration": 450,
    "start_time": "2023-07-20T21:38:02.804Z"
   },
   {
    "duration": 16,
    "start_time": "2023-07-20T21:38:03.255Z"
   },
   {
    "duration": 15,
    "start_time": "2023-07-20T21:38:03.274Z"
   },
   {
    "duration": 33,
    "start_time": "2023-07-20T21:38:03.291Z"
   },
   {
    "duration": 47,
    "start_time": "2023-07-20T21:38:03.326Z"
   },
   {
    "duration": 59,
    "start_time": "2023-07-20T21:38:03.375Z"
   },
   {
    "duration": 719,
    "start_time": "2023-07-20T21:38:03.435Z"
   },
   {
    "duration": 428,
    "start_time": "2023-07-20T21:38:04.155Z"
   },
   {
    "duration": 14,
    "start_time": "2023-07-20T21:38:04.585Z"
   },
   {
    "duration": 7,
    "start_time": "2023-07-20T21:38:04.613Z"
   },
   {
    "duration": 75,
    "start_time": "2023-07-20T21:38:04.622Z"
   },
   {
    "duration": 29,
    "start_time": "2023-07-20T21:38:04.699Z"
   },
   {
    "duration": 15,
    "start_time": "2023-07-20T21:38:04.730Z"
   },
   {
    "duration": 10,
    "start_time": "2023-07-20T21:38:04.747Z"
   },
   {
    "duration": 33,
    "start_time": "2023-07-20T21:38:04.759Z"
   },
   {
    "duration": 58,
    "start_time": "2023-07-20T21:38:04.794Z"
   },
   {
    "duration": 38,
    "start_time": "2023-07-20T21:38:04.853Z"
   },
   {
    "duration": 622,
    "start_time": "2023-07-20T21:38:04.893Z"
   },
   {
    "duration": 416,
    "start_time": "2023-07-20T21:38:05.517Z"
   },
   {
    "duration": 14,
    "start_time": "2023-07-20T21:38:05.935Z"
   },
   {
    "duration": 37,
    "start_time": "2023-07-20T21:38:05.952Z"
   },
   {
    "duration": 25,
    "start_time": "2023-07-20T21:38:05.991Z"
   },
   {
    "duration": 38,
    "start_time": "2023-07-20T21:38:06.018Z"
   },
   {
    "duration": 470,
    "start_time": "2023-07-20T21:38:06.057Z"
   },
   {
    "duration": 601,
    "start_time": "2023-07-20T21:38:06.529Z"
   },
   {
    "duration": 1442,
    "start_time": "2023-07-20T21:39:22.421Z"
   },
   {
    "duration": 390,
    "start_time": "2023-07-20T21:39:23.865Z"
   },
   {
    "duration": 15,
    "start_time": "2023-07-20T21:39:24.257Z"
   },
   {
    "duration": 30,
    "start_time": "2023-07-20T21:39:24.274Z"
   },
   {
    "duration": 72,
    "start_time": "2023-07-20T21:39:24.306Z"
   },
   {
    "duration": 41,
    "start_time": "2023-07-20T21:39:24.380Z"
   },
   {
    "duration": 630,
    "start_time": "2023-07-20T21:39:24.423Z"
   },
   {
    "duration": 449,
    "start_time": "2023-07-20T21:39:25.055Z"
   },
   {
    "duration": 21,
    "start_time": "2023-07-20T21:39:25.506Z"
   },
   {
    "duration": 37,
    "start_time": "2023-07-20T21:39:25.530Z"
   },
   {
    "duration": 397,
    "start_time": "2023-07-20T21:39:25.569Z"
   },
   {
    "duration": 93,
    "start_time": "2023-07-20T21:39:25.968Z"
   },
   {
    "duration": 51,
    "start_time": "2023-07-20T21:39:26.063Z"
   },
   {
    "duration": 676,
    "start_time": "2023-07-20T21:39:26.116Z"
   },
   {
    "duration": 420,
    "start_time": "2023-07-20T21:39:26.795Z"
   },
   {
    "duration": 14,
    "start_time": "2023-07-20T21:39:27.218Z"
   },
   {
    "duration": 19,
    "start_time": "2023-07-20T21:39:27.234Z"
   },
   {
    "duration": 108,
    "start_time": "2023-07-20T21:39:27.255Z"
   },
   {
    "duration": 19,
    "start_time": "2023-07-20T21:39:27.365Z"
   },
   {
    "duration": 30,
    "start_time": "2023-07-20T21:39:27.387Z"
   },
   {
    "duration": 11,
    "start_time": "2023-07-20T21:39:27.419Z"
   },
   {
    "duration": 28,
    "start_time": "2023-07-20T21:39:27.432Z"
   },
   {
    "duration": 63,
    "start_time": "2023-07-20T21:39:27.462Z"
   },
   {
    "duration": 38,
    "start_time": "2023-07-20T21:39:27.527Z"
   },
   {
    "duration": 637,
    "start_time": "2023-07-20T21:39:27.567Z"
   },
   {
    "duration": 420,
    "start_time": "2023-07-20T21:39:28.206Z"
   },
   {
    "duration": 15,
    "start_time": "2023-07-20T21:39:28.628Z"
   },
   {
    "duration": 13,
    "start_time": "2023-07-20T21:39:28.646Z"
   },
   {
    "duration": 20,
    "start_time": "2023-07-20T21:39:28.661Z"
   },
   {
    "duration": 18,
    "start_time": "2023-07-20T21:39:28.683Z"
   },
   {
    "duration": 427,
    "start_time": "2023-07-20T21:39:28.703Z"
   },
   {
    "duration": 601,
    "start_time": "2023-07-20T21:39:29.132Z"
   },
   {
    "duration": 3,
    "start_time": "2023-07-20T21:40:00.292Z"
   },
   {
    "duration": 1435,
    "start_time": "2023-07-20T21:40:19.414Z"
   },
   {
    "duration": 383,
    "start_time": "2023-07-20T21:40:20.851Z"
   },
   {
    "duration": 14,
    "start_time": "2023-07-20T21:40:21.236Z"
   },
   {
    "duration": 25,
    "start_time": "2023-07-20T21:40:21.252Z"
   },
   {
    "duration": 63,
    "start_time": "2023-07-20T21:40:21.279Z"
   },
   {
    "duration": 42,
    "start_time": "2023-07-20T21:40:21.344Z"
   },
   {
    "duration": 618,
    "start_time": "2023-07-20T21:40:21.388Z"
   },
   {
    "duration": 415,
    "start_time": "2023-07-20T21:40:22.008Z"
   },
   {
    "duration": 16,
    "start_time": "2023-07-20T21:40:22.425Z"
   },
   {
    "duration": 48,
    "start_time": "2023-07-20T21:40:22.443Z"
   },
   {
    "duration": 32,
    "start_time": "2023-07-20T21:40:22.492Z"
   },
   {
    "duration": 44,
    "start_time": "2023-07-20T21:40:22.526Z"
   },
   {
    "duration": 51,
    "start_time": "2023-07-20T21:40:22.572Z"
   },
   {
    "duration": 656,
    "start_time": "2023-07-20T21:40:22.625Z"
   },
   {
    "duration": 439,
    "start_time": "2023-07-20T21:40:23.283Z"
   },
   {
    "duration": 14,
    "start_time": "2023-07-20T21:40:23.724Z"
   },
   {
    "duration": 6,
    "start_time": "2023-07-20T21:40:23.739Z"
   },
   {
    "duration": 93,
    "start_time": "2023-07-20T21:40:23.747Z"
   },
   {
    "duration": 18,
    "start_time": "2023-07-20T21:40:23.841Z"
   },
   {
    "duration": 31,
    "start_time": "2023-07-20T21:40:23.861Z"
   },
   {
    "duration": 12,
    "start_time": "2023-07-20T21:40:23.894Z"
   },
   {
    "duration": 32,
    "start_time": "2023-07-20T21:40:23.914Z"
   },
   {
    "duration": 48,
    "start_time": "2023-07-20T21:40:23.948Z"
   },
   {
    "duration": 47,
    "start_time": "2023-07-20T21:40:23.998Z"
   },
   {
    "duration": 602,
    "start_time": "2023-07-20T21:40:24.047Z"
   },
   {
    "duration": 399,
    "start_time": "2023-07-20T21:40:24.651Z"
   },
   {
    "duration": 15,
    "start_time": "2023-07-20T21:40:25.051Z"
   },
   {
    "duration": 16,
    "start_time": "2023-07-20T21:40:25.069Z"
   },
   {
    "duration": 42,
    "start_time": "2023-07-20T21:40:25.087Z"
   },
   {
    "duration": 28,
    "start_time": "2023-07-20T21:40:25.131Z"
   },
   {
    "duration": 467,
    "start_time": "2023-07-20T21:40:25.161Z"
   },
   {
    "duration": 590,
    "start_time": "2023-07-20T21:40:25.630Z"
   },
   {
    "duration": 6,
    "start_time": "2023-07-20T21:41:01.189Z"
   },
   {
    "duration": 401,
    "start_time": "2023-07-20T21:41:03.222Z"
   },
   {
    "duration": 363,
    "start_time": "2023-07-20T21:41:06.167Z"
   },
   {
    "duration": 34,
    "start_time": "2023-07-20T21:41:43.729Z"
   },
   {
    "duration": 129,
    "start_time": "2023-07-20T21:43:56.330Z"
   },
   {
    "duration": 3,
    "start_time": "2023-07-20T21:48:48.489Z"
   },
   {
    "duration": 155,
    "start_time": "2023-07-20T21:50:43.993Z"
   },
   {
    "duration": 3,
    "start_time": "2023-07-20T21:53:50.666Z"
   },
   {
    "duration": 5,
    "start_time": "2023-07-20T21:54:00.678Z"
   },
   {
    "duration": 162,
    "start_time": "2023-07-20T21:55:36.066Z"
   },
   {
    "duration": 127,
    "start_time": "2023-07-20T21:58:55.941Z"
   },
   {
    "duration": 3,
    "start_time": "2023-07-20T21:59:10.878Z"
   },
   {
    "duration": 8,
    "start_time": "2023-07-21T20:16:45.419Z"
   },
   {
    "duration": 1448,
    "start_time": "2023-07-21T20:16:50.417Z"
   },
   {
    "duration": 883,
    "start_time": "2023-07-21T20:16:51.866Z"
   },
   {
    "duration": 13,
    "start_time": "2023-07-21T20:16:52.751Z"
   },
   {
    "duration": 34,
    "start_time": "2023-07-21T20:16:52.766Z"
   },
   {
    "duration": 41,
    "start_time": "2023-07-21T20:16:52.802Z"
   },
   {
    "duration": 35,
    "start_time": "2023-07-21T20:16:52.844Z"
   },
   {
    "duration": 647,
    "start_time": "2023-07-21T20:16:52.880Z"
   },
   {
    "duration": 410,
    "start_time": "2023-07-21T20:16:53.529Z"
   },
   {
    "duration": 14,
    "start_time": "2023-07-21T20:16:53.940Z"
   },
   {
    "duration": 69,
    "start_time": "2023-07-21T20:16:53.955Z"
   },
   {
    "duration": 71,
    "start_time": "2023-07-21T20:16:54.025Z"
   },
   {
    "duration": 52,
    "start_time": "2023-07-21T20:16:54.097Z"
   },
   {
    "duration": 33,
    "start_time": "2023-07-21T20:16:54.150Z"
   },
   {
    "duration": 655,
    "start_time": "2023-07-21T20:16:54.187Z"
   },
   {
    "duration": 442,
    "start_time": "2023-07-21T20:16:54.843Z"
   },
   {
    "duration": 12,
    "start_time": "2023-07-21T20:16:55.286Z"
   },
   {
    "duration": 15,
    "start_time": "2023-07-21T20:16:55.300Z"
   },
   {
    "duration": 71,
    "start_time": "2023-07-21T20:16:55.317Z"
   },
   {
    "duration": 14,
    "start_time": "2023-07-21T20:16:55.390Z"
   },
   {
    "duration": 27,
    "start_time": "2023-07-21T20:16:55.405Z"
   },
   {
    "duration": 11,
    "start_time": "2023-07-21T20:16:55.433Z"
   },
   {
    "duration": 43,
    "start_time": "2023-07-21T20:16:55.445Z"
   },
   {
    "duration": 48,
    "start_time": "2023-07-21T20:16:55.490Z"
   },
   {
    "duration": 41,
    "start_time": "2023-07-21T20:16:55.540Z"
   },
   {
    "duration": 581,
    "start_time": "2023-07-21T20:16:55.583Z"
   },
   {
    "duration": 367,
    "start_time": "2023-07-21T20:16:56.166Z"
   },
   {
    "duration": 13,
    "start_time": "2023-07-21T20:16:56.535Z"
   },
   {
    "duration": 11,
    "start_time": "2023-07-21T20:16:56.549Z"
   },
   {
    "duration": 16,
    "start_time": "2023-07-21T20:16:56.561Z"
   },
   {
    "duration": 15,
    "start_time": "2023-07-21T20:16:56.579Z"
   },
   {
    "duration": 450,
    "start_time": "2023-07-21T20:16:56.596Z"
   },
   {
    "duration": 591,
    "start_time": "2023-07-21T20:16:57.048Z"
   },
   {
    "duration": 4,
    "start_time": "2023-07-21T20:16:57.641Z"
   },
   {
    "duration": 2,
    "start_time": "2023-07-21T20:19:19.723Z"
   },
   {
    "duration": 4,
    "start_time": "2023-07-21T20:19:35.252Z"
   },
   {
    "duration": 4,
    "start_time": "2023-07-21T20:21:03.933Z"
   },
   {
    "duration": 2,
    "start_time": "2023-07-21T20:21:26.066Z"
   },
   {
    "duration": 4,
    "start_time": "2023-07-21T20:21:33.446Z"
   },
   {
    "duration": 4,
    "start_time": "2023-07-21T20:23:48.139Z"
   },
   {
    "duration": 4,
    "start_time": "2023-07-21T20:23:55.076Z"
   },
   {
    "duration": 5,
    "start_time": "2023-07-21T20:24:03.224Z"
   },
   {
    "duration": 1285,
    "start_time": "2023-07-21T20:31:17.654Z"
   },
   {
    "duration": 353,
    "start_time": "2023-07-21T20:31:18.941Z"
   },
   {
    "duration": 13,
    "start_time": "2023-07-21T20:31:19.296Z"
   },
   {
    "duration": 125,
    "start_time": "2023-07-21T20:31:19.310Z"
   },
   {
    "duration": 0,
    "start_time": "2023-07-21T20:31:19.438Z"
   },
   {
    "duration": 0,
    "start_time": "2023-07-21T20:31:19.439Z"
   },
   {
    "duration": 0,
    "start_time": "2023-07-21T20:31:19.440Z"
   },
   {
    "duration": 0,
    "start_time": "2023-07-21T20:31:19.441Z"
   },
   {
    "duration": 0,
    "start_time": "2023-07-21T20:31:19.442Z"
   },
   {
    "duration": 0,
    "start_time": "2023-07-21T20:31:19.443Z"
   },
   {
    "duration": 0,
    "start_time": "2023-07-21T20:31:19.444Z"
   },
   {
    "duration": 0,
    "start_time": "2023-07-21T20:31:19.445Z"
   },
   {
    "duration": 0,
    "start_time": "2023-07-21T20:31:19.446Z"
   },
   {
    "duration": 0,
    "start_time": "2023-07-21T20:31:19.447Z"
   },
   {
    "duration": 0,
    "start_time": "2023-07-21T20:31:19.448Z"
   },
   {
    "duration": 0,
    "start_time": "2023-07-21T20:31:19.449Z"
   },
   {
    "duration": 0,
    "start_time": "2023-07-21T20:31:19.450Z"
   },
   {
    "duration": 0,
    "start_time": "2023-07-21T20:31:19.451Z"
   },
   {
    "duration": 0,
    "start_time": "2023-07-21T20:31:19.451Z"
   },
   {
    "duration": 0,
    "start_time": "2023-07-21T20:31:19.452Z"
   },
   {
    "duration": 0,
    "start_time": "2023-07-21T20:31:19.453Z"
   },
   {
    "duration": 0,
    "start_time": "2023-07-21T20:31:19.454Z"
   },
   {
    "duration": 0,
    "start_time": "2023-07-21T20:31:19.455Z"
   },
   {
    "duration": 0,
    "start_time": "2023-07-21T20:31:19.456Z"
   },
   {
    "duration": 0,
    "start_time": "2023-07-21T20:31:19.457Z"
   },
   {
    "duration": 0,
    "start_time": "2023-07-21T20:31:19.458Z"
   },
   {
    "duration": 0,
    "start_time": "2023-07-21T20:31:19.459Z"
   },
   {
    "duration": 0,
    "start_time": "2023-07-21T20:31:19.460Z"
   },
   {
    "duration": 0,
    "start_time": "2023-07-21T20:31:19.461Z"
   },
   {
    "duration": 0,
    "start_time": "2023-07-21T20:31:19.462Z"
   },
   {
    "duration": 0,
    "start_time": "2023-07-21T20:31:19.463Z"
   },
   {
    "duration": 0,
    "start_time": "2023-07-21T20:31:19.464Z"
   },
   {
    "duration": 0,
    "start_time": "2023-07-21T20:31:19.465Z"
   },
   {
    "duration": 0,
    "start_time": "2023-07-21T20:31:19.466Z"
   },
   {
    "duration": 0,
    "start_time": "2023-07-21T20:31:19.466Z"
   },
   {
    "duration": 0,
    "start_time": "2023-07-21T20:31:19.468Z"
   },
   {
    "duration": 0,
    "start_time": "2023-07-21T20:31:19.468Z"
   },
   {
    "duration": 0,
    "start_time": "2023-07-21T20:31:19.469Z"
   },
   {
    "duration": 0,
    "start_time": "2023-07-21T20:31:19.470Z"
   },
   {
    "duration": 0,
    "start_time": "2023-07-21T20:31:19.471Z"
   },
   {
    "duration": 15,
    "start_time": "2023-07-21T20:32:07.607Z"
   },
   {
    "duration": 1327,
    "start_time": "2023-07-21T20:32:17.900Z"
   },
   {
    "duration": 372,
    "start_time": "2023-07-21T20:32:19.229Z"
   },
   {
    "duration": 12,
    "start_time": "2023-07-21T20:32:19.602Z"
   },
   {
    "duration": 26,
    "start_time": "2023-07-21T20:32:19.616Z"
   },
   {
    "duration": 44,
    "start_time": "2023-07-21T20:32:19.644Z"
   },
   {
    "duration": 48,
    "start_time": "2023-07-21T20:32:19.689Z"
   },
   {
    "duration": 568,
    "start_time": "2023-07-21T20:32:19.738Z"
   },
   {
    "duration": 362,
    "start_time": "2023-07-21T20:32:20.307Z"
   },
   {
    "duration": 13,
    "start_time": "2023-07-21T20:32:20.671Z"
   },
   {
    "duration": 109,
    "start_time": "2023-07-21T20:32:20.686Z"
   },
   {
    "duration": 44,
    "start_time": "2023-07-21T20:32:20.797Z"
   },
   {
    "duration": 45,
    "start_time": "2023-07-21T20:32:20.842Z"
   },
   {
    "duration": 31,
    "start_time": "2023-07-21T20:32:20.889Z"
   },
   {
    "duration": 614,
    "start_time": "2023-07-21T20:32:20.922Z"
   },
   {
    "duration": 383,
    "start_time": "2023-07-21T20:32:21.538Z"
   },
   {
    "duration": 17,
    "start_time": "2023-07-21T20:32:21.922Z"
   },
   {
    "duration": 6,
    "start_time": "2023-07-21T20:32:21.941Z"
   },
   {
    "duration": 70,
    "start_time": "2023-07-21T20:32:21.948Z"
   },
   {
    "duration": 22,
    "start_time": "2023-07-21T20:32:22.019Z"
   },
   {
    "duration": 14,
    "start_time": "2023-07-21T20:32:22.042Z"
   },
   {
    "duration": 10,
    "start_time": "2023-07-21T20:32:22.057Z"
   },
   {
    "duration": 28,
    "start_time": "2023-07-21T20:32:22.068Z"
   },
   {
    "duration": 45,
    "start_time": "2023-07-21T20:32:22.097Z"
   },
   {
    "duration": 33,
    "start_time": "2023-07-21T20:32:22.144Z"
   },
   {
    "duration": 559,
    "start_time": "2023-07-21T20:32:22.179Z"
   },
   {
    "duration": 357,
    "start_time": "2023-07-21T20:32:22.740Z"
   },
   {
    "duration": 15,
    "start_time": "2023-07-21T20:32:23.099Z"
   },
   {
    "duration": 48,
    "start_time": "2023-07-21T20:32:23.118Z"
   },
   {
    "duration": 14,
    "start_time": "2023-07-21T20:32:23.168Z"
   },
   {
    "duration": 14,
    "start_time": "2023-07-21T20:32:23.183Z"
   },
   {
    "duration": 447,
    "start_time": "2023-07-21T20:32:23.199Z"
   },
   {
    "duration": 592,
    "start_time": "2023-07-21T20:32:23.648Z"
   },
   {
    "duration": 92,
    "start_time": "2023-07-21T20:32:24.242Z"
   },
   {
    "duration": 168,
    "start_time": "2023-07-21T20:32:24.336Z"
   },
   {
    "duration": 20,
    "start_time": "2023-07-21T20:32:24.505Z"
   },
   {
    "duration": 23,
    "start_time": "2023-07-21T20:32:24.526Z"
   },
   {
    "duration": 34,
    "start_time": "2023-07-21T20:32:24.551Z"
   },
   {
    "duration": 14,
    "start_time": "2023-07-21T20:32:24.587Z"
   },
   {
    "duration": 9,
    "start_time": "2023-07-21T20:32:24.603Z"
   },
   {
    "duration": 1297,
    "start_time": "2023-07-21T21:00:58.441Z"
   },
   {
    "duration": 382,
    "start_time": "2023-07-21T21:00:59.740Z"
   },
   {
    "duration": 14,
    "start_time": "2023-07-21T21:01:00.124Z"
   },
   {
    "duration": 80,
    "start_time": "2023-07-21T21:01:00.139Z"
   },
   {
    "duration": 94,
    "start_time": "2023-07-21T21:01:00.221Z"
   },
   {
    "duration": 42,
    "start_time": "2023-07-21T21:01:00.317Z"
   },
   {
    "duration": 722,
    "start_time": "2023-07-21T21:01:00.361Z"
   },
   {
    "duration": 395,
    "start_time": "2023-07-21T21:01:01.084Z"
   },
   {
    "duration": 14,
    "start_time": "2023-07-21T21:01:01.481Z"
   },
   {
    "duration": 216,
    "start_time": "2023-07-21T21:01:01.497Z"
   },
   {
    "duration": 613,
    "start_time": "2023-07-21T21:01:01.714Z"
   },
   {
    "duration": 187,
    "start_time": "2023-07-21T21:01:02.329Z"
   },
   {
    "duration": 34,
    "start_time": "2023-07-21T21:01:02.518Z"
   },
   {
    "duration": 1025,
    "start_time": "2023-07-21T21:01:02.554Z"
   },
   {
    "duration": 378,
    "start_time": "2023-07-21T21:01:03.580Z"
   },
   {
    "duration": 12,
    "start_time": "2023-07-21T21:01:03.960Z"
   },
   {
    "duration": 98,
    "start_time": "2023-07-21T21:01:03.973Z"
   },
   {
    "duration": 80,
    "start_time": "2023-07-21T21:01:04.072Z"
   },
   {
    "duration": 14,
    "start_time": "2023-07-21T21:01:04.153Z"
   },
   {
    "duration": 14,
    "start_time": "2023-07-21T21:01:04.168Z"
   },
   {
    "duration": 43,
    "start_time": "2023-07-21T21:01:04.183Z"
   },
   {
    "duration": 40,
    "start_time": "2023-07-21T21:01:04.228Z"
   },
   {
    "duration": 98,
    "start_time": "2023-07-21T21:01:04.270Z"
   },
   {
    "duration": 32,
    "start_time": "2023-07-21T21:01:04.370Z"
   },
   {
    "duration": 627,
    "start_time": "2023-07-21T21:01:04.404Z"
   },
   {
    "duration": 393,
    "start_time": "2023-07-21T21:01:05.033Z"
   },
   {
    "duration": 14,
    "start_time": "2023-07-21T21:01:05.432Z"
   },
   {
    "duration": 22,
    "start_time": "2023-07-21T21:01:05.448Z"
   },
   {
    "duration": 13,
    "start_time": "2023-07-21T21:01:05.472Z"
   },
   {
    "duration": 26,
    "start_time": "2023-07-21T21:01:05.487Z"
   },
   {
    "duration": 434,
    "start_time": "2023-07-21T21:01:05.515Z"
   },
   {
    "duration": 3,
    "start_time": "2023-07-21T21:01:05.951Z"
   },
   {
    "duration": 177,
    "start_time": "2023-07-21T21:01:05.956Z"
   },
   {
    "duration": 22,
    "start_time": "2023-07-21T21:01:06.135Z"
   },
   {
    "duration": 31,
    "start_time": "2023-07-21T21:01:06.159Z"
   },
   {
    "duration": 57,
    "start_time": "2023-07-21T21:01:06.192Z"
   },
   {
    "duration": 49,
    "start_time": "2023-07-21T21:01:06.251Z"
   },
   {
    "duration": 24,
    "start_time": "2023-07-21T21:01:06.302Z"
   },
   {
    "duration": 16,
    "start_time": "2023-07-21T21:01:06.328Z"
   },
   {
    "duration": 3,
    "start_time": "2023-07-21T21:04:33.825Z"
   },
   {
    "duration": 1556,
    "start_time": "2023-07-22T12:26:39.133Z"
   },
   {
    "duration": 792,
    "start_time": "2023-07-22T12:26:40.691Z"
   },
   {
    "duration": 15,
    "start_time": "2023-07-22T12:26:41.485Z"
   },
   {
    "duration": 24,
    "start_time": "2023-07-22T12:26:41.502Z"
   },
   {
    "duration": 47,
    "start_time": "2023-07-22T12:26:41.527Z"
   },
   {
    "duration": 40,
    "start_time": "2023-07-22T12:26:41.576Z"
   },
   {
    "duration": 670,
    "start_time": "2023-07-22T12:26:41.632Z"
   },
   {
    "duration": 430,
    "start_time": "2023-07-22T12:26:42.304Z"
   },
   {
    "duration": 15,
    "start_time": "2023-07-22T12:26:42.735Z"
   },
   {
    "duration": 9,
    "start_time": "2023-07-22T12:26:42.753Z"
   },
   {
    "duration": 31,
    "start_time": "2023-07-22T12:26:42.764Z"
   },
   {
    "duration": 52,
    "start_time": "2023-07-22T12:26:42.797Z"
   },
   {
    "duration": 38,
    "start_time": "2023-07-22T12:26:42.850Z"
   },
   {
    "duration": 660,
    "start_time": "2023-07-22T12:26:42.889Z"
   },
   {
    "duration": 395,
    "start_time": "2023-07-22T12:26:43.550Z"
   },
   {
    "duration": 14,
    "start_time": "2023-07-22T12:26:43.946Z"
   },
   {
    "duration": 6,
    "start_time": "2023-07-22T12:26:43.961Z"
   },
   {
    "duration": 87,
    "start_time": "2023-07-22T12:26:43.969Z"
   },
   {
    "duration": 14,
    "start_time": "2023-07-22T12:26:44.058Z"
   },
   {
    "duration": 18,
    "start_time": "2023-07-22T12:26:44.073Z"
   },
   {
    "duration": 11,
    "start_time": "2023-07-22T12:26:44.093Z"
   },
   {
    "duration": 18,
    "start_time": "2023-07-22T12:26:44.133Z"
   },
   {
    "duration": 48,
    "start_time": "2023-07-22T12:26:44.153Z"
   },
   {
    "duration": 65,
    "start_time": "2023-07-22T12:26:44.203Z"
   },
   {
    "duration": 672,
    "start_time": "2023-07-22T12:26:44.269Z"
   },
   {
    "duration": 505,
    "start_time": "2023-07-22T12:26:44.943Z"
   },
   {
    "duration": 19,
    "start_time": "2023-07-22T12:26:45.449Z"
   },
   {
    "duration": 10,
    "start_time": "2023-07-22T12:26:45.472Z"
   },
   {
    "duration": 8,
    "start_time": "2023-07-22T12:26:45.484Z"
   },
   {
    "duration": 9,
    "start_time": "2023-07-22T12:26:45.494Z"
   },
   {
    "duration": 531,
    "start_time": "2023-07-22T12:26:45.504Z"
   },
   {
    "duration": 88,
    "start_time": "2023-07-22T12:26:46.043Z"
   },
   {
    "duration": 13,
    "start_time": "2023-07-22T12:26:46.133Z"
   },
   {
    "duration": 16,
    "start_time": "2023-07-22T12:26:46.148Z"
   },
   {
    "duration": 27,
    "start_time": "2023-07-22T12:26:46.168Z"
   },
   {
    "duration": 37,
    "start_time": "2023-07-22T12:26:46.197Z"
   },
   {
    "duration": 37,
    "start_time": "2023-07-22T12:26:46.237Z"
   },
   {
    "duration": 13,
    "start_time": "2023-07-22T12:26:46.276Z"
   },
   {
    "duration": 8,
    "start_time": "2023-07-22T12:26:46.290Z"
   },
   {
    "duration": 3,
    "start_time": "2023-07-22T12:32:48.793Z"
   },
   {
    "duration": 7,
    "start_time": "2023-07-22T12:33:20.090Z"
   },
   {
    "duration": 3,
    "start_time": "2023-07-22T12:34:51.637Z"
   },
   {
    "duration": 7,
    "start_time": "2023-07-22T12:34:54.203Z"
   },
   {
    "duration": 3,
    "start_time": "2023-07-22T12:35:02.508Z"
   },
   {
    "duration": 9,
    "start_time": "2023-07-22T12:35:04.540Z"
   },
   {
    "duration": 1296,
    "start_time": "2023-07-22T12:39:34.619Z"
   },
   {
    "duration": 343,
    "start_time": "2023-07-22T12:39:35.917Z"
   },
   {
    "duration": 13,
    "start_time": "2023-07-22T12:39:36.262Z"
   },
   {
    "duration": 14,
    "start_time": "2023-07-22T12:39:36.277Z"
   },
   {
    "duration": 61,
    "start_time": "2023-07-22T12:39:36.293Z"
   },
   {
    "duration": 35,
    "start_time": "2023-07-22T12:39:36.356Z"
   },
   {
    "duration": 555,
    "start_time": "2023-07-22T12:39:36.392Z"
   },
   {
    "duration": 372,
    "start_time": "2023-07-22T12:39:36.948Z"
   },
   {
    "duration": 18,
    "start_time": "2023-07-22T12:39:37.321Z"
   },
   {
    "duration": 7,
    "start_time": "2023-07-22T12:39:37.341Z"
   },
   {
    "duration": 27,
    "start_time": "2023-07-22T12:39:37.350Z"
   },
   {
    "duration": 38,
    "start_time": "2023-07-22T12:39:37.378Z"
   },
   {
    "duration": 44,
    "start_time": "2023-07-22T12:39:37.417Z"
   },
   {
    "duration": 644,
    "start_time": "2023-07-22T12:39:37.463Z"
   },
   {
    "duration": 380,
    "start_time": "2023-07-22T12:39:38.108Z"
   },
   {
    "duration": 14,
    "start_time": "2023-07-22T12:39:38.490Z"
   },
   {
    "duration": 25,
    "start_time": "2023-07-22T12:39:38.506Z"
   },
   {
    "duration": 54,
    "start_time": "2023-07-22T12:39:38.533Z"
   },
   {
    "duration": 26,
    "start_time": "2023-07-22T12:39:38.589Z"
   },
   {
    "duration": 23,
    "start_time": "2023-07-22T12:39:38.617Z"
   },
   {
    "duration": 8,
    "start_time": "2023-07-22T12:39:38.641Z"
   },
   {
    "duration": 16,
    "start_time": "2023-07-22T12:39:38.651Z"
   },
   {
    "duration": 43,
    "start_time": "2023-07-22T12:39:38.668Z"
   },
   {
    "duration": 33,
    "start_time": "2023-07-22T12:39:38.732Z"
   },
   {
    "duration": 558,
    "start_time": "2023-07-22T12:39:38.766Z"
   },
   {
    "duration": 375,
    "start_time": "2023-07-22T12:39:39.325Z"
   },
   {
    "duration": 14,
    "start_time": "2023-07-22T12:39:39.702Z"
   },
   {
    "duration": 8,
    "start_time": "2023-07-22T12:39:39.732Z"
   },
   {
    "duration": 7,
    "start_time": "2023-07-22T12:39:39.742Z"
   },
   {
    "duration": 6,
    "start_time": "2023-07-22T12:39:39.751Z"
   },
   {
    "duration": 383,
    "start_time": "2023-07-22T12:39:39.759Z"
   },
   {
    "duration": 88,
    "start_time": "2023-07-22T12:39:40.144Z"
   },
   {
    "duration": 103,
    "start_time": "2023-07-22T12:39:40.234Z"
   },
   {
    "duration": 6,
    "start_time": "2023-07-22T12:39:40.339Z"
   },
   {
    "duration": 6,
    "start_time": "2023-07-22T12:39:40.346Z"
   },
   {
    "duration": 42,
    "start_time": "2023-07-22T12:39:40.353Z"
   },
   {
    "duration": 15,
    "start_time": "2023-07-22T12:39:40.397Z"
   },
   {
    "duration": 6,
    "start_time": "2023-07-22T12:39:40.413Z"
   },
   {
    "duration": 8,
    "start_time": "2023-07-22T12:39:40.420Z"
   },
   {
    "duration": 5,
    "start_time": "2023-07-22T12:39:40.429Z"
   },
   {
    "duration": 97,
    "start_time": "2023-07-22T12:41:48.401Z"
   },
   {
    "duration": 1299,
    "start_time": "2023-07-22T12:41:53.847Z"
   },
   {
    "duration": 352,
    "start_time": "2023-07-22T12:41:55.148Z"
   },
   {
    "duration": 13,
    "start_time": "2023-07-22T12:41:55.502Z"
   },
   {
    "duration": 25,
    "start_time": "2023-07-22T12:41:55.517Z"
   },
   {
    "duration": 43,
    "start_time": "2023-07-22T12:41:55.544Z"
   },
   {
    "duration": 52,
    "start_time": "2023-07-22T12:41:55.588Z"
   },
   {
    "duration": 565,
    "start_time": "2023-07-22T12:41:55.642Z"
   },
   {
    "duration": 370,
    "start_time": "2023-07-22T12:41:56.209Z"
   },
   {
    "duration": 13,
    "start_time": "2023-07-22T12:41:56.580Z"
   },
   {
    "duration": 16,
    "start_time": "2023-07-22T12:41:56.596Z"
   },
   {
    "duration": 25,
    "start_time": "2023-07-22T12:41:56.613Z"
   },
   {
    "duration": 41,
    "start_time": "2023-07-22T12:41:56.640Z"
   },
   {
    "duration": 32,
    "start_time": "2023-07-22T12:41:56.683Z"
   },
   {
    "duration": 643,
    "start_time": "2023-07-22T12:41:56.716Z"
   },
   {
    "duration": 372,
    "start_time": "2023-07-22T12:41:57.360Z"
   },
   {
    "duration": 13,
    "start_time": "2023-07-22T12:41:57.733Z"
   },
   {
    "duration": 11,
    "start_time": "2023-07-22T12:41:57.747Z"
   },
   {
    "duration": 95,
    "start_time": "2023-07-22T12:41:57.760Z"
   },
   {
    "duration": 15,
    "start_time": "2023-07-22T12:41:57.857Z"
   },
   {
    "duration": 28,
    "start_time": "2023-07-22T12:41:57.873Z"
   },
   {
    "duration": 11,
    "start_time": "2023-07-22T12:41:57.902Z"
   },
   {
    "duration": 25,
    "start_time": "2023-07-22T12:41:57.915Z"
   },
   {
    "duration": 43,
    "start_time": "2023-07-22T12:41:57.941Z"
   },
   {
    "duration": 46,
    "start_time": "2023-07-22T12:41:57.986Z"
   },
   {
    "duration": 558,
    "start_time": "2023-07-22T12:41:58.034Z"
   },
   {
    "duration": 362,
    "start_time": "2023-07-22T12:41:58.593Z"
   },
   {
    "duration": 12,
    "start_time": "2023-07-22T12:41:58.957Z"
   },
   {
    "duration": 9,
    "start_time": "2023-07-22T12:41:58.972Z"
   },
   {
    "duration": 7,
    "start_time": "2023-07-22T12:41:58.982Z"
   },
   {
    "duration": 9,
    "start_time": "2023-07-22T12:41:58.990Z"
   },
   {
    "duration": 437,
    "start_time": "2023-07-22T12:41:59.001Z"
   },
   {
    "duration": 93,
    "start_time": "2023-07-22T12:41:59.440Z"
   },
   {
    "duration": 177,
    "start_time": "2023-07-22T12:41:59.535Z"
   },
   {
    "duration": 11,
    "start_time": "2023-07-22T12:41:59.714Z"
   },
   {
    "duration": 6,
    "start_time": "2023-07-22T12:41:59.727Z"
   },
   {
    "duration": 13,
    "start_time": "2023-07-22T12:41:59.735Z"
   },
   {
    "duration": 13,
    "start_time": "2023-07-22T12:41:59.750Z"
   },
   {
    "duration": 67,
    "start_time": "2023-07-22T12:41:59.765Z"
   },
   {
    "duration": 47,
    "start_time": "2023-07-22T12:41:59.834Z"
   },
   {
    "duration": 88,
    "start_time": "2023-07-22T12:41:59.883Z"
   },
   {
    "duration": 14,
    "start_time": "2023-07-22T12:41:59.973Z"
   },
   {
    "duration": 131,
    "start_time": "2023-07-22T12:41:59.989Z"
   },
   {
    "duration": 2,
    "start_time": "2023-07-22T13:02:28.847Z"
   },
   {
    "duration": 83,
    "start_time": "2023-07-22T13:38:08.062Z"
   },
   {
    "duration": 5,
    "start_time": "2023-07-22T13:39:15.965Z"
   },
   {
    "duration": 1060,
    "start_time": "2023-07-22T13:40:39.646Z"
   },
   {
    "duration": 1209,
    "start_time": "2023-07-22T13:41:14.126Z"
   },
   {
    "duration": 1066,
    "start_time": "2023-07-22T13:41:28.951Z"
   },
   {
    "duration": 1451,
    "start_time": "2023-07-22T13:42:06.767Z"
   },
   {
    "duration": 374,
    "start_time": "2023-07-22T13:42:08.219Z"
   },
   {
    "duration": 12,
    "start_time": "2023-07-22T13:42:08.595Z"
   },
   {
    "duration": 35,
    "start_time": "2023-07-22T13:42:08.608Z"
   },
   {
    "duration": 58,
    "start_time": "2023-07-22T13:42:08.644Z"
   },
   {
    "duration": 48,
    "start_time": "2023-07-22T13:42:08.704Z"
   },
   {
    "duration": 613,
    "start_time": "2023-07-22T13:42:08.755Z"
   },
   {
    "duration": 414,
    "start_time": "2023-07-22T13:42:09.370Z"
   },
   {
    "duration": 15,
    "start_time": "2023-07-22T13:42:09.785Z"
   },
   {
    "duration": 30,
    "start_time": "2023-07-22T13:42:09.802Z"
   },
   {
    "duration": 26,
    "start_time": "2023-07-22T13:42:09.833Z"
   },
   {
    "duration": 49,
    "start_time": "2023-07-22T13:42:09.861Z"
   },
   {
    "duration": 42,
    "start_time": "2023-07-22T13:42:09.913Z"
   },
   {
    "duration": 606,
    "start_time": "2023-07-22T13:42:09.957Z"
   },
   {
    "duration": 376,
    "start_time": "2023-07-22T13:42:10.564Z"
   },
   {
    "duration": 14,
    "start_time": "2023-07-22T13:42:10.941Z"
   },
   {
    "duration": 164,
    "start_time": "2023-07-22T13:42:10.956Z"
   },
   {
    "duration": 180,
    "start_time": "2023-07-22T13:42:11.122Z"
   },
   {
    "duration": 22,
    "start_time": "2023-07-22T13:42:11.304Z"
   },
   {
    "duration": 28,
    "start_time": "2023-07-22T13:42:11.328Z"
   },
   {
    "duration": 22,
    "start_time": "2023-07-22T13:42:11.358Z"
   },
   {
    "duration": 32,
    "start_time": "2023-07-22T13:42:11.382Z"
   },
   {
    "duration": 51,
    "start_time": "2023-07-22T13:42:11.416Z"
   },
   {
    "duration": 35,
    "start_time": "2023-07-22T13:42:11.469Z"
   },
   {
    "duration": 611,
    "start_time": "2023-07-22T13:42:11.506Z"
   },
   {
    "duration": 428,
    "start_time": "2023-07-22T13:42:12.118Z"
   },
   {
    "duration": 15,
    "start_time": "2023-07-22T13:42:12.548Z"
   },
   {
    "duration": 14,
    "start_time": "2023-07-22T13:42:12.566Z"
   },
   {
    "duration": 42,
    "start_time": "2023-07-22T13:42:12.581Z"
   },
   {
    "duration": 21,
    "start_time": "2023-07-22T13:42:12.625Z"
   },
   {
    "duration": 406,
    "start_time": "2023-07-22T13:42:12.648Z"
   },
   {
    "duration": 76,
    "start_time": "2023-07-22T13:42:13.057Z"
   },
   {
    "duration": 99,
    "start_time": "2023-07-22T13:42:13.136Z"
   },
   {
    "duration": 6,
    "start_time": "2023-07-22T13:42:13.237Z"
   },
   {
    "duration": 7,
    "start_time": "2023-07-22T13:42:13.244Z"
   },
   {
    "duration": 7,
    "start_time": "2023-07-22T13:42:13.253Z"
   },
   {
    "duration": 6,
    "start_time": "2023-07-22T13:42:13.261Z"
   },
   {
    "duration": 6,
    "start_time": "2023-07-22T13:42:13.269Z"
   },
   {
    "duration": 6,
    "start_time": "2023-07-22T13:42:13.276Z"
   },
   {
    "duration": 15,
    "start_time": "2023-07-22T13:42:13.283Z"
   },
   {
    "duration": 8,
    "start_time": "2023-07-22T13:42:13.300Z"
   },
   {
    "duration": 6,
    "start_time": "2023-07-22T13:42:13.309Z"
   },
   {
    "duration": 1221,
    "start_time": "2023-07-22T13:42:13.332Z"
   },
   {
    "duration": 1217,
    "start_time": "2023-07-22T13:42:14.555Z"
   },
   {
    "duration": 1033,
    "start_time": "2023-07-22T13:42:15.774Z"
   },
   {
    "duration": 1267,
    "start_time": "2023-07-22T13:46:17.584Z"
   },
   {
    "duration": 372,
    "start_time": "2023-07-22T13:46:18.853Z"
   },
   {
    "duration": 13,
    "start_time": "2023-07-22T13:46:19.226Z"
   },
   {
    "duration": 24,
    "start_time": "2023-07-22T13:46:19.241Z"
   },
   {
    "duration": 43,
    "start_time": "2023-07-22T13:46:19.267Z"
   },
   {
    "duration": 48,
    "start_time": "2023-07-22T13:46:19.311Z"
   },
   {
    "duration": 559,
    "start_time": "2023-07-22T13:46:19.360Z"
   },
   {
    "duration": 377,
    "start_time": "2023-07-22T13:46:19.921Z"
   },
   {
    "duration": 14,
    "start_time": "2023-07-22T13:46:20.299Z"
   },
   {
    "duration": 21,
    "start_time": "2023-07-22T13:46:20.316Z"
   },
   {
    "duration": 16,
    "start_time": "2023-07-22T13:46:20.338Z"
   },
   {
    "duration": 38,
    "start_time": "2023-07-22T13:46:20.355Z"
   },
   {
    "duration": 49,
    "start_time": "2023-07-22T13:46:20.395Z"
   },
   {
    "duration": 621,
    "start_time": "2023-07-22T13:46:20.446Z"
   },
   {
    "duration": 379,
    "start_time": "2023-07-22T13:46:21.069Z"
   },
   {
    "duration": 13,
    "start_time": "2023-07-22T13:46:21.450Z"
   },
   {
    "duration": 6,
    "start_time": "2023-07-22T13:46:21.464Z"
   },
   {
    "duration": 84,
    "start_time": "2023-07-22T13:46:21.471Z"
   },
   {
    "duration": 14,
    "start_time": "2023-07-22T13:46:21.556Z"
   },
   {
    "duration": 14,
    "start_time": "2023-07-22T13:46:21.571Z"
   },
   {
    "duration": 7,
    "start_time": "2023-07-22T13:46:21.586Z"
   },
   {
    "duration": 37,
    "start_time": "2023-07-22T13:46:21.595Z"
   },
   {
    "duration": 41,
    "start_time": "2023-07-22T13:46:21.634Z"
   },
   {
    "duration": 34,
    "start_time": "2023-07-22T13:46:21.676Z"
   },
   {
    "duration": 570,
    "start_time": "2023-07-22T13:46:21.712Z"
   },
   {
    "duration": 366,
    "start_time": "2023-07-22T13:46:22.283Z"
   },
   {
    "duration": 13,
    "start_time": "2023-07-22T13:46:22.651Z"
   },
   {
    "duration": 9,
    "start_time": "2023-07-22T13:46:22.667Z"
   },
   {
    "duration": 10,
    "start_time": "2023-07-22T13:46:22.678Z"
   },
   {
    "duration": 11,
    "start_time": "2023-07-22T13:46:22.690Z"
   },
   {
    "duration": 452,
    "start_time": "2023-07-22T13:46:22.702Z"
   },
   {
    "duration": 77,
    "start_time": "2023-07-22T13:46:23.156Z"
   },
   {
    "duration": 105,
    "start_time": "2023-07-22T13:46:23.236Z"
   },
   {
    "duration": 9,
    "start_time": "2023-07-22T13:46:23.343Z"
   },
   {
    "duration": 12,
    "start_time": "2023-07-22T13:46:23.354Z"
   },
   {
    "duration": 7,
    "start_time": "2023-07-22T13:46:23.367Z"
   },
   {
    "duration": 12,
    "start_time": "2023-07-22T13:46:23.375Z"
   },
   {
    "duration": 11,
    "start_time": "2023-07-22T13:46:23.388Z"
   },
   {
    "duration": 8,
    "start_time": "2023-07-22T13:46:23.400Z"
   },
   {
    "duration": 13,
    "start_time": "2023-07-22T13:46:23.409Z"
   },
   {
    "duration": 13,
    "start_time": "2023-07-22T13:46:23.424Z"
   },
   {
    "duration": 9,
    "start_time": "2023-07-22T13:46:23.438Z"
   },
   {
    "duration": 1105,
    "start_time": "2023-07-22T13:46:23.448Z"
   },
   {
    "duration": 1107,
    "start_time": "2023-07-22T13:46:24.556Z"
   },
   {
    "duration": 1038,
    "start_time": "2023-07-22T13:46:25.665Z"
   },
   {
    "duration": 1300,
    "start_time": "2023-07-22T13:48:28.871Z"
   },
   {
    "duration": 369,
    "start_time": "2023-07-22T13:48:30.173Z"
   },
   {
    "duration": 14,
    "start_time": "2023-07-22T13:48:30.543Z"
   },
   {
    "duration": 38,
    "start_time": "2023-07-22T13:48:30.559Z"
   },
   {
    "duration": 51,
    "start_time": "2023-07-22T13:48:30.598Z"
   },
   {
    "duration": 52,
    "start_time": "2023-07-22T13:48:30.650Z"
   },
   {
    "duration": 629,
    "start_time": "2023-07-22T13:48:30.704Z"
   },
   {
    "duration": 439,
    "start_time": "2023-07-22T13:48:31.335Z"
   },
   {
    "duration": 15,
    "start_time": "2023-07-22T13:48:31.776Z"
   },
   {
    "duration": 14,
    "start_time": "2023-07-22T13:48:31.794Z"
   },
   {
    "duration": 30,
    "start_time": "2023-07-22T13:48:31.809Z"
   },
   {
    "duration": 64,
    "start_time": "2023-07-22T13:48:31.841Z"
   },
   {
    "duration": 54,
    "start_time": "2023-07-22T13:48:31.907Z"
   },
   {
    "duration": 700,
    "start_time": "2023-07-22T13:48:31.962Z"
   },
   {
    "duration": 426,
    "start_time": "2023-07-22T13:48:32.664Z"
   },
   {
    "duration": 14,
    "start_time": "2023-07-22T13:48:33.092Z"
   },
   {
    "duration": 31,
    "start_time": "2023-07-22T13:48:33.107Z"
   },
   {
    "duration": 93,
    "start_time": "2023-07-22T13:48:33.140Z"
   },
   {
    "duration": 16,
    "start_time": "2023-07-22T13:48:33.235Z"
   },
   {
    "duration": 20,
    "start_time": "2023-07-22T13:48:33.253Z"
   },
   {
    "duration": 10,
    "start_time": "2023-07-22T13:48:33.275Z"
   },
   {
    "duration": 46,
    "start_time": "2023-07-22T13:48:33.287Z"
   },
   {
    "duration": 56,
    "start_time": "2023-07-22T13:48:33.335Z"
   },
   {
    "duration": 62,
    "start_time": "2023-07-22T13:48:33.393Z"
   },
   {
    "duration": 646,
    "start_time": "2023-07-22T13:48:33.456Z"
   },
   {
    "duration": 403,
    "start_time": "2023-07-22T13:48:34.104Z"
   },
   {
    "duration": 28,
    "start_time": "2023-07-22T13:48:34.509Z"
   },
   {
    "duration": 12,
    "start_time": "2023-07-22T13:48:34.540Z"
   },
   {
    "duration": 33,
    "start_time": "2023-07-22T13:48:34.554Z"
   },
   {
    "duration": 89,
    "start_time": "2023-07-22T13:48:34.588Z"
   },
   {
    "duration": 556,
    "start_time": "2023-07-22T13:48:34.680Z"
   },
   {
    "duration": 6,
    "start_time": "2023-07-22T13:48:35.238Z"
   },
   {
    "duration": 124,
    "start_time": "2023-07-22T13:48:35.246Z"
   },
   {
    "duration": 20,
    "start_time": "2023-07-22T13:48:35.372Z"
   },
   {
    "duration": 36,
    "start_time": "2023-07-22T13:48:35.394Z"
   },
   {
    "duration": 36,
    "start_time": "2023-07-22T13:48:35.432Z"
   },
   {
    "duration": 9,
    "start_time": "2023-07-22T13:48:35.470Z"
   },
   {
    "duration": 61,
    "start_time": "2023-07-22T13:48:35.480Z"
   },
   {
    "duration": 90,
    "start_time": "2023-07-22T13:48:35.542Z"
   },
   {
    "duration": 14,
    "start_time": "2023-07-22T13:48:35.634Z"
   },
   {
    "duration": 22,
    "start_time": "2023-07-22T13:48:35.650Z"
   },
   {
    "duration": 24,
    "start_time": "2023-07-22T13:48:35.675Z"
   },
   {
    "duration": 1129,
    "start_time": "2023-07-22T13:48:35.702Z"
   },
   {
    "duration": 1089,
    "start_time": "2023-07-22T13:48:36.833Z"
   },
   {
    "duration": 1076,
    "start_time": "2023-07-22T13:48:37.924Z"
   },
   {
    "duration": 105,
    "start_time": "2023-07-22T13:48:39.002Z"
   },
   {
    "duration": 7,
    "start_time": "2023-07-22T13:53:32.902Z"
   },
   {
    "duration": 7,
    "start_time": "2023-07-22T13:53:38.901Z"
   },
   {
    "duration": 4,
    "start_time": "2023-07-22T13:59:37.074Z"
   },
   {
    "duration": 8,
    "start_time": "2023-07-22T13:59:39.610Z"
   },
   {
    "duration": 43,
    "start_time": "2023-07-22T14:02:38.744Z"
   },
   {
    "duration": 11,
    "start_time": "2023-07-22T14:02:47.492Z"
   },
   {
    "duration": 10,
    "start_time": "2023-07-22T14:03:15.287Z"
   },
   {
    "duration": 17,
    "start_time": "2023-07-22T14:05:30.813Z"
   },
   {
    "duration": 15,
    "start_time": "2023-07-22T14:05:52.473Z"
   },
   {
    "duration": 15,
    "start_time": "2023-07-22T14:06:11.731Z"
   },
   {
    "duration": 11,
    "start_time": "2023-07-22T14:06:38.831Z"
   },
   {
    "duration": 15,
    "start_time": "2023-07-22T14:07:57.063Z"
   },
   {
    "duration": 20,
    "start_time": "2023-07-22T14:08:09.034Z"
   },
   {
    "duration": 20,
    "start_time": "2023-07-22T14:08:19.862Z"
   },
   {
    "duration": 4,
    "start_time": "2023-07-22T14:09:48.534Z"
   },
   {
    "duration": 10,
    "start_time": "2023-07-22T14:09:55.358Z"
   },
   {
    "duration": 1455,
    "start_time": "2023-07-22T14:18:23.707Z"
   },
   {
    "duration": 363,
    "start_time": "2023-07-22T14:18:25.164Z"
   },
   {
    "duration": 13,
    "start_time": "2023-07-22T14:18:25.531Z"
   },
   {
    "duration": 33,
    "start_time": "2023-07-22T14:18:25.545Z"
   },
   {
    "duration": 62,
    "start_time": "2023-07-22T14:18:25.579Z"
   },
   {
    "duration": 42,
    "start_time": "2023-07-22T14:18:25.643Z"
   },
   {
    "duration": 644,
    "start_time": "2023-07-22T14:18:25.687Z"
   },
   {
    "duration": 385,
    "start_time": "2023-07-22T14:18:26.333Z"
   },
   {
    "duration": 23,
    "start_time": "2023-07-22T14:18:26.720Z"
   },
   {
    "duration": 9,
    "start_time": "2023-07-22T14:18:26.746Z"
   },
   {
    "duration": 50,
    "start_time": "2023-07-22T14:18:26.756Z"
   },
   {
    "duration": 65,
    "start_time": "2023-07-22T14:18:26.808Z"
   },
   {
    "duration": 70,
    "start_time": "2023-07-22T14:18:26.875Z"
   },
   {
    "duration": 649,
    "start_time": "2023-07-22T14:18:26.947Z"
   },
   {
    "duration": 461,
    "start_time": "2023-07-22T14:18:27.598Z"
   },
   {
    "duration": 15,
    "start_time": "2023-07-22T14:18:28.061Z"
   },
   {
    "duration": 24,
    "start_time": "2023-07-22T14:18:28.078Z"
   },
   {
    "duration": 97,
    "start_time": "2023-07-22T14:18:28.104Z"
   },
   {
    "duration": 41,
    "start_time": "2023-07-22T14:18:28.202Z"
   },
   {
    "duration": 28,
    "start_time": "2023-07-22T14:18:28.244Z"
   },
   {
    "duration": 48,
    "start_time": "2023-07-22T14:18:28.274Z"
   },
   {
    "duration": 71,
    "start_time": "2023-07-22T14:18:28.323Z"
   },
   {
    "duration": 80,
    "start_time": "2023-07-22T14:18:28.396Z"
   },
   {
    "duration": 60,
    "start_time": "2023-07-22T14:18:28.478Z"
   },
   {
    "duration": 590,
    "start_time": "2023-07-22T14:18:28.540Z"
   },
   {
    "duration": 365,
    "start_time": "2023-07-22T14:18:29.132Z"
   },
   {
    "duration": 23,
    "start_time": "2023-07-22T14:18:29.499Z"
   },
   {
    "duration": 16,
    "start_time": "2023-07-22T14:18:29.535Z"
   },
   {
    "duration": 7,
    "start_time": "2023-07-22T14:18:29.553Z"
   },
   {
    "duration": 9,
    "start_time": "2023-07-22T14:18:29.561Z"
   },
   {
    "duration": 490,
    "start_time": "2023-07-22T14:18:29.571Z"
   },
   {
    "duration": 6,
    "start_time": "2023-07-22T14:18:30.135Z"
   },
   {
    "duration": 140,
    "start_time": "2023-07-22T14:18:30.143Z"
   },
   {
    "duration": 50,
    "start_time": "2023-07-22T14:18:30.284Z"
   },
   {
    "duration": 22,
    "start_time": "2023-07-22T14:18:30.336Z"
   },
   {
    "duration": 23,
    "start_time": "2023-07-22T14:18:30.359Z"
   },
   {
    "duration": 27,
    "start_time": "2023-07-22T14:18:30.384Z"
   },
   {
    "duration": 39,
    "start_time": "2023-07-22T14:18:30.412Z"
   },
   {
    "duration": 10,
    "start_time": "2023-07-22T14:18:30.453Z"
   },
   {
    "duration": 44,
    "start_time": "2023-07-22T14:18:30.465Z"
   },
   {
    "duration": 35,
    "start_time": "2023-07-22T14:18:30.512Z"
   },
   {
    "duration": 98,
    "start_time": "2023-07-22T14:18:30.549Z"
   },
   {
    "duration": 1249,
    "start_time": "2023-07-22T14:18:30.648Z"
   },
   {
    "duration": 1114,
    "start_time": "2023-07-22T14:18:31.899Z"
   },
   {
    "duration": 1148,
    "start_time": "2023-07-22T14:18:33.014Z"
   },
   {
    "duration": 4,
    "start_time": "2023-07-22T14:18:34.164Z"
   },
   {
    "duration": 122,
    "start_time": "2023-07-22T14:18:34.170Z"
   },
   {
    "duration": 64,
    "start_time": "2023-07-22T14:18:34.293Z"
   },
   {
    "duration": 63,
    "start_time": "2023-07-22T14:24:13.146Z"
   },
   {
    "duration": 1408,
    "start_time": "2023-07-22T14:28:15.559Z"
   },
   {
    "duration": 396,
    "start_time": "2023-07-22T14:28:16.969Z"
   },
   {
    "duration": 18,
    "start_time": "2023-07-22T14:28:17.367Z"
   },
   {
    "duration": 17,
    "start_time": "2023-07-22T14:28:17.387Z"
   },
   {
    "duration": 72,
    "start_time": "2023-07-22T14:28:17.406Z"
   },
   {
    "duration": 53,
    "start_time": "2023-07-22T14:28:17.480Z"
   },
   {
    "duration": 663,
    "start_time": "2023-07-22T14:28:17.535Z"
   },
   {
    "duration": 418,
    "start_time": "2023-07-22T14:28:18.200Z"
   },
   {
    "duration": 24,
    "start_time": "2023-07-22T14:28:18.619Z"
   },
   {
    "duration": 10,
    "start_time": "2023-07-22T14:28:18.646Z"
   },
   {
    "duration": 29,
    "start_time": "2023-07-22T14:28:18.658Z"
   },
   {
    "duration": 63,
    "start_time": "2023-07-22T14:28:18.689Z"
   },
   {
    "duration": 34,
    "start_time": "2023-07-22T14:28:18.755Z"
   },
   {
    "duration": 740,
    "start_time": "2023-07-22T14:28:18.791Z"
   },
   {
    "duration": 449,
    "start_time": "2023-07-22T14:28:19.535Z"
   },
   {
    "duration": 14,
    "start_time": "2023-07-22T14:28:19.986Z"
   },
   {
    "duration": 6,
    "start_time": "2023-07-22T14:28:20.002Z"
   },
   {
    "duration": 91,
    "start_time": "2023-07-22T14:28:20.009Z"
   },
   {
    "duration": 14,
    "start_time": "2023-07-22T14:28:20.102Z"
   },
   {
    "duration": 33,
    "start_time": "2023-07-22T14:28:20.117Z"
   },
   {
    "duration": 11,
    "start_time": "2023-07-22T14:28:20.151Z"
   },
   {
    "duration": 37,
    "start_time": "2023-07-22T14:28:20.164Z"
   },
   {
    "duration": 50,
    "start_time": "2023-07-22T14:28:20.203Z"
   },
   {
    "duration": 36,
    "start_time": "2023-07-22T14:28:20.255Z"
   },
   {
    "duration": 605,
    "start_time": "2023-07-22T14:28:20.293Z"
   },
   {
    "duration": 423,
    "start_time": "2023-07-22T14:28:20.900Z"
   },
   {
    "duration": 17,
    "start_time": "2023-07-22T14:28:21.331Z"
   },
   {
    "duration": 13,
    "start_time": "2023-07-22T14:28:21.351Z"
   },
   {
    "duration": 10,
    "start_time": "2023-07-22T14:28:21.365Z"
   },
   {
    "duration": 9,
    "start_time": "2023-07-22T14:28:21.376Z"
   },
   {
    "duration": 474,
    "start_time": "2023-07-22T14:28:21.386Z"
   },
   {
    "duration": 3,
    "start_time": "2023-07-22T14:28:21.862Z"
   },
   {
    "duration": 114,
    "start_time": "2023-07-22T14:28:21.935Z"
   },
   {
    "duration": 9,
    "start_time": "2023-07-22T14:28:22.052Z"
   },
   {
    "duration": 9,
    "start_time": "2023-07-22T14:28:22.063Z"
   },
   {
    "duration": 8,
    "start_time": "2023-07-22T14:28:22.074Z"
   },
   {
    "duration": 10,
    "start_time": "2023-07-22T14:28:22.084Z"
   },
   {
    "duration": 21,
    "start_time": "2023-07-22T14:28:22.096Z"
   },
   {
    "duration": 28,
    "start_time": "2023-07-22T14:28:22.120Z"
   },
   {
    "duration": 11,
    "start_time": "2023-07-22T14:28:22.150Z"
   },
   {
    "duration": 22,
    "start_time": "2023-07-22T14:28:22.163Z"
   },
   {
    "duration": 15,
    "start_time": "2023-07-22T14:28:22.187Z"
   },
   {
    "duration": 1129,
    "start_time": "2023-07-22T14:28:22.203Z"
   },
   {
    "duration": 1104,
    "start_time": "2023-07-22T14:28:23.334Z"
   },
   {
    "duration": 1169,
    "start_time": "2023-07-22T14:28:24.439Z"
   },
   {
    "duration": 3,
    "start_time": "2023-07-22T14:28:25.610Z"
   },
   {
    "duration": 53,
    "start_time": "2023-07-22T14:28:25.614Z"
   },
   {
    "duration": 12920,
    "start_time": "2023-07-22T14:53:17.933Z"
   },
   {
    "duration": 686,
    "start_time": "2023-07-22T14:53:30.855Z"
   },
   {
    "duration": 13,
    "start_time": "2023-07-22T14:53:31.543Z"
   },
   {
    "duration": 38,
    "start_time": "2023-07-22T14:53:31.558Z"
   },
   {
    "duration": 51,
    "start_time": "2023-07-22T14:53:31.598Z"
   },
   {
    "duration": 55,
    "start_time": "2023-07-22T14:53:31.651Z"
   },
   {
    "duration": 526,
    "start_time": "2023-07-22T14:53:31.708Z"
   },
   {
    "duration": 340,
    "start_time": "2023-07-22T14:53:32.236Z"
   },
   {
    "duration": 22,
    "start_time": "2023-07-22T14:53:32.578Z"
   },
   {
    "duration": 9,
    "start_time": "2023-07-22T14:53:32.604Z"
   },
   {
    "duration": 35,
    "start_time": "2023-07-22T14:53:32.615Z"
   },
   {
    "duration": 44,
    "start_time": "2023-07-22T14:53:32.652Z"
   },
   {
    "duration": 33,
    "start_time": "2023-07-22T14:53:32.697Z"
   },
   {
    "duration": 511,
    "start_time": "2023-07-22T14:53:32.731Z"
   },
   {
    "duration": 396,
    "start_time": "2023-07-22T14:53:33.243Z"
   },
   {
    "duration": 12,
    "start_time": "2023-07-22T14:53:33.640Z"
   },
   {
    "duration": 5,
    "start_time": "2023-07-22T14:53:33.653Z"
   },
   {
    "duration": 69,
    "start_time": "2023-07-22T14:53:33.659Z"
   },
   {
    "duration": 15,
    "start_time": "2023-07-22T14:53:33.729Z"
   },
   {
    "duration": 14,
    "start_time": "2023-07-22T14:53:33.745Z"
   },
   {
    "duration": 8,
    "start_time": "2023-07-22T14:53:33.760Z"
   },
   {
    "duration": 37,
    "start_time": "2023-07-22T14:53:33.769Z"
   },
   {
    "duration": 38,
    "start_time": "2023-07-22T14:53:33.808Z"
   },
   {
    "duration": 29,
    "start_time": "2023-07-22T14:53:33.848Z"
   },
   {
    "duration": 540,
    "start_time": "2023-07-22T14:53:33.878Z"
   },
   {
    "duration": 316,
    "start_time": "2023-07-22T14:53:34.419Z"
   },
   {
    "duration": 14,
    "start_time": "2023-07-22T14:53:34.736Z"
   },
   {
    "duration": 9,
    "start_time": "2023-07-22T14:53:34.753Z"
   },
   {
    "duration": 18,
    "start_time": "2023-07-22T14:53:34.763Z"
   },
   {
    "duration": 9,
    "start_time": "2023-07-22T14:53:34.783Z"
   },
   {
    "duration": 509,
    "start_time": "2023-07-22T14:53:34.793Z"
   },
   {
    "duration": 2,
    "start_time": "2023-07-22T14:53:35.304Z"
   },
   {
    "duration": 105,
    "start_time": "2023-07-22T14:53:35.308Z"
   },
   {
    "duration": 17,
    "start_time": "2023-07-22T14:53:35.415Z"
   },
   {
    "duration": 15,
    "start_time": "2023-07-22T14:53:35.433Z"
   },
   {
    "duration": 11,
    "start_time": "2023-07-22T14:53:35.449Z"
   },
   {
    "duration": 12,
    "start_time": "2023-07-22T14:53:35.461Z"
   },
   {
    "duration": 15,
    "start_time": "2023-07-22T14:53:35.474Z"
   },
   {
    "duration": 22,
    "start_time": "2023-07-22T14:53:35.490Z"
   },
   {
    "duration": 42,
    "start_time": "2023-07-22T14:53:35.513Z"
   },
   {
    "duration": 29,
    "start_time": "2023-07-22T14:53:35.557Z"
   },
   {
    "duration": 18,
    "start_time": "2023-07-22T14:53:35.588Z"
   },
   {
    "duration": 886,
    "start_time": "2023-07-22T14:53:35.607Z"
   },
   {
    "duration": 883,
    "start_time": "2023-07-22T14:53:36.499Z"
   },
   {
    "duration": 877,
    "start_time": "2023-07-22T14:53:37.383Z"
   },
   {
    "duration": 4,
    "start_time": "2023-07-22T14:53:38.262Z"
   },
   {
    "duration": 23,
    "start_time": "2023-07-22T14:53:38.267Z"
   },
   {
    "duration": 5,
    "start_time": "2023-07-22T14:53:46.058Z"
   },
   {
    "duration": 883,
    "start_time": "2023-07-22T14:53:46.360Z"
   },
   {
    "duration": 886,
    "start_time": "2023-07-22T14:53:47.244Z"
   },
   {
    "duration": 890,
    "start_time": "2023-07-22T14:53:48.132Z"
   },
   {
    "duration": 3,
    "start_time": "2023-07-22T14:53:49.024Z"
   },
   {
    "duration": 37,
    "start_time": "2023-07-22T14:53:49.028Z"
   },
   {
    "duration": 17,
    "start_time": "2023-07-22T16:35:58.137Z"
   },
   {
    "duration": 9,
    "start_time": "2023-07-22T16:36:03.434Z"
   },
   {
    "duration": 1909,
    "start_time": "2023-07-22T16:36:08.861Z"
   },
   {
    "duration": 2378,
    "start_time": "2023-07-22T16:36:10.773Z"
   },
   {
    "duration": 21,
    "start_time": "2023-07-22T16:36:13.153Z"
   },
   {
    "duration": 22,
    "start_time": "2023-07-22T16:36:13.180Z"
   },
   {
    "duration": 58,
    "start_time": "2023-07-22T16:36:13.205Z"
   },
   {
    "duration": 46,
    "start_time": "2023-07-22T16:36:13.267Z"
   },
   {
    "duration": 695,
    "start_time": "2023-07-22T16:36:13.317Z"
   },
   {
    "duration": 452,
    "start_time": "2023-07-22T16:36:14.017Z"
   },
   {
    "duration": 19,
    "start_time": "2023-07-22T16:36:14.470Z"
   },
   {
    "duration": 11,
    "start_time": "2023-07-22T16:36:14.491Z"
   },
   {
    "duration": 59,
    "start_time": "2023-07-22T16:36:14.508Z"
   },
   {
    "duration": 58,
    "start_time": "2023-07-22T16:36:14.569Z"
   },
   {
    "duration": 46,
    "start_time": "2023-07-22T16:36:14.630Z"
   },
   {
    "duration": 698,
    "start_time": "2023-07-22T16:36:14.680Z"
   },
   {
    "duration": 570,
    "start_time": "2023-07-22T16:36:15.380Z"
   },
   {
    "duration": 20,
    "start_time": "2023-07-22T16:36:15.954Z"
   },
   {
    "duration": 9,
    "start_time": "2023-07-22T16:36:15.976Z"
   },
   {
    "duration": 181,
    "start_time": "2023-07-22T16:36:15.987Z"
   },
   {
    "duration": 19,
    "start_time": "2023-07-22T16:36:16.170Z"
   },
   {
    "duration": 34,
    "start_time": "2023-07-22T16:36:16.190Z"
   },
   {
    "duration": 19,
    "start_time": "2023-07-22T16:36:16.227Z"
   },
   {
    "duration": 27,
    "start_time": "2023-07-22T16:36:16.252Z"
   },
   {
    "duration": 63,
    "start_time": "2023-07-22T16:36:16.281Z"
   },
   {
    "duration": 43,
    "start_time": "2023-07-22T16:36:16.350Z"
   },
   {
    "duration": 819,
    "start_time": "2023-07-22T16:36:16.395Z"
   },
   {
    "duration": 487,
    "start_time": "2023-07-22T16:36:17.216Z"
   },
   {
    "duration": 21,
    "start_time": "2023-07-22T16:36:17.714Z"
   },
   {
    "duration": 12,
    "start_time": "2023-07-22T16:36:17.737Z"
   },
   {
    "duration": 7,
    "start_time": "2023-07-22T16:36:17.751Z"
   },
   {
    "duration": 7,
    "start_time": "2023-07-22T16:36:17.760Z"
   },
   {
    "duration": 463,
    "start_time": "2023-07-22T16:36:17.769Z"
   },
   {
    "duration": 73,
    "start_time": "2023-07-22T16:36:18.245Z"
   },
   {
    "duration": 15,
    "start_time": "2023-07-22T16:36:18.324Z"
   },
   {
    "duration": 16,
    "start_time": "2023-07-22T16:36:18.341Z"
   },
   {
    "duration": 13,
    "start_time": "2023-07-22T16:36:18.366Z"
   },
   {
    "duration": 12,
    "start_time": "2023-07-22T16:36:18.381Z"
   },
   {
    "duration": 11,
    "start_time": "2023-07-22T16:36:18.395Z"
   },
   {
    "duration": 20,
    "start_time": "2023-07-22T16:36:18.408Z"
   },
   {
    "duration": 6,
    "start_time": "2023-07-22T16:36:18.430Z"
   },
   {
    "duration": 7,
    "start_time": "2023-07-22T16:36:18.438Z"
   },
   {
    "duration": 3,
    "start_time": "2023-07-22T16:36:18.457Z"
   },
   {
    "duration": 12,
    "start_time": "2023-07-22T16:36:18.462Z"
   },
   {
    "duration": 2278,
    "start_time": "2023-07-22T16:36:18.476Z"
   },
   {
    "duration": 2366,
    "start_time": "2023-07-22T16:36:20.756Z"
   },
   {
    "duration": 2212,
    "start_time": "2023-07-22T16:36:23.131Z"
   },
   {
    "duration": 6,
    "start_time": "2023-07-22T16:36:25.345Z"
   },
   {
    "duration": 16,
    "start_time": "2023-07-22T16:36:25.353Z"
   },
   {
    "duration": 10,
    "start_time": "2023-07-22T16:38:04.628Z"
   },
   {
    "duration": 4,
    "start_time": "2023-07-22T16:38:16.471Z"
   },
   {
    "duration": 4,
    "start_time": "2023-07-22T16:38:16.478Z"
   },
   {
    "duration": 7,
    "start_time": "2023-07-22T16:38:16.484Z"
   },
   {
    "duration": 164,
    "start_time": "2023-07-22T16:38:16.493Z"
   },
   {
    "duration": 0,
    "start_time": "2023-07-22T16:38:16.659Z"
   },
   {
    "duration": 0,
    "start_time": "2023-07-22T16:38:16.660Z"
   },
   {
    "duration": 0,
    "start_time": "2023-07-22T16:38:16.661Z"
   },
   {
    "duration": 0,
    "start_time": "2023-07-22T16:38:16.662Z"
   },
   {
    "duration": 5,
    "start_time": "2023-07-22T16:38:59.199Z"
   },
   {
    "duration": 12,
    "start_time": "2023-07-22T16:39:03.122Z"
   },
   {
    "duration": 13,
    "start_time": "2023-07-22T16:39:03.142Z"
   },
   {
    "duration": 18,
    "start_time": "2023-07-22T16:39:03.158Z"
   },
   {
    "duration": 89,
    "start_time": "2023-07-22T16:39:03.180Z"
   },
   {
    "duration": 0,
    "start_time": "2023-07-22T16:39:03.271Z"
   },
   {
    "duration": 0,
    "start_time": "2023-07-22T16:39:03.273Z"
   },
   {
    "duration": 0,
    "start_time": "2023-07-22T16:39:03.274Z"
   },
   {
    "duration": 0,
    "start_time": "2023-07-22T16:39:03.276Z"
   },
   {
    "duration": 10,
    "start_time": "2023-07-22T16:39:43.041Z"
   },
   {
    "duration": 4,
    "start_time": "2023-07-22T16:39:48.593Z"
   },
   {
    "duration": 29,
    "start_time": "2023-07-22T16:39:48.600Z"
   },
   {
    "duration": 25,
    "start_time": "2023-07-22T16:39:48.633Z"
   },
   {
    "duration": 37,
    "start_time": "2023-07-22T16:39:48.660Z"
   },
   {
    "duration": 0,
    "start_time": "2023-07-22T16:39:48.699Z"
   },
   {
    "duration": 0,
    "start_time": "2023-07-22T16:39:48.700Z"
   },
   {
    "duration": 0,
    "start_time": "2023-07-22T16:39:48.701Z"
   },
   {
    "duration": 0,
    "start_time": "2023-07-22T16:39:48.702Z"
   },
   {
    "duration": 180,
    "start_time": "2023-07-22T16:40:12.959Z"
   },
   {
    "duration": 5,
    "start_time": "2023-07-22T16:40:21.760Z"
   },
   {
    "duration": 5,
    "start_time": "2023-07-22T16:40:25.197Z"
   },
   {
    "duration": 27,
    "start_time": "2023-07-22T16:40:25.205Z"
   },
   {
    "duration": 22,
    "start_time": "2023-07-22T16:40:25.243Z"
   },
   {
    "duration": 3568,
    "start_time": "2023-07-22T16:40:25.268Z"
   },
   {
    "duration": 0,
    "start_time": "2023-07-22T16:40:28.846Z"
   },
   {
    "duration": 0,
    "start_time": "2023-07-22T16:40:28.850Z"
   },
   {
    "duration": 0,
    "start_time": "2023-07-22T16:40:28.856Z"
   },
   {
    "duration": 0,
    "start_time": "2023-07-22T16:40:28.861Z"
   },
   {
    "duration": 5,
    "start_time": "2023-07-22T16:40:54.035Z"
   },
   {
    "duration": 6,
    "start_time": "2023-07-22T16:40:56.753Z"
   },
   {
    "duration": 17,
    "start_time": "2023-07-22T16:40:56.762Z"
   },
   {
    "duration": 11,
    "start_time": "2023-07-22T16:40:56.781Z"
   },
   {
    "duration": 39,
    "start_time": "2023-07-22T16:40:56.795Z"
   },
   {
    "duration": 0,
    "start_time": "2023-07-22T16:40:56.840Z"
   },
   {
    "duration": 0,
    "start_time": "2023-07-22T16:40:56.845Z"
   },
   {
    "duration": 0,
    "start_time": "2023-07-22T16:40:56.862Z"
   },
   {
    "duration": 0,
    "start_time": "2023-07-22T16:40:56.868Z"
   },
   {
    "duration": 5,
    "start_time": "2023-07-22T16:41:40.228Z"
   },
   {
    "duration": 4,
    "start_time": "2023-07-22T16:41:42.782Z"
   },
   {
    "duration": 32,
    "start_time": "2023-07-22T16:41:42.792Z"
   },
   {
    "duration": 13,
    "start_time": "2023-07-22T16:41:42.827Z"
   },
   {
    "duration": 45,
    "start_time": "2023-07-22T16:41:42.844Z"
   },
   {
    "duration": 0,
    "start_time": "2023-07-22T16:41:42.891Z"
   },
   {
    "duration": 0,
    "start_time": "2023-07-22T16:41:42.893Z"
   },
   {
    "duration": 0,
    "start_time": "2023-07-22T16:41:42.894Z"
   },
   {
    "duration": 0,
    "start_time": "2023-07-22T16:41:42.896Z"
   },
   {
    "duration": 5,
    "start_time": "2023-07-22T16:43:12.996Z"
   },
   {
    "duration": 4,
    "start_time": "2023-07-22T16:43:16.693Z"
   },
   {
    "duration": 10,
    "start_time": "2023-07-22T16:43:16.724Z"
   },
   {
    "duration": 17,
    "start_time": "2023-07-22T16:43:16.736Z"
   },
   {
    "duration": 33,
    "start_time": "2023-07-22T16:43:16.758Z"
   },
   {
    "duration": 0,
    "start_time": "2023-07-22T16:43:16.793Z"
   },
   {
    "duration": 0,
    "start_time": "2023-07-22T16:43:16.795Z"
   },
   {
    "duration": 0,
    "start_time": "2023-07-22T16:43:16.797Z"
   },
   {
    "duration": 0,
    "start_time": "2023-07-22T16:43:16.798Z"
   },
   {
    "duration": 7,
    "start_time": "2023-07-22T16:43:53.401Z"
   },
   {
    "duration": 8,
    "start_time": "2023-07-22T16:43:55.986Z"
   },
   {
    "duration": 14,
    "start_time": "2023-07-22T16:43:55.997Z"
   },
   {
    "duration": 11,
    "start_time": "2023-07-22T16:43:56.018Z"
   },
   {
    "duration": 52,
    "start_time": "2023-07-22T16:43:56.038Z"
   },
   {
    "duration": 0,
    "start_time": "2023-07-22T16:43:56.092Z"
   },
   {
    "duration": 0,
    "start_time": "2023-07-22T16:43:56.094Z"
   },
   {
    "duration": 0,
    "start_time": "2023-07-22T16:43:56.096Z"
   },
   {
    "duration": 0,
    "start_time": "2023-07-22T16:43:56.097Z"
   },
   {
    "duration": 8,
    "start_time": "2023-07-22T16:44:09.851Z"
   },
   {
    "duration": 9,
    "start_time": "2023-07-22T16:44:12.430Z"
   },
   {
    "duration": 30,
    "start_time": "2023-07-22T16:44:12.441Z"
   },
   {
    "duration": 20,
    "start_time": "2023-07-22T16:44:12.474Z"
   },
   {
    "duration": 27,
    "start_time": "2023-07-22T16:44:12.496Z"
   },
   {
    "duration": 0,
    "start_time": "2023-07-22T16:44:12.525Z"
   },
   {
    "duration": 0,
    "start_time": "2023-07-22T16:44:12.526Z"
   },
   {
    "duration": 0,
    "start_time": "2023-07-22T16:44:12.528Z"
   },
   {
    "duration": 0,
    "start_time": "2023-07-22T16:44:12.529Z"
   },
   {
    "duration": 8,
    "start_time": "2023-07-22T16:45:00.520Z"
   },
   {
    "duration": 17,
    "start_time": "2023-07-22T16:45:03.137Z"
   },
   {
    "duration": 46,
    "start_time": "2023-07-22T16:45:03.159Z"
   },
   {
    "duration": 0,
    "start_time": "2023-07-22T16:45:03.207Z"
   },
   {
    "duration": 0,
    "start_time": "2023-07-22T16:45:03.209Z"
   },
   {
    "duration": 0,
    "start_time": "2023-07-22T16:45:03.210Z"
   },
   {
    "duration": 0,
    "start_time": "2023-07-22T16:45:03.211Z"
   },
   {
    "duration": 7,
    "start_time": "2023-07-22T16:45:24.852Z"
   },
   {
    "duration": 6,
    "start_time": "2023-07-22T16:45:28.196Z"
   },
   {
    "duration": 5,
    "start_time": "2023-07-22T16:45:28.205Z"
   },
   {
    "duration": 20,
    "start_time": "2023-07-22T16:45:28.214Z"
   },
   {
    "duration": 2088,
    "start_time": "2023-07-22T16:45:28.236Z"
   },
   {
    "duration": 2077,
    "start_time": "2023-07-22T16:45:30.326Z"
   },
   {
    "duration": 2263,
    "start_time": "2023-07-22T16:45:32.405Z"
   },
   {
    "duration": 3,
    "start_time": "2023-07-22T16:45:34.670Z"
   },
   {
    "duration": 10,
    "start_time": "2023-07-22T16:45:34.675Z"
   },
   {
    "duration": 9,
    "start_time": "2023-07-22T16:46:10.982Z"
   },
   {
    "duration": 14,
    "start_time": "2023-07-22T16:46:13.844Z"
   },
   {
    "duration": 39,
    "start_time": "2023-07-22T16:46:13.862Z"
   },
   {
    "duration": 0,
    "start_time": "2023-07-22T16:46:13.903Z"
   },
   {
    "duration": 0,
    "start_time": "2023-07-22T16:46:13.905Z"
   },
   {
    "duration": 0,
    "start_time": "2023-07-22T16:46:13.916Z"
   },
   {
    "duration": 0,
    "start_time": "2023-07-22T16:46:13.919Z"
   },
   {
    "duration": 7,
    "start_time": "2023-07-22T16:46:46.770Z"
   },
   {
    "duration": 4,
    "start_time": "2023-07-22T16:46:56.635Z"
   },
   {
    "duration": 18,
    "start_time": "2023-07-22T16:46:56.645Z"
   },
   {
    "duration": 25,
    "start_time": "2023-07-22T16:46:56.665Z"
   },
   {
    "duration": 29,
    "start_time": "2023-07-22T16:46:56.696Z"
   },
   {
    "duration": 0,
    "start_time": "2023-07-22T16:46:56.731Z"
   },
   {
    "duration": 0,
    "start_time": "2023-07-22T16:46:56.735Z"
   },
   {
    "duration": 0,
    "start_time": "2023-07-22T16:46:56.743Z"
   },
   {
    "duration": 0,
    "start_time": "2023-07-22T16:46:56.747Z"
   },
   {
    "duration": 10,
    "start_time": "2023-07-22T16:47:24.504Z"
   },
   {
    "duration": 7,
    "start_time": "2023-07-22T16:47:27.483Z"
   },
   {
    "duration": 44,
    "start_time": "2023-07-22T16:47:27.493Z"
   },
   {
    "duration": 0,
    "start_time": "2023-07-22T16:47:27.540Z"
   },
   {
    "duration": 0,
    "start_time": "2023-07-22T16:47:27.541Z"
   },
   {
    "duration": 0,
    "start_time": "2023-07-22T16:47:27.543Z"
   },
   {
    "duration": 0,
    "start_time": "2023-07-22T16:47:27.546Z"
   },
   {
    "duration": 8,
    "start_time": "2023-07-22T16:50:15.257Z"
   },
   {
    "duration": 18,
    "start_time": "2023-07-22T16:50:15.268Z"
   },
   {
    "duration": 0,
    "start_time": "2023-07-22T16:50:15.288Z"
   },
   {
    "duration": 0,
    "start_time": "2023-07-22T16:50:15.289Z"
   },
   {
    "duration": 0,
    "start_time": "2023-07-22T16:50:15.291Z"
   },
   {
    "duration": 0,
    "start_time": "2023-07-22T16:50:15.292Z"
   },
   {
    "duration": 3,
    "start_time": "2023-07-22T16:50:48.612Z"
   },
   {
    "duration": 93,
    "start_time": "2023-07-22T16:50:48.621Z"
   },
   {
    "duration": 20,
    "start_time": "2023-07-22T16:50:48.719Z"
   },
   {
    "duration": 1972,
    "start_time": "2023-07-22T16:50:48.741Z"
   },
   {
    "duration": 1979,
    "start_time": "2023-07-22T16:50:50.715Z"
   },
   {
    "duration": 2157,
    "start_time": "2023-07-22T16:50:52.696Z"
   },
   {
    "duration": 4,
    "start_time": "2023-07-22T16:50:54.854Z"
   },
   {
    "duration": 16,
    "start_time": "2023-07-22T16:50:54.859Z"
   },
   {
    "duration": 4,
    "start_time": "2023-07-22T16:52:30.455Z"
   },
   {
    "duration": 35,
    "start_time": "2023-07-22T16:52:30.460Z"
   },
   {
    "duration": 51,
    "start_time": "2023-07-22T16:52:30.496Z"
   },
   {
    "duration": 2186,
    "start_time": "2023-07-22T16:52:30.549Z"
   },
   {
    "duration": 2058,
    "start_time": "2023-07-22T16:52:32.740Z"
   },
   {
    "duration": 1970,
    "start_time": "2023-07-22T16:52:34.805Z"
   },
   {
    "duration": 4,
    "start_time": "2023-07-22T16:52:36.776Z"
   },
   {
    "duration": 42,
    "start_time": "2023-07-22T16:52:36.782Z"
   },
   {
    "duration": 3,
    "start_time": "2023-07-22T16:54:51.102Z"
   },
   {
    "duration": 455,
    "start_time": "2023-07-22T16:54:51.111Z"
   },
   {
    "duration": 15,
    "start_time": "2023-07-22T16:54:51.568Z"
   },
   {
    "duration": 15,
    "start_time": "2023-07-22T16:54:51.589Z"
   },
   {
    "duration": 54,
    "start_time": "2023-07-22T16:54:51.606Z"
   },
   {
    "duration": 49,
    "start_time": "2023-07-22T16:54:51.662Z"
   },
   {
    "duration": 633,
    "start_time": "2023-07-22T16:54:51.714Z"
   },
   {
    "duration": 443,
    "start_time": "2023-07-22T16:54:52.350Z"
   },
   {
    "duration": 27,
    "start_time": "2023-07-22T16:54:52.796Z"
   },
   {
    "duration": 41,
    "start_time": "2023-07-22T16:54:52.828Z"
   },
   {
    "duration": 18,
    "start_time": "2023-07-22T16:54:52.871Z"
   },
   {
    "duration": 65,
    "start_time": "2023-07-22T16:54:52.890Z"
   },
   {
    "duration": 38,
    "start_time": "2023-07-22T16:54:52.957Z"
   },
   {
    "duration": 699,
    "start_time": "2023-07-22T16:54:52.996Z"
   },
   {
    "duration": 444,
    "start_time": "2023-07-22T16:54:53.696Z"
   },
   {
    "duration": 14,
    "start_time": "2023-07-22T16:54:54.144Z"
   },
   {
    "duration": 11,
    "start_time": "2023-07-22T16:54:54.159Z"
   },
   {
    "duration": 82,
    "start_time": "2023-07-22T16:54:54.172Z"
   },
   {
    "duration": 17,
    "start_time": "2023-07-22T16:54:54.257Z"
   },
   {
    "duration": 22,
    "start_time": "2023-07-22T16:54:54.276Z"
   },
   {
    "duration": 17,
    "start_time": "2023-07-22T16:54:54.299Z"
   },
   {
    "duration": 24,
    "start_time": "2023-07-22T16:54:54.319Z"
   },
   {
    "duration": 40,
    "start_time": "2023-07-22T16:54:54.349Z"
   },
   {
    "duration": 44,
    "start_time": "2023-07-22T16:54:54.391Z"
   },
   {
    "duration": 625,
    "start_time": "2023-07-22T16:54:54.437Z"
   },
   {
    "duration": 365,
    "start_time": "2023-07-22T16:54:55.064Z"
   },
   {
    "duration": 21,
    "start_time": "2023-07-22T16:54:55.435Z"
   },
   {
    "duration": 11,
    "start_time": "2023-07-22T16:54:55.457Z"
   },
   {
    "duration": 8,
    "start_time": "2023-07-22T16:54:55.470Z"
   },
   {
    "duration": 5,
    "start_time": "2023-07-22T16:54:55.479Z"
   },
   {
    "duration": 326,
    "start_time": "2023-07-22T16:54:55.485Z"
   },
   {
    "duration": 16,
    "start_time": "2023-07-22T16:54:55.823Z"
   },
   {
    "duration": 10,
    "start_time": "2023-07-22T16:54:55.905Z"
   },
   {
    "duration": 17,
    "start_time": "2023-07-22T16:54:55.921Z"
   },
   {
    "duration": 12,
    "start_time": "2023-07-22T16:54:55.943Z"
   },
   {
    "duration": 7,
    "start_time": "2023-07-22T16:54:55.957Z"
   },
   {
    "duration": 6,
    "start_time": "2023-07-22T16:54:55.966Z"
   },
   {
    "duration": 5,
    "start_time": "2023-07-22T16:54:55.974Z"
   },
   {
    "duration": 5,
    "start_time": "2023-07-22T16:54:55.980Z"
   },
   {
    "duration": 9,
    "start_time": "2023-07-22T16:54:55.986Z"
   },
   {
    "duration": 23,
    "start_time": "2023-07-22T16:54:55.996Z"
   },
   {
    "duration": 13,
    "start_time": "2023-07-22T16:54:56.020Z"
   },
   {
    "duration": 1453,
    "start_time": "2023-07-22T16:54:56.034Z"
   },
   {
    "duration": 1464,
    "start_time": "2023-07-22T16:54:57.489Z"
   },
   {
    "duration": 1517,
    "start_time": "2023-07-22T16:54:58.955Z"
   },
   {
    "duration": 3,
    "start_time": "2023-07-22T16:55:00.474Z"
   },
   {
    "duration": 88,
    "start_time": "2023-07-22T16:55:00.478Z"
   },
   {
    "duration": 9,
    "start_time": "2023-07-22T16:56:13.645Z"
   },
   {
    "duration": 8,
    "start_time": "2023-07-22T16:56:18.154Z"
   },
   {
    "duration": 3,
    "start_time": "2023-07-22T16:56:18.164Z"
   },
   {
    "duration": 5,
    "start_time": "2023-07-22T16:56:18.169Z"
   },
   {
    "duration": 51,
    "start_time": "2023-07-22T16:56:18.176Z"
   },
   {
    "duration": 0,
    "start_time": "2023-07-22T16:56:18.229Z"
   },
   {
    "duration": 0,
    "start_time": "2023-07-22T16:56:18.234Z"
   },
   {
    "duration": 0,
    "start_time": "2023-07-22T16:56:18.235Z"
   },
   {
    "duration": 0,
    "start_time": "2023-07-22T16:56:18.241Z"
   },
   {
    "duration": 4,
    "start_time": "2023-07-22T16:57:00.114Z"
   },
   {
    "duration": 14,
    "start_time": "2023-07-22T16:57:00.121Z"
   },
   {
    "duration": 38,
    "start_time": "2023-07-22T16:57:00.137Z"
   },
   {
    "duration": 73,
    "start_time": "2023-07-22T16:57:00.177Z"
   },
   {
    "duration": 0,
    "start_time": "2023-07-22T16:57:00.252Z"
   },
   {
    "duration": 0,
    "start_time": "2023-07-22T16:57:00.253Z"
   },
   {
    "duration": 0,
    "start_time": "2023-07-22T16:57:00.254Z"
   },
   {
    "duration": 0,
    "start_time": "2023-07-22T16:57:00.256Z"
   },
   {
    "duration": 9,
    "start_time": "2023-07-22T16:57:52.006Z"
   },
   {
    "duration": 4,
    "start_time": "2023-07-22T16:57:54.524Z"
   },
   {
    "duration": 51,
    "start_time": "2023-07-22T16:57:54.531Z"
   },
   {
    "duration": 45,
    "start_time": "2023-07-22T16:57:54.584Z"
   },
   {
    "duration": 36,
    "start_time": "2023-07-22T16:57:54.633Z"
   },
   {
    "duration": 0,
    "start_time": "2023-07-22T16:57:54.671Z"
   },
   {
    "duration": 0,
    "start_time": "2023-07-22T16:57:54.672Z"
   },
   {
    "duration": 0,
    "start_time": "2023-07-22T16:57:54.674Z"
   },
   {
    "duration": 0,
    "start_time": "2023-07-22T16:57:54.675Z"
   },
   {
    "duration": 3,
    "start_time": "2023-07-22T16:58:22.998Z"
   },
   {
    "duration": 14,
    "start_time": "2023-07-22T16:58:23.003Z"
   },
   {
    "duration": 8,
    "start_time": "2023-07-22T16:58:23.025Z"
   },
   {
    "duration": 25,
    "start_time": "2023-07-22T16:58:23.034Z"
   },
   {
    "duration": 0,
    "start_time": "2023-07-22T16:58:23.061Z"
   },
   {
    "duration": 0,
    "start_time": "2023-07-22T16:58:23.062Z"
   },
   {
    "duration": 0,
    "start_time": "2023-07-22T16:58:23.064Z"
   },
   {
    "duration": 0,
    "start_time": "2023-07-22T16:58:23.065Z"
   },
   {
    "duration": 10,
    "start_time": "2023-07-22T16:58:46.207Z"
   },
   {
    "duration": 8,
    "start_time": "2023-07-22T16:58:46.219Z"
   },
   {
    "duration": 9,
    "start_time": "2023-07-22T16:58:46.231Z"
   },
   {
    "duration": 3216,
    "start_time": "2023-07-22T16:58:46.243Z"
   },
   {
    "duration": 26,
    "start_time": "2023-07-22T16:58:49.460Z"
   },
   {
    "duration": 0,
    "start_time": "2023-07-22T16:58:49.487Z"
   },
   {
    "duration": 0,
    "start_time": "2023-07-22T16:58:49.489Z"
   },
   {
    "duration": 0,
    "start_time": "2023-07-22T16:58:49.490Z"
   },
   {
    "duration": 4,
    "start_time": "2023-07-22T16:59:04.391Z"
   },
   {
    "duration": 4,
    "start_time": "2023-07-22T16:59:04.397Z"
   },
   {
    "duration": 9,
    "start_time": "2023-07-22T16:59:04.403Z"
   },
   {
    "duration": 1938,
    "start_time": "2023-07-22T16:59:04.416Z"
   },
   {
    "duration": 21,
    "start_time": "2023-07-22T16:59:06.356Z"
   },
   {
    "duration": 0,
    "start_time": "2023-07-22T16:59:06.378Z"
   },
   {
    "duration": 0,
    "start_time": "2023-07-22T16:59:06.380Z"
   },
   {
    "duration": 0,
    "start_time": "2023-07-22T16:59:06.381Z"
   },
   {
    "duration": 1349,
    "start_time": "2023-07-22T17:03:01.433Z"
   },
   {
    "duration": 460,
    "start_time": "2023-07-22T17:03:02.784Z"
   },
   {
    "duration": 17,
    "start_time": "2023-07-22T17:03:03.245Z"
   },
   {
    "duration": 19,
    "start_time": "2023-07-22T17:03:03.264Z"
   },
   {
    "duration": 63,
    "start_time": "2023-07-22T17:03:03.286Z"
   },
   {
    "duration": 65,
    "start_time": "2023-07-22T17:03:03.351Z"
   },
   {
    "duration": 624,
    "start_time": "2023-07-22T17:03:03.418Z"
   },
   {
    "duration": 427,
    "start_time": "2023-07-22T17:03:04.044Z"
   },
   {
    "duration": 14,
    "start_time": "2023-07-22T17:03:04.472Z"
   },
   {
    "duration": 39,
    "start_time": "2023-07-22T17:03:04.488Z"
   },
   {
    "duration": 46,
    "start_time": "2023-07-22T17:03:04.529Z"
   },
   {
    "duration": 70,
    "start_time": "2023-07-22T17:03:04.577Z"
   },
   {
    "duration": 43,
    "start_time": "2023-07-22T17:03:04.649Z"
   },
   {
    "duration": 516,
    "start_time": "2023-07-22T17:03:04.693Z"
   },
   {
    "duration": 451,
    "start_time": "2023-07-22T17:03:05.210Z"
   },
   {
    "duration": 13,
    "start_time": "2023-07-22T17:03:05.663Z"
   },
   {
    "duration": 16,
    "start_time": "2023-07-22T17:03:05.678Z"
   },
   {
    "duration": 91,
    "start_time": "2023-07-22T17:03:05.696Z"
   },
   {
    "duration": 28,
    "start_time": "2023-07-22T17:03:05.789Z"
   },
   {
    "duration": 31,
    "start_time": "2023-07-22T17:03:05.818Z"
   },
   {
    "duration": 29,
    "start_time": "2023-07-22T17:03:05.851Z"
   },
   {
    "duration": 21,
    "start_time": "2023-07-22T17:03:05.882Z"
   },
   {
    "duration": 64,
    "start_time": "2023-07-22T17:03:05.905Z"
   },
   {
    "duration": 31,
    "start_time": "2023-07-22T17:03:05.970Z"
   },
   {
    "duration": 528,
    "start_time": "2023-07-22T17:03:06.003Z"
   },
   {
    "duration": 373,
    "start_time": "2023-07-22T17:03:06.533Z"
   },
   {
    "duration": 15,
    "start_time": "2023-07-22T17:03:06.908Z"
   },
   {
    "duration": 11,
    "start_time": "2023-07-22T17:03:06.926Z"
   },
   {
    "duration": 6,
    "start_time": "2023-07-22T17:03:06.939Z"
   },
   {
    "duration": 66,
    "start_time": "2023-07-22T17:03:06.947Z"
   },
   {
    "duration": 7,
    "start_time": "2023-07-22T17:03:07.015Z"
   },
   {
    "duration": 394,
    "start_time": "2023-07-22T17:03:07.024Z"
   },
   {
    "duration": 5,
    "start_time": "2023-07-22T17:03:07.420Z"
   },
   {
    "duration": 9,
    "start_time": "2023-07-22T17:03:07.510Z"
   },
   {
    "duration": 17,
    "start_time": "2023-07-22T17:03:07.607Z"
   },
   {
    "duration": 29,
    "start_time": "2023-07-22T17:03:07.626Z"
   },
   {
    "duration": 10,
    "start_time": "2023-07-22T17:03:07.657Z"
   },
   {
    "duration": 10,
    "start_time": "2023-07-22T17:03:07.669Z"
   },
   {
    "duration": 5,
    "start_time": "2023-07-22T17:03:07.681Z"
   },
   {
    "duration": 15,
    "start_time": "2023-07-22T17:03:07.687Z"
   },
   {
    "duration": 32,
    "start_time": "2023-07-22T17:03:07.704Z"
   },
   {
    "duration": 17,
    "start_time": "2023-07-22T17:03:07.738Z"
   },
   {
    "duration": 15,
    "start_time": "2023-07-22T17:03:07.756Z"
   },
   {
    "duration": 2001,
    "start_time": "2023-07-22T17:03:07.772Z"
   },
   {
    "duration": 118,
    "start_time": "2023-07-22T17:03:09.775Z"
   },
   {
    "duration": 0,
    "start_time": "2023-07-22T17:03:09.895Z"
   },
   {
    "duration": 0,
    "start_time": "2023-07-22T17:03:09.896Z"
   },
   {
    "duration": 0,
    "start_time": "2023-07-22T17:03:09.896Z"
   },
   {
    "duration": 5,
    "start_time": "2023-07-22T17:07:43.541Z"
   },
   {
    "duration": 6,
    "start_time": "2023-07-22T17:07:52.397Z"
   },
   {
    "duration": 75,
    "start_time": "2023-07-22T17:07:52.405Z"
   },
   {
    "duration": 2670,
    "start_time": "2023-07-22T17:07:52.482Z"
   },
   {
    "duration": 2496,
    "start_time": "2023-07-22T17:07:55.154Z"
   },
   {
    "duration": 2625,
    "start_time": "2023-07-22T17:07:57.653Z"
   },
   {
    "duration": 3,
    "start_time": "2023-07-22T17:08:00.280Z"
   },
   {
    "duration": 52,
    "start_time": "2023-07-22T17:08:00.285Z"
   },
   {
    "duration": 4,
    "start_time": "2023-07-22T17:08:21.399Z"
   },
   {
    "duration": 5,
    "start_time": "2023-07-22T17:08:24.170Z"
   },
   {
    "duration": 5,
    "start_time": "2023-07-22T17:08:26.982Z"
   },
   {
    "duration": 5,
    "start_time": "2023-07-22T17:09:01.435Z"
   },
   {
    "duration": 153,
    "start_time": "2023-07-22T17:09:48.996Z"
   },
   {
    "duration": 1896,
    "start_time": "2023-07-22T17:10:09.912Z"
   },
   {
    "duration": 142,
    "start_time": "2023-07-22T17:10:26.807Z"
   },
   {
    "duration": 120,
    "start_time": "2023-07-22T17:11:13.449Z"
   },
   {
    "duration": 142,
    "start_time": "2023-07-22T17:12:54.397Z"
   },
   {
    "duration": 145,
    "start_time": "2023-07-22T17:12:59.081Z"
   },
   {
    "duration": 1507,
    "start_time": "2023-07-23T12:46:53.354Z"
   },
   {
    "duration": 711,
    "start_time": "2023-07-23T12:46:54.863Z"
   },
   {
    "duration": 12,
    "start_time": "2023-07-23T12:46:55.576Z"
   },
   {
    "duration": 18,
    "start_time": "2023-07-23T12:46:55.589Z"
   },
   {
    "duration": 44,
    "start_time": "2023-07-23T12:46:55.608Z"
   },
   {
    "duration": 33,
    "start_time": "2023-07-23T12:46:55.654Z"
   },
   {
    "duration": 534,
    "start_time": "2023-07-23T12:46:55.688Z"
   },
   {
    "duration": 345,
    "start_time": "2023-07-23T12:46:56.224Z"
   },
   {
    "duration": 13,
    "start_time": "2023-07-23T12:46:56.571Z"
   },
   {
    "duration": 8,
    "start_time": "2023-07-23T12:46:56.587Z"
   },
   {
    "duration": 31,
    "start_time": "2023-07-23T12:46:56.596Z"
   },
   {
    "duration": 38,
    "start_time": "2023-07-23T12:46:56.629Z"
   },
   {
    "duration": 52,
    "start_time": "2023-07-23T12:46:56.668Z"
   },
   {
    "duration": 521,
    "start_time": "2023-07-23T12:46:56.722Z"
   },
   {
    "duration": 426,
    "start_time": "2023-07-23T12:46:57.244Z"
   },
   {
    "duration": 12,
    "start_time": "2023-07-23T12:46:57.672Z"
   },
   {
    "duration": 5,
    "start_time": "2023-07-23T12:46:57.685Z"
   },
   {
    "duration": 74,
    "start_time": "2023-07-23T12:46:57.692Z"
   },
   {
    "duration": 13,
    "start_time": "2023-07-23T12:46:57.767Z"
   },
   {
    "duration": 14,
    "start_time": "2023-07-23T12:46:57.781Z"
   },
   {
    "duration": 24,
    "start_time": "2023-07-23T12:46:57.796Z"
   },
   {
    "duration": 12,
    "start_time": "2023-07-23T12:46:57.822Z"
   },
   {
    "duration": 49,
    "start_time": "2023-07-23T12:46:57.835Z"
   },
   {
    "duration": 39,
    "start_time": "2023-07-23T12:46:57.886Z"
   },
   {
    "duration": 537,
    "start_time": "2023-07-23T12:46:57.926Z"
   },
   {
    "duration": 343,
    "start_time": "2023-07-23T12:46:58.465Z"
   },
   {
    "duration": 21,
    "start_time": "2023-07-23T12:46:58.810Z"
   },
   {
    "duration": 51,
    "start_time": "2023-07-23T12:46:58.834Z"
   },
   {
    "duration": 26,
    "start_time": "2023-07-23T12:46:58.887Z"
   },
   {
    "duration": 19,
    "start_time": "2023-07-23T12:46:58.915Z"
   },
   {
    "duration": 401,
    "start_time": "2023-07-23T12:46:58.935Z"
   },
   {
    "duration": 85,
    "start_time": "2023-07-23T12:46:59.338Z"
   },
   {
    "duration": 110,
    "start_time": "2023-07-23T12:46:59.430Z"
   },
   {
    "duration": 26,
    "start_time": "2023-07-23T12:46:59.541Z"
   },
   {
    "duration": 9,
    "start_time": "2023-07-23T12:46:59.569Z"
   },
   {
    "duration": 19,
    "start_time": "2023-07-23T12:46:59.579Z"
   },
   {
    "duration": 22,
    "start_time": "2023-07-23T12:46:59.599Z"
   },
   {
    "duration": 13,
    "start_time": "2023-07-23T12:46:59.623Z"
   },
   {
    "duration": 15,
    "start_time": "2023-07-23T12:46:59.637Z"
   },
   {
    "duration": 5,
    "start_time": "2023-07-23T12:46:59.654Z"
   },
   {
    "duration": 43,
    "start_time": "2023-07-23T12:46:59.660Z"
   },
   {
    "duration": 15,
    "start_time": "2023-07-23T12:46:59.705Z"
   },
   {
    "duration": 1338,
    "start_time": "2023-07-23T12:46:59.721Z"
   },
   {
    "duration": 0,
    "start_time": "2023-07-23T12:47:01.061Z"
   },
   {
    "duration": 0,
    "start_time": "2023-07-23T12:47:01.063Z"
   },
   {
    "duration": 0,
    "start_time": "2023-07-23T12:47:01.065Z"
   },
   {
    "duration": 0,
    "start_time": "2023-07-23T12:47:01.066Z"
   },
   {
    "duration": 1239,
    "start_time": "2023-07-23T12:47:33.148Z"
   },
   {
    "duration": 343,
    "start_time": "2023-07-23T12:47:34.389Z"
   },
   {
    "duration": 13,
    "start_time": "2023-07-23T12:47:34.734Z"
   },
   {
    "duration": 46,
    "start_time": "2023-07-23T12:47:34.749Z"
   },
   {
    "duration": 160,
    "start_time": "2023-07-23T12:47:34.797Z"
   },
   {
    "duration": 34,
    "start_time": "2023-07-23T12:47:34.959Z"
   },
   {
    "duration": 546,
    "start_time": "2023-07-23T12:47:34.995Z"
   },
   {
    "duration": 362,
    "start_time": "2023-07-23T12:47:35.542Z"
   },
   {
    "duration": 16,
    "start_time": "2023-07-23T12:47:35.906Z"
   },
   {
    "duration": 8,
    "start_time": "2023-07-23T12:47:35.924Z"
   },
   {
    "duration": 23,
    "start_time": "2023-07-23T12:47:35.933Z"
   },
   {
    "duration": 48,
    "start_time": "2023-07-23T12:47:35.958Z"
   },
   {
    "duration": 31,
    "start_time": "2023-07-23T12:47:36.008Z"
   },
   {
    "duration": 504,
    "start_time": "2023-07-23T12:47:36.040Z"
   },
   {
    "duration": 424,
    "start_time": "2023-07-23T12:47:36.545Z"
   },
   {
    "duration": 11,
    "start_time": "2023-07-23T12:47:36.971Z"
   },
   {
    "duration": 24,
    "start_time": "2023-07-23T12:47:36.984Z"
   },
   {
    "duration": 70,
    "start_time": "2023-07-23T12:47:37.010Z"
   },
   {
    "duration": 25,
    "start_time": "2023-07-23T12:47:37.082Z"
   },
   {
    "duration": 33,
    "start_time": "2023-07-23T12:47:37.108Z"
   },
   {
    "duration": 28,
    "start_time": "2023-07-23T12:47:37.142Z"
   },
   {
    "duration": 51,
    "start_time": "2023-07-23T12:47:37.172Z"
   },
   {
    "duration": 57,
    "start_time": "2023-07-23T12:47:37.224Z"
   },
   {
    "duration": 32,
    "start_time": "2023-07-23T12:47:37.283Z"
   },
   {
    "duration": 540,
    "start_time": "2023-07-23T12:47:37.317Z"
   },
   {
    "duration": 336,
    "start_time": "2023-07-23T12:47:37.859Z"
   },
   {
    "duration": 14,
    "start_time": "2023-07-23T12:47:38.197Z"
   },
   {
    "duration": 10,
    "start_time": "2023-07-23T12:47:38.222Z"
   },
   {
    "duration": 16,
    "start_time": "2023-07-23T12:47:38.233Z"
   },
   {
    "duration": 14,
    "start_time": "2023-07-23T12:47:38.251Z"
   },
   {
    "duration": 464,
    "start_time": "2023-07-23T12:47:38.266Z"
   },
   {
    "duration": 92,
    "start_time": "2023-07-23T12:47:38.734Z"
   },
   {
    "duration": 94,
    "start_time": "2023-07-23T12:47:38.828Z"
   },
   {
    "duration": 21,
    "start_time": "2023-07-23T12:47:38.924Z"
   },
   {
    "duration": 63,
    "start_time": "2023-07-23T12:47:38.947Z"
   },
   {
    "duration": 36,
    "start_time": "2023-07-23T12:47:39.012Z"
   },
   {
    "duration": 8,
    "start_time": "2023-07-23T12:47:39.050Z"
   },
   {
    "duration": 26,
    "start_time": "2023-07-23T12:47:39.060Z"
   },
   {
    "duration": 27,
    "start_time": "2023-07-23T12:47:39.087Z"
   },
   {
    "duration": 18,
    "start_time": "2023-07-23T12:47:39.115Z"
   },
   {
    "duration": 21,
    "start_time": "2023-07-23T12:47:39.134Z"
   },
   {
    "duration": 26,
    "start_time": "2023-07-23T12:47:39.156Z"
   },
   {
    "duration": 1275,
    "start_time": "2023-07-23T12:47:39.184Z"
   },
   {
    "duration": 1283,
    "start_time": "2023-07-23T12:47:40.460Z"
   },
   {
    "duration": 1384,
    "start_time": "2023-07-23T12:47:41.745Z"
   },
   {
    "duration": 3,
    "start_time": "2023-07-23T12:47:43.131Z"
   },
   {
    "duration": 26,
    "start_time": "2023-07-23T12:47:43.136Z"
   },
   {
    "duration": 75,
    "start_time": "2023-07-23T14:06:14.401Z"
   },
   {
    "duration": 1262,
    "start_time": "2023-07-23T14:06:26.737Z"
   },
   {
    "duration": 348,
    "start_time": "2023-07-23T14:06:28.001Z"
   },
   {
    "duration": 11,
    "start_time": "2023-07-23T14:06:28.351Z"
   },
   {
    "duration": 19,
    "start_time": "2023-07-23T14:06:28.364Z"
   },
   {
    "duration": 52,
    "start_time": "2023-07-23T14:06:28.384Z"
   },
   {
    "duration": 34,
    "start_time": "2023-07-23T14:06:28.437Z"
   },
   {
    "duration": 548,
    "start_time": "2023-07-23T14:06:28.472Z"
   },
   {
    "duration": 392,
    "start_time": "2023-07-23T14:06:29.022Z"
   },
   {
    "duration": 15,
    "start_time": "2023-07-23T14:06:29.420Z"
   },
   {
    "duration": 8,
    "start_time": "2023-07-23T14:06:29.438Z"
   },
   {
    "duration": 15,
    "start_time": "2023-07-23T14:06:29.448Z"
   },
   {
    "duration": 65,
    "start_time": "2023-07-23T14:06:29.464Z"
   },
   {
    "duration": 34,
    "start_time": "2023-07-23T14:06:29.531Z"
   },
   {
    "duration": 543,
    "start_time": "2023-07-23T14:06:29.566Z"
   },
   {
    "duration": 443,
    "start_time": "2023-07-23T14:06:30.111Z"
   },
   {
    "duration": 13,
    "start_time": "2023-07-23T14:06:30.555Z"
   },
   {
    "duration": 54,
    "start_time": "2023-07-23T14:06:30.570Z"
   },
   {
    "duration": 116,
    "start_time": "2023-07-23T14:06:30.625Z"
   },
   {
    "duration": 40,
    "start_time": "2023-07-23T14:06:30.742Z"
   },
   {
    "duration": 78,
    "start_time": "2023-07-23T14:06:30.784Z"
   },
   {
    "duration": 88,
    "start_time": "2023-07-23T14:06:30.864Z"
   },
   {
    "duration": 183,
    "start_time": "2023-07-23T14:06:30.953Z"
   },
   {
    "duration": 134,
    "start_time": "2023-07-23T14:06:31.137Z"
   },
   {
    "duration": 175,
    "start_time": "2023-07-23T14:06:31.273Z"
   },
   {
    "duration": 581,
    "start_time": "2023-07-23T14:06:31.450Z"
   },
   {
    "duration": 338,
    "start_time": "2023-07-23T14:06:32.032Z"
   },
   {
    "duration": 16,
    "start_time": "2023-07-23T14:06:32.372Z"
   },
   {
    "duration": 27,
    "start_time": "2023-07-23T14:06:32.391Z"
   },
   {
    "duration": 19,
    "start_time": "2023-07-23T14:06:32.421Z"
   },
   {
    "duration": 12,
    "start_time": "2023-07-23T14:06:32.442Z"
   },
   {
    "duration": 393,
    "start_time": "2023-07-23T14:06:32.456Z"
   },
   {
    "duration": 4,
    "start_time": "2023-07-23T14:06:32.922Z"
   },
   {
    "duration": 94,
    "start_time": "2023-07-23T14:06:32.928Z"
   },
   {
    "duration": 25,
    "start_time": "2023-07-23T14:06:33.023Z"
   },
   {
    "duration": 16,
    "start_time": "2023-07-23T14:06:33.050Z"
   },
   {
    "duration": 23,
    "start_time": "2023-07-23T14:06:33.067Z"
   },
   {
    "duration": 39,
    "start_time": "2023-07-23T14:06:33.092Z"
   },
   {
    "duration": 28,
    "start_time": "2023-07-23T14:06:33.132Z"
   },
   {
    "duration": 30,
    "start_time": "2023-07-23T14:06:33.161Z"
   },
   {
    "duration": 9,
    "start_time": "2023-07-23T14:06:33.193Z"
   },
   {
    "duration": 19,
    "start_time": "2023-07-23T14:06:33.204Z"
   },
   {
    "duration": 13,
    "start_time": "2023-07-23T14:06:33.225Z"
   },
   {
    "duration": 1175,
    "start_time": "2023-07-23T14:06:33.239Z"
   },
   {
    "duration": 1163,
    "start_time": "2023-07-23T14:06:34.416Z"
   },
   {
    "duration": 1197,
    "start_time": "2023-07-23T14:06:35.581Z"
   },
   {
    "duration": 4,
    "start_time": "2023-07-23T14:06:36.779Z"
   },
   {
    "duration": 37,
    "start_time": "2023-07-23T14:06:36.784Z"
   },
   {
    "duration": 66,
    "start_time": "2023-07-23T14:07:54.197Z"
   }
  ],
  "kernelspec": {
   "display_name": "Python 3 (ipykernel)",
   "language": "python",
   "name": "python3"
  },
  "language_info": {
   "codemirror_mode": {
    "name": "ipython",
    "version": 3
   },
   "file_extension": ".py",
   "mimetype": "text/x-python",
   "name": "python",
   "nbconvert_exporter": "python",
   "pygments_lexer": "ipython3",
   "version": "3.9.5"
  },
  "toc": {
   "base_numbering": 1,
   "nav_menu": {},
   "number_sections": true,
   "sideBar": true,
   "skip_h1_title": true,
   "title_cell": "Table of Contents",
   "title_sidebar": "Contents",
   "toc_cell": false,
   "toc_position": {},
   "toc_section_display": true,
   "toc_window_display": false
  }
 },
 "nbformat": 4,
 "nbformat_minor": 2
}
