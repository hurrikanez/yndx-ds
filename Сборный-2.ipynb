{
 "cells": [
  {
   "cell_type": "markdown",
   "metadata": {
    "toc": true
   },
   "source": [
    "<h1>Содержание<span class=\"tocSkip\"></span></h1>\n",
    "<div class=\"toc\"><ul class=\"toc-item\"><li><span><a href=\"#Подготовка-данных\" data-toc-modified-id=\"Подготовка-данных-1\"><span class=\"toc-item-num\">1&nbsp;&nbsp;</span>Подготовка данных</a></span><ul class=\"toc-item\"><li><span><a href=\"#Изучение-данных\" data-toc-modified-id=\"Изучение-данных-1.1\"><span class=\"toc-item-num\">1.1&nbsp;&nbsp;</span>Изучение данных</a></span></li><li><span><a href=\"#Проверка-расчета-эффективности-обогащения\" data-toc-modified-id=\"Проверка-расчета-эффективности-обогащения-1.2\"><span class=\"toc-item-num\">1.2&nbsp;&nbsp;</span>Проверка расчета эффективности обогащения</a></span></li><li><span><a href=\"#Недоступные-в-тестовой-выборке-признаки\" data-toc-modified-id=\"Недоступные-в-тестовой-выборке-признаки-1.3\"><span class=\"toc-item-num\">1.3&nbsp;&nbsp;</span>Недоступные в тестовой выборке признаки</a></span></li><li><span><a href=\"#Предобработка-данных\" data-toc-modified-id=\"Предобработка-данных-1.4\"><span class=\"toc-item-num\">1.4&nbsp;&nbsp;</span>Предобработка данных</a></span></li></ul></li><li><span><a href=\"#Анализ-данных\" data-toc-modified-id=\"Анализ-данных-2\"><span class=\"toc-item-num\">2&nbsp;&nbsp;</span>Анализ данных</a></span><ul class=\"toc-item\"><li><span><a href=\"#Концентрация-Au,-Ag,-Pb\" data-toc-modified-id=\"Концентрация-Au,-Ag,-Pb-2.1\"><span class=\"toc-item-num\">2.1&nbsp;&nbsp;</span>Концентрация Au, Ag, Pb</a></span></li><li><span><a href=\"#Сравнение-распределений-гранул-исходного-сырья\" data-toc-modified-id=\"Сравнение-распределений-гранул-исходного-сырья-2.2\"><span class=\"toc-item-num\">2.2&nbsp;&nbsp;</span>Сравнение распределений гранул исходного сырья</a></span></li><li><span><a href=\"#Суммарная-концентрация-металлов\" data-toc-modified-id=\"Суммарная-концентрация-металлов-2.3\"><span class=\"toc-item-num\">2.3&nbsp;&nbsp;</span>Суммарная концентрация металлов</a></span></li></ul></li><li><span><a href=\"#Модель\" data-toc-modified-id=\"Модель-3\"><span class=\"toc-item-num\">3&nbsp;&nbsp;</span>Модель</a></span><ul class=\"toc-item\"><li><span><a href=\"#Функция-для-вычисления-sMAPE\" data-toc-modified-id=\"Функция-для-вычисления-sMAPE-3.1\"><span class=\"toc-item-num\">3.1&nbsp;&nbsp;</span>Функция для вычисления sMAPE</a></span></li><li><span><a href=\"#Обучение-моделей\" data-toc-modified-id=\"Обучение-моделей-3.2\"><span class=\"toc-item-num\">3.2&nbsp;&nbsp;</span>Обучение моделей</a></span><ul class=\"toc-item\"><li><span><a href=\"#Линейная-регрессия\" data-toc-modified-id=\"Линейная-регрессия-3.2.1\"><span class=\"toc-item-num\">3.2.1&nbsp;&nbsp;</span>Линейная регрессия</a></span></li><li><span><a href=\"#Дерево-решений\" data-toc-modified-id=\"Дерево-решений-3.2.2\"><span class=\"toc-item-num\">3.2.2&nbsp;&nbsp;</span>Дерево решений</a></span></li><li><span><a href=\"#Случайный-лес\" data-toc-modified-id=\"Случайный-лес-3.2.3\"><span class=\"toc-item-num\">3.2.3&nbsp;&nbsp;</span>Случайный лес</a></span></li><li><span><a href=\"#Сравнение-результатов\" data-toc-modified-id=\"Сравнение-результатов-3.2.4\"><span class=\"toc-item-num\">3.2.4&nbsp;&nbsp;</span>Сравнение результатов</a></span></li></ul></li><li><span><a href=\"#Проверка-на-тестовой-выборке\" data-toc-modified-id=\"Проверка-на-тестовой-выборке-3.3\"><span class=\"toc-item-num\">3.3&nbsp;&nbsp;</span>Проверка на тестовой выборке</a></span></li></ul></li><li><span><a href=\"#Вывод\" data-toc-modified-id=\"Вывод-4\"><span class=\"toc-item-num\">4&nbsp;&nbsp;</span>Вывод</a></span></li></ul></div>"
   ]
  },
  {
   "cell_type": "markdown",
   "metadata": {},
   "source": [
    "# Восстановление золота из руды"
   ]
  },
  {
   "cell_type": "markdown",
   "metadata": {},
   "source": [
    "Разработайте прототип модели машинного обучения для компании, специализирующейся на создании решений для повышения эффективности работы промышленных предприятий.\n",
    "\n",
    "Модель должна прогнозировать коэффициент извлечения золота из золотосодержащей руды на основе данных о параметрах добычи и очистки.\n",
    "\n",
    "Эта модель поможет оптимизировать производственные процессы, предотвращая запуск предприятий с неэффективными характеристиками.\n",
    "\n",
    "Данные находятся в трёх файлах:\n",
    "* gold_industry_train.csv — обучающая выборка;\n",
    "* gold_industry_test.csv — тестовая выборка;\n",
    "* gold_industry_full.csv — исходные данные.\n",
    "\n",
    "**Описание данных**\n",
    "\n",
    "*Технологический процесс*\n",
    "* Rougher feed — исходное сырье\n",
    "* Rougher additions (или reagent additions) — флотационные реагенты: Xanthate, Sulphate, Depressant\n",
    "* Xanthate — ксантогенат (промотер, или активатор флотации);\n",
    "* Sulphate — сульфат (на данном производстве сульфид натрия);\n",
    "* Depressant — депрессант (силикат натрия).\n",
    "* Rougher process (англ. «грубый процесс») — флотация\n",
    "* Rougher tails — отвальные хвосты\n",
    "* Float banks — флотационная установка\n",
    "* Cleaner process — очистка\n",
    "* Rougher Au — черновой концентрат золота\n",
    "* Final Au — финальный концентрат золота\n",
    "\n",
    "***Параметры этапов***\n",
    "* air amount — объём воздуха\n",
    "* fluid levels — уровень жидкости\n",
    "* feed size — размер гранул сырья\n",
    "* feed rate — скорость подачи\n",
    "\n",
    "***Наименование признаков*** <br>\n",
    "Наименование признаков должно быть такое:<br>\n",
    "*[этап].[тип_параметра].[название_параметра]* <br>\n",
    "Пример: rougher.input.feed_ag <br>\n",
    "\n",
    "Возможные значения для блока [этап]:\n",
    "* rougher — флотация\n",
    "* primary_cleaner — первичная очистка\n",
    "* secondary_cleaner — вторичная очистка\n",
    "* final — финальные характеристики\n",
    "\n",
    "Возможные значения для блока [тип_параметра]:\n",
    "* input — параметры сырья\n",
    "* output — параметры продукта\n",
    "* state — параметры, характеризующие текущее состояние этапа\n",
    "* calculation — расчётные характеристики\n",
    "\n",
    "Данные индексируются датой и временем получения информации (признак date). Соседние по времени параметры часто похожи.\n",
    "Некоторые параметры недоступны, потому что замеряются и/или рассчитываются значительно позже. Из-за этого в тестовой выборке отсутствуют некоторые признаки, которые могут быть в обучающей. Также в тестовом наборе нет целевых признаков.\n",
    "Исходный датасет содержит обучающую и тестовую выборки со всеми признаками.\n",
    "В вашем распоряжении сырые данные: их просто выгрузили из хранилища. Прежде чем приступить к построению модели, проверьте по нашей инструкции их на корректность.\n",
    "**********"
   ]
  },
  {
   "cell_type": "markdown",
   "metadata": {},
   "source": [
    "## Подготовка данных"
   ]
  },
  {
   "cell_type": "markdown",
   "metadata": {},
   "source": [
    "1. Подготовьте данные <br>\n",
    "    1.1. Откройте файлы и изучите их.<br>\n",
    "    1.2. Проверьте, что эффективность обогащения рассчитана правильно. Вычислите её на обучающей выборке для признака rougher.output.recovery. Найдите MAE между вашими расчётами и значением признака. Опишите выводы.<br>\n",
    "    1.3. Проанализируйте признаки, недоступные в тестовой выборке. Что это за параметры? К какому типу относятся?<br>\n",
    "    1.4. Проведите предобработку данных.<br>\n",
    "*****\n",
    "### Изучение данных"
   ]
  },
  {
   "cell_type": "code",
   "execution_count": 1,
   "metadata": {},
   "outputs": [],
   "source": [
    "import numpy as np\n",
    "import pandas as pd\n",
    "import matplotlib.pyplot as plt\n",
    "import seaborn as sns\n",
    "from sklearn.metrics import mean_absolute_error, make_scorer\n",
    "from sklearn.model_selection import GridSearchCV, cross_val_score\n",
    "from sklearn.preprocessing import StandardScaler\n",
    "from sklearn.ensemble import RandomForestRegressor\n",
    "from sklearn.linear_model import LinearRegression\n",
    "from sklearn.dummy import DummyRegressor\n",
    "from sklearn.tree import DecisionTreeRegressor\n",
    "import warnings\n",
    "warnings.filterwarnings(\"ignore\")\n",
    "\n",
    "state=12345"
   ]
  },
  {
   "cell_type": "markdown",
   "metadata": {},
   "source": [
    "**Полная выборка**"
   ]
  },
  {
   "cell_type": "code",
   "execution_count": 2,
   "metadata": {
    "scrolled": true
   },
   "outputs": [
    {
     "data": {
      "text/html": [
       "<div>\n",
       "<style scoped>\n",
       "    .dataframe tbody tr th:only-of-type {\n",
       "        vertical-align: middle;\n",
       "    }\n",
       "\n",
       "    .dataframe tbody tr th {\n",
       "        vertical-align: top;\n",
       "    }\n",
       "\n",
       "    .dataframe thead th {\n",
       "        text-align: right;\n",
       "    }\n",
       "</style>\n",
       "<table border=\"1\" class=\"dataframe\">\n",
       "  <thead>\n",
       "    <tr style=\"text-align: right;\">\n",
       "      <th></th>\n",
       "      <th>date</th>\n",
       "      <th>rougher.input.feed_au</th>\n",
       "      <th>rougher.input.feed_ag</th>\n",
       "      <th>rougher.input.feed_pb</th>\n",
       "      <th>rougher.input.feed_sol</th>\n",
       "      <th>rougher.input.feed_rate</th>\n",
       "      <th>rougher.input.feed_size</th>\n",
       "      <th>rougher.input.floatbank10_sulfate</th>\n",
       "      <th>rougher.input.floatbank10_xanthate</th>\n",
       "      <th>rougher.state.floatbank10_a_air</th>\n",
       "      <th>...</th>\n",
       "      <th>secondary_cleaner.output.tail_sol</th>\n",
       "      <th>final.output.concentrate_au</th>\n",
       "      <th>final.output.concentrate_ag</th>\n",
       "      <th>final.output.concentrate_pb</th>\n",
       "      <th>final.output.concentrate_sol</th>\n",
       "      <th>final.output.recovery</th>\n",
       "      <th>final.output.tail_au</th>\n",
       "      <th>final.output.tail_ag</th>\n",
       "      <th>final.output.tail_pb</th>\n",
       "      <th>final.output.tail_sol</th>\n",
       "    </tr>\n",
       "  </thead>\n",
       "  <tbody>\n",
       "    <tr>\n",
       "      <th>0</th>\n",
       "      <td>2016-01-15 00:00:00</td>\n",
       "      <td>6.486150</td>\n",
       "      <td>6.100378</td>\n",
       "      <td>2.284912</td>\n",
       "      <td>36.808594</td>\n",
       "      <td>523.546326</td>\n",
       "      <td>55.486599</td>\n",
       "      <td>11.986616</td>\n",
       "      <td>6.007990</td>\n",
       "      <td>999.706909</td>\n",
       "      <td>...</td>\n",
       "      <td>8.764648</td>\n",
       "      <td>42.192020</td>\n",
       "      <td>6.055403</td>\n",
       "      <td>9.889648</td>\n",
       "      <td>5.507324</td>\n",
       "      <td>70.541216</td>\n",
       "      <td>2.143149</td>\n",
       "      <td>10.411962</td>\n",
       "      <td>0.895447</td>\n",
       "      <td>16.904297</td>\n",
       "    </tr>\n",
       "    <tr>\n",
       "      <th>1</th>\n",
       "      <td>2016-01-15 01:00:00</td>\n",
       "      <td>6.478583</td>\n",
       "      <td>6.161113</td>\n",
       "      <td>2.266033</td>\n",
       "      <td>35.753385</td>\n",
       "      <td>525.290581</td>\n",
       "      <td>57.278666</td>\n",
       "      <td>11.971193</td>\n",
       "      <td>6.005766</td>\n",
       "      <td>1000.286398</td>\n",
       "      <td>...</td>\n",
       "      <td>9.001494</td>\n",
       "      <td>42.701629</td>\n",
       "      <td>6.029369</td>\n",
       "      <td>9.968944</td>\n",
       "      <td>5.257781</td>\n",
       "      <td>69.266198</td>\n",
       "      <td>2.224930</td>\n",
       "      <td>10.462676</td>\n",
       "      <td>0.927452</td>\n",
       "      <td>16.634514</td>\n",
       "    </tr>\n",
       "    <tr>\n",
       "      <th>2</th>\n",
       "      <td>2016-01-15 02:00:00</td>\n",
       "      <td>6.362222</td>\n",
       "      <td>6.116455</td>\n",
       "      <td>2.159622</td>\n",
       "      <td>35.971630</td>\n",
       "      <td>530.026610</td>\n",
       "      <td>57.510649</td>\n",
       "      <td>11.920603</td>\n",
       "      <td>6.197377</td>\n",
       "      <td>999.719565</td>\n",
       "      <td>...</td>\n",
       "      <td>8.842896</td>\n",
       "      <td>42.657501</td>\n",
       "      <td>6.055926</td>\n",
       "      <td>10.213995</td>\n",
       "      <td>5.383759</td>\n",
       "      <td>68.116445</td>\n",
       "      <td>2.257889</td>\n",
       "      <td>10.507046</td>\n",
       "      <td>0.953716</td>\n",
       "      <td>16.208849</td>\n",
       "    </tr>\n",
       "    <tr>\n",
       "      <th>3</th>\n",
       "      <td>2016-01-15 03:00:00</td>\n",
       "      <td>6.118189</td>\n",
       "      <td>6.043309</td>\n",
       "      <td>2.037807</td>\n",
       "      <td>36.862241</td>\n",
       "      <td>542.590390</td>\n",
       "      <td>57.792734</td>\n",
       "      <td>11.630094</td>\n",
       "      <td>6.203177</td>\n",
       "      <td>999.814770</td>\n",
       "      <td>...</td>\n",
       "      <td>9.122857</td>\n",
       "      <td>42.689819</td>\n",
       "      <td>6.047977</td>\n",
       "      <td>9.977019</td>\n",
       "      <td>4.858634</td>\n",
       "      <td>68.347543</td>\n",
       "      <td>2.146849</td>\n",
       "      <td>10.422762</td>\n",
       "      <td>0.883763</td>\n",
       "      <td>16.532835</td>\n",
       "    </tr>\n",
       "    <tr>\n",
       "      <th>4</th>\n",
       "      <td>2016-01-15 04:00:00</td>\n",
       "      <td>5.663707</td>\n",
       "      <td>6.060915</td>\n",
       "      <td>1.786875</td>\n",
       "      <td>34.347666</td>\n",
       "      <td>540.531893</td>\n",
       "      <td>56.047189</td>\n",
       "      <td>10.957755</td>\n",
       "      <td>6.198826</td>\n",
       "      <td>999.678690</td>\n",
       "      <td>...</td>\n",
       "      <td>8.871028</td>\n",
       "      <td>42.774141</td>\n",
       "      <td>6.148599</td>\n",
       "      <td>10.142511</td>\n",
       "      <td>4.939416</td>\n",
       "      <td>66.927016</td>\n",
       "      <td>2.055292</td>\n",
       "      <td>10.360302</td>\n",
       "      <td>0.792826</td>\n",
       "      <td>16.525686</td>\n",
       "    </tr>\n",
       "  </tbody>\n",
       "</table>\n",
       "<p>5 rows × 87 columns</p>\n",
       "</div>"
      ],
      "text/plain": [
       "                  date  rougher.input.feed_au  rougher.input.feed_ag  \\\n",
       "0  2016-01-15 00:00:00               6.486150               6.100378   \n",
       "1  2016-01-15 01:00:00               6.478583               6.161113   \n",
       "2  2016-01-15 02:00:00               6.362222               6.116455   \n",
       "3  2016-01-15 03:00:00               6.118189               6.043309   \n",
       "4  2016-01-15 04:00:00               5.663707               6.060915   \n",
       "\n",
       "   rougher.input.feed_pb  rougher.input.feed_sol  rougher.input.feed_rate  \\\n",
       "0               2.284912               36.808594               523.546326   \n",
       "1               2.266033               35.753385               525.290581   \n",
       "2               2.159622               35.971630               530.026610   \n",
       "3               2.037807               36.862241               542.590390   \n",
       "4               1.786875               34.347666               540.531893   \n",
       "\n",
       "   rougher.input.feed_size  rougher.input.floatbank10_sulfate  \\\n",
       "0                55.486599                          11.986616   \n",
       "1                57.278666                          11.971193   \n",
       "2                57.510649                          11.920603   \n",
       "3                57.792734                          11.630094   \n",
       "4                56.047189                          10.957755   \n",
       "\n",
       "   rougher.input.floatbank10_xanthate  rougher.state.floatbank10_a_air  ...  \\\n",
       "0                            6.007990                       999.706909  ...   \n",
       "1                            6.005766                      1000.286398  ...   \n",
       "2                            6.197377                       999.719565  ...   \n",
       "3                            6.203177                       999.814770  ...   \n",
       "4                            6.198826                       999.678690  ...   \n",
       "\n",
       "   secondary_cleaner.output.tail_sol  final.output.concentrate_au  \\\n",
       "0                           8.764648                    42.192020   \n",
       "1                           9.001494                    42.701629   \n",
       "2                           8.842896                    42.657501   \n",
       "3                           9.122857                    42.689819   \n",
       "4                           8.871028                    42.774141   \n",
       "\n",
       "   final.output.concentrate_ag  final.output.concentrate_pb  \\\n",
       "0                     6.055403                     9.889648   \n",
       "1                     6.029369                     9.968944   \n",
       "2                     6.055926                    10.213995   \n",
       "3                     6.047977                     9.977019   \n",
       "4                     6.148599                    10.142511   \n",
       "\n",
       "   final.output.concentrate_sol  final.output.recovery  final.output.tail_au  \\\n",
       "0                      5.507324              70.541216              2.143149   \n",
       "1                      5.257781              69.266198              2.224930   \n",
       "2                      5.383759              68.116445              2.257889   \n",
       "3                      4.858634              68.347543              2.146849   \n",
       "4                      4.939416              66.927016              2.055292   \n",
       "\n",
       "   final.output.tail_ag  final.output.tail_pb  final.output.tail_sol  \n",
       "0             10.411962              0.895447              16.904297  \n",
       "1             10.462676              0.927452              16.634514  \n",
       "2             10.507046              0.953716              16.208849  \n",
       "3             10.422762              0.883763              16.532835  \n",
       "4             10.360302              0.792826              16.525686  \n",
       "\n",
       "[5 rows x 87 columns]"
      ]
     },
     "execution_count": 2,
     "metadata": {},
     "output_type": "execute_result"
    }
   ],
   "source": [
    "gold_full = pd.read_csv('/datasets/gold_industry_full.csv')\n",
    "gold_full.head()"
   ]
  },
  {
   "cell_type": "code",
   "execution_count": 3,
   "metadata": {
    "scrolled": true
   },
   "outputs": [
    {
     "name": "stdout",
     "output_type": "stream",
     "text": [
      "<class 'pandas.core.frame.DataFrame'>\n",
      "RangeIndex: 19439 entries, 0 to 19438\n",
      "Data columns (total 87 columns):\n",
      " #   Column                                              Non-Null Count  Dtype  \n",
      "---  ------                                              --------------  -----  \n",
      " 0   date                                                19439 non-null  object \n",
      " 1   rougher.input.feed_au                               19439 non-null  float64\n",
      " 2   rougher.input.feed_ag                               19439 non-null  float64\n",
      " 3   rougher.input.feed_pb                               19339 non-null  float64\n",
      " 4   rougher.input.feed_sol                              19340 non-null  float64\n",
      " 5   rougher.input.feed_rate                             19428 non-null  float64\n",
      " 6   rougher.input.feed_size                             19294 non-null  float64\n",
      " 7   rougher.input.floatbank10_sulfate                   19405 non-null  float64\n",
      " 8   rougher.input.floatbank10_xanthate                  19431 non-null  float64\n",
      " 9   rougher.state.floatbank10_a_air                     19438 non-null  float64\n",
      " 10  rougher.state.floatbank10_a_level                   19438 non-null  float64\n",
      " 11  rougher.state.floatbank10_b_air                     19438 non-null  float64\n",
      " 12  rougher.state.floatbank10_b_level                   19438 non-null  float64\n",
      " 13  rougher.state.floatbank10_c_air                     19438 non-null  float64\n",
      " 14  rougher.state.floatbank10_c_level                   19438 non-null  float64\n",
      " 15  rougher.state.floatbank10_d_air                     19439 non-null  float64\n",
      " 16  rougher.state.floatbank10_d_level                   19439 non-null  float64\n",
      " 17  rougher.state.floatbank10_e_air                     19003 non-null  float64\n",
      " 18  rougher.state.floatbank10_e_level                   19439 non-null  float64\n",
      " 19  rougher.state.floatbank10_f_air                     19439 non-null  float64\n",
      " 20  rougher.state.floatbank10_f_level                   19439 non-null  float64\n",
      " 21  rougher.input.floatbank11_sulfate                   19395 non-null  float64\n",
      " 22  rougher.input.floatbank11_xanthate                  18986 non-null  float64\n",
      " 23  rougher.calculation.sulfate_to_au_concentrate       19437 non-null  float64\n",
      " 24  rougher.calculation.floatbank10_sulfate_to_au_feed  19437 non-null  float64\n",
      " 25  rougher.calculation.floatbank11_sulfate_to_au_feed  19437 non-null  float64\n",
      " 26  rougher.calculation.au_pb_ratio                     19439 non-null  float64\n",
      " 27  rougher.output.concentrate_au                       19439 non-null  float64\n",
      " 28  rougher.output.concentrate_ag                       19439 non-null  float64\n",
      " 29  rougher.output.concentrate_pb                       19439 non-null  float64\n",
      " 30  rougher.output.concentrate_sol                      19416 non-null  float64\n",
      " 31  rougher.output.recovery                             19439 non-null  float64\n",
      " 32  rougher.output.tail_au                              19439 non-null  float64\n",
      " 33  rougher.output.tail_ag                              19438 non-null  float64\n",
      " 34  rougher.output.tail_pb                              19439 non-null  float64\n",
      " 35  rougher.output.tail_sol                             19439 non-null  float64\n",
      " 36  primary_cleaner.input.sulfate                       19415 non-null  float64\n",
      " 37  primary_cleaner.input.depressant                    19402 non-null  float64\n",
      " 38  primary_cleaner.input.feed_size                     19439 non-null  float64\n",
      " 39  primary_cleaner.input.xanthate                      19335 non-null  float64\n",
      " 40  primary_cleaner.state.floatbank8_a_air              19435 non-null  float64\n",
      " 41  primary_cleaner.state.floatbank8_a_level            19438 non-null  float64\n",
      " 42  primary_cleaner.state.floatbank8_b_air              19435 non-null  float64\n",
      " 43  primary_cleaner.state.floatbank8_b_level            19438 non-null  float64\n",
      " 44  primary_cleaner.state.floatbank8_c_air              19437 non-null  float64\n",
      " 45  primary_cleaner.state.floatbank8_c_level            19438 non-null  float64\n",
      " 46  primary_cleaner.state.floatbank8_d_air              19436 non-null  float64\n",
      " 47  primary_cleaner.state.floatbank8_d_level            19438 non-null  float64\n",
      " 48  primary_cleaner.output.concentrate_au               19439 non-null  float64\n",
      " 49  primary_cleaner.output.concentrate_ag               19439 non-null  float64\n",
      " 50  primary_cleaner.output.concentrate_pb               19323 non-null  float64\n",
      " 51  primary_cleaner.output.concentrate_sol              19069 non-null  float64\n",
      " 52  primary_cleaner.output.tail_au                      19439 non-null  float64\n",
      " 53  primary_cleaner.output.tail_ag                      19435 non-null  float64\n",
      " 54  primary_cleaner.output.tail_pb                      19418 non-null  float64\n",
      " 55  primary_cleaner.output.tail_sol                     19377 non-null  float64\n",
      " 56  secondary_cleaner.state.floatbank2_a_air            19219 non-null  float64\n",
      " 57  secondary_cleaner.state.floatbank2_a_level          19438 non-null  float64\n",
      " 58  secondary_cleaner.state.floatbank2_b_air            19416 non-null  float64\n",
      " 59  secondary_cleaner.state.floatbank2_b_level          19438 non-null  float64\n",
      " 60  secondary_cleaner.state.floatbank3_a_air            19426 non-null  float64\n",
      " 61  secondary_cleaner.state.floatbank3_a_level          19438 non-null  float64\n",
      " 62  secondary_cleaner.state.floatbank3_b_air            19438 non-null  float64\n",
      " 63  secondary_cleaner.state.floatbank3_b_level          19438 non-null  float64\n",
      " 64  secondary_cleaner.state.floatbank4_a_air            19433 non-null  float64\n",
      " 65  secondary_cleaner.state.floatbank4_a_level          19438 non-null  float64\n",
      " 66  secondary_cleaner.state.floatbank4_b_air            19438 non-null  float64\n",
      " 67  secondary_cleaner.state.floatbank4_b_level          19438 non-null  float64\n",
      " 68  secondary_cleaner.state.floatbank5_a_air            19438 non-null  float64\n",
      " 69  secondary_cleaner.state.floatbank5_a_level          19438 non-null  float64\n",
      " 70  secondary_cleaner.state.floatbank5_b_air            19438 non-null  float64\n",
      " 71  secondary_cleaner.state.floatbank5_b_level          19438 non-null  float64\n",
      " 72  secondary_cleaner.state.floatbank6_a_air            19437 non-null  float64\n",
      " 73  secondary_cleaner.state.floatbank6_a_level          19438 non-null  float64\n",
      " 74  secondary_cleaner.output.tail_au                    19439 non-null  float64\n",
      " 75  secondary_cleaner.output.tail_ag                    19437 non-null  float64\n",
      " 76  secondary_cleaner.output.tail_pb                    19427 non-null  float64\n",
      " 77  secondary_cleaner.output.tail_sol                   17691 non-null  float64\n",
      " 78  final.output.concentrate_au                         19439 non-null  float64\n",
      " 79  final.output.concentrate_ag                         19438 non-null  float64\n",
      " 80  final.output.concentrate_pb                         19438 non-null  float64\n",
      " 81  final.output.concentrate_sol                        19228 non-null  float64\n",
      " 82  final.output.recovery                               19439 non-null  float64\n",
      " 83  final.output.tail_au                                19439 non-null  float64\n",
      " 84  final.output.tail_ag                                19438 non-null  float64\n",
      " 85  final.output.tail_pb                                19338 non-null  float64\n",
      " 86  final.output.tail_sol                               19433 non-null  float64\n",
      "dtypes: float64(86), object(1)\n",
      "memory usage: 12.9+ MB\n"
     ]
    }
   ],
   "source": [
    "gold_full.info()"
   ]
  },
  {
   "cell_type": "code",
   "execution_count": 4,
   "metadata": {},
   "outputs": [
    {
     "data": {
      "text/plain": [
       "(19439, 87)"
      ]
     },
     "execution_count": 4,
     "metadata": {},
     "output_type": "execute_result"
    }
   ],
   "source": [
    "gold_full.shape"
   ]
  },
  {
   "cell_type": "code",
   "execution_count": 5,
   "metadata": {},
   "outputs": [
    {
     "data": {
      "text/html": [
       "<div>\n",
       "<style scoped>\n",
       "    .dataframe tbody tr th:only-of-type {\n",
       "        vertical-align: middle;\n",
       "    }\n",
       "\n",
       "    .dataframe tbody tr th {\n",
       "        vertical-align: top;\n",
       "    }\n",
       "\n",
       "    .dataframe thead th {\n",
       "        text-align: right;\n",
       "    }\n",
       "</style>\n",
       "<table border=\"1\" class=\"dataframe\">\n",
       "  <thead>\n",
       "    <tr style=\"text-align: right;\">\n",
       "      <th></th>\n",
       "      <th>rougher.input.feed_au</th>\n",
       "      <th>rougher.input.feed_ag</th>\n",
       "      <th>rougher.input.feed_pb</th>\n",
       "      <th>rougher.input.feed_sol</th>\n",
       "      <th>rougher.input.feed_rate</th>\n",
       "      <th>rougher.input.feed_size</th>\n",
       "      <th>rougher.input.floatbank10_sulfate</th>\n",
       "      <th>rougher.input.floatbank10_xanthate</th>\n",
       "      <th>rougher.state.floatbank10_a_air</th>\n",
       "      <th>rougher.state.floatbank10_a_level</th>\n",
       "      <th>...</th>\n",
       "      <th>secondary_cleaner.output.tail_sol</th>\n",
       "      <th>final.output.concentrate_au</th>\n",
       "      <th>final.output.concentrate_ag</th>\n",
       "      <th>final.output.concentrate_pb</th>\n",
       "      <th>final.output.concentrate_sol</th>\n",
       "      <th>final.output.recovery</th>\n",
       "      <th>final.output.tail_au</th>\n",
       "      <th>final.output.tail_ag</th>\n",
       "      <th>final.output.tail_pb</th>\n",
       "      <th>final.output.tail_sol</th>\n",
       "    </tr>\n",
       "  </thead>\n",
       "  <tbody>\n",
       "    <tr>\n",
       "      <th>count</th>\n",
       "      <td>19439.000000</td>\n",
       "      <td>19439.000000</td>\n",
       "      <td>19339.000000</td>\n",
       "      <td>19340.000000</td>\n",
       "      <td>19428.000000</td>\n",
       "      <td>19294.000000</td>\n",
       "      <td>19405.000000</td>\n",
       "      <td>19431.000000</td>\n",
       "      <td>19438.000000</td>\n",
       "      <td>19438.000000</td>\n",
       "      <td>...</td>\n",
       "      <td>17691.000000</td>\n",
       "      <td>19439.000000</td>\n",
       "      <td>19438.000000</td>\n",
       "      <td>19438.000000</td>\n",
       "      <td>19228.000000</td>\n",
       "      <td>19439.000000</td>\n",
       "      <td>19439.000000</td>\n",
       "      <td>19438.000000</td>\n",
       "      <td>19338.000000</td>\n",
       "      <td>19433.000000</td>\n",
       "    </tr>\n",
       "    <tr>\n",
       "      <th>mean</th>\n",
       "      <td>8.266097</td>\n",
       "      <td>8.794927</td>\n",
       "      <td>3.598085</td>\n",
       "      <td>36.695114</td>\n",
       "      <td>478.320042</td>\n",
       "      <td>58.970310</td>\n",
       "      <td>12.334373</td>\n",
       "      <td>6.021474</td>\n",
       "      <td>1105.315068</td>\n",
       "      <td>-376.610690</td>\n",
       "      <td>...</td>\n",
       "      <td>7.167247</td>\n",
       "      <td>44.076513</td>\n",
       "      <td>5.168470</td>\n",
       "      <td>9.978895</td>\n",
       "      <td>9.501224</td>\n",
       "      <td>67.050208</td>\n",
       "      <td>3.042467</td>\n",
       "      <td>9.688589</td>\n",
       "      <td>2.705795</td>\n",
       "      <td>10.583728</td>\n",
       "    </tr>\n",
       "    <tr>\n",
       "      <th>std</th>\n",
       "      <td>1.955092</td>\n",
       "      <td>1.936847</td>\n",
       "      <td>1.049486</td>\n",
       "      <td>5.145445</td>\n",
       "      <td>105.373758</td>\n",
       "      <td>21.634478</td>\n",
       "      <td>3.427317</td>\n",
       "      <td>1.127263</td>\n",
       "      <td>160.826798</td>\n",
       "      <td>93.909667</td>\n",
       "      <td>...</td>\n",
       "      <td>3.916079</td>\n",
       "      <td>5.129784</td>\n",
       "      <td>1.372348</td>\n",
       "      <td>1.669240</td>\n",
       "      <td>2.787537</td>\n",
       "      <td>10.125840</td>\n",
       "      <td>0.922808</td>\n",
       "      <td>2.328642</td>\n",
       "      <td>0.949077</td>\n",
       "      <td>2.868782</td>\n",
       "    </tr>\n",
       "    <tr>\n",
       "      <th>min</th>\n",
       "      <td>0.010000</td>\n",
       "      <td>0.010000</td>\n",
       "      <td>0.010000</td>\n",
       "      <td>0.010000</td>\n",
       "      <td>0.002986</td>\n",
       "      <td>0.046369</td>\n",
       "      <td>0.001083</td>\n",
       "      <td>0.000568</td>\n",
       "      <td>-0.042069</td>\n",
       "      <td>-657.949759</td>\n",
       "      <td>...</td>\n",
       "      <td>0.000000</td>\n",
       "      <td>0.000000</td>\n",
       "      <td>0.000000</td>\n",
       "      <td>0.000000</td>\n",
       "      <td>0.000000</td>\n",
       "      <td>0.000000</td>\n",
       "      <td>0.000000</td>\n",
       "      <td>0.000000</td>\n",
       "      <td>0.000000</td>\n",
       "      <td>0.000000</td>\n",
       "    </tr>\n",
       "    <tr>\n",
       "      <th>25%</th>\n",
       "      <td>6.854384</td>\n",
       "      <td>7.237967</td>\n",
       "      <td>2.887280</td>\n",
       "      <td>34.207799</td>\n",
       "      <td>416.525453</td>\n",
       "      <td>47.435103</td>\n",
       "      <td>10.000362</td>\n",
       "      <td>5.398678</td>\n",
       "      <td>999.661867</td>\n",
       "      <td>-499.835165</td>\n",
       "      <td>...</td>\n",
       "      <td>3.845475</td>\n",
       "      <td>43.402215</td>\n",
       "      <td>4.251240</td>\n",
       "      <td>9.137262</td>\n",
       "      <td>7.722820</td>\n",
       "      <td>63.299712</td>\n",
       "      <td>2.461138</td>\n",
       "      <td>8.062878</td>\n",
       "      <td>2.040119</td>\n",
       "      <td>8.938947</td>\n",
       "    </tr>\n",
       "    <tr>\n",
       "      <th>50%</th>\n",
       "      <td>8.125839</td>\n",
       "      <td>8.593574</td>\n",
       "      <td>3.534895</td>\n",
       "      <td>37.202650</td>\n",
       "      <td>499.416120</td>\n",
       "      <td>54.610197</td>\n",
       "      <td>12.001174</td>\n",
       "      <td>6.008273</td>\n",
       "      <td>1001.072890</td>\n",
       "      <td>-300.263994</td>\n",
       "      <td>...</td>\n",
       "      <td>7.685827</td>\n",
       "      <td>45.011244</td>\n",
       "      <td>5.066094</td>\n",
       "      <td>10.102433</td>\n",
       "      <td>9.218961</td>\n",
       "      <td>68.172738</td>\n",
       "      <td>2.984909</td>\n",
       "      <td>9.743623</td>\n",
       "      <td>2.748730</td>\n",
       "      <td>10.622456</td>\n",
       "    </tr>\n",
       "    <tr>\n",
       "      <th>75%</th>\n",
       "      <td>9.769917</td>\n",
       "      <td>10.213771</td>\n",
       "      <td>4.244161</td>\n",
       "      <td>40.039133</td>\n",
       "      <td>550.172183</td>\n",
       "      <td>65.023044</td>\n",
       "      <td>14.716595</td>\n",
       "      <td>6.798051</td>\n",
       "      <td>1205.620588</td>\n",
       "      <td>-299.981998</td>\n",
       "      <td>...</td>\n",
       "      <td>10.411296</td>\n",
       "      <td>46.275313</td>\n",
       "      <td>5.895527</td>\n",
       "      <td>11.035769</td>\n",
       "      <td>10.947813</td>\n",
       "      <td>72.686642</td>\n",
       "      <td>3.571351</td>\n",
       "      <td>11.134294</td>\n",
       "      <td>3.333216</td>\n",
       "      <td>12.104271</td>\n",
       "    </tr>\n",
       "    <tr>\n",
       "      <th>max</th>\n",
       "      <td>13.731330</td>\n",
       "      <td>14.596026</td>\n",
       "      <td>7.142594</td>\n",
       "      <td>53.477742</td>\n",
       "      <td>717.508837</td>\n",
       "      <td>484.967466</td>\n",
       "      <td>36.118275</td>\n",
       "      <td>9.703448</td>\n",
       "      <td>1521.980372</td>\n",
       "      <td>-273.776101</td>\n",
       "      <td>...</td>\n",
       "      <td>26.000772</td>\n",
       "      <td>52.756638</td>\n",
       "      <td>16.001945</td>\n",
       "      <td>17.031899</td>\n",
       "      <td>19.615720</td>\n",
       "      <td>100.000000</td>\n",
       "      <td>8.245022</td>\n",
       "      <td>19.552149</td>\n",
       "      <td>5.804178</td>\n",
       "      <td>22.317730</td>\n",
       "    </tr>\n",
       "  </tbody>\n",
       "</table>\n",
       "<p>8 rows × 86 columns</p>\n",
       "</div>"
      ],
      "text/plain": [
       "       rougher.input.feed_au  rougher.input.feed_ag  rougher.input.feed_pb  \\\n",
       "count           19439.000000           19439.000000           19339.000000   \n",
       "mean                8.266097               8.794927               3.598085   \n",
       "std                 1.955092               1.936847               1.049486   \n",
       "min                 0.010000               0.010000               0.010000   \n",
       "25%                 6.854384               7.237967               2.887280   \n",
       "50%                 8.125839               8.593574               3.534895   \n",
       "75%                 9.769917              10.213771               4.244161   \n",
       "max                13.731330              14.596026               7.142594   \n",
       "\n",
       "       rougher.input.feed_sol  rougher.input.feed_rate  \\\n",
       "count            19340.000000             19428.000000   \n",
       "mean                36.695114               478.320042   \n",
       "std                  5.145445               105.373758   \n",
       "min                  0.010000                 0.002986   \n",
       "25%                 34.207799               416.525453   \n",
       "50%                 37.202650               499.416120   \n",
       "75%                 40.039133               550.172183   \n",
       "max                 53.477742               717.508837   \n",
       "\n",
       "       rougher.input.feed_size  rougher.input.floatbank10_sulfate  \\\n",
       "count             19294.000000                       19405.000000   \n",
       "mean                 58.970310                          12.334373   \n",
       "std                  21.634478                           3.427317   \n",
       "min                   0.046369                           0.001083   \n",
       "25%                  47.435103                          10.000362   \n",
       "50%                  54.610197                          12.001174   \n",
       "75%                  65.023044                          14.716595   \n",
       "max                 484.967466                          36.118275   \n",
       "\n",
       "       rougher.input.floatbank10_xanthate  rougher.state.floatbank10_a_air  \\\n",
       "count                        19431.000000                     19438.000000   \n",
       "mean                             6.021474                      1105.315068   \n",
       "std                              1.127263                       160.826798   \n",
       "min                              0.000568                        -0.042069   \n",
       "25%                              5.398678                       999.661867   \n",
       "50%                              6.008273                      1001.072890   \n",
       "75%                              6.798051                      1205.620588   \n",
       "max                              9.703448                      1521.980372   \n",
       "\n",
       "       rougher.state.floatbank10_a_level  ...  \\\n",
       "count                       19438.000000  ...   \n",
       "mean                         -376.610690  ...   \n",
       "std                            93.909667  ...   \n",
       "min                          -657.949759  ...   \n",
       "25%                          -499.835165  ...   \n",
       "50%                          -300.263994  ...   \n",
       "75%                          -299.981998  ...   \n",
       "max                          -273.776101  ...   \n",
       "\n",
       "       secondary_cleaner.output.tail_sol  final.output.concentrate_au  \\\n",
       "count                       17691.000000                 19439.000000   \n",
       "mean                            7.167247                    44.076513   \n",
       "std                             3.916079                     5.129784   \n",
       "min                             0.000000                     0.000000   \n",
       "25%                             3.845475                    43.402215   \n",
       "50%                             7.685827                    45.011244   \n",
       "75%                            10.411296                    46.275313   \n",
       "max                            26.000772                    52.756638   \n",
       "\n",
       "       final.output.concentrate_ag  final.output.concentrate_pb  \\\n",
       "count                 19438.000000                 19438.000000   \n",
       "mean                      5.168470                     9.978895   \n",
       "std                       1.372348                     1.669240   \n",
       "min                       0.000000                     0.000000   \n",
       "25%                       4.251240                     9.137262   \n",
       "50%                       5.066094                    10.102433   \n",
       "75%                       5.895527                    11.035769   \n",
       "max                      16.001945                    17.031899   \n",
       "\n",
       "       final.output.concentrate_sol  final.output.recovery  \\\n",
       "count                  19228.000000           19439.000000   \n",
       "mean                       9.501224              67.050208   \n",
       "std                        2.787537              10.125840   \n",
       "min                        0.000000               0.000000   \n",
       "25%                        7.722820              63.299712   \n",
       "50%                        9.218961              68.172738   \n",
       "75%                       10.947813              72.686642   \n",
       "max                       19.615720             100.000000   \n",
       "\n",
       "       final.output.tail_au  final.output.tail_ag  final.output.tail_pb  \\\n",
       "count          19439.000000          19438.000000          19338.000000   \n",
       "mean               3.042467              9.688589              2.705795   \n",
       "std                0.922808              2.328642              0.949077   \n",
       "min                0.000000              0.000000              0.000000   \n",
       "25%                2.461138              8.062878              2.040119   \n",
       "50%                2.984909              9.743623              2.748730   \n",
       "75%                3.571351             11.134294              3.333216   \n",
       "max                8.245022             19.552149              5.804178   \n",
       "\n",
       "       final.output.tail_sol  \n",
       "count           19433.000000  \n",
       "mean               10.583728  \n",
       "std                 2.868782  \n",
       "min                 0.000000  \n",
       "25%                 8.938947  \n",
       "50%                10.622456  \n",
       "75%                12.104271  \n",
       "max                22.317730  \n",
       "\n",
       "[8 rows x 86 columns]"
      ]
     },
     "execution_count": 5,
     "metadata": {},
     "output_type": "execute_result"
    }
   ],
   "source": [
    "gold_full.describe()"
   ]
  },
  {
   "cell_type": "markdown",
   "metadata": {},
   "source": [
    "**Обучающая выборка**"
   ]
  },
  {
   "cell_type": "code",
   "execution_count": 6,
   "metadata": {},
   "outputs": [
    {
     "data": {
      "text/html": [
       "<div>\n",
       "<style scoped>\n",
       "    .dataframe tbody tr th:only-of-type {\n",
       "        vertical-align: middle;\n",
       "    }\n",
       "\n",
       "    .dataframe tbody tr th {\n",
       "        vertical-align: top;\n",
       "    }\n",
       "\n",
       "    .dataframe thead th {\n",
       "        text-align: right;\n",
       "    }\n",
       "</style>\n",
       "<table border=\"1\" class=\"dataframe\">\n",
       "  <thead>\n",
       "    <tr style=\"text-align: right;\">\n",
       "      <th></th>\n",
       "      <th>date</th>\n",
       "      <th>rougher.input.feed_au</th>\n",
       "      <th>rougher.input.feed_ag</th>\n",
       "      <th>rougher.input.feed_pb</th>\n",
       "      <th>rougher.input.feed_sol</th>\n",
       "      <th>rougher.input.feed_rate</th>\n",
       "      <th>rougher.input.feed_size</th>\n",
       "      <th>rougher.input.floatbank10_sulfate</th>\n",
       "      <th>rougher.input.floatbank10_xanthate</th>\n",
       "      <th>rougher.state.floatbank10_a_air</th>\n",
       "      <th>...</th>\n",
       "      <th>secondary_cleaner.output.tail_sol</th>\n",
       "      <th>final.output.concentrate_au</th>\n",
       "      <th>final.output.concentrate_ag</th>\n",
       "      <th>final.output.concentrate_pb</th>\n",
       "      <th>final.output.concentrate_sol</th>\n",
       "      <th>final.output.recovery</th>\n",
       "      <th>final.output.tail_au</th>\n",
       "      <th>final.output.tail_ag</th>\n",
       "      <th>final.output.tail_pb</th>\n",
       "      <th>final.output.tail_sol</th>\n",
       "    </tr>\n",
       "  </thead>\n",
       "  <tbody>\n",
       "    <tr>\n",
       "      <th>0</th>\n",
       "      <td>2016-01-15 00:00:00</td>\n",
       "      <td>6.486150</td>\n",
       "      <td>6.100378</td>\n",
       "      <td>2.284912</td>\n",
       "      <td>36.808594</td>\n",
       "      <td>523.546326</td>\n",
       "      <td>55.486599</td>\n",
       "      <td>11.986616</td>\n",
       "      <td>6.007990</td>\n",
       "      <td>999.706909</td>\n",
       "      <td>...</td>\n",
       "      <td>8.764648</td>\n",
       "      <td>42.192020</td>\n",
       "      <td>6.055403</td>\n",
       "      <td>9.889648</td>\n",
       "      <td>5.507324</td>\n",
       "      <td>70.541216</td>\n",
       "      <td>2.143149</td>\n",
       "      <td>10.411962</td>\n",
       "      <td>0.895447</td>\n",
       "      <td>16.904297</td>\n",
       "    </tr>\n",
       "    <tr>\n",
       "      <th>1</th>\n",
       "      <td>2016-01-15 01:00:00</td>\n",
       "      <td>6.478583</td>\n",
       "      <td>6.161113</td>\n",
       "      <td>2.266033</td>\n",
       "      <td>35.753385</td>\n",
       "      <td>525.290581</td>\n",
       "      <td>57.278666</td>\n",
       "      <td>11.971193</td>\n",
       "      <td>6.005766</td>\n",
       "      <td>1000.286398</td>\n",
       "      <td>...</td>\n",
       "      <td>9.001494</td>\n",
       "      <td>42.701629</td>\n",
       "      <td>6.029369</td>\n",
       "      <td>9.968944</td>\n",
       "      <td>5.257781</td>\n",
       "      <td>69.266198</td>\n",
       "      <td>2.224930</td>\n",
       "      <td>10.462676</td>\n",
       "      <td>0.927452</td>\n",
       "      <td>16.634514</td>\n",
       "    </tr>\n",
       "    <tr>\n",
       "      <th>2</th>\n",
       "      <td>2016-01-15 02:00:00</td>\n",
       "      <td>6.362222</td>\n",
       "      <td>6.116455</td>\n",
       "      <td>2.159622</td>\n",
       "      <td>35.971630</td>\n",
       "      <td>530.026610</td>\n",
       "      <td>57.510649</td>\n",
       "      <td>11.920603</td>\n",
       "      <td>6.197377</td>\n",
       "      <td>999.719565</td>\n",
       "      <td>...</td>\n",
       "      <td>8.842896</td>\n",
       "      <td>42.657501</td>\n",
       "      <td>6.055926</td>\n",
       "      <td>10.213995</td>\n",
       "      <td>5.383759</td>\n",
       "      <td>68.116445</td>\n",
       "      <td>2.257889</td>\n",
       "      <td>10.507046</td>\n",
       "      <td>0.953716</td>\n",
       "      <td>16.208849</td>\n",
       "    </tr>\n",
       "    <tr>\n",
       "      <th>3</th>\n",
       "      <td>2016-01-15 03:00:00</td>\n",
       "      <td>6.118189</td>\n",
       "      <td>6.043309</td>\n",
       "      <td>2.037807</td>\n",
       "      <td>36.862241</td>\n",
       "      <td>542.590390</td>\n",
       "      <td>57.792734</td>\n",
       "      <td>11.630094</td>\n",
       "      <td>6.203177</td>\n",
       "      <td>999.814770</td>\n",
       "      <td>...</td>\n",
       "      <td>9.122857</td>\n",
       "      <td>42.689819</td>\n",
       "      <td>6.047977</td>\n",
       "      <td>9.977019</td>\n",
       "      <td>4.858634</td>\n",
       "      <td>68.347543</td>\n",
       "      <td>2.146849</td>\n",
       "      <td>10.422762</td>\n",
       "      <td>0.883763</td>\n",
       "      <td>16.532835</td>\n",
       "    </tr>\n",
       "    <tr>\n",
       "      <th>4</th>\n",
       "      <td>2016-01-15 04:00:00</td>\n",
       "      <td>5.663707</td>\n",
       "      <td>6.060915</td>\n",
       "      <td>1.786875</td>\n",
       "      <td>34.347666</td>\n",
       "      <td>540.531893</td>\n",
       "      <td>56.047189</td>\n",
       "      <td>10.957755</td>\n",
       "      <td>6.198826</td>\n",
       "      <td>999.678690</td>\n",
       "      <td>...</td>\n",
       "      <td>8.871028</td>\n",
       "      <td>42.774141</td>\n",
       "      <td>6.148599</td>\n",
       "      <td>10.142511</td>\n",
       "      <td>4.939416</td>\n",
       "      <td>66.927016</td>\n",
       "      <td>2.055292</td>\n",
       "      <td>10.360302</td>\n",
       "      <td>0.792826</td>\n",
       "      <td>16.525686</td>\n",
       "    </tr>\n",
       "  </tbody>\n",
       "</table>\n",
       "<p>5 rows × 87 columns</p>\n",
       "</div>"
      ],
      "text/plain": [
       "                  date  rougher.input.feed_au  rougher.input.feed_ag  \\\n",
       "0  2016-01-15 00:00:00               6.486150               6.100378   \n",
       "1  2016-01-15 01:00:00               6.478583               6.161113   \n",
       "2  2016-01-15 02:00:00               6.362222               6.116455   \n",
       "3  2016-01-15 03:00:00               6.118189               6.043309   \n",
       "4  2016-01-15 04:00:00               5.663707               6.060915   \n",
       "\n",
       "   rougher.input.feed_pb  rougher.input.feed_sol  rougher.input.feed_rate  \\\n",
       "0               2.284912               36.808594               523.546326   \n",
       "1               2.266033               35.753385               525.290581   \n",
       "2               2.159622               35.971630               530.026610   \n",
       "3               2.037807               36.862241               542.590390   \n",
       "4               1.786875               34.347666               540.531893   \n",
       "\n",
       "   rougher.input.feed_size  rougher.input.floatbank10_sulfate  \\\n",
       "0                55.486599                          11.986616   \n",
       "1                57.278666                          11.971193   \n",
       "2                57.510649                          11.920603   \n",
       "3                57.792734                          11.630094   \n",
       "4                56.047189                          10.957755   \n",
       "\n",
       "   rougher.input.floatbank10_xanthate  rougher.state.floatbank10_a_air  ...  \\\n",
       "0                            6.007990                       999.706909  ...   \n",
       "1                            6.005766                      1000.286398  ...   \n",
       "2                            6.197377                       999.719565  ...   \n",
       "3                            6.203177                       999.814770  ...   \n",
       "4                            6.198826                       999.678690  ...   \n",
       "\n",
       "   secondary_cleaner.output.tail_sol  final.output.concentrate_au  \\\n",
       "0                           8.764648                    42.192020   \n",
       "1                           9.001494                    42.701629   \n",
       "2                           8.842896                    42.657501   \n",
       "3                           9.122857                    42.689819   \n",
       "4                           8.871028                    42.774141   \n",
       "\n",
       "   final.output.concentrate_ag  final.output.concentrate_pb  \\\n",
       "0                     6.055403                     9.889648   \n",
       "1                     6.029369                     9.968944   \n",
       "2                     6.055926                    10.213995   \n",
       "3                     6.047977                     9.977019   \n",
       "4                     6.148599                    10.142511   \n",
       "\n",
       "   final.output.concentrate_sol  final.output.recovery  final.output.tail_au  \\\n",
       "0                      5.507324              70.541216              2.143149   \n",
       "1                      5.257781              69.266198              2.224930   \n",
       "2                      5.383759              68.116445              2.257889   \n",
       "3                      4.858634              68.347543              2.146849   \n",
       "4                      4.939416              66.927016              2.055292   \n",
       "\n",
       "   final.output.tail_ag  final.output.tail_pb  final.output.tail_sol  \n",
       "0             10.411962              0.895447              16.904297  \n",
       "1             10.462676              0.927452              16.634514  \n",
       "2             10.507046              0.953716              16.208849  \n",
       "3             10.422762              0.883763              16.532835  \n",
       "4             10.360302              0.792826              16.525686  \n",
       "\n",
       "[5 rows x 87 columns]"
      ]
     },
     "execution_count": 6,
     "metadata": {},
     "output_type": "execute_result"
    }
   ],
   "source": [
    "gold_train = pd.read_csv('/datasets/gold_industry_train.csv')\n",
    "gold_train.head()"
   ]
  },
  {
   "cell_type": "code",
   "execution_count": 7,
   "metadata": {},
   "outputs": [
    {
     "name": "stdout",
     "output_type": "stream",
     "text": [
      "<class 'pandas.core.frame.DataFrame'>\n",
      "RangeIndex: 14579 entries, 0 to 14578\n",
      "Data columns (total 87 columns):\n",
      " #   Column                                              Non-Null Count  Dtype  \n",
      "---  ------                                              --------------  -----  \n",
      " 0   date                                                14579 non-null  object \n",
      " 1   rougher.input.feed_au                               14579 non-null  float64\n",
      " 2   rougher.input.feed_ag                               14579 non-null  float64\n",
      " 3   rougher.input.feed_pb                               14507 non-null  float64\n",
      " 4   rougher.input.feed_sol                              14502 non-null  float64\n",
      " 5   rougher.input.feed_rate                             14572 non-null  float64\n",
      " 6   rougher.input.feed_size                             14478 non-null  float64\n",
      " 7   rougher.input.floatbank10_sulfate                   14548 non-null  float64\n",
      " 8   rougher.input.floatbank10_xanthate                  14572 non-null  float64\n",
      " 9   rougher.state.floatbank10_a_air                     14579 non-null  float64\n",
      " 10  rougher.state.floatbank10_a_level                   14579 non-null  float64\n",
      " 11  rougher.state.floatbank10_b_air                     14579 non-null  float64\n",
      " 12  rougher.state.floatbank10_b_level                   14579 non-null  float64\n",
      " 13  rougher.state.floatbank10_c_air                     14579 non-null  float64\n",
      " 14  rougher.state.floatbank10_c_level                   14579 non-null  float64\n",
      " 15  rougher.state.floatbank10_d_air                     14579 non-null  float64\n",
      " 16  rougher.state.floatbank10_d_level                   14579 non-null  float64\n",
      " 17  rougher.state.floatbank10_e_air                     14150 non-null  float64\n",
      " 18  rougher.state.floatbank10_e_level                   14579 non-null  float64\n",
      " 19  rougher.state.floatbank10_f_air                     14579 non-null  float64\n",
      " 20  rougher.state.floatbank10_f_level                   14579 non-null  float64\n",
      " 21  rougher.input.floatbank11_sulfate                   14543 non-null  float64\n",
      " 22  rougher.input.floatbank11_xanthate                  14172 non-null  float64\n",
      " 23  rougher.calculation.sulfate_to_au_concentrate       14578 non-null  float64\n",
      " 24  rougher.calculation.floatbank10_sulfate_to_au_feed  14578 non-null  float64\n",
      " 25  rougher.calculation.floatbank11_sulfate_to_au_feed  14578 non-null  float64\n",
      " 26  rougher.calculation.au_pb_ratio                     14579 non-null  float64\n",
      " 27  rougher.output.concentrate_au                       14579 non-null  float64\n",
      " 28  rougher.output.concentrate_ag                       14579 non-null  float64\n",
      " 29  rougher.output.concentrate_pb                       14579 non-null  float64\n",
      " 30  rougher.output.concentrate_sol                      14561 non-null  float64\n",
      " 31  rougher.output.recovery                             14579 non-null  float64\n",
      " 32  rougher.output.tail_au                              14579 non-null  float64\n",
      " 33  rougher.output.tail_ag                              14578 non-null  float64\n",
      " 34  rougher.output.tail_pb                              14579 non-null  float64\n",
      " 35  rougher.output.tail_sol                             14579 non-null  float64\n",
      " 36  primary_cleaner.input.sulfate                       14556 non-null  float64\n",
      " 37  primary_cleaner.input.depressant                    14551 non-null  float64\n",
      " 38  primary_cleaner.input.feed_size                     14579 non-null  float64\n",
      " 39  primary_cleaner.input.xanthate                      14518 non-null  float64\n",
      " 40  primary_cleaner.state.floatbank8_a_air              14576 non-null  float64\n",
      " 41  primary_cleaner.state.floatbank8_a_level            14579 non-null  float64\n",
      " 42  primary_cleaner.state.floatbank8_b_air              14576 non-null  float64\n",
      " 43  primary_cleaner.state.floatbank8_b_level            14579 non-null  float64\n",
      " 44  primary_cleaner.state.floatbank8_c_air              14579 non-null  float64\n",
      " 45  primary_cleaner.state.floatbank8_c_level            14579 non-null  float64\n",
      " 46  primary_cleaner.state.floatbank8_d_air              14578 non-null  float64\n",
      " 47  primary_cleaner.state.floatbank8_d_level            14579 non-null  float64\n",
      " 48  primary_cleaner.output.concentrate_au               14579 non-null  float64\n",
      " 49  primary_cleaner.output.concentrate_ag               14579 non-null  float64\n",
      " 50  primary_cleaner.output.concentrate_pb               14491 non-null  float64\n",
      " 51  primary_cleaner.output.concentrate_sol              14314 non-null  float64\n",
      " 52  primary_cleaner.output.tail_au                      14579 non-null  float64\n",
      " 53  primary_cleaner.output.tail_ag                      14575 non-null  float64\n",
      " 54  primary_cleaner.output.tail_pb                      14573 non-null  float64\n",
      " 55  primary_cleaner.output.tail_sol                     14534 non-null  float64\n",
      " 56  secondary_cleaner.state.floatbank2_a_air            14485 non-null  float64\n",
      " 57  secondary_cleaner.state.floatbank2_a_level          14579 non-null  float64\n",
      " 58  secondary_cleaner.state.floatbank2_b_air            14557 non-null  float64\n",
      " 59  secondary_cleaner.state.floatbank2_b_level          14579 non-null  float64\n",
      " 60  secondary_cleaner.state.floatbank3_a_air            14567 non-null  float64\n",
      " 61  secondary_cleaner.state.floatbank3_a_level          14579 non-null  float64\n",
      " 62  secondary_cleaner.state.floatbank3_b_air            14579 non-null  float64\n",
      " 63  secondary_cleaner.state.floatbank3_b_level          14579 non-null  float64\n",
      " 64  secondary_cleaner.state.floatbank4_a_air            14574 non-null  float64\n",
      " 65  secondary_cleaner.state.floatbank4_a_level          14579 non-null  float64\n",
      " 66  secondary_cleaner.state.floatbank4_b_air            14579 non-null  float64\n",
      " 67  secondary_cleaner.state.floatbank4_b_level          14579 non-null  float64\n",
      " 68  secondary_cleaner.state.floatbank5_a_air            14579 non-null  float64\n",
      " 69  secondary_cleaner.state.floatbank5_a_level          14579 non-null  float64\n",
      " 70  secondary_cleaner.state.floatbank5_b_air            14579 non-null  float64\n",
      " 71  secondary_cleaner.state.floatbank5_b_level          14579 non-null  float64\n",
      " 72  secondary_cleaner.state.floatbank6_a_air            14578 non-null  float64\n",
      " 73  secondary_cleaner.state.floatbank6_a_level          14579 non-null  float64\n",
      " 74  secondary_cleaner.output.tail_au                    14579 non-null  float64\n",
      " 75  secondary_cleaner.output.tail_ag                    14578 non-null  float64\n",
      " 76  secondary_cleaner.output.tail_pb                    14575 non-null  float64\n",
      " 77  secondary_cleaner.output.tail_sol                   13659 non-null  float64\n",
      " 78  final.output.concentrate_au                         14579 non-null  float64\n",
      " 79  final.output.concentrate_ag                         14578 non-null  float64\n",
      " 80  final.output.concentrate_pb                         14578 non-null  float64\n",
      " 81  final.output.concentrate_sol                        14387 non-null  float64\n",
      " 82  final.output.recovery                               14579 non-null  float64\n",
      " 83  final.output.tail_au                                14579 non-null  float64\n",
      " 84  final.output.tail_ag                                14578 non-null  float64\n",
      " 85  final.output.tail_pb                                14504 non-null  float64\n",
      " 86  final.output.tail_sol                               14574 non-null  float64\n",
      "dtypes: float64(86), object(1)\n",
      "memory usage: 9.7+ MB\n"
     ]
    }
   ],
   "source": [
    "gold_train.info()"
   ]
  },
  {
   "cell_type": "code",
   "execution_count": 8,
   "metadata": {},
   "outputs": [
    {
     "data": {
      "text/plain": [
       "(14579, 87)"
      ]
     },
     "execution_count": 8,
     "metadata": {},
     "output_type": "execute_result"
    }
   ],
   "source": [
    "gold_train.shape"
   ]
  },
  {
   "cell_type": "code",
   "execution_count": 9,
   "metadata": {
    "scrolled": true
   },
   "outputs": [
    {
     "data": {
      "text/html": [
       "<div>\n",
       "<style scoped>\n",
       "    .dataframe tbody tr th:only-of-type {\n",
       "        vertical-align: middle;\n",
       "    }\n",
       "\n",
       "    .dataframe tbody tr th {\n",
       "        vertical-align: top;\n",
       "    }\n",
       "\n",
       "    .dataframe thead th {\n",
       "        text-align: right;\n",
       "    }\n",
       "</style>\n",
       "<table border=\"1\" class=\"dataframe\">\n",
       "  <thead>\n",
       "    <tr style=\"text-align: right;\">\n",
       "      <th></th>\n",
       "      <th>rougher.input.feed_au</th>\n",
       "      <th>rougher.input.feed_ag</th>\n",
       "      <th>rougher.input.feed_pb</th>\n",
       "      <th>rougher.input.feed_sol</th>\n",
       "      <th>rougher.input.feed_rate</th>\n",
       "      <th>rougher.input.feed_size</th>\n",
       "      <th>rougher.input.floatbank10_sulfate</th>\n",
       "      <th>rougher.input.floatbank10_xanthate</th>\n",
       "      <th>rougher.state.floatbank10_a_air</th>\n",
       "      <th>rougher.state.floatbank10_a_level</th>\n",
       "      <th>...</th>\n",
       "      <th>secondary_cleaner.output.tail_sol</th>\n",
       "      <th>final.output.concentrate_au</th>\n",
       "      <th>final.output.concentrate_ag</th>\n",
       "      <th>final.output.concentrate_pb</th>\n",
       "      <th>final.output.concentrate_sol</th>\n",
       "      <th>final.output.recovery</th>\n",
       "      <th>final.output.tail_au</th>\n",
       "      <th>final.output.tail_ag</th>\n",
       "      <th>final.output.tail_pb</th>\n",
       "      <th>final.output.tail_sol</th>\n",
       "    </tr>\n",
       "  </thead>\n",
       "  <tbody>\n",
       "    <tr>\n",
       "      <th>count</th>\n",
       "      <td>14579.000000</td>\n",
       "      <td>14579.000000</td>\n",
       "      <td>14507.000000</td>\n",
       "      <td>14502.000000</td>\n",
       "      <td>14572.000000</td>\n",
       "      <td>14478.000000</td>\n",
       "      <td>14548.000000</td>\n",
       "      <td>14572.000000</td>\n",
       "      <td>14579.000000</td>\n",
       "      <td>14579.000000</td>\n",
       "      <td>...</td>\n",
       "      <td>13659.000000</td>\n",
       "      <td>14579.000000</td>\n",
       "      <td>14578.000000</td>\n",
       "      <td>14578.000000</td>\n",
       "      <td>14387.000000</td>\n",
       "      <td>14579.000000</td>\n",
       "      <td>14579.000000</td>\n",
       "      <td>14578.000000</td>\n",
       "      <td>14504.000000</td>\n",
       "      <td>14574.000000</td>\n",
       "    </tr>\n",
       "    <tr>\n",
       "      <th>mean</th>\n",
       "      <td>8.352941</td>\n",
       "      <td>8.877460</td>\n",
       "      <td>3.604221</td>\n",
       "      <td>36.561420</td>\n",
       "      <td>474.332784</td>\n",
       "      <td>58.922712</td>\n",
       "      <td>12.427399</td>\n",
       "      <td>5.994854</td>\n",
       "      <td>1104.208278</td>\n",
       "      <td>-379.367166</td>\n",
       "      <td>...</td>\n",
       "      <td>7.111347</td>\n",
       "      <td>43.979499</td>\n",
       "      <td>5.192145</td>\n",
       "      <td>9.923809</td>\n",
       "      <td>9.566676</td>\n",
       "      <td>66.759066</td>\n",
       "      <td>3.087939</td>\n",
       "      <td>9.731972</td>\n",
       "      <td>2.719985</td>\n",
       "      <td>10.612745</td>\n",
       "    </tr>\n",
       "    <tr>\n",
       "      <th>std</th>\n",
       "      <td>1.934376</td>\n",
       "      <td>1.922536</td>\n",
       "      <td>1.056063</td>\n",
       "      <td>5.209823</td>\n",
       "      <td>108.503552</td>\n",
       "      <td>22.407410</td>\n",
       "      <td>3.428939</td>\n",
       "      <td>1.152873</td>\n",
       "      <td>162.235606</td>\n",
       "      <td>94.652311</td>\n",
       "      <td>...</td>\n",
       "      <td>3.909951</td>\n",
       "      <td>5.471437</td>\n",
       "      <td>1.388014</td>\n",
       "      <td>1.706976</td>\n",
       "      <td>2.805654</td>\n",
       "      <td>10.619709</td>\n",
       "      <td>0.915187</td>\n",
       "      <td>2.358143</td>\n",
       "      <td>0.958929</td>\n",
       "      <td>2.871075</td>\n",
       "    </tr>\n",
       "    <tr>\n",
       "      <th>min</th>\n",
       "      <td>0.010000</td>\n",
       "      <td>0.010000</td>\n",
       "      <td>0.010000</td>\n",
       "      <td>0.010000</td>\n",
       "      <td>0.002986</td>\n",
       "      <td>0.049194</td>\n",
       "      <td>0.001083</td>\n",
       "      <td>0.000568</td>\n",
       "      <td>-0.042069</td>\n",
       "      <td>-657.949759</td>\n",
       "      <td>...</td>\n",
       "      <td>0.000000</td>\n",
       "      <td>0.000000</td>\n",
       "      <td>0.000000</td>\n",
       "      <td>0.000000</td>\n",
       "      <td>0.000000</td>\n",
       "      <td>0.000000</td>\n",
       "      <td>0.000000</td>\n",
       "      <td>0.000000</td>\n",
       "      <td>0.000000</td>\n",
       "      <td>0.000000</td>\n",
       "    </tr>\n",
       "    <tr>\n",
       "      <th>25%</th>\n",
       "      <td>6.932996</td>\n",
       "      <td>7.341922</td>\n",
       "      <td>2.880490</td>\n",
       "      <td>34.093951</td>\n",
       "      <td>411.048483</td>\n",
       "      <td>47.278490</td>\n",
       "      <td>10.002832</td>\n",
       "      <td>5.304167</td>\n",
       "      <td>999.644856</td>\n",
       "      <td>-499.861797</td>\n",
       "      <td>...</td>\n",
       "      <td>3.784897</td>\n",
       "      <td>43.345906</td>\n",
       "      <td>4.283347</td>\n",
       "      <td>9.103183</td>\n",
       "      <td>7.860030</td>\n",
       "      <td>63.114596</td>\n",
       "      <td>2.505287</td>\n",
       "      <td>8.088928</td>\n",
       "      <td>2.036512</td>\n",
       "      <td>9.013412</td>\n",
       "    </tr>\n",
       "    <tr>\n",
       "      <th>50%</th>\n",
       "      <td>8.225284</td>\n",
       "      <td>8.715859</td>\n",
       "      <td>3.532399</td>\n",
       "      <td>37.097511</td>\n",
       "      <td>498.187968</td>\n",
       "      <td>54.361187</td>\n",
       "      <td>12.003320</td>\n",
       "      <td>6.003053</td>\n",
       "      <td>1000.982624</td>\n",
       "      <td>-300.314199</td>\n",
       "      <td>...</td>\n",
       "      <td>7.629968</td>\n",
       "      <td>44.975014</td>\n",
       "      <td>5.118647</td>\n",
       "      <td>10.046455</td>\n",
       "      <td>9.301970</td>\n",
       "      <td>67.962788</td>\n",
       "      <td>3.029238</td>\n",
       "      <td>9.818512</td>\n",
       "      <td>2.774847</td>\n",
       "      <td>10.670515</td>\n",
       "    </tr>\n",
       "    <tr>\n",
       "      <th>75%</th>\n",
       "      <td>9.832210</td>\n",
       "      <td>10.255843</td>\n",
       "      <td>4.257282</td>\n",
       "      <td>39.899799</td>\n",
       "      <td>549.586552</td>\n",
       "      <td>64.464926</td>\n",
       "      <td>14.929903</td>\n",
       "      <td>6.796632</td>\n",
       "      <td>1292.663971</td>\n",
       "      <td>-299.989315</td>\n",
       "      <td>...</td>\n",
       "      <td>10.367050</td>\n",
       "      <td>46.275153</td>\n",
       "      <td>5.925380</td>\n",
       "      <td>10.981203</td>\n",
       "      <td>11.001573</td>\n",
       "      <td>72.598187</td>\n",
       "      <td>3.614098</td>\n",
       "      <td>11.169187</td>\n",
       "      <td>3.353845</td>\n",
       "      <td>12.130827</td>\n",
       "    </tr>\n",
       "    <tr>\n",
       "      <th>max</th>\n",
       "      <td>13.731330</td>\n",
       "      <td>14.596026</td>\n",
       "      <td>7.052325</td>\n",
       "      <td>53.475325</td>\n",
       "      <td>717.508837</td>\n",
       "      <td>484.967466</td>\n",
       "      <td>36.118275</td>\n",
       "      <td>9.703448</td>\n",
       "      <td>1512.299531</td>\n",
       "      <td>-273.776101</td>\n",
       "      <td>...</td>\n",
       "      <td>26.000772</td>\n",
       "      <td>52.756638</td>\n",
       "      <td>16.001945</td>\n",
       "      <td>16.705297</td>\n",
       "      <td>19.423912</td>\n",
       "      <td>100.000000</td>\n",
       "      <td>8.245022</td>\n",
       "      <td>19.552149</td>\n",
       "      <td>5.804178</td>\n",
       "      <td>22.317730</td>\n",
       "    </tr>\n",
       "  </tbody>\n",
       "</table>\n",
       "<p>8 rows × 86 columns</p>\n",
       "</div>"
      ],
      "text/plain": [
       "       rougher.input.feed_au  rougher.input.feed_ag  rougher.input.feed_pb  \\\n",
       "count           14579.000000           14579.000000           14507.000000   \n",
       "mean                8.352941               8.877460               3.604221   \n",
       "std                 1.934376               1.922536               1.056063   \n",
       "min                 0.010000               0.010000               0.010000   \n",
       "25%                 6.932996               7.341922               2.880490   \n",
       "50%                 8.225284               8.715859               3.532399   \n",
       "75%                 9.832210              10.255843               4.257282   \n",
       "max                13.731330              14.596026               7.052325   \n",
       "\n",
       "       rougher.input.feed_sol  rougher.input.feed_rate  \\\n",
       "count            14502.000000             14572.000000   \n",
       "mean                36.561420               474.332784   \n",
       "std                  5.209823               108.503552   \n",
       "min                  0.010000                 0.002986   \n",
       "25%                 34.093951               411.048483   \n",
       "50%                 37.097511               498.187968   \n",
       "75%                 39.899799               549.586552   \n",
       "max                 53.475325               717.508837   \n",
       "\n",
       "       rougher.input.feed_size  rougher.input.floatbank10_sulfate  \\\n",
       "count             14478.000000                       14548.000000   \n",
       "mean                 58.922712                          12.427399   \n",
       "std                  22.407410                           3.428939   \n",
       "min                   0.049194                           0.001083   \n",
       "25%                  47.278490                          10.002832   \n",
       "50%                  54.361187                          12.003320   \n",
       "75%                  64.464926                          14.929903   \n",
       "max                 484.967466                          36.118275   \n",
       "\n",
       "       rougher.input.floatbank10_xanthate  rougher.state.floatbank10_a_air  \\\n",
       "count                        14572.000000                     14579.000000   \n",
       "mean                             5.994854                      1104.208278   \n",
       "std                              1.152873                       162.235606   \n",
       "min                              0.000568                        -0.042069   \n",
       "25%                              5.304167                       999.644856   \n",
       "50%                              6.003053                      1000.982624   \n",
       "75%                              6.796632                      1292.663971   \n",
       "max                              9.703448                      1512.299531   \n",
       "\n",
       "       rougher.state.floatbank10_a_level  ...  \\\n",
       "count                       14579.000000  ...   \n",
       "mean                         -379.367166  ...   \n",
       "std                            94.652311  ...   \n",
       "min                          -657.949759  ...   \n",
       "25%                          -499.861797  ...   \n",
       "50%                          -300.314199  ...   \n",
       "75%                          -299.989315  ...   \n",
       "max                          -273.776101  ...   \n",
       "\n",
       "       secondary_cleaner.output.tail_sol  final.output.concentrate_au  \\\n",
       "count                       13659.000000                 14579.000000   \n",
       "mean                            7.111347                    43.979499   \n",
       "std                             3.909951                     5.471437   \n",
       "min                             0.000000                     0.000000   \n",
       "25%                             3.784897                    43.345906   \n",
       "50%                             7.629968                    44.975014   \n",
       "75%                            10.367050                    46.275153   \n",
       "max                            26.000772                    52.756638   \n",
       "\n",
       "       final.output.concentrate_ag  final.output.concentrate_pb  \\\n",
       "count                 14578.000000                 14578.000000   \n",
       "mean                      5.192145                     9.923809   \n",
       "std                       1.388014                     1.706976   \n",
       "min                       0.000000                     0.000000   \n",
       "25%                       4.283347                     9.103183   \n",
       "50%                       5.118647                    10.046455   \n",
       "75%                       5.925380                    10.981203   \n",
       "max                      16.001945                    16.705297   \n",
       "\n",
       "       final.output.concentrate_sol  final.output.recovery  \\\n",
       "count                  14387.000000           14579.000000   \n",
       "mean                       9.566676              66.759066   \n",
       "std                        2.805654              10.619709   \n",
       "min                        0.000000               0.000000   \n",
       "25%                        7.860030              63.114596   \n",
       "50%                        9.301970              67.962788   \n",
       "75%                       11.001573              72.598187   \n",
       "max                       19.423912             100.000000   \n",
       "\n",
       "       final.output.tail_au  final.output.tail_ag  final.output.tail_pb  \\\n",
       "count          14579.000000          14578.000000          14504.000000   \n",
       "mean               3.087939              9.731972              2.719985   \n",
       "std                0.915187              2.358143              0.958929   \n",
       "min                0.000000              0.000000              0.000000   \n",
       "25%                2.505287              8.088928              2.036512   \n",
       "50%                3.029238              9.818512              2.774847   \n",
       "75%                3.614098             11.169187              3.353845   \n",
       "max                8.245022             19.552149              5.804178   \n",
       "\n",
       "       final.output.tail_sol  \n",
       "count           14574.000000  \n",
       "mean               10.612745  \n",
       "std                 2.871075  \n",
       "min                 0.000000  \n",
       "25%                 9.013412  \n",
       "50%                10.670515  \n",
       "75%                12.130827  \n",
       "max                22.317730  \n",
       "\n",
       "[8 rows x 86 columns]"
      ]
     },
     "execution_count": 9,
     "metadata": {},
     "output_type": "execute_result"
    }
   ],
   "source": [
    "gold_train.describe()"
   ]
  },
  {
   "cell_type": "code",
   "execution_count": 10,
   "metadata": {},
   "outputs": [
    {
     "data": {
      "text/plain": [
       "0"
      ]
     },
     "execution_count": 10,
     "metadata": {},
     "output_type": "execute_result"
    }
   ],
   "source": [
    "gold_train.duplicated().sum()"
   ]
  },
  {
   "cell_type": "code",
   "execution_count": 11,
   "metadata": {},
   "outputs": [
    {
     "data": {
      "text/plain": [
       "secondary_cleaner.output.tail_sol                     920\n",
       "rougher.state.floatbank10_e_air                       429\n",
       "rougher.input.floatbank11_xanthate                    407\n",
       "primary_cleaner.output.concentrate_sol                265\n",
       "final.output.concentrate_sol                          192\n",
       "rougher.input.feed_size                               101\n",
       "secondary_cleaner.state.floatbank2_a_air               94\n",
       "primary_cleaner.output.concentrate_pb                  88\n",
       "rougher.input.feed_sol                                 77\n",
       "final.output.tail_pb                                   75\n",
       "rougher.input.feed_pb                                  72\n",
       "primary_cleaner.input.xanthate                         61\n",
       "primary_cleaner.output.tail_sol                        45\n",
       "rougher.input.floatbank11_sulfate                      36\n",
       "rougher.input.floatbank10_sulfate                      31\n",
       "primary_cleaner.input.depressant                       28\n",
       "primary_cleaner.input.sulfate                          23\n",
       "secondary_cleaner.state.floatbank2_b_air               22\n",
       "rougher.output.concentrate_sol                         18\n",
       "secondary_cleaner.state.floatbank3_a_air               12\n",
       "rougher.input.floatbank10_xanthate                      7\n",
       "rougher.input.feed_rate                                 7\n",
       "primary_cleaner.output.tail_pb                          6\n",
       "secondary_cleaner.state.floatbank4_a_air                5\n",
       "final.output.tail_sol                                   5\n",
       "primary_cleaner.output.tail_ag                          4\n",
       "secondary_cleaner.output.tail_pb                        4\n",
       "primary_cleaner.state.floatbank8_a_air                  3\n",
       "primary_cleaner.state.floatbank8_b_air                  3\n",
       "secondary_cleaner.output.tail_ag                        1\n",
       "final.output.tail_ag                                    1\n",
       "final.output.concentrate_pb                             1\n",
       "final.output.concentrate_ag                             1\n",
       "primary_cleaner.state.floatbank8_d_air                  1\n",
       "rougher.calculation.floatbank11_sulfate_to_au_feed      1\n",
       "secondary_cleaner.state.floatbank6_a_air                1\n",
       "rougher.calculation.floatbank10_sulfate_to_au_feed      1\n",
       "rougher.output.tail_ag                                  1\n",
       "rougher.calculation.sulfate_to_au_concentrate           1\n",
       "secondary_cleaner.state.floatbank4_b_air                0\n",
       "dtype: int64"
      ]
     },
     "execution_count": 11,
     "metadata": {},
     "output_type": "execute_result"
    }
   ],
   "source": [
    "gold_train.isna().sum().sort_values(ascending=False)[:40]"
   ]
  },
  {
   "cell_type": "markdown",
   "metadata": {},
   "source": [
    "**Тестовая выборка**"
   ]
  },
  {
   "cell_type": "code",
   "execution_count": 12,
   "metadata": {
    "scrolled": true
   },
   "outputs": [
    {
     "data": {
      "text/html": [
       "<div>\n",
       "<style scoped>\n",
       "    .dataframe tbody tr th:only-of-type {\n",
       "        vertical-align: middle;\n",
       "    }\n",
       "\n",
       "    .dataframe tbody tr th {\n",
       "        vertical-align: top;\n",
       "    }\n",
       "\n",
       "    .dataframe thead th {\n",
       "        text-align: right;\n",
       "    }\n",
       "</style>\n",
       "<table border=\"1\" class=\"dataframe\">\n",
       "  <thead>\n",
       "    <tr style=\"text-align: right;\">\n",
       "      <th></th>\n",
       "      <th>date</th>\n",
       "      <th>rougher.input.feed_au</th>\n",
       "      <th>rougher.input.feed_ag</th>\n",
       "      <th>rougher.input.feed_pb</th>\n",
       "      <th>rougher.input.feed_sol</th>\n",
       "      <th>rougher.input.feed_rate</th>\n",
       "      <th>rougher.input.feed_size</th>\n",
       "      <th>rougher.input.floatbank10_sulfate</th>\n",
       "      <th>rougher.input.floatbank10_xanthate</th>\n",
       "      <th>rougher.state.floatbank10_a_air</th>\n",
       "      <th>...</th>\n",
       "      <th>secondary_cleaner.state.floatbank4_a_air</th>\n",
       "      <th>secondary_cleaner.state.floatbank4_a_level</th>\n",
       "      <th>secondary_cleaner.state.floatbank4_b_air</th>\n",
       "      <th>secondary_cleaner.state.floatbank4_b_level</th>\n",
       "      <th>secondary_cleaner.state.floatbank5_a_air</th>\n",
       "      <th>secondary_cleaner.state.floatbank5_a_level</th>\n",
       "      <th>secondary_cleaner.state.floatbank5_b_air</th>\n",
       "      <th>secondary_cleaner.state.floatbank5_b_level</th>\n",
       "      <th>secondary_cleaner.state.floatbank6_a_air</th>\n",
       "      <th>secondary_cleaner.state.floatbank6_a_level</th>\n",
       "    </tr>\n",
       "  </thead>\n",
       "  <tbody>\n",
       "    <tr>\n",
       "      <th>0</th>\n",
       "      <td>2017-12-09 14:59:59</td>\n",
       "      <td>4.365491</td>\n",
       "      <td>6.158718</td>\n",
       "      <td>3.875727</td>\n",
       "      <td>39.135119</td>\n",
       "      <td>555.820208</td>\n",
       "      <td>94.544358</td>\n",
       "      <td>6.146982</td>\n",
       "      <td>9.308612</td>\n",
       "      <td>1196.238112</td>\n",
       "      <td>...</td>\n",
       "      <td>23.018622</td>\n",
       "      <td>-500.492702</td>\n",
       "      <td>20.020205</td>\n",
       "      <td>-500.220296</td>\n",
       "      <td>17.963512</td>\n",
       "      <td>-499.939490</td>\n",
       "      <td>12.990306</td>\n",
       "      <td>-500.080993</td>\n",
       "      <td>19.990336</td>\n",
       "      <td>-499.191575</td>\n",
       "    </tr>\n",
       "    <tr>\n",
       "      <th>1</th>\n",
       "      <td>2017-12-09 15:59:59</td>\n",
       "      <td>4.362781</td>\n",
       "      <td>6.048130</td>\n",
       "      <td>3.902537</td>\n",
       "      <td>39.713906</td>\n",
       "      <td>544.731687</td>\n",
       "      <td>123.742430</td>\n",
       "      <td>6.210119</td>\n",
       "      <td>9.297709</td>\n",
       "      <td>1201.904177</td>\n",
       "      <td>...</td>\n",
       "      <td>23.024963</td>\n",
       "      <td>-501.153409</td>\n",
       "      <td>20.054122</td>\n",
       "      <td>-500.314711</td>\n",
       "      <td>17.979515</td>\n",
       "      <td>-499.272871</td>\n",
       "      <td>12.992404</td>\n",
       "      <td>-499.976268</td>\n",
       "      <td>20.013986</td>\n",
       "      <td>-500.625471</td>\n",
       "    </tr>\n",
       "    <tr>\n",
       "      <th>2</th>\n",
       "      <td>2017-12-09 16:59:59</td>\n",
       "      <td>5.081681</td>\n",
       "      <td>6.082745</td>\n",
       "      <td>4.564078</td>\n",
       "      <td>37.208683</td>\n",
       "      <td>558.155110</td>\n",
       "      <td>82.610855</td>\n",
       "      <td>7.363824</td>\n",
       "      <td>9.003562</td>\n",
       "      <td>1200.826926</td>\n",
       "      <td>...</td>\n",
       "      <td>22.993827</td>\n",
       "      <td>-501.559663</td>\n",
       "      <td>20.029144</td>\n",
       "      <td>-500.000662</td>\n",
       "      <td>18.012723</td>\n",
       "      <td>-500.024764</td>\n",
       "      <td>13.016445</td>\n",
       "      <td>-500.058432</td>\n",
       "      <td>19.973767</td>\n",
       "      <td>-501.394155</td>\n",
       "    </tr>\n",
       "    <tr>\n",
       "      <th>3</th>\n",
       "      <td>2017-12-09 17:59:59</td>\n",
       "      <td>5.145949</td>\n",
       "      <td>6.084374</td>\n",
       "      <td>4.768124</td>\n",
       "      <td>36.808874</td>\n",
       "      <td>539.713765</td>\n",
       "      <td>77.984784</td>\n",
       "      <td>6.927072</td>\n",
       "      <td>8.955597</td>\n",
       "      <td>1199.292489</td>\n",
       "      <td>...</td>\n",
       "      <td>23.032807</td>\n",
       "      <td>-501.287889</td>\n",
       "      <td>19.977466</td>\n",
       "      <td>-500.159903</td>\n",
       "      <td>17.980463</td>\n",
       "      <td>-500.504602</td>\n",
       "      <td>12.949071</td>\n",
       "      <td>-500.009937</td>\n",
       "      <td>20.010332</td>\n",
       "      <td>-508.337973</td>\n",
       "    </tr>\n",
       "    <tr>\n",
       "      <th>4</th>\n",
       "      <td>2017-12-09 18:59:59</td>\n",
       "      <td>5.735249</td>\n",
       "      <td>6.165220</td>\n",
       "      <td>4.512346</td>\n",
       "      <td>37.810642</td>\n",
       "      <td>558.713584</td>\n",
       "      <td>86.434874</td>\n",
       "      <td>7.823471</td>\n",
       "      <td>7.490356</td>\n",
       "      <td>1198.005449</td>\n",
       "      <td>...</td>\n",
       "      <td>23.001911</td>\n",
       "      <td>-499.947838</td>\n",
       "      <td>20.023735</td>\n",
       "      <td>-499.713680</td>\n",
       "      <td>17.990955</td>\n",
       "      <td>-500.334769</td>\n",
       "      <td>13.007523</td>\n",
       "      <td>-499.968459</td>\n",
       "      <td>19.995999</td>\n",
       "      <td>-499.788805</td>\n",
       "    </tr>\n",
       "  </tbody>\n",
       "</table>\n",
       "<p>5 rows × 53 columns</p>\n",
       "</div>"
      ],
      "text/plain": [
       "                  date  rougher.input.feed_au  rougher.input.feed_ag  \\\n",
       "0  2017-12-09 14:59:59               4.365491               6.158718   \n",
       "1  2017-12-09 15:59:59               4.362781               6.048130   \n",
       "2  2017-12-09 16:59:59               5.081681               6.082745   \n",
       "3  2017-12-09 17:59:59               5.145949               6.084374   \n",
       "4  2017-12-09 18:59:59               5.735249               6.165220   \n",
       "\n",
       "   rougher.input.feed_pb  rougher.input.feed_sol  rougher.input.feed_rate  \\\n",
       "0               3.875727               39.135119               555.820208   \n",
       "1               3.902537               39.713906               544.731687   \n",
       "2               4.564078               37.208683               558.155110   \n",
       "3               4.768124               36.808874               539.713765   \n",
       "4               4.512346               37.810642               558.713584   \n",
       "\n",
       "   rougher.input.feed_size  rougher.input.floatbank10_sulfate  \\\n",
       "0                94.544358                           6.146982   \n",
       "1               123.742430                           6.210119   \n",
       "2                82.610855                           7.363824   \n",
       "3                77.984784                           6.927072   \n",
       "4                86.434874                           7.823471   \n",
       "\n",
       "   rougher.input.floatbank10_xanthate  rougher.state.floatbank10_a_air  ...  \\\n",
       "0                            9.308612                      1196.238112  ...   \n",
       "1                            9.297709                      1201.904177  ...   \n",
       "2                            9.003562                      1200.826926  ...   \n",
       "3                            8.955597                      1199.292489  ...   \n",
       "4                            7.490356                      1198.005449  ...   \n",
       "\n",
       "   secondary_cleaner.state.floatbank4_a_air  \\\n",
       "0                                 23.018622   \n",
       "1                                 23.024963   \n",
       "2                                 22.993827   \n",
       "3                                 23.032807   \n",
       "4                                 23.001911   \n",
       "\n",
       "   secondary_cleaner.state.floatbank4_a_level  \\\n",
       "0                                 -500.492702   \n",
       "1                                 -501.153409   \n",
       "2                                 -501.559663   \n",
       "3                                 -501.287889   \n",
       "4                                 -499.947838   \n",
       "\n",
       "   secondary_cleaner.state.floatbank4_b_air  \\\n",
       "0                                 20.020205   \n",
       "1                                 20.054122   \n",
       "2                                 20.029144   \n",
       "3                                 19.977466   \n",
       "4                                 20.023735   \n",
       "\n",
       "   secondary_cleaner.state.floatbank4_b_level  \\\n",
       "0                                 -500.220296   \n",
       "1                                 -500.314711   \n",
       "2                                 -500.000662   \n",
       "3                                 -500.159903   \n",
       "4                                 -499.713680   \n",
       "\n",
       "   secondary_cleaner.state.floatbank5_a_air  \\\n",
       "0                                 17.963512   \n",
       "1                                 17.979515   \n",
       "2                                 18.012723   \n",
       "3                                 17.980463   \n",
       "4                                 17.990955   \n",
       "\n",
       "   secondary_cleaner.state.floatbank5_a_level  \\\n",
       "0                                 -499.939490   \n",
       "1                                 -499.272871   \n",
       "2                                 -500.024764   \n",
       "3                                 -500.504602   \n",
       "4                                 -500.334769   \n",
       "\n",
       "   secondary_cleaner.state.floatbank5_b_air  \\\n",
       "0                                 12.990306   \n",
       "1                                 12.992404   \n",
       "2                                 13.016445   \n",
       "3                                 12.949071   \n",
       "4                                 13.007523   \n",
       "\n",
       "   secondary_cleaner.state.floatbank5_b_level  \\\n",
       "0                                 -500.080993   \n",
       "1                                 -499.976268   \n",
       "2                                 -500.058432   \n",
       "3                                 -500.009937   \n",
       "4                                 -499.968459   \n",
       "\n",
       "   secondary_cleaner.state.floatbank6_a_air  \\\n",
       "0                                 19.990336   \n",
       "1                                 20.013986   \n",
       "2                                 19.973767   \n",
       "3                                 20.010332   \n",
       "4                                 19.995999   \n",
       "\n",
       "   secondary_cleaner.state.floatbank6_a_level  \n",
       "0                                 -499.191575  \n",
       "1                                 -500.625471  \n",
       "2                                 -501.394155  \n",
       "3                                 -508.337973  \n",
       "4                                 -499.788805  \n",
       "\n",
       "[5 rows x 53 columns]"
      ]
     },
     "execution_count": 12,
     "metadata": {},
     "output_type": "execute_result"
    }
   ],
   "source": [
    "gold_test = pd.read_csv('/datasets/gold_industry_test.csv')\n",
    "gold_test.head()"
   ]
  },
  {
   "cell_type": "code",
   "execution_count": 13,
   "metadata": {},
   "outputs": [
    {
     "name": "stdout",
     "output_type": "stream",
     "text": [
      "<class 'pandas.core.frame.DataFrame'>\n",
      "RangeIndex: 4860 entries, 0 to 4859\n",
      "Data columns (total 53 columns):\n",
      " #   Column                                      Non-Null Count  Dtype  \n",
      "---  ------                                      --------------  -----  \n",
      " 0   date                                        4860 non-null   object \n",
      " 1   rougher.input.feed_au                       4860 non-null   float64\n",
      " 2   rougher.input.feed_ag                       4860 non-null   float64\n",
      " 3   rougher.input.feed_pb                       4832 non-null   float64\n",
      " 4   rougher.input.feed_sol                      4838 non-null   float64\n",
      " 5   rougher.input.feed_rate                     4856 non-null   float64\n",
      " 6   rougher.input.feed_size                     4816 non-null   float64\n",
      " 7   rougher.input.floatbank10_sulfate           4857 non-null   float64\n",
      " 8   rougher.input.floatbank10_xanthate          4859 non-null   float64\n",
      " 9   rougher.state.floatbank10_a_air             4859 non-null   float64\n",
      " 10  rougher.state.floatbank10_a_level           4859 non-null   float64\n",
      " 11  rougher.state.floatbank10_b_air             4859 non-null   float64\n",
      " 12  rougher.state.floatbank10_b_level           4859 non-null   float64\n",
      " 13  rougher.state.floatbank10_c_air             4859 non-null   float64\n",
      " 14  rougher.state.floatbank10_c_level           4859 non-null   float64\n",
      " 15  rougher.state.floatbank10_d_air             4860 non-null   float64\n",
      " 16  rougher.state.floatbank10_d_level           4860 non-null   float64\n",
      " 17  rougher.state.floatbank10_e_air             4853 non-null   float64\n",
      " 18  rougher.state.floatbank10_e_level           4860 non-null   float64\n",
      " 19  rougher.state.floatbank10_f_air             4860 non-null   float64\n",
      " 20  rougher.state.floatbank10_f_level           4860 non-null   float64\n",
      " 21  rougher.input.floatbank11_sulfate           4852 non-null   float64\n",
      " 22  rougher.input.floatbank11_xanthate          4814 non-null   float64\n",
      " 23  primary_cleaner.input.sulfate               4859 non-null   float64\n",
      " 24  primary_cleaner.input.depressant            4851 non-null   float64\n",
      " 25  primary_cleaner.input.feed_size             4860 non-null   float64\n",
      " 26  primary_cleaner.input.xanthate              4817 non-null   float64\n",
      " 27  primary_cleaner.state.floatbank8_a_air      4859 non-null   float64\n",
      " 28  primary_cleaner.state.floatbank8_a_level    4859 non-null   float64\n",
      " 29  primary_cleaner.state.floatbank8_b_air      4859 non-null   float64\n",
      " 30  primary_cleaner.state.floatbank8_b_level    4859 non-null   float64\n",
      " 31  primary_cleaner.state.floatbank8_c_air      4858 non-null   float64\n",
      " 32  primary_cleaner.state.floatbank8_c_level    4859 non-null   float64\n",
      " 33  primary_cleaner.state.floatbank8_d_air      4858 non-null   float64\n",
      " 34  primary_cleaner.state.floatbank8_d_level    4859 non-null   float64\n",
      " 35  secondary_cleaner.state.floatbank2_a_air    4734 non-null   float64\n",
      " 36  secondary_cleaner.state.floatbank2_a_level  4859 non-null   float64\n",
      " 37  secondary_cleaner.state.floatbank2_b_air    4859 non-null   float64\n",
      " 38  secondary_cleaner.state.floatbank2_b_level  4859 non-null   float64\n",
      " 39  secondary_cleaner.state.floatbank3_a_air    4859 non-null   float64\n",
      " 40  secondary_cleaner.state.floatbank3_a_level  4859 non-null   float64\n",
      " 41  secondary_cleaner.state.floatbank3_b_air    4859 non-null   float64\n",
      " 42  secondary_cleaner.state.floatbank3_b_level  4859 non-null   float64\n",
      " 43  secondary_cleaner.state.floatbank4_a_air    4859 non-null   float64\n",
      " 44  secondary_cleaner.state.floatbank4_a_level  4859 non-null   float64\n",
      " 45  secondary_cleaner.state.floatbank4_b_air    4859 non-null   float64\n",
      " 46  secondary_cleaner.state.floatbank4_b_level  4859 non-null   float64\n",
      " 47  secondary_cleaner.state.floatbank5_a_air    4859 non-null   float64\n",
      " 48  secondary_cleaner.state.floatbank5_a_level  4859 non-null   float64\n",
      " 49  secondary_cleaner.state.floatbank5_b_air    4859 non-null   float64\n",
      " 50  secondary_cleaner.state.floatbank5_b_level  4859 non-null   float64\n",
      " 51  secondary_cleaner.state.floatbank6_a_air    4859 non-null   float64\n",
      " 52  secondary_cleaner.state.floatbank6_a_level  4859 non-null   float64\n",
      "dtypes: float64(52), object(1)\n",
      "memory usage: 2.0+ MB\n"
     ]
    }
   ],
   "source": [
    "gold_test.info()"
   ]
  },
  {
   "cell_type": "code",
   "execution_count": 14,
   "metadata": {},
   "outputs": [
    {
     "data": {
      "text/plain": [
       "(4860, 53)"
      ]
     },
     "execution_count": 14,
     "metadata": {},
     "output_type": "execute_result"
    }
   ],
   "source": [
    "gold_test.shape"
   ]
  },
  {
   "cell_type": "code",
   "execution_count": 15,
   "metadata": {},
   "outputs": [
    {
     "data": {
      "text/plain": [
       "2.9997942386831276"
      ]
     },
     "execution_count": 15,
     "metadata": {},
     "output_type": "execute_result"
    }
   ],
   "source": [
    "gold_train.shape[0] / gold_test.shape[0] # проверим соотношение размером обучающей и тестовой выборок"
   ]
  },
  {
   "cell_type": "code",
   "execution_count": 16,
   "metadata": {
    "scrolled": true
   },
   "outputs": [
    {
     "data": {
      "text/html": [
       "<div>\n",
       "<style scoped>\n",
       "    .dataframe tbody tr th:only-of-type {\n",
       "        vertical-align: middle;\n",
       "    }\n",
       "\n",
       "    .dataframe tbody tr th {\n",
       "        vertical-align: top;\n",
       "    }\n",
       "\n",
       "    .dataframe thead th {\n",
       "        text-align: right;\n",
       "    }\n",
       "</style>\n",
       "<table border=\"1\" class=\"dataframe\">\n",
       "  <thead>\n",
       "    <tr style=\"text-align: right;\">\n",
       "      <th></th>\n",
       "      <th>rougher.input.feed_au</th>\n",
       "      <th>rougher.input.feed_ag</th>\n",
       "      <th>rougher.input.feed_pb</th>\n",
       "      <th>rougher.input.feed_sol</th>\n",
       "      <th>rougher.input.feed_rate</th>\n",
       "      <th>rougher.input.feed_size</th>\n",
       "      <th>rougher.input.floatbank10_sulfate</th>\n",
       "      <th>rougher.input.floatbank10_xanthate</th>\n",
       "      <th>rougher.state.floatbank10_a_air</th>\n",
       "      <th>rougher.state.floatbank10_a_level</th>\n",
       "      <th>...</th>\n",
       "      <th>secondary_cleaner.state.floatbank4_a_air</th>\n",
       "      <th>secondary_cleaner.state.floatbank4_a_level</th>\n",
       "      <th>secondary_cleaner.state.floatbank4_b_air</th>\n",
       "      <th>secondary_cleaner.state.floatbank4_b_level</th>\n",
       "      <th>secondary_cleaner.state.floatbank5_a_air</th>\n",
       "      <th>secondary_cleaner.state.floatbank5_a_level</th>\n",
       "      <th>secondary_cleaner.state.floatbank5_b_air</th>\n",
       "      <th>secondary_cleaner.state.floatbank5_b_level</th>\n",
       "      <th>secondary_cleaner.state.floatbank6_a_air</th>\n",
       "      <th>secondary_cleaner.state.floatbank6_a_level</th>\n",
       "    </tr>\n",
       "  </thead>\n",
       "  <tbody>\n",
       "    <tr>\n",
       "      <th>count</th>\n",
       "      <td>4860.000000</td>\n",
       "      <td>4860.000000</td>\n",
       "      <td>4832.000000</td>\n",
       "      <td>4838.000000</td>\n",
       "      <td>4856.000000</td>\n",
       "      <td>4816.000000</td>\n",
       "      <td>4857.000000</td>\n",
       "      <td>4859.000000</td>\n",
       "      <td>4859.000000</td>\n",
       "      <td>4859.000000</td>\n",
       "      <td>...</td>\n",
       "      <td>4.859000e+03</td>\n",
       "      <td>4859.000000</td>\n",
       "      <td>4.859000e+03</td>\n",
       "      <td>4859.000000</td>\n",
       "      <td>4859.000000</td>\n",
       "      <td>4859.000000</td>\n",
       "      <td>4859.000000</td>\n",
       "      <td>4859.000000</td>\n",
       "      <td>4859.000000</td>\n",
       "      <td>4859.000000</td>\n",
       "    </tr>\n",
       "    <tr>\n",
       "      <th>mean</th>\n",
       "      <td>8.005584</td>\n",
       "      <td>8.547348</td>\n",
       "      <td>3.579662</td>\n",
       "      <td>37.095864</td>\n",
       "      <td>490.285103</td>\n",
       "      <td>59.113400</td>\n",
       "      <td>12.055735</td>\n",
       "      <td>6.101308</td>\n",
       "      <td>1108.635895</td>\n",
       "      <td>-368.340127</td>\n",
       "      <td>...</td>\n",
       "      <td>1.985770e+01</td>\n",
       "      <td>-488.665140</td>\n",
       "      <td>1.557025e+01</td>\n",
       "      <td>-464.176507</td>\n",
       "      <td>16.594103</td>\n",
       "      <td>-490.815250</td>\n",
       "      <td>12.945971</td>\n",
       "      <td>-489.583564</td>\n",
       "      <td>19.053888</td>\n",
       "      <td>-504.678924</td>\n",
       "    </tr>\n",
       "    <tr>\n",
       "      <th>std</th>\n",
       "      <td>1.993590</td>\n",
       "      <td>1.958601</td>\n",
       "      <td>1.029377</td>\n",
       "      <td>4.926284</td>\n",
       "      <td>94.371623</td>\n",
       "      <td>19.125122</td>\n",
       "      <td>3.407642</td>\n",
       "      <td>1.042754</td>\n",
       "      <td>156.493143</td>\n",
       "      <td>91.155929</td>\n",
       "      <td>...</td>\n",
       "      <td>5.913105e+00</td>\n",
       "      <td>44.392714</td>\n",
       "      <td>4.927361e+00</td>\n",
       "      <td>65.706994</td>\n",
       "      <td>5.724305</td>\n",
       "      <td>32.258443</td>\n",
       "      <td>5.533176</td>\n",
       "      <td>37.084609</td>\n",
       "      <td>5.548996</td>\n",
       "      <td>38.690186</td>\n",
       "    </tr>\n",
       "    <tr>\n",
       "      <th>min</th>\n",
       "      <td>0.010000</td>\n",
       "      <td>0.010000</td>\n",
       "      <td>0.010000</td>\n",
       "      <td>0.010000</td>\n",
       "      <td>0.012786</td>\n",
       "      <td>0.046369</td>\n",
       "      <td>0.018907</td>\n",
       "      <td>0.015783</td>\n",
       "      <td>300.792494</td>\n",
       "      <td>-600.568138</td>\n",
       "      <td>...</td>\n",
       "      <td>1.079872e-16</td>\n",
       "      <td>-799.704969</td>\n",
       "      <td>2.489718e-17</td>\n",
       "      <td>-799.860767</td>\n",
       "      <td>-0.371498</td>\n",
       "      <td>-797.142475</td>\n",
       "      <td>1.358469</td>\n",
       "      <td>-800.006180</td>\n",
       "      <td>0.160386</td>\n",
       "      <td>-809.734800</td>\n",
       "    </tr>\n",
       "    <tr>\n",
       "      <th>25%</th>\n",
       "      <td>6.574363</td>\n",
       "      <td>6.975898</td>\n",
       "      <td>2.903612</td>\n",
       "      <td>34.510841</td>\n",
       "      <td>434.099695</td>\n",
       "      <td>47.596984</td>\n",
       "      <td>9.890429</td>\n",
       "      <td>5.499808</td>\n",
       "      <td>999.715729</td>\n",
       "      <td>-499.731972</td>\n",
       "      <td>...</td>\n",
       "      <td>1.501123e+01</td>\n",
       "      <td>-500.704004</td>\n",
       "      <td>1.202172e+01</td>\n",
       "      <td>-500.196517</td>\n",
       "      <td>11.073822</td>\n",
       "      <td>-500.483564</td>\n",
       "      <td>9.011890</td>\n",
       "      <td>-500.129913</td>\n",
       "      <td>14.963953</td>\n",
       "      <td>-500.668501</td>\n",
       "    </tr>\n",
       "    <tr>\n",
       "      <th>50%</th>\n",
       "      <td>7.812923</td>\n",
       "      <td>8.179714</td>\n",
       "      <td>3.540772</td>\n",
       "      <td>37.499761</td>\n",
       "      <td>502.118742</td>\n",
       "      <td>55.509481</td>\n",
       "      <td>11.997859</td>\n",
       "      <td>6.099805</td>\n",
       "      <td>1001.414798</td>\n",
       "      <td>-300.181367</td>\n",
       "      <td>...</td>\n",
       "      <td>1.996807e+01</td>\n",
       "      <td>-499.892919</td>\n",
       "      <td>1.501240e+01</td>\n",
       "      <td>-499.540776</td>\n",
       "      <td>16.631195</td>\n",
       "      <td>-499.873136</td>\n",
       "      <td>11.999417</td>\n",
       "      <td>-499.955304</td>\n",
       "      <td>19.960006</td>\n",
       "      <td>-500.033769</td>\n",
       "    </tr>\n",
       "    <tr>\n",
       "      <th>75%</th>\n",
       "      <td>9.556589</td>\n",
       "      <td>10.084339</td>\n",
       "      <td>4.199847</td>\n",
       "      <td>40.461315</td>\n",
       "      <td>555.596563</td>\n",
       "      <td>66.661547</td>\n",
       "      <td>14.496072</td>\n",
       "      <td>6.802101</td>\n",
       "      <td>1202.837565</td>\n",
       "      <td>-299.961547</td>\n",
       "      <td>...</td>\n",
       "      <td>2.498900e+01</td>\n",
       "      <td>-498.652030</td>\n",
       "      <td>1.999949e+01</td>\n",
       "      <td>-400.302329</td>\n",
       "      <td>19.983191</td>\n",
       "      <td>-498.852815</td>\n",
       "      <td>15.004198</td>\n",
       "      <td>-499.643776</td>\n",
       "      <td>24.974583</td>\n",
       "      <td>-499.460134</td>\n",
       "    </tr>\n",
       "    <tr>\n",
       "      <th>max</th>\n",
       "      <td>13.417156</td>\n",
       "      <td>14.533698</td>\n",
       "      <td>7.142594</td>\n",
       "      <td>53.477742</td>\n",
       "      <td>702.523396</td>\n",
       "      <td>363.989699</td>\n",
       "      <td>30.010759</td>\n",
       "      <td>9.396928</td>\n",
       "      <td>1521.980372</td>\n",
       "      <td>-281.039299</td>\n",
       "      <td>...</td>\n",
       "      <td>3.008450e+01</td>\n",
       "      <td>-383.373053</td>\n",
       "      <td>2.398898e+01</td>\n",
       "      <td>-114.250832</td>\n",
       "      <td>33.215996</td>\n",
       "      <td>-288.963521</td>\n",
       "      <td>24.177106</td>\n",
       "      <td>-141.934397</td>\n",
       "      <td>32.028529</td>\n",
       "      <td>-104.427459</td>\n",
       "    </tr>\n",
       "  </tbody>\n",
       "</table>\n",
       "<p>8 rows × 52 columns</p>\n",
       "</div>"
      ],
      "text/plain": [
       "       rougher.input.feed_au  rougher.input.feed_ag  rougher.input.feed_pb  \\\n",
       "count            4860.000000            4860.000000            4832.000000   \n",
       "mean                8.005584               8.547348               3.579662   \n",
       "std                 1.993590               1.958601               1.029377   \n",
       "min                 0.010000               0.010000               0.010000   \n",
       "25%                 6.574363               6.975898               2.903612   \n",
       "50%                 7.812923               8.179714               3.540772   \n",
       "75%                 9.556589              10.084339               4.199847   \n",
       "max                13.417156              14.533698               7.142594   \n",
       "\n",
       "       rougher.input.feed_sol  rougher.input.feed_rate  \\\n",
       "count             4838.000000              4856.000000   \n",
       "mean                37.095864               490.285103   \n",
       "std                  4.926284                94.371623   \n",
       "min                  0.010000                 0.012786   \n",
       "25%                 34.510841               434.099695   \n",
       "50%                 37.499761               502.118742   \n",
       "75%                 40.461315               555.596563   \n",
       "max                 53.477742               702.523396   \n",
       "\n",
       "       rougher.input.feed_size  rougher.input.floatbank10_sulfate  \\\n",
       "count              4816.000000                        4857.000000   \n",
       "mean                 59.113400                          12.055735   \n",
       "std                  19.125122                           3.407642   \n",
       "min                   0.046369                           0.018907   \n",
       "25%                  47.596984                           9.890429   \n",
       "50%                  55.509481                          11.997859   \n",
       "75%                  66.661547                          14.496072   \n",
       "max                 363.989699                          30.010759   \n",
       "\n",
       "       rougher.input.floatbank10_xanthate  rougher.state.floatbank10_a_air  \\\n",
       "count                         4859.000000                      4859.000000   \n",
       "mean                             6.101308                      1108.635895   \n",
       "std                              1.042754                       156.493143   \n",
       "min                              0.015783                       300.792494   \n",
       "25%                              5.499808                       999.715729   \n",
       "50%                              6.099805                      1001.414798   \n",
       "75%                              6.802101                      1202.837565   \n",
       "max                              9.396928                      1521.980372   \n",
       "\n",
       "       rougher.state.floatbank10_a_level  ...  \\\n",
       "count                        4859.000000  ...   \n",
       "mean                         -368.340127  ...   \n",
       "std                            91.155929  ...   \n",
       "min                          -600.568138  ...   \n",
       "25%                          -499.731972  ...   \n",
       "50%                          -300.181367  ...   \n",
       "75%                          -299.961547  ...   \n",
       "max                          -281.039299  ...   \n",
       "\n",
       "       secondary_cleaner.state.floatbank4_a_air  \\\n",
       "count                              4.859000e+03   \n",
       "mean                               1.985770e+01   \n",
       "std                                5.913105e+00   \n",
       "min                                1.079872e-16   \n",
       "25%                                1.501123e+01   \n",
       "50%                                1.996807e+01   \n",
       "75%                                2.498900e+01   \n",
       "max                                3.008450e+01   \n",
       "\n",
       "       secondary_cleaner.state.floatbank4_a_level  \\\n",
       "count                                 4859.000000   \n",
       "mean                                  -488.665140   \n",
       "std                                     44.392714   \n",
       "min                                   -799.704969   \n",
       "25%                                   -500.704004   \n",
       "50%                                   -499.892919   \n",
       "75%                                   -498.652030   \n",
       "max                                   -383.373053   \n",
       "\n",
       "       secondary_cleaner.state.floatbank4_b_air  \\\n",
       "count                              4.859000e+03   \n",
       "mean                               1.557025e+01   \n",
       "std                                4.927361e+00   \n",
       "min                                2.489718e-17   \n",
       "25%                                1.202172e+01   \n",
       "50%                                1.501240e+01   \n",
       "75%                                1.999949e+01   \n",
       "max                                2.398898e+01   \n",
       "\n",
       "       secondary_cleaner.state.floatbank4_b_level  \\\n",
       "count                                 4859.000000   \n",
       "mean                                  -464.176507   \n",
       "std                                     65.706994   \n",
       "min                                   -799.860767   \n",
       "25%                                   -500.196517   \n",
       "50%                                   -499.540776   \n",
       "75%                                   -400.302329   \n",
       "max                                   -114.250832   \n",
       "\n",
       "       secondary_cleaner.state.floatbank5_a_air  \\\n",
       "count                               4859.000000   \n",
       "mean                                  16.594103   \n",
       "std                                    5.724305   \n",
       "min                                   -0.371498   \n",
       "25%                                   11.073822   \n",
       "50%                                   16.631195   \n",
       "75%                                   19.983191   \n",
       "max                                   33.215996   \n",
       "\n",
       "       secondary_cleaner.state.floatbank5_a_level  \\\n",
       "count                                 4859.000000   \n",
       "mean                                  -490.815250   \n",
       "std                                     32.258443   \n",
       "min                                   -797.142475   \n",
       "25%                                   -500.483564   \n",
       "50%                                   -499.873136   \n",
       "75%                                   -498.852815   \n",
       "max                                   -288.963521   \n",
       "\n",
       "       secondary_cleaner.state.floatbank5_b_air  \\\n",
       "count                               4859.000000   \n",
       "mean                                  12.945971   \n",
       "std                                    5.533176   \n",
       "min                                    1.358469   \n",
       "25%                                    9.011890   \n",
       "50%                                   11.999417   \n",
       "75%                                   15.004198   \n",
       "max                                   24.177106   \n",
       "\n",
       "       secondary_cleaner.state.floatbank5_b_level  \\\n",
       "count                                 4859.000000   \n",
       "mean                                  -489.583564   \n",
       "std                                     37.084609   \n",
       "min                                   -800.006180   \n",
       "25%                                   -500.129913   \n",
       "50%                                   -499.955304   \n",
       "75%                                   -499.643776   \n",
       "max                                   -141.934397   \n",
       "\n",
       "       secondary_cleaner.state.floatbank6_a_air  \\\n",
       "count                               4859.000000   \n",
       "mean                                  19.053888   \n",
       "std                                    5.548996   \n",
       "min                                    0.160386   \n",
       "25%                                   14.963953   \n",
       "50%                                   19.960006   \n",
       "75%                                   24.974583   \n",
       "max                                   32.028529   \n",
       "\n",
       "       secondary_cleaner.state.floatbank6_a_level  \n",
       "count                                 4859.000000  \n",
       "mean                                  -504.678924  \n",
       "std                                     38.690186  \n",
       "min                                   -809.734800  \n",
       "25%                                   -500.668501  \n",
       "50%                                   -500.033769  \n",
       "75%                                   -499.460134  \n",
       "max                                   -104.427459  \n",
       "\n",
       "[8 rows x 52 columns]"
      ]
     },
     "execution_count": 16,
     "metadata": {},
     "output_type": "execute_result"
    }
   ],
   "source": [
    "gold_test.describe()"
   ]
  },
  {
   "cell_type": "code",
   "execution_count": 17,
   "metadata": {},
   "outputs": [
    {
     "data": {
      "text/plain": [
       "0"
      ]
     },
     "execution_count": 17,
     "metadata": {},
     "output_type": "execute_result"
    }
   ],
   "source": [
    "gold_test.duplicated().sum()"
   ]
  },
  {
   "cell_type": "code",
   "execution_count": 18,
   "metadata": {},
   "outputs": [
    {
     "data": {
      "text/plain": [
       "secondary_cleaner.state.floatbank2_a_air      126\n",
       "rougher.input.floatbank11_xanthate             46\n",
       "rougher.input.feed_size                        44\n",
       "primary_cleaner.input.xanthate                 43\n",
       "rougher.input.feed_pb                          28\n",
       "rougher.input.feed_sol                         22\n",
       "primary_cleaner.input.depressant                9\n",
       "rougher.input.floatbank11_sulfate               8\n",
       "rougher.state.floatbank10_e_air                 7\n",
       "rougher.input.feed_rate                         4\n",
       "rougher.input.floatbank10_sulfate               3\n",
       "primary_cleaner.state.floatbank8_d_air          2\n",
       "primary_cleaner.state.floatbank8_c_air          2\n",
       "primary_cleaner.state.floatbank8_d_level        1\n",
       "secondary_cleaner.state.floatbank3_a_level      1\n",
       "secondary_cleaner.state.floatbank2_a_level      1\n",
       "secondary_cleaner.state.floatbank2_b_air        1\n",
       "secondary_cleaner.state.floatbank2_b_level      1\n",
       "secondary_cleaner.state.floatbank3_a_air        1\n",
       "secondary_cleaner.state.floatbank4_a_air        1\n",
       "secondary_cleaner.state.floatbank3_b_air        1\n",
       "secondary_cleaner.state.floatbank3_b_level      1\n",
       "secondary_cleaner.state.floatbank4_a_level      1\n",
       "secondary_cleaner.state.floatbank4_b_air        1\n",
       "secondary_cleaner.state.floatbank4_b_level      1\n",
       "secondary_cleaner.state.floatbank5_a_air        1\n",
       "secondary_cleaner.state.floatbank5_a_level      1\n",
       "secondary_cleaner.state.floatbank5_b_air        1\n",
       "secondary_cleaner.state.floatbank5_b_level      1\n",
       "secondary_cleaner.state.floatbank6_a_air        1\n",
       "primary_cleaner.state.floatbank8_c_level        1\n",
       "secondary_cleaner.state.floatbank6_a_level      1\n",
       "primary_cleaner.state.floatbank8_b_level        1\n",
       "rougher.state.floatbank10_c_air                 1\n",
       "primary_cleaner.state.floatbank8_a_level        1\n",
       "primary_cleaner.state.floatbank8_a_air          1\n",
       "rougher.input.floatbank10_xanthate              1\n",
       "primary_cleaner.input.sulfate                   1\n",
       "rougher.state.floatbank10_a_air                 1\n",
       "rougher.state.floatbank10_a_level               1\n",
       "rougher.state.floatbank10_b_air                 1\n",
       "primary_cleaner.state.floatbank8_b_air          1\n",
       "rougher.state.floatbank10_b_level               1\n",
       "rougher.state.floatbank10_c_level               1\n",
       "rougher.input.feed_ag                           0\n",
       "dtype: int64"
      ]
     },
     "execution_count": 18,
     "metadata": {},
     "output_type": "execute_result"
    }
   ],
   "source": [
    "gold_test.isna().sum().sort_values(ascending=False)[:45]"
   ]
  },
  {
   "cell_type": "markdown",
   "metadata": {},
   "source": [
    "****"
   ]
  },
  {
   "cell_type": "markdown",
   "metadata": {},
   "source": [
    "### Проверка расчета эффективности обогащения\n",
    "Вычислим эффективность обогащения на обучающей выборке для признака rougher.output.recovery по формуле:<br>\n",
    "<img src='https://pictures.s3.yandex.net/resources/Recovery_1576238822.jpg' width=720, heigth=240>\n",
    "где:\n",
    "* C — доля золота в концентрате после флотации/очистки;\n",
    "* F — доля золота в сырье/концентрате до флотации/очистки;\n",
    "* T — доля золота в отвальных хвостах после флотации/очистки.\n",
    "\n",
    "Затем найдем MAE между нашими расчётами и значением признака.<br>"
   ]
  },
  {
   "cell_type": "code",
   "execution_count": 19,
   "metadata": {},
   "outputs": [],
   "source": [
    "C = gold_train['rougher.output.concentrate_au']\n",
    "F = gold_train['rougher.input.feed_au']\n",
    "T = gold_train['rougher.output.tail_au']"
   ]
  },
  {
   "cell_type": "code",
   "execution_count": 20,
   "metadata": {},
   "outputs": [],
   "source": [
    "gold_train['recovery'] = ((C * (F - T)) / (F * (C - T))) * 100"
   ]
  },
  {
   "cell_type": "code",
   "execution_count": 21,
   "metadata": {},
   "outputs": [
    {
     "data": {
      "text/plain": [
       "82.52119968211336"
      ]
     },
     "execution_count": 21,
     "metadata": {},
     "output_type": "execute_result"
    }
   ],
   "source": [
    "gold_train['recovery'].mean()"
   ]
  },
  {
   "cell_type": "code",
   "execution_count": 22,
   "metadata": {},
   "outputs": [
    {
     "data": {
      "text/plain": [
       "82.52119968211336"
      ]
     },
     "execution_count": 22,
     "metadata": {},
     "output_type": "execute_result"
    }
   ],
   "source": [
    "gold_train['rougher.output.recovery'].mean()"
   ]
  },
  {
   "cell_type": "code",
   "execution_count": 23,
   "metadata": {},
   "outputs": [
    {
     "data": {
      "text/plain": [
       "9.83758577644259e-15"
      ]
     },
     "execution_count": 23,
     "metadata": {},
     "output_type": "execute_result"
    }
   ],
   "source": [
    "mean_absolute_error(gold_train['rougher.output.recovery'], gold_train['recovery'])"
   ]
  },
  {
   "cell_type": "markdown",
   "metadata": {},
   "source": [
    "Значение MAE между признаком и засчетами крайне мало, а средние выглядят совпадающими. Значит, расчеты были сделаны верно. Удалим наш столбец."
   ]
  },
  {
   "cell_type": "code",
   "execution_count": 24,
   "metadata": {},
   "outputs": [],
   "source": [
    "gold_train = gold_train.drop('recovery', axis=1)"
   ]
  },
  {
   "cell_type": "markdown",
   "metadata": {},
   "source": [
    "****\n",
    "### Недоступные в тестовой выборке признаки\n",
    "Проанализируем признаки, недоступные в тестовой выборке: что это за параметры и к какому типу относятся?"
   ]
  },
  {
   "cell_type": "code",
   "execution_count": 25,
   "metadata": {
    "scrolled": false
   },
   "outputs": [
    {
     "data": {
      "text/plain": [
       "{'final.output.concentrate_ag',\n",
       " 'final.output.concentrate_au',\n",
       " 'final.output.concentrate_pb',\n",
       " 'final.output.concentrate_sol',\n",
       " 'final.output.recovery',\n",
       " 'final.output.tail_ag',\n",
       " 'final.output.tail_au',\n",
       " 'final.output.tail_pb',\n",
       " 'final.output.tail_sol',\n",
       " 'primary_cleaner.output.concentrate_ag',\n",
       " 'primary_cleaner.output.concentrate_au',\n",
       " 'primary_cleaner.output.concentrate_pb',\n",
       " 'primary_cleaner.output.concentrate_sol',\n",
       " 'primary_cleaner.output.tail_ag',\n",
       " 'primary_cleaner.output.tail_au',\n",
       " 'primary_cleaner.output.tail_pb',\n",
       " 'primary_cleaner.output.tail_sol',\n",
       " 'rougher.calculation.au_pb_ratio',\n",
       " 'rougher.calculation.floatbank10_sulfate_to_au_feed',\n",
       " 'rougher.calculation.floatbank11_sulfate_to_au_feed',\n",
       " 'rougher.calculation.sulfate_to_au_concentrate',\n",
       " 'rougher.output.concentrate_ag',\n",
       " 'rougher.output.concentrate_au',\n",
       " 'rougher.output.concentrate_pb',\n",
       " 'rougher.output.concentrate_sol',\n",
       " 'rougher.output.recovery',\n",
       " 'rougher.output.tail_ag',\n",
       " 'rougher.output.tail_au',\n",
       " 'rougher.output.tail_pb',\n",
       " 'rougher.output.tail_sol',\n",
       " 'secondary_cleaner.output.tail_ag',\n",
       " 'secondary_cleaner.output.tail_au',\n",
       " 'secondary_cleaner.output.tail_pb',\n",
       " 'secondary_cleaner.output.tail_sol'}"
      ]
     },
     "execution_count": 25,
     "metadata": {},
     "output_type": "execute_result"
    }
   ],
   "source": [
    "set(gold_train.columns) - set(gold_test.columns)"
   ]
  },
  {
   "cell_type": "markdown",
   "metadata": {},
   "source": [
    "В тестовой выборке недоступны признаки типа output — параметры полученного на этапе продукта и calculation — расчётные характеристики. Видимо, они рассчитываются позднее, и поэтому недоступны."
   ]
  },
  {
   "cell_type": "markdown",
   "metadata": {},
   "source": [
    "*****\n",
    "### Предобработка данных\n",
    "Выполним предобработку данных. Переведем даты в верный тип и заполним пропуски."
   ]
  },
  {
   "cell_type": "code",
   "execution_count": 26,
   "metadata": {},
   "outputs": [],
   "source": [
    "golds = [gold_full, gold_train, gold_test]"
   ]
  },
  {
   "cell_type": "code",
   "execution_count": 27,
   "metadata": {},
   "outputs": [],
   "source": [
    "for gold in golds:\n",
    "    gold['date'] = pd.to_datetime(\n",
    "        gold['date'], format='%Y-%m-%d %H:%M:%S'\n",
    ")"
   ]
  },
  {
   "cell_type": "code",
   "execution_count": 28,
   "metadata": {},
   "outputs": [
    {
     "data": {
      "text/plain": [
       "dtype('<M8[ns]')"
      ]
     },
     "execution_count": 28,
     "metadata": {},
     "output_type": "execute_result"
    }
   ],
   "source": [
    "gold_full.date.dtype"
   ]
  },
  {
   "cell_type": "markdown",
   "metadata": {},
   "source": [
    "> Данные индексируются датой и временем получения информации (признак date). Соседние по времени параметры часто похожи. \n",
    "\n",
    "Поэтому для заполнения пропусков воспользуемся методов ffill - он заполняет пропущенные значения данными из предыдущей строки."
   ]
  },
  {
   "cell_type": "code",
   "execution_count": 29,
   "metadata": {},
   "outputs": [],
   "source": [
    "for gold in golds:\n",
    "    gold.ffill(axis='rows', inplace=True)"
   ]
  },
  {
   "cell_type": "code",
   "execution_count": 30,
   "metadata": {},
   "outputs": [
    {
     "data": {
      "text/plain": [
       "date                                          0\n",
       "primary_cleaner.output.tail_sol               0\n",
       "secondary_cleaner.state.floatbank3_b_level    0\n",
       "secondary_cleaner.state.floatbank3_b_air      0\n",
       "secondary_cleaner.state.floatbank3_a_level    0\n",
       "dtype: int64"
      ]
     },
     "execution_count": 30,
     "metadata": {},
     "output_type": "execute_result"
    }
   ],
   "source": [
    "gold_full.isna().sum().sort_values(ascending=False).head()"
   ]
  },
  {
   "cell_type": "code",
   "execution_count": 31,
   "metadata": {},
   "outputs": [
    {
     "data": {
      "text/plain": [
       "date                                          0\n",
       "primary_cleaner.output.tail_sol               0\n",
       "secondary_cleaner.state.floatbank3_b_level    0\n",
       "secondary_cleaner.state.floatbank3_b_air      0\n",
       "secondary_cleaner.state.floatbank3_a_level    0\n",
       "dtype: int64"
      ]
     },
     "execution_count": 31,
     "metadata": {},
     "output_type": "execute_result"
    }
   ],
   "source": [
    "gold_train.isna().sum().sort_values(ascending=False).head()"
   ]
  },
  {
   "cell_type": "code",
   "execution_count": 32,
   "metadata": {},
   "outputs": [
    {
     "data": {
      "text/plain": [
       "date                                        0\n",
       "primary_cleaner.state.floatbank8_a_air      0\n",
       "primary_cleaner.state.floatbank8_b_air      0\n",
       "primary_cleaner.state.floatbank8_b_level    0\n",
       "primary_cleaner.state.floatbank8_c_air      0\n",
       "dtype: int64"
      ]
     },
     "execution_count": 32,
     "metadata": {},
     "output_type": "execute_result"
    }
   ],
   "source": [
    "gold_test.isna().sum().sort_values(ascending=False).head()"
   ]
  },
  {
   "cell_type": "markdown",
   "metadata": {},
   "source": [
    "**Вывод**: в ходе подготовки данных изучили их, проверили правильность расчета эффективности обогащения, изучили недоступные в тестовой выборке признаки и провели предобработку: перевелы столбец с датами в верный формат и заполнили пропуски."
   ]
  },
  {
   "cell_type": "markdown",
   "metadata": {},
   "source": [
    "****\n",
    "## Анализ данных"
   ]
  },
  {
   "cell_type": "markdown",
   "metadata": {},
   "source": [
    "2. Проанализируйте данные<br>\n",
    "    2.1. Посмотрите, как меняется концентрация металлов (Au, Ag, Pb) на различных этапах: в сырье, в черновом концентрате, в концентрате после первой очистки и в финальном концентрате. Какие особенности имеют распределения? Опишите выводы.<br>\n",
    "    2.2.  Сравните распределения размеров гранул исходного сырья на обучающей и тестовой выборках. Если распределения сильно отличаются друг от друга, оценка модели будет неправильной.<br>\n",
    "    2.3. Исследуйте суммарную концентрацию металлов на разных стадиях: в сырье, в черновом концентрате, в концентрате после первой очистки и в финальном концентрате.<br>\n",
    "\n",
    "### Концентрация Au, Ag, Pb"
   ]
  },
  {
   "cell_type": "code",
   "execution_count": 33,
   "metadata": {},
   "outputs": [],
   "source": [
    "new_columns = ['Сырье', 'Черновой', 'Первичная очистка', 'Финальный']\n",
    "colums_by_axis = [\n",
    "    ['Сырье','Черновой'],\n",
    "    ['Первичная очистка', 'Финальный']\n",
    "]\n",
    "    \n",
    "def conc_analyze(df, metal):\n",
    "    names = dict(zip(df.columns, new_columns))\n",
    "    df = df.rename(columns=names)\n",
    "    fig, axs = plt.subplots(2,2, figsize=(14,8))\n",
    "    fig.suptitle(f'Распределение концентрации {metal} по этапам')\n",
    "    for row_idx, row in enumerate(colums_by_axis):\n",
    "        for cell_idx, name in enumerate(row):\n",
    "            axs[row_idx, cell_idx].hist(df[name], bins=100)\n",
    "            axs[row_idx, cell_idx].grid(visible=True)\n",
    "            axs[row_idx, cell_idx].set_xlabel(f'Концентрация {metal}, %')\n",
    "            axs[row_idx, cell_idx].set_ylabel('Кол-во наблюдений')\n",
    "            axs[row_idx, cell_idx].set_title(name)\n",
    "            \n",
    "    plt.tight_layout(pad=1)\n",
    "    plt.show()\n",
    "    \n",
    "    ax = df.boxplot(figsize=(12,8))\n",
    "    ax.set_ylabel('Концентрация, %')\n",
    "    ax.set_title(f'Сравнение распределения {metal} концентрации по этапам')\n",
    "    plt.show()\n",
    "    print(df.describe())"
   ]
  },
  {
   "cell_type": "markdown",
   "metadata": {},
   "source": [
    "**Золото**"
   ]
  },
  {
   "cell_type": "code",
   "execution_count": 34,
   "metadata": {},
   "outputs": [],
   "source": [
    "au_conc = gold_train[['rougher.input.feed_au', 'rougher.output.concentrate_au', \\\n",
    "                      'primary_cleaner.output.concentrate_au', 'final.output.concentrate_au']]"
   ]
  },
  {
   "cell_type": "code",
   "execution_count": 35,
   "metadata": {},
   "outputs": [
    {
     "data": {
      "image/png": "[encoded data removed]",
      "text/plain": [
       "<Figure size 1008x576 with 4 Axes>"
      ]
     },
     "metadata": {
      "needs_background": "light"
     },
     "output_type": "display_data"
    },
    {
     "data": {
      "image/png": "[encoded data removed]",
      "text/plain": [
       "<Figure size 864x576 with 1 Axes>"
      ]
     },
     "metadata": {
      "needs_background": "light"
     },
     "output_type": "display_data"
    },
    {
     "name": "stdout",
     "output_type": "stream",
     "text": [
      "              Сырье      Черновой  Первичная очистка     Финальный\n",
      "count  14579.000000  14579.000000       14579.000000  14579.000000\n",
      "mean       8.352941     19.717470          32.007535     43.979499\n",
      "std        1.934376      4.086618           5.891272      5.471437\n",
      "min        0.010000      0.000000           0.000000      0.000000\n",
      "25%        6.932996     18.908919          30.409669     43.345906\n",
      "50%        8.225284     20.329736          32.837748     44.975014\n",
      "75%        9.832210     21.767391          35.027165     46.275153\n",
      "max       13.731330     28.824507          45.933934     52.756638\n"
     ]
    }
   ],
   "source": [
    "conc_analyze(au_conc, 'Au')"
   ]
  },
  {
   "cell_type": "markdown",
   "metadata": {},
   "source": [
    "С течением технологического процесса концентрация золота постепенно увеличивается. Распределение сырья имеет наименьший разброс среди всех этапов, а у финального концентрата больше всего выбросов.\n",
    "\n",
    "При этом на графиках чернового концентрата, концентрата после первой очистки и финального концентрата пики в районе 0, которых не заметно на графике сырья, да и минимальное значение в колонке сырья больше нуля. То, что концентрация золота внезапно превратилась в ноль на дальнейших этапах слишком маловероятно, больше похоже на сбой оборудования или другую техническую ошибку. \n",
    "Удалим данные с нулем во избежание дальнейших проблем при обучении модели.\n"
   ]
  },
  {
   "cell_type": "code",
   "execution_count": 36,
   "metadata": {},
   "outputs": [],
   "source": [
    "gold_train = gold_train[gold_train['rougher.output.concentrate_au'] != 0]\n",
    "gold_train = gold_train[gold_train['primary_cleaner.output.concentrate_au'] != 0]\n",
    "gold_train = gold_train[gold_train['final.output.concentrate_au'] != 0]"
   ]
  },
  {
   "cell_type": "code",
   "execution_count": 37,
   "metadata": {},
   "outputs": [
    {
     "data": {
      "text/html": [
       "<div>\n",
       "<style scoped>\n",
       "    .dataframe tbody tr th:only-of-type {\n",
       "        vertical-align: middle;\n",
       "    }\n",
       "\n",
       "    .dataframe tbody tr th {\n",
       "        vertical-align: top;\n",
       "    }\n",
       "\n",
       "    .dataframe thead th {\n",
       "        text-align: right;\n",
       "    }\n",
       "</style>\n",
       "<table border=\"1\" class=\"dataframe\">\n",
       "  <thead>\n",
       "    <tr style=\"text-align: right;\">\n",
       "      <th></th>\n",
       "      <th>rougher.input.feed_au</th>\n",
       "      <th>rougher.input.feed_ag</th>\n",
       "      <th>rougher.input.feed_pb</th>\n",
       "    </tr>\n",
       "  </thead>\n",
       "  <tbody>\n",
       "    <tr>\n",
       "      <th>count</th>\n",
       "      <td>13988.000000</td>\n",
       "      <td>13988.000000</td>\n",
       "      <td>13988.000000</td>\n",
       "    </tr>\n",
       "    <tr>\n",
       "      <th>mean</th>\n",
       "      <td>8.344555</td>\n",
       "      <td>8.872198</td>\n",
       "      <td>3.585328</td>\n",
       "    </tr>\n",
       "    <tr>\n",
       "      <th>std</th>\n",
       "      <td>1.932317</td>\n",
       "      <td>1.917573</td>\n",
       "      <td>1.067095</td>\n",
       "    </tr>\n",
       "    <tr>\n",
       "      <th>min</th>\n",
       "      <td>0.010000</td>\n",
       "      <td>0.010000</td>\n",
       "      <td>0.010000</td>\n",
       "    </tr>\n",
       "    <tr>\n",
       "      <th>25%</th>\n",
       "      <td>6.916336</td>\n",
       "      <td>7.324837</td>\n",
       "      <td>2.860875</td>\n",
       "    </tr>\n",
       "    <tr>\n",
       "      <th>50%</th>\n",
       "      <td>8.225254</td>\n",
       "      <td>8.720292</td>\n",
       "      <td>3.515665</td>\n",
       "    </tr>\n",
       "    <tr>\n",
       "      <th>75%</th>\n",
       "      <td>9.832884</td>\n",
       "      <td>10.253281</td>\n",
       "      <td>4.252125</td>\n",
       "    </tr>\n",
       "    <tr>\n",
       "      <th>max</th>\n",
       "      <td>13.731330</td>\n",
       "      <td>14.596026</td>\n",
       "      <td>7.052325</td>\n",
       "    </tr>\n",
       "  </tbody>\n",
       "</table>\n",
       "</div>"
      ],
      "text/plain": [
       "       rougher.input.feed_au  rougher.input.feed_ag  rougher.input.feed_pb\n",
       "count           13988.000000           13988.000000           13988.000000\n",
       "mean                8.344555               8.872198               3.585328\n",
       "std                 1.932317               1.917573               1.067095\n",
       "min                 0.010000               0.010000               0.010000\n",
       "25%                 6.916336               7.324837               2.860875\n",
       "50%                 8.225254               8.720292               3.515665\n",
       "75%                 9.832884              10.253281               4.252125\n",
       "max                13.731330              14.596026               7.052325"
      ]
     },
     "execution_count": 37,
     "metadata": {},
     "output_type": "execute_result"
    }
   ],
   "source": [
    "gold_train[['rougher.input.feed_au', 'rougher.input.feed_ag', 'rougher.input.feed_pb']].describe()"
   ]
  },
  {
   "cell_type": "code",
   "execution_count": 38,
   "metadata": {
    "scrolled": true
   },
   "outputs": [
    {
     "data": {
      "text/html": [
       "<div>\n",
       "<style scoped>\n",
       "    .dataframe tbody tr th:only-of-type {\n",
       "        vertical-align: middle;\n",
       "    }\n",
       "\n",
       "    .dataframe tbody tr th {\n",
       "        vertical-align: top;\n",
       "    }\n",
       "\n",
       "    .dataframe thead th {\n",
       "        text-align: right;\n",
       "    }\n",
       "</style>\n",
       "<table border=\"1\" class=\"dataframe\">\n",
       "  <thead>\n",
       "    <tr style=\"text-align: right;\">\n",
       "      <th></th>\n",
       "      <th>date</th>\n",
       "      <th>rougher.input.feed_au</th>\n",
       "      <th>rougher.input.feed_ag</th>\n",
       "      <th>rougher.input.feed_pb</th>\n",
       "      <th>rougher.input.feed_sol</th>\n",
       "      <th>rougher.input.feed_rate</th>\n",
       "      <th>rougher.input.feed_size</th>\n",
       "      <th>rougher.input.floatbank10_sulfate</th>\n",
       "      <th>rougher.input.floatbank10_xanthate</th>\n",
       "      <th>rougher.state.floatbank10_a_air</th>\n",
       "      <th>...</th>\n",
       "      <th>secondary_cleaner.output.tail_sol</th>\n",
       "      <th>final.output.concentrate_au</th>\n",
       "      <th>final.output.concentrate_ag</th>\n",
       "      <th>final.output.concentrate_pb</th>\n",
       "      <th>final.output.concentrate_sol</th>\n",
       "      <th>final.output.recovery</th>\n",
       "      <th>final.output.tail_au</th>\n",
       "      <th>final.output.tail_ag</th>\n",
       "      <th>final.output.tail_pb</th>\n",
       "      <th>final.output.tail_sol</th>\n",
       "    </tr>\n",
       "  </thead>\n",
       "  <tbody>\n",
       "    <tr>\n",
       "      <th>12626</th>\n",
       "      <td>2017-09-14 20:59:59</td>\n",
       "      <td>0.01</td>\n",
       "      <td>0.01</td>\n",
       "      <td>0.01</td>\n",
       "      <td>0.01</td>\n",
       "      <td>602.530096</td>\n",
       "      <td>80.935301</td>\n",
       "      <td>12.473082</td>\n",
       "      <td>7.004836</td>\n",
       "      <td>1401.025067</td>\n",
       "      <td>...</td>\n",
       "      <td>0.0</td>\n",
       "      <td>45.270618</td>\n",
       "      <td>5.413548</td>\n",
       "      <td>9.389648</td>\n",
       "      <td>8.731319</td>\n",
       "      <td>100.0</td>\n",
       "      <td>0.0</td>\n",
       "      <td>0.0</td>\n",
       "      <td>0.0</td>\n",
       "      <td>0.0</td>\n",
       "    </tr>\n",
       "    <tr>\n",
       "      <th>12627</th>\n",
       "      <td>2017-09-14 21:59:59</td>\n",
       "      <td>0.01</td>\n",
       "      <td>0.01</td>\n",
       "      <td>0.01</td>\n",
       "      <td>0.01</td>\n",
       "      <td>609.936421</td>\n",
       "      <td>81.143699</td>\n",
       "      <td>12.465643</td>\n",
       "      <td>7.000502</td>\n",
       "      <td>1398.316802</td>\n",
       "      <td>...</td>\n",
       "      <td>0.0</td>\n",
       "      <td>45.270618</td>\n",
       "      <td>5.413548</td>\n",
       "      <td>9.389648</td>\n",
       "      <td>8.731319</td>\n",
       "      <td>100.0</td>\n",
       "      <td>0.0</td>\n",
       "      <td>0.0</td>\n",
       "      <td>0.0</td>\n",
       "      <td>0.0</td>\n",
       "    </tr>\n",
       "    <tr>\n",
       "      <th>12628</th>\n",
       "      <td>2017-09-14 22:59:59</td>\n",
       "      <td>0.01</td>\n",
       "      <td>0.01</td>\n",
       "      <td>0.01</td>\n",
       "      <td>0.01</td>\n",
       "      <td>584.285584</td>\n",
       "      <td>80.737541</td>\n",
       "      <td>12.479808</td>\n",
       "      <td>6.996583</td>\n",
       "      <td>1399.833188</td>\n",
       "      <td>...</td>\n",
       "      <td>0.0</td>\n",
       "      <td>45.270618</td>\n",
       "      <td>5.413548</td>\n",
       "      <td>9.389648</td>\n",
       "      <td>8.731319</td>\n",
       "      <td>100.0</td>\n",
       "      <td>0.0</td>\n",
       "      <td>0.0</td>\n",
       "      <td>0.0</td>\n",
       "      <td>0.0</td>\n",
       "    </tr>\n",
       "  </tbody>\n",
       "</table>\n",
       "<p>3 rows × 87 columns</p>\n",
       "</div>"
      ],
      "text/plain": [
       "                     date  rougher.input.feed_au  rougher.input.feed_ag  \\\n",
       "12626 2017-09-14 20:59:59                   0.01                   0.01   \n",
       "12627 2017-09-14 21:59:59                   0.01                   0.01   \n",
       "12628 2017-09-14 22:59:59                   0.01                   0.01   \n",
       "\n",
       "       rougher.input.feed_pb  rougher.input.feed_sol  rougher.input.feed_rate  \\\n",
       "12626                   0.01                    0.01               602.530096   \n",
       "12627                   0.01                    0.01               609.936421   \n",
       "12628                   0.01                    0.01               584.285584   \n",
       "\n",
       "       rougher.input.feed_size  rougher.input.floatbank10_sulfate  \\\n",
       "12626                80.935301                          12.473082   \n",
       "12627                81.143699                          12.465643   \n",
       "12628                80.737541                          12.479808   \n",
       "\n",
       "       rougher.input.floatbank10_xanthate  rougher.state.floatbank10_a_air  \\\n",
       "12626                            7.004836                      1401.025067   \n",
       "12627                            7.000502                      1398.316802   \n",
       "12628                            6.996583                      1399.833188   \n",
       "\n",
       "       ...  secondary_cleaner.output.tail_sol  final.output.concentrate_au  \\\n",
       "12626  ...                                0.0                    45.270618   \n",
       "12627  ...                                0.0                    45.270618   \n",
       "12628  ...                                0.0                    45.270618   \n",
       "\n",
       "       final.output.concentrate_ag  final.output.concentrate_pb  \\\n",
       "12626                     5.413548                     9.389648   \n",
       "12627                     5.413548                     9.389648   \n",
       "12628                     5.413548                     9.389648   \n",
       "\n",
       "       final.output.concentrate_sol  final.output.recovery  \\\n",
       "12626                      8.731319                  100.0   \n",
       "12627                      8.731319                  100.0   \n",
       "12628                      8.731319                  100.0   \n",
       "\n",
       "       final.output.tail_au  final.output.tail_ag  final.output.tail_pb  \\\n",
       "12626                   0.0                   0.0                   0.0   \n",
       "12627                   0.0                   0.0                   0.0   \n",
       "12628                   0.0                   0.0                   0.0   \n",
       "\n",
       "       final.output.tail_sol  \n",
       "12626                    0.0  \n",
       "12627                    0.0  \n",
       "12628                    0.0  \n",
       "\n",
       "[3 rows x 87 columns]"
      ]
     },
     "execution_count": 38,
     "metadata": {},
     "output_type": "execute_result"
    }
   ],
   "source": [
    "gold_train[gold_train['rougher.input.feed_au'] < 0.02]"
   ]
  },
  {
   "cell_type": "code",
   "execution_count": 39,
   "metadata": {},
   "outputs": [],
   "source": [
    "gold_train = gold_train[gold_train['rougher.input.feed_au'] >= 0.02]"
   ]
  },
  {
   "cell_type": "markdown",
   "metadata": {},
   "source": [
    "**Серебро**"
   ]
  },
  {
   "cell_type": "code",
   "execution_count": 40,
   "metadata": {},
   "outputs": [],
   "source": [
    "ag_conc = gold_train[['rougher.input.feed_ag', 'rougher.output.concentrate_ag', \\\n",
    "                      'primary_cleaner.output.concentrate_ag', 'final.output.concentrate_ag']]"
   ]
  },
  {
   "cell_type": "code",
   "execution_count": 41,
   "metadata": {},
   "outputs": [
    {
     "data": {
      "image/png": "[encoded data removed]",
      "text/plain": [
       "<Figure size 1008x576 with 4 Axes>"
      ]
     },
     "metadata": {
      "needs_background": "light"
     },
     "output_type": "display_data"
    },
    {
     "data": {
      "image/png": "[encoded data removed]",
      "text/plain": [
       "<Figure size 864x576 with 1 Axes>"
      ]
     },
     "metadata": {
      "needs_background": "light"
     },
     "output_type": "display_data"
    },
    {
     "name": "stdout",
     "output_type": "stream",
     "text": [
      "              Сырье      Черновой  Первичная очистка     Финальный\n",
      "count  13985.000000  13985.000000       13985.000000  13985.000000\n",
      "mean       8.874099     12.285489           8.553805      5.234188\n",
      "std        1.913380      2.144173           1.949075      1.326071\n",
      "min        1.116930      0.351874           0.010000      0.010000\n",
      "25%        7.325476     10.734022           7.421060      4.316903\n",
      "50%        8.720956     12.239619           8.594864      5.135871\n",
      "75%       10.253384     13.811902           9.837025      5.933459\n",
      "max       14.596026     24.480271          16.081632     16.001945\n"
     ]
    }
   ],
   "source": [
    "conc_analyze(ag_conc, 'Ag')"
   ]
  },
  {
   "cell_type": "markdown",
   "metadata": {},
   "source": [
    "На этапе сырья можно увидеть график с двумя пиками. Возможно, у этого есть объяснение с технологической или химической точки зрения. На этапе чернового концентрата серебро достигает наибольших концентраций, а на финале наименьших. Разброс значений на всех этапах достаточно близок и невысок.\n",
    "\n",
    "На этапе первичной очистки виден пик в районе нуля (но не равный ему)."
   ]
  },
  {
   "cell_type": "code",
   "execution_count": 42,
   "metadata": {},
   "outputs": [
    {
     "data": {
      "text/html": [
       "<div>\n",
       "<style scoped>\n",
       "    .dataframe tbody tr th:only-of-type {\n",
       "        vertical-align: middle;\n",
       "    }\n",
       "\n",
       "    .dataframe tbody tr th {\n",
       "        vertical-align: top;\n",
       "    }\n",
       "\n",
       "    .dataframe thead th {\n",
       "        text-align: right;\n",
       "    }\n",
       "</style>\n",
       "<table border=\"1\" class=\"dataframe\">\n",
       "  <thead>\n",
       "    <tr style=\"text-align: right;\">\n",
       "      <th></th>\n",
       "      <th>rougher.input.feed_ag</th>\n",
       "      <th>rougher.output.concentrate_ag</th>\n",
       "      <th>primary_cleaner.output.concentrate_ag</th>\n",
       "      <th>final.output.concentrate_ag</th>\n",
       "    </tr>\n",
       "  </thead>\n",
       "  <tbody>\n",
       "    <tr>\n",
       "      <th>12237</th>\n",
       "      <td>9.794057</td>\n",
       "      <td>13.526328</td>\n",
       "      <td>0.01</td>\n",
       "      <td>6.726756</td>\n",
       "    </tr>\n",
       "    <tr>\n",
       "      <th>12238</th>\n",
       "      <td>9.386383</td>\n",
       "      <td>14.177168</td>\n",
       "      <td>0.01</td>\n",
       "      <td>5.487604</td>\n",
       "    </tr>\n",
       "    <tr>\n",
       "      <th>12304</th>\n",
       "      <td>7.930709</td>\n",
       "      <td>15.691776</td>\n",
       "      <td>0.01</td>\n",
       "      <td>1.573483</td>\n",
       "    </tr>\n",
       "    <tr>\n",
       "      <th>12321</th>\n",
       "      <td>8.759227</td>\n",
       "      <td>14.307531</td>\n",
       "      <td>0.01</td>\n",
       "      <td>5.705777</td>\n",
       "    </tr>\n",
       "    <tr>\n",
       "      <th>12336</th>\n",
       "      <td>8.257593</td>\n",
       "      <td>13.209848</td>\n",
       "      <td>0.01</td>\n",
       "      <td>5.851222</td>\n",
       "    </tr>\n",
       "    <tr>\n",
       "      <th>...</th>\n",
       "      <td>...</td>\n",
       "      <td>...</td>\n",
       "      <td>...</td>\n",
       "      <td>...</td>\n",
       "    </tr>\n",
       "    <tr>\n",
       "      <th>14438</th>\n",
       "      <td>12.018571</td>\n",
       "      <td>15.310860</td>\n",
       "      <td>0.01</td>\n",
       "      <td>4.442023</td>\n",
       "    </tr>\n",
       "    <tr>\n",
       "      <th>14439</th>\n",
       "      <td>11.879119</td>\n",
       "      <td>15.234636</td>\n",
       "      <td>0.01</td>\n",
       "      <td>4.916341</td>\n",
       "    </tr>\n",
       "    <tr>\n",
       "      <th>14440</th>\n",
       "      <td>11.407120</td>\n",
       "      <td>14.731266</td>\n",
       "      <td>0.01</td>\n",
       "      <td>5.134035</td>\n",
       "    </tr>\n",
       "    <tr>\n",
       "      <th>14441</th>\n",
       "      <td>8.270800</td>\n",
       "      <td>8.349079</td>\n",
       "      <td>0.01</td>\n",
       "      <td>4.503756</td>\n",
       "    </tr>\n",
       "    <tr>\n",
       "      <th>14442</th>\n",
       "      <td>11.821139</td>\n",
       "      <td>14.599793</td>\n",
       "      <td>0.01</td>\n",
       "      <td>3.334243</td>\n",
       "    </tr>\n",
       "  </tbody>\n",
       "</table>\n",
       "<p>98 rows × 4 columns</p>\n",
       "</div>"
      ],
      "text/plain": [
       "       rougher.input.feed_ag  rougher.output.concentrate_ag  \\\n",
       "12237               9.794057                      13.526328   \n",
       "12238               9.386383                      14.177168   \n",
       "12304               7.930709                      15.691776   \n",
       "12321               8.759227                      14.307531   \n",
       "12336               8.257593                      13.209848   \n",
       "...                      ...                            ...   \n",
       "14438              12.018571                      15.310860   \n",
       "14439              11.879119                      15.234636   \n",
       "14440              11.407120                      14.731266   \n",
       "14441               8.270800                       8.349079   \n",
       "14442              11.821139                      14.599793   \n",
       "\n",
       "       primary_cleaner.output.concentrate_ag  final.output.concentrate_ag  \n",
       "12237                                   0.01                     6.726756  \n",
       "12238                                   0.01                     5.487604  \n",
       "12304                                   0.01                     1.573483  \n",
       "12321                                   0.01                     5.705777  \n",
       "12336                                   0.01                     5.851222  \n",
       "...                                      ...                          ...  \n",
       "14438                                   0.01                     4.442023  \n",
       "14439                                   0.01                     4.916341  \n",
       "14440                                   0.01                     5.134035  \n",
       "14441                                   0.01                     4.503756  \n",
       "14442                                   0.01                     3.334243  \n",
       "\n",
       "[98 rows x 4 columns]"
      ]
     },
     "execution_count": 42,
     "metadata": {},
     "output_type": "execute_result"
    }
   ],
   "source": [
    "ag_conc[ag_conc['primary_cleaner.output.concentrate_ag'] < 0.015]"
   ]
  },
  {
   "cell_type": "markdown",
   "metadata": {},
   "source": [
    "На всякий случай удалим эти 98 строчек - это немного от общего количества, а данные далеки от основного распределения и выглядят подозрительно."
   ]
  },
  {
   "cell_type": "code",
   "execution_count": 43,
   "metadata": {},
   "outputs": [],
   "source": [
    "gold_train = gold_train[gold_train['primary_cleaner.output.concentrate_ag'] > 0.015]"
   ]
  },
  {
   "cell_type": "markdown",
   "metadata": {},
   "source": [
    "**Свинец**"
   ]
  },
  {
   "cell_type": "code",
   "execution_count": 44,
   "metadata": {},
   "outputs": [],
   "source": [
    "pb_conc = gold_train[['rougher.input.feed_pb', 'rougher.output.concentrate_pb', \\\n",
    "                      'primary_cleaner.output.concentrate_pb', 'final.output.concentrate_pb']]"
   ]
  },
  {
   "cell_type": "code",
   "execution_count": 45,
   "metadata": {},
   "outputs": [
    {
     "data": {
      "image/png": "[encoded data removed]",
      "text/plain": [
       "<Figure size 1008x576 with 4 Axes>"
      ]
     },
     "metadata": {
      "needs_background": "light"
     },
     "output_type": "display_data"
    },
    {
     "data": {
      "image/png": "[encoded data removed]",
      "text/plain": [
       "<Figure size 864x576 with 1 Axes>"
      ]
     },
     "metadata": {
      "needs_background": "light"
     },
     "output_type": "display_data"
    },
    {
     "name": "stdout",
     "output_type": "stream",
     "text": [
      "              Сырье      Черновой  Первичная очистка     Финальный\n",
      "count  13887.000000  13887.000000       13887.000000  13887.000000\n",
      "mean       3.590259      7.710887           9.862408     10.002635\n",
      "std        1.060943      1.359164           2.307611      1.486863\n",
      "min        0.125889      0.214360           0.000000      0.010000\n",
      "25%        2.869035      6.771095           8.712931      9.124311\n",
      "50%        3.519985      7.745892          10.126944     10.062806\n",
      "75%        4.253053      8.528099          11.356154     11.004424\n",
      "max        7.052325     13.091679          17.081278     16.705297\n"
     ]
    }
   ],
   "source": [
    "conc_analyze(pb_conc, 'Pb')"
   ]
  },
  {
   "cell_type": "markdown",
   "metadata": {},
   "source": [
    "Концентрация свинца с течением технологического процесса скорее растет. Разброс значений наибольший на этапе первичной очистки. "
   ]
  },
  {
   "cell_type": "markdown",
   "metadata": {},
   "source": [
    "****\n",
    "### Сравнение распределений гранул исходного сырья\n",
    "Сравним распределения размеров гранул исходного сырья на обучающей и тестовой выборках"
   ]
  },
  {
   "cell_type": "code",
   "execution_count": 46,
   "metadata": {},
   "outputs": [
    {
     "data": {
      "text/plain": [
       "count    13887.000000\n",
       "mean        59.096795\n",
       "std         23.120856\n",
       "min          0.049194\n",
       "25%         47.315053\n",
       "50%         54.480597\n",
       "75%         64.303818\n",
       "max        484.967466\n",
       "Name: rougher.input.feed_size, dtype: float64"
      ]
     },
     "execution_count": 46,
     "metadata": {},
     "output_type": "execute_result"
    }
   ],
   "source": [
    "gold_train['rougher.input.feed_size'].describe()"
   ]
  },
  {
   "cell_type": "code",
   "execution_count": 47,
   "metadata": {},
   "outputs": [
    {
     "data": {
      "text/plain": [
       "count    4860.000000\n",
       "mean       59.136150\n",
       "std        19.512497\n",
       "min         0.046369\n",
       "25%        47.610795\n",
       "50%        55.461058\n",
       "75%        66.538910\n",
       "max       363.989699\n",
       "Name: rougher.input.feed_size, dtype: float64"
      ]
     },
     "execution_count": 47,
     "metadata": {},
     "output_type": "execute_result"
    }
   ],
   "source": [
    "gold_test['rougher.input.feed_size'].describe()"
   ]
  },
  {
   "cell_type": "markdown",
   "metadata": {},
   "source": [
    "Также посчитаем дисперсии"
   ]
  },
  {
   "cell_type": "code",
   "execution_count": 48,
   "metadata": {},
   "outputs": [
    {
     "data": {
      "text/plain": [
       "4.808415083867283"
      ]
     },
     "execution_count": 48,
     "metadata": {},
     "output_type": "execute_result"
    }
   ],
   "source": [
    "gold_train['rougher.input.feed_size'].std() ** 0.5 "
   ]
  },
  {
   "cell_type": "code",
   "execution_count": 49,
   "metadata": {},
   "outputs": [
    {
     "data": {
      "text/plain": [
       "4.417295177270334"
      ]
     },
     "execution_count": 49,
     "metadata": {},
     "output_type": "execute_result"
    }
   ],
   "source": [
    "gold_test['rougher.input.feed_size'].std() ** 0.5"
   ]
  },
  {
   "cell_type": "code",
   "execution_count": 50,
   "metadata": {},
   "outputs": [
    {
     "data": {
      "image/png": "[encoded data removed]",
      "text/plain": [
       "<Figure size 720x576 with 2 Axes>"
      ]
     },
     "metadata": {
      "needs_background": "light"
     },
     "output_type": "display_data"
    }
   ],
   "source": [
    "fig, axes = plt.subplots(1, 2, figsize=(10, 8), sharey=True)\n",
    "\n",
    "fig.suptitle('Сравнение распределения размера гранул исходного сырья')\n",
    "gold_train.boxplot(column='rougher.input.feed_size', ax=axes[0])\n",
    "axes[0].set_title('Обучающая')\n",
    "axes[0].set_xticks([])\n",
    "axes[0].set_ylabel('Размер гранул, мк')\n",
    "\n",
    "gold_test.boxplot(column='rougher.input.feed_size', ax=axes[1])\n",
    "axes[1].set_title('Тестовая')\n",
    "axes[1].set_xticks([])\n",
    "axes[1].set_ylabel('Размер гранул, мк')\n",
    "plt.show()"
   ]
  },
  {
   "cell_type": "code",
   "execution_count": 51,
   "metadata": {},
   "outputs": [
    {
     "data": {
      "image/png": "[encoded data removed]",
      "text/plain": [
       "<Figure size 720x432 with 1 Axes>"
      ]
     },
     "metadata": {
      "needs_background": "light"
     },
     "output_type": "display_data"
    }
   ],
   "source": [
    "plt.figure(figsize=(10,6))\n",
    "plt.xlim(0, 150)\n",
    "sns.kdeplot(gold_train['rougher.input.feed_size'], label='Обучающая')\n",
    "sns.kdeplot(gold_test['rougher.input.feed_size'], label='Тестовая');\n",
    "plt.legend(bbox_to_anchor=(1.05, 1), loc=2, borderaxespad=0.)\n",
    "plt.xlabel('Размер частиц, мк')\n",
    "plt.ylabel('Плотность распределения')\n",
    "plt.title('Сравнение плотности распределения размера гранул исходного сырья')\n",
    "plt.legend()\n",
    "plt.show()"
   ]
  },
  {
   "cell_type": "markdown",
   "metadata": {},
   "source": [
    "Средние в обучающей и тестовой крайне близки, и дисперсии разнятся не очень значительно. По графику также можно заметить, что распределения довольны похожи - имеют позитивную скошенность, вырастают примерно в одной точке, затем постепенно уменьшаются и дают длинный хвост. Можно пологать, что распределения скорее схожи, чем \"очень сильно отличаются\"."
   ]
  },
  {
   "cell_type": "markdown",
   "metadata": {},
   "source": [
    "****\n",
    "### Суммарная концентрация металлов\n",
    "Исследуем суммарную концентрацию металлов на разных стадиях: в сырье, в черновом концентрате, в концентрате после первой очистки и в финальном концентрате."
   ]
  },
  {
   "cell_type": "code",
   "execution_count": 52,
   "metadata": {},
   "outputs": [],
   "source": [
    "rougher_sum = gold_train[['rougher.input.feed_au', 'rougher.input.feed_ag', \\\n",
    "                          'rougher.input.feed_pb', 'rougher.input.feed_sol']].sum(axis=1)\n",
    "rough_conc_sum = gold_train[['rougher.output.concentrate_au', 'rougher.output.concentrate_ag', \\\n",
    "                            'rougher.output.concentrate_pb', 'rougher.output.concentrate_sol']].sum(axis=1)\n",
    "primary_sum = gold_train[['primary_cleaner.output.concentrate_au', 'primary_cleaner.output.concentrate_ag', \\\n",
    "                          'primary_cleaner.output.concentrate_pb', 'primary_cleaner.output.concentrate_sol']].sum(axis=1)\n",
    "final_sum = gold_train[['final.output.concentrate_au', 'final.output.concentrate_ag', \\\n",
    "                        'final.output.concentrate_pb', 'final.output.concentrate_sol']].sum(axis=1)"
   ]
  },
  {
   "cell_type": "code",
   "execution_count": 53,
   "metadata": {},
   "outputs": [
    {
     "data": {
      "image/png": "[encoded data removed]",
      "text/plain": [
       "<Figure size 720x576 with 4 Axes>"
      ]
     },
     "metadata": {
      "needs_background": "light"
     },
     "output_type": "display_data"
    }
   ],
   "source": [
    "fig, axes = plt.subplots(2, 2, figsize=(10, 8), sharex=True)\n",
    "\n",
    "rougher_sum.hist(ax=axes[0,0], bins=100)\n",
    "axes[0,0].set_title('Сырье')\n",
    "\n",
    "rough_conc_sum.hist(ax=axes[0,1], bins=100)\n",
    "axes[0,1].set_title('Черновой')\n",
    "\n",
    "primary_sum.hist(ax=axes[1,0], bins=100)\n",
    "axes[1,0].set_title('Первичная очистка')\n",
    "\n",
    "final_sum.hist(ax=axes[1,1], bins=100)\n",
    "axes[1,1].set_title('Финальный');\n",
    "\n",
    "fig.suptitle('Сравнение суммарной концентрации металлов по этапам')\n",
    "for row_idx in range(2):\n",
    "    for cell_idx in range(2):\n",
    "        axes[row_idx, cell_idx].set_xlabel('Концентрация, %')\n",
    "        axes[row_idx, cell_idx].set_ylabel('Кол-во наблюдений')\n",
    "        "
   ]
  },
  {
   "cell_type": "code",
   "execution_count": 54,
   "metadata": {
    "scrolled": false
   },
   "outputs": [
    {
     "data": {
      "image/png": "[encoded data removed]",
      "text/plain": [
       "<Figure size 720x576 with 4 Axes>"
      ]
     },
     "metadata": {
      "needs_background": "light"
     },
     "output_type": "display_data"
    }
   ],
   "source": [
    "fig, axes = plt.subplots(2, 2, figsize=(10, 8), sharey=True)\n",
    "\n",
    "rougher_sum.plot.box(ax=axes[0,0], grid=True)\n",
    "axes[0,0].set_title('Сырье')\n",
    "\n",
    "rough_conc_sum.plot.box(ax=axes[0,1], grid=True)\n",
    "axes[0,1].set_title('Черновой')\n",
    "\n",
    "primary_sum.plot.box(ax=axes[1,0], grid=True)\n",
    "axes[1,0].set_title('Первичная очистка')\n",
    "\n",
    "final_sum.plot.box(ax=axes[1,1], grid=True)\n",
    "axes[1,1].set_title('Финальный');\n",
    "\n",
    "fig.suptitle('Сравнение распределения суммарной концентрации металлов по этапам')\n",
    "for row_idx in range(2):\n",
    "    for cell_idx in range(2):\n",
    "        axes[row_idx, cell_idx].set_xticks([])\n",
    "        axes[row_idx, cell_idx].set_ylabel('Концентрация, %')"
   ]
  },
  {
   "cell_type": "markdown",
   "metadata": {},
   "source": [
    "Суммарная концентрация металлов возрастает от сырья к черновому концентрату, потом снова снижается на первичной очистке и снова увеличивается на этапе финального концентрата: там же наиболее узкое распределение и наименьший межквартильный размах, что указывает что концентрация металлов в финальном растворе по большей части держится в пределах небольшого диапазона значений."
   ]
  },
  {
   "cell_type": "markdown",
   "metadata": {},
   "source": [
    "**Вывод**: в ходе анализа рассмотрели концентрацию различных металлов на разных этапах производства - по отдельности и суммарно, а также сравнили распределение гранул исходного сырья в обучающей и тестовой выборках. В ходе изучения данных нашли выбросы и избавились от них.\n",
    "*****"
   ]
  },
  {
   "cell_type": "markdown",
   "metadata": {},
   "source": [
    "## Модель"
   ]
  },
  {
   "cell_type": "markdown",
   "metadata": {},
   "source": [
    "> Нужно спрогнозировать сразу две величины:\n",
    "> * эффективность обогащения чернового концентрата rougher.output.recovery;\n",
    "> * эффективность обогащения финального концентрата final.output.recovery.\n",
    "\n",
    "3. Постройте модель<br>\n",
    "    3.1. Напишите функцию для вычисления итоговой sMAPE.<br>\n",
    "<img src='https://pictures.s3.yandex.net/resources/smape_1576239058.jpg' width=720, heigth=240>\n",
    "<img src='https://pictures.s3.yandex.net/resources/_smape_1576239054.jpg' width=720, heigth=240>\n",
    "    3.2. Обучите разные модели и оцените их качество кросс-валидацией. Выберите лучшую модель и проверьте её на тестовой выборке. Опишите выводы.<br>"
   ]
  },
  {
   "cell_type": "markdown",
   "metadata": {},
   "source": [
    "### Функция для вычисления sMAPE"
   ]
  },
  {
   "cell_type": "code",
   "execution_count": 55,
   "metadata": {},
   "outputs": [],
   "source": [
    "def smape(y_true, y_pred):\n",
    "    return (sum(abs(y_true - y_pred) / ((abs(y_true) + abs(y_pred)) / 2)) / len(y_true)) * 100\n",
    "\n",
    "def final_smape(target_true, target_predictions):\n",
    "    target_true_rougher = target_true['rougher.output.recovery']\n",
    "    target_true_final = target_true['final.output.recovery']\n",
    "    \n",
    "    target_predictions_rougher = target_predictions[:, 0]\n",
    "    target_predictions_final = target_predictions[:, 1]\n",
    "    \n",
    "    return 0.25 * smape(target_true_rougher, target_predictions_rougher) \\\n",
    "        + 0.75 * smape(target_true_final, target_predictions_final)"
   ]
  },
  {
   "cell_type": "markdown",
   "metadata": {},
   "source": [
    "### Обучение моделей"
   ]
  },
  {
   "cell_type": "markdown",
   "metadata": {},
   "source": [
    "Подготовим данные для обучения: добавим к тестовой выборке целевые признаки из полного датасета, присоеденив по дате, а затем удалим столбцы с датой, а также в обучающей выборки - те столбцы, которых нет в тестовой."
   ]
  },
  {
   "cell_type": "code",
   "execution_count": 56,
   "metadata": {},
   "outputs": [],
   "source": [
    "gold_test = gold_test.merge(gold_full[['date', 'rougher.output.recovery', 'final.output.recovery']], \\\n",
    "                              on='date', how='left')"
   ]
  },
  {
   "cell_type": "code",
   "execution_count": 57,
   "metadata": {},
   "outputs": [],
   "source": [
    "gold_test = gold_test.drop('date', axis=1)\n",
    "gold_train = gold_train.drop(set(gold_train.columns)-set(gold_test.columns), axis=1)"
   ]
  },
  {
   "cell_type": "markdown",
   "metadata": {},
   "source": [
    "Отделим целевые признаки и, так как данные имеют разный масштаб (например, среднее значение rougher.state.floatbank10_a_air - 1104.2, а rougher.input.feed_pb - 1.05), проведем масштабирование данных."
   ]
  },
  {
   "cell_type": "code",
   "execution_count": 58,
   "metadata": {},
   "outputs": [],
   "source": [
    "train_features = gold_train.drop(['rougher.output.recovery', 'final.output.recovery'], axis=1)\n",
    "train_target = gold_train[['rougher.output.recovery', 'final.output.recovery']]\n",
    "\n",
    "test_features = gold_test.drop(['rougher.output.recovery', 'final.output.recovery'], axis=1)\n",
    "test_target = gold_test[['rougher.output.recovery', 'final.output.recovery']]"
   ]
  },
  {
   "cell_type": "code",
   "execution_count": 59,
   "metadata": {},
   "outputs": [],
   "source": [
    "scaler = StandardScaler()\n",
    "pd.options.mode.chained_assignment = None\n",
    "scaler.fit(train_features)\n",
    "train_features = scaler.transform(train_features)\n",
    "test_features = scaler.transform(test_features)"
   ]
  },
  {
   "cell_type": "markdown",
   "metadata": {},
   "source": [
    "Для выбора наилучшей модели создадим скорер на основе sMAPE, который будет минимизировать искомую метрику. Согласно документации на sklearn.make_scorer, при *greater_is_better = False* объект-счетчик изменит знак результата score_func, поэтому все посчитанные sMAPE будут отрицательные. Позже мы просто перевернем знак обратно, домножив на -1."
   ]
  },
  {
   "cell_type": "code",
   "execution_count": 60,
   "metadata": {},
   "outputs": [],
   "source": [
    "smape_scorer = make_scorer(final_smape, greater_is_better=False)"
   ]
  },
  {
   "cell_type": "code",
   "execution_count": 61,
   "metadata": {},
   "outputs": [],
   "source": [
    "smape_results = pd.DataFrame(columns=['Модель', 'sMAPE']) # вспомогательная таблица"
   ]
  },
  {
   "cell_type": "markdown",
   "metadata": {},
   "source": [
    "#### Линейная регрессия "
   ]
  },
  {
   "cell_type": "code",
   "execution_count": 62,
   "metadata": {},
   "outputs": [
    {
     "name": "stdout",
     "output_type": "stream",
     "text": [
      "Итоговое sMAPE для линейной регрессии: 8.8728\n"
     ]
    }
   ],
   "source": [
    "lr = LinearRegression()\n",
    "\n",
    "lr.fit(train_features, train_target)\n",
    "predictions = lr.predict(test_features)\n",
    "\n",
    "lr_smape = cross_val_score(lr, train_features, train_target, scoring=smape_scorer, cv=5).mean() * -1\n",
    "\n",
    "smape_results = smape_results.append({'Модель': 'LR', 'sMAPE': lr_smape}, ignore_index=True)\n",
    "print('Итоговое sMAPE для линейной регрессии:', '%.4f' % lr_smape)"
   ]
  },
  {
   "cell_type": "markdown",
   "metadata": {},
   "source": [
    "#### Дерево решений"
   ]
  },
  {
   "cell_type": "markdown",
   "metadata": {},
   "source": [
    "Согласно документации на GridSearchCV, атрибут best_score_ выдает средний кросс-валидированный балл лучшей модели, поэтому нет необходимости считать его дополнительно через cross_val_score."
   ]
  },
  {
   "cell_type": "code",
   "execution_count": 63,
   "metadata": {},
   "outputs": [],
   "source": [
    "dt = DecisionTreeRegressor(random_state=state)"
   ]
  },
  {
   "cell_type": "code",
   "execution_count": 64,
   "metadata": {},
   "outputs": [
    {
     "name": "stdout",
     "output_type": "stream",
     "text": [
      "Fitting 5 folds for each of 300 candidates, totalling 1500 fits\n",
      "[CV] END max_depth=2, min_samples_leaf=1, min_samples_split=2, splitter=best; total time=   0.2s\n",
      "[CV] END max_depth=2, min_samples_leaf=1, min_samples_split=2, splitter=best; total time=   0.2s\n",
      "[CV] END max_depth=2, min_samples_leaf=1, min_samples_split=2, splitter=best; total time=   0.2s\n",
      "[CV] END max_depth=2, min_samples_leaf=1, min_samples_split=2, splitter=best; total time=   0.2s\n",
      "[CV] END max_depth=2, min_samples_leaf=1, min_samples_split=2, splitter=best; total time=   0.1s\n",
      "[CV] END max_depth=2, min_samples_leaf=1, min_samples_split=2, splitter=random; total time=   0.0s\n",
      "[CV] END max_depth=2, min_samples_leaf=1, min_samples_split=2, splitter=random; total time=   0.0s\n",
      "[CV] END max_depth=2, min_samples_leaf=1, min_samples_split=2, splitter=random; total time=   0.0s\n",
      "[CV] END max_depth=2, min_samples_leaf=1, min_samples_split=2, splitter=random; total time=   0.0s\n",
      "[CV] END max_depth=2, min_samples_leaf=1, min_samples_split=2, splitter=random; total time=   0.0s\n",
      "[CV] END max_depth=2, min_samples_leaf=1, min_samples_split=4, splitter=best; total time=   0.3s\n",
      "[CV] END max_depth=2, min_samples_leaf=1, min_samples_split=4, splitter=best; total time=   0.2s\n",
      "[CV] END max_depth=2, min_samples_leaf=1, min_samples_split=4, splitter=best; total time=   0.2s\n",
      "[CV] END max_depth=2, min_samples_leaf=1, min_samples_split=4, splitter=best; total time=   0.1s\n",
      "[CV] END max_depth=2, min_samples_leaf=1, min_samples_split=4, splitter=best; total time=   0.1s\n",
      "[CV] END max_depth=2, min_samples_leaf=1, min_samples_split=4, splitter=random; total time=   0.0s\n",
      "[CV] END max_depth=2, min_samples_leaf=1, min_samples_split=4, splitter=random; total time=   0.0s\n",
      "[CV] END max_depth=2, min_samples_leaf=1, min_samples_split=4, splitter=random; total time=   0.0s\n",
      "[CV] END max_depth=2, min_samples_leaf=1, min_samples_split=4, splitter=random; total time=   0.0s\n",
      "[CV] END max_depth=2, min_samples_leaf=1, min_samples_split=4, splitter=random; total time=   0.0s\n",
      "[CV] END max_depth=2, min_samples_leaf=1, min_samples_split=6, splitter=best; total time=   0.1s\n",
      "[CV] END max_depth=2, min_samples_leaf=1, min_samples_split=6, splitter=best; total time=   0.2s\n",
      "[CV] END max_depth=2, min_samples_leaf=1, min_samples_split=6, splitter=best; total time=   0.2s\n",
      "[CV] END max_depth=2, min_samples_leaf=1, min_samples_split=6, splitter=best; total time=   0.2s\n",
      "[CV] END max_depth=2, min_samples_leaf=1, min_samples_split=6, splitter=best; total time=   0.1s\n",
      "[CV] END max_depth=2, min_samples_leaf=1, min_samples_split=6, splitter=random; total time=   0.0s\n",
      "[CV] END max_depth=2, min_samples_leaf=1, min_samples_split=6, splitter=random; total time=   0.0s\n",
      "[CV] END max_depth=2, min_samples_leaf=1, min_samples_split=6, splitter=random; total time=   0.0s\n",
      "[CV] END max_depth=2, min_samples_leaf=1, min_samples_split=6, splitter=random; total time=   0.0s\n",
      "[CV] END max_depth=2, min_samples_leaf=1, min_samples_split=6, splitter=random; total time=   0.0s\n",
      "[CV] END max_depth=2, min_samples_leaf=1, min_samples_split=8, splitter=best; total time=   0.1s\n",
      "[CV] END max_depth=2, min_samples_leaf=1, min_samples_split=8, splitter=best; total time=   0.1s\n",
      "[CV] END max_depth=2, min_samples_leaf=1, min_samples_split=8, splitter=best; total time=   0.1s\n",
      "[CV] END max_depth=2, min_samples_leaf=1, min_samples_split=8, splitter=best; total time=   0.1s\n",
      "[CV] END max_depth=2, min_samples_leaf=1, min_samples_split=8, splitter=best; total time=   0.1s\n",
      "[CV] END max_depth=2, min_samples_leaf=1, min_samples_split=8, splitter=random; total time=   0.0s\n",
      "[CV] END max_depth=2, min_samples_leaf=1, min_samples_split=8, splitter=random; total time=   0.0s\n",
      "[CV] END max_depth=2, min_samples_leaf=1, min_samples_split=8, splitter=random; total time=   0.0s\n",
      "[CV] END max_depth=2, min_samples_leaf=1, min_samples_split=8, splitter=random; total time=   0.0s\n",
      "[CV] END max_depth=2, min_samples_leaf=1, min_samples_split=8, splitter=random; total time=   0.0s\n",
      "[CV] END max_depth=2, min_samples_leaf=1, min_samples_split=10, splitter=best; total time=   0.1s\n",
      "[CV] END max_depth=2, min_samples_leaf=1, min_samples_split=10, splitter=best; total time=   0.1s\n",
      "[CV] END max_depth=2, min_samples_leaf=1, min_samples_split=10, splitter=best; total time=   0.1s\n",
      "[CV] END max_depth=2, min_samples_leaf=1, min_samples_split=10, splitter=best; total time=   0.1s\n",
      "[CV] END max_depth=2, min_samples_leaf=1, min_samples_split=10, splitter=best; total time=   0.1s\n",
      "[CV] END max_depth=2, min_samples_leaf=1, min_samples_split=10, splitter=random; total time=   0.0s\n",
      "[CV] END max_depth=2, min_samples_leaf=1, min_samples_split=10, splitter=random; total time=   0.0s\n",
      "[CV] END max_depth=2, min_samples_leaf=1, min_samples_split=10, splitter=random; total time=   0.0s\n",
      "[CV] END max_depth=2, min_samples_leaf=1, min_samples_split=10, splitter=random; total time=   0.0s\n",
      "[CV] END max_depth=2, min_samples_leaf=1, min_samples_split=10, splitter=random; total time=   0.0s\n",
      "[CV] END max_depth=2, min_samples_leaf=3, min_samples_split=2, splitter=best; total time=   0.1s\n",
      "[CV] END max_depth=2, min_samples_leaf=3, min_samples_split=2, splitter=best; total time=   0.2s\n",
      "[CV] END max_depth=2, min_samples_leaf=3, min_samples_split=2, splitter=best; total time=   0.1s\n",
      "[CV] END max_depth=2, min_samples_leaf=3, min_samples_split=2, splitter=best; total time=   0.1s\n",
      "[CV] END max_depth=2, min_samples_leaf=3, min_samples_split=2, splitter=best; total time=   0.1s\n",
      "[CV] END max_depth=2, min_samples_leaf=3, min_samples_split=2, splitter=random; total time=   0.0s\n",
      "[CV] END max_depth=2, min_samples_leaf=3, min_samples_split=2, splitter=random; total time=   0.0s\n",
      "[CV] END max_depth=2, min_samples_leaf=3, min_samples_split=2, splitter=random; total time=   0.0s\n",
      "[CV] END max_depth=2, min_samples_leaf=3, min_samples_split=2, splitter=random; total time=   0.0s\n",
      "[CV] END max_depth=2, min_samples_leaf=3, min_samples_split=2, splitter=random; total time=   0.0s\n",
      "[CV] END max_depth=2, min_samples_leaf=3, min_samples_split=4, splitter=best; total time=   0.2s\n",
      "[CV] END max_depth=2, min_samples_leaf=3, min_samples_split=4, splitter=best; total time=   0.1s\n",
      "[CV] END max_depth=2, min_samples_leaf=3, min_samples_split=4, splitter=best; total time=   0.1s\n",
      "[CV] END max_depth=2, min_samples_leaf=3, min_samples_split=4, splitter=best; total time=   0.1s\n",
      "[CV] END max_depth=2, min_samples_leaf=3, min_samples_split=4, splitter=best; total time=   0.1s\n",
      "[CV] END max_depth=2, min_samples_leaf=3, min_samples_split=4, splitter=random; total time=   0.0s\n",
      "[CV] END max_depth=2, min_samples_leaf=3, min_samples_split=4, splitter=random; total time=   0.0s\n",
      "[CV] END max_depth=2, min_samples_leaf=3, min_samples_split=4, splitter=random; total time=   0.0s\n",
      "[CV] END max_depth=2, min_samples_leaf=3, min_samples_split=4, splitter=random; total time=   0.0s\n",
      "[CV] END max_depth=2, min_samples_leaf=3, min_samples_split=4, splitter=random; total time=   0.0s\n",
      "[CV] END max_depth=2, min_samples_leaf=3, min_samples_split=6, splitter=best; total time=   0.1s\n",
      "[CV] END max_depth=2, min_samples_leaf=3, min_samples_split=6, splitter=best; total time=   0.1s\n",
      "[CV] END max_depth=2, min_samples_leaf=3, min_samples_split=6, splitter=best; total time=   0.1s\n",
      "[CV] END max_depth=2, min_samples_leaf=3, min_samples_split=6, splitter=best; total time=   0.1s\n",
      "[CV] END max_depth=2, min_samples_leaf=3, min_samples_split=6, splitter=best; total time=   0.1s\n",
      "[CV] END max_depth=2, min_samples_leaf=3, min_samples_split=6, splitter=random; total time=   0.0s\n",
      "[CV] END max_depth=2, min_samples_leaf=3, min_samples_split=6, splitter=random; total time=   0.0s\n",
      "[CV] END max_depth=2, min_samples_leaf=3, min_samples_split=6, splitter=random; total time=   0.0s\n",
      "[CV] END max_depth=2, min_samples_leaf=3, min_samples_split=6, splitter=random; total time=   0.0s\n",
      "[CV] END max_depth=2, min_samples_leaf=3, min_samples_split=6, splitter=random; total time=   0.0s\n",
      "[CV] END max_depth=2, min_samples_leaf=3, min_samples_split=8, splitter=best; total time=   0.1s\n",
      "[CV] END max_depth=2, min_samples_leaf=3, min_samples_split=8, splitter=best; total time=   0.1s\n",
      "[CV] END max_depth=2, min_samples_leaf=3, min_samples_split=8, splitter=best; total time=   0.1s\n",
      "[CV] END max_depth=2, min_samples_leaf=3, min_samples_split=8, splitter=best; total time=   0.1s\n",
      "[CV] END max_depth=2, min_samples_leaf=3, min_samples_split=8, splitter=best; total time=   0.1s\n",
      "[CV] END max_depth=2, min_samples_leaf=3, min_samples_split=8, splitter=random; total time=   0.0s\n",
      "[CV] END max_depth=2, min_samples_leaf=3, min_samples_split=8, splitter=random; total time=   0.0s\n",
      "[CV] END max_depth=2, min_samples_leaf=3, min_samples_split=8, splitter=random; total time=   0.0s\n",
      "[CV] END max_depth=2, min_samples_leaf=3, min_samples_split=8, splitter=random; total time=   0.0s\n",
      "[CV] END max_depth=2, min_samples_leaf=3, min_samples_split=8, splitter=random; total time=   0.0s\n",
      "[CV] END max_depth=2, min_samples_leaf=3, min_samples_split=10, splitter=best; total time=   0.1s\n",
      "[CV] END max_depth=2, min_samples_leaf=3, min_samples_split=10, splitter=best; total time=   0.1s\n",
      "[CV] END max_depth=2, min_samples_leaf=3, min_samples_split=10, splitter=best; total time=   0.1s\n",
      "[CV] END max_depth=2, min_samples_leaf=3, min_samples_split=10, splitter=best; total time=   0.2s\n",
      "[CV] END max_depth=2, min_samples_leaf=3, min_samples_split=10, splitter=best; total time=   0.1s\n",
      "[CV] END max_depth=2, min_samples_leaf=3, min_samples_split=10, splitter=random; total time=   0.0s\n",
      "[CV] END max_depth=2, min_samples_leaf=3, min_samples_split=10, splitter=random; total time=   0.0s\n",
      "[CV] END max_depth=2, min_samples_leaf=3, min_samples_split=10, splitter=random; total time=   0.0s\n",
      "[CV] END max_depth=2, min_samples_leaf=3, min_samples_split=10, splitter=random; total time=   0.0s\n",
      "[CV] END max_depth=2, min_samples_leaf=3, min_samples_split=10, splitter=random; total time=   0.0s\n",
      "[CV] END max_depth=2, min_samples_leaf=5, min_samples_split=2, splitter=best; total time=   0.1s\n",
      "[CV] END max_depth=2, min_samples_leaf=5, min_samples_split=2, splitter=best; total time=   0.2s\n",
      "[CV] END max_depth=2, min_samples_leaf=5, min_samples_split=2, splitter=best; total time=   0.1s\n",
      "[CV] END max_depth=2, min_samples_leaf=5, min_samples_split=2, splitter=best; total time=   0.1s\n",
      "[CV] END max_depth=2, min_samples_leaf=5, min_samples_split=2, splitter=best; total time=   0.2s\n",
      "[CV] END max_depth=2, min_samples_leaf=5, min_samples_split=2, splitter=random; total time=   0.0s\n",
      "[CV] END max_depth=2, min_samples_leaf=5, min_samples_split=2, splitter=random; total time=   0.0s\n",
      "[CV] END max_depth=2, min_samples_leaf=5, min_samples_split=2, splitter=random; total time=   0.0s\n",
      "[CV] END max_depth=2, min_samples_leaf=5, min_samples_split=2, splitter=random; total time=   0.0s\n",
      "[CV] END max_depth=2, min_samples_leaf=5, min_samples_split=2, splitter=random; total time=   0.0s\n",
      "[CV] END max_depth=2, min_samples_leaf=5, min_samples_split=4, splitter=best; total time=   0.2s\n",
      "[CV] END max_depth=2, min_samples_leaf=5, min_samples_split=4, splitter=best; total time=   0.1s\n",
      "[CV] END max_depth=2, min_samples_leaf=5, min_samples_split=4, splitter=best; total time=   0.1s\n",
      "[CV] END max_depth=2, min_samples_leaf=5, min_samples_split=4, splitter=best; total time=   0.1s\n",
      "[CV] END max_depth=2, min_samples_leaf=5, min_samples_split=4, splitter=best; total time=   0.1s\n",
      "[CV] END max_depth=2, min_samples_leaf=5, min_samples_split=4, splitter=random; total time=   0.0s\n",
      "[CV] END max_depth=2, min_samples_leaf=5, min_samples_split=4, splitter=random; total time=   0.0s\n",
      "[CV] END max_depth=2, min_samples_leaf=5, min_samples_split=4, splitter=random; total time=   0.0s\n",
      "[CV] END max_depth=2, min_samples_leaf=5, min_samples_split=4, splitter=random; total time=   0.0s\n",
      "[CV] END max_depth=2, min_samples_leaf=5, min_samples_split=4, splitter=random; total time=   0.0s\n",
      "[CV] END max_depth=2, min_samples_leaf=5, min_samples_split=6, splitter=best; total time=   0.1s\n",
      "[CV] END max_depth=2, min_samples_leaf=5, min_samples_split=6, splitter=best; total time=   0.1s\n",
      "[CV] END max_depth=2, min_samples_leaf=5, min_samples_split=6, splitter=best; total time=   0.1s\n",
      "[CV] END max_depth=2, min_samples_leaf=5, min_samples_split=6, splitter=best; total time=   0.1s\n",
      "[CV] END max_depth=2, min_samples_leaf=5, min_samples_split=6, splitter=best; total time=   0.1s\n",
      "[CV] END max_depth=2, min_samples_leaf=5, min_samples_split=6, splitter=random; total time=   0.0s\n",
      "[CV] END max_depth=2, min_samples_leaf=5, min_samples_split=6, splitter=random; total time=   0.0s\n",
      "[CV] END max_depth=2, min_samples_leaf=5, min_samples_split=6, splitter=random; total time=   0.0s\n",
      "[CV] END max_depth=2, min_samples_leaf=5, min_samples_split=6, splitter=random; total time=   0.0s\n",
      "[CV] END max_depth=2, min_samples_leaf=5, min_samples_split=6, splitter=random; total time=   0.0s\n",
      "[CV] END max_depth=2, min_samples_leaf=5, min_samples_split=8, splitter=best; total time=   0.1s\n",
      "[CV] END max_depth=2, min_samples_leaf=5, min_samples_split=8, splitter=best; total time=   0.1s\n",
      "[CV] END max_depth=2, min_samples_leaf=5, min_samples_split=8, splitter=best; total time=   0.1s\n",
      "[CV] END max_depth=2, min_samples_leaf=5, min_samples_split=8, splitter=best; total time=   0.1s\n",
      "[CV] END max_depth=2, min_samples_leaf=5, min_samples_split=8, splitter=best; total time=   0.1s\n",
      "[CV] END max_depth=2, min_samples_leaf=5, min_samples_split=8, splitter=random; total time=   0.0s\n",
      "[CV] END max_depth=2, min_samples_leaf=5, min_samples_split=8, splitter=random; total time=   0.0s\n",
      "[CV] END max_depth=2, min_samples_leaf=5, min_samples_split=8, splitter=random; total time=   0.0s\n",
      "[CV] END max_depth=2, min_samples_leaf=5, min_samples_split=8, splitter=random; total time=   0.0s\n",
      "[CV] END max_depth=2, min_samples_leaf=5, min_samples_split=8, splitter=random; total time=   0.0s\n",
      "[CV] END max_depth=2, min_samples_leaf=5, min_samples_split=10, splitter=best; total time=   0.2s\n",
      "[CV] END max_depth=2, min_samples_leaf=5, min_samples_split=10, splitter=best; total time=   0.1s\n",
      "[CV] END max_depth=2, min_samples_leaf=5, min_samples_split=10, splitter=best; total time=   0.1s\n",
      "[CV] END max_depth=2, min_samples_leaf=5, min_samples_split=10, splitter=best; total time=   0.1s\n",
      "[CV] END max_depth=2, min_samples_leaf=5, min_samples_split=10, splitter=best; total time=   0.1s\n",
      "[CV] END max_depth=2, min_samples_leaf=5, min_samples_split=10, splitter=random; total time=   0.0s\n",
      "[CV] END max_depth=2, min_samples_leaf=5, min_samples_split=10, splitter=random; total time=   0.0s\n",
      "[CV] END max_depth=2, min_samples_leaf=5, min_samples_split=10, splitter=random; total time=   0.0s\n",
      "[CV] END max_depth=2, min_samples_leaf=5, min_samples_split=10, splitter=random; total time=   0.0s\n",
      "[CV] END max_depth=2, min_samples_leaf=5, min_samples_split=10, splitter=random; total time=   0.0s\n",
      "[CV] END max_depth=2, min_samples_leaf=7, min_samples_split=2, splitter=best; total time=   0.1s\n",
      "[CV] END max_depth=2, min_samples_leaf=7, min_samples_split=2, splitter=best; total time=   0.1s\n",
      "[CV] END max_depth=2, min_samples_leaf=7, min_samples_split=2, splitter=best; total time=   0.1s\n",
      "[CV] END max_depth=2, min_samples_leaf=7, min_samples_split=2, splitter=best; total time=   0.1s\n",
      "[CV] END max_depth=2, min_samples_leaf=7, min_samples_split=2, splitter=best; total time=   0.1s\n",
      "[CV] END max_depth=2, min_samples_leaf=7, min_samples_split=2, splitter=random; total time=   0.0s\n",
      "[CV] END max_depth=2, min_samples_leaf=7, min_samples_split=2, splitter=random; total time=   0.0s\n",
      "[CV] END max_depth=2, min_samples_leaf=7, min_samples_split=2, splitter=random; total time=   0.0s\n",
      "[CV] END max_depth=2, min_samples_leaf=7, min_samples_split=2, splitter=random; total time=   0.0s\n",
      "[CV] END max_depth=2, min_samples_leaf=7, min_samples_split=2, splitter=random; total time=   0.0s\n",
      "[CV] END max_depth=2, min_samples_leaf=7, min_samples_split=4, splitter=best; total time=   0.1s\n",
      "[CV] END max_depth=2, min_samples_leaf=7, min_samples_split=4, splitter=best; total time=   0.1s\n",
      "[CV] END max_depth=2, min_samples_leaf=7, min_samples_split=4, splitter=best; total time=   0.1s\n",
      "[CV] END max_depth=2, min_samples_leaf=7, min_samples_split=4, splitter=best; total time=   0.1s\n",
      "[CV] END max_depth=2, min_samples_leaf=7, min_samples_split=4, splitter=best; total time=   0.1s\n",
      "[CV] END max_depth=2, min_samples_leaf=7, min_samples_split=4, splitter=random; total time=   0.0s\n",
      "[CV] END max_depth=2, min_samples_leaf=7, min_samples_split=4, splitter=random; total time=   0.0s\n",
      "[CV] END max_depth=2, min_samples_leaf=7, min_samples_split=4, splitter=random; total time=   0.0s\n",
      "[CV] END max_depth=2, min_samples_leaf=7, min_samples_split=4, splitter=random; total time=   0.0s\n",
      "[CV] END max_depth=2, min_samples_leaf=7, min_samples_split=4, splitter=random; total time=   0.0s\n",
      "[CV] END max_depth=2, min_samples_leaf=7, min_samples_split=6, splitter=best; total time=   0.1s\n",
      "[CV] END max_depth=2, min_samples_leaf=7, min_samples_split=6, splitter=best; total time=   0.1s\n",
      "[CV] END max_depth=2, min_samples_leaf=7, min_samples_split=6, splitter=best; total time=   0.1s\n",
      "[CV] END max_depth=2, min_samples_leaf=7, min_samples_split=6, splitter=best; total time=   0.1s\n",
      "[CV] END max_depth=2, min_samples_leaf=7, min_samples_split=6, splitter=best; total time=   0.1s\n",
      "[CV] END max_depth=2, min_samples_leaf=7, min_samples_split=6, splitter=random; total time=   0.0s\n",
      "[CV] END max_depth=2, min_samples_leaf=7, min_samples_split=6, splitter=random; total time=   0.0s\n",
      "[CV] END max_depth=2, min_samples_leaf=7, min_samples_split=6, splitter=random; total time=   0.0s\n",
      "[CV] END max_depth=2, min_samples_leaf=7, min_samples_split=6, splitter=random; total time=   0.0s\n",
      "[CV] END max_depth=2, min_samples_leaf=7, min_samples_split=6, splitter=random; total time=   0.0s\n",
      "[CV] END max_depth=2, min_samples_leaf=7, min_samples_split=8, splitter=best; total time=   0.1s\n",
      "[CV] END max_depth=2, min_samples_leaf=7, min_samples_split=8, splitter=best; total time=   0.1s\n",
      "[CV] END max_depth=2, min_samples_leaf=7, min_samples_split=8, splitter=best; total time=   0.2s\n",
      "[CV] END max_depth=2, min_samples_leaf=7, min_samples_split=8, splitter=best; total time=   0.1s\n",
      "[CV] END max_depth=2, min_samples_leaf=7, min_samples_split=8, splitter=best; total time=   0.1s\n",
      "[CV] END max_depth=2, min_samples_leaf=7, min_samples_split=8, splitter=random; total time=   0.0s\n",
      "[CV] END max_depth=2, min_samples_leaf=7, min_samples_split=8, splitter=random; total time=   0.0s\n",
      "[CV] END max_depth=2, min_samples_leaf=7, min_samples_split=8, splitter=random; total time=   0.0s\n",
      "[CV] END max_depth=2, min_samples_leaf=7, min_samples_split=8, splitter=random; total time=   0.0s\n",
      "[CV] END max_depth=2, min_samples_leaf=7, min_samples_split=8, splitter=random; total time=   0.0s\n",
      "[CV] END max_depth=2, min_samples_leaf=7, min_samples_split=10, splitter=best; total time=   0.1s\n",
      "[CV] END max_depth=2, min_samples_leaf=7, min_samples_split=10, splitter=best; total time=   0.1s\n",
      "[CV] END max_depth=2, min_samples_leaf=7, min_samples_split=10, splitter=best; total time=   0.1s\n",
      "[CV] END max_depth=2, min_samples_leaf=7, min_samples_split=10, splitter=best; total time=   0.1s\n",
      "[CV] END max_depth=2, min_samples_leaf=7, min_samples_split=10, splitter=best; total time=   0.1s\n",
      "[CV] END max_depth=2, min_samples_leaf=7, min_samples_split=10, splitter=random; total time=   0.0s\n",
      "[CV] END max_depth=2, min_samples_leaf=7, min_samples_split=10, splitter=random; total time=   0.0s\n",
      "[CV] END max_depth=2, min_samples_leaf=7, min_samples_split=10, splitter=random; total time=   0.0s\n",
      "[CV] END max_depth=2, min_samples_leaf=7, min_samples_split=10, splitter=random; total time=   0.0s\n",
      "[CV] END max_depth=2, min_samples_leaf=7, min_samples_split=10, splitter=random; total time=   0.0s\n",
      "[CV] END max_depth=2, min_samples_leaf=9, min_samples_split=2, splitter=best; total time=   0.1s\n",
      "[CV] END max_depth=2, min_samples_leaf=9, min_samples_split=2, splitter=best; total time=   0.2s\n",
      "[CV] END max_depth=2, min_samples_leaf=9, min_samples_split=2, splitter=best; total time=   0.1s\n",
      "[CV] END max_depth=2, min_samples_leaf=9, min_samples_split=2, splitter=best; total time=   0.1s\n",
      "[CV] END max_depth=2, min_samples_leaf=9, min_samples_split=2, splitter=best; total time=   0.1s\n",
      "[CV] END max_depth=2, min_samples_leaf=9, min_samples_split=2, splitter=random; total time=   0.0s\n",
      "[CV] END max_depth=2, min_samples_leaf=9, min_samples_split=2, splitter=random; total time=   0.0s\n",
      "[CV] END max_depth=2, min_samples_leaf=9, min_samples_split=2, splitter=random; total time=   0.0s\n",
      "[CV] END max_depth=2, min_samples_leaf=9, min_samples_split=2, splitter=random; total time=   0.0s\n",
      "[CV] END max_depth=2, min_samples_leaf=9, min_samples_split=2, splitter=random; total time=   0.0s\n",
      "[CV] END max_depth=2, min_samples_leaf=9, min_samples_split=4, splitter=best; total time=   0.1s\n",
      "[CV] END max_depth=2, min_samples_leaf=9, min_samples_split=4, splitter=best; total time=   0.1s\n",
      "[CV] END max_depth=2, min_samples_leaf=9, min_samples_split=4, splitter=best; total time=   0.1s\n",
      "[CV] END max_depth=2, min_samples_leaf=9, min_samples_split=4, splitter=best; total time=   0.1s\n",
      "[CV] END max_depth=2, min_samples_leaf=9, min_samples_split=4, splitter=best; total time=   0.1s\n",
      "[CV] END max_depth=2, min_samples_leaf=9, min_samples_split=4, splitter=random; total time=   0.0s\n",
      "[CV] END max_depth=2, min_samples_leaf=9, min_samples_split=4, splitter=random; total time=   0.0s\n",
      "[CV] END max_depth=2, min_samples_leaf=9, min_samples_split=4, splitter=random; total time=   0.0s\n",
      "[CV] END max_depth=2, min_samples_leaf=9, min_samples_split=4, splitter=random; total time=   0.0s\n",
      "[CV] END max_depth=2, min_samples_leaf=9, min_samples_split=4, splitter=random; total time=   0.0s\n",
      "[CV] END max_depth=2, min_samples_leaf=9, min_samples_split=6, splitter=best; total time=   0.1s\n",
      "[CV] END max_depth=2, min_samples_leaf=9, min_samples_split=6, splitter=best; total time=   0.1s\n",
      "[CV] END max_depth=2, min_samples_leaf=9, min_samples_split=6, splitter=best; total time=   0.1s\n",
      "[CV] END max_depth=2, min_samples_leaf=9, min_samples_split=6, splitter=best; total time=   0.2s\n",
      "[CV] END max_depth=2, min_samples_leaf=9, min_samples_split=6, splitter=best; total time=   0.1s\n",
      "[CV] END max_depth=2, min_samples_leaf=9, min_samples_split=6, splitter=random; total time=   0.0s\n",
      "[CV] END max_depth=2, min_samples_leaf=9, min_samples_split=6, splitter=random; total time=   0.0s\n",
      "[CV] END max_depth=2, min_samples_leaf=9, min_samples_split=6, splitter=random; total time=   0.0s\n",
      "[CV] END max_depth=2, min_samples_leaf=9, min_samples_split=6, splitter=random; total time=   0.0s\n",
      "[CV] END max_depth=2, min_samples_leaf=9, min_samples_split=6, splitter=random; total time=   0.0s\n",
      "[CV] END max_depth=2, min_samples_leaf=9, min_samples_split=8, splitter=best; total time=   0.1s\n",
      "[CV] END max_depth=2, min_samples_leaf=9, min_samples_split=8, splitter=best; total time=   0.1s\n",
      "[CV] END max_depth=2, min_samples_leaf=9, min_samples_split=8, splitter=best; total time=   0.1s\n",
      "[CV] END max_depth=2, min_samples_leaf=9, min_samples_split=8, splitter=best; total time=   0.2s\n",
      "[CV] END max_depth=2, min_samples_leaf=9, min_samples_split=8, splitter=best; total time=   0.2s\n",
      "[CV] END max_depth=2, min_samples_leaf=9, min_samples_split=8, splitter=random; total time=   0.0s\n",
      "[CV] END max_depth=2, min_samples_leaf=9, min_samples_split=8, splitter=random; total time=   0.0s\n",
      "[CV] END max_depth=2, min_samples_leaf=9, min_samples_split=8, splitter=random; total time=   0.0s\n",
      "[CV] END max_depth=2, min_samples_leaf=9, min_samples_split=8, splitter=random; total time=   0.0s\n",
      "[CV] END max_depth=2, min_samples_leaf=9, min_samples_split=8, splitter=random; total time=   0.0s\n",
      "[CV] END max_depth=2, min_samples_leaf=9, min_samples_split=10, splitter=best; total time=   0.2s\n",
      "[CV] END max_depth=2, min_samples_leaf=9, min_samples_split=10, splitter=best; total time=   0.1s\n",
      "[CV] END max_depth=2, min_samples_leaf=9, min_samples_split=10, splitter=best; total time=   0.1s\n",
      "[CV] END max_depth=2, min_samples_leaf=9, min_samples_split=10, splitter=best; total time=   0.1s\n",
      "[CV] END max_depth=2, min_samples_leaf=9, min_samples_split=10, splitter=best; total time=   0.1s\n",
      "[CV] END max_depth=2, min_samples_leaf=9, min_samples_split=10, splitter=random; total time=   0.0s\n",
      "[CV] END max_depth=2, min_samples_leaf=9, min_samples_split=10, splitter=random; total time=   0.0s\n",
      "[CV] END max_depth=2, min_samples_leaf=9, min_samples_split=10, splitter=random; total time=   0.0s\n",
      "[CV] END max_depth=2, min_samples_leaf=9, min_samples_split=10, splitter=random; total time=   0.0s\n",
      "[CV] END max_depth=2, min_samples_leaf=9, min_samples_split=10, splitter=random; total time=   0.0s\n",
      "[CV] END max_depth=4, min_samples_leaf=1, min_samples_split=2, splitter=best; total time=   0.3s\n",
      "[CV] END max_depth=4, min_samples_leaf=1, min_samples_split=2, splitter=best; total time=   0.3s\n",
      "[CV] END max_depth=4, min_samples_leaf=1, min_samples_split=2, splitter=best; total time=   0.3s\n",
      "[CV] END max_depth=4, min_samples_leaf=1, min_samples_split=2, splitter=best; total time=   0.3s\n",
      "[CV] END max_depth=4, min_samples_leaf=1, min_samples_split=2, splitter=best; total time=   0.3s\n",
      "[CV] END max_depth=4, min_samples_leaf=1, min_samples_split=2, splitter=random; total time=   0.0s\n",
      "[CV] END max_depth=4, min_samples_leaf=1, min_samples_split=2, splitter=random; total time=   0.0s\n",
      "[CV] END max_depth=4, min_samples_leaf=1, min_samples_split=2, splitter=random; total time=   0.0s\n",
      "[CV] END max_depth=4, min_samples_leaf=1, min_samples_split=2, splitter=random; total time=   0.0s\n",
      "[CV] END max_depth=4, min_samples_leaf=1, min_samples_split=2, splitter=random; total time=   0.0s\n",
      "[CV] END max_depth=4, min_samples_leaf=1, min_samples_split=4, splitter=best; total time=   0.3s\n",
      "[CV] END max_depth=4, min_samples_leaf=1, min_samples_split=4, splitter=best; total time=   0.3s\n",
      "[CV] END max_depth=4, min_samples_leaf=1, min_samples_split=4, splitter=best; total time=   0.3s\n",
      "[CV] END max_depth=4, min_samples_leaf=1, min_samples_split=4, splitter=best; total time=   0.3s\n",
      "[CV] END max_depth=4, min_samples_leaf=1, min_samples_split=4, splitter=best; total time=   0.3s\n",
      "[CV] END max_depth=4, min_samples_leaf=1, min_samples_split=4, splitter=random; total time=   0.0s\n",
      "[CV] END max_depth=4, min_samples_leaf=1, min_samples_split=4, splitter=random; total time=   0.0s\n",
      "[CV] END max_depth=4, min_samples_leaf=1, min_samples_split=4, splitter=random; total time=   0.0s\n",
      "[CV] END max_depth=4, min_samples_leaf=1, min_samples_split=4, splitter=random; total time=   0.0s\n",
      "[CV] END max_depth=4, min_samples_leaf=1, min_samples_split=4, splitter=random; total time=   0.0s\n",
      "[CV] END max_depth=4, min_samples_leaf=1, min_samples_split=6, splitter=best; total time=   0.3s\n",
      "[CV] END max_depth=4, min_samples_leaf=1, min_samples_split=6, splitter=best; total time=   0.3s\n",
      "[CV] END max_depth=4, min_samples_leaf=1, min_samples_split=6, splitter=best; total time=   0.3s\n",
      "[CV] END max_depth=4, min_samples_leaf=1, min_samples_split=6, splitter=best; total time=   0.3s\n",
      "[CV] END max_depth=4, min_samples_leaf=1, min_samples_split=6, splitter=best; total time=   0.3s\n",
      "[CV] END max_depth=4, min_samples_leaf=1, min_samples_split=6, splitter=random; total time=   0.0s\n",
      "[CV] END max_depth=4, min_samples_leaf=1, min_samples_split=6, splitter=random; total time=   0.0s\n",
      "[CV] END max_depth=4, min_samples_leaf=1, min_samples_split=6, splitter=random; total time=   0.0s\n",
      "[CV] END max_depth=4, min_samples_leaf=1, min_samples_split=6, splitter=random; total time=   0.0s\n",
      "[CV] END max_depth=4, min_samples_leaf=1, min_samples_split=6, splitter=random; total time=   0.0s\n",
      "[CV] END max_depth=4, min_samples_leaf=1, min_samples_split=8, splitter=best; total time=   0.3s\n",
      "[CV] END max_depth=4, min_samples_leaf=1, min_samples_split=8, splitter=best; total time=   0.3s\n",
      "[CV] END max_depth=4, min_samples_leaf=1, min_samples_split=8, splitter=best; total time=   0.3s\n",
      "[CV] END max_depth=4, min_samples_leaf=1, min_samples_split=8, splitter=best; total time=   0.3s\n",
      "[CV] END max_depth=4, min_samples_leaf=1, min_samples_split=8, splitter=best; total time=   0.3s\n",
      "[CV] END max_depth=4, min_samples_leaf=1, min_samples_split=8, splitter=random; total time=   0.0s\n",
      "[CV] END max_depth=4, min_samples_leaf=1, min_samples_split=8, splitter=random; total time=   0.0s\n",
      "[CV] END max_depth=4, min_samples_leaf=1, min_samples_split=8, splitter=random; total time=   0.0s\n",
      "[CV] END max_depth=4, min_samples_leaf=1, min_samples_split=8, splitter=random; total time=   0.0s\n",
      "[CV] END max_depth=4, min_samples_leaf=1, min_samples_split=8, splitter=random; total time=   0.0s\n",
      "[CV] END max_depth=4, min_samples_leaf=1, min_samples_split=10, splitter=best; total time=   0.3s\n",
      "[CV] END max_depth=4, min_samples_leaf=1, min_samples_split=10, splitter=best; total time=   0.3s\n",
      "[CV] END max_depth=4, min_samples_leaf=1, min_samples_split=10, splitter=best; total time=   0.3s\n",
      "[CV] END max_depth=4, min_samples_leaf=1, min_samples_split=10, splitter=best; total time=   0.3s\n",
      "[CV] END max_depth=4, min_samples_leaf=1, min_samples_split=10, splitter=best; total time=   0.3s\n",
      "[CV] END max_depth=4, min_samples_leaf=1, min_samples_split=10, splitter=random; total time=   0.0s\n",
      "[CV] END max_depth=4, min_samples_leaf=1, min_samples_split=10, splitter=random; total time=   0.0s\n",
      "[CV] END max_depth=4, min_samples_leaf=1, min_samples_split=10, splitter=random; total time=   0.0s\n",
      "[CV] END max_depth=4, min_samples_leaf=1, min_samples_split=10, splitter=random; total time=   0.0s\n",
      "[CV] END max_depth=4, min_samples_leaf=1, min_samples_split=10, splitter=random; total time=   0.0s\n",
      "[CV] END max_depth=4, min_samples_leaf=3, min_samples_split=2, splitter=best; total time=   0.3s\n",
      "[CV] END max_depth=4, min_samples_leaf=3, min_samples_split=2, splitter=best; total time=   0.3s\n",
      "[CV] END max_depth=4, min_samples_leaf=3, min_samples_split=2, splitter=best; total time=   0.3s\n",
      "[CV] END max_depth=4, min_samples_leaf=3, min_samples_split=2, splitter=best; total time=   0.3s\n",
      "[CV] END max_depth=4, min_samples_leaf=3, min_samples_split=2, splitter=best; total time=   0.3s\n",
      "[CV] END max_depth=4, min_samples_leaf=3, min_samples_split=2, splitter=random; total time=   0.0s\n",
      "[CV] END max_depth=4, min_samples_leaf=3, min_samples_split=2, splitter=random; total time=   0.0s\n",
      "[CV] END max_depth=4, min_samples_leaf=3, min_samples_split=2, splitter=random; total time=   0.0s\n",
      "[CV] END max_depth=4, min_samples_leaf=3, min_samples_split=2, splitter=random; total time=   0.0s\n",
      "[CV] END max_depth=4, min_samples_leaf=3, min_samples_split=2, splitter=random; total time=   0.0s\n",
      "[CV] END max_depth=4, min_samples_leaf=3, min_samples_split=4, splitter=best; total time=   0.3s\n",
      "[CV] END max_depth=4, min_samples_leaf=3, min_samples_split=4, splitter=best; total time=   0.3s\n",
      "[CV] END max_depth=4, min_samples_leaf=3, min_samples_split=4, splitter=best; total time=   0.3s\n",
      "[CV] END max_depth=4, min_samples_leaf=3, min_samples_split=4, splitter=best; total time=   0.3s\n",
      "[CV] END max_depth=4, min_samples_leaf=3, min_samples_split=4, splitter=best; total time=   0.3s\n",
      "[CV] END max_depth=4, min_samples_leaf=3, min_samples_split=4, splitter=random; total time=   0.0s\n",
      "[CV] END max_depth=4, min_samples_leaf=3, min_samples_split=4, splitter=random; total time=   0.0s\n",
      "[CV] END max_depth=4, min_samples_leaf=3, min_samples_split=4, splitter=random; total time=   0.0s\n",
      "[CV] END max_depth=4, min_samples_leaf=3, min_samples_split=4, splitter=random; total time=   0.0s\n",
      "[CV] END max_depth=4, min_samples_leaf=3, min_samples_split=4, splitter=random; total time=   0.0s\n",
      "[CV] END max_depth=4, min_samples_leaf=3, min_samples_split=6, splitter=best; total time=   0.3s\n",
      "[CV] END max_depth=4, min_samples_leaf=3, min_samples_split=6, splitter=best; total time=   0.3s\n",
      "[CV] END max_depth=4, min_samples_leaf=3, min_samples_split=6, splitter=best; total time=   0.3s\n",
      "[CV] END max_depth=4, min_samples_leaf=3, min_samples_split=6, splitter=best; total time=   0.3s\n",
      "[CV] END max_depth=4, min_samples_leaf=3, min_samples_split=6, splitter=best; total time=   0.3s\n",
      "[CV] END max_depth=4, min_samples_leaf=3, min_samples_split=6, splitter=random; total time=   0.0s\n",
      "[CV] END max_depth=4, min_samples_leaf=3, min_samples_split=6, splitter=random; total time=   0.0s\n",
      "[CV] END max_depth=4, min_samples_leaf=3, min_samples_split=6, splitter=random; total time=   0.0s\n",
      "[CV] END max_depth=4, min_samples_leaf=3, min_samples_split=6, splitter=random; total time=   0.0s\n",
      "[CV] END max_depth=4, min_samples_leaf=3, min_samples_split=6, splitter=random; total time=   0.0s\n",
      "[CV] END max_depth=4, min_samples_leaf=3, min_samples_split=8, splitter=best; total time=   0.3s\n",
      "[CV] END max_depth=4, min_samples_leaf=3, min_samples_split=8, splitter=best; total time=   0.2s\n",
      "[CV] END max_depth=4, min_samples_leaf=3, min_samples_split=8, splitter=best; total time=   0.2s\n",
      "[CV] END max_depth=4, min_samples_leaf=3, min_samples_split=8, splitter=best; total time=   0.3s\n",
      "[CV] END max_depth=4, min_samples_leaf=3, min_samples_split=8, splitter=best; total time=   0.3s\n",
      "[CV] END max_depth=4, min_samples_leaf=3, min_samples_split=8, splitter=random; total time=   0.0s\n",
      "[CV] END max_depth=4, min_samples_leaf=3, min_samples_split=8, splitter=random; total time=   0.0s\n",
      "[CV] END max_depth=4, min_samples_leaf=3, min_samples_split=8, splitter=random; total time=   0.0s\n",
      "[CV] END max_depth=4, min_samples_leaf=3, min_samples_split=8, splitter=random; total time=   0.0s\n",
      "[CV] END max_depth=4, min_samples_leaf=3, min_samples_split=8, splitter=random; total time=   0.0s\n",
      "[CV] END max_depth=4, min_samples_leaf=3, min_samples_split=10, splitter=best; total time=   0.3s\n",
      "[CV] END max_depth=4, min_samples_leaf=3, min_samples_split=10, splitter=best; total time=   0.3s\n",
      "[CV] END max_depth=4, min_samples_leaf=3, min_samples_split=10, splitter=best; total time=   0.3s\n",
      "[CV] END max_depth=4, min_samples_leaf=3, min_samples_split=10, splitter=best; total time=   0.2s\n",
      "[CV] END max_depth=4, min_samples_leaf=3, min_samples_split=10, splitter=best; total time=   0.3s\n",
      "[CV] END max_depth=4, min_samples_leaf=3, min_samples_split=10, splitter=random; total time=   0.0s\n",
      "[CV] END max_depth=4, min_samples_leaf=3, min_samples_split=10, splitter=random; total time=   0.0s\n",
      "[CV] END max_depth=4, min_samples_leaf=3, min_samples_split=10, splitter=random; total time=   0.0s\n",
      "[CV] END max_depth=4, min_samples_leaf=3, min_samples_split=10, splitter=random; total time=   0.0s\n",
      "[CV] END max_depth=4, min_samples_leaf=3, min_samples_split=10, splitter=random; total time=   0.0s\n",
      "[CV] END max_depth=4, min_samples_leaf=5, min_samples_split=2, splitter=best; total time=   0.2s\n",
      "[CV] END max_depth=4, min_samples_leaf=5, min_samples_split=2, splitter=best; total time=   0.2s\n",
      "[CV] END max_depth=4, min_samples_leaf=5, min_samples_split=2, splitter=best; total time=   0.2s\n",
      "[CV] END max_depth=4, min_samples_leaf=5, min_samples_split=2, splitter=best; total time=   0.2s\n",
      "[CV] END max_depth=4, min_samples_leaf=5, min_samples_split=2, splitter=best; total time=   0.3s\n",
      "[CV] END max_depth=4, min_samples_leaf=5, min_samples_split=2, splitter=random; total time=   0.0s\n",
      "[CV] END max_depth=4, min_samples_leaf=5, min_samples_split=2, splitter=random; total time=   0.0s\n",
      "[CV] END max_depth=4, min_samples_leaf=5, min_samples_split=2, splitter=random; total time=   0.0s\n",
      "[CV] END max_depth=4, min_samples_leaf=5, min_samples_split=2, splitter=random; total time=   0.0s\n",
      "[CV] END max_depth=4, min_samples_leaf=5, min_samples_split=2, splitter=random; total time=   0.0s\n",
      "[CV] END max_depth=4, min_samples_leaf=5, min_samples_split=4, splitter=best; total time=   0.2s\n",
      "[CV] END max_depth=4, min_samples_leaf=5, min_samples_split=4, splitter=best; total time=   0.2s\n",
      "[CV] END max_depth=4, min_samples_leaf=5, min_samples_split=4, splitter=best; total time=   0.2s\n",
      "[CV] END max_depth=4, min_samples_leaf=5, min_samples_split=4, splitter=best; total time=   0.3s\n",
      "[CV] END max_depth=4, min_samples_leaf=5, min_samples_split=4, splitter=best; total time=   0.2s\n",
      "[CV] END max_depth=4, min_samples_leaf=5, min_samples_split=4, splitter=random; total time=   0.0s\n",
      "[CV] END max_depth=4, min_samples_leaf=5, min_samples_split=4, splitter=random; total time=   0.0s\n",
      "[CV] END max_depth=4, min_samples_leaf=5, min_samples_split=4, splitter=random; total time=   0.0s\n",
      "[CV] END max_depth=4, min_samples_leaf=5, min_samples_split=4, splitter=random; total time=   0.0s\n",
      "[CV] END max_depth=4, min_samples_leaf=5, min_samples_split=4, splitter=random; total time=   0.0s\n",
      "[CV] END max_depth=4, min_samples_leaf=5, min_samples_split=6, splitter=best; total time=   0.3s\n",
      "[CV] END max_depth=4, min_samples_leaf=5, min_samples_split=6, splitter=best; total time=   0.3s\n",
      "[CV] END max_depth=4, min_samples_leaf=5, min_samples_split=6, splitter=best; total time=   0.3s\n",
      "[CV] END max_depth=4, min_samples_leaf=5, min_samples_split=6, splitter=best; total time=   0.3s\n",
      "[CV] END max_depth=4, min_samples_leaf=5, min_samples_split=6, splitter=best; total time=   0.3s\n",
      "[CV] END max_depth=4, min_samples_leaf=5, min_samples_split=6, splitter=random; total time=   0.0s\n",
      "[CV] END max_depth=4, min_samples_leaf=5, min_samples_split=6, splitter=random; total time=   0.0s\n",
      "[CV] END max_depth=4, min_samples_leaf=5, min_samples_split=6, splitter=random; total time=   0.0s\n",
      "[CV] END max_depth=4, min_samples_leaf=5, min_samples_split=6, splitter=random; total time=   0.0s\n",
      "[CV] END max_depth=4, min_samples_leaf=5, min_samples_split=6, splitter=random; total time=   0.0s\n",
      "[CV] END max_depth=4, min_samples_leaf=5, min_samples_split=8, splitter=best; total time=   0.3s\n",
      "[CV] END max_depth=4, min_samples_leaf=5, min_samples_split=8, splitter=best; total time=   0.2s\n",
      "[CV] END max_depth=4, min_samples_leaf=5, min_samples_split=8, splitter=best; total time=   0.3s\n",
      "[CV] END max_depth=4, min_samples_leaf=5, min_samples_split=8, splitter=best; total time=   0.3s\n",
      "[CV] END max_depth=4, min_samples_leaf=5, min_samples_split=8, splitter=best; total time=   0.2s\n",
      "[CV] END max_depth=4, min_samples_leaf=5, min_samples_split=8, splitter=random; total time=   0.0s\n",
      "[CV] END max_depth=4, min_samples_leaf=5, min_samples_split=8, splitter=random; total time=   0.0s\n",
      "[CV] END max_depth=4, min_samples_leaf=5, min_samples_split=8, splitter=random; total time=   0.0s\n",
      "[CV] END max_depth=4, min_samples_leaf=5, min_samples_split=8, splitter=random; total time=   0.0s\n",
      "[CV] END max_depth=4, min_samples_leaf=5, min_samples_split=8, splitter=random; total time=   0.0s\n",
      "[CV] END max_depth=4, min_samples_leaf=5, min_samples_split=10, splitter=best; total time=   0.3s\n",
      "[CV] END max_depth=4, min_samples_leaf=5, min_samples_split=10, splitter=best; total time=   0.3s\n",
      "[CV] END max_depth=4, min_samples_leaf=5, min_samples_split=10, splitter=best; total time=   0.3s\n",
      "[CV] END max_depth=4, min_samples_leaf=5, min_samples_split=10, splitter=best; total time=   0.3s\n",
      "[CV] END max_depth=4, min_samples_leaf=5, min_samples_split=10, splitter=best; total time=   0.3s\n",
      "[CV] END max_depth=4, min_samples_leaf=5, min_samples_split=10, splitter=random; total time=   0.0s\n",
      "[CV] END max_depth=4, min_samples_leaf=5, min_samples_split=10, splitter=random; total time=   0.0s\n",
      "[CV] END max_depth=4, min_samples_leaf=5, min_samples_split=10, splitter=random; total time=   0.0s\n",
      "[CV] END max_depth=4, min_samples_leaf=5, min_samples_split=10, splitter=random; total time=   0.0s\n",
      "[CV] END max_depth=4, min_samples_leaf=5, min_samples_split=10, splitter=random; total time=   0.0s\n",
      "[CV] END max_depth=4, min_samples_leaf=7, min_samples_split=2, splitter=best; total time=   0.3s\n",
      "[CV] END max_depth=4, min_samples_leaf=7, min_samples_split=2, splitter=best; total time=   0.3s\n",
      "[CV] END max_depth=4, min_samples_leaf=7, min_samples_split=2, splitter=best; total time=   0.3s\n",
      "[CV] END max_depth=4, min_samples_leaf=7, min_samples_split=2, splitter=best; total time=   0.3s\n",
      "[CV] END max_depth=4, min_samples_leaf=7, min_samples_split=2, splitter=best; total time=   0.2s\n",
      "[CV] END max_depth=4, min_samples_leaf=7, min_samples_split=2, splitter=random; total time=   0.0s\n",
      "[CV] END max_depth=4, min_samples_leaf=7, min_samples_split=2, splitter=random; total time=   0.0s\n",
      "[CV] END max_depth=4, min_samples_leaf=7, min_samples_split=2, splitter=random; total time=   0.0s\n",
      "[CV] END max_depth=4, min_samples_leaf=7, min_samples_split=2, splitter=random; total time=   0.0s\n",
      "[CV] END max_depth=4, min_samples_leaf=7, min_samples_split=2, splitter=random; total time=   0.0s\n",
      "[CV] END max_depth=4, min_samples_leaf=7, min_samples_split=4, splitter=best; total time=   0.3s\n",
      "[CV] END max_depth=4, min_samples_leaf=7, min_samples_split=4, splitter=best; total time=   0.3s\n",
      "[CV] END max_depth=4, min_samples_leaf=7, min_samples_split=4, splitter=best; total time=   0.3s\n",
      "[CV] END max_depth=4, min_samples_leaf=7, min_samples_split=4, splitter=best; total time=   0.2s\n",
      "[CV] END max_depth=4, min_samples_leaf=7, min_samples_split=4, splitter=best; total time=   0.3s\n",
      "[CV] END max_depth=4, min_samples_leaf=7, min_samples_split=4, splitter=random; total time=   0.0s\n",
      "[CV] END max_depth=4, min_samples_leaf=7, min_samples_split=4, splitter=random; total time=   0.0s\n",
      "[CV] END max_depth=4, min_samples_leaf=7, min_samples_split=4, splitter=random; total time=   0.0s\n",
      "[CV] END max_depth=4, min_samples_leaf=7, min_samples_split=4, splitter=random; total time=   0.0s\n",
      "[CV] END max_depth=4, min_samples_leaf=7, min_samples_split=4, splitter=random; total time=   0.0s\n",
      "[CV] END max_depth=4, min_samples_leaf=7, min_samples_split=6, splitter=best; total time=   0.3s\n",
      "[CV] END max_depth=4, min_samples_leaf=7, min_samples_split=6, splitter=best; total time=   0.3s\n",
      "[CV] END max_depth=4, min_samples_leaf=7, min_samples_split=6, splitter=best; total time=   0.2s\n",
      "[CV] END max_depth=4, min_samples_leaf=7, min_samples_split=6, splitter=best; total time=   0.3s\n",
      "[CV] END max_depth=4, min_samples_leaf=7, min_samples_split=6, splitter=best; total time=   0.3s\n",
      "[CV] END max_depth=4, min_samples_leaf=7, min_samples_split=6, splitter=random; total time=   0.0s\n",
      "[CV] END max_depth=4, min_samples_leaf=7, min_samples_split=6, splitter=random; total time=   0.0s\n",
      "[CV] END max_depth=4, min_samples_leaf=7, min_samples_split=6, splitter=random; total time=   0.0s\n",
      "[CV] END max_depth=4, min_samples_leaf=7, min_samples_split=6, splitter=random; total time=   0.0s\n",
      "[CV] END max_depth=4, min_samples_leaf=7, min_samples_split=6, splitter=random; total time=   0.0s\n",
      "[CV] END max_depth=4, min_samples_leaf=7, min_samples_split=8, splitter=best; total time=   0.3s\n",
      "[CV] END max_depth=4, min_samples_leaf=7, min_samples_split=8, splitter=best; total time=   0.3s\n",
      "[CV] END max_depth=4, min_samples_leaf=7, min_samples_split=8, splitter=best; total time=   0.2s\n",
      "[CV] END max_depth=4, min_samples_leaf=7, min_samples_split=8, splitter=best; total time=   0.3s\n",
      "[CV] END max_depth=4, min_samples_leaf=7, min_samples_split=8, splitter=best; total time=   0.3s\n",
      "[CV] END max_depth=4, min_samples_leaf=7, min_samples_split=8, splitter=random; total time=   0.0s\n",
      "[CV] END max_depth=4, min_samples_leaf=7, min_samples_split=8, splitter=random; total time=   0.0s\n",
      "[CV] END max_depth=4, min_samples_leaf=7, min_samples_split=8, splitter=random; total time=   0.0s\n",
      "[CV] END max_depth=4, min_samples_leaf=7, min_samples_split=8, splitter=random; total time=   0.0s\n",
      "[CV] END max_depth=4, min_samples_leaf=7, min_samples_split=8, splitter=random; total time=   0.0s\n",
      "[CV] END max_depth=4, min_samples_leaf=7, min_samples_split=10, splitter=best; total time=   0.3s\n",
      "[CV] END max_depth=4, min_samples_leaf=7, min_samples_split=10, splitter=best; total time=   0.3s\n",
      "[CV] END max_depth=4, min_samples_leaf=7, min_samples_split=10, splitter=best; total time=   0.3s\n",
      "[CV] END max_depth=4, min_samples_leaf=7, min_samples_split=10, splitter=best; total time=   0.3s\n",
      "[CV] END max_depth=4, min_samples_leaf=7, min_samples_split=10, splitter=best; total time=   0.3s\n",
      "[CV] END max_depth=4, min_samples_leaf=7, min_samples_split=10, splitter=random; total time=   0.0s\n",
      "[CV] END max_depth=4, min_samples_leaf=7, min_samples_split=10, splitter=random; total time=   0.0s\n",
      "[CV] END max_depth=4, min_samples_leaf=7, min_samples_split=10, splitter=random; total time=   0.0s\n",
      "[CV] END max_depth=4, min_samples_leaf=7, min_samples_split=10, splitter=random; total time=   0.0s\n",
      "[CV] END max_depth=4, min_samples_leaf=7, min_samples_split=10, splitter=random; total time=   0.0s\n",
      "[CV] END max_depth=4, min_samples_leaf=9, min_samples_split=2, splitter=best; total time=   0.3s\n",
      "[CV] END max_depth=4, min_samples_leaf=9, min_samples_split=2, splitter=best; total time=   0.3s\n",
      "[CV] END max_depth=4, min_samples_leaf=9, min_samples_split=2, splitter=best; total time=   0.3s\n",
      "[CV] END max_depth=4, min_samples_leaf=9, min_samples_split=2, splitter=best; total time=   0.3s\n",
      "[CV] END max_depth=4, min_samples_leaf=9, min_samples_split=2, splitter=best; total time=   0.3s\n",
      "[CV] END max_depth=4, min_samples_leaf=9, min_samples_split=2, splitter=random; total time=   0.0s\n",
      "[CV] END max_depth=4, min_samples_leaf=9, min_samples_split=2, splitter=random; total time=   0.0s\n",
      "[CV] END max_depth=4, min_samples_leaf=9, min_samples_split=2, splitter=random; total time=   0.0s\n",
      "[CV] END max_depth=4, min_samples_leaf=9, min_samples_split=2, splitter=random; total time=   0.0s\n",
      "[CV] END max_depth=4, min_samples_leaf=9, min_samples_split=2, splitter=random; total time=   0.0s\n",
      "[CV] END max_depth=4, min_samples_leaf=9, min_samples_split=4, splitter=best; total time=   0.2s\n",
      "[CV] END max_depth=4, min_samples_leaf=9, min_samples_split=4, splitter=best; total time=   0.3s\n",
      "[CV] END max_depth=4, min_samples_leaf=9, min_samples_split=4, splitter=best; total time=   0.2s\n",
      "[CV] END max_depth=4, min_samples_leaf=9, min_samples_split=4, splitter=best; total time=   0.3s\n",
      "[CV] END max_depth=4, min_samples_leaf=9, min_samples_split=4, splitter=best; total time=   0.3s\n",
      "[CV] END max_depth=4, min_samples_leaf=9, min_samples_split=4, splitter=random; total time=   0.0s\n",
      "[CV] END max_depth=4, min_samples_leaf=9, min_samples_split=4, splitter=random; total time=   0.0s\n",
      "[CV] END max_depth=4, min_samples_leaf=9, min_samples_split=4, splitter=random; total time=   0.0s\n",
      "[CV] END max_depth=4, min_samples_leaf=9, min_samples_split=4, splitter=random; total time=   0.0s\n",
      "[CV] END max_depth=4, min_samples_leaf=9, min_samples_split=4, splitter=random; total time=   0.0s\n",
      "[CV] END max_depth=4, min_samples_leaf=9, min_samples_split=6, splitter=best; total time=   0.3s\n",
      "[CV] END max_depth=4, min_samples_leaf=9, min_samples_split=6, splitter=best; total time=   0.3s\n",
      "[CV] END max_depth=4, min_samples_leaf=9, min_samples_split=6, splitter=best; total time=   0.3s\n",
      "[CV] END max_depth=4, min_samples_leaf=9, min_samples_split=6, splitter=best; total time=   0.3s\n",
      "[CV] END max_depth=4, min_samples_leaf=9, min_samples_split=6, splitter=best; total time=   0.2s\n",
      "[CV] END max_depth=4, min_samples_leaf=9, min_samples_split=6, splitter=random; total time=   0.0s\n",
      "[CV] END max_depth=4, min_samples_leaf=9, min_samples_split=6, splitter=random; total time=   0.0s\n",
      "[CV] END max_depth=4, min_samples_leaf=9, min_samples_split=6, splitter=random; total time=   0.0s\n",
      "[CV] END max_depth=4, min_samples_leaf=9, min_samples_split=6, splitter=random; total time=   0.0s\n",
      "[CV] END max_depth=4, min_samples_leaf=9, min_samples_split=6, splitter=random; total time=   0.0s\n",
      "[CV] END max_depth=4, min_samples_leaf=9, min_samples_split=8, splitter=best; total time=   0.3s\n",
      "[CV] END max_depth=4, min_samples_leaf=9, min_samples_split=8, splitter=best; total time=   0.3s\n",
      "[CV] END max_depth=4, min_samples_leaf=9, min_samples_split=8, splitter=best; total time=   0.3s\n",
      "[CV] END max_depth=4, min_samples_leaf=9, min_samples_split=8, splitter=best; total time=   0.3s\n",
      "[CV] END max_depth=4, min_samples_leaf=9, min_samples_split=8, splitter=best; total time=   0.2s\n",
      "[CV] END max_depth=4, min_samples_leaf=9, min_samples_split=8, splitter=random; total time=   0.0s\n",
      "[CV] END max_depth=4, min_samples_leaf=9, min_samples_split=8, splitter=random; total time=   0.0s\n",
      "[CV] END max_depth=4, min_samples_leaf=9, min_samples_split=8, splitter=random; total time=   0.0s\n",
      "[CV] END max_depth=4, min_samples_leaf=9, min_samples_split=8, splitter=random; total time=   0.0s\n",
      "[CV] END max_depth=4, min_samples_leaf=9, min_samples_split=8, splitter=random; total time=   0.0s\n",
      "[CV] END max_depth=4, min_samples_leaf=9, min_samples_split=10, splitter=best; total time=   0.3s\n",
      "[CV] END max_depth=4, min_samples_leaf=9, min_samples_split=10, splitter=best; total time=   0.2s\n",
      "[CV] END max_depth=4, min_samples_leaf=9, min_samples_split=10, splitter=best; total time=   0.3s\n",
      "[CV] END max_depth=4, min_samples_leaf=9, min_samples_split=10, splitter=best; total time=   0.2s\n",
      "[CV] END max_depth=4, min_samples_leaf=9, min_samples_split=10, splitter=best; total time=   0.3s\n",
      "[CV] END max_depth=4, min_samples_leaf=9, min_samples_split=10, splitter=random; total time=   0.0s\n",
      "[CV] END max_depth=4, min_samples_leaf=9, min_samples_split=10, splitter=random; total time=   0.0s\n",
      "[CV] END max_depth=4, min_samples_leaf=9, min_samples_split=10, splitter=random; total time=   0.0s\n",
      "[CV] END max_depth=4, min_samples_leaf=9, min_samples_split=10, splitter=random; total time=   0.0s\n",
      "[CV] END max_depth=4, min_samples_leaf=9, min_samples_split=10, splitter=random; total time=   0.0s\n",
      "[CV] END max_depth=6, min_samples_leaf=1, min_samples_split=2, splitter=best; total time=   0.4s\n",
      "[CV] END max_depth=6, min_samples_leaf=1, min_samples_split=2, splitter=best; total time=   0.4s\n",
      "[CV] END max_depth=6, min_samples_leaf=1, min_samples_split=2, splitter=best; total time=   0.4s\n",
      "[CV] END max_depth=6, min_samples_leaf=1, min_samples_split=2, splitter=best; total time=   0.4s\n",
      "[CV] END max_depth=6, min_samples_leaf=1, min_samples_split=2, splitter=best; total time=   0.4s\n",
      "[CV] END max_depth=6, min_samples_leaf=1, min_samples_split=2, splitter=random; total time=   0.0s\n",
      "[CV] END max_depth=6, min_samples_leaf=1, min_samples_split=2, splitter=random; total time=   0.0s\n",
      "[CV] END max_depth=6, min_samples_leaf=1, min_samples_split=2, splitter=random; total time=   0.0s\n",
      "[CV] END max_depth=6, min_samples_leaf=1, min_samples_split=2, splitter=random; total time=   0.0s\n",
      "[CV] END max_depth=6, min_samples_leaf=1, min_samples_split=2, splitter=random; total time=   0.0s\n",
      "[CV] END max_depth=6, min_samples_leaf=1, min_samples_split=4, splitter=best; total time=   0.4s\n",
      "[CV] END max_depth=6, min_samples_leaf=1, min_samples_split=4, splitter=best; total time=   0.4s\n",
      "[CV] END max_depth=6, min_samples_leaf=1, min_samples_split=4, splitter=best; total time=   0.4s\n",
      "[CV] END max_depth=6, min_samples_leaf=1, min_samples_split=4, splitter=best; total time=   0.4s\n",
      "[CV] END max_depth=6, min_samples_leaf=1, min_samples_split=4, splitter=best; total time=   0.5s\n",
      "[CV] END max_depth=6, min_samples_leaf=1, min_samples_split=4, splitter=random; total time=   0.0s\n",
      "[CV] END max_depth=6, min_samples_leaf=1, min_samples_split=4, splitter=random; total time=   0.0s\n",
      "[CV] END max_depth=6, min_samples_leaf=1, min_samples_split=4, splitter=random; total time=   0.0s\n",
      "[CV] END max_depth=6, min_samples_leaf=1, min_samples_split=4, splitter=random; total time=   0.0s\n",
      "[CV] END max_depth=6, min_samples_leaf=1, min_samples_split=4, splitter=random; total time=   0.0s\n",
      "[CV] END max_depth=6, min_samples_leaf=1, min_samples_split=6, splitter=best; total time=   0.5s\n",
      "[CV] END max_depth=6, min_samples_leaf=1, min_samples_split=6, splitter=best; total time=   0.4s\n",
      "[CV] END max_depth=6, min_samples_leaf=1, min_samples_split=6, splitter=best; total time=   0.4s\n",
      "[CV] END max_depth=6, min_samples_leaf=1, min_samples_split=6, splitter=best; total time=   0.4s\n",
      "[CV] END max_depth=6, min_samples_leaf=1, min_samples_split=6, splitter=best; total time=   0.4s\n",
      "[CV] END max_depth=6, min_samples_leaf=1, min_samples_split=6, splitter=random; total time=   0.0s\n",
      "[CV] END max_depth=6, min_samples_leaf=1, min_samples_split=6, splitter=random; total time=   0.0s\n",
      "[CV] END max_depth=6, min_samples_leaf=1, min_samples_split=6, splitter=random; total time=   0.0s\n",
      "[CV] END max_depth=6, min_samples_leaf=1, min_samples_split=6, splitter=random; total time=   0.0s\n",
      "[CV] END max_depth=6, min_samples_leaf=1, min_samples_split=6, splitter=random; total time=   0.0s\n",
      "[CV] END max_depth=6, min_samples_leaf=1, min_samples_split=8, splitter=best; total time=   0.4s\n",
      "[CV] END max_depth=6, min_samples_leaf=1, min_samples_split=8, splitter=best; total time=   0.4s\n",
      "[CV] END max_depth=6, min_samples_leaf=1, min_samples_split=8, splitter=best; total time=   0.4s\n",
      "[CV] END max_depth=6, min_samples_leaf=1, min_samples_split=8, splitter=best; total time=   0.4s\n",
      "[CV] END max_depth=6, min_samples_leaf=1, min_samples_split=8, splitter=best; total time=   0.4s\n",
      "[CV] END max_depth=6, min_samples_leaf=1, min_samples_split=8, splitter=random; total time=   0.0s\n",
      "[CV] END max_depth=6, min_samples_leaf=1, min_samples_split=8, splitter=random; total time=   0.0s\n",
      "[CV] END max_depth=6, min_samples_leaf=1, min_samples_split=8, splitter=random; total time=   0.0s\n",
      "[CV] END max_depth=6, min_samples_leaf=1, min_samples_split=8, splitter=random; total time=   0.0s\n",
      "[CV] END max_depth=6, min_samples_leaf=1, min_samples_split=8, splitter=random; total time=   0.0s\n",
      "[CV] END max_depth=6, min_samples_leaf=1, min_samples_split=10, splitter=best; total time=   0.4s\n",
      "[CV] END max_depth=6, min_samples_leaf=1, min_samples_split=10, splitter=best; total time=   0.4s\n",
      "[CV] END max_depth=6, min_samples_leaf=1, min_samples_split=10, splitter=best; total time=   0.4s\n",
      "[CV] END max_depth=6, min_samples_leaf=1, min_samples_split=10, splitter=best; total time=   0.4s\n",
      "[CV] END max_depth=6, min_samples_leaf=1, min_samples_split=10, splitter=best; total time=   0.4s\n",
      "[CV] END max_depth=6, min_samples_leaf=1, min_samples_split=10, splitter=random; total time=   0.0s\n",
      "[CV] END max_depth=6, min_samples_leaf=1, min_samples_split=10, splitter=random; total time=   0.0s\n",
      "[CV] END max_depth=6, min_samples_leaf=1, min_samples_split=10, splitter=random; total time=   0.0s\n",
      "[CV] END max_depth=6, min_samples_leaf=1, min_samples_split=10, splitter=random; total time=   0.0s\n",
      "[CV] END max_depth=6, min_samples_leaf=1, min_samples_split=10, splitter=random; total time=   0.0s\n",
      "[CV] END max_depth=6, min_samples_leaf=3, min_samples_split=2, splitter=best; total time=   0.4s\n",
      "[CV] END max_depth=6, min_samples_leaf=3, min_samples_split=2, splitter=best; total time=   0.4s\n",
      "[CV] END max_depth=6, min_samples_leaf=3, min_samples_split=2, splitter=best; total time=   0.4s\n",
      "[CV] END max_depth=6, min_samples_leaf=3, min_samples_split=2, splitter=best; total time=   0.4s\n",
      "[CV] END max_depth=6, min_samples_leaf=3, min_samples_split=2, splitter=best; total time=   0.4s\n",
      "[CV] END max_depth=6, min_samples_leaf=3, min_samples_split=2, splitter=random; total time=   0.0s\n",
      "[CV] END max_depth=6, min_samples_leaf=3, min_samples_split=2, splitter=random; total time=   0.0s\n",
      "[CV] END max_depth=6, min_samples_leaf=3, min_samples_split=2, splitter=random; total time=   0.0s\n",
      "[CV] END max_depth=6, min_samples_leaf=3, min_samples_split=2, splitter=random; total time=   0.0s\n",
      "[CV] END max_depth=6, min_samples_leaf=3, min_samples_split=2, splitter=random; total time=   0.0s\n",
      "[CV] END max_depth=6, min_samples_leaf=3, min_samples_split=4, splitter=best; total time=   0.4s\n",
      "[CV] END max_depth=6, min_samples_leaf=3, min_samples_split=4, splitter=best; total time=   0.4s\n",
      "[CV] END max_depth=6, min_samples_leaf=3, min_samples_split=4, splitter=best; total time=   0.3s\n",
      "[CV] END max_depth=6, min_samples_leaf=3, min_samples_split=4, splitter=best; total time=   0.3s\n",
      "[CV] END max_depth=6, min_samples_leaf=3, min_samples_split=4, splitter=best; total time=   0.4s\n",
      "[CV] END max_depth=6, min_samples_leaf=3, min_samples_split=4, splitter=random; total time=   0.0s\n",
      "[CV] END max_depth=6, min_samples_leaf=3, min_samples_split=4, splitter=random; total time=   0.0s\n",
      "[CV] END max_depth=6, min_samples_leaf=3, min_samples_split=4, splitter=random; total time=   0.0s\n",
      "[CV] END max_depth=6, min_samples_leaf=3, min_samples_split=4, splitter=random; total time=   0.0s\n",
      "[CV] END max_depth=6, min_samples_leaf=3, min_samples_split=4, splitter=random; total time=   0.0s\n",
      "[CV] END max_depth=6, min_samples_leaf=3, min_samples_split=6, splitter=best; total time=   0.4s\n",
      "[CV] END max_depth=6, min_samples_leaf=3, min_samples_split=6, splitter=best; total time=   0.4s\n",
      "[CV] END max_depth=6, min_samples_leaf=3, min_samples_split=6, splitter=best; total time=   0.4s\n",
      "[CV] END max_depth=6, min_samples_leaf=3, min_samples_split=6, splitter=best; total time=   0.4s\n",
      "[CV] END max_depth=6, min_samples_leaf=3, min_samples_split=6, splitter=best; total time=   0.4s\n",
      "[CV] END max_depth=6, min_samples_leaf=3, min_samples_split=6, splitter=random; total time=   0.0s\n",
      "[CV] END max_depth=6, min_samples_leaf=3, min_samples_split=6, splitter=random; total time=   0.0s\n",
      "[CV] END max_depth=6, min_samples_leaf=3, min_samples_split=6, splitter=random; total time=   0.0s\n",
      "[CV] END max_depth=6, min_samples_leaf=3, min_samples_split=6, splitter=random; total time=   0.0s\n",
      "[CV] END max_depth=6, min_samples_leaf=3, min_samples_split=6, splitter=random; total time=   0.0s\n",
      "[CV] END max_depth=6, min_samples_leaf=3, min_samples_split=8, splitter=best; total time=   0.4s\n",
      "[CV] END max_depth=6, min_samples_leaf=3, min_samples_split=8, splitter=best; total time=   0.4s\n",
      "[CV] END max_depth=6, min_samples_leaf=3, min_samples_split=8, splitter=best; total time=   0.3s\n",
      "[CV] END max_depth=6, min_samples_leaf=3, min_samples_split=8, splitter=best; total time=   0.4s\n",
      "[CV] END max_depth=6, min_samples_leaf=3, min_samples_split=8, splitter=best; total time=   0.4s\n",
      "[CV] END max_depth=6, min_samples_leaf=3, min_samples_split=8, splitter=random; total time=   0.0s\n",
      "[CV] END max_depth=6, min_samples_leaf=3, min_samples_split=8, splitter=random; total time=   0.0s\n",
      "[CV] END max_depth=6, min_samples_leaf=3, min_samples_split=8, splitter=random; total time=   0.0s\n",
      "[CV] END max_depth=6, min_samples_leaf=3, min_samples_split=8, splitter=random; total time=   0.0s\n",
      "[CV] END max_depth=6, min_samples_leaf=3, min_samples_split=8, splitter=random; total time=   0.0s\n",
      "[CV] END max_depth=6, min_samples_leaf=3, min_samples_split=10, splitter=best; total time=   0.4s\n",
      "[CV] END max_depth=6, min_samples_leaf=3, min_samples_split=10, splitter=best; total time=   0.3s\n",
      "[CV] END max_depth=6, min_samples_leaf=3, min_samples_split=10, splitter=best; total time=   0.3s\n",
      "[CV] END max_depth=6, min_samples_leaf=3, min_samples_split=10, splitter=best; total time=   0.3s\n",
      "[CV] END max_depth=6, min_samples_leaf=3, min_samples_split=10, splitter=best; total time=   0.3s\n",
      "[CV] END max_depth=6, min_samples_leaf=3, min_samples_split=10, splitter=random; total time=   0.0s\n",
      "[CV] END max_depth=6, min_samples_leaf=3, min_samples_split=10, splitter=random; total time=   0.0s\n",
      "[CV] END max_depth=6, min_samples_leaf=3, min_samples_split=10, splitter=random; total time=   0.0s\n",
      "[CV] END max_depth=6, min_samples_leaf=3, min_samples_split=10, splitter=random; total time=   0.0s\n",
      "[CV] END max_depth=6, min_samples_leaf=3, min_samples_split=10, splitter=random; total time=   0.0s\n",
      "[CV] END max_depth=6, min_samples_leaf=5, min_samples_split=2, splitter=best; total time=   0.4s\n",
      "[CV] END max_depth=6, min_samples_leaf=5, min_samples_split=2, splitter=best; total time=   0.4s\n",
      "[CV] END max_depth=6, min_samples_leaf=5, min_samples_split=2, splitter=best; total time=   0.4s\n",
      "[CV] END max_depth=6, min_samples_leaf=5, min_samples_split=2, splitter=best; total time=   0.3s\n",
      "[CV] END max_depth=6, min_samples_leaf=5, min_samples_split=2, splitter=best; total time=   0.4s\n",
      "[CV] END max_depth=6, min_samples_leaf=5, min_samples_split=2, splitter=random; total time=   0.0s\n",
      "[CV] END max_depth=6, min_samples_leaf=5, min_samples_split=2, splitter=random; total time=   0.0s\n",
      "[CV] END max_depth=6, min_samples_leaf=5, min_samples_split=2, splitter=random; total time=   0.0s\n",
      "[CV] END max_depth=6, min_samples_leaf=5, min_samples_split=2, splitter=random; total time=   0.0s\n",
      "[CV] END max_depth=6, min_samples_leaf=5, min_samples_split=2, splitter=random; total time=   0.0s\n",
      "[CV] END max_depth=6, min_samples_leaf=5, min_samples_split=4, splitter=best; total time=   0.4s\n",
      "[CV] END max_depth=6, min_samples_leaf=5, min_samples_split=4, splitter=best; total time=   0.4s\n",
      "[CV] END max_depth=6, min_samples_leaf=5, min_samples_split=4, splitter=best; total time=   0.4s\n",
      "[CV] END max_depth=6, min_samples_leaf=5, min_samples_split=4, splitter=best; total time=   0.3s\n",
      "[CV] END max_depth=6, min_samples_leaf=5, min_samples_split=4, splitter=best; total time=   0.3s\n",
      "[CV] END max_depth=6, min_samples_leaf=5, min_samples_split=4, splitter=random; total time=   0.0s\n",
      "[CV] END max_depth=6, min_samples_leaf=5, min_samples_split=4, splitter=random; total time=   0.0s\n",
      "[CV] END max_depth=6, min_samples_leaf=5, min_samples_split=4, splitter=random; total time=   0.0s\n",
      "[CV] END max_depth=6, min_samples_leaf=5, min_samples_split=4, splitter=random; total time=   0.0s\n",
      "[CV] END max_depth=6, min_samples_leaf=5, min_samples_split=4, splitter=random; total time=   0.0s\n",
      "[CV] END max_depth=6, min_samples_leaf=5, min_samples_split=6, splitter=best; total time=   0.4s\n",
      "[CV] END max_depth=6, min_samples_leaf=5, min_samples_split=6, splitter=best; total time=   0.4s\n",
      "[CV] END max_depth=6, min_samples_leaf=5, min_samples_split=6, splitter=best; total time=   0.4s\n",
      "[CV] END max_depth=6, min_samples_leaf=5, min_samples_split=6, splitter=best; total time=   0.4s\n",
      "[CV] END max_depth=6, min_samples_leaf=5, min_samples_split=6, splitter=best; total time=   0.4s\n",
      "[CV] END max_depth=6, min_samples_leaf=5, min_samples_split=6, splitter=random; total time=   0.0s\n",
      "[CV] END max_depth=6, min_samples_leaf=5, min_samples_split=6, splitter=random; total time=   0.0s\n",
      "[CV] END max_depth=6, min_samples_leaf=5, min_samples_split=6, splitter=random; total time=   0.0s\n",
      "[CV] END max_depth=6, min_samples_leaf=5, min_samples_split=6, splitter=random; total time=   0.0s\n",
      "[CV] END max_depth=6, min_samples_leaf=5, min_samples_split=6, splitter=random; total time=   0.0s\n",
      "[CV] END max_depth=6, min_samples_leaf=5, min_samples_split=8, splitter=best; total time=   0.4s\n",
      "[CV] END max_depth=6, min_samples_leaf=5, min_samples_split=8, splitter=best; total time=   0.4s\n",
      "[CV] END max_depth=6, min_samples_leaf=5, min_samples_split=8, splitter=best; total time=   0.4s\n",
      "[CV] END max_depth=6, min_samples_leaf=5, min_samples_split=8, splitter=best; total time=   0.4s\n",
      "[CV] END max_depth=6, min_samples_leaf=5, min_samples_split=8, splitter=best; total time=   0.4s\n",
      "[CV] END max_depth=6, min_samples_leaf=5, min_samples_split=8, splitter=random; total time=   0.0s\n",
      "[CV] END max_depth=6, min_samples_leaf=5, min_samples_split=8, splitter=random; total time=   0.0s\n",
      "[CV] END max_depth=6, min_samples_leaf=5, min_samples_split=8, splitter=random; total time=   0.0s\n",
      "[CV] END max_depth=6, min_samples_leaf=5, min_samples_split=8, splitter=random; total time=   0.0s\n",
      "[CV] END max_depth=6, min_samples_leaf=5, min_samples_split=8, splitter=random; total time=   0.0s\n",
      "[CV] END max_depth=6, min_samples_leaf=5, min_samples_split=10, splitter=best; total time=   0.4s\n",
      "[CV] END max_depth=6, min_samples_leaf=5, min_samples_split=10, splitter=best; total time=   0.4s\n",
      "[CV] END max_depth=6, min_samples_leaf=5, min_samples_split=10, splitter=best; total time=   0.4s\n",
      "[CV] END max_depth=6, min_samples_leaf=5, min_samples_split=10, splitter=best; total time=   0.4s\n",
      "[CV] END max_depth=6, min_samples_leaf=5, min_samples_split=10, splitter=best; total time=   0.4s\n",
      "[CV] END max_depth=6, min_samples_leaf=5, min_samples_split=10, splitter=random; total time=   0.0s\n",
      "[CV] END max_depth=6, min_samples_leaf=5, min_samples_split=10, splitter=random; total time=   0.0s\n",
      "[CV] END max_depth=6, min_samples_leaf=5, min_samples_split=10, splitter=random; total time=   0.0s\n",
      "[CV] END max_depth=6, min_samples_leaf=5, min_samples_split=10, splitter=random; total time=   0.0s\n",
      "[CV] END max_depth=6, min_samples_leaf=5, min_samples_split=10, splitter=random; total time=   0.0s\n",
      "[CV] END max_depth=6, min_samples_leaf=7, min_samples_split=2, splitter=best; total time=   0.4s\n",
      "[CV] END max_depth=6, min_samples_leaf=7, min_samples_split=2, splitter=best; total time=   0.4s\n",
      "[CV] END max_depth=6, min_samples_leaf=7, min_samples_split=2, splitter=best; total time=   0.4s\n",
      "[CV] END max_depth=6, min_samples_leaf=7, min_samples_split=2, splitter=best; total time=   0.4s\n",
      "[CV] END max_depth=6, min_samples_leaf=7, min_samples_split=2, splitter=best; total time=   0.4s\n",
      "[CV] END max_depth=6, min_samples_leaf=7, min_samples_split=2, splitter=random; total time=   0.0s\n",
      "[CV] END max_depth=6, min_samples_leaf=7, min_samples_split=2, splitter=random; total time=   0.0s\n",
      "[CV] END max_depth=6, min_samples_leaf=7, min_samples_split=2, splitter=random; total time=   0.0s\n",
      "[CV] END max_depth=6, min_samples_leaf=7, min_samples_split=2, splitter=random; total time=   0.0s\n",
      "[CV] END max_depth=6, min_samples_leaf=7, min_samples_split=2, splitter=random; total time=   0.0s\n",
      "[CV] END max_depth=6, min_samples_leaf=7, min_samples_split=4, splitter=best; total time=   0.5s\n",
      "[CV] END max_depth=6, min_samples_leaf=7, min_samples_split=4, splitter=best; total time=   0.4s\n",
      "[CV] END max_depth=6, min_samples_leaf=7, min_samples_split=4, splitter=best; total time=   0.4s\n",
      "[CV] END max_depth=6, min_samples_leaf=7, min_samples_split=4, splitter=best; total time=   0.4s\n",
      "[CV] END max_depth=6, min_samples_leaf=7, min_samples_split=4, splitter=best; total time=   0.4s\n",
      "[CV] END max_depth=6, min_samples_leaf=7, min_samples_split=4, splitter=random; total time=   0.0s\n",
      "[CV] END max_depth=6, min_samples_leaf=7, min_samples_split=4, splitter=random; total time=   0.0s\n",
      "[CV] END max_depth=6, min_samples_leaf=7, min_samples_split=4, splitter=random; total time=   0.0s\n",
      "[CV] END max_depth=6, min_samples_leaf=7, min_samples_split=4, splitter=random; total time=   0.0s\n",
      "[CV] END max_depth=6, min_samples_leaf=7, min_samples_split=4, splitter=random; total time=   0.0s\n",
      "[CV] END max_depth=6, min_samples_leaf=7, min_samples_split=6, splitter=best; total time=   0.4s\n",
      "[CV] END max_depth=6, min_samples_leaf=7, min_samples_split=6, splitter=best; total time=   0.4s\n",
      "[CV] END max_depth=6, min_samples_leaf=7, min_samples_split=6, splitter=best; total time=   0.4s\n",
      "[CV] END max_depth=6, min_samples_leaf=7, min_samples_split=6, splitter=best; total time=   0.4s\n",
      "[CV] END max_depth=6, min_samples_leaf=7, min_samples_split=6, splitter=best; total time=   0.4s\n",
      "[CV] END max_depth=6, min_samples_leaf=7, min_samples_split=6, splitter=random; total time=   0.0s\n",
      "[CV] END max_depth=6, min_samples_leaf=7, min_samples_split=6, splitter=random; total time=   0.0s\n",
      "[CV] END max_depth=6, min_samples_leaf=7, min_samples_split=6, splitter=random; total time=   0.0s\n",
      "[CV] END max_depth=6, min_samples_leaf=7, min_samples_split=6, splitter=random; total time=   0.0s\n",
      "[CV] END max_depth=6, min_samples_leaf=7, min_samples_split=6, splitter=random; total time=   0.0s\n",
      "[CV] END max_depth=6, min_samples_leaf=7, min_samples_split=8, splitter=best; total time=   0.4s\n",
      "[CV] END max_depth=6, min_samples_leaf=7, min_samples_split=8, splitter=best; total time=   0.4s\n",
      "[CV] END max_depth=6, min_samples_leaf=7, min_samples_split=8, splitter=best; total time=   0.4s\n",
      "[CV] END max_depth=6, min_samples_leaf=7, min_samples_split=8, splitter=best; total time=   0.4s\n",
      "[CV] END max_depth=6, min_samples_leaf=7, min_samples_split=8, splitter=best; total time=   0.4s\n",
      "[CV] END max_depth=6, min_samples_leaf=7, min_samples_split=8, splitter=random; total time=   0.0s\n",
      "[CV] END max_depth=6, min_samples_leaf=7, min_samples_split=8, splitter=random; total time=   0.0s\n",
      "[CV] END max_depth=6, min_samples_leaf=7, min_samples_split=8, splitter=random; total time=   0.0s\n",
      "[CV] END max_depth=6, min_samples_leaf=7, min_samples_split=8, splitter=random; total time=   0.0s\n",
      "[CV] END max_depth=6, min_samples_leaf=7, min_samples_split=8, splitter=random; total time=   0.0s\n",
      "[CV] END max_depth=6, min_samples_leaf=7, min_samples_split=10, splitter=best; total time=   0.4s\n",
      "[CV] END max_depth=6, min_samples_leaf=7, min_samples_split=10, splitter=best; total time=   0.4s\n",
      "[CV] END max_depth=6, min_samples_leaf=7, min_samples_split=10, splitter=best; total time=   0.3s\n",
      "[CV] END max_depth=6, min_samples_leaf=7, min_samples_split=10, splitter=best; total time=   0.4s\n",
      "[CV] END max_depth=6, min_samples_leaf=7, min_samples_split=10, splitter=best; total time=   0.4s\n",
      "[CV] END max_depth=6, min_samples_leaf=7, min_samples_split=10, splitter=random; total time=   0.0s\n",
      "[CV] END max_depth=6, min_samples_leaf=7, min_samples_split=10, splitter=random; total time=   0.0s\n",
      "[CV] END max_depth=6, min_samples_leaf=7, min_samples_split=10, splitter=random; total time=   0.0s\n",
      "[CV] END max_depth=6, min_samples_leaf=7, min_samples_split=10, splitter=random; total time=   0.0s\n",
      "[CV] END max_depth=6, min_samples_leaf=7, min_samples_split=10, splitter=random; total time=   0.0s\n",
      "[CV] END max_depth=6, min_samples_leaf=9, min_samples_split=2, splitter=best; total time=   0.4s\n",
      "[CV] END max_depth=6, min_samples_leaf=9, min_samples_split=2, splitter=best; total time=   0.4s\n",
      "[CV] END max_depth=6, min_samples_leaf=9, min_samples_split=2, splitter=best; total time=   0.3s\n",
      "[CV] END max_depth=6, min_samples_leaf=9, min_samples_split=2, splitter=best; total time=   0.4s\n",
      "[CV] END max_depth=6, min_samples_leaf=9, min_samples_split=2, splitter=best; total time=   0.4s\n",
      "[CV] END max_depth=6, min_samples_leaf=9, min_samples_split=2, splitter=random; total time=   0.0s\n",
      "[CV] END max_depth=6, min_samples_leaf=9, min_samples_split=2, splitter=random; total time=   0.0s\n",
      "[CV] END max_depth=6, min_samples_leaf=9, min_samples_split=2, splitter=random; total time=   0.0s\n",
      "[CV] END max_depth=6, min_samples_leaf=9, min_samples_split=2, splitter=random; total time=   0.0s\n",
      "[CV] END max_depth=6, min_samples_leaf=9, min_samples_split=2, splitter=random; total time=   0.0s\n",
      "[CV] END max_depth=6, min_samples_leaf=9, min_samples_split=4, splitter=best; total time=   0.4s\n",
      "[CV] END max_depth=6, min_samples_leaf=9, min_samples_split=4, splitter=best; total time=   0.4s\n",
      "[CV] END max_depth=6, min_samples_leaf=9, min_samples_split=4, splitter=best; total time=   0.4s\n",
      "[CV] END max_depth=6, min_samples_leaf=9, min_samples_split=4, splitter=best; total time=   0.4s\n",
      "[CV] END max_depth=6, min_samples_leaf=9, min_samples_split=4, splitter=best; total time=   0.3s\n",
      "[CV] END max_depth=6, min_samples_leaf=9, min_samples_split=4, splitter=random; total time=   0.0s\n",
      "[CV] END max_depth=6, min_samples_leaf=9, min_samples_split=4, splitter=random; total time=   0.0s\n",
      "[CV] END max_depth=6, min_samples_leaf=9, min_samples_split=4, splitter=random; total time=   0.0s\n",
      "[CV] END max_depth=6, min_samples_leaf=9, min_samples_split=4, splitter=random; total time=   0.0s\n",
      "[CV] END max_depth=6, min_samples_leaf=9, min_samples_split=4, splitter=random; total time=   0.0s\n",
      "[CV] END max_depth=6, min_samples_leaf=9, min_samples_split=6, splitter=best; total time=   0.4s\n",
      "[CV] END max_depth=6, min_samples_leaf=9, min_samples_split=6, splitter=best; total time=   0.4s\n",
      "[CV] END max_depth=6, min_samples_leaf=9, min_samples_split=6, splitter=best; total time=   0.4s\n",
      "[CV] END max_depth=6, min_samples_leaf=9, min_samples_split=6, splitter=best; total time=   0.3s\n",
      "[CV] END max_depth=6, min_samples_leaf=9, min_samples_split=6, splitter=best; total time=   0.3s\n",
      "[CV] END max_depth=6, min_samples_leaf=9, min_samples_split=6, splitter=random; total time=   0.0s\n",
      "[CV] END max_depth=6, min_samples_leaf=9, min_samples_split=6, splitter=random; total time=   0.0s\n",
      "[CV] END max_depth=6, min_samples_leaf=9, min_samples_split=6, splitter=random; total time=   0.0s\n",
      "[CV] END max_depth=6, min_samples_leaf=9, min_samples_split=6, splitter=random; total time=   0.0s\n",
      "[CV] END max_depth=6, min_samples_leaf=9, min_samples_split=6, splitter=random; total time=   0.0s\n",
      "[CV] END max_depth=6, min_samples_leaf=9, min_samples_split=8, splitter=best; total time=   0.4s\n",
      "[CV] END max_depth=6, min_samples_leaf=9, min_samples_split=8, splitter=best; total time=   0.4s\n",
      "[CV] END max_depth=6, min_samples_leaf=9, min_samples_split=8, splitter=best; total time=   0.4s\n",
      "[CV] END max_depth=6, min_samples_leaf=9, min_samples_split=8, splitter=best; total time=   0.3s\n",
      "[CV] END max_depth=6, min_samples_leaf=9, min_samples_split=8, splitter=best; total time=   0.4s\n",
      "[CV] END max_depth=6, min_samples_leaf=9, min_samples_split=8, splitter=random; total time=   0.0s\n",
      "[CV] END max_depth=6, min_samples_leaf=9, min_samples_split=8, splitter=random; total time=   0.0s\n",
      "[CV] END max_depth=6, min_samples_leaf=9, min_samples_split=8, splitter=random; total time=   0.0s\n",
      "[CV] END max_depth=6, min_samples_leaf=9, min_samples_split=8, splitter=random; total time=   0.0s\n",
      "[CV] END max_depth=6, min_samples_leaf=9, min_samples_split=8, splitter=random; total time=   0.0s\n",
      "[CV] END max_depth=6, min_samples_leaf=9, min_samples_split=10, splitter=best; total time=   0.4s\n",
      "[CV] END max_depth=6, min_samples_leaf=9, min_samples_split=10, splitter=best; total time=   0.4s\n",
      "[CV] END max_depth=6, min_samples_leaf=9, min_samples_split=10, splitter=best; total time=   0.4s\n",
      "[CV] END max_depth=6, min_samples_leaf=9, min_samples_split=10, splitter=best; total time=   0.4s\n",
      "[CV] END max_depth=6, min_samples_leaf=9, min_samples_split=10, splitter=best; total time=   0.3s\n",
      "[CV] END max_depth=6, min_samples_leaf=9, min_samples_split=10, splitter=random; total time=   0.0s\n",
      "[CV] END max_depth=6, min_samples_leaf=9, min_samples_split=10, splitter=random; total time=   0.0s\n",
      "[CV] END max_depth=6, min_samples_leaf=9, min_samples_split=10, splitter=random; total time=   0.0s\n",
      "[CV] END max_depth=6, min_samples_leaf=9, min_samples_split=10, splitter=random; total time=   0.0s\n",
      "[CV] END max_depth=6, min_samples_leaf=9, min_samples_split=10, splitter=random; total time=   0.0s\n",
      "[CV] END max_depth=8, min_samples_leaf=1, min_samples_split=2, splitter=best; total time=   0.5s\n",
      "[CV] END max_depth=8, min_samples_leaf=1, min_samples_split=2, splitter=best; total time=   0.4s\n",
      "[CV] END max_depth=8, min_samples_leaf=1, min_samples_split=2, splitter=best; total time=   0.4s\n",
      "[CV] END max_depth=8, min_samples_leaf=1, min_samples_split=2, splitter=best; total time=   0.4s\n",
      "[CV] END max_depth=8, min_samples_leaf=1, min_samples_split=2, splitter=best; total time=   0.5s\n",
      "[CV] END max_depth=8, min_samples_leaf=1, min_samples_split=2, splitter=random; total time=   0.0s\n",
      "[CV] END max_depth=8, min_samples_leaf=1, min_samples_split=2, splitter=random; total time=   0.0s\n",
      "[CV] END max_depth=8, min_samples_leaf=1, min_samples_split=2, splitter=random; total time=   0.0s\n",
      "[CV] END max_depth=8, min_samples_leaf=1, min_samples_split=2, splitter=random; total time=   0.0s\n",
      "[CV] END max_depth=8, min_samples_leaf=1, min_samples_split=2, splitter=random; total time=   0.0s\n",
      "[CV] END max_depth=8, min_samples_leaf=1, min_samples_split=4, splitter=best; total time=   0.5s\n",
      "[CV] END max_depth=8, min_samples_leaf=1, min_samples_split=4, splitter=best; total time=   0.5s\n",
      "[CV] END max_depth=8, min_samples_leaf=1, min_samples_split=4, splitter=best; total time=   0.4s\n",
      "[CV] END max_depth=8, min_samples_leaf=1, min_samples_split=4, splitter=best; total time=   0.5s\n",
      "[CV] END max_depth=8, min_samples_leaf=1, min_samples_split=4, splitter=best; total time=   0.5s\n",
      "[CV] END max_depth=8, min_samples_leaf=1, min_samples_split=4, splitter=random; total time=   0.0s\n",
      "[CV] END max_depth=8, min_samples_leaf=1, min_samples_split=4, splitter=random; total time=   0.0s\n",
      "[CV] END max_depth=8, min_samples_leaf=1, min_samples_split=4, splitter=random; total time=   0.0s\n",
      "[CV] END max_depth=8, min_samples_leaf=1, min_samples_split=4, splitter=random; total time=   0.0s\n",
      "[CV] END max_depth=8, min_samples_leaf=1, min_samples_split=4, splitter=random; total time=   0.0s\n",
      "[CV] END max_depth=8, min_samples_leaf=1, min_samples_split=6, splitter=best; total time=   0.5s\n",
      "[CV] END max_depth=8, min_samples_leaf=1, min_samples_split=6, splitter=best; total time=   0.5s\n",
      "[CV] END max_depth=8, min_samples_leaf=1, min_samples_split=6, splitter=best; total time=   0.5s\n",
      "[CV] END max_depth=8, min_samples_leaf=1, min_samples_split=6, splitter=best; total time=   0.4s\n",
      "[CV] END max_depth=8, min_samples_leaf=1, min_samples_split=6, splitter=best; total time=   0.4s\n",
      "[CV] END max_depth=8, min_samples_leaf=1, min_samples_split=6, splitter=random; total time=   0.0s\n",
      "[CV] END max_depth=8, min_samples_leaf=1, min_samples_split=6, splitter=random; total time=   0.0s\n",
      "[CV] END max_depth=8, min_samples_leaf=1, min_samples_split=6, splitter=random; total time=   0.0s\n",
      "[CV] END max_depth=8, min_samples_leaf=1, min_samples_split=6, splitter=random; total time=   0.0s\n",
      "[CV] END max_depth=8, min_samples_leaf=1, min_samples_split=6, splitter=random; total time=   0.0s\n",
      "[CV] END max_depth=8, min_samples_leaf=1, min_samples_split=8, splitter=best; total time=   0.4s\n",
      "[CV] END max_depth=8, min_samples_leaf=1, min_samples_split=8, splitter=best; total time=   0.5s\n",
      "[CV] END max_depth=8, min_samples_leaf=1, min_samples_split=8, splitter=best; total time=   0.4s\n",
      "[CV] END max_depth=8, min_samples_leaf=1, min_samples_split=8, splitter=best; total time=   0.5s\n",
      "[CV] END max_depth=8, min_samples_leaf=1, min_samples_split=8, splitter=best; total time=   0.5s\n",
      "[CV] END max_depth=8, min_samples_leaf=1, min_samples_split=8, splitter=random; total time=   0.0s\n",
      "[CV] END max_depth=8, min_samples_leaf=1, min_samples_split=8, splitter=random; total time=   0.0s\n",
      "[CV] END max_depth=8, min_samples_leaf=1, min_samples_split=8, splitter=random; total time=   0.0s\n",
      "[CV] END max_depth=8, min_samples_leaf=1, min_samples_split=8, splitter=random; total time=   0.0s\n",
      "[CV] END max_depth=8, min_samples_leaf=1, min_samples_split=8, splitter=random; total time=   0.0s\n",
      "[CV] END max_depth=8, min_samples_leaf=1, min_samples_split=10, splitter=best; total time=   0.5s\n",
      "[CV] END max_depth=8, min_samples_leaf=1, min_samples_split=10, splitter=best; total time=   0.5s\n",
      "[CV] END max_depth=8, min_samples_leaf=1, min_samples_split=10, splitter=best; total time=   0.4s\n",
      "[CV] END max_depth=8, min_samples_leaf=1, min_samples_split=10, splitter=best; total time=   0.4s\n",
      "[CV] END max_depth=8, min_samples_leaf=1, min_samples_split=10, splitter=best; total time=   0.5s\n",
      "[CV] END max_depth=8, min_samples_leaf=1, min_samples_split=10, splitter=random; total time=   0.0s\n",
      "[CV] END max_depth=8, min_samples_leaf=1, min_samples_split=10, splitter=random; total time=   0.0s\n",
      "[CV] END max_depth=8, min_samples_leaf=1, min_samples_split=10, splitter=random; total time=   0.0s\n",
      "[CV] END max_depth=8, min_samples_leaf=1, min_samples_split=10, splitter=random; total time=   0.0s\n",
      "[CV] END max_depth=8, min_samples_leaf=1, min_samples_split=10, splitter=random; total time=   0.0s\n",
      "[CV] END max_depth=8, min_samples_leaf=3, min_samples_split=2, splitter=best; total time=   0.5s\n",
      "[CV] END max_depth=8, min_samples_leaf=3, min_samples_split=2, splitter=best; total time=   0.6s\n",
      "[CV] END max_depth=8, min_samples_leaf=3, min_samples_split=2, splitter=best; total time=   0.4s\n",
      "[CV] END max_depth=8, min_samples_leaf=3, min_samples_split=2, splitter=best; total time=   0.4s\n",
      "[CV] END max_depth=8, min_samples_leaf=3, min_samples_split=2, splitter=best; total time=   0.4s\n",
      "[CV] END max_depth=8, min_samples_leaf=3, min_samples_split=2, splitter=random; total time=   0.0s\n",
      "[CV] END max_depth=8, min_samples_leaf=3, min_samples_split=2, splitter=random; total time=   0.0s\n",
      "[CV] END max_depth=8, min_samples_leaf=3, min_samples_split=2, splitter=random; total time=   0.0s\n",
      "[CV] END max_depth=8, min_samples_leaf=3, min_samples_split=2, splitter=random; total time=   0.0s\n",
      "[CV] END max_depth=8, min_samples_leaf=3, min_samples_split=2, splitter=random; total time=   0.0s\n",
      "[CV] END max_depth=8, min_samples_leaf=3, min_samples_split=4, splitter=best; total time=   0.5s\n",
      "[CV] END max_depth=8, min_samples_leaf=3, min_samples_split=4, splitter=best; total time=   0.5s\n",
      "[CV] END max_depth=8, min_samples_leaf=3, min_samples_split=4, splitter=best; total time=   0.4s\n",
      "[CV] END max_depth=8, min_samples_leaf=3, min_samples_split=4, splitter=best; total time=   0.4s\n",
      "[CV] END max_depth=8, min_samples_leaf=3, min_samples_split=4, splitter=best; total time=   0.4s\n",
      "[CV] END max_depth=8, min_samples_leaf=3, min_samples_split=4, splitter=random; total time=   0.0s\n",
      "[CV] END max_depth=8, min_samples_leaf=3, min_samples_split=4, splitter=random; total time=   0.0s\n",
      "[CV] END max_depth=8, min_samples_leaf=3, min_samples_split=4, splitter=random; total time=   0.0s\n",
      "[CV] END max_depth=8, min_samples_leaf=3, min_samples_split=4, splitter=random; total time=   0.0s\n",
      "[CV] END max_depth=8, min_samples_leaf=3, min_samples_split=4, splitter=random; total time=   0.0s\n",
      "[CV] END max_depth=8, min_samples_leaf=3, min_samples_split=6, splitter=best; total time=   0.5s\n",
      "[CV] END max_depth=8, min_samples_leaf=3, min_samples_split=6, splitter=best; total time=   0.5s\n",
      "[CV] END max_depth=8, min_samples_leaf=3, min_samples_split=6, splitter=best; total time=   0.5s\n",
      "[CV] END max_depth=8, min_samples_leaf=3, min_samples_split=6, splitter=best; total time=   0.5s\n",
      "[CV] END max_depth=8, min_samples_leaf=3, min_samples_split=6, splitter=best; total time=   0.5s\n",
      "[CV] END max_depth=8, min_samples_leaf=3, min_samples_split=6, splitter=random; total time=   0.0s\n",
      "[CV] END max_depth=8, min_samples_leaf=3, min_samples_split=6, splitter=random; total time=   0.0s\n",
      "[CV] END max_depth=8, min_samples_leaf=3, min_samples_split=6, splitter=random; total time=   0.0s\n",
      "[CV] END max_depth=8, min_samples_leaf=3, min_samples_split=6, splitter=random; total time=   0.0s\n",
      "[CV] END max_depth=8, min_samples_leaf=3, min_samples_split=6, splitter=random; total time=   0.0s\n",
      "[CV] END max_depth=8, min_samples_leaf=3, min_samples_split=8, splitter=best; total time=   0.5s\n",
      "[CV] END max_depth=8, min_samples_leaf=3, min_samples_split=8, splitter=best; total time=   0.5s\n",
      "[CV] END max_depth=8, min_samples_leaf=3, min_samples_split=8, splitter=best; total time=   0.4s\n",
      "[CV] END max_depth=8, min_samples_leaf=3, min_samples_split=8, splitter=best; total time=   0.4s\n",
      "[CV] END max_depth=8, min_samples_leaf=3, min_samples_split=8, splitter=best; total time=   0.5s\n",
      "[CV] END max_depth=8, min_samples_leaf=3, min_samples_split=8, splitter=random; total time=   0.0s\n",
      "[CV] END max_depth=8, min_samples_leaf=3, min_samples_split=8, splitter=random; total time=   0.0s\n",
      "[CV] END max_depth=8, min_samples_leaf=3, min_samples_split=8, splitter=random; total time=   0.0s\n",
      "[CV] END max_depth=8, min_samples_leaf=3, min_samples_split=8, splitter=random; total time=   0.0s\n",
      "[CV] END max_depth=8, min_samples_leaf=3, min_samples_split=8, splitter=random; total time=   0.0s\n",
      "[CV] END max_depth=8, min_samples_leaf=3, min_samples_split=10, splitter=best; total time=   0.5s\n",
      "[CV] END max_depth=8, min_samples_leaf=3, min_samples_split=10, splitter=best; total time=   0.5s\n",
      "[CV] END max_depth=8, min_samples_leaf=3, min_samples_split=10, splitter=best; total time=   0.4s\n",
      "[CV] END max_depth=8, min_samples_leaf=3, min_samples_split=10, splitter=best; total time=   0.4s\n",
      "[CV] END max_depth=8, min_samples_leaf=3, min_samples_split=10, splitter=best; total time=   0.4s\n",
      "[CV] END max_depth=8, min_samples_leaf=3, min_samples_split=10, splitter=random; total time=   0.0s\n",
      "[CV] END max_depth=8, min_samples_leaf=3, min_samples_split=10, splitter=random; total time=   0.0s\n",
      "[CV] END max_depth=8, min_samples_leaf=3, min_samples_split=10, splitter=random; total time=   0.0s\n",
      "[CV] END max_depth=8, min_samples_leaf=3, min_samples_split=10, splitter=random; total time=   0.0s\n",
      "[CV] END max_depth=8, min_samples_leaf=3, min_samples_split=10, splitter=random; total time=   0.0s\n",
      "[CV] END max_depth=8, min_samples_leaf=5, min_samples_split=2, splitter=best; total time=   0.5s\n",
      "[CV] END max_depth=8, min_samples_leaf=5, min_samples_split=2, splitter=best; total time=   0.5s\n",
      "[CV] END max_depth=8, min_samples_leaf=5, min_samples_split=2, splitter=best; total time=   0.4s\n",
      "[CV] END max_depth=8, min_samples_leaf=5, min_samples_split=2, splitter=best; total time=   0.5s\n",
      "[CV] END max_depth=8, min_samples_leaf=5, min_samples_split=2, splitter=best; total time=   0.5s\n",
      "[CV] END max_depth=8, min_samples_leaf=5, min_samples_split=2, splitter=random; total time=   0.0s\n",
      "[CV] END max_depth=8, min_samples_leaf=5, min_samples_split=2, splitter=random; total time=   0.0s\n",
      "[CV] END max_depth=8, min_samples_leaf=5, min_samples_split=2, splitter=random; total time=   0.0s\n",
      "[CV] END max_depth=8, min_samples_leaf=5, min_samples_split=2, splitter=random; total time=   0.0s\n",
      "[CV] END max_depth=8, min_samples_leaf=5, min_samples_split=2, splitter=random; total time=   0.0s\n",
      "[CV] END max_depth=8, min_samples_leaf=5, min_samples_split=4, splitter=best; total time=   0.4s\n",
      "[CV] END max_depth=8, min_samples_leaf=5, min_samples_split=4, splitter=best; total time=   0.4s\n",
      "[CV] END max_depth=8, min_samples_leaf=5, min_samples_split=4, splitter=best; total time=   0.4s\n",
      "[CV] END max_depth=8, min_samples_leaf=5, min_samples_split=4, splitter=best; total time=   0.4s\n",
      "[CV] END max_depth=8, min_samples_leaf=5, min_samples_split=4, splitter=best; total time=   0.4s\n",
      "[CV] END max_depth=8, min_samples_leaf=5, min_samples_split=4, splitter=random; total time=   0.0s\n",
      "[CV] END max_depth=8, min_samples_leaf=5, min_samples_split=4, splitter=random; total time=   0.0s\n",
      "[CV] END max_depth=8, min_samples_leaf=5, min_samples_split=4, splitter=random; total time=   0.0s\n",
      "[CV] END max_depth=8, min_samples_leaf=5, min_samples_split=4, splitter=random; total time=   0.0s\n",
      "[CV] END max_depth=8, min_samples_leaf=5, min_samples_split=4, splitter=random; total time=   0.0s\n",
      "[CV] END max_depth=8, min_samples_leaf=5, min_samples_split=6, splitter=best; total time=   0.5s\n",
      "[CV] END max_depth=8, min_samples_leaf=5, min_samples_split=6, splitter=best; total time=   0.5s\n",
      "[CV] END max_depth=8, min_samples_leaf=5, min_samples_split=6, splitter=best; total time=   0.4s\n",
      "[CV] END max_depth=8, min_samples_leaf=5, min_samples_split=6, splitter=best; total time=   0.4s\n",
      "[CV] END max_depth=8, min_samples_leaf=5, min_samples_split=6, splitter=best; total time=   0.5s\n",
      "[CV] END max_depth=8, min_samples_leaf=5, min_samples_split=6, splitter=random; total time=   0.0s\n",
      "[CV] END max_depth=8, min_samples_leaf=5, min_samples_split=6, splitter=random; total time=   0.0s\n",
      "[CV] END max_depth=8, min_samples_leaf=5, min_samples_split=6, splitter=random; total time=   0.0s\n",
      "[CV] END max_depth=8, min_samples_leaf=5, min_samples_split=6, splitter=random; total time=   0.0s\n",
      "[CV] END max_depth=8, min_samples_leaf=5, min_samples_split=6, splitter=random; total time=   0.0s\n",
      "[CV] END max_depth=8, min_samples_leaf=5, min_samples_split=8, splitter=best; total time=   0.5s\n",
      "[CV] END max_depth=8, min_samples_leaf=5, min_samples_split=8, splitter=best; total time=   0.5s\n",
      "[CV] END max_depth=8, min_samples_leaf=5, min_samples_split=8, splitter=best; total time=   0.4s\n",
      "[CV] END max_depth=8, min_samples_leaf=5, min_samples_split=8, splitter=best; total time=   0.4s\n",
      "[CV] END max_depth=8, min_samples_leaf=5, min_samples_split=8, splitter=best; total time=   0.4s\n",
      "[CV] END max_depth=8, min_samples_leaf=5, min_samples_split=8, splitter=random; total time=   0.0s\n",
      "[CV] END max_depth=8, min_samples_leaf=5, min_samples_split=8, splitter=random; total time=   0.0s\n",
      "[CV] END max_depth=8, min_samples_leaf=5, min_samples_split=8, splitter=random; total time=   0.0s\n",
      "[CV] END max_depth=8, min_samples_leaf=5, min_samples_split=8, splitter=random; total time=   0.0s\n",
      "[CV] END max_depth=8, min_samples_leaf=5, min_samples_split=8, splitter=random; total time=   0.0s\n",
      "[CV] END max_depth=8, min_samples_leaf=5, min_samples_split=10, splitter=best; total time=   0.5s\n",
      "[CV] END max_depth=8, min_samples_leaf=5, min_samples_split=10, splitter=best; total time=   0.5s\n",
      "[CV] END max_depth=8, min_samples_leaf=5, min_samples_split=10, splitter=best; total time=   0.5s\n",
      "[CV] END max_depth=8, min_samples_leaf=5, min_samples_split=10, splitter=best; total time=   0.5s\n",
      "[CV] END max_depth=8, min_samples_leaf=5, min_samples_split=10, splitter=best; total time=   0.5s\n",
      "[CV] END max_depth=8, min_samples_leaf=5, min_samples_split=10, splitter=random; total time=   0.0s\n",
      "[CV] END max_depth=8, min_samples_leaf=5, min_samples_split=10, splitter=random; total time=   0.0s\n",
      "[CV] END max_depth=8, min_samples_leaf=5, min_samples_split=10, splitter=random; total time=   0.0s\n",
      "[CV] END max_depth=8, min_samples_leaf=5, min_samples_split=10, splitter=random; total time=   0.0s\n",
      "[CV] END max_depth=8, min_samples_leaf=5, min_samples_split=10, splitter=random; total time=   0.0s\n",
      "[CV] END max_depth=8, min_samples_leaf=7, min_samples_split=2, splitter=best; total time=   0.5s\n",
      "[CV] END max_depth=8, min_samples_leaf=7, min_samples_split=2, splitter=best; total time=   0.5s\n",
      "[CV] END max_depth=8, min_samples_leaf=7, min_samples_split=2, splitter=best; total time=   0.5s\n",
      "[CV] END max_depth=8, min_samples_leaf=7, min_samples_split=2, splitter=best; total time=   0.5s\n",
      "[CV] END max_depth=8, min_samples_leaf=7, min_samples_split=2, splitter=best; total time=   0.5s\n",
      "[CV] END max_depth=8, min_samples_leaf=7, min_samples_split=2, splitter=random; total time=   0.0s\n",
      "[CV] END max_depth=8, min_samples_leaf=7, min_samples_split=2, splitter=random; total time=   0.0s\n",
      "[CV] END max_depth=8, min_samples_leaf=7, min_samples_split=2, splitter=random; total time=   0.0s\n",
      "[CV] END max_depth=8, min_samples_leaf=7, min_samples_split=2, splitter=random; total time=   0.0s\n",
      "[CV] END max_depth=8, min_samples_leaf=7, min_samples_split=2, splitter=random; total time=   0.0s\n",
      "[CV] END max_depth=8, min_samples_leaf=7, min_samples_split=4, splitter=best; total time=   0.6s\n",
      "[CV] END max_depth=8, min_samples_leaf=7, min_samples_split=4, splitter=best; total time=   0.5s\n",
      "[CV] END max_depth=8, min_samples_leaf=7, min_samples_split=4, splitter=best; total time=   0.5s\n",
      "[CV] END max_depth=8, min_samples_leaf=7, min_samples_split=4, splitter=best; total time=   0.5s\n",
      "[CV] END max_depth=8, min_samples_leaf=7, min_samples_split=4, splitter=best; total time=   0.5s\n",
      "[CV] END max_depth=8, min_samples_leaf=7, min_samples_split=4, splitter=random; total time=   0.0s\n",
      "[CV] END max_depth=8, min_samples_leaf=7, min_samples_split=4, splitter=random; total time=   0.0s\n",
      "[CV] END max_depth=8, min_samples_leaf=7, min_samples_split=4, splitter=random; total time=   0.0s\n",
      "[CV] END max_depth=8, min_samples_leaf=7, min_samples_split=4, splitter=random; total time=   0.0s\n",
      "[CV] END max_depth=8, min_samples_leaf=7, min_samples_split=4, splitter=random; total time=   0.0s\n",
      "[CV] END max_depth=8, min_samples_leaf=7, min_samples_split=6, splitter=best; total time=   0.5s\n",
      "[CV] END max_depth=8, min_samples_leaf=7, min_samples_split=6, splitter=best; total time=   0.5s\n",
      "[CV] END max_depth=8, min_samples_leaf=7, min_samples_split=6, splitter=best; total time=   0.5s\n",
      "[CV] END max_depth=8, min_samples_leaf=7, min_samples_split=6, splitter=best; total time=   0.4s\n",
      "[CV] END max_depth=8, min_samples_leaf=7, min_samples_split=6, splitter=best; total time=   0.4s\n",
      "[CV] END max_depth=8, min_samples_leaf=7, min_samples_split=6, splitter=random; total time=   0.0s\n",
      "[CV] END max_depth=8, min_samples_leaf=7, min_samples_split=6, splitter=random; total time=   0.0s\n",
      "[CV] END max_depth=8, min_samples_leaf=7, min_samples_split=6, splitter=random; total time=   0.0s\n",
      "[CV] END max_depth=8, min_samples_leaf=7, min_samples_split=6, splitter=random; total time=   0.0s\n",
      "[CV] END max_depth=8, min_samples_leaf=7, min_samples_split=6, splitter=random; total time=   0.0s\n",
      "[CV] END max_depth=8, min_samples_leaf=7, min_samples_split=8, splitter=best; total time=   0.4s\n",
      "[CV] END max_depth=8, min_samples_leaf=7, min_samples_split=8, splitter=best; total time=   0.4s\n",
      "[CV] END max_depth=8, min_samples_leaf=7, min_samples_split=8, splitter=best; total time=   0.5s\n",
      "[CV] END max_depth=8, min_samples_leaf=7, min_samples_split=8, splitter=best; total time=   0.4s\n",
      "[CV] END max_depth=8, min_samples_leaf=7, min_samples_split=8, splitter=best; total time=   0.4s\n",
      "[CV] END max_depth=8, min_samples_leaf=7, min_samples_split=8, splitter=random; total time=   0.0s\n",
      "[CV] END max_depth=8, min_samples_leaf=7, min_samples_split=8, splitter=random; total time=   0.0s\n",
      "[CV] END max_depth=8, min_samples_leaf=7, min_samples_split=8, splitter=random; total time=   0.0s\n",
      "[CV] END max_depth=8, min_samples_leaf=7, min_samples_split=8, splitter=random; total time=   0.0s\n",
      "[CV] END max_depth=8, min_samples_leaf=7, min_samples_split=8, splitter=random; total time=   0.0s\n",
      "[CV] END max_depth=8, min_samples_leaf=7, min_samples_split=10, splitter=best; total time=   0.5s\n",
      "[CV] END max_depth=8, min_samples_leaf=7, min_samples_split=10, splitter=best; total time=   0.5s\n",
      "[CV] END max_depth=8, min_samples_leaf=7, min_samples_split=10, splitter=best; total time=   0.5s\n",
      "[CV] END max_depth=8, min_samples_leaf=7, min_samples_split=10, splitter=best; total time=   0.5s\n",
      "[CV] END max_depth=8, min_samples_leaf=7, min_samples_split=10, splitter=best; total time=   0.4s\n",
      "[CV] END max_depth=8, min_samples_leaf=7, min_samples_split=10, splitter=random; total time=   0.0s\n",
      "[CV] END max_depth=8, min_samples_leaf=7, min_samples_split=10, splitter=random; total time=   0.0s\n",
      "[CV] END max_depth=8, min_samples_leaf=7, min_samples_split=10, splitter=random; total time=   0.0s\n",
      "[CV] END max_depth=8, min_samples_leaf=7, min_samples_split=10, splitter=random; total time=   0.0s\n",
      "[CV] END max_depth=8, min_samples_leaf=7, min_samples_split=10, splitter=random; total time=   0.0s\n",
      "[CV] END max_depth=8, min_samples_leaf=9, min_samples_split=2, splitter=best; total time=   0.5s\n",
      "[CV] END max_depth=8, min_samples_leaf=9, min_samples_split=2, splitter=best; total time=   0.5s\n",
      "[CV] END max_depth=8, min_samples_leaf=9, min_samples_split=2, splitter=best; total time=   0.4s\n",
      "[CV] END max_depth=8, min_samples_leaf=9, min_samples_split=2, splitter=best; total time=   0.4s\n",
      "[CV] END max_depth=8, min_samples_leaf=9, min_samples_split=2, splitter=best; total time=   0.5s\n",
      "[CV] END max_depth=8, min_samples_leaf=9, min_samples_split=2, splitter=random; total time=   0.0s\n",
      "[CV] END max_depth=8, min_samples_leaf=9, min_samples_split=2, splitter=random; total time=   0.0s\n",
      "[CV] END max_depth=8, min_samples_leaf=9, min_samples_split=2, splitter=random; total time=   0.0s\n",
      "[CV] END max_depth=8, min_samples_leaf=9, min_samples_split=2, splitter=random; total time=   0.0s\n",
      "[CV] END max_depth=8, min_samples_leaf=9, min_samples_split=2, splitter=random; total time=   0.0s\n",
      "[CV] END max_depth=8, min_samples_leaf=9, min_samples_split=4, splitter=best; total time=   0.5s\n",
      "[CV] END max_depth=8, min_samples_leaf=9, min_samples_split=4, splitter=best; total time=   0.5s\n",
      "[CV] END max_depth=8, min_samples_leaf=9, min_samples_split=4, splitter=best; total time=   0.5s\n",
      "[CV] END max_depth=8, min_samples_leaf=9, min_samples_split=4, splitter=best; total time=   0.5s\n",
      "[CV] END max_depth=8, min_samples_leaf=9, min_samples_split=4, splitter=best; total time=   0.4s\n",
      "[CV] END max_depth=8, min_samples_leaf=9, min_samples_split=4, splitter=random; total time=   0.0s\n",
      "[CV] END max_depth=8, min_samples_leaf=9, min_samples_split=4, splitter=random; total time=   0.0s\n",
      "[CV] END max_depth=8, min_samples_leaf=9, min_samples_split=4, splitter=random; total time=   0.0s\n",
      "[CV] END max_depth=8, min_samples_leaf=9, min_samples_split=4, splitter=random; total time=   0.0s\n",
      "[CV] END max_depth=8, min_samples_leaf=9, min_samples_split=4, splitter=random; total time=   0.0s\n",
      "[CV] END max_depth=8, min_samples_leaf=9, min_samples_split=6, splitter=best; total time=   0.5s\n",
      "[CV] END max_depth=8, min_samples_leaf=9, min_samples_split=6, splitter=best; total time=   0.5s\n",
      "[CV] END max_depth=8, min_samples_leaf=9, min_samples_split=6, splitter=best; total time=   0.5s\n",
      "[CV] END max_depth=8, min_samples_leaf=9, min_samples_split=6, splitter=best; total time=   0.5s\n",
      "[CV] END max_depth=8, min_samples_leaf=9, min_samples_split=6, splitter=best; total time=   0.5s\n",
      "[CV] END max_depth=8, min_samples_leaf=9, min_samples_split=6, splitter=random; total time=   0.0s\n",
      "[CV] END max_depth=8, min_samples_leaf=9, min_samples_split=6, splitter=random; total time=   0.0s\n",
      "[CV] END max_depth=8, min_samples_leaf=9, min_samples_split=6, splitter=random; total time=   0.0s\n",
      "[CV] END max_depth=8, min_samples_leaf=9, min_samples_split=6, splitter=random; total time=   0.0s\n",
      "[CV] END max_depth=8, min_samples_leaf=9, min_samples_split=6, splitter=random; total time=   0.0s\n",
      "[CV] END max_depth=8, min_samples_leaf=9, min_samples_split=8, splitter=best; total time=   0.5s\n",
      "[CV] END max_depth=8, min_samples_leaf=9, min_samples_split=8, splitter=best; total time=   0.5s\n",
      "[CV] END max_depth=8, min_samples_leaf=9, min_samples_split=8, splitter=best; total time=   0.5s\n",
      "[CV] END max_depth=8, min_samples_leaf=9, min_samples_split=8, splitter=best; total time=   0.5s\n",
      "[CV] END max_depth=8, min_samples_leaf=9, min_samples_split=8, splitter=best; total time=   0.4s\n",
      "[CV] END max_depth=8, min_samples_leaf=9, min_samples_split=8, splitter=random; total time=   0.0s\n",
      "[CV] END max_depth=8, min_samples_leaf=9, min_samples_split=8, splitter=random; total time=   0.0s\n",
      "[CV] END max_depth=8, min_samples_leaf=9, min_samples_split=8, splitter=random; total time=   0.0s\n",
      "[CV] END max_depth=8, min_samples_leaf=9, min_samples_split=8, splitter=random; total time=   0.0s\n",
      "[CV] END max_depth=8, min_samples_leaf=9, min_samples_split=8, splitter=random; total time=   0.0s\n",
      "[CV] END max_depth=8, min_samples_leaf=9, min_samples_split=10, splitter=best; total time=   0.5s\n",
      "[CV] END max_depth=8, min_samples_leaf=9, min_samples_split=10, splitter=best; total time=   0.5s\n",
      "[CV] END max_depth=8, min_samples_leaf=9, min_samples_split=10, splitter=best; total time=   0.5s\n",
      "[CV] END max_depth=8, min_samples_leaf=9, min_samples_split=10, splitter=best; total time=   0.4s\n",
      "[CV] END max_depth=8, min_samples_leaf=9, min_samples_split=10, splitter=best; total time=   0.5s\n",
      "[CV] END max_depth=8, min_samples_leaf=9, min_samples_split=10, splitter=random; total time=   0.0s\n",
      "[CV] END max_depth=8, min_samples_leaf=9, min_samples_split=10, splitter=random; total time=   0.0s\n",
      "[CV] END max_depth=8, min_samples_leaf=9, min_samples_split=10, splitter=random; total time=   0.0s\n",
      "[CV] END max_depth=8, min_samples_leaf=9, min_samples_split=10, splitter=random; total time=   0.0s\n",
      "[CV] END max_depth=8, min_samples_leaf=9, min_samples_split=10, splitter=random; total time=   0.0s\n",
      "[CV] END max_depth=10, min_samples_leaf=1, min_samples_split=2, splitter=best; total time=   0.7s\n",
      "[CV] END max_depth=10, min_samples_leaf=1, min_samples_split=2, splitter=best; total time=   0.6s\n",
      "[CV] END max_depth=10, min_samples_leaf=1, min_samples_split=2, splitter=best; total time=   0.6s\n",
      "[CV] END max_depth=10, min_samples_leaf=1, min_samples_split=2, splitter=best; total time=   0.6s\n",
      "[CV] END max_depth=10, min_samples_leaf=1, min_samples_split=2, splitter=best; total time=   0.5s\n",
      "[CV] END max_depth=10, min_samples_leaf=1, min_samples_split=2, splitter=random; total time=   0.0s\n",
      "[CV] END max_depth=10, min_samples_leaf=1, min_samples_split=2, splitter=random; total time=   0.0s\n",
      "[CV] END max_depth=10, min_samples_leaf=1, min_samples_split=2, splitter=random; total time=   0.0s\n",
      "[CV] END max_depth=10, min_samples_leaf=1, min_samples_split=2, splitter=random; total time=   0.0s\n",
      "[CV] END max_depth=10, min_samples_leaf=1, min_samples_split=2, splitter=random; total time=   0.1s\n",
      "[CV] END max_depth=10, min_samples_leaf=1, min_samples_split=4, splitter=best; total time=   0.5s\n",
      "[CV] END max_depth=10, min_samples_leaf=1, min_samples_split=4, splitter=best; total time=   0.5s\n",
      "[CV] END max_depth=10, min_samples_leaf=1, min_samples_split=4, splitter=best; total time=   0.5s\n",
      "[CV] END max_depth=10, min_samples_leaf=1, min_samples_split=4, splitter=best; total time=   0.5s\n",
      "[CV] END max_depth=10, min_samples_leaf=1, min_samples_split=4, splitter=best; total time=   0.5s\n",
      "[CV] END max_depth=10, min_samples_leaf=1, min_samples_split=4, splitter=random; total time=   0.0s\n",
      "[CV] END max_depth=10, min_samples_leaf=1, min_samples_split=4, splitter=random; total time=   0.0s\n",
      "[CV] END max_depth=10, min_samples_leaf=1, min_samples_split=4, splitter=random; total time=   0.0s\n",
      "[CV] END max_depth=10, min_samples_leaf=1, min_samples_split=4, splitter=random; total time=   0.0s\n",
      "[CV] END max_depth=10, min_samples_leaf=1, min_samples_split=4, splitter=random; total time=   0.0s\n",
      "[CV] END max_depth=10, min_samples_leaf=1, min_samples_split=6, splitter=best; total time=   0.5s\n",
      "[CV] END max_depth=10, min_samples_leaf=1, min_samples_split=6, splitter=best; total time=   0.6s\n",
      "[CV] END max_depth=10, min_samples_leaf=1, min_samples_split=6, splitter=best; total time=   0.6s\n",
      "[CV] END max_depth=10, min_samples_leaf=1, min_samples_split=6, splitter=best; total time=   0.5s\n",
      "[CV] END max_depth=10, min_samples_leaf=1, min_samples_split=6, splitter=best; total time=   0.5s\n",
      "[CV] END max_depth=10, min_samples_leaf=1, min_samples_split=6, splitter=random; total time=   0.0s\n",
      "[CV] END max_depth=10, min_samples_leaf=1, min_samples_split=6, splitter=random; total time=   0.0s\n",
      "[CV] END max_depth=10, min_samples_leaf=1, min_samples_split=6, splitter=random; total time=   0.0s\n",
      "[CV] END max_depth=10, min_samples_leaf=1, min_samples_split=6, splitter=random; total time=   0.0s\n",
      "[CV] END max_depth=10, min_samples_leaf=1, min_samples_split=6, splitter=random; total time=   0.0s\n",
      "[CV] END max_depth=10, min_samples_leaf=1, min_samples_split=8, splitter=best; total time=   0.6s\n",
      "[CV] END max_depth=10, min_samples_leaf=1, min_samples_split=8, splitter=best; total time=   0.6s\n",
      "[CV] END max_depth=10, min_samples_leaf=1, min_samples_split=8, splitter=best; total time=   0.5s\n",
      "[CV] END max_depth=10, min_samples_leaf=1, min_samples_split=8, splitter=best; total time=   0.5s\n",
      "[CV] END max_depth=10, min_samples_leaf=1, min_samples_split=8, splitter=best; total time=   0.5s\n",
      "[CV] END max_depth=10, min_samples_leaf=1, min_samples_split=8, splitter=random; total time=   0.0s\n",
      "[CV] END max_depth=10, min_samples_leaf=1, min_samples_split=8, splitter=random; total time=   0.0s\n",
      "[CV] END max_depth=10, min_samples_leaf=1, min_samples_split=8, splitter=random; total time=   0.0s\n",
      "[CV] END max_depth=10, min_samples_leaf=1, min_samples_split=8, splitter=random; total time=   0.0s\n",
      "[CV] END max_depth=10, min_samples_leaf=1, min_samples_split=8, splitter=random; total time=   0.0s\n",
      "[CV] END max_depth=10, min_samples_leaf=1, min_samples_split=10, splitter=best; total time=   0.5s\n",
      "[CV] END max_depth=10, min_samples_leaf=1, min_samples_split=10, splitter=best; total time=   0.5s\n",
      "[CV] END max_depth=10, min_samples_leaf=1, min_samples_split=10, splitter=best; total time=   0.5s\n",
      "[CV] END max_depth=10, min_samples_leaf=1, min_samples_split=10, splitter=best; total time=   0.5s\n",
      "[CV] END max_depth=10, min_samples_leaf=1, min_samples_split=10, splitter=best; total time=   0.5s\n",
      "[CV] END max_depth=10, min_samples_leaf=1, min_samples_split=10, splitter=random; total time=   0.0s\n",
      "[CV] END max_depth=10, min_samples_leaf=1, min_samples_split=10, splitter=random; total time=   0.0s\n",
      "[CV] END max_depth=10, min_samples_leaf=1, min_samples_split=10, splitter=random; total time=   0.0s\n",
      "[CV] END max_depth=10, min_samples_leaf=1, min_samples_split=10, splitter=random; total time=   0.0s\n",
      "[CV] END max_depth=10, min_samples_leaf=1, min_samples_split=10, splitter=random; total time=   0.0s\n",
      "[CV] END max_depth=10, min_samples_leaf=3, min_samples_split=2, splitter=best; total time=   0.5s\n",
      "[CV] END max_depth=10, min_samples_leaf=3, min_samples_split=2, splitter=best; total time=   0.6s\n",
      "[CV] END max_depth=10, min_samples_leaf=3, min_samples_split=2, splitter=best; total time=   0.6s\n",
      "[CV] END max_depth=10, min_samples_leaf=3, min_samples_split=2, splitter=best; total time=   0.5s\n",
      "[CV] END max_depth=10, min_samples_leaf=3, min_samples_split=2, splitter=best; total time=   0.5s\n",
      "[CV] END max_depth=10, min_samples_leaf=3, min_samples_split=2, splitter=random; total time=   0.1s\n",
      "[CV] END max_depth=10, min_samples_leaf=3, min_samples_split=2, splitter=random; total time=   0.0s\n",
      "[CV] END max_depth=10, min_samples_leaf=3, min_samples_split=2, splitter=random; total time=   0.0s\n",
      "[CV] END max_depth=10, min_samples_leaf=3, min_samples_split=2, splitter=random; total time=   0.0s\n",
      "[CV] END max_depth=10, min_samples_leaf=3, min_samples_split=2, splitter=random; total time=   0.0s\n",
      "[CV] END max_depth=10, min_samples_leaf=3, min_samples_split=4, splitter=best; total time=   0.5s\n",
      "[CV] END max_depth=10, min_samples_leaf=3, min_samples_split=4, splitter=best; total time=   0.5s\n",
      "[CV] END max_depth=10, min_samples_leaf=3, min_samples_split=4, splitter=best; total time=   0.5s\n",
      "[CV] END max_depth=10, min_samples_leaf=3, min_samples_split=4, splitter=best; total time=   0.5s\n",
      "[CV] END max_depth=10, min_samples_leaf=3, min_samples_split=4, splitter=best; total time=   0.6s\n",
      "[CV] END max_depth=10, min_samples_leaf=3, min_samples_split=4, splitter=random; total time=   0.0s\n",
      "[CV] END max_depth=10, min_samples_leaf=3, min_samples_split=4, splitter=random; total time=   0.0s\n",
      "[CV] END max_depth=10, min_samples_leaf=3, min_samples_split=4, splitter=random; total time=   0.0s\n",
      "[CV] END max_depth=10, min_samples_leaf=3, min_samples_split=4, splitter=random; total time=   0.0s\n",
      "[CV] END max_depth=10, min_samples_leaf=3, min_samples_split=4, splitter=random; total time=   0.0s\n",
      "[CV] END max_depth=10, min_samples_leaf=3, min_samples_split=6, splitter=best; total time=   0.5s\n",
      "[CV] END max_depth=10, min_samples_leaf=3, min_samples_split=6, splitter=best; total time=   0.5s\n",
      "[CV] END max_depth=10, min_samples_leaf=3, min_samples_split=6, splitter=best; total time=   0.5s\n",
      "[CV] END max_depth=10, min_samples_leaf=3, min_samples_split=6, splitter=best; total time=   0.5s\n",
      "[CV] END max_depth=10, min_samples_leaf=3, min_samples_split=6, splitter=best; total time=   0.5s\n",
      "[CV] END max_depth=10, min_samples_leaf=3, min_samples_split=6, splitter=random; total time=   0.0s\n",
      "[CV] END max_depth=10, min_samples_leaf=3, min_samples_split=6, splitter=random; total time=   0.0s\n",
      "[CV] END max_depth=10, min_samples_leaf=3, min_samples_split=6, splitter=random; total time=   0.0s\n",
      "[CV] END max_depth=10, min_samples_leaf=3, min_samples_split=6, splitter=random; total time=   0.0s\n",
      "[CV] END max_depth=10, min_samples_leaf=3, min_samples_split=6, splitter=random; total time=   0.0s\n",
      "[CV] END max_depth=10, min_samples_leaf=3, min_samples_split=8, splitter=best; total time=   0.5s\n",
      "[CV] END max_depth=10, min_samples_leaf=3, min_samples_split=8, splitter=best; total time=   0.5s\n",
      "[CV] END max_depth=10, min_samples_leaf=3, min_samples_split=8, splitter=best; total time=   0.5s\n",
      "[CV] END max_depth=10, min_samples_leaf=3, min_samples_split=8, splitter=best; total time=   0.5s\n",
      "[CV] END max_depth=10, min_samples_leaf=3, min_samples_split=8, splitter=best; total time=   0.5s\n",
      "[CV] END max_depth=10, min_samples_leaf=3, min_samples_split=8, splitter=random; total time=   0.0s\n",
      "[CV] END max_depth=10, min_samples_leaf=3, min_samples_split=8, splitter=random; total time=   0.0s\n",
      "[CV] END max_depth=10, min_samples_leaf=3, min_samples_split=8, splitter=random; total time=   0.0s\n",
      "[CV] END max_depth=10, min_samples_leaf=3, min_samples_split=8, splitter=random; total time=   0.0s\n",
      "[CV] END max_depth=10, min_samples_leaf=3, min_samples_split=8, splitter=random; total time=   0.0s\n",
      "[CV] END max_depth=10, min_samples_leaf=3, min_samples_split=10, splitter=best; total time=   0.5s\n",
      "[CV] END max_depth=10, min_samples_leaf=3, min_samples_split=10, splitter=best; total time=   0.6s\n",
      "[CV] END max_depth=10, min_samples_leaf=3, min_samples_split=10, splitter=best; total time=   0.5s\n",
      "[CV] END max_depth=10, min_samples_leaf=3, min_samples_split=10, splitter=best; total time=   0.5s\n",
      "[CV] END max_depth=10, min_samples_leaf=3, min_samples_split=10, splitter=best; total time=   0.6s\n",
      "[CV] END max_depth=10, min_samples_leaf=3, min_samples_split=10, splitter=random; total time=   0.0s\n",
      "[CV] END max_depth=10, min_samples_leaf=3, min_samples_split=10, splitter=random; total time=   0.0s\n",
      "[CV] END max_depth=10, min_samples_leaf=3, min_samples_split=10, splitter=random; total time=   0.0s\n",
      "[CV] END max_depth=10, min_samples_leaf=3, min_samples_split=10, splitter=random; total time=   0.0s\n",
      "[CV] END max_depth=10, min_samples_leaf=3, min_samples_split=10, splitter=random; total time=   0.0s\n",
      "[CV] END max_depth=10, min_samples_leaf=5, min_samples_split=2, splitter=best; total time=   0.6s\n",
      "[CV] END max_depth=10, min_samples_leaf=5, min_samples_split=2, splitter=best; total time=   0.6s\n",
      "[CV] END max_depth=10, min_samples_leaf=5, min_samples_split=2, splitter=best; total time=   0.5s\n",
      "[CV] END max_depth=10, min_samples_leaf=5, min_samples_split=2, splitter=best; total time=   0.5s\n",
      "[CV] END max_depth=10, min_samples_leaf=5, min_samples_split=2, splitter=best; total time=   0.5s\n",
      "[CV] END max_depth=10, min_samples_leaf=5, min_samples_split=2, splitter=random; total time=   0.0s\n",
      "[CV] END max_depth=10, min_samples_leaf=5, min_samples_split=2, splitter=random; total time=   0.0s\n",
      "[CV] END max_depth=10, min_samples_leaf=5, min_samples_split=2, splitter=random; total time=   0.0s\n",
      "[CV] END max_depth=10, min_samples_leaf=5, min_samples_split=2, splitter=random; total time=   0.0s\n",
      "[CV] END max_depth=10, min_samples_leaf=5, min_samples_split=2, splitter=random; total time=   0.0s\n",
      "[CV] END max_depth=10, min_samples_leaf=5, min_samples_split=4, splitter=best; total time=   0.5s\n",
      "[CV] END max_depth=10, min_samples_leaf=5, min_samples_split=4, splitter=best; total time=   0.5s\n",
      "[CV] END max_depth=10, min_samples_leaf=5, min_samples_split=4, splitter=best; total time=   0.6s\n",
      "[CV] END max_depth=10, min_samples_leaf=5, min_samples_split=4, splitter=best; total time=   0.6s\n",
      "[CV] END max_depth=10, min_samples_leaf=5, min_samples_split=4, splitter=best; total time=   0.6s\n",
      "[CV] END max_depth=10, min_samples_leaf=5, min_samples_split=4, splitter=random; total time=   0.0s\n",
      "[CV] END max_depth=10, min_samples_leaf=5, min_samples_split=4, splitter=random; total time=   0.0s\n",
      "[CV] END max_depth=10, min_samples_leaf=5, min_samples_split=4, splitter=random; total time=   0.0s\n",
      "[CV] END max_depth=10, min_samples_leaf=5, min_samples_split=4, splitter=random; total time=   0.0s\n",
      "[CV] END max_depth=10, min_samples_leaf=5, min_samples_split=4, splitter=random; total time=   0.0s\n",
      "[CV] END max_depth=10, min_samples_leaf=5, min_samples_split=6, splitter=best; total time=   0.6s\n",
      "[CV] END max_depth=10, min_samples_leaf=5, min_samples_split=6, splitter=best; total time=   0.6s\n",
      "[CV] END max_depth=10, min_samples_leaf=5, min_samples_split=6, splitter=best; total time=   0.6s\n",
      "[CV] END max_depth=10, min_samples_leaf=5, min_samples_split=6, splitter=best; total time=   0.6s\n",
      "[CV] END max_depth=10, min_samples_leaf=5, min_samples_split=6, splitter=best; total time=   0.6s\n",
      "[CV] END max_depth=10, min_samples_leaf=5, min_samples_split=6, splitter=random; total time=   0.0s\n",
      "[CV] END max_depth=10, min_samples_leaf=5, min_samples_split=6, splitter=random; total time=   0.0s\n",
      "[CV] END max_depth=10, min_samples_leaf=5, min_samples_split=6, splitter=random; total time=   0.0s\n",
      "[CV] END max_depth=10, min_samples_leaf=5, min_samples_split=6, splitter=random; total time=   0.0s\n",
      "[CV] END max_depth=10, min_samples_leaf=5, min_samples_split=6, splitter=random; total time=   0.0s\n",
      "[CV] END max_depth=10, min_samples_leaf=5, min_samples_split=8, splitter=best; total time=   0.6s\n",
      "[CV] END max_depth=10, min_samples_leaf=5, min_samples_split=8, splitter=best; total time=   0.7s\n",
      "[CV] END max_depth=10, min_samples_leaf=5, min_samples_split=8, splitter=best; total time=   0.6s\n",
      "[CV] END max_depth=10, min_samples_leaf=5, min_samples_split=8, splitter=best; total time=   0.6s\n",
      "[CV] END max_depth=10, min_samples_leaf=5, min_samples_split=8, splitter=best; total time=   0.6s\n",
      "[CV] END max_depth=10, min_samples_leaf=5, min_samples_split=8, splitter=random; total time=   0.0s\n",
      "[CV] END max_depth=10, min_samples_leaf=5, min_samples_split=8, splitter=random; total time=   0.0s\n",
      "[CV] END max_depth=10, min_samples_leaf=5, min_samples_split=8, splitter=random; total time=   0.0s\n",
      "[CV] END max_depth=10, min_samples_leaf=5, min_samples_split=8, splitter=random; total time=   0.0s\n",
      "[CV] END max_depth=10, min_samples_leaf=5, min_samples_split=8, splitter=random; total time=   0.0s\n",
      "[CV] END max_depth=10, min_samples_leaf=5, min_samples_split=10, splitter=best; total time=   0.6s\n",
      "[CV] END max_depth=10, min_samples_leaf=5, min_samples_split=10, splitter=best; total time=   0.6s\n",
      "[CV] END max_depth=10, min_samples_leaf=5, min_samples_split=10, splitter=best; total time=   0.5s\n",
      "[CV] END max_depth=10, min_samples_leaf=5, min_samples_split=10, splitter=best; total time=   0.5s\n",
      "[CV] END max_depth=10, min_samples_leaf=5, min_samples_split=10, splitter=best; total time=   0.5s\n",
      "[CV] END max_depth=10, min_samples_leaf=5, min_samples_split=10, splitter=random; total time=   0.0s\n",
      "[CV] END max_depth=10, min_samples_leaf=5, min_samples_split=10, splitter=random; total time=   0.0s\n",
      "[CV] END max_depth=10, min_samples_leaf=5, min_samples_split=10, splitter=random; total time=   0.0s\n",
      "[CV] END max_depth=10, min_samples_leaf=5, min_samples_split=10, splitter=random; total time=   0.0s\n",
      "[CV] END max_depth=10, min_samples_leaf=5, min_samples_split=10, splitter=random; total time=   0.0s\n",
      "[CV] END max_depth=10, min_samples_leaf=7, min_samples_split=2, splitter=best; total time=   0.5s\n",
      "[CV] END max_depth=10, min_samples_leaf=7, min_samples_split=2, splitter=best; total time=   0.5s\n",
      "[CV] END max_depth=10, min_samples_leaf=7, min_samples_split=2, splitter=best; total time=   0.6s\n",
      "[CV] END max_depth=10, min_samples_leaf=7, min_samples_split=2, splitter=best; total time=   0.5s\n",
      "[CV] END max_depth=10, min_samples_leaf=7, min_samples_split=2, splitter=best; total time=   0.5s\n",
      "[CV] END max_depth=10, min_samples_leaf=7, min_samples_split=2, splitter=random; total time=   0.0s\n",
      "[CV] END max_depth=10, min_samples_leaf=7, min_samples_split=2, splitter=random; total time=   0.0s\n",
      "[CV] END max_depth=10, min_samples_leaf=7, min_samples_split=2, splitter=random; total time=   0.0s\n",
      "[CV] END max_depth=10, min_samples_leaf=7, min_samples_split=2, splitter=random; total time=   0.0s\n",
      "[CV] END max_depth=10, min_samples_leaf=7, min_samples_split=2, splitter=random; total time=   0.0s\n",
      "[CV] END max_depth=10, min_samples_leaf=7, min_samples_split=4, splitter=best; total time=   0.5s\n",
      "[CV] END max_depth=10, min_samples_leaf=7, min_samples_split=4, splitter=best; total time=   0.5s\n",
      "[CV] END max_depth=10, min_samples_leaf=7, min_samples_split=4, splitter=best; total time=   0.5s\n",
      "[CV] END max_depth=10, min_samples_leaf=7, min_samples_split=4, splitter=best; total time=   0.5s\n",
      "[CV] END max_depth=10, min_samples_leaf=7, min_samples_split=4, splitter=best; total time=   0.6s\n",
      "[CV] END max_depth=10, min_samples_leaf=7, min_samples_split=4, splitter=random; total time=   0.0s\n",
      "[CV] END max_depth=10, min_samples_leaf=7, min_samples_split=4, splitter=random; total time=   0.0s\n",
      "[CV] END max_depth=10, min_samples_leaf=7, min_samples_split=4, splitter=random; total time=   0.1s\n",
      "[CV] END max_depth=10, min_samples_leaf=7, min_samples_split=4, splitter=random; total time=   0.0s\n",
      "[CV] END max_depth=10, min_samples_leaf=7, min_samples_split=4, splitter=random; total time=   0.0s\n",
      "[CV] END max_depth=10, min_samples_leaf=7, min_samples_split=6, splitter=best; total time=   0.5s\n",
      "[CV] END max_depth=10, min_samples_leaf=7, min_samples_split=6, splitter=best; total time=   0.5s\n",
      "[CV] END max_depth=10, min_samples_leaf=7, min_samples_split=6, splitter=best; total time=   0.5s\n",
      "[CV] END max_depth=10, min_samples_leaf=7, min_samples_split=6, splitter=best; total time=   0.5s\n",
      "[CV] END max_depth=10, min_samples_leaf=7, min_samples_split=6, splitter=best; total time=   0.5s\n",
      "[CV] END max_depth=10, min_samples_leaf=7, min_samples_split=6, splitter=random; total time=   0.0s\n",
      "[CV] END max_depth=10, min_samples_leaf=7, min_samples_split=6, splitter=random; total time=   0.0s\n",
      "[CV] END max_depth=10, min_samples_leaf=7, min_samples_split=6, splitter=random; total time=   0.0s\n",
      "[CV] END max_depth=10, min_samples_leaf=7, min_samples_split=6, splitter=random; total time=   0.0s\n",
      "[CV] END max_depth=10, min_samples_leaf=7, min_samples_split=6, splitter=random; total time=   0.0s\n",
      "[CV] END max_depth=10, min_samples_leaf=7, min_samples_split=8, splitter=best; total time=   0.5s\n",
      "[CV] END max_depth=10, min_samples_leaf=7, min_samples_split=8, splitter=best; total time=   0.6s\n",
      "[CV] END max_depth=10, min_samples_leaf=7, min_samples_split=8, splitter=best; total time=   0.5s\n",
      "[CV] END max_depth=10, min_samples_leaf=7, min_samples_split=8, splitter=best; total time=   0.5s\n",
      "[CV] END max_depth=10, min_samples_leaf=7, min_samples_split=8, splitter=best; total time=   0.5s\n",
      "[CV] END max_depth=10, min_samples_leaf=7, min_samples_split=8, splitter=random; total time=   0.0s\n",
      "[CV] END max_depth=10, min_samples_leaf=7, min_samples_split=8, splitter=random; total time=   0.0s\n",
      "[CV] END max_depth=10, min_samples_leaf=7, min_samples_split=8, splitter=random; total time=   0.0s\n",
      "[CV] END max_depth=10, min_samples_leaf=7, min_samples_split=8, splitter=random; total time=   0.0s\n",
      "[CV] END max_depth=10, min_samples_leaf=7, min_samples_split=8, splitter=random; total time=   0.0s\n",
      "[CV] END max_depth=10, min_samples_leaf=7, min_samples_split=10, splitter=best; total time=   0.6s\n",
      "[CV] END max_depth=10, min_samples_leaf=7, min_samples_split=10, splitter=best; total time=   0.6s\n",
      "[CV] END max_depth=10, min_samples_leaf=7, min_samples_split=10, splitter=best; total time=   0.5s\n",
      "[CV] END max_depth=10, min_samples_leaf=7, min_samples_split=10, splitter=best; total time=   0.5s\n",
      "[CV] END max_depth=10, min_samples_leaf=7, min_samples_split=10, splitter=best; total time=   0.5s\n",
      "[CV] END max_depth=10, min_samples_leaf=7, min_samples_split=10, splitter=random; total time=   0.0s\n",
      "[CV] END max_depth=10, min_samples_leaf=7, min_samples_split=10, splitter=random; total time=   0.0s\n",
      "[CV] END max_depth=10, min_samples_leaf=7, min_samples_split=10, splitter=random; total time=   0.0s\n",
      "[CV] END max_depth=10, min_samples_leaf=7, min_samples_split=10, splitter=random; total time=   0.0s\n",
      "[CV] END max_depth=10, min_samples_leaf=7, min_samples_split=10, splitter=random; total time=   0.0s\n",
      "[CV] END max_depth=10, min_samples_leaf=9, min_samples_split=2, splitter=best; total time=   0.5s\n",
      "[CV] END max_depth=10, min_samples_leaf=9, min_samples_split=2, splitter=best; total time=   0.6s\n",
      "[CV] END max_depth=10, min_samples_leaf=9, min_samples_split=2, splitter=best; total time=   0.5s\n",
      "[CV] END max_depth=10, min_samples_leaf=9, min_samples_split=2, splitter=best; total time=   0.5s\n",
      "[CV] END max_depth=10, min_samples_leaf=9, min_samples_split=2, splitter=best; total time=   0.5s\n",
      "[CV] END max_depth=10, min_samples_leaf=9, min_samples_split=2, splitter=random; total time=   0.0s\n",
      "[CV] END max_depth=10, min_samples_leaf=9, min_samples_split=2, splitter=random; total time=   0.0s\n",
      "[CV] END max_depth=10, min_samples_leaf=9, min_samples_split=2, splitter=random; total time=   0.0s\n",
      "[CV] END max_depth=10, min_samples_leaf=9, min_samples_split=2, splitter=random; total time=   0.0s\n",
      "[CV] END max_depth=10, min_samples_leaf=9, min_samples_split=2, splitter=random; total time=   0.0s\n",
      "[CV] END max_depth=10, min_samples_leaf=9, min_samples_split=4, splitter=best; total time=   0.5s\n",
      "[CV] END max_depth=10, min_samples_leaf=9, min_samples_split=4, splitter=best; total time=   0.5s\n",
      "[CV] END max_depth=10, min_samples_leaf=9, min_samples_split=4, splitter=best; total time=   0.5s\n",
      "[CV] END max_depth=10, min_samples_leaf=9, min_samples_split=4, splitter=best; total time=   0.5s\n",
      "[CV] END max_depth=10, min_samples_leaf=9, min_samples_split=4, splitter=best; total time=   0.5s\n",
      "[CV] END max_depth=10, min_samples_leaf=9, min_samples_split=4, splitter=random; total time=   0.0s\n",
      "[CV] END max_depth=10, min_samples_leaf=9, min_samples_split=4, splitter=random; total time=   0.0s\n",
      "[CV] END max_depth=10, min_samples_leaf=9, min_samples_split=4, splitter=random; total time=   0.0s\n",
      "[CV] END max_depth=10, min_samples_leaf=9, min_samples_split=4, splitter=random; total time=   0.0s\n",
      "[CV] END max_depth=10, min_samples_leaf=9, min_samples_split=4, splitter=random; total time=   0.0s\n",
      "[CV] END max_depth=10, min_samples_leaf=9, min_samples_split=6, splitter=best; total time=   0.5s\n",
      "[CV] END max_depth=10, min_samples_leaf=9, min_samples_split=6, splitter=best; total time=   0.5s\n",
      "[CV] END max_depth=10, min_samples_leaf=9, min_samples_split=6, splitter=best; total time=   0.5s\n",
      "[CV] END max_depth=10, min_samples_leaf=9, min_samples_split=6, splitter=best; total time=   0.5s\n",
      "[CV] END max_depth=10, min_samples_leaf=9, min_samples_split=6, splitter=best; total time=   0.5s\n",
      "[CV] END max_depth=10, min_samples_leaf=9, min_samples_split=6, splitter=random; total time=   0.0s\n",
      "[CV] END max_depth=10, min_samples_leaf=9, min_samples_split=6, splitter=random; total time=   0.0s\n",
      "[CV] END max_depth=10, min_samples_leaf=9, min_samples_split=6, splitter=random; total time=   0.0s\n",
      "[CV] END max_depth=10, min_samples_leaf=9, min_samples_split=6, splitter=random; total time=   0.0s\n",
      "[CV] END max_depth=10, min_samples_leaf=9, min_samples_split=6, splitter=random; total time=   0.0s\n",
      "[CV] END max_depth=10, min_samples_leaf=9, min_samples_split=8, splitter=best; total time=   0.5s\n",
      "[CV] END max_depth=10, min_samples_leaf=9, min_samples_split=8, splitter=best; total time=   0.5s\n",
      "[CV] END max_depth=10, min_samples_leaf=9, min_samples_split=8, splitter=best; total time=   0.5s\n",
      "[CV] END max_depth=10, min_samples_leaf=9, min_samples_split=8, splitter=best; total time=   0.8s\n",
      "[CV] END max_depth=10, min_samples_leaf=9, min_samples_split=8, splitter=best; total time=   0.6s\n",
      "[CV] END max_depth=10, min_samples_leaf=9, min_samples_split=8, splitter=random; total time=   0.0s\n",
      "[CV] END max_depth=10, min_samples_leaf=9, min_samples_split=8, splitter=random; total time=   0.0s\n",
      "[CV] END max_depth=10, min_samples_leaf=9, min_samples_split=8, splitter=random; total time=   0.0s\n",
      "[CV] END max_depth=10, min_samples_leaf=9, min_samples_split=8, splitter=random; total time=   0.0s\n",
      "[CV] END max_depth=10, min_samples_leaf=9, min_samples_split=8, splitter=random; total time=   0.0s\n",
      "[CV] END max_depth=10, min_samples_leaf=9, min_samples_split=10, splitter=best; total time=   0.6s\n",
      "[CV] END max_depth=10, min_samples_leaf=9, min_samples_split=10, splitter=best; total time=   0.5s\n",
      "[CV] END max_depth=10, min_samples_leaf=9, min_samples_split=10, splitter=best; total time=   0.5s\n",
      "[CV] END max_depth=10, min_samples_leaf=9, min_samples_split=10, splitter=best; total time=   0.5s\n",
      "[CV] END max_depth=10, min_samples_leaf=9, min_samples_split=10, splitter=best; total time=   0.5s\n",
      "[CV] END max_depth=10, min_samples_leaf=9, min_samples_split=10, splitter=random; total time=   0.0s\n",
      "[CV] END max_depth=10, min_samples_leaf=9, min_samples_split=10, splitter=random; total time=   0.0s\n",
      "[CV] END max_depth=10, min_samples_leaf=9, min_samples_split=10, splitter=random; total time=   0.0s\n",
      "[CV] END max_depth=10, min_samples_leaf=9, min_samples_split=10, splitter=random; total time=   0.0s\n",
      "[CV] END max_depth=10, min_samples_leaf=9, min_samples_split=10, splitter=random; total time=   0.0s\n",
      "[CV] END max_depth=12, min_samples_leaf=1, min_samples_split=2, splitter=best; total time=   0.6s\n",
      "[CV] END max_depth=12, min_samples_leaf=1, min_samples_split=2, splitter=best; total time=   0.6s\n",
      "[CV] END max_depth=12, min_samples_leaf=1, min_samples_split=2, splitter=best; total time=   0.6s\n",
      "[CV] END max_depth=12, min_samples_leaf=1, min_samples_split=2, splitter=best; total time=   0.6s\n",
      "[CV] END max_depth=12, min_samples_leaf=1, min_samples_split=2, splitter=best; total time=   0.6s\n",
      "[CV] END max_depth=12, min_samples_leaf=1, min_samples_split=2, splitter=random; total time=   0.0s\n",
      "[CV] END max_depth=12, min_samples_leaf=1, min_samples_split=2, splitter=random; total time=   0.0s\n",
      "[CV] END max_depth=12, min_samples_leaf=1, min_samples_split=2, splitter=random; total time=   0.0s\n",
      "[CV] END max_depth=12, min_samples_leaf=1, min_samples_split=2, splitter=random; total time=   0.0s\n",
      "[CV] END max_depth=12, min_samples_leaf=1, min_samples_split=2, splitter=random; total time=   0.0s\n",
      "[CV] END max_depth=12, min_samples_leaf=1, min_samples_split=4, splitter=best; total time=   0.6s\n",
      "[CV] END max_depth=12, min_samples_leaf=1, min_samples_split=4, splitter=best; total time=   0.6s\n",
      "[CV] END max_depth=12, min_samples_leaf=1, min_samples_split=4, splitter=best; total time=   0.6s\n",
      "[CV] END max_depth=12, min_samples_leaf=1, min_samples_split=4, splitter=best; total time=   0.6s\n",
      "[CV] END max_depth=12, min_samples_leaf=1, min_samples_split=4, splitter=best; total time=   0.7s\n",
      "[CV] END max_depth=12, min_samples_leaf=1, min_samples_split=4, splitter=random; total time=   0.0s\n",
      "[CV] END max_depth=12, min_samples_leaf=1, min_samples_split=4, splitter=random; total time=   0.0s\n",
      "[CV] END max_depth=12, min_samples_leaf=1, min_samples_split=4, splitter=random; total time=   0.0s\n",
      "[CV] END max_depth=12, min_samples_leaf=1, min_samples_split=4, splitter=random; total time=   0.0s\n",
      "[CV] END max_depth=12, min_samples_leaf=1, min_samples_split=4, splitter=random; total time=   0.0s\n",
      "[CV] END max_depth=12, min_samples_leaf=1, min_samples_split=6, splitter=best; total time=   0.6s\n",
      "[CV] END max_depth=12, min_samples_leaf=1, min_samples_split=6, splitter=best; total time=   0.6s\n",
      "[CV] END max_depth=12, min_samples_leaf=1, min_samples_split=6, splitter=best; total time=   0.6s\n",
      "[CV] END max_depth=12, min_samples_leaf=1, min_samples_split=6, splitter=best; total time=   0.6s\n",
      "[CV] END max_depth=12, min_samples_leaf=1, min_samples_split=6, splitter=best; total time=   0.6s\n",
      "[CV] END max_depth=12, min_samples_leaf=1, min_samples_split=6, splitter=random; total time=   0.0s\n",
      "[CV] END max_depth=12, min_samples_leaf=1, min_samples_split=6, splitter=random; total time=   0.0s\n",
      "[CV] END max_depth=12, min_samples_leaf=1, min_samples_split=6, splitter=random; total time=   0.0s\n",
      "[CV] END max_depth=12, min_samples_leaf=1, min_samples_split=6, splitter=random; total time=   0.0s\n",
      "[CV] END max_depth=12, min_samples_leaf=1, min_samples_split=6, splitter=random; total time=   0.0s\n",
      "[CV] END max_depth=12, min_samples_leaf=1, min_samples_split=8, splitter=best; total time=   0.6s\n",
      "[CV] END max_depth=12, min_samples_leaf=1, min_samples_split=8, splitter=best; total time=   0.6s\n",
      "[CV] END max_depth=12, min_samples_leaf=1, min_samples_split=8, splitter=best; total time=   0.6s\n",
      "[CV] END max_depth=12, min_samples_leaf=1, min_samples_split=8, splitter=best; total time=   0.6s\n",
      "[CV] END max_depth=12, min_samples_leaf=1, min_samples_split=8, splitter=best; total time=   0.6s\n",
      "[CV] END max_depth=12, min_samples_leaf=1, min_samples_split=8, splitter=random; total time=   0.0s\n",
      "[CV] END max_depth=12, min_samples_leaf=1, min_samples_split=8, splitter=random; total time=   0.0s\n",
      "[CV] END max_depth=12, min_samples_leaf=1, min_samples_split=8, splitter=random; total time=   0.0s\n",
      "[CV] END max_depth=12, min_samples_leaf=1, min_samples_split=8, splitter=random; total time=   0.0s\n",
      "[CV] END max_depth=12, min_samples_leaf=1, min_samples_split=8, splitter=random; total time=   0.0s\n",
      "[CV] END max_depth=12, min_samples_leaf=1, min_samples_split=10, splitter=best; total time=   0.6s\n",
      "[CV] END max_depth=12, min_samples_leaf=1, min_samples_split=10, splitter=best; total time=   0.6s\n",
      "[CV] END max_depth=12, min_samples_leaf=1, min_samples_split=10, splitter=best; total time=   0.6s\n",
      "[CV] END max_depth=12, min_samples_leaf=1, min_samples_split=10, splitter=best; total time=   0.7s\n",
      "[CV] END max_depth=12, min_samples_leaf=1, min_samples_split=10, splitter=best; total time=   0.7s\n",
      "[CV] END max_depth=12, min_samples_leaf=1, min_samples_split=10, splitter=random; total time=   0.0s\n",
      "[CV] END max_depth=12, min_samples_leaf=1, min_samples_split=10, splitter=random; total time=   0.0s\n",
      "[CV] END max_depth=12, min_samples_leaf=1, min_samples_split=10, splitter=random; total time=   0.0s\n",
      "[CV] END max_depth=12, min_samples_leaf=1, min_samples_split=10, splitter=random; total time=   0.0s\n",
      "[CV] END max_depth=12, min_samples_leaf=1, min_samples_split=10, splitter=random; total time=   0.0s\n",
      "[CV] END max_depth=12, min_samples_leaf=3, min_samples_split=2, splitter=best; total time=   0.6s\n",
      "[CV] END max_depth=12, min_samples_leaf=3, min_samples_split=2, splitter=best; total time=   0.7s\n",
      "[CV] END max_depth=12, min_samples_leaf=3, min_samples_split=2, splitter=best; total time=   0.6s\n",
      "[CV] END max_depth=12, min_samples_leaf=3, min_samples_split=2, splitter=best; total time=   0.6s\n",
      "[CV] END max_depth=12, min_samples_leaf=3, min_samples_split=2, splitter=best; total time=   0.6s\n",
      "[CV] END max_depth=12, min_samples_leaf=3, min_samples_split=2, splitter=random; total time=   0.0s\n",
      "[CV] END max_depth=12, min_samples_leaf=3, min_samples_split=2, splitter=random; total time=   0.0s\n",
      "[CV] END max_depth=12, min_samples_leaf=3, min_samples_split=2, splitter=random; total time=   0.0s\n",
      "[CV] END max_depth=12, min_samples_leaf=3, min_samples_split=2, splitter=random; total time=   0.0s\n",
      "[CV] END max_depth=12, min_samples_leaf=3, min_samples_split=2, splitter=random; total time=   0.0s\n",
      "[CV] END max_depth=12, min_samples_leaf=3, min_samples_split=4, splitter=best; total time=   0.6s\n",
      "[CV] END max_depth=12, min_samples_leaf=3, min_samples_split=4, splitter=best; total time=   0.6s\n",
      "[CV] END max_depth=12, min_samples_leaf=3, min_samples_split=4, splitter=best; total time=   0.7s\n",
      "[CV] END max_depth=12, min_samples_leaf=3, min_samples_split=4, splitter=best; total time=   0.6s\n",
      "[CV] END max_depth=12, min_samples_leaf=3, min_samples_split=4, splitter=best; total time=   0.6s\n",
      "[CV] END max_depth=12, min_samples_leaf=3, min_samples_split=4, splitter=random; total time=   0.1s\n",
      "[CV] END max_depth=12, min_samples_leaf=3, min_samples_split=4, splitter=random; total time=   0.0s\n",
      "[CV] END max_depth=12, min_samples_leaf=3, min_samples_split=4, splitter=random; total time=   0.1s\n",
      "[CV] END max_depth=12, min_samples_leaf=3, min_samples_split=4, splitter=random; total time=   0.0s\n",
      "[CV] END max_depth=12, min_samples_leaf=3, min_samples_split=4, splitter=random; total time=   0.1s\n",
      "[CV] END max_depth=12, min_samples_leaf=3, min_samples_split=6, splitter=best; total time=   0.6s\n",
      "[CV] END max_depth=12, min_samples_leaf=3, min_samples_split=6, splitter=best; total time=   0.6s\n",
      "[CV] END max_depth=12, min_samples_leaf=3, min_samples_split=6, splitter=best; total time=   0.7s\n",
      "[CV] END max_depth=12, min_samples_leaf=3, min_samples_split=6, splitter=best; total time=   0.7s\n",
      "[CV] END max_depth=12, min_samples_leaf=3, min_samples_split=6, splitter=best; total time=   0.6s\n",
      "[CV] END max_depth=12, min_samples_leaf=3, min_samples_split=6, splitter=random; total time=   0.1s\n",
      "[CV] END max_depth=12, min_samples_leaf=3, min_samples_split=6, splitter=random; total time=   0.0s\n",
      "[CV] END max_depth=12, min_samples_leaf=3, min_samples_split=6, splitter=random; total time=   0.0s\n",
      "[CV] END max_depth=12, min_samples_leaf=3, min_samples_split=6, splitter=random; total time=   0.0s\n",
      "[CV] END max_depth=12, min_samples_leaf=3, min_samples_split=6, splitter=random; total time=   0.1s\n",
      "[CV] END max_depth=12, min_samples_leaf=3, min_samples_split=8, splitter=best; total time=   0.6s\n",
      "[CV] END max_depth=12, min_samples_leaf=3, min_samples_split=8, splitter=best; total time=   0.7s\n",
      "[CV] END max_depth=12, min_samples_leaf=3, min_samples_split=8, splitter=best; total time=   0.6s\n",
      "[CV] END max_depth=12, min_samples_leaf=3, min_samples_split=8, splitter=best; total time=   0.6s\n",
      "[CV] END max_depth=12, min_samples_leaf=3, min_samples_split=8, splitter=best; total time=   0.6s\n",
      "[CV] END max_depth=12, min_samples_leaf=3, min_samples_split=8, splitter=random; total time=   0.0s\n",
      "[CV] END max_depth=12, min_samples_leaf=3, min_samples_split=8, splitter=random; total time=   0.1s\n",
      "[CV] END max_depth=12, min_samples_leaf=3, min_samples_split=8, splitter=random; total time=   0.0s\n",
      "[CV] END max_depth=12, min_samples_leaf=3, min_samples_split=8, splitter=random; total time=   0.1s\n",
      "[CV] END max_depth=12, min_samples_leaf=3, min_samples_split=8, splitter=random; total time=   0.0s\n",
      "[CV] END max_depth=12, min_samples_leaf=3, min_samples_split=10, splitter=best; total time=   0.7s\n",
      "[CV] END max_depth=12, min_samples_leaf=3, min_samples_split=10, splitter=best; total time=   0.7s\n",
      "[CV] END max_depth=12, min_samples_leaf=3, min_samples_split=10, splitter=best; total time=   0.7s\n",
      "[CV] END max_depth=12, min_samples_leaf=3, min_samples_split=10, splitter=best; total time=   0.7s\n",
      "[CV] END max_depth=12, min_samples_leaf=3, min_samples_split=10, splitter=best; total time=   0.6s\n",
      "[CV] END max_depth=12, min_samples_leaf=3, min_samples_split=10, splitter=random; total time=   0.0s\n",
      "[CV] END max_depth=12, min_samples_leaf=3, min_samples_split=10, splitter=random; total time=   0.0s\n",
      "[CV] END max_depth=12, min_samples_leaf=3, min_samples_split=10, splitter=random; total time=   0.0s\n",
      "[CV] END max_depth=12, min_samples_leaf=3, min_samples_split=10, splitter=random; total time=   0.0s\n",
      "[CV] END max_depth=12, min_samples_leaf=3, min_samples_split=10, splitter=random; total time=   0.0s\n",
      "[CV] END max_depth=12, min_samples_leaf=5, min_samples_split=2, splitter=best; total time=   0.6s\n",
      "[CV] END max_depth=12, min_samples_leaf=5, min_samples_split=2, splitter=best; total time=   0.7s\n",
      "[CV] END max_depth=12, min_samples_leaf=5, min_samples_split=2, splitter=best; total time=   0.7s\n",
      "[CV] END max_depth=12, min_samples_leaf=5, min_samples_split=2, splitter=best; total time=   0.7s\n",
      "[CV] END max_depth=12, min_samples_leaf=5, min_samples_split=2, splitter=best; total time=   0.6s\n",
      "[CV] END max_depth=12, min_samples_leaf=5, min_samples_split=2, splitter=random; total time=   0.0s\n",
      "[CV] END max_depth=12, min_samples_leaf=5, min_samples_split=2, splitter=random; total time=   0.0s\n",
      "[CV] END max_depth=12, min_samples_leaf=5, min_samples_split=2, splitter=random; total time=   0.0s\n",
      "[CV] END max_depth=12, min_samples_leaf=5, min_samples_split=2, splitter=random; total time=   0.1s\n",
      "[CV] END max_depth=12, min_samples_leaf=5, min_samples_split=2, splitter=random; total time=   0.0s\n",
      "[CV] END max_depth=12, min_samples_leaf=5, min_samples_split=4, splitter=best; total time=   0.7s\n",
      "[CV] END max_depth=12, min_samples_leaf=5, min_samples_split=4, splitter=best; total time=   0.7s\n",
      "[CV] END max_depth=12, min_samples_leaf=5, min_samples_split=4, splitter=best; total time=   0.7s\n",
      "[CV] END max_depth=12, min_samples_leaf=5, min_samples_split=4, splitter=best; total time=   0.6s\n",
      "[CV] END max_depth=12, min_samples_leaf=5, min_samples_split=4, splitter=best; total time=   0.7s\n",
      "[CV] END max_depth=12, min_samples_leaf=5, min_samples_split=4, splitter=random; total time=   0.0s\n",
      "[CV] END max_depth=12, min_samples_leaf=5, min_samples_split=4, splitter=random; total time=   0.1s\n",
      "[CV] END max_depth=12, min_samples_leaf=5, min_samples_split=4, splitter=random; total time=   0.0s\n",
      "[CV] END max_depth=12, min_samples_leaf=5, min_samples_split=4, splitter=random; total time=   0.1s\n",
      "[CV] END max_depth=12, min_samples_leaf=5, min_samples_split=4, splitter=random; total time=   0.0s\n",
      "[CV] END max_depth=12, min_samples_leaf=5, min_samples_split=6, splitter=best; total time=   0.7s\n",
      "[CV] END max_depth=12, min_samples_leaf=5, min_samples_split=6, splitter=best; total time=   0.7s\n",
      "[CV] END max_depth=12, min_samples_leaf=5, min_samples_split=6, splitter=best; total time=   0.7s\n",
      "[CV] END max_depth=12, min_samples_leaf=5, min_samples_split=6, splitter=best; total time=   0.7s\n",
      "[CV] END max_depth=12, min_samples_leaf=5, min_samples_split=6, splitter=best; total time=   0.6s\n",
      "[CV] END max_depth=12, min_samples_leaf=5, min_samples_split=6, splitter=random; total time=   0.0s\n",
      "[CV] END max_depth=12, min_samples_leaf=5, min_samples_split=6, splitter=random; total time=   0.0s\n",
      "[CV] END max_depth=12, min_samples_leaf=5, min_samples_split=6, splitter=random; total time=   0.0s\n",
      "[CV] END max_depth=12, min_samples_leaf=5, min_samples_split=6, splitter=random; total time=   0.0s\n",
      "[CV] END max_depth=12, min_samples_leaf=5, min_samples_split=6, splitter=random; total time=   0.0s\n",
      "[CV] END max_depth=12, min_samples_leaf=5, min_samples_split=8, splitter=best; total time=   0.6s\n",
      "[CV] END max_depth=12, min_samples_leaf=5, min_samples_split=8, splitter=best; total time=   0.6s\n",
      "[CV] END max_depth=12, min_samples_leaf=5, min_samples_split=8, splitter=best; total time=   0.7s\n",
      "[CV] END max_depth=12, min_samples_leaf=5, min_samples_split=8, splitter=best; total time=   0.6s\n",
      "[CV] END max_depth=12, min_samples_leaf=5, min_samples_split=8, splitter=best; total time=   0.6s\n",
      "[CV] END max_depth=12, min_samples_leaf=5, min_samples_split=8, splitter=random; total time=   0.0s\n",
      "[CV] END max_depth=12, min_samples_leaf=5, min_samples_split=8, splitter=random; total time=   0.0s\n",
      "[CV] END max_depth=12, min_samples_leaf=5, min_samples_split=8, splitter=random; total time=   0.0s\n",
      "[CV] END max_depth=12, min_samples_leaf=5, min_samples_split=8, splitter=random; total time=   0.1s\n",
      "[CV] END max_depth=12, min_samples_leaf=5, min_samples_split=8, splitter=random; total time=   0.0s\n",
      "[CV] END max_depth=12, min_samples_leaf=5, min_samples_split=10, splitter=best; total time=   0.7s\n",
      "[CV] END max_depth=12, min_samples_leaf=5, min_samples_split=10, splitter=best; total time=   0.7s\n",
      "[CV] END max_depth=12, min_samples_leaf=5, min_samples_split=10, splitter=best; total time=   0.7s\n",
      "[CV] END max_depth=12, min_samples_leaf=5, min_samples_split=10, splitter=best; total time=   0.7s\n",
      "[CV] END max_depth=12, min_samples_leaf=5, min_samples_split=10, splitter=best; total time=   0.7s\n",
      "[CV] END max_depth=12, min_samples_leaf=5, min_samples_split=10, splitter=random; total time=   0.1s\n",
      "[CV] END max_depth=12, min_samples_leaf=5, min_samples_split=10, splitter=random; total time=   0.0s\n",
      "[CV] END max_depth=12, min_samples_leaf=5, min_samples_split=10, splitter=random; total time=   0.1s\n",
      "[CV] END max_depth=12, min_samples_leaf=5, min_samples_split=10, splitter=random; total time=   0.0s\n",
      "[CV] END max_depth=12, min_samples_leaf=5, min_samples_split=10, splitter=random; total time=   0.1s\n",
      "[CV] END max_depth=12, min_samples_leaf=7, min_samples_split=2, splitter=best; total time=   0.7s\n",
      "[CV] END max_depth=12, min_samples_leaf=7, min_samples_split=2, splitter=best; total time=   0.7s\n",
      "[CV] END max_depth=12, min_samples_leaf=7, min_samples_split=2, splitter=best; total time=   0.7s\n",
      "[CV] END max_depth=12, min_samples_leaf=7, min_samples_split=2, splitter=best; total time=   0.6s\n",
      "[CV] END max_depth=12, min_samples_leaf=7, min_samples_split=2, splitter=best; total time=   0.6s\n",
      "[CV] END max_depth=12, min_samples_leaf=7, min_samples_split=2, splitter=random; total time=   0.0s\n",
      "[CV] END max_depth=12, min_samples_leaf=7, min_samples_split=2, splitter=random; total time=   0.0s\n",
      "[CV] END max_depth=12, min_samples_leaf=7, min_samples_split=2, splitter=random; total time=   0.0s\n",
      "[CV] END max_depth=12, min_samples_leaf=7, min_samples_split=2, splitter=random; total time=   0.0s\n",
      "[CV] END max_depth=12, min_samples_leaf=7, min_samples_split=2, splitter=random; total time=   0.0s\n",
      "[CV] END max_depth=12, min_samples_leaf=7, min_samples_split=4, splitter=best; total time=   0.7s\n",
      "[CV] END max_depth=12, min_samples_leaf=7, min_samples_split=4, splitter=best; total time=   0.6s\n",
      "[CV] END max_depth=12, min_samples_leaf=7, min_samples_split=4, splitter=best; total time=   0.6s\n",
      "[CV] END max_depth=12, min_samples_leaf=7, min_samples_split=4, splitter=best; total time=   0.6s\n",
      "[CV] END max_depth=12, min_samples_leaf=7, min_samples_split=4, splitter=best; total time=   0.6s\n",
      "[CV] END max_depth=12, min_samples_leaf=7, min_samples_split=4, splitter=random; total time=   0.0s\n",
      "[CV] END max_depth=12, min_samples_leaf=7, min_samples_split=4, splitter=random; total time=   0.0s\n",
      "[CV] END max_depth=12, min_samples_leaf=7, min_samples_split=4, splitter=random; total time=   0.0s\n",
      "[CV] END max_depth=12, min_samples_leaf=7, min_samples_split=4, splitter=random; total time=   0.0s\n",
      "[CV] END max_depth=12, min_samples_leaf=7, min_samples_split=4, splitter=random; total time=   0.0s\n",
      "[CV] END max_depth=12, min_samples_leaf=7, min_samples_split=6, splitter=best; total time=   0.6s\n",
      "[CV] END max_depth=12, min_samples_leaf=7, min_samples_split=6, splitter=best; total time=   0.6s\n",
      "[CV] END max_depth=12, min_samples_leaf=7, min_samples_split=6, splitter=best; total time=   0.6s\n",
      "[CV] END max_depth=12, min_samples_leaf=7, min_samples_split=6, splitter=best; total time=   0.6s\n",
      "[CV] END max_depth=12, min_samples_leaf=7, min_samples_split=6, splitter=best; total time=   0.6s\n",
      "[CV] END max_depth=12, min_samples_leaf=7, min_samples_split=6, splitter=random; total time=   0.0s\n",
      "[CV] END max_depth=12, min_samples_leaf=7, min_samples_split=6, splitter=random; total time=   0.0s\n",
      "[CV] END max_depth=12, min_samples_leaf=7, min_samples_split=6, splitter=random; total time=   0.0s\n",
      "[CV] END max_depth=12, min_samples_leaf=7, min_samples_split=6, splitter=random; total time=   0.0s\n",
      "[CV] END max_depth=12, min_samples_leaf=7, min_samples_split=6, splitter=random; total time=   0.0s\n",
      "[CV] END max_depth=12, min_samples_leaf=7, min_samples_split=8, splitter=best; total time=   0.6s\n",
      "[CV] END max_depth=12, min_samples_leaf=7, min_samples_split=8, splitter=best; total time=   0.6s\n",
      "[CV] END max_depth=12, min_samples_leaf=7, min_samples_split=8, splitter=best; total time=   0.6s\n",
      "[CV] END max_depth=12, min_samples_leaf=7, min_samples_split=8, splitter=best; total time=   0.6s\n",
      "[CV] END max_depth=12, min_samples_leaf=7, min_samples_split=8, splitter=best; total time=   0.6s\n",
      "[CV] END max_depth=12, min_samples_leaf=7, min_samples_split=8, splitter=random; total time=   0.0s\n",
      "[CV] END max_depth=12, min_samples_leaf=7, min_samples_split=8, splitter=random; total time=   0.0s\n",
      "[CV] END max_depth=12, min_samples_leaf=7, min_samples_split=8, splitter=random; total time=   0.0s\n",
      "[CV] END max_depth=12, min_samples_leaf=7, min_samples_split=8, splitter=random; total time=   0.1s\n",
      "[CV] END max_depth=12, min_samples_leaf=7, min_samples_split=8, splitter=random; total time=   0.0s\n",
      "[CV] END max_depth=12, min_samples_leaf=7, min_samples_split=10, splitter=best; total time=   0.7s\n",
      "[CV] END max_depth=12, min_samples_leaf=7, min_samples_split=10, splitter=best; total time=   0.6s\n",
      "[CV] END max_depth=12, min_samples_leaf=7, min_samples_split=10, splitter=best; total time=   0.6s\n",
      "[CV] END max_depth=12, min_samples_leaf=7, min_samples_split=10, splitter=best; total time=   0.6s\n",
      "[CV] END max_depth=12, min_samples_leaf=7, min_samples_split=10, splitter=best; total time=   0.6s\n",
      "[CV] END max_depth=12, min_samples_leaf=7, min_samples_split=10, splitter=random; total time=   0.0s\n",
      "[CV] END max_depth=12, min_samples_leaf=7, min_samples_split=10, splitter=random; total time=   0.0s\n",
      "[CV] END max_depth=12, min_samples_leaf=7, min_samples_split=10, splitter=random; total time=   0.0s\n",
      "[CV] END max_depth=12, min_samples_leaf=7, min_samples_split=10, splitter=random; total time=   0.0s\n",
      "[CV] END max_depth=12, min_samples_leaf=7, min_samples_split=10, splitter=random; total time=   0.0s\n",
      "[CV] END max_depth=12, min_samples_leaf=9, min_samples_split=2, splitter=best; total time=   0.6s\n",
      "[CV] END max_depth=12, min_samples_leaf=9, min_samples_split=2, splitter=best; total time=   0.6s\n",
      "[CV] END max_depth=12, min_samples_leaf=9, min_samples_split=2, splitter=best; total time=   0.6s\n",
      "[CV] END max_depth=12, min_samples_leaf=9, min_samples_split=2, splitter=best; total time=   0.6s\n",
      "[CV] END max_depth=12, min_samples_leaf=9, min_samples_split=2, splitter=best; total time=   0.6s\n",
      "[CV] END max_depth=12, min_samples_leaf=9, min_samples_split=2, splitter=random; total time=   0.0s\n",
      "[CV] END max_depth=12, min_samples_leaf=9, min_samples_split=2, splitter=random; total time=   0.0s\n",
      "[CV] END max_depth=12, min_samples_leaf=9, min_samples_split=2, splitter=random; total time=   0.0s\n",
      "[CV] END max_depth=12, min_samples_leaf=9, min_samples_split=2, splitter=random; total time=   0.0s\n",
      "[CV] END max_depth=12, min_samples_leaf=9, min_samples_split=2, splitter=random; total time=   0.1s\n",
      "[CV] END max_depth=12, min_samples_leaf=9, min_samples_split=4, splitter=best; total time=   0.6s\n",
      "[CV] END max_depth=12, min_samples_leaf=9, min_samples_split=4, splitter=best; total time=   0.6s\n",
      "[CV] END max_depth=12, min_samples_leaf=9, min_samples_split=4, splitter=best; total time=   0.6s\n",
      "[CV] END max_depth=12, min_samples_leaf=9, min_samples_split=4, splitter=best; total time=   0.6s\n",
      "[CV] END max_depth=12, min_samples_leaf=9, min_samples_split=4, splitter=best; total time=   0.6s\n",
      "[CV] END max_depth=12, min_samples_leaf=9, min_samples_split=4, splitter=random; total time=   0.0s\n",
      "[CV] END max_depth=12, min_samples_leaf=9, min_samples_split=4, splitter=random; total time=   0.0s\n",
      "[CV] END max_depth=12, min_samples_leaf=9, min_samples_split=4, splitter=random; total time=   0.0s\n",
      "[CV] END max_depth=12, min_samples_leaf=9, min_samples_split=4, splitter=random; total time=   0.0s\n",
      "[CV] END max_depth=12, min_samples_leaf=9, min_samples_split=4, splitter=random; total time=   0.0s\n",
      "[CV] END max_depth=12, min_samples_leaf=9, min_samples_split=6, splitter=best; total time=   0.7s\n",
      "[CV] END max_depth=12, min_samples_leaf=9, min_samples_split=6, splitter=best; total time=   0.6s\n",
      "[CV] END max_depth=12, min_samples_leaf=9, min_samples_split=6, splitter=best; total time=   0.6s\n",
      "[CV] END max_depth=12, min_samples_leaf=9, min_samples_split=6, splitter=best; total time=   0.6s\n",
      "[CV] END max_depth=12, min_samples_leaf=9, min_samples_split=6, splitter=best; total time=   0.6s\n",
      "[CV] END max_depth=12, min_samples_leaf=9, min_samples_split=6, splitter=random; total time=   0.0s\n",
      "[CV] END max_depth=12, min_samples_leaf=9, min_samples_split=6, splitter=random; total time=   0.0s\n",
      "[CV] END max_depth=12, min_samples_leaf=9, min_samples_split=6, splitter=random; total time=   0.0s\n",
      "[CV] END max_depth=12, min_samples_leaf=9, min_samples_split=6, splitter=random; total time=   0.0s\n",
      "[CV] END max_depth=12, min_samples_leaf=9, min_samples_split=6, splitter=random; total time=   0.0s\n",
      "[CV] END max_depth=12, min_samples_leaf=9, min_samples_split=8, splitter=best; total time=   0.6s\n",
      "[CV] END max_depth=12, min_samples_leaf=9, min_samples_split=8, splitter=best; total time=   0.6s\n",
      "[CV] END max_depth=12, min_samples_leaf=9, min_samples_split=8, splitter=best; total time=   0.7s\n",
      "[CV] END max_depth=12, min_samples_leaf=9, min_samples_split=8, splitter=best; total time=   0.7s\n",
      "[CV] END max_depth=12, min_samples_leaf=9, min_samples_split=8, splitter=best; total time=   0.7s\n",
      "[CV] END max_depth=12, min_samples_leaf=9, min_samples_split=8, splitter=random; total time=   0.1s\n",
      "[CV] END max_depth=12, min_samples_leaf=9, min_samples_split=8, splitter=random; total time=   0.0s\n",
      "[CV] END max_depth=12, min_samples_leaf=9, min_samples_split=8, splitter=random; total time=   0.1s\n",
      "[CV] END max_depth=12, min_samples_leaf=9, min_samples_split=8, splitter=random; total time=   0.0s\n",
      "[CV] END max_depth=12, min_samples_leaf=9, min_samples_split=8, splitter=random; total time=   0.1s\n",
      "[CV] END max_depth=12, min_samples_leaf=9, min_samples_split=10, splitter=best; total time=   0.7s\n",
      "[CV] END max_depth=12, min_samples_leaf=9, min_samples_split=10, splitter=best; total time=   0.7s\n",
      "[CV] END max_depth=12, min_samples_leaf=9, min_samples_split=10, splitter=best; total time=   0.7s\n",
      "[CV] END max_depth=12, min_samples_leaf=9, min_samples_split=10, splitter=best; total time=   0.7s\n",
      "[CV] END max_depth=12, min_samples_leaf=9, min_samples_split=10, splitter=best; total time=   0.7s\n",
      "[CV] END max_depth=12, min_samples_leaf=9, min_samples_split=10, splitter=random; total time=   0.1s\n",
      "[CV] END max_depth=12, min_samples_leaf=9, min_samples_split=10, splitter=random; total time=   0.1s\n",
      "[CV] END max_depth=12, min_samples_leaf=9, min_samples_split=10, splitter=random; total time=   0.1s\n",
      "[CV] END max_depth=12, min_samples_leaf=9, min_samples_split=10, splitter=random; total time=   0.1s\n",
      "[CV] END max_depth=12, min_samples_leaf=9, min_samples_split=10, splitter=random; total time=   0.1s\n"
     ]
    },
    {
     "data": {
      "text/plain": [
       "{'max_depth': 6,\n",
       " 'min_samples_leaf': 7,\n",
       " 'min_samples_split': 2,\n",
       " 'splitter': 'random'}"
      ]
     },
     "execution_count": 64,
     "metadata": {},
     "output_type": "execute_result"
    }
   ],
   "source": [
    "tree_parametrs = {'splitter': ('best', 'random'),\n",
    "              'max_depth': range (2,13,2),\n",
    "             'min_samples_leaf': range (1,11,2),\n",
    "              'min_samples_split': range (2,11,2) }\n",
    "\n",
    "tree = GridSearchCV(dt, tree_parametrs, cv=5, verbose=2, scoring=smape_scorer)\n",
    "tree.fit(train_features, train_target)\n",
    "tree.best_params_"
   ]
  },
  {
   "cell_type": "code",
   "execution_count": 65,
   "metadata": {},
   "outputs": [
    {
     "name": "stdout",
     "output_type": "stream",
     "text": [
      "Итоговое sMAPE для дерева решений: 8.92454770580691\n"
     ]
    }
   ],
   "source": [
    "smape_results = smape_results.append({'Модель': 'DT', 'sMAPE': tree.best_score_ * -1}, ignore_index=True)\n",
    "print('Итоговое sMAPE для дерева решений:', tree.best_score_ * -1)"
   ]
  },
  {
   "cell_type": "markdown",
   "metadata": {},
   "source": [
    "#### Случайный лес"
   ]
  },
  {
   "cell_type": "code",
   "execution_count": 66,
   "metadata": {},
   "outputs": [],
   "source": [
    "#rf = RandomForestRegressor(random_state=state)\n",
    "#forest_parametrs = {'max_depth': range (2,15,2),\n",
    "#                'n_estimators': range(5,86,10), \n",
    "#                'min_samples_split': range(2,9,2)}\n",
    "#\n",
    "#forest = GridSearchCV(rf, forest_parametrs, cv=5, verbose=2, scoring=smape_scorer)\n",
    "#forest.fit(train_features, train_target)\n",
    "#forest.best_params_"
   ]
  },
  {
   "cell_type": "code",
   "execution_count": 68,
   "metadata": {},
   "outputs": [
    {
     "name": "stdout",
     "output_type": "stream",
     "text": [
      "Fitting 5 folds for each of 1 candidates, totalling 5 fits\n",
      "[CV] END ..max_depth=4, min_samples_split=4, n_estimators=15; total time=   2.6s\n",
      "[CV] END ..max_depth=4, min_samples_split=4, n_estimators=15; total time=   2.6s\n",
      "[CV] END ..max_depth=4, min_samples_split=4, n_estimators=15; total time=   2.7s\n",
      "[CV] END ..max_depth=4, min_samples_split=4, n_estimators=15; total time=   2.6s\n",
      "[CV] END ..max_depth=4, min_samples_split=4, n_estimators=15; total time=   2.4s\n"
     ]
    },
    {
     "data": {
      "text/plain": [
       "{'max_depth': 4, 'min_samples_split': 4, 'n_estimators': 15}"
      ]
     },
     "execution_count": 68,
     "metadata": {},
     "output_type": "execute_result"
    }
   ],
   "source": [
    "rf = RandomForestRegressor(random_state=state)\n",
    "forest_parametrs = {'max_depth': [4],\n",
    "                'n_estimators': [15], \n",
    "                'min_samples_split': [4]}\n",
    "forest = GridSearchCV(rf, forest_parametrs, cv=5, verbose=2, scoring=smape_scorer)\n",
    "forest.fit(train_features, train_target)\n",
    "forest.best_params_"
   ]
  },
  {
   "cell_type": "code",
   "execution_count": 69,
   "metadata": {},
   "outputs": [
    {
     "name": "stdout",
     "output_type": "stream",
     "text": [
      "Итоговое sMAPE для случайного леса: 8.739213483517517\n"
     ]
    }
   ],
   "source": [
    "smape_results = smape_results.append({'Модель': 'RF', 'sMAPE': forest.best_score_ * -1}, ignore_index=True)\n",
    "print('Итоговое sMAPE для случайного леса:', forest.best_score_ * -1)"
   ]
  },
  {
   "cell_type": "markdown",
   "metadata": {},
   "source": [
    "#### Сравнение результатов"
   ]
  },
  {
   "cell_type": "code",
   "execution_count": 70,
   "metadata": {},
   "outputs": [
    {
     "data": {
      "text/html": [
       "<div>\n",
       "<style scoped>\n",
       "    .dataframe tbody tr th:only-of-type {\n",
       "        vertical-align: middle;\n",
       "    }\n",
       "\n",
       "    .dataframe tbody tr th {\n",
       "        vertical-align: top;\n",
       "    }\n",
       "\n",
       "    .dataframe thead th {\n",
       "        text-align: right;\n",
       "    }\n",
       "</style>\n",
       "<table border=\"1\" class=\"dataframe\">\n",
       "  <thead>\n",
       "    <tr style=\"text-align: right;\">\n",
       "      <th></th>\n",
       "      <th>Модель</th>\n",
       "      <th>sMAPE</th>\n",
       "    </tr>\n",
       "  </thead>\n",
       "  <tbody>\n",
       "    <tr>\n",
       "      <th>2</th>\n",
       "      <td>RF</td>\n",
       "      <td>8.739213</td>\n",
       "    </tr>\n",
       "    <tr>\n",
       "      <th>0</th>\n",
       "      <td>LR</td>\n",
       "      <td>8.872770</td>\n",
       "    </tr>\n",
       "    <tr>\n",
       "      <th>1</th>\n",
       "      <td>DT</td>\n",
       "      <td>8.924548</td>\n",
       "    </tr>\n",
       "  </tbody>\n",
       "</table>\n",
       "</div>"
      ],
      "text/plain": [
       "  Модель     sMAPE\n",
       "2     RF  8.739213\n",
       "0     LR  8.872770\n",
       "1     DT  8.924548"
      ]
     },
     "execution_count": 70,
     "metadata": {},
     "output_type": "execute_result"
    }
   ],
   "source": [
    "smape_results.sort_values(by='sMAPE')"
   ]
  },
  {
   "cell_type": "markdown",
   "metadata": {},
   "source": [
    "Наилучший результат показала модель случайного леса со следующими параметрами: максимальная глубина - 4, минимальное количество объектов для ветвления -  4, количество наблюдателей - 15. Ее sMAPE равен 8.74."
   ]
  },
  {
   "cell_type": "markdown",
   "metadata": {},
   "source": [
    "### Проверка на тестовой выборке"
   ]
  },
  {
   "cell_type": "code",
   "execution_count": 71,
   "metadata": {},
   "outputs": [
    {
     "data": {
      "text/plain": [
       "6.8981981950790665"
      ]
     },
     "execution_count": 71,
     "metadata": {},
     "output_type": "execute_result"
    }
   ],
   "source": [
    "test_pred = forest.best_estimator_.predict(test_features)\n",
    "final_smape(test_target, test_pred)"
   ]
  },
  {
   "cell_type": "markdown",
   "metadata": {},
   "source": [
    "Лучшая модель показала на тестовой выборке меньшую sMAPE, чем на обучающей - 6.9."
   ]
  },
  {
   "cell_type": "markdown",
   "metadata": {},
   "source": [
    "Сравним ее с константной моделью."
   ]
  },
  {
   "cell_type": "code",
   "execution_count": 72,
   "metadata": {},
   "outputs": [
    {
     "data": {
      "text/plain": [
       "8.468905486077348"
      ]
     },
     "execution_count": 72,
     "metadata": {},
     "output_type": "execute_result"
    }
   ],
   "source": [
    "dummy_regr = DummyRegressor(strategy=\"mean\")\n",
    "dummy_regr.fit(train_features, train_target)\n",
    "dummy_pred = dummy_regr.predict(test_features)\n",
    "final_smape(test_target, dummy_pred)"
   ]
  },
  {
   "cell_type": "markdown",
   "metadata": {},
   "source": [
    "Наша модель показала лучший результат, чем константная, а значит она адекватна."
   ]
  },
  {
   "cell_type": "markdown",
   "metadata": {},
   "source": [
    "## Вывод\n",
    "Получены данные о параметрах очистки и добычи золотой руды общим объемом около 19 тысяч строк. \n",
    "\n",
    "В ходе подготовки изучили их, проверили правильность расчета эффективности обогащения, изучиди недоступные в тестовой выборке признаки и провели предобработку: перевели столбец с датами в верный формат и заполнили пропуски.\n",
    "\n",
    "На этапе анализа рассмотрели концентрацию различных металлов на разных этапах производства - по отдельности и суммарно, а также сравнили распределение гранул исходного сырья в обучающей и тестовой выборках. В ходе изучения данных нашли выбросы и избавились от них.\n",
    "\n",
    "Было обучено три модели: линейная регрессия, дерево решений и случайный лес. Наилучший результат показала модель случайного леса со следующими параметрами: максимальная глубина - 4, минимальное количество объектов для ветвления -  4, количество наблюдателей - 15. Ее sMAPE равен 8.74 при кросс-валидации на обучающей выборке и 6.9 на тестовой. Этот результат лучше, чем у константной модели, а значит наша модель адекватна."
   ]
  }
 ],
 "metadata": {
  "ExecuteTimeLog": [
   {
    "duration": 667,
    "start_time": "2023-07-25T22:46:55.808Z"
   },
   {
    "duration": 1665,
    "start_time": "2023-07-25T22:48:00.458Z"
   },
   {
    "duration": 225,
    "start_time": "2023-07-25T22:49:13.137Z"
   },
   {
    "duration": 104,
    "start_time": "2023-07-25T22:49:17.912Z"
   },
   {
    "duration": 3085,
    "start_time": "2023-07-25T22:49:27.928Z"
   },
   {
    "duration": 519,
    "start_time": "2023-07-25T22:49:41.304Z"
   },
   {
    "duration": 15,
    "start_time": "2023-07-25T22:50:25.943Z"
   },
   {
    "duration": 108,
    "start_time": "2023-07-25T22:50:36.449Z"
   },
   {
    "duration": 3249,
    "start_time": "2023-07-25T22:50:44.706Z"
   },
   {
    "duration": 15,
    "start_time": "2023-07-25T22:51:08.806Z"
   },
   {
    "duration": 46,
    "start_time": "2023-07-25T22:51:11.931Z"
   },
   {
    "duration": 47,
    "start_time": "2023-07-25T22:52:06.978Z"
   },
   {
    "duration": 17,
    "start_time": "2023-07-25T22:53:18.573Z"
   },
   {
    "duration": 11260,
    "start_time": "2023-07-25T22:53:23.809Z"
   },
   {
    "duration": 14514,
    "start_time": "2023-07-25T22:53:53.818Z"
   },
   {
    "duration": 14384,
    "start_time": "2023-07-25T22:54:17.634Z"
   },
   {
    "duration": 73,
    "start_time": "2023-07-25T22:57:35.966Z"
   },
   {
    "duration": 18,
    "start_time": "2023-07-25T22:57:54.376Z"
   },
   {
    "duration": 23,
    "start_time": "2023-07-25T22:58:01.628Z"
   },
   {
    "duration": 33,
    "start_time": "2023-07-25T22:58:27.810Z"
   },
   {
    "duration": 46,
    "start_time": "2023-07-26T22:01:19.650Z"
   },
   {
    "duration": 412,
    "start_time": "2023-07-26T22:01:24.420Z"
   },
   {
    "duration": 1134,
    "start_time": "2023-07-26T22:01:24.834Z"
   },
   {
    "duration": 18,
    "start_time": "2023-07-26T22:01:25.970Z"
   },
   {
    "duration": 3,
    "start_time": "2023-07-26T22:01:25.991Z"
   },
   {
    "duration": 163,
    "start_time": "2023-07-26T22:01:25.995Z"
   },
   {
    "duration": 838,
    "start_time": "2023-07-26T22:01:26.160Z"
   },
   {
    "duration": 3,
    "start_time": "2023-07-26T22:01:50.693Z"
   },
   {
    "duration": 3,
    "start_time": "2023-07-26T22:02:03.609Z"
   },
   {
    "duration": 63,
    "start_time": "2023-07-26T22:03:20.957Z"
   },
   {
    "duration": 251,
    "start_time": "2023-07-26T22:03:26.861Z"
   },
   {
    "duration": 10,
    "start_time": "2023-07-26T22:04:18.230Z"
   },
   {
    "duration": 281,
    "start_time": "2023-07-26T22:04:24.432Z"
   },
   {
    "duration": 241,
    "start_time": "2023-07-26T22:04:36.834Z"
   },
   {
    "duration": 23,
    "start_time": "2023-07-26T22:05:15.647Z"
   },
   {
    "duration": 219,
    "start_time": "2023-07-26T22:05:24.372Z"
   },
   {
    "duration": 11,
    "start_time": "2023-07-26T22:05:45.582Z"
   },
   {
    "duration": 120,
    "start_time": "2023-07-26T22:05:57.325Z"
   },
   {
    "duration": 3,
    "start_time": "2023-07-26T22:07:27.749Z"
   },
   {
    "duration": 21,
    "start_time": "2023-07-26T22:08:21.843Z"
   },
   {
    "duration": 122,
    "start_time": "2023-07-26T22:08:43.463Z"
   },
   {
    "duration": 11,
    "start_time": "2023-07-26T22:08:56.489Z"
   },
   {
    "duration": 9,
    "start_time": "2023-07-26T22:09:15.227Z"
   },
   {
    "duration": 9,
    "start_time": "2023-07-26T22:09:25.630Z"
   },
   {
    "duration": 9,
    "start_time": "2023-07-26T22:09:30.351Z"
   },
   {
    "duration": 9,
    "start_time": "2023-07-26T22:09:35.107Z"
   },
   {
    "duration": 9,
    "start_time": "2023-07-26T22:10:44.816Z"
   },
   {
    "duration": 7,
    "start_time": "2023-07-26T22:10:49.621Z"
   },
   {
    "duration": 7,
    "start_time": "2023-07-26T22:10:58.331Z"
   },
   {
    "duration": 1794,
    "start_time": "2023-07-26T22:23:50.157Z"
   },
   {
    "duration": 470,
    "start_time": "2023-07-26T22:24:13.669Z"
   },
   {
    "duration": 477,
    "start_time": "2023-07-26T22:24:14.141Z"
   },
   {
    "duration": 22,
    "start_time": "2023-07-26T22:24:14.620Z"
   },
   {
    "duration": 3,
    "start_time": "2023-07-26T22:24:14.646Z"
   },
   {
    "duration": 354,
    "start_time": "2023-07-26T22:24:14.651Z"
   },
   {
    "duration": 362,
    "start_time": "2023-07-26T22:24:15.007Z"
   },
   {
    "duration": 32,
    "start_time": "2023-07-26T22:24:15.371Z"
   },
   {
    "duration": 6,
    "start_time": "2023-07-26T22:24:15.405Z"
   },
   {
    "duration": 282,
    "start_time": "2023-07-26T22:24:15.413Z"
   },
   {
    "duration": 147,
    "start_time": "2023-07-26T22:24:15.699Z"
   },
   {
    "duration": 9,
    "start_time": "2023-07-26T22:24:15.848Z"
   },
   {
    "duration": 151,
    "start_time": "2023-07-26T22:24:15.858Z"
   },
   {
    "duration": 18,
    "start_time": "2023-07-26T22:24:16.012Z"
   },
   {
    "duration": 8,
    "start_time": "2023-07-26T22:24:16.032Z"
   },
   {
    "duration": 144,
    "start_time": "2023-07-26T22:24:16.042Z"
   },
   {
    "duration": 26,
    "start_time": "2023-07-26T22:24:16.192Z"
   },
   {
    "duration": 9,
    "start_time": "2023-07-26T22:24:16.220Z"
   },
   {
    "duration": 3837,
    "start_time": "2023-07-26T22:24:16.231Z"
   },
   {
    "duration": 2,
    "start_time": "2023-07-26T22:26:22.163Z"
   },
   {
    "duration": 3,
    "start_time": "2023-07-26T22:29:21.708Z"
   },
   {
    "duration": 6,
    "start_time": "2023-07-26T22:30:20.784Z"
   },
   {
    "duration": 716,
    "start_time": "2023-07-26T22:31:39.543Z"
   },
   {
    "duration": 5,
    "start_time": "2023-07-26T22:32:11.457Z"
   },
   {
    "duration": 5,
    "start_time": "2023-07-26T22:32:38.682Z"
   },
   {
    "duration": 7,
    "start_time": "2023-07-26T22:32:58.990Z"
   },
   {
    "duration": 4,
    "start_time": "2023-07-26T22:33:01.127Z"
   },
   {
    "duration": 5,
    "start_time": "2023-07-26T22:33:04.649Z"
   },
   {
    "duration": 48,
    "start_time": "2023-07-26T22:36:39.747Z"
   },
   {
    "duration": 3,
    "start_time": "2023-07-26T22:36:53.673Z"
   },
   {
    "duration": 2,
    "start_time": "2023-07-26T22:38:54.230Z"
   },
   {
    "duration": 5,
    "start_time": "2023-07-26T22:38:56.016Z"
   },
   {
    "duration": 5,
    "start_time": "2023-07-26T22:38:58.051Z"
   },
   {
    "duration": 5,
    "start_time": "2023-07-26T22:39:25.146Z"
   },
   {
    "duration": 14,
    "start_time": "2023-07-26T22:41:09.518Z"
   },
   {
    "duration": 8,
    "start_time": "2023-07-26T22:43:05.140Z"
   },
   {
    "duration": 5,
    "start_time": "2023-07-26T22:44:44.939Z"
   },
   {
    "duration": 153,
    "start_time": "2023-07-26T22:48:13.957Z"
   },
   {
    "duration": 52,
    "start_time": "2023-07-27T15:20:01.902Z"
   },
   {
    "duration": 1084,
    "start_time": "2023-07-27T15:20:07.609Z"
   },
   {
    "duration": 1846,
    "start_time": "2023-07-27T15:20:08.695Z"
   },
   {
    "duration": 18,
    "start_time": "2023-07-27T15:20:10.543Z"
   },
   {
    "duration": 3,
    "start_time": "2023-07-27T15:20:10.563Z"
   },
   {
    "duration": 266,
    "start_time": "2023-07-27T15:20:10.568Z"
   },
   {
    "duration": 1398,
    "start_time": "2023-07-27T15:20:10.835Z"
   },
   {
    "duration": 15,
    "start_time": "2023-07-27T15:20:12.235Z"
   },
   {
    "duration": 14,
    "start_time": "2023-07-27T15:20:12.252Z"
   },
   {
    "duration": 253,
    "start_time": "2023-07-27T15:20:12.268Z"
   },
   {
    "duration": 122,
    "start_time": "2023-07-27T15:20:12.523Z"
   },
   {
    "duration": 9,
    "start_time": "2023-07-27T15:20:12.647Z"
   },
   {
    "duration": 829,
    "start_time": "2023-07-27T15:20:12.657Z"
   },
   {
    "duration": 14,
    "start_time": "2023-07-27T15:20:13.488Z"
   },
   {
    "duration": 21,
    "start_time": "2023-07-27T15:20:13.504Z"
   },
   {
    "duration": 142,
    "start_time": "2023-07-27T15:20:13.526Z"
   },
   {
    "duration": 25,
    "start_time": "2023-07-27T15:20:13.670Z"
   },
   {
    "duration": 7,
    "start_time": "2023-07-27T15:20:13.697Z"
   },
   {
    "duration": 18,
    "start_time": "2023-07-27T15:20:13.705Z"
   },
   {
    "duration": 19,
    "start_time": "2023-07-27T15:20:13.724Z"
   },
   {
    "duration": 16,
    "start_time": "2023-07-27T15:20:13.744Z"
   },
   {
    "duration": 30,
    "start_time": "2023-07-27T15:20:13.762Z"
   },
   {
    "duration": 6,
    "start_time": "2023-07-27T15:20:13.794Z"
   },
   {
    "duration": 17,
    "start_time": "2023-07-27T15:20:13.802Z"
   },
   {
    "duration": 4,
    "start_time": "2023-07-27T15:20:13.821Z"
   },
   {
    "duration": 29,
    "start_time": "2023-07-27T15:20:13.826Z"
   },
   {
    "duration": 12,
    "start_time": "2023-07-27T15:21:30.611Z"
   },
   {
    "duration": 22,
    "start_time": "2023-07-27T15:21:44.850Z"
   },
   {
    "duration": 24,
    "start_time": "2023-07-27T15:21:53.763Z"
   },
   {
    "duration": 3,
    "start_time": "2023-07-27T15:22:38.088Z"
   },
   {
    "duration": 5,
    "start_time": "2023-07-27T15:23:16.090Z"
   },
   {
    "duration": 15,
    "start_time": "2023-07-27T15:23:51.814Z"
   },
   {
    "duration": 23,
    "start_time": "2023-07-27T15:23:55.663Z"
   },
   {
    "duration": 93,
    "start_time": "2023-07-27T15:26:06.162Z"
   },
   {
    "duration": 2,
    "start_time": "2023-07-27T15:26:11.263Z"
   },
   {
    "duration": 21,
    "start_time": "2023-07-27T15:26:14.770Z"
   },
   {
    "duration": 53,
    "start_time": "2023-07-27T15:26:31.136Z"
   },
   {
    "duration": 11,
    "start_time": "2023-07-27T15:27:10.114Z"
   },
   {
    "duration": 1097,
    "start_time": "2023-07-27T15:27:24.820Z"
   },
   {
    "duration": 453,
    "start_time": "2023-07-27T15:27:25.918Z"
   },
   {
    "duration": 29,
    "start_time": "2023-07-27T15:27:26.372Z"
   },
   {
    "duration": 3,
    "start_time": "2023-07-27T15:27:26.403Z"
   },
   {
    "duration": 264,
    "start_time": "2023-07-27T15:27:26.408Z"
   },
   {
    "duration": 349,
    "start_time": "2023-07-27T15:27:26.674Z"
   },
   {
    "duration": 22,
    "start_time": "2023-07-27T15:27:27.025Z"
   },
   {
    "duration": 5,
    "start_time": "2023-07-27T15:27:27.049Z"
   },
   {
    "duration": 265,
    "start_time": "2023-07-27T15:27:27.056Z"
   },
   {
    "duration": 141,
    "start_time": "2023-07-27T15:27:27.325Z"
   },
   {
    "duration": 14,
    "start_time": "2023-07-27T15:27:27.468Z"
   },
   {
    "duration": 116,
    "start_time": "2023-07-27T15:27:27.483Z"
   },
   {
    "duration": 11,
    "start_time": "2023-07-27T15:27:27.601Z"
   },
   {
    "duration": 4,
    "start_time": "2023-07-27T15:27:27.615Z"
   },
   {
    "duration": 157,
    "start_time": "2023-07-27T15:27:27.620Z"
   },
   {
    "duration": 27,
    "start_time": "2023-07-27T15:27:27.779Z"
   },
   {
    "duration": 7,
    "start_time": "2023-07-27T15:27:27.808Z"
   },
   {
    "duration": 5,
    "start_time": "2023-07-27T15:27:27.816Z"
   },
   {
    "duration": 12,
    "start_time": "2023-07-27T15:27:27.823Z"
   },
   {
    "duration": 7,
    "start_time": "2023-07-27T15:27:27.836Z"
   },
   {
    "duration": 5,
    "start_time": "2023-07-27T15:27:27.845Z"
   },
   {
    "duration": 10,
    "start_time": "2023-07-27T15:27:27.852Z"
   },
   {
    "duration": 25,
    "start_time": "2023-07-27T15:27:27.877Z"
   },
   {
    "duration": 6,
    "start_time": "2023-07-27T15:27:27.904Z"
   },
   {
    "duration": 9,
    "start_time": "2023-07-27T15:27:27.911Z"
   },
   {
    "duration": 30,
    "start_time": "2023-07-27T15:27:27.921Z"
   },
   {
    "duration": 12,
    "start_time": "2023-07-27T15:27:27.954Z"
   },
   {
    "duration": 27,
    "start_time": "2023-07-27T15:27:27.969Z"
   },
   {
    "duration": 10,
    "start_time": "2023-07-27T15:27:27.998Z"
   },
   {
    "duration": 16,
    "start_time": "2023-07-27T15:28:24.503Z"
   },
   {
    "duration": 9,
    "start_time": "2023-07-27T15:28:26.462Z"
   },
   {
    "duration": 20,
    "start_time": "2023-07-27T15:28:35.666Z"
   },
   {
    "duration": 10,
    "start_time": "2023-07-27T15:28:37.558Z"
   },
   {
    "duration": 9,
    "start_time": "2023-07-27T15:28:45.587Z"
   },
   {
    "duration": 9,
    "start_time": "2023-07-27T15:29:00.002Z"
   },
   {
    "duration": 6,
    "start_time": "2023-07-27T15:29:12.704Z"
   },
   {
    "duration": 5,
    "start_time": "2023-07-27T15:45:15.199Z"
   },
   {
    "duration": 5,
    "start_time": "2023-07-27T15:45:43.415Z"
   },
   {
    "duration": 1499,
    "start_time": "2023-07-27T21:43:21.971Z"
   },
   {
    "duration": 1337,
    "start_time": "2023-07-27T21:43:27.692Z"
   },
   {
    "duration": 1777,
    "start_time": "2023-07-27T21:43:29.031Z"
   },
   {
    "duration": 17,
    "start_time": "2023-07-27T21:43:30.810Z"
   },
   {
    "duration": 26,
    "start_time": "2023-07-27T21:43:30.830Z"
   },
   {
    "duration": 292,
    "start_time": "2023-07-27T21:43:30.858Z"
   },
   {
    "duration": 1358,
    "start_time": "2023-07-27T21:43:31.152Z"
   },
   {
    "duration": 21,
    "start_time": "2023-07-27T21:43:32.512Z"
   },
   {
    "duration": 4,
    "start_time": "2023-07-27T21:43:32.535Z"
   },
   {
    "duration": 232,
    "start_time": "2023-07-27T21:43:32.541Z"
   },
   {
    "duration": 142,
    "start_time": "2023-07-27T21:43:32.777Z"
   },
   {
    "duration": 9,
    "start_time": "2023-07-27T21:43:32.921Z"
   },
   {
    "duration": 460,
    "start_time": "2023-07-27T21:43:32.931Z"
   },
   {
    "duration": 12,
    "start_time": "2023-07-27T21:43:33.393Z"
   },
   {
    "duration": 10,
    "start_time": "2023-07-27T21:43:33.407Z"
   },
   {
    "duration": 11,
    "start_time": "2023-07-27T21:43:33.419Z"
   },
   {
    "duration": 147,
    "start_time": "2023-07-27T21:43:33.432Z"
   },
   {
    "duration": 21,
    "start_time": "2023-07-27T21:43:33.583Z"
   },
   {
    "duration": 6,
    "start_time": "2023-07-27T21:43:33.605Z"
   },
   {
    "duration": 8,
    "start_time": "2023-07-27T21:43:33.613Z"
   },
   {
    "duration": 12,
    "start_time": "2023-07-27T21:43:33.622Z"
   },
   {
    "duration": 4,
    "start_time": "2023-07-27T21:43:33.636Z"
   },
   {
    "duration": 24,
    "start_time": "2023-07-27T21:43:33.641Z"
   },
   {
    "duration": 29,
    "start_time": "2023-07-27T21:43:33.667Z"
   },
   {
    "duration": 35,
    "start_time": "2023-07-27T21:43:33.698Z"
   },
   {
    "duration": 4,
    "start_time": "2023-07-27T21:43:33.735Z"
   },
   {
    "duration": 9,
    "start_time": "2023-07-27T21:43:33.740Z"
   },
   {
    "duration": 33,
    "start_time": "2023-07-27T21:43:33.750Z"
   },
   {
    "duration": 9,
    "start_time": "2023-07-27T21:43:33.788Z"
   },
   {
    "duration": 18,
    "start_time": "2023-07-27T21:43:33.798Z"
   },
   {
    "duration": 11,
    "start_time": "2023-07-27T21:43:33.818Z"
   },
   {
    "duration": 9,
    "start_time": "2023-07-27T21:43:33.831Z"
   },
   {
    "duration": 8,
    "start_time": "2023-07-27T21:43:33.842Z"
   },
   {
    "duration": 4,
    "start_time": "2023-07-27T21:46:57.998Z"
   },
   {
    "duration": 22,
    "start_time": "2023-07-27T21:47:41.363Z"
   },
   {
    "duration": 14,
    "start_time": "2023-07-27T21:47:52.914Z"
   },
   {
    "duration": 92,
    "start_time": "2023-07-27T21:51:33.673Z"
   },
   {
    "duration": 4,
    "start_time": "2023-07-27T21:51:49.887Z"
   },
   {
    "duration": 10,
    "start_time": "2023-07-27T21:51:55.156Z"
   },
   {
    "duration": 118,
    "start_time": "2023-07-27T21:55:23.818Z"
   },
   {
    "duration": 4,
    "start_time": "2023-07-27T21:55:29.316Z"
   },
   {
    "duration": 60,
    "start_time": "2023-07-27T21:56:40.045Z"
   },
   {
    "duration": 340,
    "start_time": "2023-07-27T21:57:08.004Z"
   },
   {
    "duration": 595,
    "start_time": "2023-07-27T21:57:19.824Z"
   },
   {
    "duration": 419,
    "start_time": "2023-07-27T21:57:27.904Z"
   },
   {
    "duration": 865,
    "start_time": "2023-07-27T21:57:36.994Z"
   },
   {
    "duration": 1367,
    "start_time": "2023-07-27T21:57:42.775Z"
   },
   {
    "duration": 1001,
    "start_time": "2023-07-27T21:57:50.084Z"
   },
   {
    "duration": 901,
    "start_time": "2023-07-27T21:58:11.123Z"
   },
   {
    "duration": 813,
    "start_time": "2023-07-27T21:58:16.192Z"
   },
   {
    "duration": 8,
    "start_time": "2023-07-27T22:01:05.458Z"
   },
   {
    "duration": 20,
    "start_time": "2023-07-27T22:01:09.761Z"
   },
   {
    "duration": 6,
    "start_time": "2023-07-27T22:11:16.158Z"
   },
   {
    "duration": 8,
    "start_time": "2023-07-27T22:11:34.013Z"
   },
   {
    "duration": 14,
    "start_time": "2023-07-27T22:12:16.568Z"
   },
   {
    "duration": 176,
    "start_time": "2023-07-27T22:12:53.772Z"
   },
   {
    "duration": 177,
    "start_time": "2023-07-27T22:13:11.427Z"
   },
   {
    "duration": 85,
    "start_time": "2023-07-27T22:16:42.011Z"
   },
   {
    "duration": 4,
    "start_time": "2023-07-27T22:17:53.493Z"
   },
   {
    "duration": 16,
    "start_time": "2023-07-27T22:18:01.904Z"
   },
   {
    "duration": 5,
    "start_time": "2023-07-27T22:18:33.755Z"
   },
   {
    "duration": 9,
    "start_time": "2023-07-27T22:18:44.766Z"
   },
   {
    "duration": 3,
    "start_time": "2023-07-27T22:19:12.752Z"
   },
   {
    "duration": 982,
    "start_time": "2023-07-27T22:19:52.526Z"
   },
   {
    "duration": 180,
    "start_time": "2023-07-27T22:20:06.925Z"
   },
   {
    "duration": 20,
    "start_time": "2023-07-27T22:20:21.712Z"
   },
   {
    "duration": 4,
    "start_time": "2023-07-27T22:24:26.471Z"
   },
   {
    "duration": 4,
    "start_time": "2023-07-27T22:27:19.297Z"
   },
   {
    "duration": 1018,
    "start_time": "2023-07-27T22:27:32.416Z"
   },
   {
    "duration": 5,
    "start_time": "2023-07-27T22:27:50.225Z"
   },
   {
    "duration": 889,
    "start_time": "2023-07-27T22:27:54.196Z"
   },
   {
    "duration": 88,
    "start_time": "2023-07-27T22:28:02.710Z"
   },
   {
    "duration": 1077,
    "start_time": "2023-07-27T22:28:11.149Z"
   },
   {
    "duration": 4,
    "start_time": "2023-07-27T22:29:09.651Z"
   },
   {
    "duration": 1253,
    "start_time": "2023-07-27T22:29:12.060Z"
   },
   {
    "duration": 5,
    "start_time": "2023-07-27T22:29:19.506Z"
   },
   {
    "duration": 4,
    "start_time": "2023-07-27T22:29:23.600Z"
   },
   {
    "duration": 1080,
    "start_time": "2023-07-27T22:29:25.607Z"
   },
   {
    "duration": 3,
    "start_time": "2023-07-27T22:29:51.570Z"
   },
   {
    "duration": 1162,
    "start_time": "2023-07-27T22:29:54.572Z"
   },
   {
    "duration": 4,
    "start_time": "2023-07-27T22:30:01.776Z"
   },
   {
    "duration": 1212,
    "start_time": "2023-07-27T22:30:03.598Z"
   },
   {
    "duration": 3,
    "start_time": "2023-07-27T22:30:58.664Z"
   },
   {
    "duration": 1045,
    "start_time": "2023-07-27T22:31:00.517Z"
   },
   {
    "duration": 4,
    "start_time": "2023-07-27T22:31:33.690Z"
   },
   {
    "duration": 1182,
    "start_time": "2023-07-27T22:31:36.057Z"
   },
   {
    "duration": 1251,
    "start_time": "2023-07-27T22:33:34.846Z"
   },
   {
    "duration": 1079,
    "start_time": "2023-07-27T22:33:56.816Z"
   },
   {
    "duration": 1405,
    "start_time": "2023-07-27T22:34:03.626Z"
   },
   {
    "duration": 460,
    "start_time": "2023-07-27T22:34:05.034Z"
   },
   {
    "duration": 20,
    "start_time": "2023-07-27T22:34:05.496Z"
   },
   {
    "duration": 5,
    "start_time": "2023-07-27T22:34:05.519Z"
   },
   {
    "duration": 287,
    "start_time": "2023-07-27T22:34:05.525Z"
   },
   {
    "duration": 349,
    "start_time": "2023-07-27T22:34:05.813Z"
   },
   {
    "duration": 16,
    "start_time": "2023-07-27T22:34:06.164Z"
   },
   {
    "duration": 3,
    "start_time": "2023-07-27T22:34:06.182Z"
   },
   {
    "duration": 292,
    "start_time": "2023-07-27T22:34:06.186Z"
   },
   {
    "duration": 124,
    "start_time": "2023-07-27T22:34:06.480Z"
   },
   {
    "duration": 9,
    "start_time": "2023-07-27T22:34:06.605Z"
   },
   {
    "duration": 109,
    "start_time": "2023-07-27T22:34:06.616Z"
   },
   {
    "duration": 12,
    "start_time": "2023-07-27T22:34:06.727Z"
   },
   {
    "duration": 5,
    "start_time": "2023-07-27T22:34:06.741Z"
   },
   {
    "duration": 5,
    "start_time": "2023-07-27T22:34:06.747Z"
   },
   {
    "duration": 170,
    "start_time": "2023-07-27T22:34:06.753Z"
   },
   {
    "duration": 20,
    "start_time": "2023-07-27T22:34:06.925Z"
   },
   {
    "duration": 8,
    "start_time": "2023-07-27T22:34:06.946Z"
   },
   {
    "duration": 3,
    "start_time": "2023-07-27T22:34:06.974Z"
   },
   {
    "duration": 22,
    "start_time": "2023-07-27T22:34:06.978Z"
   },
   {
    "duration": 11,
    "start_time": "2023-07-27T22:34:07.001Z"
   },
   {
    "duration": 10,
    "start_time": "2023-07-27T22:34:07.013Z"
   },
   {
    "duration": 13,
    "start_time": "2023-07-27T22:34:07.024Z"
   },
   {
    "duration": 11,
    "start_time": "2023-07-27T22:34:07.038Z"
   },
   {
    "duration": 4,
    "start_time": "2023-07-27T22:34:07.050Z"
   },
   {
    "duration": 15,
    "start_time": "2023-07-27T22:34:07.056Z"
   },
   {
    "duration": 18,
    "start_time": "2023-07-27T22:34:07.074Z"
   },
   {
    "duration": 26,
    "start_time": "2023-07-27T22:34:07.095Z"
   },
   {
    "duration": 12,
    "start_time": "2023-07-27T22:34:07.123Z"
   },
   {
    "duration": 9,
    "start_time": "2023-07-27T22:34:07.137Z"
   },
   {
    "duration": 8,
    "start_time": "2023-07-27T22:34:07.148Z"
   },
   {
    "duration": 41,
    "start_time": "2023-07-27T22:34:07.157Z"
   },
   {
    "duration": 4,
    "start_time": "2023-07-27T22:34:07.200Z"
   },
   {
    "duration": 9,
    "start_time": "2023-07-27T22:34:07.206Z"
   },
   {
    "duration": 1185,
    "start_time": "2023-07-27T22:34:07.217Z"
   },
   {
    "duration": 15,
    "start_time": "2023-07-27T22:34:08.404Z"
   },
   {
    "duration": 3,
    "start_time": "2023-07-27T22:34:08.421Z"
   },
   {
    "duration": 1148,
    "start_time": "2023-07-27T22:34:08.426Z"
   },
   {
    "duration": 1386,
    "start_time": "2023-07-27T22:35:40.582Z"
   },
   {
    "duration": 253,
    "start_time": "2023-07-27T22:36:35.198Z"
   },
   {
    "duration": 334,
    "start_time": "2023-07-27T22:36:40.782Z"
   },
   {
    "duration": 540,
    "start_time": "2023-07-27T22:36:45.586Z"
   },
   {
    "duration": 6,
    "start_time": "2023-07-27T22:41:49.447Z"
   },
   {
    "duration": 11,
    "start_time": "2023-07-27T22:42:26.722Z"
   },
   {
    "duration": 32,
    "start_time": "2023-07-27T22:42:32.313Z"
   },
   {
    "duration": 11,
    "start_time": "2023-07-27T22:42:52.244Z"
   },
   {
    "duration": 13,
    "start_time": "2023-07-27T22:43:01.293Z"
   },
   {
    "duration": 11,
    "start_time": "2023-07-27T22:43:41.049Z"
   },
   {
    "duration": 3,
    "start_time": "2023-07-27T22:43:47.502Z"
   },
   {
    "duration": 11,
    "start_time": "2023-07-27T22:44:08.738Z"
   },
   {
    "duration": 13,
    "start_time": "2023-07-27T22:44:58.737Z"
   },
   {
    "duration": 16,
    "start_time": "2023-07-27T22:46:22.439Z"
   },
   {
    "duration": 11,
    "start_time": "2023-07-27T22:47:42.394Z"
   },
   {
    "duration": 7,
    "start_time": "2023-07-27T22:48:05.653Z"
   },
   {
    "duration": 11,
    "start_time": "2023-07-27T22:48:14.601Z"
   },
   {
    "duration": 16,
    "start_time": "2023-07-27T22:48:23.544Z"
   },
   {
    "duration": 7,
    "start_time": "2023-07-27T22:49:11.785Z"
   },
   {
    "duration": 206,
    "start_time": "2023-07-27T22:49:25.574Z"
   },
   {
    "duration": 4,
    "start_time": "2023-07-27T22:50:44.720Z"
   },
   {
    "duration": 1147,
    "start_time": "2023-07-27T22:51:05.084Z"
   },
   {
    "duration": 32,
    "start_time": "2023-07-27T22:59:01.237Z"
   },
   {
    "duration": 26,
    "start_time": "2023-07-27T22:59:08.240Z"
   },
   {
    "duration": 9,
    "start_time": "2023-07-27T23:01:57.719Z"
   },
   {
    "duration": 9,
    "start_time": "2023-07-27T23:02:14.535Z"
   },
   {
    "duration": 10,
    "start_time": "2023-07-27T23:07:21.095Z"
   },
   {
    "duration": 110,
    "start_time": "2023-07-27T23:07:45.734Z"
   },
   {
    "duration": 126,
    "start_time": "2023-07-27T23:13:15.588Z"
   },
   {
    "duration": 31,
    "start_time": "2023-07-27T23:14:50.313Z"
   },
   {
    "duration": 17,
    "start_time": "2023-07-27T23:15:34.621Z"
   },
   {
    "duration": 35,
    "start_time": "2023-07-27T23:15:49.755Z"
   },
   {
    "duration": 148,
    "start_time": "2023-07-27T23:16:07.745Z"
   },
   {
    "duration": 293,
    "start_time": "2023-07-27T23:23:26.325Z"
   },
   {
    "duration": 206,
    "start_time": "2023-07-27T23:23:34.256Z"
   },
   {
    "duration": 199,
    "start_time": "2023-07-27T23:23:39.983Z"
   },
   {
    "duration": 201,
    "start_time": "2023-07-27T23:23:48.120Z"
   },
   {
    "duration": 200,
    "start_time": "2023-07-27T23:23:52.618Z"
   },
   {
    "duration": 198,
    "start_time": "2023-07-27T23:26:32.382Z"
   },
   {
    "duration": 184,
    "start_time": "2023-07-27T23:26:45.257Z"
   },
   {
    "duration": 190,
    "start_time": "2023-07-27T23:26:52.373Z"
   },
   {
    "duration": 178,
    "start_time": "2023-07-27T23:31:02.422Z"
   },
   {
    "duration": 185,
    "start_time": "2023-07-27T23:31:35.491Z"
   },
   {
    "duration": 194,
    "start_time": "2023-07-27T23:31:42.918Z"
   },
   {
    "duration": 340,
    "start_time": "2023-07-27T23:32:29.823Z"
   },
   {
    "duration": 183,
    "start_time": "2023-07-27T23:32:43.518Z"
   },
   {
    "duration": 170,
    "start_time": "2023-07-27T23:32:47.581Z"
   },
   {
    "duration": 678,
    "start_time": "2023-07-27T23:33:17.743Z"
   },
   {
    "duration": 792,
    "start_time": "2023-07-27T23:33:26.074Z"
   },
   {
    "duration": 681,
    "start_time": "2023-07-27T23:33:34.611Z"
   },
   {
    "duration": 828,
    "start_time": "2023-07-27T23:34:06.706Z"
   },
   {
    "duration": 708,
    "start_time": "2023-07-27T23:34:16.982Z"
   },
   {
    "duration": 871,
    "start_time": "2023-07-27T23:34:25.228Z"
   },
   {
    "duration": 889,
    "start_time": "2023-07-27T23:34:32.696Z"
   },
   {
    "duration": 690,
    "start_time": "2023-07-27T23:34:40.564Z"
   },
   {
    "duration": 861,
    "start_time": "2023-07-27T23:35:08.519Z"
   },
   {
    "duration": 656,
    "start_time": "2023-07-27T23:35:19.019Z"
   },
   {
    "duration": 185,
    "start_time": "2023-07-27T23:35:33.029Z"
   },
   {
    "duration": 198,
    "start_time": "2023-07-27T23:35:58.128Z"
   },
   {
    "duration": 50,
    "start_time": "2023-07-27T23:36:26.789Z"
   },
   {
    "duration": 164,
    "start_time": "2023-07-27T23:38:19.290Z"
   },
   {
    "duration": 180,
    "start_time": "2023-07-27T23:38:27.904Z"
   },
   {
    "duration": 382,
    "start_time": "2023-07-27T23:38:35.875Z"
   },
   {
    "duration": 184,
    "start_time": "2023-07-27T23:38:46.393Z"
   },
   {
    "duration": 179,
    "start_time": "2023-07-27T23:39:59.741Z"
   },
   {
    "duration": 188,
    "start_time": "2023-07-27T23:40:09.234Z"
   },
   {
    "duration": 169,
    "start_time": "2023-07-27T23:40:49.017Z"
   },
   {
    "duration": 213,
    "start_time": "2023-07-27T23:41:14.356Z"
   },
   {
    "duration": 260,
    "start_time": "2023-07-27T23:41:42.237Z"
   },
   {
    "duration": 165,
    "start_time": "2023-07-27T23:41:49.463Z"
   },
   {
    "duration": 847,
    "start_time": "2023-07-27T23:43:01.255Z"
   },
   {
    "duration": 688,
    "start_time": "2023-07-27T23:43:13.092Z"
   },
   {
    "duration": 851,
    "start_time": "2023-07-27T23:43:18.481Z"
   },
   {
    "duration": 678,
    "start_time": "2023-07-27T23:43:47.227Z"
   },
   {
    "duration": 868,
    "start_time": "2023-07-27T23:43:58.408Z"
   },
   {
    "duration": 651,
    "start_time": "2023-07-27T23:44:08.936Z"
   },
   {
    "duration": 881,
    "start_time": "2023-07-27T23:44:14.303Z"
   },
   {
    "duration": 16,
    "start_time": "2023-07-27T23:45:32.778Z"
   },
   {
    "duration": 5,
    "start_time": "2023-07-27T23:45:36.855Z"
   },
   {
    "duration": 6,
    "start_time": "2023-07-27T23:45:49.173Z"
   },
   {
    "duration": 126,
    "start_time": "2023-07-27T23:46:29.339Z"
   },
   {
    "duration": 5,
    "start_time": "2023-07-27T23:50:08.774Z"
   },
   {
    "duration": 1737,
    "start_time": "2023-07-28T13:28:42.690Z"
   },
   {
    "duration": 1803,
    "start_time": "2023-07-28T13:28:44.429Z"
   },
   {
    "duration": 20,
    "start_time": "2023-07-28T13:28:46.235Z"
   },
   {
    "duration": 5,
    "start_time": "2023-07-28T13:28:46.258Z"
   },
   {
    "duration": 279,
    "start_time": "2023-07-28T13:28:46.265Z"
   },
   {
    "duration": 1403,
    "start_time": "2023-07-28T13:28:46.546Z"
   },
   {
    "duration": 21,
    "start_time": "2023-07-28T13:28:47.951Z"
   },
   {
    "duration": 5,
    "start_time": "2023-07-28T13:28:47.975Z"
   },
   {
    "duration": 271,
    "start_time": "2023-07-28T13:28:47.981Z"
   },
   {
    "duration": 131,
    "start_time": "2023-07-28T13:28:48.255Z"
   },
   {
    "duration": 9,
    "start_time": "2023-07-28T13:28:48.388Z"
   },
   {
    "duration": 405,
    "start_time": "2023-07-28T13:28:48.398Z"
   },
   {
    "duration": 14,
    "start_time": "2023-07-28T13:28:48.805Z"
   },
   {
    "duration": 5,
    "start_time": "2023-07-28T13:28:48.822Z"
   },
   {
    "duration": 13,
    "start_time": "2023-07-28T13:28:48.829Z"
   },
   {
    "duration": 153,
    "start_time": "2023-07-28T13:28:48.844Z"
   },
   {
    "duration": 21,
    "start_time": "2023-07-28T13:28:48.999Z"
   },
   {
    "duration": 8,
    "start_time": "2023-07-28T13:28:49.022Z"
   },
   {
    "duration": 22,
    "start_time": "2023-07-28T13:28:49.032Z"
   },
   {
    "duration": 17,
    "start_time": "2023-07-28T13:28:49.058Z"
   },
   {
    "duration": 9,
    "start_time": "2023-07-28T13:28:49.077Z"
   },
   {
    "duration": 11,
    "start_time": "2023-07-28T13:28:49.088Z"
   },
   {
    "duration": 10,
    "start_time": "2023-07-28T13:28:49.100Z"
   },
   {
    "duration": 17,
    "start_time": "2023-07-28T13:28:49.112Z"
   },
   {
    "duration": 5,
    "start_time": "2023-07-28T13:28:49.131Z"
   },
   {
    "duration": 22,
    "start_time": "2023-07-28T13:28:49.138Z"
   },
   {
    "duration": 23,
    "start_time": "2023-07-28T13:28:49.163Z"
   },
   {
    "duration": 5,
    "start_time": "2023-07-28T13:28:49.190Z"
   },
   {
    "duration": 25,
    "start_time": "2023-07-28T13:28:49.197Z"
   },
   {
    "duration": 10,
    "start_time": "2023-07-28T13:28:49.223Z"
   },
   {
    "duration": 18,
    "start_time": "2023-07-28T13:28:49.235Z"
   },
   {
    "duration": 12,
    "start_time": "2023-07-28T13:28:49.258Z"
   },
   {
    "duration": 9,
    "start_time": "2023-07-28T13:28:49.274Z"
   },
   {
    "duration": 28,
    "start_time": "2023-07-28T13:28:49.285Z"
   },
   {
    "duration": 1315,
    "start_time": "2023-07-28T13:28:49.315Z"
   },
   {
    "duration": 29,
    "start_time": "2023-07-28T13:28:50.632Z"
   },
   {
    "duration": 5,
    "start_time": "2023-07-28T13:28:50.662Z"
   },
   {
    "duration": 1217,
    "start_time": "2023-07-28T13:28:50.669Z"
   },
   {
    "duration": 13,
    "start_time": "2023-07-28T13:28:51.888Z"
   },
   {
    "duration": 14,
    "start_time": "2023-07-28T13:28:51.903Z"
   },
   {
    "duration": 9,
    "start_time": "2023-07-28T13:28:51.920Z"
   },
   {
    "duration": 1452,
    "start_time": "2023-07-28T13:28:51.932Z"
   },
   {
    "duration": 8,
    "start_time": "2023-07-28T13:28:53.387Z"
   },
   {
    "duration": 30,
    "start_time": "2023-07-28T13:28:53.397Z"
   },
   {
    "duration": 15,
    "start_time": "2023-07-28T13:28:53.429Z"
   },
   {
    "duration": 20,
    "start_time": "2023-07-28T13:28:53.446Z"
   },
   {
    "duration": 208,
    "start_time": "2023-07-28T13:28:53.468Z"
   },
   {
    "duration": 87,
    "start_time": "2023-07-28T13:28:53.678Z"
   },
   {
    "duration": 5,
    "start_time": "2023-07-28T13:35:40.599Z"
   },
   {
    "duration": 14,
    "start_time": "2023-07-28T13:35:45.818Z"
   },
   {
    "duration": 4,
    "start_time": "2023-07-28T13:37:06.198Z"
   },
   {
    "duration": 21,
    "start_time": "2023-07-28T13:37:56.066Z"
   },
   {
    "duration": 110,
    "start_time": "2023-07-28T13:39:11.530Z"
   },
   {
    "duration": 14,
    "start_time": "2023-07-28T13:39:19.839Z"
   },
   {
    "duration": 4,
    "start_time": "2023-07-28T13:40:02.002Z"
   },
   {
    "duration": 6,
    "start_time": "2023-07-28T13:40:04.090Z"
   },
   {
    "duration": 892,
    "start_time": "2023-07-28T13:41:58.910Z"
   },
   {
    "duration": 4,
    "start_time": "2023-07-28T13:42:09.294Z"
   },
   {
    "duration": 4,
    "start_time": "2023-07-28T13:43:04.822Z"
   },
   {
    "duration": 1034,
    "start_time": "2023-07-28T13:44:56.549Z"
   },
   {
    "duration": 9,
    "start_time": "2023-07-28T13:45:41.818Z"
   },
   {
    "duration": 409,
    "start_time": "2023-07-28T13:45:44.494Z"
   },
   {
    "duration": 340,
    "start_time": "2023-07-28T13:45:53.898Z"
   },
   {
    "duration": 661,
    "start_time": "2023-07-28T13:46:35.241Z"
   },
   {
    "duration": 935,
    "start_time": "2023-07-28T13:46:57.018Z"
   },
   {
    "duration": 234,
    "start_time": "2023-07-28T13:47:22.242Z"
   },
   {
    "duration": 16,
    "start_time": "2023-07-28T13:47:36.806Z"
   },
   {
    "duration": 208,
    "start_time": "2023-07-28T13:47:42.080Z"
   },
   {
    "duration": 815,
    "start_time": "2023-07-28T13:48:07.298Z"
   },
   {
    "duration": 996,
    "start_time": "2023-07-28T13:48:19.072Z"
   },
   {
    "duration": 305,
    "start_time": "2023-07-28T13:48:40.402Z"
   },
   {
    "duration": 307,
    "start_time": "2023-07-28T13:48:43.758Z"
   },
   {
    "duration": 487,
    "start_time": "2023-07-28T13:51:21.227Z"
   },
   {
    "duration": 7,
    "start_time": "2023-07-28T13:52:08.460Z"
   },
   {
    "duration": 4,
    "start_time": "2023-07-28T13:52:19.431Z"
   },
   {
    "duration": 386,
    "start_time": "2023-07-28T13:53:41.006Z"
   },
   {
    "duration": 393,
    "start_time": "2023-07-28T13:53:58.060Z"
   },
   {
    "duration": 370,
    "start_time": "2023-07-28T13:54:10.793Z"
   },
   {
    "duration": 1039,
    "start_time": "2023-07-28T13:55:41.205Z"
   },
   {
    "duration": 911,
    "start_time": "2023-07-28T13:56:26.606Z"
   },
   {
    "duration": 1071,
    "start_time": "2023-07-28T13:56:38.510Z"
   },
   {
    "duration": 934,
    "start_time": "2023-07-28T13:57:03.114Z"
   },
   {
    "duration": 1484,
    "start_time": "2023-07-28T13:57:55.131Z"
   },
   {
    "duration": 417,
    "start_time": "2023-07-28T13:57:56.617Z"
   },
   {
    "duration": 36,
    "start_time": "2023-07-28T13:57:57.036Z"
   },
   {
    "duration": 4,
    "start_time": "2023-07-28T13:57:57.075Z"
   },
   {
    "duration": 264,
    "start_time": "2023-07-28T13:57:57.081Z"
   },
   {
    "duration": 326,
    "start_time": "2023-07-28T13:57:57.347Z"
   },
   {
    "duration": 18,
    "start_time": "2023-07-28T13:57:57.675Z"
   },
   {
    "duration": 6,
    "start_time": "2023-07-28T13:57:57.694Z"
   },
   {
    "duration": 259,
    "start_time": "2023-07-28T13:57:57.701Z"
   },
   {
    "duration": 141,
    "start_time": "2023-07-28T13:57:57.965Z"
   },
   {
    "duration": 11,
    "start_time": "2023-07-28T13:57:58.109Z"
   },
   {
    "duration": 115,
    "start_time": "2023-07-28T13:57:58.123Z"
   },
   {
    "duration": 23,
    "start_time": "2023-07-28T13:57:58.239Z"
   },
   {
    "duration": 4,
    "start_time": "2023-07-28T13:57:58.264Z"
   },
   {
    "duration": 22,
    "start_time": "2023-07-28T13:57:58.269Z"
   },
   {
    "duration": 169,
    "start_time": "2023-07-28T13:57:58.293Z"
   },
   {
    "duration": 22,
    "start_time": "2023-07-28T13:57:58.464Z"
   },
   {
    "duration": 7,
    "start_time": "2023-07-28T13:57:58.487Z"
   },
   {
    "duration": 14,
    "start_time": "2023-07-28T13:57:58.496Z"
   },
   {
    "duration": 16,
    "start_time": "2023-07-28T13:57:58.512Z"
   },
   {
    "duration": 10,
    "start_time": "2023-07-28T13:57:58.530Z"
   },
   {
    "duration": 36,
    "start_time": "2023-07-28T13:57:58.542Z"
   },
   {
    "duration": 23,
    "start_time": "2023-07-28T13:57:58.579Z"
   },
   {
    "duration": 29,
    "start_time": "2023-07-28T13:57:58.604Z"
   },
   {
    "duration": 9,
    "start_time": "2023-07-28T13:57:58.635Z"
   },
   {
    "duration": 4,
    "start_time": "2023-07-28T13:57:58.645Z"
   },
   {
    "duration": 31,
    "start_time": "2023-07-28T13:57:58.651Z"
   },
   {
    "duration": 17,
    "start_time": "2023-07-28T13:57:58.685Z"
   },
   {
    "duration": 13,
    "start_time": "2023-07-28T13:57:58.704Z"
   },
   {
    "duration": 30,
    "start_time": "2023-07-28T13:57:58.719Z"
   },
   {
    "duration": 21,
    "start_time": "2023-07-28T13:57:58.750Z"
   },
   {
    "duration": 22,
    "start_time": "2023-07-28T13:57:58.775Z"
   },
   {
    "duration": 24,
    "start_time": "2023-07-28T13:57:58.799Z"
   },
   {
    "duration": 30,
    "start_time": "2023-07-28T13:57:58.825Z"
   },
   {
    "duration": 1282,
    "start_time": "2023-07-28T13:57:58.857Z"
   },
   {
    "duration": 31,
    "start_time": "2023-07-28T13:58:00.141Z"
   },
   {
    "duration": 6,
    "start_time": "2023-07-28T13:58:00.174Z"
   },
   {
    "duration": 1262,
    "start_time": "2023-07-28T13:58:00.182Z"
   },
   {
    "duration": 31,
    "start_time": "2023-07-28T13:58:01.446Z"
   },
   {
    "duration": 66,
    "start_time": "2023-07-28T13:58:01.479Z"
   },
   {
    "duration": 35,
    "start_time": "2023-07-28T13:58:01.548Z"
   },
   {
    "duration": 1425,
    "start_time": "2023-07-28T13:58:01.585Z"
   },
   {
    "duration": 8,
    "start_time": "2023-07-28T13:58:03.012Z"
   },
   {
    "duration": 23,
    "start_time": "2023-07-28T13:58:03.021Z"
   },
   {
    "duration": 18,
    "start_time": "2023-07-28T13:58:03.046Z"
   },
   {
    "duration": 16,
    "start_time": "2023-07-28T13:58:03.068Z"
   },
   {
    "duration": 220,
    "start_time": "2023-07-28T13:58:03.086Z"
   },
   {
    "duration": 947,
    "start_time": "2023-07-28T13:58:03.307Z"
   },
   {
    "duration": 13,
    "start_time": "2023-07-28T13:58:04.256Z"
   },
   {
    "duration": 883,
    "start_time": "2023-07-28T13:58:04.271Z"
   },
   {
    "duration": 587,
    "start_time": "2023-07-28T14:00:07.422Z"
   },
   {
    "duration": 353,
    "start_time": "2023-07-28T14:01:26.572Z"
   },
   {
    "duration": 362,
    "start_time": "2023-07-28T14:01:50.410Z"
   },
   {
    "duration": 18,
    "start_time": "2023-07-28T14:02:00.808Z"
   },
   {
    "duration": 376,
    "start_time": "2023-07-28T14:02:09.405Z"
   },
   {
    "duration": 366,
    "start_time": "2023-07-28T14:02:21.157Z"
   },
   {
    "duration": 396,
    "start_time": "2023-07-28T14:02:31.015Z"
   },
   {
    "duration": 1001,
    "start_time": "2023-07-28T14:05:17.490Z"
   },
   {
    "duration": 394,
    "start_time": "2023-07-28T14:05:23.799Z"
   },
   {
    "duration": 4,
    "start_time": "2023-07-28T14:28:55.508Z"
   },
   {
    "duration": 16,
    "start_time": "2023-07-28T14:35:39.710Z"
   },
   {
    "duration": 14,
    "start_time": "2023-07-28T14:35:49.244Z"
   },
   {
    "duration": 23,
    "start_time": "2023-07-28T14:35:56.661Z"
   },
   {
    "duration": 1471,
    "start_time": "2023-07-28T14:36:42.206Z"
   },
   {
    "duration": 448,
    "start_time": "2023-07-28T14:36:43.680Z"
   },
   {
    "duration": 32,
    "start_time": "2023-07-28T14:36:44.130Z"
   },
   {
    "duration": 5,
    "start_time": "2023-07-28T14:36:44.166Z"
   },
   {
    "duration": 370,
    "start_time": "2023-07-28T14:36:44.174Z"
   },
   {
    "duration": 341,
    "start_time": "2023-07-28T14:36:44.545Z"
   },
   {
    "duration": 17,
    "start_time": "2023-07-28T14:36:44.888Z"
   },
   {
    "duration": 4,
    "start_time": "2023-07-28T14:36:44.907Z"
   },
   {
    "duration": 286,
    "start_time": "2023-07-28T14:36:44.913Z"
   },
   {
    "duration": 148,
    "start_time": "2023-07-28T14:36:45.202Z"
   },
   {
    "duration": 12,
    "start_time": "2023-07-28T14:36:45.352Z"
   },
   {
    "duration": 121,
    "start_time": "2023-07-28T14:36:45.366Z"
   },
   {
    "duration": 14,
    "start_time": "2023-07-28T14:36:45.488Z"
   },
   {
    "duration": 14,
    "start_time": "2023-07-28T14:36:45.503Z"
   },
   {
    "duration": 9,
    "start_time": "2023-07-28T14:36:45.519Z"
   },
   {
    "duration": 161,
    "start_time": "2023-07-28T14:36:45.530Z"
   },
   {
    "duration": 20,
    "start_time": "2023-07-28T14:36:45.693Z"
   },
   {
    "duration": 7,
    "start_time": "2023-07-28T14:36:45.715Z"
   },
   {
    "duration": 28,
    "start_time": "2023-07-28T14:36:45.724Z"
   },
   {
    "duration": 28,
    "start_time": "2023-07-28T14:36:45.754Z"
   },
   {
    "duration": 7,
    "start_time": "2023-07-28T14:36:45.784Z"
   },
   {
    "duration": 11,
    "start_time": "2023-07-28T14:36:45.792Z"
   },
   {
    "duration": 21,
    "start_time": "2023-07-28T14:36:45.805Z"
   },
   {
    "duration": 18,
    "start_time": "2023-07-28T14:36:45.828Z"
   },
   {
    "duration": 5,
    "start_time": "2023-07-28T14:36:45.848Z"
   },
   {
    "duration": 21,
    "start_time": "2023-07-28T14:36:45.855Z"
   },
   {
    "duration": 30,
    "start_time": "2023-07-28T14:36:45.878Z"
   },
   {
    "duration": 5,
    "start_time": "2023-07-28T14:36:45.912Z"
   },
   {
    "duration": 20,
    "start_time": "2023-07-28T14:36:45.918Z"
   },
   {
    "duration": 11,
    "start_time": "2023-07-28T14:36:45.939Z"
   },
   {
    "duration": 25,
    "start_time": "2023-07-28T14:36:45.952Z"
   },
   {
    "duration": 17,
    "start_time": "2023-07-28T14:36:45.978Z"
   },
   {
    "duration": 7,
    "start_time": "2023-07-28T14:36:45.998Z"
   },
   {
    "duration": 31,
    "start_time": "2023-07-28T14:36:46.006Z"
   },
   {
    "duration": 1362,
    "start_time": "2023-07-28T14:36:46.040Z"
   },
   {
    "duration": 16,
    "start_time": "2023-07-28T14:36:47.405Z"
   },
   {
    "duration": 25,
    "start_time": "2023-07-28T14:36:47.423Z"
   },
   {
    "duration": 1214,
    "start_time": "2023-07-28T14:36:47.450Z"
   },
   {
    "duration": 16,
    "start_time": "2023-07-28T14:36:48.666Z"
   },
   {
    "duration": 12,
    "start_time": "2023-07-28T14:36:48.684Z"
   },
   {
    "duration": 13,
    "start_time": "2023-07-28T14:36:48.698Z"
   },
   {
    "duration": 1348,
    "start_time": "2023-07-28T14:36:48.712Z"
   },
   {
    "duration": 12,
    "start_time": "2023-07-28T14:36:50.061Z"
   },
   {
    "duration": 16,
    "start_time": "2023-07-28T14:36:50.075Z"
   },
   {
    "duration": 14,
    "start_time": "2023-07-28T14:36:50.093Z"
   },
   {
    "duration": 6,
    "start_time": "2023-07-28T14:36:50.109Z"
   },
   {
    "duration": 234,
    "start_time": "2023-07-28T14:36:50.117Z"
   },
   {
    "duration": 900,
    "start_time": "2023-07-28T14:36:50.352Z"
   },
   {
    "duration": 16,
    "start_time": "2023-07-28T14:36:51.254Z"
   },
   {
    "duration": 953,
    "start_time": "2023-07-28T14:36:51.272Z"
   },
   {
    "duration": 502,
    "start_time": "2023-07-28T14:36:52.226Z"
   },
   {
    "duration": 4,
    "start_time": "2023-07-28T14:36:52.730Z"
   },
   {
    "duration": 31,
    "start_time": "2023-07-28T14:36:52.736Z"
   },
   {
    "duration": 34,
    "start_time": "2023-07-28T14:36:52.769Z"
   },
   {
    "duration": 5,
    "start_time": "2023-07-28T14:47:03.649Z"
   },
   {
    "duration": 9,
    "start_time": "2023-07-28T14:49:32.055Z"
   },
   {
    "duration": 16,
    "start_time": "2023-07-28T14:49:51.106Z"
   },
   {
    "duration": 1379,
    "start_time": "2023-07-28T14:49:56.303Z"
   },
   {
    "duration": 422,
    "start_time": "2023-07-28T14:49:57.684Z"
   },
   {
    "duration": 20,
    "start_time": "2023-07-28T14:49:58.107Z"
   },
   {
    "duration": 5,
    "start_time": "2023-07-28T14:49:58.128Z"
   },
   {
    "duration": 277,
    "start_time": "2023-07-28T14:49:58.135Z"
   },
   {
    "duration": 304,
    "start_time": "2023-07-28T14:49:58.414Z"
   },
   {
    "duration": 17,
    "start_time": "2023-07-28T14:49:58.720Z"
   },
   {
    "duration": 4,
    "start_time": "2023-07-28T14:49:58.739Z"
   },
   {
    "duration": 238,
    "start_time": "2023-07-28T14:49:58.759Z"
   },
   {
    "duration": 129,
    "start_time": "2023-07-28T14:49:58.999Z"
   },
   {
    "duration": 10,
    "start_time": "2023-07-28T14:49:59.130Z"
   },
   {
    "duration": 108,
    "start_time": "2023-07-28T14:49:59.141Z"
   },
   {
    "duration": 17,
    "start_time": "2023-07-28T14:49:59.250Z"
   },
   {
    "duration": 10,
    "start_time": "2023-07-28T14:49:59.270Z"
   },
   {
    "duration": 5,
    "start_time": "2023-07-28T14:49:59.282Z"
   },
   {
    "duration": 144,
    "start_time": "2023-07-28T14:49:59.288Z"
   },
   {
    "duration": 29,
    "start_time": "2023-07-28T14:49:59.434Z"
   },
   {
    "duration": 9,
    "start_time": "2023-07-28T14:49:59.465Z"
   },
   {
    "duration": 8,
    "start_time": "2023-07-28T14:49:59.476Z"
   },
   {
    "duration": 28,
    "start_time": "2023-07-28T14:49:59.486Z"
   },
   {
    "duration": 19,
    "start_time": "2023-07-28T14:49:59.517Z"
   },
   {
    "duration": 13,
    "start_time": "2023-07-28T14:49:59.538Z"
   },
   {
    "duration": 20,
    "start_time": "2023-07-28T14:49:59.553Z"
   },
   {
    "duration": 13,
    "start_time": "2023-07-28T14:49:59.575Z"
   },
   {
    "duration": 6,
    "start_time": "2023-07-28T14:49:59.590Z"
   },
   {
    "duration": 12,
    "start_time": "2023-07-28T14:49:59.598Z"
   },
   {
    "duration": 29,
    "start_time": "2023-07-28T14:49:59.611Z"
   },
   {
    "duration": 9,
    "start_time": "2023-07-28T14:49:59.642Z"
   },
   {
    "duration": 16,
    "start_time": "2023-07-28T14:49:59.653Z"
   },
   {
    "duration": 11,
    "start_time": "2023-07-28T14:49:59.671Z"
   },
   {
    "duration": 10,
    "start_time": "2023-07-28T14:49:59.684Z"
   },
   {
    "duration": 7,
    "start_time": "2023-07-28T14:49:59.696Z"
   },
   {
    "duration": 9,
    "start_time": "2023-07-28T14:49:59.705Z"
   },
   {
    "duration": 8,
    "start_time": "2023-07-28T14:49:59.716Z"
   },
   {
    "duration": 1378,
    "start_time": "2023-07-28T14:49:59.726Z"
   },
   {
    "duration": 20,
    "start_time": "2023-07-28T14:50:01.106Z"
   },
   {
    "duration": 23,
    "start_time": "2023-07-28T14:50:01.128Z"
   },
   {
    "duration": 1261,
    "start_time": "2023-07-28T14:50:01.153Z"
   },
   {
    "duration": 15,
    "start_time": "2023-07-28T14:50:02.416Z"
   },
   {
    "duration": 40,
    "start_time": "2023-07-28T14:50:02.433Z"
   },
   {
    "duration": 43,
    "start_time": "2023-07-28T14:50:02.478Z"
   },
   {
    "duration": 1373,
    "start_time": "2023-07-28T14:50:02.524Z"
   },
   {
    "duration": 8,
    "start_time": "2023-07-28T14:50:03.899Z"
   },
   {
    "duration": 9,
    "start_time": "2023-07-28T14:50:03.908Z"
   },
   {
    "duration": 12,
    "start_time": "2023-07-28T14:50:03.918Z"
   },
   {
    "duration": 13,
    "start_time": "2023-07-28T14:50:03.931Z"
   },
   {
    "duration": 272,
    "start_time": "2023-07-28T14:50:03.960Z"
   },
   {
    "duration": 931,
    "start_time": "2023-07-28T14:50:04.236Z"
   },
   {
    "duration": 10,
    "start_time": "2023-07-28T14:50:05.169Z"
   },
   {
    "duration": 948,
    "start_time": "2023-07-28T14:50:05.181Z"
   },
   {
    "duration": 519,
    "start_time": "2023-07-28T14:50:06.132Z"
   },
   {
    "duration": 7,
    "start_time": "2023-07-28T14:50:06.653Z"
   },
   {
    "duration": 23,
    "start_time": "2023-07-28T14:50:06.662Z"
   },
   {
    "duration": 120,
    "start_time": "2023-07-28T14:50:06.687Z"
   },
   {
    "duration": 6,
    "start_time": "2023-07-28T14:50:33.402Z"
   },
   {
    "duration": 16,
    "start_time": "2023-07-28T14:50:47.166Z"
   },
   {
    "duration": 53,
    "start_time": "2023-07-28T14:53:38.475Z"
   },
   {
    "duration": 6,
    "start_time": "2023-07-28T14:55:05.237Z"
   },
   {
    "duration": 10,
    "start_time": "2023-07-28T14:55:42.142Z"
   },
   {
    "duration": 4,
    "start_time": "2023-07-28T15:01:41.460Z"
   },
   {
    "duration": 4,
    "start_time": "2023-07-28T15:10:05.905Z"
   },
   {
    "duration": 17,
    "start_time": "2023-07-28T15:11:13.252Z"
   },
   {
    "duration": 10,
    "start_time": "2023-07-28T15:11:19.297Z"
   },
   {
    "duration": 24,
    "start_time": "2023-07-28T15:11:21.130Z"
   },
   {
    "duration": 82,
    "start_time": "2023-07-28T15:11:53.105Z"
   },
   {
    "duration": 3,
    "start_time": "2023-07-28T15:12:54.120Z"
   },
   {
    "duration": 3,
    "start_time": "2023-07-28T15:20:21.355Z"
   },
   {
    "duration": 97,
    "start_time": "2023-07-28T15:31:46.669Z"
   },
   {
    "duration": 54,
    "start_time": "2023-07-28T15:32:05.813Z"
   },
   {
    "duration": 118,
    "start_time": "2023-07-28T15:32:56.950Z"
   },
   {
    "duration": 41,
    "start_time": "2023-07-28T15:33:08.327Z"
   },
   {
    "duration": 112,
    "start_time": "2023-07-28T15:33:38.954Z"
   },
   {
    "duration": 401,
    "start_time": "2023-07-28T15:33:46.517Z"
   },
   {
    "duration": 88,
    "start_time": "2023-07-28T15:34:02.882Z"
   },
   {
    "duration": 301,
    "start_time": "2023-07-28T15:34:10.263Z"
   },
   {
    "duration": 41,
    "start_time": "2023-07-28T15:34:16.820Z"
   },
   {
    "duration": 122,
    "start_time": "2023-07-28T15:34:28.344Z"
   },
   {
    "duration": 146,
    "start_time": "2023-07-28T15:35:10.020Z"
   },
   {
    "duration": 189,
    "start_time": "2023-07-28T15:36:06.672Z"
   },
   {
    "duration": 195,
    "start_time": "2023-07-28T15:36:16.768Z"
   },
   {
    "duration": 727,
    "start_time": "2023-07-28T15:39:14.598Z"
   },
   {
    "duration": 666,
    "start_time": "2023-07-28T15:40:11.791Z"
   },
   {
    "duration": 9,
    "start_time": "2023-07-28T15:40:20.738Z"
   },
   {
    "duration": 96,
    "start_time": "2023-07-28T15:40:50.771Z"
   },
   {
    "duration": 271,
    "start_time": "2023-07-28T15:41:26.489Z"
   },
   {
    "duration": 199,
    "start_time": "2023-07-28T15:41:33.570Z"
   },
   {
    "duration": 176,
    "start_time": "2023-07-28T15:41:36.992Z"
   },
   {
    "duration": 5,
    "start_time": "2023-07-28T15:47:55.351Z"
   },
   {
    "duration": 5,
    "start_time": "2023-07-28T15:48:56.546Z"
   },
   {
    "duration": 1747,
    "start_time": "2023-07-28T15:50:33.711Z"
   },
   {
    "duration": 1714,
    "start_time": "2023-07-28T18:39:29.414Z"
   },
   {
    "duration": 1327,
    "start_time": "2023-07-28T18:39:31.131Z"
   },
   {
    "duration": 27,
    "start_time": "2023-07-28T18:39:32.460Z"
   },
   {
    "duration": 12,
    "start_time": "2023-07-28T18:39:32.491Z"
   },
   {
    "duration": 326,
    "start_time": "2023-07-28T18:39:32.505Z"
   },
   {
    "duration": 990,
    "start_time": "2023-07-28T18:39:32.833Z"
   },
   {
    "duration": 18,
    "start_time": "2023-07-28T18:39:33.824Z"
   },
   {
    "duration": 4,
    "start_time": "2023-07-28T18:39:33.844Z"
   },
   {
    "duration": 253,
    "start_time": "2023-07-28T18:39:33.850Z"
   },
   {
    "duration": 135,
    "start_time": "2023-07-28T18:39:34.105Z"
   },
   {
    "duration": 9,
    "start_time": "2023-07-28T18:39:34.242Z"
   },
   {
    "duration": 198,
    "start_time": "2023-07-28T18:39:34.253Z"
   },
   {
    "duration": 14,
    "start_time": "2023-07-28T18:39:34.453Z"
   },
   {
    "duration": 24,
    "start_time": "2023-07-28T18:39:34.471Z"
   },
   {
    "duration": 8,
    "start_time": "2023-07-28T18:39:34.496Z"
   },
   {
    "duration": 146,
    "start_time": "2023-07-28T18:39:34.506Z"
   },
   {
    "duration": 28,
    "start_time": "2023-07-28T18:39:34.654Z"
   },
   {
    "duration": 23,
    "start_time": "2023-07-28T18:39:34.687Z"
   },
   {
    "duration": 5,
    "start_time": "2023-07-28T18:39:34.712Z"
   },
   {
    "duration": 14,
    "start_time": "2023-07-28T18:39:34.719Z"
   },
   {
    "duration": 13,
    "start_time": "2023-07-28T18:39:34.734Z"
   },
   {
    "duration": 10,
    "start_time": "2023-07-28T18:39:34.749Z"
   },
   {
    "duration": 28,
    "start_time": "2023-07-28T18:39:34.761Z"
   },
   {
    "duration": 27,
    "start_time": "2023-07-28T18:39:34.792Z"
   },
   {
    "duration": 10,
    "start_time": "2023-07-28T18:39:34.820Z"
   },
   {
    "duration": 18,
    "start_time": "2023-07-28T18:39:34.832Z"
   },
   {
    "duration": 24,
    "start_time": "2023-07-28T18:39:34.852Z"
   },
   {
    "duration": 21,
    "start_time": "2023-07-28T18:39:34.878Z"
   },
   {
    "duration": 25,
    "start_time": "2023-07-28T18:39:34.900Z"
   },
   {
    "duration": 10,
    "start_time": "2023-07-28T18:39:34.927Z"
   },
   {
    "duration": 9,
    "start_time": "2023-07-28T18:39:34.939Z"
   },
   {
    "duration": 8,
    "start_time": "2023-07-28T18:39:34.950Z"
   },
   {
    "duration": 27,
    "start_time": "2023-07-28T18:39:34.961Z"
   },
   {
    "duration": 10,
    "start_time": "2023-07-28T18:39:34.989Z"
   },
   {
    "duration": 1325,
    "start_time": "2023-07-28T18:39:35.001Z"
   },
   {
    "duration": 23,
    "start_time": "2023-07-28T18:39:36.328Z"
   },
   {
    "duration": 32,
    "start_time": "2023-07-28T18:39:36.353Z"
   },
   {
    "duration": 1412,
    "start_time": "2023-07-28T18:39:36.390Z"
   },
   {
    "duration": 12,
    "start_time": "2023-07-28T18:39:37.804Z"
   },
   {
    "duration": 31,
    "start_time": "2023-07-28T18:39:37.817Z"
   },
   {
    "duration": 15,
    "start_time": "2023-07-28T18:39:37.853Z"
   },
   {
    "duration": 1314,
    "start_time": "2023-07-28T18:39:37.870Z"
   },
   {
    "duration": 10,
    "start_time": "2023-07-28T18:39:39.191Z"
   },
   {
    "duration": 15,
    "start_time": "2023-07-28T18:39:39.202Z"
   },
   {
    "duration": 16,
    "start_time": "2023-07-28T18:39:39.218Z"
   },
   {
    "duration": 73,
    "start_time": "2023-07-28T18:39:39.236Z"
   },
   {
    "duration": 206,
    "start_time": "2023-07-28T18:39:39.311Z"
   },
   {
    "duration": 938,
    "start_time": "2023-07-28T18:39:39.519Z"
   },
   {
    "duration": 19,
    "start_time": "2023-07-28T18:39:40.459Z"
   },
   {
    "duration": 957,
    "start_time": "2023-07-28T18:39:40.484Z"
   },
   {
    "duration": 524,
    "start_time": "2023-07-28T18:39:41.444Z"
   },
   {
    "duration": 10,
    "start_time": "2023-07-28T18:39:41.970Z"
   },
   {
    "duration": 25,
    "start_time": "2023-07-28T18:39:41.983Z"
   },
   {
    "duration": 6,
    "start_time": "2023-07-28T18:39:42.010Z"
   },
   {
    "duration": 19,
    "start_time": "2023-07-28T18:39:42.019Z"
   },
   {
    "duration": 49,
    "start_time": "2023-07-28T18:39:42.040Z"
   },
   {
    "duration": 3,
    "start_time": "2023-07-28T18:39:42.092Z"
   },
   {
    "duration": 289,
    "start_time": "2023-07-28T18:39:42.097Z"
   },
   {
    "duration": 2100,
    "start_time": "2023-07-28T18:39:42.395Z"
   },
   {
    "duration": 1885,
    "start_time": "2023-07-28T18:41:23.292Z"
   },
   {
    "duration": 6,
    "start_time": "2023-07-28T18:43:16.028Z"
   },
   {
    "duration": 8,
    "start_time": "2023-07-28T18:43:22.389Z"
   },
   {
    "duration": 7,
    "start_time": "2023-07-28T18:43:31.444Z"
   },
   {
    "duration": 6,
    "start_time": "2023-07-28T18:43:46.815Z"
   },
   {
    "duration": 3,
    "start_time": "2023-07-28T18:45:48.046Z"
   },
   {
    "duration": 4351,
    "start_time": "2023-07-28T18:45:57.226Z"
   },
   {
    "duration": 7,
    "start_time": "2023-07-28T18:46:09.090Z"
   },
   {
    "duration": 5,
    "start_time": "2023-07-28T18:46:31.001Z"
   },
   {
    "duration": 28,
    "start_time": "2023-07-28T18:46:38.458Z"
   },
   {
    "duration": 126,
    "start_time": "2023-07-28T18:46:53.434Z"
   },
   {
    "duration": 4,
    "start_time": "2023-07-28T18:47:05.135Z"
   },
   {
    "duration": 6,
    "start_time": "2023-07-28T18:47:18.939Z"
   },
   {
    "duration": 12,
    "start_time": "2023-07-28T18:47:31.290Z"
   },
   {
    "duration": 7,
    "start_time": "2023-07-28T18:47:39.589Z"
   },
   {
    "duration": 5,
    "start_time": "2023-07-28T18:47:50.626Z"
   },
   {
    "duration": 10,
    "start_time": "2023-07-28T18:48:07.412Z"
   },
   {
    "duration": 22,
    "start_time": "2023-07-28T18:48:14.686Z"
   },
   {
    "duration": 12,
    "start_time": "2023-07-28T18:48:19.695Z"
   },
   {
    "duration": 9,
    "start_time": "2023-07-28T18:48:40.242Z"
   },
   {
    "duration": 21,
    "start_time": "2023-07-28T18:48:46.071Z"
   },
   {
    "duration": 12,
    "start_time": "2023-07-28T18:48:58.518Z"
   },
   {
    "duration": 5,
    "start_time": "2023-07-28T18:52:16.909Z"
   },
   {
    "duration": 4,
    "start_time": "2023-07-28T18:52:28.557Z"
   },
   {
    "duration": 2966,
    "start_time": "2023-07-28T18:52:30.631Z"
   },
   {
    "duration": 3131,
    "start_time": "2023-07-28T18:53:42.647Z"
   },
   {
    "duration": 4,
    "start_time": "2023-07-28T18:54:04.200Z"
   },
   {
    "duration": 3161,
    "start_time": "2023-07-28T18:54:07.018Z"
   },
   {
    "duration": 5,
    "start_time": "2023-07-28T18:54:43.819Z"
   },
   {
    "duration": 5,
    "start_time": "2023-07-28T18:54:49.398Z"
   },
   {
    "duration": 2682,
    "start_time": "2023-07-28T18:54:50.999Z"
   },
   {
    "duration": 7,
    "start_time": "2023-07-28T18:55:31.493Z"
   },
   {
    "duration": 3678,
    "start_time": "2023-07-28T18:55:33.494Z"
   },
   {
    "duration": 4,
    "start_time": "2023-07-28T18:55:39.702Z"
   },
   {
    "duration": 3088,
    "start_time": "2023-07-28T18:55:45.087Z"
   },
   {
    "duration": 5,
    "start_time": "2023-07-28T18:56:04.426Z"
   },
   {
    "duration": 5128,
    "start_time": "2023-07-28T18:56:06.945Z"
   },
   {
    "duration": 5,
    "start_time": "2023-07-28T18:56:29.968Z"
   },
   {
    "duration": 5,
    "start_time": "2023-07-28T18:56:41.398Z"
   },
   {
    "duration": 3029,
    "start_time": "2023-07-28T18:56:44.051Z"
   },
   {
    "duration": 5,
    "start_time": "2023-07-28T18:56:57.833Z"
   },
   {
    "duration": 2458,
    "start_time": "2023-07-28T18:56:59.728Z"
   },
   {
    "duration": 8,
    "start_time": "2023-07-28T18:57:18.598Z"
   },
   {
    "duration": 3356,
    "start_time": "2023-07-28T18:57:22.357Z"
   },
   {
    "duration": 7,
    "start_time": "2023-07-28T18:57:50.145Z"
   },
   {
    "duration": 4499,
    "start_time": "2023-07-28T18:57:52.788Z"
   },
   {
    "duration": 1551,
    "start_time": "2023-07-28T18:58:22.097Z"
   },
   {
    "duration": 489,
    "start_time": "2023-07-28T18:58:23.650Z"
   },
   {
    "duration": 21,
    "start_time": "2023-07-28T18:58:24.141Z"
   },
   {
    "duration": 9,
    "start_time": "2023-07-28T18:58:24.170Z"
   },
   {
    "duration": 291,
    "start_time": "2023-07-28T18:58:24.185Z"
   },
   {
    "duration": 369,
    "start_time": "2023-07-28T18:58:24.482Z"
   },
   {
    "duration": 37,
    "start_time": "2023-07-28T18:58:24.853Z"
   },
   {
    "duration": 12,
    "start_time": "2023-07-28T18:58:24.896Z"
   },
   {
    "duration": 253,
    "start_time": "2023-07-28T18:58:24.909Z"
   },
   {
    "duration": 147,
    "start_time": "2023-07-28T18:58:25.164Z"
   },
   {
    "duration": 9,
    "start_time": "2023-07-28T18:58:25.313Z"
   },
   {
    "duration": 110,
    "start_time": "2023-07-28T18:58:25.324Z"
   },
   {
    "duration": 13,
    "start_time": "2023-07-28T18:58:25.436Z"
   },
   {
    "duration": 4,
    "start_time": "2023-07-28T18:58:25.452Z"
   },
   {
    "duration": 27,
    "start_time": "2023-07-28T18:58:25.476Z"
   },
   {
    "duration": 159,
    "start_time": "2023-07-28T18:58:25.505Z"
   },
   {
    "duration": 29,
    "start_time": "2023-07-28T18:58:25.666Z"
   },
   {
    "duration": 20,
    "start_time": "2023-07-28T18:58:25.699Z"
   },
   {
    "duration": 8,
    "start_time": "2023-07-28T18:58:25.720Z"
   },
   {
    "duration": 14,
    "start_time": "2023-07-28T18:58:25.730Z"
   },
   {
    "duration": 5,
    "start_time": "2023-07-28T18:58:25.746Z"
   },
   {
    "duration": 12,
    "start_time": "2023-07-28T18:58:25.753Z"
   },
   {
    "duration": 32,
    "start_time": "2023-07-28T18:58:25.774Z"
   },
   {
    "duration": 16,
    "start_time": "2023-07-28T18:58:25.808Z"
   },
   {
    "duration": 4,
    "start_time": "2023-07-28T18:58:25.826Z"
   },
   {
    "duration": 13,
    "start_time": "2023-07-28T18:58:25.832Z"
   },
   {
    "duration": 22,
    "start_time": "2023-07-28T18:58:25.847Z"
   },
   {
    "duration": 12,
    "start_time": "2023-07-28T18:58:25.873Z"
   },
   {
    "duration": 30,
    "start_time": "2023-07-28T18:58:25.893Z"
   },
   {
    "duration": 9,
    "start_time": "2023-07-28T18:58:25.924Z"
   },
   {
    "duration": 8,
    "start_time": "2023-07-28T18:58:25.935Z"
   },
   {
    "duration": 7,
    "start_time": "2023-07-28T18:58:25.945Z"
   },
   {
    "duration": 5,
    "start_time": "2023-07-28T18:58:25.953Z"
   },
   {
    "duration": 28,
    "start_time": "2023-07-28T18:58:25.960Z"
   },
   {
    "duration": 1520,
    "start_time": "2023-07-28T18:58:25.990Z"
   },
   {
    "duration": 19,
    "start_time": "2023-07-28T18:58:27.511Z"
   },
   {
    "duration": 17,
    "start_time": "2023-07-28T18:58:27.533Z"
   },
   {
    "duration": 1440,
    "start_time": "2023-07-28T18:58:27.552Z"
   },
   {
    "duration": 13,
    "start_time": "2023-07-28T18:58:28.994Z"
   },
   {
    "duration": 10,
    "start_time": "2023-07-28T18:58:29.009Z"
   },
   {
    "duration": 5,
    "start_time": "2023-07-28T18:58:29.022Z"
   },
   {
    "duration": 1281,
    "start_time": "2023-07-28T18:58:29.029Z"
   },
   {
    "duration": 8,
    "start_time": "2023-07-28T18:58:30.311Z"
   },
   {
    "duration": 33,
    "start_time": "2023-07-28T18:58:30.321Z"
   },
   {
    "duration": 67,
    "start_time": "2023-07-28T18:58:30.356Z"
   },
   {
    "duration": 39,
    "start_time": "2023-07-28T18:58:30.425Z"
   },
   {
    "duration": 253,
    "start_time": "2023-07-28T18:58:30.466Z"
   },
   {
    "duration": 1031,
    "start_time": "2023-07-28T18:58:30.721Z"
   },
   {
    "duration": 22,
    "start_time": "2023-07-28T18:58:31.754Z"
   },
   {
    "duration": 1053,
    "start_time": "2023-07-28T18:58:31.777Z"
   },
   {
    "duration": 514,
    "start_time": "2023-07-28T18:58:32.832Z"
   },
   {
    "duration": 3,
    "start_time": "2023-07-28T18:58:33.348Z"
   },
   {
    "duration": 58,
    "start_time": "2023-07-28T18:58:33.353Z"
   },
   {
    "duration": 17,
    "start_time": "2023-07-28T18:58:33.413Z"
   },
   {
    "duration": 12,
    "start_time": "2023-07-28T18:58:33.432Z"
   },
   {
    "duration": 29,
    "start_time": "2023-07-28T18:58:33.446Z"
   },
   {
    "duration": 2,
    "start_time": "2023-07-28T18:58:33.477Z"
   },
   {
    "duration": 313,
    "start_time": "2023-07-28T18:58:33.481Z"
   },
   {
    "duration": 13,
    "start_time": "2023-07-28T18:58:33.796Z"
   },
   {
    "duration": 2603,
    "start_time": "2023-07-28T18:58:33.812Z"
   },
   {
    "duration": 71,
    "start_time": "2023-07-28T18:58:36.418Z"
   },
   {
    "duration": 1553,
    "start_time": "2023-07-28T18:58:43.124Z"
   },
   {
    "duration": 2826,
    "start_time": "2023-07-28T18:58:57.746Z"
   },
   {
    "duration": 2342,
    "start_time": "2023-07-28T18:59:11.735Z"
   },
   {
    "duration": 2768,
    "start_time": "2023-07-28T18:59:33.707Z"
   },
   {
    "duration": 2582,
    "start_time": "2023-07-28T18:59:40.388Z"
   },
   {
    "duration": 1679,
    "start_time": "2023-07-28T18:59:49.597Z"
   },
   {
    "duration": 2328,
    "start_time": "2023-07-28T18:59:57.049Z"
   },
   {
    "duration": 1728,
    "start_time": "2023-07-28T19:00:05.853Z"
   },
   {
    "duration": 2598,
    "start_time": "2023-07-28T19:00:44.483Z"
   },
   {
    "duration": 2287,
    "start_time": "2023-07-28T19:01:38.498Z"
   },
   {
    "duration": 2030,
    "start_time": "2023-07-28T19:03:06.054Z"
   },
   {
    "duration": 4,
    "start_time": "2023-07-28T19:03:33.644Z"
   },
   {
    "duration": 2200,
    "start_time": "2023-07-28T19:03:47.487Z"
   },
   {
    "duration": 4,
    "start_time": "2023-07-28T19:04:57.565Z"
   },
   {
    "duration": 3,
    "start_time": "2023-07-28T19:05:02.750Z"
   },
   {
    "duration": 1955,
    "start_time": "2023-07-28T19:05:07.616Z"
   },
   {
    "duration": 199,
    "start_time": "2023-07-28T19:05:48.130Z"
   },
   {
    "duration": 3,
    "start_time": "2023-07-28T19:05:53.005Z"
   },
   {
    "duration": 1861,
    "start_time": "2023-07-28T19:05:55.811Z"
   },
   {
    "duration": 5,
    "start_time": "2023-07-28T19:06:06.347Z"
   },
   {
    "duration": 3,
    "start_time": "2023-07-28T19:06:09.155Z"
   },
   {
    "duration": 2167,
    "start_time": "2023-07-28T19:06:11.809Z"
   },
   {
    "duration": 5,
    "start_time": "2023-07-28T19:07:26.800Z"
   },
   {
    "duration": 2511,
    "start_time": "2023-07-28T19:07:45.565Z"
   },
   {
    "duration": 5,
    "start_time": "2023-07-28T19:08:30.728Z"
   },
   {
    "duration": 2112,
    "start_time": "2023-07-28T19:09:28.068Z"
   },
   {
    "duration": 1924,
    "start_time": "2023-07-28T19:11:22.469Z"
   },
   {
    "duration": 323,
    "start_time": "2023-07-28T19:13:41.264Z"
   },
   {
    "duration": 543,
    "start_time": "2023-07-28T19:13:45.034Z"
   },
   {
    "duration": 4,
    "start_time": "2023-07-28T19:16:19.733Z"
   },
   {
    "duration": 4,
    "start_time": "2023-07-28T19:16:31.999Z"
   },
   {
    "duration": 2687,
    "start_time": "2023-07-28T19:17:12.398Z"
   },
   {
    "duration": 4,
    "start_time": "2023-07-28T19:17:19.163Z"
   },
   {
    "duration": 2039,
    "start_time": "2023-07-28T19:17:21.548Z"
   },
   {
    "duration": 2384,
    "start_time": "2023-07-28T19:17:41.703Z"
   },
   {
    "duration": 7693,
    "start_time": "2023-07-28T19:20:02.410Z"
   },
   {
    "duration": 148,
    "start_time": "2023-07-28T19:31:32.018Z"
   },
   {
    "duration": 276338,
    "start_time": "2023-07-28T19:31:59.757Z"
   },
   {
    "duration": 287948,
    "start_time": "2023-07-28T19:40:16.768Z"
   },
   {
    "duration": 124,
    "start_time": "2023-07-28T19:46:39.869Z"
   },
   {
    "duration": 3,
    "start_time": "2023-07-28T19:46:59.601Z"
   },
   {
    "duration": 3416,
    "start_time": "2023-07-28T19:47:01.883Z"
   },
   {
    "duration": 285878,
    "start_time": "2023-07-28T19:47:09.689Z"
   },
   {
    "duration": 4604,
    "start_time": "2023-07-28T19:55:11.454Z"
   },
   {
    "duration": 3,
    "start_time": "2023-07-28T19:55:31.596Z"
   },
   {
    "duration": 2753,
    "start_time": "2023-07-28T19:55:33.330Z"
   },
   {
    "duration": 340609,
    "start_time": "2023-07-28T19:58:03.952Z"
   },
   {
    "duration": 5,
    "start_time": "2023-07-28T20:06:29.994Z"
   },
   {
    "duration": 2610,
    "start_time": "2023-07-28T20:07:52.889Z"
   },
   {
    "duration": 2802,
    "start_time": "2023-07-28T20:08:09.470Z"
   },
   {
    "duration": 9,
    "start_time": "2023-07-28T20:08:18.509Z"
   },
   {
    "duration": 118,
    "start_time": "2023-07-28T20:10:11.759Z"
   },
   {
    "duration": 21,
    "start_time": "2023-07-28T20:14:47.475Z"
   },
   {
    "duration": 12713,
    "start_time": "2023-07-28T20:14:53.193Z"
   },
   {
    "duration": 90158,
    "start_time": "2023-07-28T20:16:03.314Z"
   },
   {
    "duration": 19666675,
    "start_time": "2023-07-28T20:20:02.440Z"
   },
   {
    "duration": 9,
    "start_time": "2023-07-29T01:48:42.618Z"
   },
   {
    "duration": 4,
    "start_time": "2023-07-29T01:48:45.620Z"
   },
   {
    "duration": 11824,
    "start_time": "2023-07-29T01:49:54.903Z"
   },
   {
    "duration": 45965,
    "start_time": "2023-07-29T01:50:27.274Z"
   },
   {
    "duration": 47,
    "start_time": "2023-07-29T12:51:34.486Z"
   },
   {
    "duration": 1583,
    "start_time": "2023-07-29T12:57:51.991Z"
   },
   {
    "duration": 1731,
    "start_time": "2023-07-29T12:57:53.576Z"
   },
   {
    "duration": 18,
    "start_time": "2023-07-29T12:57:55.308Z"
   },
   {
    "duration": 4,
    "start_time": "2023-07-29T12:57:55.327Z"
   },
   {
    "duration": 257,
    "start_time": "2023-07-29T12:57:55.333Z"
   },
   {
    "duration": 1293,
    "start_time": "2023-07-29T12:57:55.593Z"
   },
   {
    "duration": 14,
    "start_time": "2023-07-29T12:57:56.889Z"
   },
   {
    "duration": 7,
    "start_time": "2023-07-29T12:57:56.905Z"
   },
   {
    "duration": 235,
    "start_time": "2023-07-29T12:57:56.914Z"
   },
   {
    "duration": 126,
    "start_time": "2023-07-29T12:57:57.151Z"
   },
   {
    "duration": 13,
    "start_time": "2023-07-29T12:57:57.280Z"
   },
   {
    "duration": 409,
    "start_time": "2023-07-29T12:57:57.294Z"
   },
   {
    "duration": 11,
    "start_time": "2023-07-29T12:57:57.704Z"
   },
   {
    "duration": 3,
    "start_time": "2023-07-29T12:57:57.718Z"
   },
   {
    "duration": 9,
    "start_time": "2023-07-29T12:57:57.722Z"
   },
   {
    "duration": 125,
    "start_time": "2023-07-29T12:57:57.732Z"
   },
   {
    "duration": 33,
    "start_time": "2023-07-29T12:57:57.858Z"
   },
   {
    "duration": 7,
    "start_time": "2023-07-29T12:57:57.893Z"
   },
   {
    "duration": 9,
    "start_time": "2023-07-29T12:57:57.901Z"
   },
   {
    "duration": 6,
    "start_time": "2023-07-29T12:57:57.911Z"
   },
   {
    "duration": 4,
    "start_time": "2023-07-29T12:57:57.919Z"
   },
   {
    "duration": 4,
    "start_time": "2023-07-29T12:57:57.924Z"
   },
   {
    "duration": 5,
    "start_time": "2023-07-29T12:57:57.930Z"
   },
   {
    "duration": 40,
    "start_time": "2023-07-29T12:57:57.936Z"
   },
   {
    "duration": 6,
    "start_time": "2023-07-29T12:57:57.979Z"
   },
   {
    "duration": 4,
    "start_time": "2023-07-29T12:57:57.987Z"
   },
   {
    "duration": 22,
    "start_time": "2023-07-29T12:57:57.993Z"
   },
   {
    "duration": 6,
    "start_time": "2023-07-29T12:57:58.016Z"
   },
   {
    "duration": 11,
    "start_time": "2023-07-29T12:57:58.023Z"
   },
   {
    "duration": 9,
    "start_time": "2023-07-29T12:57:58.036Z"
   },
   {
    "duration": 36,
    "start_time": "2023-07-29T12:57:58.046Z"
   },
   {
    "duration": 8,
    "start_time": "2023-07-29T12:57:58.084Z"
   },
   {
    "duration": 6,
    "start_time": "2023-07-29T12:57:58.094Z"
   },
   {
    "duration": 12,
    "start_time": "2023-07-29T12:57:58.101Z"
   },
   {
    "duration": 1143,
    "start_time": "2023-07-29T12:57:58.116Z"
   },
   {
    "duration": 30,
    "start_time": "2023-07-29T12:57:59.260Z"
   },
   {
    "duration": 4,
    "start_time": "2023-07-29T12:57:59.291Z"
   },
   {
    "duration": 1252,
    "start_time": "2023-07-29T12:57:59.296Z"
   },
   {
    "duration": 25,
    "start_time": "2023-07-29T12:58:00.550Z"
   },
   {
    "duration": 24,
    "start_time": "2023-07-29T12:58:00.577Z"
   },
   {
    "duration": 27,
    "start_time": "2023-07-29T12:58:00.606Z"
   },
   {
    "duration": 1201,
    "start_time": "2023-07-29T12:58:00.635Z"
   },
   {
    "duration": 8,
    "start_time": "2023-07-29T12:58:01.838Z"
   },
   {
    "duration": 37,
    "start_time": "2023-07-29T12:58:01.848Z"
   },
   {
    "duration": 21,
    "start_time": "2023-07-29T12:58:01.887Z"
   },
   {
    "duration": 44,
    "start_time": "2023-07-29T12:58:01.909Z"
   },
   {
    "duration": 206,
    "start_time": "2023-07-29T12:58:01.954Z"
   },
   {
    "duration": 911,
    "start_time": "2023-07-29T12:58:02.162Z"
   },
   {
    "duration": 13,
    "start_time": "2023-07-29T12:58:03.076Z"
   },
   {
    "duration": 853,
    "start_time": "2023-07-29T12:58:03.092Z"
   },
   {
    "duration": 452,
    "start_time": "2023-07-29T12:58:03.947Z"
   },
   {
    "duration": 4,
    "start_time": "2023-07-29T12:58:04.400Z"
   },
   {
    "duration": 29,
    "start_time": "2023-07-29T12:58:04.406Z"
   },
   {
    "duration": 9,
    "start_time": "2023-07-29T12:58:04.436Z"
   },
   {
    "duration": 25,
    "start_time": "2023-07-29T12:58:04.446Z"
   },
   {
    "duration": 3,
    "start_time": "2023-07-29T12:58:04.473Z"
   },
   {
    "duration": 15,
    "start_time": "2023-07-29T12:58:04.478Z"
   },
   {
    "duration": 1798,
    "start_time": "2023-07-29T12:58:04.495Z"
   },
   {
    "duration": 294398,
    "start_time": "2023-07-29T12:58:06.300Z"
   },
   {
    "duration": 7,
    "start_time": "2023-07-29T13:03:00.699Z"
   },
   {
    "duration": 1695844,
    "start_time": "2023-07-29T13:03:00.708Z"
   },
   {
    "duration": 0,
    "start_time": "2023-07-29T13:31:16.554Z"
   },
   {
    "duration": 1149847,
    "start_time": "2023-07-29T13:31:33.463Z"
   },
   {
    "duration": 1465,
    "start_time": "2023-07-29T13:56:21.650Z"
   },
   {
    "duration": 504,
    "start_time": "2023-07-29T13:56:23.117Z"
   },
   {
    "duration": 22,
    "start_time": "2023-07-29T13:56:23.622Z"
   },
   {
    "duration": 21,
    "start_time": "2023-07-29T13:56:23.646Z"
   },
   {
    "duration": 312,
    "start_time": "2023-07-29T13:56:23.669Z"
   },
   {
    "duration": 385,
    "start_time": "2023-07-29T13:56:23.983Z"
   },
   {
    "duration": 15,
    "start_time": "2023-07-29T13:56:24.370Z"
   },
   {
    "duration": 9,
    "start_time": "2023-07-29T13:56:24.387Z"
   },
   {
    "duration": 215,
    "start_time": "2023-07-29T13:56:24.398Z"
   },
   {
    "duration": 119,
    "start_time": "2023-07-29T13:56:24.615Z"
   },
   {
    "duration": 9,
    "start_time": "2023-07-29T13:56:24.735Z"
   },
   {
    "duration": 113,
    "start_time": "2023-07-29T13:56:24.746Z"
   },
   {
    "duration": 12,
    "start_time": "2023-07-29T13:56:24.861Z"
   },
   {
    "duration": 26,
    "start_time": "2023-07-29T13:56:24.875Z"
   },
   {
    "duration": 29,
    "start_time": "2023-07-29T13:56:24.903Z"
   },
   {
    "duration": 123,
    "start_time": "2023-07-29T13:56:24.934Z"
   },
   {
    "duration": 24,
    "start_time": "2023-07-29T13:56:25.059Z"
   },
   {
    "duration": 7,
    "start_time": "2023-07-29T13:56:25.085Z"
   },
   {
    "duration": 8,
    "start_time": "2023-07-29T13:56:25.094Z"
   },
   {
    "duration": 17,
    "start_time": "2023-07-29T13:56:25.104Z"
   },
   {
    "duration": 13,
    "start_time": "2023-07-29T13:56:25.123Z"
   },
   {
    "duration": 9,
    "start_time": "2023-07-29T13:56:25.137Z"
   },
   {
    "duration": 11,
    "start_time": "2023-07-29T13:56:25.148Z"
   },
   {
    "duration": 32,
    "start_time": "2023-07-29T13:56:25.160Z"
   },
   {
    "duration": 6,
    "start_time": "2023-07-29T13:56:25.193Z"
   },
   {
    "duration": 20,
    "start_time": "2023-07-29T13:56:25.201Z"
   },
   {
    "duration": 24,
    "start_time": "2023-07-29T13:56:25.223Z"
   },
   {
    "duration": 28,
    "start_time": "2023-07-29T13:56:25.250Z"
   },
   {
    "duration": 28,
    "start_time": "2023-07-29T13:56:25.280Z"
   },
   {
    "duration": 12,
    "start_time": "2023-07-29T13:56:25.310Z"
   },
   {
    "duration": 33,
    "start_time": "2023-07-29T13:56:25.323Z"
   },
   {
    "duration": 11,
    "start_time": "2023-07-29T13:56:25.358Z"
   },
   {
    "duration": 13,
    "start_time": "2023-07-29T13:56:25.370Z"
   },
   {
    "duration": 18,
    "start_time": "2023-07-29T13:56:25.384Z"
   },
   {
    "duration": 1097,
    "start_time": "2023-07-29T13:56:25.403Z"
   },
   {
    "duration": 15,
    "start_time": "2023-07-29T13:56:26.501Z"
   },
   {
    "duration": 9,
    "start_time": "2023-07-29T13:56:26.518Z"
   },
   {
    "duration": 1158,
    "start_time": "2023-07-29T13:56:26.528Z"
   },
   {
    "duration": 12,
    "start_time": "2023-07-29T13:56:27.687Z"
   },
   {
    "duration": 24,
    "start_time": "2023-07-29T13:56:27.700Z"
   },
   {
    "duration": 38,
    "start_time": "2023-07-29T13:56:27.725Z"
   },
   {
    "duration": 1081,
    "start_time": "2023-07-29T13:56:27.765Z"
   },
   {
    "duration": 8,
    "start_time": "2023-07-29T13:56:28.848Z"
   },
   {
    "duration": 8,
    "start_time": "2023-07-29T13:56:28.874Z"
   },
   {
    "duration": 4,
    "start_time": "2023-07-29T13:56:28.884Z"
   },
   {
    "duration": 15,
    "start_time": "2023-07-29T13:56:28.890Z"
   },
   {
    "duration": 184,
    "start_time": "2023-07-29T13:56:28.907Z"
   },
   {
    "duration": 831,
    "start_time": "2023-07-29T13:56:29.093Z"
   },
   {
    "duration": 10,
    "start_time": "2023-07-29T13:56:29.926Z"
   },
   {
    "duration": 875,
    "start_time": "2023-07-29T13:56:29.938Z"
   },
   {
    "duration": 423,
    "start_time": "2023-07-29T13:56:30.815Z"
   },
   {
    "duration": 4,
    "start_time": "2023-07-29T13:56:31.240Z"
   },
   {
    "duration": 70,
    "start_time": "2023-07-29T13:56:31.245Z"
   },
   {
    "duration": 39,
    "start_time": "2023-07-29T13:56:31.317Z"
   },
   {
    "duration": 73,
    "start_time": "2023-07-29T13:56:31.358Z"
   },
   {
    "duration": 20,
    "start_time": "2023-07-29T13:56:31.433Z"
   },
   {
    "duration": 28,
    "start_time": "2023-07-29T13:56:31.456Z"
   },
   {
    "duration": 1795,
    "start_time": "2023-07-29T13:56:31.486Z"
   },
   {
    "duration": 282923,
    "start_time": "2023-07-29T13:56:33.282Z"
   },
   {
    "duration": 6,
    "start_time": "2023-07-29T14:01:16.206Z"
   },
   {
    "duration": 1722,
    "start_time": "2023-07-30T09:48:18.545Z"
   },
   {
    "duration": 1659,
    "start_time": "2023-07-30T09:48:20.270Z"
   },
   {
    "duration": 20,
    "start_time": "2023-07-30T09:48:21.931Z"
   },
   {
    "duration": 9,
    "start_time": "2023-07-30T09:48:21.953Z"
   },
   {
    "duration": 252,
    "start_time": "2023-07-30T09:48:21.964Z"
   },
   {
    "duration": 1241,
    "start_time": "2023-07-30T09:48:22.217Z"
   },
   {
    "duration": 14,
    "start_time": "2023-07-30T09:48:23.460Z"
   },
   {
    "duration": 3,
    "start_time": "2023-07-30T09:48:23.475Z"
   },
   {
    "duration": 225,
    "start_time": "2023-07-30T09:48:23.479Z"
   },
   {
    "duration": 131,
    "start_time": "2023-07-30T09:48:23.706Z"
   },
   {
    "duration": 10,
    "start_time": "2023-07-30T09:48:23.839Z"
   },
   {
    "duration": 410,
    "start_time": "2023-07-30T09:48:23.850Z"
   },
   {
    "duration": 11,
    "start_time": "2023-07-30T09:48:24.261Z"
   },
   {
    "duration": 3,
    "start_time": "2023-07-30T09:48:24.274Z"
   },
   {
    "duration": 12,
    "start_time": "2023-07-30T09:48:24.279Z"
   },
   {
    "duration": 126,
    "start_time": "2023-07-30T09:48:24.293Z"
   },
   {
    "duration": 18,
    "start_time": "2023-07-30T09:48:24.420Z"
   },
   {
    "duration": 6,
    "start_time": "2023-07-30T09:48:24.439Z"
   },
   {
    "duration": 3,
    "start_time": "2023-07-30T09:48:24.446Z"
   },
   {
    "duration": 8,
    "start_time": "2023-07-30T09:48:24.450Z"
   },
   {
    "duration": 20,
    "start_time": "2023-07-30T09:48:24.459Z"
   },
   {
    "duration": 14,
    "start_time": "2023-07-30T09:48:24.480Z"
   },
   {
    "duration": 6,
    "start_time": "2023-07-30T09:48:24.496Z"
   },
   {
    "duration": 10,
    "start_time": "2023-07-30T09:48:24.504Z"
   },
   {
    "duration": 3,
    "start_time": "2023-07-30T09:48:24.516Z"
   },
   {
    "duration": 27,
    "start_time": "2023-07-30T09:48:24.521Z"
   },
   {
    "duration": 14,
    "start_time": "2023-07-30T09:48:24.549Z"
   },
   {
    "duration": 15,
    "start_time": "2023-07-30T09:48:24.565Z"
   },
   {
    "duration": 32,
    "start_time": "2023-07-30T09:48:24.581Z"
   },
   {
    "duration": 40,
    "start_time": "2023-07-30T09:48:24.615Z"
   },
   {
    "duration": 10,
    "start_time": "2023-07-30T09:48:24.656Z"
   },
   {
    "duration": 19,
    "start_time": "2023-07-30T09:48:24.668Z"
   },
   {
    "duration": 8,
    "start_time": "2023-07-30T09:48:24.688Z"
   },
   {
    "duration": 12,
    "start_time": "2023-07-30T09:48:24.697Z"
   },
   {
    "duration": 1086,
    "start_time": "2023-07-30T09:48:24.711Z"
   },
   {
    "duration": 15,
    "start_time": "2023-07-30T09:48:25.799Z"
   },
   {
    "duration": 21,
    "start_time": "2023-07-30T09:48:25.816Z"
   },
   {
    "duration": 1124,
    "start_time": "2023-07-30T09:48:25.839Z"
   },
   {
    "duration": 20,
    "start_time": "2023-07-30T09:48:26.965Z"
   },
   {
    "duration": 7,
    "start_time": "2023-07-30T09:48:26.987Z"
   },
   {
    "duration": 4,
    "start_time": "2023-07-30T09:48:26.998Z"
   },
   {
    "duration": 1078,
    "start_time": "2023-07-30T09:48:27.004Z"
   },
   {
    "duration": 9,
    "start_time": "2023-07-30T09:48:28.083Z"
   },
   {
    "duration": 8,
    "start_time": "2023-07-30T09:48:28.093Z"
   },
   {
    "duration": 5,
    "start_time": "2023-07-30T09:48:28.102Z"
   },
   {
    "duration": 10,
    "start_time": "2023-07-30T09:48:28.108Z"
   },
   {
    "duration": 190,
    "start_time": "2023-07-30T09:48:28.120Z"
   },
   {
    "duration": 766,
    "start_time": "2023-07-30T09:48:28.311Z"
   },
   {
    "duration": 8,
    "start_time": "2023-07-30T09:48:29.079Z"
   },
   {
    "duration": 778,
    "start_time": "2023-07-30T09:48:29.089Z"
   },
   {
    "duration": 439,
    "start_time": "2023-07-30T09:48:29.869Z"
   },
   {
    "duration": 5,
    "start_time": "2023-07-30T09:48:30.311Z"
   },
   {
    "duration": 81,
    "start_time": "2023-07-30T09:48:30.318Z"
   },
   {
    "duration": 51,
    "start_time": "2023-07-30T09:48:30.400Z"
   },
   {
    "duration": 79,
    "start_time": "2023-07-30T09:48:30.453Z"
   },
   {
    "duration": 41,
    "start_time": "2023-07-30T09:48:30.534Z"
   },
   {
    "duration": 44,
    "start_time": "2023-07-30T09:48:30.576Z"
   },
   {
    "duration": 1858,
    "start_time": "2023-07-30T09:48:30.622Z"
   },
   {
    "duration": 277930,
    "start_time": "2023-07-30T09:48:32.482Z"
   },
   {
    "duration": 6,
    "start_time": "2023-07-30T09:53:10.414Z"
   },
   {
    "duration": 14521916,
    "start_time": "2023-07-30T09:53:10.422Z"
   },
   {
    "duration": 7,
    "start_time": "2023-07-30T13:55:12.340Z"
   },
   {
    "duration": 18,
    "start_time": "2023-07-30T13:58:27.068Z"
   },
   {
    "duration": 9,
    "start_time": "2023-07-30T13:59:27.390Z"
   },
   {
    "duration": 8,
    "start_time": "2023-07-30T13:59:38.586Z"
   },
   {
    "duration": 9,
    "start_time": "2023-07-30T13:59:54.288Z"
   },
   {
    "duration": 9,
    "start_time": "2023-07-30T14:00:05.988Z"
   },
   {
    "duration": 8,
    "start_time": "2023-07-30T14:00:08.602Z"
   },
   {
    "duration": 117,
    "start_time": "2023-07-30T14:01:16.307Z"
   },
   {
    "duration": 113,
    "start_time": "2023-07-30T14:01:23.945Z"
   },
   {
    "duration": 21,
    "start_time": "2023-07-30T14:05:42.870Z"
   },
   {
    "duration": 8,
    "start_time": "2023-07-30T14:05:48.603Z"
   },
   {
    "duration": 11,
    "start_time": "2023-07-30T14:08:23.046Z"
   },
   {
    "duration": 10,
    "start_time": "2023-07-30T14:12:32.387Z"
   },
   {
    "duration": 94,
    "start_time": "2023-07-30T14:13:15.450Z"
   },
   {
    "duration": 5,
    "start_time": "2023-07-30T14:14:47.270Z"
   },
   {
    "duration": 13,
    "start_time": "2023-07-31T13:33:23.247Z"
   },
   {
    "duration": 251,
    "start_time": "2023-07-31T13:33:29.744Z"
   },
   {
    "duration": 271,
    "start_time": "2023-07-31T16:23:07.845Z"
   },
   {
    "duration": 43,
    "start_time": "2023-07-31T16:24:24.419Z"
   },
   {
    "duration": 3082,
    "start_time": "2023-08-01T13:47:24.049Z"
   },
   {
    "duration": 315,
    "start_time": "2023-08-01T13:47:32.698Z"
   },
   {
    "duration": 169,
    "start_time": "2023-08-01T13:47:45.292Z"
   },
   {
    "duration": 31,
    "start_time": "2023-08-01T13:47:49.810Z"
   },
   {
    "duration": 114,
    "start_time": "2023-08-01T13:48:15.463Z"
   },
   {
    "duration": 12,
    "start_time": "2023-08-01T13:48:19.568Z"
   },
   {
    "duration": 24,
    "start_time": "2023-08-01T13:48:23.549Z"
   },
   {
    "duration": 1642,
    "start_time": "2023-08-02T18:08:02.605Z"
   },
   {
    "duration": 1745,
    "start_time": "2023-08-02T18:08:04.251Z"
   },
   {
    "duration": 20,
    "start_time": "2023-08-02T18:08:05.998Z"
   },
   {
    "duration": 13,
    "start_time": "2023-08-02T18:08:06.019Z"
   },
   {
    "duration": 278,
    "start_time": "2023-08-02T18:08:06.035Z"
   },
   {
    "duration": 1278,
    "start_time": "2023-08-02T18:08:06.315Z"
   },
   {
    "duration": 17,
    "start_time": "2023-08-02T18:08:07.594Z"
   },
   {
    "duration": 4,
    "start_time": "2023-08-02T18:08:07.613Z"
   },
   {
    "duration": 254,
    "start_time": "2023-08-02T18:08:07.618Z"
   },
   {
    "duration": 129,
    "start_time": "2023-08-02T18:08:07.875Z"
   },
   {
    "duration": 9,
    "start_time": "2023-08-02T18:08:08.006Z"
   },
   {
    "duration": 416,
    "start_time": "2023-08-02T18:08:08.016Z"
   },
   {
    "duration": 15,
    "start_time": "2023-08-02T18:08:08.433Z"
   },
   {
    "duration": 4,
    "start_time": "2023-08-02T18:08:08.451Z"
   },
   {
    "duration": 6,
    "start_time": "2023-08-02T18:08:08.458Z"
   },
   {
    "duration": 139,
    "start_time": "2023-08-02T18:08:08.466Z"
   },
   {
    "duration": 19,
    "start_time": "2023-08-02T18:08:08.607Z"
   },
   {
    "duration": 7,
    "start_time": "2023-08-02T18:08:08.628Z"
   },
   {
    "duration": 12,
    "start_time": "2023-08-02T18:08:08.656Z"
   },
   {
    "duration": 6,
    "start_time": "2023-08-02T18:08:08.670Z"
   },
   {
    "duration": 5,
    "start_time": "2023-08-02T18:08:08.678Z"
   },
   {
    "duration": 5,
    "start_time": "2023-08-02T18:08:08.684Z"
   },
   {
    "duration": 7,
    "start_time": "2023-08-02T18:08:08.690Z"
   },
   {
    "duration": 13,
    "start_time": "2023-08-02T18:08:08.698Z"
   },
   {
    "duration": 4,
    "start_time": "2023-08-02T18:08:14.338Z"
   },
   {
    "duration": 4,
    "start_time": "2023-08-02T18:14:22.029Z"
   },
   {
    "duration": 394,
    "start_time": "2023-08-02T18:14:22.041Z"
   },
   {
    "duration": 29,
    "start_time": "2023-08-02T18:14:22.437Z"
   },
   {
    "duration": 3,
    "start_time": "2023-08-02T18:14:22.468Z"
   },
   {
    "duration": 245,
    "start_time": "2023-08-02T18:14:22.473Z"
   },
   {
    "duration": 284,
    "start_time": "2023-08-02T18:14:22.720Z"
   },
   {
    "duration": 17,
    "start_time": "2023-08-02T18:14:23.005Z"
   },
   {
    "duration": 4,
    "start_time": "2023-08-02T18:14:23.023Z"
   },
   {
    "duration": 241,
    "start_time": "2023-08-02T18:14:23.028Z"
   },
   {
    "duration": 120,
    "start_time": "2023-08-02T18:14:23.271Z"
   },
   {
    "duration": 10,
    "start_time": "2023-08-02T18:14:23.394Z"
   },
   {
    "duration": 96,
    "start_time": "2023-08-02T18:14:23.405Z"
   },
   {
    "duration": 14,
    "start_time": "2023-08-02T18:14:23.503Z"
   },
   {
    "duration": 4,
    "start_time": "2023-08-02T18:14:23.518Z"
   },
   {
    "duration": 5,
    "start_time": "2023-08-02T18:14:23.524Z"
   },
   {
    "duration": 144,
    "start_time": "2023-08-02T18:14:23.530Z"
   },
   {
    "duration": 19,
    "start_time": "2023-08-02T18:14:23.675Z"
   },
   {
    "duration": 7,
    "start_time": "2023-08-02T18:14:23.695Z"
   },
   {
    "duration": 3,
    "start_time": "2023-08-02T18:14:23.703Z"
   },
   {
    "duration": 6,
    "start_time": "2023-08-02T18:14:23.708Z"
   },
   {
    "duration": 4,
    "start_time": "2023-08-02T18:14:23.716Z"
   },
   {
    "duration": 36,
    "start_time": "2023-08-02T18:14:23.721Z"
   },
   {
    "duration": 15,
    "start_time": "2023-08-02T18:14:23.759Z"
   },
   {
    "duration": 11,
    "start_time": "2023-08-02T18:14:23.775Z"
   },
   {
    "duration": 4,
    "start_time": "2023-08-02T18:14:23.788Z"
   },
   {
    "duration": 7,
    "start_time": "2023-08-02T18:14:23.794Z"
   },
   {
    "duration": 20,
    "start_time": "2023-08-02T18:14:23.803Z"
   },
   {
    "duration": 6,
    "start_time": "2023-08-02T18:14:23.825Z"
   },
   {
    "duration": 29,
    "start_time": "2023-08-02T18:14:23.835Z"
   },
   {
    "duration": 10,
    "start_time": "2023-08-02T18:14:23.866Z"
   },
   {
    "duration": 62,
    "start_time": "2023-08-02T18:14:23.877Z"
   },
   {
    "duration": 117,
    "start_time": "2023-08-02T18:14:23.940Z"
   },
   {
    "duration": 89,
    "start_time": "2023-08-02T18:14:30.690Z"
   },
   {
    "duration": 5,
    "start_time": "2023-08-02T18:14:39.808Z"
   },
   {
    "duration": 5,
    "start_time": "2023-08-02T18:14:58.355Z"
   },
   {
    "duration": 106,
    "start_time": "2023-08-02T18:15:13.345Z"
   },
   {
    "duration": 4,
    "start_time": "2023-08-02T18:15:16.944Z"
   },
   {
    "duration": 995,
    "start_time": "2023-08-02T18:15:17.901Z"
   },
   {
    "duration": 5,
    "start_time": "2023-08-02T18:15:41.863Z"
   },
   {
    "duration": 1248,
    "start_time": "2023-08-02T18:15:43.337Z"
   },
   {
    "duration": 5,
    "start_time": "2023-08-02T18:16:12.726Z"
   },
   {
    "duration": 1092,
    "start_time": "2023-08-02T18:16:14.433Z"
   },
   {
    "duration": 6,
    "start_time": "2023-08-02T18:16:28.822Z"
   },
   {
    "duration": 1210,
    "start_time": "2023-08-02T18:16:29.871Z"
   },
   {
    "duration": 5,
    "start_time": "2023-08-02T18:16:50.713Z"
   },
   {
    "duration": 1216,
    "start_time": "2023-08-02T18:16:52.297Z"
   },
   {
    "duration": 6,
    "start_time": "2023-08-02T18:17:11.464Z"
   },
   {
    "duration": 1089,
    "start_time": "2023-08-02T18:17:12.822Z"
   },
   {
    "duration": 5,
    "start_time": "2023-08-02T18:17:25.890Z"
   },
   {
    "duration": 1359,
    "start_time": "2023-08-02T18:17:26.917Z"
   },
   {
    "duration": 6,
    "start_time": "2023-08-02T18:17:36.390Z"
   },
   {
    "duration": 1112,
    "start_time": "2023-08-02T18:17:37.364Z"
   },
   {
    "duration": 5,
    "start_time": "2023-08-02T18:17:58.005Z"
   },
   {
    "duration": 1275,
    "start_time": "2023-08-02T18:18:01.887Z"
   },
   {
    "duration": 6,
    "start_time": "2023-08-02T18:23:54.383Z"
   },
   {
    "duration": 1169,
    "start_time": "2023-08-02T18:23:55.853Z"
   },
   {
    "duration": 5,
    "start_time": "2023-08-02T18:24:08.101Z"
   },
   {
    "duration": 1006,
    "start_time": "2023-08-02T18:24:09.607Z"
   },
   {
    "duration": 5,
    "start_time": "2023-08-02T18:24:26.932Z"
   },
   {
    "duration": 1315,
    "start_time": "2023-08-02T18:24:28.077Z"
   },
   {
    "duration": 5,
    "start_time": "2023-08-02T18:31:51.346Z"
   },
   {
    "duration": 1502,
    "start_time": "2023-08-02T18:31:53.016Z"
   },
   {
    "duration": 5,
    "start_time": "2023-08-02T18:32:17.084Z"
   },
   {
    "duration": 1270,
    "start_time": "2023-08-02T18:32:18.623Z"
   },
   {
    "duration": 5,
    "start_time": "2023-08-02T18:36:18.859Z"
   },
   {
    "duration": 5,
    "start_time": "2023-08-02T18:36:42.057Z"
   },
   {
    "duration": 15,
    "start_time": "2023-08-02T18:36:43.542Z"
   },
   {
    "duration": 6,
    "start_time": "2023-08-02T18:36:59.288Z"
   },
   {
    "duration": 877,
    "start_time": "2023-08-02T18:37:01.063Z"
   },
   {
    "duration": 6,
    "start_time": "2023-08-02T18:37:37.422Z"
   },
   {
    "duration": 851,
    "start_time": "2023-08-02T18:37:38.749Z"
   },
   {
    "duration": 1377,
    "start_time": "2023-08-02T18:37:50.009Z"
   },
   {
    "duration": 804,
    "start_time": "2023-08-02T18:38:07.125Z"
   },
   {
    "duration": 5,
    "start_time": "2023-08-02T18:38:51.324Z"
   },
   {
    "duration": 803,
    "start_time": "2023-08-02T18:38:53.112Z"
   },
   {
    "duration": 6,
    "start_time": "2023-08-02T18:41:58.259Z"
   },
   {
    "duration": 1196,
    "start_time": "2023-08-02T18:42:02.315Z"
   },
   {
    "duration": 9,
    "start_time": "2023-08-02T20:35:12.015Z"
   },
   {
    "duration": 45,
    "start_time": "2023-08-02T20:35:15.509Z"
   },
   {
    "duration": 5,
    "start_time": "2023-08-02T20:36:07.018Z"
   },
   {
    "duration": 4,
    "start_time": "2023-08-02T20:36:08.915Z"
   },
   {
    "duration": 6,
    "start_time": "2023-08-02T20:36:12.272Z"
   },
   {
    "duration": 1570,
    "start_time": "2023-08-02T20:36:20.471Z"
   },
   {
    "duration": 1177,
    "start_time": "2023-08-02T20:36:22.043Z"
   },
   {
    "duration": 20,
    "start_time": "2023-08-02T20:36:23.224Z"
   },
   {
    "duration": 4,
    "start_time": "2023-08-02T20:36:23.247Z"
   },
   {
    "duration": 243,
    "start_time": "2023-08-02T20:36:23.252Z"
   },
   {
    "duration": 870,
    "start_time": "2023-08-02T20:36:23.497Z"
   },
   {
    "duration": 14,
    "start_time": "2023-08-02T20:36:24.369Z"
   },
   {
    "duration": 4,
    "start_time": "2023-08-02T20:36:24.385Z"
   },
   {
    "duration": 182,
    "start_time": "2023-08-02T20:36:24.390Z"
   },
   {
    "duration": 121,
    "start_time": "2023-08-02T20:36:24.574Z"
   },
   {
    "duration": 18,
    "start_time": "2023-08-02T20:36:24.701Z"
   },
   {
    "duration": 156,
    "start_time": "2023-08-02T20:36:24.721Z"
   },
   {
    "duration": 11,
    "start_time": "2023-08-02T20:36:24.878Z"
   },
   {
    "duration": 3,
    "start_time": "2023-08-02T20:36:24.890Z"
   },
   {
    "duration": 19,
    "start_time": "2023-08-02T20:36:24.894Z"
   },
   {
    "duration": 105,
    "start_time": "2023-08-02T20:36:24.914Z"
   },
   {
    "duration": 17,
    "start_time": "2023-08-02T20:36:25.021Z"
   },
   {
    "duration": 6,
    "start_time": "2023-08-02T20:36:25.040Z"
   },
   {
    "duration": 4,
    "start_time": "2023-08-02T20:36:25.048Z"
   },
   {
    "duration": 10,
    "start_time": "2023-08-02T20:36:25.054Z"
   },
   {
    "duration": 5,
    "start_time": "2023-08-02T20:36:25.065Z"
   },
   {
    "duration": 6,
    "start_time": "2023-08-02T20:36:25.071Z"
   },
   {
    "duration": 32,
    "start_time": "2023-08-02T20:36:25.079Z"
   },
   {
    "duration": 15,
    "start_time": "2023-08-02T20:36:25.113Z"
   },
   {
    "duration": 9,
    "start_time": "2023-08-02T20:36:25.130Z"
   },
   {
    "duration": 4,
    "start_time": "2023-08-02T20:36:25.140Z"
   },
   {
    "duration": 18,
    "start_time": "2023-08-02T20:36:25.146Z"
   },
   {
    "duration": 4,
    "start_time": "2023-08-02T20:36:25.167Z"
   },
   {
    "duration": 13,
    "start_time": "2023-08-02T20:36:25.172Z"
   },
   {
    "duration": 26,
    "start_time": "2023-08-02T20:36:25.187Z"
   },
   {
    "duration": 9,
    "start_time": "2023-08-02T20:36:25.214Z"
   },
   {
    "duration": 21,
    "start_time": "2023-08-02T20:36:25.225Z"
   },
   {
    "duration": 22,
    "start_time": "2023-08-02T20:36:25.247Z"
   },
   {
    "duration": 7,
    "start_time": "2023-08-02T20:36:25.270Z"
   },
   {
    "duration": 810,
    "start_time": "2023-08-02T20:36:27.974Z"
   },
   {
    "duration": 6,
    "start_time": "2023-08-02T20:36:54.814Z"
   },
   {
    "duration": 708,
    "start_time": "2023-08-02T20:36:56.341Z"
   },
   {
    "duration": 9,
    "start_time": "2023-08-02T20:39:42.711Z"
   },
   {
    "duration": 730,
    "start_time": "2023-08-02T20:39:44.124Z"
   },
   {
    "duration": 96,
    "start_time": "2023-08-02T20:41:07.870Z"
   },
   {
    "duration": 747,
    "start_time": "2023-08-02T20:41:08.899Z"
   },
   {
    "duration": 6,
    "start_time": "2023-08-02T20:42:20.633Z"
   },
   {
    "duration": 740,
    "start_time": "2023-08-02T20:42:28.684Z"
   },
   {
    "duration": 16,
    "start_time": "2023-08-02T20:47:24.698Z"
   },
   {
    "duration": 1801,
    "start_time": "2023-08-02T20:47:26.419Z"
   },
   {
    "duration": 7,
    "start_time": "2023-08-02T20:47:51.151Z"
   },
   {
    "duration": 1135,
    "start_time": "2023-08-02T20:47:54.015Z"
   },
   {
    "duration": 4,
    "start_time": "2023-08-02T20:52:16.585Z"
   },
   {
    "duration": 426,
    "start_time": "2023-08-02T20:52:16.615Z"
   },
   {
    "duration": 16,
    "start_time": "2023-08-02T20:52:17.043Z"
   },
   {
    "duration": 4,
    "start_time": "2023-08-02T20:52:17.060Z"
   },
   {
    "duration": 275,
    "start_time": "2023-08-02T20:52:17.066Z"
   },
   {
    "duration": 353,
    "start_time": "2023-08-02T20:52:17.343Z"
   },
   {
    "duration": 26,
    "start_time": "2023-08-02T20:52:17.698Z"
   },
   {
    "duration": 12,
    "start_time": "2023-08-02T20:52:17.726Z"
   },
   {
    "duration": 213,
    "start_time": "2023-08-02T20:52:17.740Z"
   },
   {
    "duration": 135,
    "start_time": "2023-08-02T20:52:17.955Z"
   },
   {
    "duration": 21,
    "start_time": "2023-08-02T20:52:18.099Z"
   },
   {
    "duration": 120,
    "start_time": "2023-08-02T20:52:18.122Z"
   },
   {
    "duration": 14,
    "start_time": "2023-08-02T20:52:18.244Z"
   },
   {
    "duration": 6,
    "start_time": "2023-08-02T20:52:18.260Z"
   },
   {
    "duration": 8,
    "start_time": "2023-08-02T20:52:18.267Z"
   },
   {
    "duration": 141,
    "start_time": "2023-08-02T20:52:18.277Z"
   },
   {
    "duration": 33,
    "start_time": "2023-08-02T20:52:18.421Z"
   },
   {
    "duration": 7,
    "start_time": "2023-08-02T20:52:18.455Z"
   },
   {
    "duration": 9,
    "start_time": "2023-08-02T20:52:18.464Z"
   },
   {
    "duration": 9,
    "start_time": "2023-08-02T20:52:18.475Z"
   },
   {
    "duration": 14,
    "start_time": "2023-08-02T20:52:18.501Z"
   },
   {
    "duration": 7,
    "start_time": "2023-08-02T20:52:18.517Z"
   },
   {
    "duration": 6,
    "start_time": "2023-08-02T20:52:18.526Z"
   },
   {
    "duration": 12,
    "start_time": "2023-08-02T20:52:18.535Z"
   },
   {
    "duration": 4,
    "start_time": "2023-08-02T20:52:18.548Z"
   },
   {
    "duration": 6,
    "start_time": "2023-08-02T20:52:18.554Z"
   },
   {
    "duration": 15,
    "start_time": "2023-08-02T20:52:18.562Z"
   },
   {
    "duration": 45,
    "start_time": "2023-08-02T20:52:18.578Z"
   },
   {
    "duration": 17,
    "start_time": "2023-08-02T20:52:18.626Z"
   },
   {
    "duration": 9,
    "start_time": "2023-08-02T20:52:18.645Z"
   },
   {
    "duration": 10,
    "start_time": "2023-08-02T20:52:18.655Z"
   },
   {
    "duration": 6,
    "start_time": "2023-08-02T20:52:18.667Z"
   },
   {
    "duration": 7,
    "start_time": "2023-08-02T20:52:18.674Z"
   },
   {
    "duration": 27,
    "start_time": "2023-08-02T20:52:18.682Z"
   },
   {
    "duration": 1222,
    "start_time": "2023-08-02T20:52:21.939Z"
   },
   {
    "duration": 6,
    "start_time": "2023-08-02T20:54:29.559Z"
   },
   {
    "duration": 451,
    "start_time": "2023-08-02T20:54:31.323Z"
   },
   {
    "duration": 7,
    "start_time": "2023-08-02T20:55:44.057Z"
   },
   {
    "duration": 1448,
    "start_time": "2023-08-02T20:55:45.934Z"
   },
   {
    "duration": 6,
    "start_time": "2023-08-02T20:56:40.558Z"
   },
   {
    "duration": 1347,
    "start_time": "2023-08-02T20:56:43.085Z"
   },
   {
    "duration": 82,
    "start_time": "2023-08-02T20:57:25.043Z"
   },
   {
    "duration": 8,
    "start_time": "2023-08-02T20:57:29.426Z"
   },
   {
    "duration": 1164,
    "start_time": "2023-08-02T20:57:31.824Z"
   },
   {
    "duration": 6,
    "start_time": "2023-08-02T20:59:10.945Z"
   },
   {
    "duration": 1099,
    "start_time": "2023-08-02T20:59:12.565Z"
   },
   {
    "duration": 7,
    "start_time": "2023-08-02T21:01:59.731Z"
   },
   {
    "duration": 1189,
    "start_time": "2023-08-02T21:02:01.649Z"
   },
   {
    "duration": 6,
    "start_time": "2023-08-02T21:02:32.858Z"
   },
   {
    "duration": 1094,
    "start_time": "2023-08-02T21:02:35.731Z"
   },
   {
    "duration": 79,
    "start_time": "2023-08-02T21:05:32.650Z"
   },
   {
    "duration": 8,
    "start_time": "2023-08-02T21:12:48.342Z"
   },
   {
    "duration": 38,
    "start_time": "2023-08-02T21:13:19.279Z"
   },
   {
    "duration": 17,
    "start_time": "2023-08-02T21:13:39.727Z"
   },
   {
    "duration": 5,
    "start_time": "2023-08-02T21:16:38.648Z"
   },
   {
    "duration": 17,
    "start_time": "2023-08-02T21:17:28.187Z"
   },
   {
    "duration": 4,
    "start_time": "2023-08-02T21:17:32.440Z"
   },
   {
    "duration": 1076,
    "start_time": "2023-08-02T21:17:32.638Z"
   },
   {
    "duration": 7,
    "start_time": "2023-08-02T21:18:34.830Z"
   },
   {
    "duration": 1111,
    "start_time": "2023-08-02T21:18:36.494Z"
   },
   {
    "duration": 3,
    "start_time": "2023-08-02T21:19:09.316Z"
   },
   {
    "duration": 412,
    "start_time": "2023-08-02T21:19:09.322Z"
   },
   {
    "duration": 24,
    "start_time": "2023-08-02T21:19:09.736Z"
   },
   {
    "duration": 4,
    "start_time": "2023-08-02T21:19:09.762Z"
   },
   {
    "duration": 244,
    "start_time": "2023-08-02T21:19:09.769Z"
   },
   {
    "duration": 319,
    "start_time": "2023-08-02T21:19:10.018Z"
   },
   {
    "duration": 23,
    "start_time": "2023-08-02T21:19:10.338Z"
   },
   {
    "duration": 5,
    "start_time": "2023-08-02T21:19:10.362Z"
   },
   {
    "duration": 228,
    "start_time": "2023-08-02T21:19:10.368Z"
   },
   {
    "duration": 129,
    "start_time": "2023-08-02T21:19:10.598Z"
   },
   {
    "duration": 9,
    "start_time": "2023-08-02T21:19:10.728Z"
   },
   {
    "duration": 107,
    "start_time": "2023-08-02T21:19:10.739Z"
   },
   {
    "duration": 11,
    "start_time": "2023-08-02T21:19:10.847Z"
   },
   {
    "duration": 3,
    "start_time": "2023-08-02T21:19:10.861Z"
   },
   {
    "duration": 4,
    "start_time": "2023-08-02T21:19:10.866Z"
   },
   {
    "duration": 133,
    "start_time": "2023-08-02T21:19:10.871Z"
   },
   {
    "duration": 24,
    "start_time": "2023-08-02T21:19:11.005Z"
   },
   {
    "duration": 15,
    "start_time": "2023-08-02T21:19:11.030Z"
   },
   {
    "duration": 6,
    "start_time": "2023-08-02T21:19:11.047Z"
   },
   {
    "duration": 8,
    "start_time": "2023-08-02T21:19:11.055Z"
   },
   {
    "duration": 5,
    "start_time": "2023-08-02T21:19:11.065Z"
   },
   {
    "duration": 5,
    "start_time": "2023-08-02T21:19:11.072Z"
   },
   {
    "duration": 14,
    "start_time": "2023-08-02T21:19:11.104Z"
   },
   {
    "duration": 20,
    "start_time": "2023-08-02T21:19:11.122Z"
   },
   {
    "duration": 13,
    "start_time": "2023-08-02T21:19:11.144Z"
   },
   {
    "duration": 7,
    "start_time": "2023-08-02T21:19:11.159Z"
   },
   {
    "duration": 22,
    "start_time": "2023-08-02T21:19:11.168Z"
   },
   {
    "duration": 5,
    "start_time": "2023-08-02T21:19:11.192Z"
   },
   {
    "duration": 40,
    "start_time": "2023-08-02T21:19:11.205Z"
   },
   {
    "duration": 11,
    "start_time": "2023-08-02T21:19:11.247Z"
   },
   {
    "duration": 18,
    "start_time": "2023-08-02T21:19:11.260Z"
   },
   {
    "duration": 7,
    "start_time": "2023-08-02T21:19:11.280Z"
   },
   {
    "duration": 27,
    "start_time": "2023-08-02T21:19:11.289Z"
   },
   {
    "duration": 26,
    "start_time": "2023-08-02T21:19:11.317Z"
   },
   {
    "duration": 1002,
    "start_time": "2023-08-02T21:19:11.344Z"
   },
   {
    "duration": 14,
    "start_time": "2023-08-02T21:19:12.348Z"
   },
   {
    "duration": 52,
    "start_time": "2023-08-02T21:19:12.365Z"
   },
   {
    "duration": 30,
    "start_time": "2023-08-02T21:19:12.419Z"
   },
   {
    "duration": 13,
    "start_time": "2023-08-02T21:19:12.451Z"
   },
   {
    "duration": 8,
    "start_time": "2023-08-02T21:19:12.465Z"
   },
   {
    "duration": 1152,
    "start_time": "2023-08-02T21:19:16.988Z"
   },
   {
    "duration": 7,
    "start_time": "2023-08-02T21:20:35.542Z"
   },
   {
    "duration": 892,
    "start_time": "2023-08-02T21:20:37.217Z"
   },
   {
    "duration": 5,
    "start_time": "2023-08-02T21:20:53.091Z"
   },
   {
    "duration": 1223,
    "start_time": "2023-08-02T21:20:54.714Z"
   },
   {
    "duration": 6,
    "start_time": "2023-08-02T21:21:05.131Z"
   },
   {
    "duration": 1301,
    "start_time": "2023-08-02T21:21:07.877Z"
   },
   {
    "duration": 4,
    "start_time": "2023-08-02T21:21:25.127Z"
   },
   {
    "duration": 456,
    "start_time": "2023-08-02T21:21:25.133Z"
   },
   {
    "duration": 30,
    "start_time": "2023-08-02T21:21:25.590Z"
   },
   {
    "duration": 12,
    "start_time": "2023-08-02T21:21:25.622Z"
   },
   {
    "duration": 226,
    "start_time": "2023-08-02T21:21:25.635Z"
   },
   {
    "duration": 325,
    "start_time": "2023-08-02T21:21:25.862Z"
   },
   {
    "duration": 25,
    "start_time": "2023-08-02T21:21:26.189Z"
   },
   {
    "duration": 32,
    "start_time": "2023-08-02T21:21:26.216Z"
   },
   {
    "duration": 204,
    "start_time": "2023-08-02T21:21:26.249Z"
   },
   {
    "duration": 120,
    "start_time": "2023-08-02T21:21:26.455Z"
   },
   {
    "duration": 10,
    "start_time": "2023-08-02T21:21:26.577Z"
   },
   {
    "duration": 110,
    "start_time": "2023-08-02T21:21:26.605Z"
   },
   {
    "duration": 12,
    "start_time": "2023-08-02T21:21:26.718Z"
   },
   {
    "duration": 23,
    "start_time": "2023-08-02T21:21:26.734Z"
   },
   {
    "duration": 21,
    "start_time": "2023-08-02T21:21:26.759Z"
   },
   {
    "duration": 145,
    "start_time": "2023-08-02T21:21:26.782Z"
   },
   {
    "duration": 20,
    "start_time": "2023-08-02T21:21:26.929Z"
   },
   {
    "duration": 10,
    "start_time": "2023-08-02T21:21:26.950Z"
   },
   {
    "duration": 19,
    "start_time": "2023-08-02T21:21:26.962Z"
   },
   {
    "duration": 15,
    "start_time": "2023-08-02T21:21:26.982Z"
   },
   {
    "duration": 21,
    "start_time": "2023-08-02T21:21:27.004Z"
   },
   {
    "duration": 20,
    "start_time": "2023-08-02T21:21:27.026Z"
   },
   {
    "duration": 17,
    "start_time": "2023-08-02T21:21:27.047Z"
   },
   {
    "duration": 55,
    "start_time": "2023-08-02T21:21:27.065Z"
   },
   {
    "duration": 18,
    "start_time": "2023-08-02T21:21:27.122Z"
   },
   {
    "duration": 20,
    "start_time": "2023-08-02T21:21:27.143Z"
   },
   {
    "duration": 47,
    "start_time": "2023-08-02T21:21:27.165Z"
   },
   {
    "duration": 10,
    "start_time": "2023-08-02T21:21:27.214Z"
   },
   {
    "duration": 20,
    "start_time": "2023-08-02T21:21:27.225Z"
   },
   {
    "duration": 16,
    "start_time": "2023-08-02T21:21:27.246Z"
   },
   {
    "duration": 16,
    "start_time": "2023-08-02T21:21:27.264Z"
   },
   {
    "duration": 33,
    "start_time": "2023-08-02T21:21:27.281Z"
   },
   {
    "duration": 10,
    "start_time": "2023-08-02T21:21:27.315Z"
   },
   {
    "duration": 38,
    "start_time": "2023-08-02T21:21:27.326Z"
   },
   {
    "duration": 1363,
    "start_time": "2023-08-02T21:21:27.366Z"
   },
   {
    "duration": 12,
    "start_time": "2023-08-02T21:21:28.730Z"
   },
   {
    "duration": 29,
    "start_time": "2023-08-02T21:21:28.743Z"
   },
   {
    "duration": 29,
    "start_time": "2023-08-02T21:21:28.773Z"
   },
   {
    "duration": 34,
    "start_time": "2023-08-02T21:21:28.806Z"
   },
   {
    "duration": 6,
    "start_time": "2023-08-02T21:21:28.842Z"
   },
   {
    "duration": 1227,
    "start_time": "2023-08-02T21:21:32.158Z"
   },
   {
    "duration": 1015,
    "start_time": "2023-08-02T21:25:26.906Z"
   },
   {
    "duration": 367,
    "start_time": "2023-08-02T21:25:51.359Z"
   },
   {
    "duration": 5,
    "start_time": "2023-08-02T21:30:56.037Z"
   },
   {
    "duration": 423,
    "start_time": "2023-08-02T21:30:56.044Z"
   },
   {
    "duration": 41,
    "start_time": "2023-08-02T21:30:56.468Z"
   },
   {
    "duration": 4,
    "start_time": "2023-08-02T21:30:56.511Z"
   },
   {
    "duration": 228,
    "start_time": "2023-08-02T21:30:56.518Z"
   },
   {
    "duration": 308,
    "start_time": "2023-08-02T21:30:56.748Z"
   },
   {
    "duration": 18,
    "start_time": "2023-08-02T21:30:57.058Z"
   },
   {
    "duration": 8,
    "start_time": "2023-08-02T21:30:57.079Z"
   },
   {
    "duration": 224,
    "start_time": "2023-08-02T21:30:57.099Z"
   },
   {
    "duration": 138,
    "start_time": "2023-08-02T21:30:57.325Z"
   },
   {
    "duration": 13,
    "start_time": "2023-08-02T21:30:57.465Z"
   },
   {
    "duration": 105,
    "start_time": "2023-08-02T21:30:57.480Z"
   },
   {
    "duration": 12,
    "start_time": "2023-08-02T21:30:57.586Z"
   },
   {
    "duration": 11,
    "start_time": "2023-08-02T21:30:57.606Z"
   },
   {
    "duration": 9,
    "start_time": "2023-08-02T21:30:57.618Z"
   },
   {
    "duration": 107,
    "start_time": "2023-08-02T21:30:57.628Z"
   },
   {
    "duration": 19,
    "start_time": "2023-08-02T21:30:57.738Z"
   },
   {
    "duration": 7,
    "start_time": "2023-08-02T21:30:57.758Z"
   },
   {
    "duration": 18,
    "start_time": "2023-08-02T21:30:57.766Z"
   },
   {
    "duration": 7,
    "start_time": "2023-08-02T21:30:57.785Z"
   },
   {
    "duration": 12,
    "start_time": "2023-08-02T21:30:57.811Z"
   },
   {
    "duration": 35,
    "start_time": "2023-08-02T21:30:57.824Z"
   },
   {
    "duration": 30,
    "start_time": "2023-08-02T21:30:57.861Z"
   },
   {
    "duration": 44,
    "start_time": "2023-08-02T21:30:57.893Z"
   },
   {
    "duration": 13,
    "start_time": "2023-08-02T21:30:57.939Z"
   },
   {
    "duration": 19,
    "start_time": "2023-08-02T21:30:57.954Z"
   },
   {
    "duration": 23,
    "start_time": "2023-08-02T21:30:57.975Z"
   },
   {
    "duration": 27,
    "start_time": "2023-08-02T21:30:57.999Z"
   },
   {
    "duration": 17,
    "start_time": "2023-08-02T21:30:58.027Z"
   },
   {
    "duration": 11,
    "start_time": "2023-08-02T21:30:58.045Z"
   },
   {
    "duration": 19,
    "start_time": "2023-08-02T21:30:58.057Z"
   },
   {
    "duration": 15,
    "start_time": "2023-08-02T21:30:58.078Z"
   },
   {
    "duration": 29,
    "start_time": "2023-08-02T21:30:58.095Z"
   },
   {
    "duration": 21,
    "start_time": "2023-08-02T21:30:58.126Z"
   },
   {
    "duration": 1306,
    "start_time": "2023-08-02T21:30:58.149Z"
   },
   {
    "duration": 11,
    "start_time": "2023-08-02T21:30:59.457Z"
   },
   {
    "duration": 16,
    "start_time": "2023-08-02T21:30:59.469Z"
   },
   {
    "duration": 27,
    "start_time": "2023-08-02T21:30:59.499Z"
   },
   {
    "duration": 13,
    "start_time": "2023-08-02T21:30:59.528Z"
   },
   {
    "duration": 7,
    "start_time": "2023-08-02T21:30:59.542Z"
   },
   {
    "duration": 1138,
    "start_time": "2023-08-02T21:30:59.552Z"
   },
   {
    "duration": 22,
    "start_time": "2023-08-02T21:31:00.691Z"
   },
   {
    "duration": 63,
    "start_time": "2023-08-02T21:31:00.715Z"
   },
   {
    "duration": 37,
    "start_time": "2023-08-02T21:31:00.779Z"
   },
   {
    "duration": 1438,
    "start_time": "2023-08-02T21:31:00.818Z"
   },
   {
    "duration": 8,
    "start_time": "2023-08-02T21:31:02.258Z"
   },
   {
    "duration": 37,
    "start_time": "2023-08-02T21:31:02.268Z"
   },
   {
    "duration": 28,
    "start_time": "2023-08-02T21:31:02.309Z"
   },
   {
    "duration": 44,
    "start_time": "2023-08-02T21:31:02.339Z"
   },
   {
    "duration": 226,
    "start_time": "2023-08-02T21:31:02.385Z"
   },
   {
    "duration": 199,
    "start_time": "2023-08-02T21:31:05.578Z"
   },
   {
    "duration": 399,
    "start_time": "2023-08-02T21:31:20.973Z"
   },
   {
    "duration": 369,
    "start_time": "2023-08-02T21:32:06.977Z"
   },
   {
    "duration": 484,
    "start_time": "2023-08-02T21:32:51.648Z"
   },
   {
    "duration": 399,
    "start_time": "2023-08-02T21:34:04.682Z"
   },
   {
    "duration": 281,
    "start_time": "2023-08-02T21:42:22.728Z"
   },
   {
    "duration": 8,
    "start_time": "2023-08-02T21:42:31.347Z"
   },
   {
    "duration": 742,
    "start_time": "2023-08-02T21:42:32.446Z"
   },
   {
    "duration": 940,
    "start_time": "2023-08-02T21:43:19.254Z"
   },
   {
    "duration": 9,
    "start_time": "2023-08-02T21:44:13.363Z"
   },
   {
    "duration": 5,
    "start_time": "2023-08-02T21:44:42.336Z"
   },
   {
    "duration": 71,
    "start_time": "2023-08-02T21:45:32.843Z"
   },
   {
    "duration": 19,
    "start_time": "2023-08-02T21:46:10.096Z"
   },
   {
    "duration": 16,
    "start_time": "2023-08-02T21:46:20.980Z"
   },
   {
    "duration": 346,
    "start_time": "2023-08-02T22:04:42.623Z"
   },
   {
    "duration": 432,
    "start_time": "2023-08-02T22:06:00.057Z"
   },
   {
    "duration": 190,
    "start_time": "2023-08-02T22:10:41.194Z"
   },
   {
    "duration": 15,
    "start_time": "2023-08-02T22:11:15.718Z"
   },
   {
    "duration": 175,
    "start_time": "2023-08-02T22:11:59.419Z"
   },
   {
    "duration": 211,
    "start_time": "2023-08-02T22:12:11.867Z"
   },
   {
    "duration": 181,
    "start_time": "2023-08-02T22:13:13.583Z"
   },
   {
    "duration": 329,
    "start_time": "2023-08-02T22:13:24.684Z"
   },
   {
    "duration": 236,
    "start_time": "2023-08-02T22:14:23.378Z"
   },
   {
    "duration": 211,
    "start_time": "2023-08-02T22:14:31.769Z"
   },
   {
    "duration": 5,
    "start_time": "2023-08-03T03:32:06.715Z"
   },
   {
    "duration": 4,
    "start_time": "2023-08-03T03:32:08.615Z"
   },
   {
    "duration": 1181,
    "start_time": "2023-08-03T03:32:09.951Z"
   },
   {
    "duration": 5,
    "start_time": "2023-08-03T03:32:28.718Z"
   },
   {
    "duration": 1162,
    "start_time": "2023-08-03T03:32:30.384Z"
   },
   {
    "duration": 115,
    "start_time": "2023-08-03T03:34:15.540Z"
   },
   {
    "duration": 4,
    "start_time": "2023-08-03T03:34:23.215Z"
   },
   {
    "duration": 413,
    "start_time": "2023-08-03T03:34:23.221Z"
   },
   {
    "duration": 16,
    "start_time": "2023-08-03T03:34:23.636Z"
   },
   {
    "duration": 3,
    "start_time": "2023-08-03T03:34:23.654Z"
   },
   {
    "duration": 224,
    "start_time": "2023-08-03T03:34:23.660Z"
   },
   {
    "duration": 299,
    "start_time": "2023-08-03T03:34:23.885Z"
   },
   {
    "duration": 29,
    "start_time": "2023-08-03T03:34:24.185Z"
   },
   {
    "duration": 3,
    "start_time": "2023-08-03T03:34:24.216Z"
   },
   {
    "duration": 197,
    "start_time": "2023-08-03T03:34:24.221Z"
   },
   {
    "duration": 112,
    "start_time": "2023-08-03T03:34:24.420Z"
   },
   {
    "duration": 8,
    "start_time": "2023-08-03T03:34:24.534Z"
   },
   {
    "duration": 102,
    "start_time": "2023-08-03T03:34:24.543Z"
   },
   {
    "duration": 15,
    "start_time": "2023-08-03T03:34:24.647Z"
   },
   {
    "duration": 4,
    "start_time": "2023-08-03T03:34:24.663Z"
   },
   {
    "duration": 6,
    "start_time": "2023-08-03T03:34:24.668Z"
   },
   {
    "duration": 138,
    "start_time": "2023-08-03T03:34:24.675Z"
   },
   {
    "duration": 18,
    "start_time": "2023-08-03T03:34:24.815Z"
   },
   {
    "duration": 6,
    "start_time": "2023-08-03T03:34:24.834Z"
   },
   {
    "duration": 2,
    "start_time": "2023-08-03T03:34:24.842Z"
   },
   {
    "duration": 5,
    "start_time": "2023-08-03T03:34:24.846Z"
   },
   {
    "duration": 5,
    "start_time": "2023-08-03T03:34:24.852Z"
   },
   {
    "duration": 8,
    "start_time": "2023-08-03T03:34:24.858Z"
   },
   {
    "duration": 6,
    "start_time": "2023-08-03T03:34:24.867Z"
   },
   {
    "duration": 38,
    "start_time": "2023-08-03T03:34:24.875Z"
   },
   {
    "duration": 14,
    "start_time": "2023-08-03T03:34:24.914Z"
   },
   {
    "duration": 4,
    "start_time": "2023-08-03T03:34:24.929Z"
   },
   {
    "duration": 13,
    "start_time": "2023-08-03T03:34:24.934Z"
   },
   {
    "duration": 4,
    "start_time": "2023-08-03T03:34:24.948Z"
   },
   {
    "duration": 13,
    "start_time": "2023-08-03T03:34:24.955Z"
   },
   {
    "duration": 8,
    "start_time": "2023-08-03T03:34:24.969Z"
   },
   {
    "duration": 33,
    "start_time": "2023-08-03T03:34:24.979Z"
   },
   {
    "duration": 8,
    "start_time": "2023-08-03T03:34:25.014Z"
   },
   {
    "duration": 7,
    "start_time": "2023-08-03T03:34:25.025Z"
   },
   {
    "duration": 18,
    "start_time": "2023-08-03T03:34:25.034Z"
   },
   {
    "duration": 1314,
    "start_time": "2023-08-03T03:34:25.054Z"
   },
   {
    "duration": 11,
    "start_time": "2023-08-03T03:34:26.370Z"
   },
   {
    "duration": 53,
    "start_time": "2023-08-03T03:34:26.382Z"
   },
   {
    "duration": 32,
    "start_time": "2023-08-03T03:34:26.437Z"
   },
   {
    "duration": 50,
    "start_time": "2023-08-03T03:34:26.471Z"
   },
   {
    "duration": 31,
    "start_time": "2023-08-03T03:34:26.523Z"
   },
   {
    "duration": 1233,
    "start_time": "2023-08-03T03:34:31.111Z"
   },
   {
    "duration": 25,
    "start_time": "2023-08-03T03:34:43.693Z"
   },
   {
    "duration": 7,
    "start_time": "2023-08-03T03:34:46.726Z"
   },
   {
    "duration": 5,
    "start_time": "2023-08-03T03:34:48.395Z"
   },
   {
    "duration": 1311,
    "start_time": "2023-08-03T03:34:49.659Z"
   },
   {
    "duration": 9,
    "start_time": "2023-08-03T03:34:58.538Z"
   },
   {
    "duration": 6,
    "start_time": "2023-08-03T03:34:59.949Z"
   },
   {
    "duration": 5,
    "start_time": "2023-08-03T03:35:01.419Z"
   },
   {
    "duration": 4,
    "start_time": "2023-08-03T03:35:02.557Z"
   },
   {
    "duration": 191,
    "start_time": "2023-08-03T03:35:03.827Z"
   },
   {
    "duration": 519,
    "start_time": "2023-08-03T03:35:38.456Z"
   },
   {
    "duration": 8,
    "start_time": "2023-08-03T03:35:44.068Z"
   },
   {
    "duration": 857,
    "start_time": "2023-08-03T03:35:45.596Z"
   },
   {
    "duration": 844,
    "start_time": "2023-08-03T03:37:16.513Z"
   },
   {
    "duration": 4,
    "start_time": "2023-08-03T03:41:02.573Z"
   },
   {
    "duration": 399,
    "start_time": "2023-08-03T03:41:02.585Z"
   },
   {
    "duration": 29,
    "start_time": "2023-08-03T03:41:02.985Z"
   },
   {
    "duration": 6,
    "start_time": "2023-08-03T03:41:03.016Z"
   },
   {
    "duration": 216,
    "start_time": "2023-08-03T03:41:03.024Z"
   },
   {
    "duration": 301,
    "start_time": "2023-08-03T03:41:03.241Z"
   },
   {
    "duration": 23,
    "start_time": "2023-08-03T03:41:03.545Z"
   },
   {
    "duration": 4,
    "start_time": "2023-08-03T03:41:03.570Z"
   },
   {
    "duration": 204,
    "start_time": "2023-08-03T03:41:03.576Z"
   },
   {
    "duration": 131,
    "start_time": "2023-08-03T03:41:03.781Z"
   },
   {
    "duration": 9,
    "start_time": "2023-08-03T03:41:03.915Z"
   },
   {
    "duration": 92,
    "start_time": "2023-08-03T03:41:03.926Z"
   },
   {
    "duration": 11,
    "start_time": "2023-08-03T03:41:04.019Z"
   },
   {
    "duration": 4,
    "start_time": "2023-08-03T03:41:04.032Z"
   },
   {
    "duration": 7,
    "start_time": "2023-08-03T03:41:04.037Z"
   },
   {
    "duration": 115,
    "start_time": "2023-08-03T03:41:04.045Z"
   },
   {
    "duration": 18,
    "start_time": "2023-08-03T03:41:04.162Z"
   },
   {
    "duration": 27,
    "start_time": "2023-08-03T03:41:04.182Z"
   },
   {
    "duration": 3,
    "start_time": "2023-08-03T03:41:04.211Z"
   },
   {
    "duration": 24,
    "start_time": "2023-08-03T03:41:04.216Z"
   },
   {
    "duration": 6,
    "start_time": "2023-08-03T03:41:04.242Z"
   },
   {
    "duration": 12,
    "start_time": "2023-08-03T03:41:04.249Z"
   },
   {
    "duration": 5,
    "start_time": "2023-08-03T03:41:04.262Z"
   },
   {
    "duration": 14,
    "start_time": "2023-08-03T03:41:04.268Z"
   },
   {
    "duration": 4,
    "start_time": "2023-08-03T03:41:04.283Z"
   },
   {
    "duration": 5,
    "start_time": "2023-08-03T03:41:04.288Z"
   },
   {
    "duration": 17,
    "start_time": "2023-08-03T03:41:04.301Z"
   },
   {
    "duration": 14,
    "start_time": "2023-08-03T03:41:04.320Z"
   },
   {
    "duration": 18,
    "start_time": "2023-08-03T03:41:04.338Z"
   },
   {
    "duration": 11,
    "start_time": "2023-08-03T03:41:04.358Z"
   },
   {
    "duration": 8,
    "start_time": "2023-08-03T03:41:04.371Z"
   },
   {
    "duration": 17,
    "start_time": "2023-08-03T03:41:04.380Z"
   },
   {
    "duration": 17,
    "start_time": "2023-08-03T03:41:04.399Z"
   },
   {
    "duration": 19,
    "start_time": "2023-08-03T03:41:04.418Z"
   },
   {
    "duration": 1155,
    "start_time": "2023-08-03T03:41:04.439Z"
   },
   {
    "duration": 23,
    "start_time": "2023-08-03T03:41:05.596Z"
   },
   {
    "duration": 26,
    "start_time": "2023-08-03T03:41:05.621Z"
   },
   {
    "duration": 24,
    "start_time": "2023-08-03T03:41:05.649Z"
   },
   {
    "duration": 12,
    "start_time": "2023-08-03T03:41:05.674Z"
   },
   {
    "duration": 22,
    "start_time": "2023-08-03T03:41:05.687Z"
   },
   {
    "duration": 1249,
    "start_time": "2023-08-03T03:41:05.714Z"
   },
   {
    "duration": 11,
    "start_time": "2023-08-03T03:41:06.964Z"
   },
   {
    "duration": 51,
    "start_time": "2023-08-03T03:41:06.976Z"
   },
   {
    "duration": 6,
    "start_time": "2023-08-03T03:41:07.029Z"
   },
   {
    "duration": 1357,
    "start_time": "2023-08-03T03:41:07.036Z"
   },
   {
    "duration": 10,
    "start_time": "2023-08-03T03:41:08.399Z"
   },
   {
    "duration": 17,
    "start_time": "2023-08-03T03:41:08.410Z"
   },
   {
    "duration": 9,
    "start_time": "2023-08-03T03:41:08.429Z"
   },
   {
    "duration": 6,
    "start_time": "2023-08-03T03:41:08.440Z"
   },
   {
    "duration": 174,
    "start_time": "2023-08-03T03:41:10.884Z"
   },
   {
    "duration": 464,
    "start_time": "2023-08-03T03:41:32.124Z"
   },
   {
    "duration": 353,
    "start_time": "2023-08-03T03:42:55.217Z"
   },
   {
    "duration": 4,
    "start_time": "2023-08-03T03:43:35.459Z"
   },
   {
    "duration": 458,
    "start_time": "2023-08-03T03:43:35.464Z"
   },
   {
    "duration": 25,
    "start_time": "2023-08-03T03:43:35.923Z"
   },
   {
    "duration": 5,
    "start_time": "2023-08-03T03:43:35.950Z"
   },
   {
    "duration": 260,
    "start_time": "2023-08-03T03:43:35.958Z"
   },
   {
    "duration": 299,
    "start_time": "2023-08-03T03:43:36.219Z"
   },
   {
    "duration": 14,
    "start_time": "2023-08-03T03:43:36.520Z"
   },
   {
    "duration": 4,
    "start_time": "2023-08-03T03:43:36.535Z"
   },
   {
    "duration": 192,
    "start_time": "2023-08-03T03:43:36.541Z"
   },
   {
    "duration": 120,
    "start_time": "2023-08-03T03:43:36.735Z"
   },
   {
    "duration": 9,
    "start_time": "2023-08-03T03:43:36.857Z"
   },
   {
    "duration": 99,
    "start_time": "2023-08-03T03:43:36.868Z"
   },
   {
    "duration": 12,
    "start_time": "2023-08-03T03:43:36.969Z"
   },
   {
    "duration": 4,
    "start_time": "2023-08-03T03:43:36.985Z"
   },
   {
    "duration": 10,
    "start_time": "2023-08-03T03:43:36.999Z"
   },
   {
    "duration": 112,
    "start_time": "2023-08-03T03:43:37.010Z"
   },
   {
    "duration": 17,
    "start_time": "2023-08-03T03:43:37.124Z"
   },
   {
    "duration": 6,
    "start_time": "2023-08-03T03:43:37.142Z"
   },
   {
    "duration": 2,
    "start_time": "2023-08-03T03:43:37.150Z"
   },
   {
    "duration": 13,
    "start_time": "2023-08-03T03:43:37.154Z"
   },
   {
    "duration": 5,
    "start_time": "2023-08-03T03:43:37.168Z"
   },
   {
    "duration": 24,
    "start_time": "2023-08-03T03:43:37.174Z"
   },
   {
    "duration": 24,
    "start_time": "2023-08-03T03:43:37.199Z"
   },
   {
    "duration": 10,
    "start_time": "2023-08-03T03:43:37.225Z"
   },
   {
    "duration": 8,
    "start_time": "2023-08-03T03:43:37.236Z"
   },
   {
    "duration": 9,
    "start_time": "2023-08-03T03:43:37.245Z"
   },
   {
    "duration": 18,
    "start_time": "2023-08-03T03:43:37.256Z"
   },
   {
    "duration": 38,
    "start_time": "2023-08-03T03:43:37.275Z"
   },
   {
    "duration": 13,
    "start_time": "2023-08-03T03:43:37.315Z"
   },
   {
    "duration": 8,
    "start_time": "2023-08-03T03:43:37.330Z"
   },
   {
    "duration": 7,
    "start_time": "2023-08-03T03:43:37.339Z"
   },
   {
    "duration": 6,
    "start_time": "2023-08-03T03:43:37.347Z"
   },
   {
    "duration": 6,
    "start_time": "2023-08-03T03:43:37.354Z"
   },
   {
    "duration": 21,
    "start_time": "2023-08-03T03:43:37.361Z"
   },
   {
    "duration": 1284,
    "start_time": "2023-08-03T03:43:37.383Z"
   },
   {
    "duration": 12,
    "start_time": "2023-08-03T03:43:38.669Z"
   },
   {
    "duration": 32,
    "start_time": "2023-08-03T03:43:38.683Z"
   },
   {
    "duration": 29,
    "start_time": "2023-08-03T03:43:38.716Z"
   },
   {
    "duration": 12,
    "start_time": "2023-08-03T03:43:38.746Z"
   },
   {
    "duration": 14,
    "start_time": "2023-08-03T03:43:38.759Z"
   },
   {
    "duration": 1258,
    "start_time": "2023-08-03T03:43:38.777Z"
   },
   {
    "duration": 10,
    "start_time": "2023-08-03T03:43:40.036Z"
   },
   {
    "duration": 10,
    "start_time": "2023-08-03T03:43:40.048Z"
   },
   {
    "duration": 4,
    "start_time": "2023-08-03T03:43:40.059Z"
   },
   {
    "duration": 1204,
    "start_time": "2023-08-03T03:43:40.064Z"
   },
   {
    "duration": 8,
    "start_time": "2023-08-03T03:43:41.269Z"
   },
   {
    "duration": 34,
    "start_time": "2023-08-03T03:43:41.279Z"
   },
   {
    "duration": 5,
    "start_time": "2023-08-03T03:43:41.315Z"
   },
   {
    "duration": 5,
    "start_time": "2023-08-03T03:43:41.322Z"
   },
   {
    "duration": 188,
    "start_time": "2023-08-03T03:43:41.329Z"
   },
   {
    "duration": 461,
    "start_time": "2023-08-03T03:43:41.519Z"
   },
   {
    "duration": 10,
    "start_time": "2023-08-03T03:43:41.983Z"
   },
   {
    "duration": 870,
    "start_time": "2023-08-03T03:43:41.994Z"
   },
   {
    "duration": 319,
    "start_time": "2023-08-03T03:43:42.866Z"
   },
   {
    "duration": 4,
    "start_time": "2023-08-03T03:43:43.186Z"
   },
   {
    "duration": 65,
    "start_time": "2023-08-03T03:43:43.191Z"
   },
   {
    "duration": 63,
    "start_time": "2023-08-03T03:43:43.257Z"
   },
   {
    "duration": 7,
    "start_time": "2023-08-03T03:43:46.574Z"
   },
   {
    "duration": 27,
    "start_time": "2023-08-03T03:43:49.284Z"
   },
   {
    "duration": 3,
    "start_time": "2023-08-03T03:43:51.115Z"
   },
   {
    "duration": 6,
    "start_time": "2023-08-03T03:43:56.815Z"
   },
   {
    "duration": 2396,
    "start_time": "2023-08-03T03:44:02.726Z"
   },
   {
    "duration": 5,
    "start_time": "2023-08-03T04:18:11.564Z"
   },
   {
    "duration": 1562,
    "start_time": "2023-08-03T04:18:17.399Z"
   },
   {
    "duration": 1314,
    "start_time": "2023-08-03T04:18:49.306Z"
   },
   {
    "duration": 1315,
    "start_time": "2023-08-03T04:19:06.129Z"
   },
   {
    "duration": 957,
    "start_time": "2023-08-03T04:20:03.369Z"
   },
   {
    "duration": 130,
    "start_time": "2023-08-03T04:21:21.745Z"
   },
   {
    "duration": 344,
    "start_time": "2023-08-03T04:21:44.699Z"
   },
   {
    "duration": 14,
    "start_time": "2023-08-03T04:24:38.576Z"
   },
   {
    "duration": 9,
    "start_time": "2023-08-03T04:24:47.833Z"
   },
   {
    "duration": 1386,
    "start_time": "2023-08-03T04:24:54.537Z"
   },
   {
    "duration": 5,
    "start_time": "2023-08-03T04:25:31.649Z"
   },
   {
    "duration": 1294,
    "start_time": "2023-08-03T04:25:36.030Z"
   },
   {
    "duration": 1411,
    "start_time": "2023-08-03T04:26:06.131Z"
   },
   {
    "duration": 1326,
    "start_time": "2023-08-03T04:26:40.191Z"
   },
   {
    "duration": 435,
    "start_time": "2023-08-03T04:27:55.523Z"
   },
   {
    "duration": 410,
    "start_time": "2023-08-03T04:28:56.153Z"
   },
   {
    "duration": 3275,
    "start_time": "2023-08-03T04:30:55.785Z"
   },
   {
    "duration": 4458,
    "start_time": "2023-08-03T04:31:07.229Z"
   },
   {
    "duration": 6,
    "start_time": "2023-08-03T04:31:38.318Z"
   },
   {
    "duration": 448,
    "start_time": "2023-08-03T04:35:49.076Z"
   },
   {
    "duration": 411,
    "start_time": "2023-08-03T04:36:20.080Z"
   },
   {
    "duration": 443,
    "start_time": "2023-08-03T04:36:58.817Z"
   },
   {
    "duration": 397,
    "start_time": "2023-08-03T04:37:14.827Z"
   },
   {
    "duration": 1759,
    "start_time": "2023-08-03T04:40:27.443Z"
   },
   {
    "duration": 440,
    "start_time": "2023-08-03T04:40:29.207Z"
   },
   {
    "duration": 18,
    "start_time": "2023-08-03T04:40:29.648Z"
   },
   {
    "duration": 4,
    "start_time": "2023-08-03T04:40:29.667Z"
   },
   {
    "duration": 259,
    "start_time": "2023-08-03T04:40:29.672Z"
   },
   {
    "duration": 348,
    "start_time": "2023-08-03T04:40:29.933Z"
   },
   {
    "duration": 30,
    "start_time": "2023-08-03T04:40:30.283Z"
   },
   {
    "duration": 64,
    "start_time": "2023-08-03T04:40:30.314Z"
   },
   {
    "duration": 250,
    "start_time": "2023-08-03T04:40:30.380Z"
   },
   {
    "duration": 126,
    "start_time": "2023-08-03T04:40:30.635Z"
   },
   {
    "duration": 9,
    "start_time": "2023-08-03T04:40:30.763Z"
   },
   {
    "duration": 157,
    "start_time": "2023-08-03T04:40:30.774Z"
   },
   {
    "duration": 17,
    "start_time": "2023-08-03T04:40:30.932Z"
   },
   {
    "duration": 9,
    "start_time": "2023-08-03T04:40:30.951Z"
   },
   {
    "duration": 30,
    "start_time": "2023-08-03T04:40:30.961Z"
   },
   {
    "duration": 165,
    "start_time": "2023-08-03T04:40:30.993Z"
   },
   {
    "duration": 18,
    "start_time": "2023-08-03T04:40:31.160Z"
   },
   {
    "duration": 7,
    "start_time": "2023-08-03T04:40:31.180Z"
   },
   {
    "duration": 55,
    "start_time": "2023-08-03T04:40:31.188Z"
   },
   {
    "duration": 43,
    "start_time": "2023-08-03T04:40:31.245Z"
   },
   {
    "duration": 45,
    "start_time": "2023-08-03T04:40:31.290Z"
   },
   {
    "duration": 17,
    "start_time": "2023-08-03T04:40:31.336Z"
   },
   {
    "duration": 24,
    "start_time": "2023-08-03T04:40:31.354Z"
   },
   {
    "duration": 30,
    "start_time": "2023-08-03T04:40:31.379Z"
   },
   {
    "duration": 28,
    "start_time": "2023-08-03T04:40:31.417Z"
   },
   {
    "duration": 17,
    "start_time": "2023-08-03T04:40:31.447Z"
   },
   {
    "duration": 26,
    "start_time": "2023-08-03T04:40:31.465Z"
   },
   {
    "duration": 42,
    "start_time": "2023-08-03T04:40:31.496Z"
   },
   {
    "duration": 37,
    "start_time": "2023-08-03T04:40:31.540Z"
   },
   {
    "duration": 20,
    "start_time": "2023-08-03T04:40:31.578Z"
   },
   {
    "duration": 52,
    "start_time": "2023-08-03T04:40:31.599Z"
   },
   {
    "duration": 37,
    "start_time": "2023-08-03T04:40:31.652Z"
   },
   {
    "duration": 41,
    "start_time": "2023-08-03T04:40:31.691Z"
   },
   {
    "duration": 48,
    "start_time": "2023-08-03T04:40:31.733Z"
   },
   {
    "duration": 1362,
    "start_time": "2023-08-03T04:40:31.783Z"
   },
   {
    "duration": 14,
    "start_time": "2023-08-03T04:40:33.146Z"
   },
   {
    "duration": 17,
    "start_time": "2023-08-03T04:40:33.162Z"
   },
   {
    "duration": 45,
    "start_time": "2023-08-03T04:40:33.181Z"
   },
   {
    "duration": 13,
    "start_time": "2023-08-03T04:40:33.228Z"
   },
   {
    "duration": 5,
    "start_time": "2023-08-03T04:40:33.243Z"
   },
   {
    "duration": 1367,
    "start_time": "2023-08-03T04:40:33.249Z"
   },
   {
    "duration": 12,
    "start_time": "2023-08-03T04:40:34.626Z"
   },
   {
    "duration": 8,
    "start_time": "2023-08-03T04:40:34.639Z"
   },
   {
    "duration": 5,
    "start_time": "2023-08-03T04:40:34.649Z"
   },
   {
    "duration": 1472,
    "start_time": "2023-08-03T04:40:34.656Z"
   },
   {
    "duration": 16,
    "start_time": "2023-08-03T04:40:36.130Z"
   },
   {
    "duration": 25,
    "start_time": "2023-08-03T04:40:36.148Z"
   },
   {
    "duration": 16,
    "start_time": "2023-08-03T04:40:36.175Z"
   },
   {
    "duration": 59,
    "start_time": "2023-08-03T04:40:36.193Z"
   },
   {
    "duration": 276,
    "start_time": "2023-08-03T04:40:36.258Z"
   },
   {
    "duration": 377,
    "start_time": "2023-08-03T04:40:36.535Z"
   },
   {
    "duration": 11,
    "start_time": "2023-08-03T04:40:36.914Z"
   },
   {
    "duration": 922,
    "start_time": "2023-08-03T04:40:36.927Z"
   },
   {
    "duration": 339,
    "start_time": "2023-08-03T04:40:37.850Z"
   },
   {
    "duration": 30,
    "start_time": "2023-08-03T04:40:38.191Z"
   },
   {
    "duration": 28,
    "start_time": "2023-08-03T04:40:38.223Z"
   },
   {
    "duration": 9,
    "start_time": "2023-08-03T04:40:38.253Z"
   },
   {
    "duration": 23,
    "start_time": "2023-08-03T04:40:38.264Z"
   },
   {
    "duration": 60,
    "start_time": "2023-08-03T04:40:38.288Z"
   },
   {
    "duration": 3,
    "start_time": "2023-08-03T04:40:38.351Z"
   },
   {
    "duration": 18,
    "start_time": "2023-08-03T04:40:38.356Z"
   },
   {
    "duration": 3230,
    "start_time": "2023-08-03T04:40:38.376Z"
   },
   {
    "duration": 9,
    "start_time": "2023-08-03T04:40:41.611Z"
   },
   {
    "duration": 241390,
    "start_time": "2023-08-03T04:40:41.624Z"
   },
   {
    "duration": 8,
    "start_time": "2023-08-03T04:44:43.022Z"
   },
   {
    "duration": 31,
    "start_time": "2023-08-03T04:44:43.031Z"
   },
   {
    "duration": 175,
    "start_time": "2023-08-03T04:44:43.064Z"
   },
   {
    "duration": 0,
    "start_time": "2023-08-03T04:44:43.241Z"
   },
   {
    "duration": 0,
    "start_time": "2023-08-03T04:44:43.242Z"
   },
   {
    "duration": 0,
    "start_time": "2023-08-03T04:44:43.243Z"
   },
   {
    "duration": 0,
    "start_time": "2023-08-03T04:44:43.244Z"
   },
   {
    "duration": 1509,
    "start_time": "2023-08-03T04:45:13.586Z"
   },
   {
    "duration": 403,
    "start_time": "2023-08-03T04:45:15.096Z"
   },
   {
    "duration": 17,
    "start_time": "2023-08-03T04:45:15.513Z"
   },
   {
    "duration": 33,
    "start_time": "2023-08-03T04:45:15.533Z"
   },
   {
    "duration": 215,
    "start_time": "2023-08-03T04:45:15.567Z"
   },
   {
    "duration": 361,
    "start_time": "2023-08-03T04:45:15.783Z"
   },
   {
    "duration": 20,
    "start_time": "2023-08-03T04:45:16.146Z"
   },
   {
    "duration": 4,
    "start_time": "2023-08-03T04:45:16.168Z"
   },
   {
    "duration": 222,
    "start_time": "2023-08-03T04:45:16.174Z"
   },
   {
    "duration": 129,
    "start_time": "2023-08-03T04:45:16.399Z"
   },
   {
    "duration": 8,
    "start_time": "2023-08-03T04:45:16.530Z"
   },
   {
    "duration": 115,
    "start_time": "2023-08-03T04:45:16.540Z"
   },
   {
    "duration": 11,
    "start_time": "2023-08-03T04:45:16.657Z"
   },
   {
    "duration": 27,
    "start_time": "2023-08-03T04:45:16.670Z"
   },
   {
    "duration": 38,
    "start_time": "2023-08-03T04:45:16.704Z"
   },
   {
    "duration": 123,
    "start_time": "2023-08-03T04:45:16.743Z"
   },
   {
    "duration": 18,
    "start_time": "2023-08-03T04:45:16.869Z"
   },
   {
    "duration": 35,
    "start_time": "2023-08-03T04:45:16.889Z"
   },
   {
    "duration": 13,
    "start_time": "2023-08-03T04:45:16.925Z"
   },
   {
    "duration": 26,
    "start_time": "2023-08-03T04:45:16.940Z"
   },
   {
    "duration": 35,
    "start_time": "2023-08-03T04:45:16.967Z"
   },
   {
    "duration": 31,
    "start_time": "2023-08-03T04:45:17.003Z"
   },
   {
    "duration": 16,
    "start_time": "2023-08-03T04:45:17.035Z"
   },
   {
    "duration": 33,
    "start_time": "2023-08-03T04:45:17.052Z"
   },
   {
    "duration": 19,
    "start_time": "2023-08-03T04:45:17.086Z"
   },
   {
    "duration": 23,
    "start_time": "2023-08-03T04:45:17.117Z"
   },
   {
    "duration": 20,
    "start_time": "2023-08-03T04:45:17.141Z"
   },
   {
    "duration": 17,
    "start_time": "2023-08-03T04:45:17.165Z"
   },
   {
    "duration": 67,
    "start_time": "2023-08-03T04:45:17.184Z"
   },
   {
    "duration": 31,
    "start_time": "2023-08-03T04:45:17.252Z"
   },
   {
    "duration": 36,
    "start_time": "2023-08-03T04:45:17.285Z"
   },
   {
    "duration": 30,
    "start_time": "2023-08-03T04:45:17.323Z"
   },
   {
    "duration": 32,
    "start_time": "2023-08-03T04:45:17.355Z"
   },
   {
    "duration": 34,
    "start_time": "2023-08-03T04:45:17.389Z"
   },
   {
    "duration": 1425,
    "start_time": "2023-08-03T04:45:17.424Z"
   },
   {
    "duration": 17,
    "start_time": "2023-08-03T04:45:18.851Z"
   },
   {
    "duration": 67,
    "start_time": "2023-08-03T04:45:18.870Z"
   },
   {
    "duration": 22,
    "start_time": "2023-08-03T04:45:18.939Z"
   },
   {
    "duration": 24,
    "start_time": "2023-08-03T04:45:18.964Z"
   },
   {
    "duration": 39,
    "start_time": "2023-08-03T04:45:18.990Z"
   },
   {
    "duration": 1399,
    "start_time": "2023-08-03T04:45:19.031Z"
   },
   {
    "duration": 11,
    "start_time": "2023-08-03T04:45:20.432Z"
   },
   {
    "duration": 26,
    "start_time": "2023-08-03T04:45:20.444Z"
   },
   {
    "duration": 7,
    "start_time": "2023-08-03T04:45:20.471Z"
   },
   {
    "duration": 1327,
    "start_time": "2023-08-03T04:45:20.479Z"
   },
   {
    "duration": 8,
    "start_time": "2023-08-03T04:45:21.818Z"
   },
   {
    "duration": 20,
    "start_time": "2023-08-03T04:45:21.827Z"
   },
   {
    "duration": 8,
    "start_time": "2023-08-03T04:45:21.848Z"
   },
   {
    "duration": 18,
    "start_time": "2023-08-03T04:45:21.858Z"
   },
   {
    "duration": 243,
    "start_time": "2023-08-03T04:45:21.878Z"
   },
   {
    "duration": 421,
    "start_time": "2023-08-03T04:45:22.123Z"
   },
   {
    "duration": 9,
    "start_time": "2023-08-03T04:45:22.546Z"
   },
   {
    "duration": 1016,
    "start_time": "2023-08-03T04:45:22.556Z"
   },
   {
    "duration": 361,
    "start_time": "2023-08-03T04:45:23.574Z"
   },
   {
    "duration": 4,
    "start_time": "2023-08-03T04:45:23.937Z"
   },
   {
    "duration": 19,
    "start_time": "2023-08-03T04:45:23.942Z"
   },
   {
    "duration": 7,
    "start_time": "2023-08-03T04:45:23.962Z"
   },
   {
    "duration": 9,
    "start_time": "2023-08-03T04:45:23.971Z"
   },
   {
    "duration": 51,
    "start_time": "2023-08-03T04:45:23.982Z"
   },
   {
    "duration": 42,
    "start_time": "2023-08-03T04:45:24.035Z"
   },
   {
    "duration": 58,
    "start_time": "2023-08-03T04:45:24.079Z"
   },
   {
    "duration": 2782,
    "start_time": "2023-08-03T04:45:24.139Z"
   },
   {
    "duration": 3,
    "start_time": "2023-08-03T04:45:26.923Z"
   },
   {
    "duration": 329538,
    "start_time": "2023-08-03T04:45:26.927Z"
   },
   {
    "duration": 6,
    "start_time": "2023-08-03T04:50:56.466Z"
   },
   {
    "duration": 6,
    "start_time": "2023-08-03T04:50:56.473Z"
   },
   {
    "duration": 131,
    "start_time": "2023-08-03T04:50:56.480Z"
   },
   {
    "duration": 0,
    "start_time": "2023-08-03T04:50:56.612Z"
   },
   {
    "duration": 0,
    "start_time": "2023-08-03T04:50:56.613Z"
   },
   {
    "duration": 0,
    "start_time": "2023-08-03T04:50:56.614Z"
   },
   {
    "duration": 0,
    "start_time": "2023-08-03T04:50:56.615Z"
   },
   {
    "duration": 15897,
    "start_time": "2023-08-03T04:51:50.028Z"
   },
   {
    "duration": 6,
    "start_time": "2023-08-03T04:52:11.744Z"
   },
   {
    "duration": 6,
    "start_time": "2023-08-03T04:52:14.931Z"
   },
   {
    "duration": 14,
    "start_time": "2023-08-03T04:52:17.326Z"
   },
   {
    "duration": 13,
    "start_time": "2023-08-03T04:52:20.383Z"
   }
  ],
  "kernelspec": {
   "display_name": "Python 3 (ipykernel)",
   "language": "python",
   "name": "python3"
  },
  "language_info": {
   "codemirror_mode": {
    "name": "ipython",
    "version": 3
   },
   "file_extension": ".py",
   "mimetype": "text/x-python",
   "name": "python",
   "nbconvert_exporter": "python",
   "pygments_lexer": "ipython3",
   "version": "3.9.5"
  },
  "toc": {
   "base_numbering": 1,
   "nav_menu": {},
   "number_sections": true,
   "sideBar": true,
   "skip_h1_title": true,
   "title_cell": "Содержание",
   "title_sidebar": "Contents",
   "toc_cell": true,
   "toc_position": {},
   "toc_section_display": true,
   "toc_window_display": true
  }
 },
 "nbformat": 4,
 "nbformat_minor": 2
}
