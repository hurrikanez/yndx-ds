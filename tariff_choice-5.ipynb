{
 "cells": [
  {
   "cell_type": "markdown",
   "metadata": {},
   "source": [
    "# Рекомендация тарифов"
   ]
  },
  {
   "cell_type": "markdown",
   "metadata": {},
   "source": [
    "Оператор мобильной связи обнаружил, что многие клиенты продолжают использовать устаревшие тарифы. Они хотят разработать систему, способную анализировать поведение клиентов и предлагать им новые тарифные планы: \"Смарт\" или \"Ультра\". В вашем распоряжении имеются данные о поведении клиентов, которые уже перешли на эти тарифы (из проекта курса \"Статистический анализ данных\"). Вам необходимо создать модель для задачи классификации, которая будет выбирать подходящий тариф. Предварительная обработка данных не требуется, так как она уже выполнена.\n",
    "\n",
    "**Задача:**\n",
    "\n",
    "Построить модель для задачи классификации с максимально большим значением *accuracy*. Чтобы сдать проект успешно, нужно довести долю правильных ответов по крайней мере до 0.75. Проверить *accuracy* на тестовой выборке нужно самостоятельно.\n",
    "\n",
    "**Ход работы:**\n",
    "1. Открыть файл с данными и изучить его. Путь к файлу: /datasets/users_behavior.csv\n",
    "2. Разделить исходные данные на обучающую, валидационную и тестовую выборки.\n",
    "3. Исследовать качество разных моделей, меняя гиперпараметры. Кратко написать выводы исследования.\n",
    "4. Проверить качество модели на тестовой выборке.\n",
    "5. Дополнительное задание: проверить модели на вменяемость.\n",
    "\n",
    "**Описание данных**\n",
    "\n",
    "Каждый объект в наборе данных — это информация о поведении одного пользователя за месяц. Известно:\n",
    "* сalls — количество звонков,\n",
    "* minutes — суммарная длительность звонков в минутах,\n",
    "* messages — количество sms-сообщений,\n",
    "* mb_used — израсходованный интернет-трафик в Мб,\n",
    "* is_ultra — каким тарифом пользовался в течение месяца («Ультра» — 1, «Смарт» — 0)."
   ]
  },
  {
   "cell_type": "markdown",
   "metadata": {
    "toc": true
   },
   "source": [
    "<h1>Содержание<span class=\"tocSkip\"></span></h1>\n",
    "<div class=\"toc\"><ul class=\"toc-item\"><li><span><a href=\"#Откройте-и-изучите-файл\" data-toc-modified-id=\"Откройте-и-изучите-файл-1\"><span class=\"toc-item-num\">1&nbsp;&nbsp;</span>Откройте и изучите файл</a></span></li><li><span><a href=\"#Разбейте-данные-на-выборки\" data-toc-modified-id=\"Разбейте-данные-на-выборки-2\"><span class=\"toc-item-num\">2&nbsp;&nbsp;</span>Разбейте данные на выборки</a></span></li><li><span><a href=\"#Исследуйте-модели\" data-toc-modified-id=\"Исследуйте-модели-3\"><span class=\"toc-item-num\">3&nbsp;&nbsp;</span>Исследуйте модели</a></span><ul class=\"toc-item\"><li><span><a href=\"#Дерево-решений-(DecisionTreeClassifier)\" data-toc-modified-id=\"Дерево-решений-(DecisionTreeClassifier)-3.1\"><span class=\"toc-item-num\">3.1&nbsp;&nbsp;</span>Дерево решений (DecisionTreeClassifier)</a></span></li><li><span><a href=\"#Случайный-лес-(RandomForest)\" data-toc-modified-id=\"Случайный-лес-(RandomForest)-3.2\"><span class=\"toc-item-num\">3.2&nbsp;&nbsp;</span>Случайный лес (RandomForest)</a></span></li><li><span><a href=\"#Логистическая-регрессия-(LogisticRegression)\" data-toc-modified-id=\"Логистическая-регрессия-(LogisticRegression)-3.3\"><span class=\"toc-item-num\">3.3&nbsp;&nbsp;</span>Логистическая регрессия (LogisticRegression)</a></span></li></ul></li><li><span><a href=\"#Проверьте-модель-на-тестовой-выборке\" data-toc-modified-id=\"Проверьте-модель-на-тестовой-выборке-4\"><span class=\"toc-item-num\">4&nbsp;&nbsp;</span>Проверьте модель на тестовой выборке</a></span></li><li><span><a href=\"#Проверьте-модели-на-адекватность\" data-toc-modified-id=\"Проверьте-модели-на-адекватность-5\"><span class=\"toc-item-num\">5&nbsp;&nbsp;</span>Проверьте модели на адекватность</a></span></li><li><span><a href=\"#Вывод\" data-toc-modified-id=\"Вывод-6\"><span class=\"toc-item-num\">6&nbsp;&nbsp;</span>Вывод</a></span></li><li><span><a href=\"#Чек-лист-готовности-проекта\" data-toc-modified-id=\"Чек-лист-готовности-проекта-7\"><span class=\"toc-item-num\">7&nbsp;&nbsp;</span>Чек-лист готовности проекта</a></span></li><li><span><a href=\"#Общий-вывод-по-проекту\" data-toc-modified-id=\"Общий-вывод-по-проекту-8\"><span class=\"toc-item-num\">8&nbsp;&nbsp;</span><b>Общий вывод по проекту</b></a></span></li><li><span><a href=\"#Общий-вывод-по-проекту-В2\" data-toc-modified-id=\"Общий-вывод-по-проекту-В2-9\"><span class=\"toc-item-num\">9&nbsp;&nbsp;</span><b>Общий вывод по проекту В2</b></a></span></li></ul></div>"
   ]
  },
  {
   "cell_type": "markdown",
   "metadata": {},
   "source": [
    "****\n",
    "## Откройте и изучите файл"
   ]
  },
  {
   "cell_type": "code",
   "execution_count": 1,
   "metadata": {},
   "outputs": [],
   "source": [
    "import pandas as pd\n",
    "import time\n",
    "from sklearn.ensemble import RandomForestClassifier\n",
    "from sklearn.dummy import DummyClassifier\n",
    "from sklearn.linear_model import LogisticRegression\n",
    "from sklearn.metrics import accuracy_score\n",
    "from sklearn.model_selection import train_test_split \n",
    "from sklearn.tree import DecisionTreeClassifier"
   ]
  },
  {
   "cell_type": "code",
   "execution_count": 2,
   "metadata": {},
   "outputs": [],
   "source": [
    "df = pd.read_csv('/datasets/users_behavior.csv')"
   ]
  },
  {
   "cell_type": "code",
   "execution_count": 3,
   "metadata": {},
   "outputs": [
    {
     "data": {
      "text/html": [
       "<div>\n",
       "<style scoped>\n",
       "    .dataframe tbody tr th:only-of-type {\n",
       "        vertical-align: middle;\n",
       "    }\n",
       "\n",
       "    .dataframe tbody tr th {\n",
       "        vertical-align: top;\n",
       "    }\n",
       "\n",
       "    .dataframe thead th {\n",
       "        text-align: right;\n",
       "    }\n",
       "</style>\n",
       "<table border=\"1\" class=\"dataframe\">\n",
       "  <thead>\n",
       "    <tr style=\"text-align: right;\">\n",
       "      <th></th>\n",
       "      <th>calls</th>\n",
       "      <th>minutes</th>\n",
       "      <th>messages</th>\n",
       "      <th>mb_used</th>\n",
       "      <th>is_ultra</th>\n",
       "    </tr>\n",
       "  </thead>\n",
       "  <tbody>\n",
       "    <tr>\n",
       "      <th>0</th>\n",
       "      <td>40.0</td>\n",
       "      <td>311.90</td>\n",
       "      <td>83.0</td>\n",
       "      <td>19915.42</td>\n",
       "      <td>0</td>\n",
       "    </tr>\n",
       "    <tr>\n",
       "      <th>1</th>\n",
       "      <td>85.0</td>\n",
       "      <td>516.75</td>\n",
       "      <td>56.0</td>\n",
       "      <td>22696.96</td>\n",
       "      <td>0</td>\n",
       "    </tr>\n",
       "    <tr>\n",
       "      <th>2</th>\n",
       "      <td>77.0</td>\n",
       "      <td>467.66</td>\n",
       "      <td>86.0</td>\n",
       "      <td>21060.45</td>\n",
       "      <td>0</td>\n",
       "    </tr>\n",
       "    <tr>\n",
       "      <th>3</th>\n",
       "      <td>106.0</td>\n",
       "      <td>745.53</td>\n",
       "      <td>81.0</td>\n",
       "      <td>8437.39</td>\n",
       "      <td>1</td>\n",
       "    </tr>\n",
       "    <tr>\n",
       "      <th>4</th>\n",
       "      <td>66.0</td>\n",
       "      <td>418.74</td>\n",
       "      <td>1.0</td>\n",
       "      <td>14502.75</td>\n",
       "      <td>0</td>\n",
       "    </tr>\n",
       "  </tbody>\n",
       "</table>\n",
       "</div>"
      ],
      "text/plain": [
       "   calls  minutes  messages   mb_used  is_ultra\n",
       "0   40.0   311.90      83.0  19915.42         0\n",
       "1   85.0   516.75      56.0  22696.96         0\n",
       "2   77.0   467.66      86.0  21060.45         0\n",
       "3  106.0   745.53      81.0   8437.39         1\n",
       "4   66.0   418.74       1.0  14502.75         0"
      ]
     },
     "execution_count": 3,
     "metadata": {},
     "output_type": "execute_result"
    }
   ],
   "source": [
    "df.head()"
   ]
  },
  {
   "cell_type": "code",
   "execution_count": 4,
   "metadata": {},
   "outputs": [
    {
     "name": "stdout",
     "output_type": "stream",
     "text": [
      "<class 'pandas.core.frame.DataFrame'>\n",
      "RangeIndex: 3214 entries, 0 to 3213\n",
      "Data columns (total 5 columns):\n",
      " #   Column    Non-Null Count  Dtype  \n",
      "---  ------    --------------  -----  \n",
      " 0   calls     3214 non-null   float64\n",
      " 1   minutes   3214 non-null   float64\n",
      " 2   messages  3214 non-null   float64\n",
      " 3   mb_used   3214 non-null   float64\n",
      " 4   is_ultra  3214 non-null   int64  \n",
      "dtypes: float64(4), int64(1)\n",
      "memory usage: 125.7 KB\n"
     ]
    }
   ],
   "source": [
    "df.info()"
   ]
  },
  {
   "cell_type": "code",
   "execution_count": 5,
   "metadata": {},
   "outputs": [
    {
     "data": {
      "text/plain": [
       "0"
      ]
     },
     "execution_count": 5,
     "metadata": {},
     "output_type": "execute_result"
    }
   ],
   "source": [
    "df.duplicated().sum()"
   ]
  },
  {
   "cell_type": "code",
   "execution_count": 6,
   "metadata": {},
   "outputs": [
    {
     "data": {
      "text/html": [
       "<div>\n",
       "<style scoped>\n",
       "    .dataframe tbody tr th:only-of-type {\n",
       "        vertical-align: middle;\n",
       "    }\n",
       "\n",
       "    .dataframe tbody tr th {\n",
       "        vertical-align: top;\n",
       "    }\n",
       "\n",
       "    .dataframe thead th {\n",
       "        text-align: right;\n",
       "    }\n",
       "</style>\n",
       "<table border=\"1\" class=\"dataframe\">\n",
       "  <thead>\n",
       "    <tr style=\"text-align: right;\">\n",
       "      <th></th>\n",
       "      <th>calls</th>\n",
       "      <th>minutes</th>\n",
       "      <th>messages</th>\n",
       "      <th>mb_used</th>\n",
       "      <th>is_ultra</th>\n",
       "    </tr>\n",
       "  </thead>\n",
       "  <tbody>\n",
       "    <tr>\n",
       "      <th>count</th>\n",
       "      <td>3214.000000</td>\n",
       "      <td>3214.000000</td>\n",
       "      <td>3214.000000</td>\n",
       "      <td>3214.000000</td>\n",
       "      <td>3214.000000</td>\n",
       "    </tr>\n",
       "    <tr>\n",
       "      <th>mean</th>\n",
       "      <td>63.038892</td>\n",
       "      <td>438.208787</td>\n",
       "      <td>38.281269</td>\n",
       "      <td>17207.673836</td>\n",
       "      <td>0.306472</td>\n",
       "    </tr>\n",
       "    <tr>\n",
       "      <th>std</th>\n",
       "      <td>33.236368</td>\n",
       "      <td>234.569872</td>\n",
       "      <td>36.148326</td>\n",
       "      <td>7570.968246</td>\n",
       "      <td>0.461100</td>\n",
       "    </tr>\n",
       "    <tr>\n",
       "      <th>min</th>\n",
       "      <td>0.000000</td>\n",
       "      <td>0.000000</td>\n",
       "      <td>0.000000</td>\n",
       "      <td>0.000000</td>\n",
       "      <td>0.000000</td>\n",
       "    </tr>\n",
       "    <tr>\n",
       "      <th>25%</th>\n",
       "      <td>40.000000</td>\n",
       "      <td>274.575000</td>\n",
       "      <td>9.000000</td>\n",
       "      <td>12491.902500</td>\n",
       "      <td>0.000000</td>\n",
       "    </tr>\n",
       "    <tr>\n",
       "      <th>50%</th>\n",
       "      <td>62.000000</td>\n",
       "      <td>430.600000</td>\n",
       "      <td>30.000000</td>\n",
       "      <td>16943.235000</td>\n",
       "      <td>0.000000</td>\n",
       "    </tr>\n",
       "    <tr>\n",
       "      <th>75%</th>\n",
       "      <td>82.000000</td>\n",
       "      <td>571.927500</td>\n",
       "      <td>57.000000</td>\n",
       "      <td>21424.700000</td>\n",
       "      <td>1.000000</td>\n",
       "    </tr>\n",
       "    <tr>\n",
       "      <th>max</th>\n",
       "      <td>244.000000</td>\n",
       "      <td>1632.060000</td>\n",
       "      <td>224.000000</td>\n",
       "      <td>49745.730000</td>\n",
       "      <td>1.000000</td>\n",
       "    </tr>\n",
       "  </tbody>\n",
       "</table>\n",
       "</div>"
      ],
      "text/plain": [
       "             calls      minutes     messages       mb_used     is_ultra\n",
       "count  3214.000000  3214.000000  3214.000000   3214.000000  3214.000000\n",
       "mean     63.038892   438.208787    38.281269  17207.673836     0.306472\n",
       "std      33.236368   234.569872    36.148326   7570.968246     0.461100\n",
       "min       0.000000     0.000000     0.000000      0.000000     0.000000\n",
       "25%      40.000000   274.575000     9.000000  12491.902500     0.000000\n",
       "50%      62.000000   430.600000    30.000000  16943.235000     0.000000\n",
       "75%      82.000000   571.927500    57.000000  21424.700000     1.000000\n",
       "max     244.000000  1632.060000   224.000000  49745.730000     1.000000"
      ]
     },
     "execution_count": 6,
     "metadata": {},
     "output_type": "execute_result"
    }
   ],
   "source": [
    "df.describe()"
   ]
  },
  {
   "cell_type": "markdown",
   "metadata": {},
   "source": [
    "**Вывод:** в нашем распоряжении уже предобработанные данные о поведении пользователей тарифов \"Смарт\" и \"Ультра\" объемом 3214 строк. В них имеется информация о звонках, сообщениях, использованном траффике и тарифе пользователя. Столбец *is_ultra*, тариф пользователя, будет являться для нашей модели целевым признаком. Он является категориальным, соответсвенно будем решать задачу классификации."
   ]
  },
  {
   "cell_type": "markdown",
   "metadata": {},
   "source": [
    "****\n",
    "## Разбейте данные на выборки"
   ]
  },
  {
   "cell_type": "markdown",
   "metadata": {},
   "source": [
    "Так как спрятанной тестовой выборки нет, то данные нам нужно разбить на три части: обучающую, валидационную и тестовую. Разобъем имеющиеся данные по общепринятому сценарию в пропорциях 3:1:1."
   ]
  },
  {
   "cell_type": "code",
   "execution_count": 7,
   "metadata": {},
   "outputs": [],
   "source": [
    "df_train, df_nottrain = train_test_split(df, test_size=0.4, random_state=123)"
   ]
  },
  {
   "cell_type": "code",
   "execution_count": 8,
   "metadata": {},
   "outputs": [],
   "source": [
    "df_valid, df_test = train_test_split(df_nottrain, test_size = 0.5, random_state=123)"
   ]
  },
  {
   "cell_type": "code",
   "execution_count": 9,
   "metadata": {},
   "outputs": [
    {
     "data": {
      "text/plain": [
       "1928.3999999999999"
      ]
     },
     "execution_count": 9,
     "metadata": {},
     "output_type": "execute_result"
    }
   ],
   "source": [
    "len(df) * 0.6"
   ]
  },
  {
   "cell_type": "code",
   "execution_count": 10,
   "metadata": {},
   "outputs": [
    {
     "data": {
      "text/plain": [
       "642.8000000000001"
      ]
     },
     "execution_count": 10,
     "metadata": {},
     "output_type": "execute_result"
    }
   ],
   "source": [
    "len(df) * 0.2"
   ]
  },
  {
   "cell_type": "code",
   "execution_count": 11,
   "metadata": {},
   "outputs": [
    {
     "name": "stdout",
     "output_type": "stream",
     "text": [
      "(1928, 5)\n",
      "(643, 5)\n",
      "(643, 5)\n"
     ]
    }
   ],
   "source": [
    "print(df_train.shape)\n",
    "print(df_valid.shape)\n",
    "print(df_test.shape)"
   ]
  },
  {
   "cell_type": "code",
   "execution_count": 12,
   "metadata": {},
   "outputs": [],
   "source": [
    "features_train = df_train.drop('is_ultra', axis=1)\n",
    "target_train = df_train['is_ultra']"
   ]
  },
  {
   "cell_type": "code",
   "execution_count": 13,
   "metadata": {},
   "outputs": [],
   "source": [
    "features_valid = df_valid.drop('is_ultra', axis=1)\n",
    "target_valid = df_valid['is_ultra']"
   ]
  },
  {
   "cell_type": "code",
   "execution_count": 14,
   "metadata": {},
   "outputs": [],
   "source": [
    "features_test = df_test.drop('is_ultra', axis=1)\n",
    "target_test = df_test['is_ultra']"
   ]
  },
  {
   "cell_type": "markdown",
   "metadata": {},
   "source": [
    "**Вывод:** на данном шаге разделили измеющиеся данные на обучающую, валидационную и тестовую выборку в пропорциях 60% к 20% к 20% соответственно, а затем полученные выборки - на признаки и целевой признак. На обучающей в дальнейшем обучим модель, по валидационной будем выбирать значение гиперпараметров, по тестовой оценим готовую модель. "
   ]
  },
  {
   "cell_type": "markdown",
   "metadata": {},
   "source": [
    "****\n",
    "## Исследуйте модели"
   ]
  },
  {
   "cell_type": "markdown",
   "metadata": {},
   "source": [
    "Рассмотрим три алгоритма: деревье решений, случайный лес и логистическая регрессия."
   ]
  },
  {
   "cell_type": "markdown",
   "metadata": {},
   "source": [
    "### Дерево решений (DecisionTreeClassifier)\n",
    "Для дерева решений рассмотрим изменение следующих параметров: criterion (критерий, по которому определяется новый признак при ветвлении), max_depth (максимальная глубина дерева), и min_samples_leaf (минимальное количество объектов в листе - нижнем узле дерева)."
   ]
  },
  {
   "cell_type": "code",
   "execution_count": 15,
   "metadata": {},
   "outputs": [
    {
     "name": "stdout",
     "output_type": "stream",
     "text": [
      "Лучший результат: 0.8289269051321928 с глубиной 11, критерием entropy и минимальным количеством объектов в листе 5.\n",
      "Времени затрачено на обучение лучшей модели: 0.010110527276992798\n"
     ]
    }
   ],
   "source": [
    "best_model_tree = None\n",
    "best_result = 0\n",
    "\n",
    "for depth in range(1, 20):\n",
    "    for crit in ['gini', 'entropy']:\n",
    "        for leafs in range(1, 10):\n",
    "            start = time.perf_counter()\n",
    "            model = DecisionTreeClassifier(criterion=crit, max_depth=depth, min_samples_leaf=leafs, random_state=12345)\n",
    "            model.fit(features_train, target_train)\n",
    "            predictions = model.predict(features_valid)\n",
    "            end = time.perf_counter()\n",
    "            result = accuracy_score(target_valid, predictions) # посчитаем качество модели на валидационной выборке\n",
    "            if result > best_result:\n",
    "                best_model_tree = model # сохраним наилучшую модель\n",
    "                best_result = result\n",
    "                best_depth = depth\n",
    "                best_crit = crit\n",
    "                best_leafs = leafs\n",
    "                best_time = end - start\n",
    "                    \n",
    "print(f'Лучший результат: {best_result} с глубиной {best_depth}, критерием {best_crit} и минимальным количеством объектов в листе {best_leafs}.')\n",
    "print(f'Времени затрачено на обучение лучшей модели: {best_time}')"
   ]
  },
  {
   "cell_type": "markdown",
   "metadata": {},
   "source": [
    "### Случайный лес (RandomForest)\n",
    "Для леса будем изменять будем следующие три параметра: n_estimators (количество деревьев в лесу), criterion (критерий, по которому определяется новый признак при ветвлении), max_depth (глубина дерева). "
   ]
  },
  {
   "cell_type": "code",
   "execution_count": 16,
   "metadata": {},
   "outputs": [
    {
     "name": "stdout",
     "output_type": "stream",
     "text": [
      "Лучший результат: 0.8367029548989113 с количеством деревьев 31, их глубиной 9 и критерием gini.\n",
      "Времени затрачено на обучение лучшей модели: 0.10013682767748833\n"
     ]
    }
   ],
   "source": [
    "best_model_forest = None\n",
    "best_result = 0\n",
    "\n",
    "for depth in range(3, 20, 2):\n",
    "    for crit in ['gini', 'entropy']:\n",
    "        for est in range(5, 50):\n",
    "            start = time.perf_counter()\n",
    "            model = RandomForestClassifier(n_estimators=est, criterion=crit, max_depth=depth, random_state=12345)\n",
    "            model.fit(features_train, target_train)\n",
    "            predictions = model.predict(features_valid)\n",
    "            end = time.perf_counter()\n",
    "            result = accuracy_score(target_valid, predictions) # посчитаем качество модели на валидационной выборке\n",
    "            if result > best_result:\n",
    "                best_model_forest = model # сохраним наилучшую модель\n",
    "                best_result = result\n",
    "                best_depth = depth\n",
    "                best_crit = crit\n",
    "                best_est = est\n",
    "                best_time = end - start\n",
    "                    \n",
    "print(f'Лучший результат: {best_result} с количеством деревьев {best_est}, их глубиной {best_depth} и критерием {best_crit}.')\n",
    "print(f'Времени затрачено на обучение лучшей модели: {best_time}')"
   ]
  },
  {
   "cell_type": "markdown",
   "metadata": {},
   "source": [
    "### Логистическая регрессия (LogisticRegression)\n",
    "Для логистической регрессии рассмотрим значения параметров solver (позволяет выбрать алгоритм, который будет строить модель) и  max_iter (задаётся максимальное количество итераций обучения). "
   ]
  },
  {
   "cell_type": "code",
   "execution_count": 17,
   "metadata": {},
   "outputs": [
    {
     "name": "stdout",
     "output_type": "stream",
     "text": [
      "Лучший результат: 0.7589424572317263 на алгоритме lbfgs с количеством итераций для обучения 100.\n",
      "Времени затрачено на обучение лучшей модели: 0.030219383537769318\n"
     ]
    }
   ],
   "source": [
    "best_model_log = None\n",
    "best_result = 0\n",
    "\n",
    "for iters in range(100, 3000, 500):\n",
    "    for sol in ['lbfgs', 'liblinear', 'newton-cg']:\n",
    "        start = time.perf_counter()\n",
    "        model = LogisticRegression(random_state=12345, solver=sol, max_iter=1000)\n",
    "        model.fit(features_train, target_train)\n",
    "        predictions = model.predict(features_valid)\n",
    "        end = time.perf_counter()\n",
    "        result = accuracy_score(target_valid, predictions) # посчитаем качество модели на валидационной выборке\n",
    "        if result > best_result:\n",
    "            best_model_log = model # сохраним наилучшую модель\n",
    "            best_result = result\n",
    "            best_solver = sol\n",
    "            best_iters = iters\n",
    "            best_time = end - start\n",
    "                    \n",
    "print(f'Лучший результат: {best_result} на алгоритме {best_solver} с количеством итераций для обучения {best_iters}.')\n",
    "print(f'Времени затрачено на обучение лучшей модели: {best_time}')"
   ]
  },
  {
   "cell_type": "markdown",
   "metadata": {},
   "source": [
    "**Вывод**: на валидационной выборке наилучший результат вышел при применении случайного леса - 83,7% точности. Изменение параметром позволяет добиться большей точности."
   ]
  },
  {
   "cell_type": "markdown",
   "metadata": {},
   "source": [
    "****\n",
    "## Проверьте модель на тестовой выборке"
   ]
  },
  {
   "cell_type": "code",
   "execution_count": 18,
   "metadata": {},
   "outputs": [
    {
     "name": "stdout",
     "output_type": "stream",
     "text": [
      "Точность дерева решений на тестовой выборке: 0.7853810264385692\n"
     ]
    }
   ],
   "source": [
    "predictions = best_model_tree.predict(features_test)\n",
    "print('Точность дерева решений на тестовой выборке:', accuracy_score(target_test, predictions))"
   ]
  },
  {
   "cell_type": "code",
   "execution_count": 19,
   "metadata": {},
   "outputs": [
    {
     "name": "stdout",
     "output_type": "stream",
     "text": [
      "Точность случайного леса на тестовой выборке: 0.7822706065318819\n"
     ]
    }
   ],
   "source": [
    "predictions = best_model_forest.predict(features_test)\n",
    "print('Точность случайного леса на тестовой выборке:', accuracy_score(target_test, predictions))"
   ]
  },
  {
   "cell_type": "code",
   "execution_count": 20,
   "metadata": {},
   "outputs": [
    {
     "name": "stdout",
     "output_type": "stream",
     "text": [
      "Точность логистической регрессии на тестовой выборке: 0.7309486780715396\n"
     ]
    }
   ],
   "source": [
    "predictions = best_model_log.predict(features_test)\n",
    "print('Точность логистической регрессии на тестовой выборке:', accuracy_score(target_test, predictions))"
   ]
  },
  {
   "cell_type": "markdown",
   "metadata": {},
   "source": [
    "**Вывод:** наибольшую точность на тестовой выборке показала модель на основе деревья решений с глубиной 11, критерием entropy и минимальным количеством объектов в листе 5. Модель на случайном лесе, показавшая лучшие результаты на валидационной выборке справилась чуть хуже (0,003%), но так как она работает медленнее, победителем в данном случае однозначно становится дерево решений."
   ]
  },
  {
   "cell_type": "markdown",
   "metadata": {},
   "source": [
    "****\n",
    "## Проверьте модели на адекватность"
   ]
  },
  {
   "cell_type": "markdown",
   "metadata": {},
   "source": [
    "Для проверки адекватности моделей воспользуемся DummyClassifier, который игнорирует значение входных параметров ."
   ]
  },
  {
   "cell_type": "code",
   "execution_count": 21,
   "metadata": {},
   "outputs": [
    {
     "name": "stdout",
     "output_type": "stream",
     "text": [
      "Точность DummyClassifier на тестовой выборке: 0.6936236391912908\n"
     ]
    }
   ],
   "source": [
    "dummy_model = DummyClassifier(strategy='most_frequent', random_state=12345) \n",
    "dummy_model.fit(features_train, target_train)\n",
    "dummy_predictions = dummy_model.predict(features_test)\n",
    "print('Точность DummyClassifier на тестовой выборке:', accuracy_score(target_test, dummy_predictions))"
   ]
  },
  {
   "cell_type": "markdown",
   "metadata": {},
   "source": [
    "**Вывод**: полученные модели показывают точность выше, чем DummyClassifier, а значит, успешно выявляет какие-то взаимосвязи в данных и делает предсказания не случайным образом."
   ]
  },
  {
   "cell_type": "markdown",
   "metadata": {},
   "source": [
    "****\n",
    "## Вывод\n",
    "Целью проекта было построить модель для задачи классификации, способную проанализировать поведение клиентов и предложить пользователям подходящий новый тариф. В ходе работы были использованы данные о поведении клиентов, которые уже перешли на эти тарифы, объемом около 3х тысяч строк. <br>\n",
    "Были исследованы модели на основе следующих алгоритмов: дерево решений, случайный лес и логистическая регрессия. <br>\n",
    "Наилучший результат на тестовых данных показала модель на основе деревья решений с глубиной 11, критерием ветвления entropy и минимальным количеством объектов в листе 5 - ее точность составила 78,5%."
   ]
  },
  {
   "cell_type": "code",
   "execution_count": null,
   "metadata": {},
   "outputs": [],
   "source": []
  }
 ],
 "metadata": {
  "ExecuteTimeLog": [
   {
    "duration": 392,
    "start_time": "2023-05-09T23:37:22.635Z"
   },
   {
    "duration": 121,
    "start_time": "2023-05-09T23:37:35.956Z"
   },
   {
    "duration": 15,
    "start_time": "2023-05-09T23:37:43.331Z"
   },
   {
    "duration": 13,
    "start_time": "2023-05-09T23:38:01.802Z"
   },
   {
    "duration": 684,
    "start_time": "2023-05-09T23:47:54.325Z"
   },
   {
    "duration": 6,
    "start_time": "2023-05-09T23:51:38.581Z"
   },
   {
    "duration": 4,
    "start_time": "2023-05-09T23:52:20.101Z"
   },
   {
    "duration": 4,
    "start_time": "2023-05-09T23:53:03.124Z"
   },
   {
    "duration": 3,
    "start_time": "2023-05-09T23:54:22.410Z"
   },
   {
    "duration": 4,
    "start_time": "2023-05-09T23:54:35.771Z"
   },
   {
    "duration": 1257,
    "start_time": "2023-05-10T19:31:51.310Z"
   },
   {
    "duration": 62,
    "start_time": "2023-05-10T19:31:52.570Z"
   },
   {
    "duration": 22,
    "start_time": "2023-05-10T19:31:52.633Z"
   },
   {
    "duration": 12,
    "start_time": "2023-05-10T19:31:52.657Z"
   },
   {
    "duration": 9,
    "start_time": "2023-05-10T19:31:52.671Z"
   },
   {
    "duration": 28,
    "start_time": "2023-05-10T19:31:52.682Z"
   },
   {
    "duration": 5,
    "start_time": "2023-05-10T19:31:52.712Z"
   },
   {
    "duration": 8,
    "start_time": "2023-05-10T19:31:52.719Z"
   },
   {
    "duration": 21,
    "start_time": "2023-05-10T19:31:52.729Z"
   },
   {
    "duration": 5,
    "start_time": "2023-05-10T19:31:52.752Z"
   },
   {
    "duration": 9,
    "start_time": "2023-05-10T19:31:52.758Z"
   },
   {
    "duration": 5,
    "start_time": "2023-05-10T19:47:14.008Z"
   },
   {
    "duration": 5,
    "start_time": "2023-05-10T19:47:37.244Z"
   },
   {
    "duration": 5,
    "start_time": "2023-05-10T19:47:54.128Z"
   },
   {
    "duration": 143,
    "start_time": "2023-05-10T19:55:38.034Z"
   },
   {
    "duration": 45,
    "start_time": "2023-05-10T19:55:45.717Z"
   },
   {
    "duration": 51,
    "start_time": "2023-05-10T19:55:50.786Z"
   },
   {
    "duration": 567,
    "start_time": "2023-05-10T19:56:22.654Z"
   },
   {
    "duration": 79,
    "start_time": "2023-05-10T20:00:55.745Z"
   },
   {
    "duration": 19,
    "start_time": "2023-05-10T20:01:22.740Z"
   },
   {
    "duration": 21,
    "start_time": "2023-05-10T20:01:55.462Z"
   },
   {
    "duration": 3556,
    "start_time": "2023-05-10T20:02:26.967Z"
   },
   {
    "duration": 3155,
    "start_time": "2023-05-10T20:06:42.662Z"
   },
   {
    "duration": 8974,
    "start_time": "2023-05-10T20:07:40.742Z"
   },
   {
    "duration": 8829,
    "start_time": "2023-05-10T20:08:19.360Z"
   },
   {
    "duration": 8863,
    "start_time": "2023-05-10T20:08:55.200Z"
   },
   {
    "duration": 11699,
    "start_time": "2023-05-10T20:13:38.039Z"
   },
   {
    "duration": 20,
    "start_time": "2023-05-10T20:17:33.713Z"
   },
   {
    "duration": 2411,
    "start_time": "2023-05-10T20:21:41.375Z"
   },
   {
    "duration": 1310,
    "start_time": "2023-05-10T20:22:06.973Z"
   },
   {
    "duration": 44,
    "start_time": "2023-05-10T20:22:08.285Z"
   },
   {
    "duration": 20,
    "start_time": "2023-05-10T20:22:08.330Z"
   },
   {
    "duration": 12,
    "start_time": "2023-05-10T20:22:08.353Z"
   },
   {
    "duration": 7,
    "start_time": "2023-05-10T20:22:08.366Z"
   },
   {
    "duration": 29,
    "start_time": "2023-05-10T20:22:08.375Z"
   },
   {
    "duration": 4,
    "start_time": "2023-05-10T20:22:08.406Z"
   },
   {
    "duration": 12,
    "start_time": "2023-05-10T20:22:08.411Z"
   },
   {
    "duration": 14,
    "start_time": "2023-05-10T20:22:08.425Z"
   },
   {
    "duration": 13,
    "start_time": "2023-05-10T20:22:08.441Z"
   },
   {
    "duration": 7,
    "start_time": "2023-05-10T20:22:08.456Z"
   },
   {
    "duration": 43,
    "start_time": "2023-05-10T20:22:08.465Z"
   },
   {
    "duration": 6,
    "start_time": "2023-05-10T20:22:08.517Z"
   },
   {
    "duration": 6,
    "start_time": "2023-05-10T20:22:08.525Z"
   },
   {
    "duration": 129,
    "start_time": "2023-05-10T20:22:08.532Z"
   },
   {
    "duration": 0,
    "start_time": "2023-05-10T20:22:08.662Z"
   },
   {
    "duration": 29,
    "start_time": "2023-05-10T20:22:33.773Z"
   },
   {
    "duration": 2570,
    "start_time": "2023-05-10T20:22:52.285Z"
   },
   {
    "duration": 2867,
    "start_time": "2023-05-10T20:23:19.917Z"
   },
   {
    "duration": 2392,
    "start_time": "2023-05-10T20:25:25.924Z"
   },
   {
    "duration": 25,
    "start_time": "2023-05-10T20:29:04.309Z"
   },
   {
    "duration": 36470,
    "start_time": "2023-05-10T20:29:20.815Z"
   },
   {
    "duration": 4,
    "start_time": "2023-05-10T20:31:38.033Z"
   },
   {
    "duration": 2036,
    "start_time": "2023-05-10T20:46:29.015Z"
   },
   {
    "duration": 3808,
    "start_time": "2023-05-10T20:47:08.121Z"
   },
   {
    "duration": 6372,
    "start_time": "2023-05-10T20:48:28.935Z"
   },
   {
    "duration": 4062,
    "start_time": "2023-05-10T20:48:42.244Z"
   },
   {
    "duration": 1638,
    "start_time": "2023-05-10T20:48:57.623Z"
   },
   {
    "duration": 4921,
    "start_time": "2023-05-10T20:49:10.252Z"
   },
   {
    "duration": 9543,
    "start_time": "2023-05-10T20:49:43.420Z"
   },
   {
    "duration": 1675,
    "start_time": "2023-05-10T20:50:18.687Z"
   },
   {
    "duration": 6,
    "start_time": "2023-05-10T20:52:03.442Z"
   },
   {
    "duration": 57,
    "start_time": "2023-05-10T20:52:09.570Z"
   },
   {
    "duration": 3336,
    "start_time": "2023-05-10T20:52:21.224Z"
   },
   {
    "duration": 56,
    "start_time": "2023-05-10T20:53:09.381Z"
   },
   {
    "duration": 1670,
    "start_time": "2023-05-10T20:53:17.815Z"
   },
   {
    "duration": 1499,
    "start_time": "2023-05-10T21:01:22.649Z"
   },
   {
    "duration": 29,
    "start_time": "2023-05-10T21:01:24.151Z"
   },
   {
    "duration": 29,
    "start_time": "2023-05-10T21:01:24.183Z"
   },
   {
    "duration": 14,
    "start_time": "2023-05-10T21:01:24.214Z"
   },
   {
    "duration": 13,
    "start_time": "2023-05-10T21:01:24.230Z"
   },
   {
    "duration": 57,
    "start_time": "2023-05-10T21:01:24.246Z"
   },
   {
    "duration": 8,
    "start_time": "2023-05-10T21:01:24.307Z"
   },
   {
    "duration": 5,
    "start_time": "2023-05-10T21:01:24.318Z"
   },
   {
    "duration": 9,
    "start_time": "2023-05-10T21:01:24.326Z"
   },
   {
    "duration": 22,
    "start_time": "2023-05-10T21:01:24.338Z"
   },
   {
    "duration": 13,
    "start_time": "2023-05-10T21:01:24.363Z"
   },
   {
    "duration": 16,
    "start_time": "2023-05-10T21:01:24.378Z"
   },
   {
    "duration": 9,
    "start_time": "2023-05-10T21:01:24.396Z"
   },
   {
    "duration": 4,
    "start_time": "2023-05-10T21:01:24.412Z"
   },
   {
    "duration": 2289,
    "start_time": "2023-05-10T21:01:24.418Z"
   },
   {
    "duration": 34639,
    "start_time": "2023-05-10T21:01:26.709Z"
   },
   {
    "duration": 1703,
    "start_time": "2023-05-10T21:02:01.351Z"
   },
   {
    "duration": 20,
    "start_time": "2023-05-10T21:02:46.579Z"
   },
   {
    "duration": 21,
    "start_time": "2023-05-10T21:02:53.711Z"
   },
   {
    "duration": 16,
    "start_time": "2023-05-10T21:03:05.573Z"
   },
   {
    "duration": 7,
    "start_time": "2023-05-10T21:03:17.803Z"
   },
   {
    "duration": 9,
    "start_time": "2023-05-10T21:03:32.785Z"
   },
   {
    "duration": 1226,
    "start_time": "2023-05-10T21:03:43.314Z"
   },
   {
    "duration": 26,
    "start_time": "2023-05-10T21:03:44.542Z"
   },
   {
    "duration": 18,
    "start_time": "2023-05-10T21:03:44.570Z"
   },
   {
    "duration": 19,
    "start_time": "2023-05-10T21:03:44.594Z"
   },
   {
    "duration": 11,
    "start_time": "2023-05-10T21:03:44.617Z"
   },
   {
    "duration": 25,
    "start_time": "2023-05-10T21:03:44.630Z"
   },
   {
    "duration": 5,
    "start_time": "2023-05-10T21:03:44.657Z"
   },
   {
    "duration": 43,
    "start_time": "2023-05-10T21:03:44.664Z"
   },
   {
    "duration": 10,
    "start_time": "2023-05-10T21:03:44.709Z"
   },
   {
    "duration": 5,
    "start_time": "2023-05-10T21:03:44.721Z"
   },
   {
    "duration": 5,
    "start_time": "2023-05-10T21:03:44.728Z"
   },
   {
    "duration": 7,
    "start_time": "2023-05-10T21:03:44.735Z"
   },
   {
    "duration": 10,
    "start_time": "2023-05-10T21:03:44.743Z"
   },
   {
    "duration": 4,
    "start_time": "2023-05-10T21:03:44.757Z"
   },
   {
    "duration": 2379,
    "start_time": "2023-05-10T21:03:44.762Z"
   },
   {
    "duration": 31619,
    "start_time": "2023-05-10T21:03:47.143Z"
   },
   {
    "duration": 890,
    "start_time": "2023-05-10T21:04:18.763Z"
   },
   {
    "duration": 7,
    "start_time": "2023-05-10T21:04:19.655Z"
   },
   {
    "duration": 31,
    "start_time": "2023-05-10T21:04:19.664Z"
   },
   {
    "duration": 11,
    "start_time": "2023-05-10T21:04:19.697Z"
   },
   {
    "duration": 53912,
    "start_time": "2023-05-10T21:07:49.189Z"
   },
   {
    "duration": 164350,
    "start_time": "2023-05-10T21:09:21.903Z"
   },
   {
    "duration": 1207,
    "start_time": "2023-05-10T21:14:02.704Z"
   },
   {
    "duration": 26,
    "start_time": "2023-05-10T21:14:03.913Z"
   },
   {
    "duration": 20,
    "start_time": "2023-05-10T21:14:03.941Z"
   },
   {
    "duration": 13,
    "start_time": "2023-05-10T21:14:03.963Z"
   },
   {
    "duration": 18,
    "start_time": "2023-05-10T21:14:03.979Z"
   },
   {
    "duration": 29,
    "start_time": "2023-05-10T21:14:04.003Z"
   },
   {
    "duration": 5,
    "start_time": "2023-05-10T21:14:04.034Z"
   },
   {
    "duration": 6,
    "start_time": "2023-05-10T21:14:04.041Z"
   },
   {
    "duration": 4,
    "start_time": "2023-05-10T21:14:04.051Z"
   },
   {
    "duration": 8,
    "start_time": "2023-05-10T21:14:04.056Z"
   },
   {
    "duration": 35,
    "start_time": "2023-05-10T21:14:04.066Z"
   },
   {
    "duration": 6,
    "start_time": "2023-05-10T21:14:04.103Z"
   },
   {
    "duration": 5,
    "start_time": "2023-05-10T21:14:04.110Z"
   },
   {
    "duration": 4,
    "start_time": "2023-05-10T21:14:04.117Z"
   },
   {
    "duration": 3199,
    "start_time": "2023-05-10T21:14:04.123Z"
   },
   {
    "duration": 91000,
    "start_time": "2023-05-10T21:14:07.324Z"
   },
   {
    "duration": 941,
    "start_time": "2023-05-10T21:15:38.326Z"
   },
   {
    "duration": 7,
    "start_time": "2023-05-10T21:15:39.269Z"
   },
   {
    "duration": 29,
    "start_time": "2023-05-10T21:15:39.278Z"
   },
   {
    "duration": 8,
    "start_time": "2023-05-10T21:15:39.308Z"
   },
   {
    "duration": 5,
    "start_time": "2023-05-10T21:27:04.486Z"
   },
   {
    "duration": 12,
    "start_time": "2023-05-10T21:33:40.275Z"
   },
   {
    "duration": 7,
    "start_time": "2023-05-10T21:35:00.478Z"
   },
   {
    "duration": 6,
    "start_time": "2023-05-10T21:35:14.503Z"
   },
   {
    "duration": 10,
    "start_time": "2023-05-10T21:35:21.886Z"
   },
   {
    "duration": 6,
    "start_time": "2023-05-10T21:39:19.658Z"
   },
   {
    "duration": 6,
    "start_time": "2023-05-10T21:39:51.881Z"
   },
   {
    "duration": 21,
    "start_time": "2023-05-10T21:39:55.189Z"
   },
   {
    "duration": 8,
    "start_time": "2023-05-10T21:40:40.351Z"
   },
   {
    "duration": 4,
    "start_time": "2023-05-10T21:41:11.758Z"
   },
   {
    "duration": 137,
    "start_time": "2023-05-10T21:41:27.740Z"
   },
   {
    "duration": 7418,
    "start_time": "2023-05-10T21:41:47.491Z"
   },
   {
    "duration": 7115,
    "start_time": "2023-05-10T21:42:00.630Z"
   },
   {
    "duration": 3,
    "start_time": "2023-05-10T21:42:16.622Z"
   },
   {
    "duration": 6745,
    "start_time": "2023-05-10T21:42:21.263Z"
   },
   {
    "duration": 6886,
    "start_time": "2023-05-10T21:43:05.280Z"
   },
   {
    "duration": 12,
    "start_time": "2023-05-10T21:59:06.013Z"
   },
   {
    "duration": 3,
    "start_time": "2023-05-10T21:59:12.470Z"
   },
   {
    "duration": 3121,
    "start_time": "2023-05-10T21:59:16.412Z"
   },
   {
    "duration": 3096,
    "start_time": "2023-05-10T21:59:33.162Z"
   },
   {
    "duration": 3125,
    "start_time": "2023-05-10T22:00:04.612Z"
   },
   {
    "duration": 84208,
    "start_time": "2023-05-10T22:01:02.502Z"
   },
   {
    "duration": 841,
    "start_time": "2023-05-10T22:03:46.542Z"
   },
   {
    "duration": 86,
    "start_time": "2023-05-10T22:16:06.051Z"
   },
   {
    "duration": 1100,
    "start_time": "2023-05-10T22:18:28.740Z"
   },
   {
    "duration": 27,
    "start_time": "2023-05-10T22:18:29.842Z"
   },
   {
    "duration": 19,
    "start_time": "2023-05-10T22:18:29.871Z"
   },
   {
    "duration": 16,
    "start_time": "2023-05-10T22:18:29.892Z"
   },
   {
    "duration": 8,
    "start_time": "2023-05-10T22:18:29.910Z"
   },
   {
    "duration": 26,
    "start_time": "2023-05-10T22:18:29.919Z"
   },
   {
    "duration": 5,
    "start_time": "2023-05-10T22:18:29.946Z"
   },
   {
    "duration": 9,
    "start_time": "2023-05-10T22:18:29.952Z"
   },
   {
    "duration": 4,
    "start_time": "2023-05-10T22:18:29.989Z"
   },
   {
    "duration": 4,
    "start_time": "2023-05-10T22:18:29.995Z"
   },
   {
    "duration": 19,
    "start_time": "2023-05-10T22:18:30.001Z"
   },
   {
    "duration": 19,
    "start_time": "2023-05-10T22:18:30.022Z"
   },
   {
    "duration": 24,
    "start_time": "2023-05-10T22:18:30.043Z"
   },
   {
    "duration": 9,
    "start_time": "2023-05-10T22:18:30.069Z"
   },
   {
    "duration": 3113,
    "start_time": "2023-05-10T22:18:30.081Z"
   },
   {
    "duration": 79128,
    "start_time": "2023-05-10T22:18:33.196Z"
   },
   {
    "duration": 817,
    "start_time": "2023-05-10T22:19:52.326Z"
   },
   {
    "duration": 6,
    "start_time": "2023-05-10T22:19:53.145Z"
   },
   {
    "duration": 14,
    "start_time": "2023-05-10T22:19:53.152Z"
   },
   {
    "duration": 24,
    "start_time": "2023-05-10T22:19:53.167Z"
   },
   {
    "duration": 7,
    "start_time": "2023-05-10T22:19:53.192Z"
   }
  ],
  "kernelspec": {
   "display_name": "Python 3 (ipykernel)",
   "language": "python",
   "name": "python3"
  },
  "language_info": {
   "codemirror_mode": {
    "name": "ipython",
    "version": 3
   },
   "file_extension": ".py",
   "mimetype": "text/x-python",
   "name": "python",
   "nbconvert_exporter": "python",
   "pygments_lexer": "ipython3",
   "version": "3.9.5"
  },
  "toc": {
   "base_numbering": 1,
   "nav_menu": {},
   "number_sections": true,
   "sideBar": true,
   "skip_h1_title": true,
   "title_cell": "Содержание",
   "title_sidebar": "Содержание",
   "toc_cell": true,
   "toc_position": {},
   "toc_section_display": true,
   "toc_window_display": false
  }
 },
 "nbformat": 4,
 "nbformat_minor": 2
}
