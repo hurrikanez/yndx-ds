{
 "cells": [
  {
   "cell_type": "markdown",
   "metadata": {
    "toc": true
   },
   "source": [
    "<h1>Содержание<span class=\"tocSkip\"></span></h1>\n",
    "<div class=\"toc\"><ul class=\"toc-item\"><li><span><a href=\"#Подготовка-данных\" data-toc-modified-id=\"Подготовка-данных-1\"><span class=\"toc-item-num\">1&nbsp;&nbsp;</span>Подготовка данных</a></span></li><li><span><a href=\"#Исследование-задачи\" data-toc-modified-id=\"Исследование-задачи-2\"><span class=\"toc-item-num\">2&nbsp;&nbsp;</span>Исследование задачи</a></span><ul class=\"toc-item\"><li><span><a href=\"#Логистическая-регрессия\" data-toc-modified-id=\"Логистическая-регрессия-2.1\"><span class=\"toc-item-num\">2.1&nbsp;&nbsp;</span>Логистическая регрессия</a></span></li><li><span><a href=\"#Дерево-решений\" data-toc-modified-id=\"Дерево-решений-2.2\"><span class=\"toc-item-num\">2.2&nbsp;&nbsp;</span>Дерево решений</a></span></li><li><span><a href=\"#Случайный-лес\" data-toc-modified-id=\"Случайный-лес-2.3\"><span class=\"toc-item-num\">2.3&nbsp;&nbsp;</span>Случайный лес</a></span></li></ul></li><li><span><a href=\"#Борьба-с-дисбалансом\" data-toc-modified-id=\"Борьба-с-дисбалансом-3\"><span class=\"toc-item-num\">3&nbsp;&nbsp;</span>Борьба с дисбалансом</a></span><ul class=\"toc-item\"><li><span><a href=\"#Взвешивание-классов\" data-toc-modified-id=\"Взвешивание-классов-3.1\"><span class=\"toc-item-num\">3.1&nbsp;&nbsp;</span>Взвешивание классов</a></span><ul class=\"toc-item\"><li><span><a href=\"#Логистическая-регрессия\" data-toc-modified-id=\"Логистическая-регрессия-3.1.1\"><span class=\"toc-item-num\">3.1.1&nbsp;&nbsp;</span>Логистическая регрессия</a></span></li><li><span><a href=\"#Дерево-решений\" data-toc-modified-id=\"Дерево-решений-3.1.2\"><span class=\"toc-item-num\">3.1.2&nbsp;&nbsp;</span>Дерево решений</a></span></li><li><span><a href=\"#Случайный-лес\" data-toc-modified-id=\"Случайный-лес-3.1.3\"><span class=\"toc-item-num\">3.1.3&nbsp;&nbsp;</span>Случайный лес</a></span></li></ul></li><li><span><a href=\"#Увеличение-выборки\" data-toc-modified-id=\"Увеличение-выборки-3.2\"><span class=\"toc-item-num\">3.2&nbsp;&nbsp;</span>Увеличение выборки</a></span><ul class=\"toc-item\"><li><span><a href=\"#Логистическая-регрессия\" data-toc-modified-id=\"Логистическая-регрессия-3.2.1\"><span class=\"toc-item-num\">3.2.1&nbsp;&nbsp;</span>Логистическая регрессия</a></span></li><li><span><a href=\"#Дерево-решений\" data-toc-modified-id=\"Дерево-решений-3.2.2\"><span class=\"toc-item-num\">3.2.2&nbsp;&nbsp;</span>Дерево решений</a></span></li><li><span><a href=\"#Случайный-лес\" data-toc-modified-id=\"Случайный-лес-3.2.3\"><span class=\"toc-item-num\">3.2.3&nbsp;&nbsp;</span>Случайный лес</a></span></li></ul></li><li><span><a href=\"#Увеличение-выборки-с-помощью-SMOTE\" data-toc-modified-id=\"Увеличение-выборки-с-помощью-SMOTE-3.3\"><span class=\"toc-item-num\">3.3&nbsp;&nbsp;</span>Увеличение выборки с помощью SMOTE</a></span><ul class=\"toc-item\"><li><span><a href=\"#Логистическая-регрессия\" data-toc-modified-id=\"Логистическая-регрессия-3.3.1\"><span class=\"toc-item-num\">3.3.1&nbsp;&nbsp;</span>Логистическая регрессия</a></span></li><li><span><a href=\"#Дерево-решений\" data-toc-modified-id=\"Дерево-решений-3.3.2\"><span class=\"toc-item-num\">3.3.2&nbsp;&nbsp;</span>Дерево решений</a></span></li><li><span><a href=\"#Случайный-лес\" data-toc-modified-id=\"Случайный-лес-3.3.3\"><span class=\"toc-item-num\">3.3.3&nbsp;&nbsp;</span>Случайный лес</a></span></li></ul></li><li><span><a href=\"#Уменьшение-выборки\" data-toc-modified-id=\"Уменьшение-выборки-3.4\"><span class=\"toc-item-num\">3.4&nbsp;&nbsp;</span>Уменьшение выборки</a></span><ul class=\"toc-item\"><li><span><a href=\"#Логистическая-регрессия\" data-toc-modified-id=\"Логистическая-регрессия-3.4.1\"><span class=\"toc-item-num\">3.4.1&nbsp;&nbsp;</span>Логистическая регрессия</a></span></li><li><span><a href=\"#Дерево-решений\" data-toc-modified-id=\"Дерево-решений-3.4.2\"><span class=\"toc-item-num\">3.4.2&nbsp;&nbsp;</span>Дерево решений</a></span></li><li><span><a href=\"#Случайный-лес\" data-toc-modified-id=\"Случайный-лес-3.4.3\"><span class=\"toc-item-num\">3.4.3&nbsp;&nbsp;</span>Случайный лес</a></span></li></ul></li></ul></li><li><span><a href=\"#Тестирование-модели\" data-toc-modified-id=\"Тестирование-модели-4\"><span class=\"toc-item-num\">4&nbsp;&nbsp;</span>Тестирование модели</a></span></li><li><span><a href=\"#Вывод\" data-toc-modified-id=\"Вывод-5\"><span class=\"toc-item-num\">5&nbsp;&nbsp;</span>Вывод</a></span></li><li><span><a href=\"#Чек-лист-готовности-проекта\" data-toc-modified-id=\"Чек-лист-готовности-проекта-6\"><span class=\"toc-item-num\">6&nbsp;&nbsp;</span>Чек-лист готовности проекта</a></span></li></ul></div>"
   ]
  },
  {
   "cell_type": "markdown",
   "metadata": {},
   "source": [
    "# Отток клиентов"
   ]
  },
  {
   "cell_type": "markdown",
   "metadata": {},
   "source": [
    "Клиенты начали активно уходить из банка. Ежемесячно количество ушедших клиентов становится все более заметным, хотя и пока не является значительным. Маркетологи банка проанализировали данные и пришли к выводу, что сохранение существующих клиентов обходится дешевле, чем привлечение новых.\n",
    "\n",
    "Теперь необходимо разработать модель, которая сможет прогнозировать, уйдет ли клиент из банка в ближайшее время, основываясь на предоставленных исторических данных о поведении клиентов и расторжении договоров с банком.\n",
    "\n",
    "Постройте модель с предельно большим значением *F1*-меры. Чтобы сдать проект успешно, нужно довести метрику до 0.59. Проверьте *F1*-меру на тестовой выборке самостоятельно.\n",
    "\n",
    "Дополнительно измеряйте *AUC-ROC*, сравнивайте её значение с *F1*-мерой.\n",
    "\n",
    "Источник данных: [https://www.kaggle.com/barelydedicated/bank-customer-churn-modeling](https://www.kaggle.com/barelydedicated/bank-customer-churn-modeling)\n",
    "\n",
    "**Описание данных:**\n",
    "* *RowNumber* - индекс строки в данных\n",
    "* *CustomerId* — уникальный идентификатор клиента\n",
    "* *Surname* — фамилия\n",
    "* *CreditScore* — кредитный рейтинг\n",
    "* *Geography* — страна проживания\n",
    "* *Gender* — пол\n",
    "* *Age* — возраст\n",
    "* *Tenure* — сколько лет человек является клиентом банка\n",
    "* *Balance* — баланс на счёте\n",
    "* *NumOfProducts* — количество продуктов банка, используемых клиентом\n",
    "* *HasCrCard* — наличие кредитной карты\n",
    "* *IsActiveMember* — активность клиента\n",
    "* *EstimatedSalary* — предполагаемая зарплата\n",
    "* *Exited* — факт ухода клиента ***(целевой)***\n",
    "\n",
    "**Задачи**\n",
    "1. Загрузить и подготовить данные. Пояснить порядок действий.\n",
    "2. Исследовать баланс классов, обучить модель без учёта дисбаланса. Кратко описать выводы.\n",
    "3. Улучшить качество модели, учитывая дисбаланс классов. Обучить разные модели и найти лучшую. Кратко описать выводы.\n",
    "4. Провести финальное тестирование."
   ]
  },
  {
   "cell_type": "markdown",
   "metadata": {},
   "source": [
    "## Подготовка данных"
   ]
  },
  {
   "cell_type": "markdown",
   "metadata": {},
   "source": [
    "Для начала выгрузим данные и рассмотрим их."
   ]
  },
  {
   "cell_type": "code",
   "execution_count": 1,
   "metadata": {},
   "outputs": [
    {
     "name": "stdout",
     "output_type": "stream",
     "text": [
      "Requirement already satisfied: imblearn in /opt/conda/lib/python3.9/site-packages (0.0)\n",
      "Requirement already satisfied: imbalanced-learn in /opt/conda/lib/python3.9/site-packages (from imblearn) (0.11.0)\n",
      "Requirement already satisfied: scipy>=1.5.0 in /opt/conda/lib/python3.9/site-packages (from imbalanced-learn->imblearn) (1.9.1)\n",
      "Requirement already satisfied: joblib>=1.1.1 in /opt/conda/lib/python3.9/site-packages (from imbalanced-learn->imblearn) (1.3.1)\n",
      "Requirement already satisfied: scikit-learn>=1.0.2 in /opt/conda/lib/python3.9/site-packages (from imbalanced-learn->imblearn) (1.3.0)\n",
      "Requirement already satisfied: threadpoolctl>=2.0.0 in /opt/conda/lib/python3.9/site-packages (from imbalanced-learn->imblearn) (3.1.0)\n",
      "Requirement already satisfied: numpy>=1.17.3 in /opt/conda/lib/python3.9/site-packages (from imbalanced-learn->imblearn) (1.21.1)\n"
     ]
    }
   ],
   "source": [
    "!pip install imblearn"
   ]
  },
  {
   "cell_type": "code",
   "execution_count": 56,
   "metadata": {},
   "outputs": [],
   "source": [
    "import pandas as pd\n",
    "import seaborn as sns\n",
    "import matplotlib.pyplot as plt\n",
    "\n",
    "from imblearn.over_sampling import SMOTE\n",
    "from sklearn.dummy import DummyClassifier\n",
    "from sklearn.model_selection import train_test_split\n",
    "from sklearn.metrics import f1_score, roc_auc_score, roc_curve, recall_score\n",
    "from sklearn.preprocessing import StandardScaler\n",
    "from sklearn.utils import shuffle\n",
    "from tqdm import tqdm\n",
    "\n",
    "from sklearn.ensemble import RandomForestClassifier\n",
    "from sklearn.linear_model import LogisticRegression\n",
    "from sklearn.tree import DecisionTreeClassifier"
   ]
  },
  {
   "cell_type": "code",
   "execution_count": 3,
   "metadata": {},
   "outputs": [],
   "source": [
    "rs = 12345"
   ]
  },
  {
   "cell_type": "code",
   "execution_count": 4,
   "metadata": {},
   "outputs": [],
   "source": [
    "df = pd.read_csv('/datasets/Churn.csv')"
   ]
  },
  {
   "cell_type": "code",
   "execution_count": 5,
   "metadata": {},
   "outputs": [
    {
     "data": {
      "text/html": [
       "<div>\n",
       "<style scoped>\n",
       "    .dataframe tbody tr th:only-of-type {\n",
       "        vertical-align: middle;\n",
       "    }\n",
       "\n",
       "    .dataframe tbody tr th {\n",
       "        vertical-align: top;\n",
       "    }\n",
       "\n",
       "    .dataframe thead th {\n",
       "        text-align: right;\n",
       "    }\n",
       "</style>\n",
       "<table border=\"1\" class=\"dataframe\">\n",
       "  <thead>\n",
       "    <tr style=\"text-align: right;\">\n",
       "      <th></th>\n",
       "      <th>RowNumber</th>\n",
       "      <th>CustomerId</th>\n",
       "      <th>Surname</th>\n",
       "      <th>CreditScore</th>\n",
       "      <th>Geography</th>\n",
       "      <th>Gender</th>\n",
       "      <th>Age</th>\n",
       "      <th>Tenure</th>\n",
       "      <th>Balance</th>\n",
       "      <th>NumOfProducts</th>\n",
       "      <th>HasCrCard</th>\n",
       "      <th>IsActiveMember</th>\n",
       "      <th>EstimatedSalary</th>\n",
       "      <th>Exited</th>\n",
       "    </tr>\n",
       "  </thead>\n",
       "  <tbody>\n",
       "    <tr>\n",
       "      <th>0</th>\n",
       "      <td>1</td>\n",
       "      <td>15634602</td>\n",
       "      <td>Hargrave</td>\n",
       "      <td>619</td>\n",
       "      <td>France</td>\n",
       "      <td>Female</td>\n",
       "      <td>42</td>\n",
       "      <td>2.0</td>\n",
       "      <td>0.00</td>\n",
       "      <td>1</td>\n",
       "      <td>1</td>\n",
       "      <td>1</td>\n",
       "      <td>101348.88</td>\n",
       "      <td>1</td>\n",
       "    </tr>\n",
       "    <tr>\n",
       "      <th>1</th>\n",
       "      <td>2</td>\n",
       "      <td>15647311</td>\n",
       "      <td>Hill</td>\n",
       "      <td>608</td>\n",
       "      <td>Spain</td>\n",
       "      <td>Female</td>\n",
       "      <td>41</td>\n",
       "      <td>1.0</td>\n",
       "      <td>83807.86</td>\n",
       "      <td>1</td>\n",
       "      <td>0</td>\n",
       "      <td>1</td>\n",
       "      <td>112542.58</td>\n",
       "      <td>0</td>\n",
       "    </tr>\n",
       "    <tr>\n",
       "      <th>2</th>\n",
       "      <td>3</td>\n",
       "      <td>15619304</td>\n",
       "      <td>Onio</td>\n",
       "      <td>502</td>\n",
       "      <td>France</td>\n",
       "      <td>Female</td>\n",
       "      <td>42</td>\n",
       "      <td>8.0</td>\n",
       "      <td>159660.80</td>\n",
       "      <td>3</td>\n",
       "      <td>1</td>\n",
       "      <td>0</td>\n",
       "      <td>113931.57</td>\n",
       "      <td>1</td>\n",
       "    </tr>\n",
       "    <tr>\n",
       "      <th>3</th>\n",
       "      <td>4</td>\n",
       "      <td>15701354</td>\n",
       "      <td>Boni</td>\n",
       "      <td>699</td>\n",
       "      <td>France</td>\n",
       "      <td>Female</td>\n",
       "      <td>39</td>\n",
       "      <td>1.0</td>\n",
       "      <td>0.00</td>\n",
       "      <td>2</td>\n",
       "      <td>0</td>\n",
       "      <td>0</td>\n",
       "      <td>93826.63</td>\n",
       "      <td>0</td>\n",
       "    </tr>\n",
       "    <tr>\n",
       "      <th>4</th>\n",
       "      <td>5</td>\n",
       "      <td>15737888</td>\n",
       "      <td>Mitchell</td>\n",
       "      <td>850</td>\n",
       "      <td>Spain</td>\n",
       "      <td>Female</td>\n",
       "      <td>43</td>\n",
       "      <td>2.0</td>\n",
       "      <td>125510.82</td>\n",
       "      <td>1</td>\n",
       "      <td>1</td>\n",
       "      <td>1</td>\n",
       "      <td>79084.10</td>\n",
       "      <td>0</td>\n",
       "    </tr>\n",
       "  </tbody>\n",
       "</table>\n",
       "</div>"
      ],
      "text/plain": [
       "   RowNumber  CustomerId   Surname  CreditScore Geography  Gender  Age  \\\n",
       "0          1    15634602  Hargrave          619    France  Female   42   \n",
       "1          2    15647311      Hill          608     Spain  Female   41   \n",
       "2          3    15619304      Onio          502    France  Female   42   \n",
       "3          4    15701354      Boni          699    France  Female   39   \n",
       "4          5    15737888  Mitchell          850     Spain  Female   43   \n",
       "\n",
       "   Tenure    Balance  NumOfProducts  HasCrCard  IsActiveMember  \\\n",
       "0     2.0       0.00              1          1               1   \n",
       "1     1.0   83807.86              1          0               1   \n",
       "2     8.0  159660.80              3          1               0   \n",
       "3     1.0       0.00              2          0               0   \n",
       "4     2.0  125510.82              1          1               1   \n",
       "\n",
       "   EstimatedSalary  Exited  \n",
       "0        101348.88       1  \n",
       "1        112542.58       0  \n",
       "2        113931.57       1  \n",
       "3         93826.63       0  \n",
       "4         79084.10       0  "
      ]
     },
     "execution_count": 5,
     "metadata": {},
     "output_type": "execute_result"
    }
   ],
   "source": [
    "df.head()"
   ]
  },
  {
   "cell_type": "code",
   "execution_count": 6,
   "metadata": {},
   "outputs": [
    {
     "name": "stdout",
     "output_type": "stream",
     "text": [
      "<class 'pandas.core.frame.DataFrame'>\n",
      "RangeIndex: 10000 entries, 0 to 9999\n",
      "Data columns (total 14 columns):\n",
      " #   Column           Non-Null Count  Dtype  \n",
      "---  ------           --------------  -----  \n",
      " 0   RowNumber        10000 non-null  int64  \n",
      " 1   CustomerId       10000 non-null  int64  \n",
      " 2   Surname          10000 non-null  object \n",
      " 3   CreditScore      10000 non-null  int64  \n",
      " 4   Geography        10000 non-null  object \n",
      " 5   Gender           10000 non-null  object \n",
      " 6   Age              10000 non-null  int64  \n",
      " 7   Tenure           9091 non-null   float64\n",
      " 8   Balance          10000 non-null  float64\n",
      " 9   NumOfProducts    10000 non-null  int64  \n",
      " 10  HasCrCard        10000 non-null  int64  \n",
      " 11  IsActiveMember   10000 non-null  int64  \n",
      " 12  EstimatedSalary  10000 non-null  float64\n",
      " 13  Exited           10000 non-null  int64  \n",
      "dtypes: float64(3), int64(8), object(3)\n",
      "memory usage: 1.1+ MB\n"
     ]
    }
   ],
   "source": [
    "df.info()"
   ]
  },
  {
   "cell_type": "code",
   "execution_count": 7,
   "metadata": {},
   "outputs": [
    {
     "name": "stdout",
     "output_type": "stream",
     "text": [
      "                 count     %\n",
      "RowNumber            0  0.00\n",
      "CustomerId           0  0.00\n",
      "Surname              0  0.00\n",
      "CreditScore          0  0.00\n",
      "Geography            0  0.00\n",
      "Gender               0  0.00\n",
      "Age                  0  0.00\n",
      "Tenure             909  9.09\n",
      "Balance              0  0.00\n",
      "NumOfProducts        0  0.00\n",
      "HasCrCard            0  0.00\n",
      "IsActiveMember       0  0.00\n",
      "EstimatedSalary      0  0.00\n",
      "Exited               0  0.00\n"
     ]
    }
   ],
   "source": [
    "nulls = pd.concat([df.isna().sum(), (df.isna().sum()/len(df.index)*100)], axis=1)\n",
    "nulls.columns = ['count', '%']\n",
    "print(nulls)"
   ]
  },
  {
   "cell_type": "code",
   "execution_count": 8,
   "metadata": {},
   "outputs": [
    {
     "data": {
      "text/plain": [
       "0"
      ]
     },
     "execution_count": 8,
     "metadata": {},
     "output_type": "execute_result"
    }
   ],
   "source": [
    "df.duplicated().sum()"
   ]
  },
  {
   "cell_type": "markdown",
   "metadata": {},
   "source": [
    "Типы данных в столбцах соответвуют хранимым в них данных, пропуске есть только в столбце Tenure (сколько лет человек является клиентом банка) - рассмотрим его позднее. Полных дубликатов нет.\n",
    "\n",
    "Столбцы RowNumber, CustomerId и Surname не пригодятся нам для предсказания целевого признака - уйдет ли человек из банка не зависит от его ID и фамилии. Удалим их."
   ]
  },
  {
   "cell_type": "code",
   "execution_count": 9,
   "metadata": {},
   "outputs": [],
   "source": [
    "df = df.drop(columns=['RowNumber', 'CustomerId', 'Surname']) "
   ]
  },
  {
   "cell_type": "code",
   "execution_count": 10,
   "metadata": {},
   "outputs": [
    {
     "data": {
      "text/html": [
       "<div>\n",
       "<style scoped>\n",
       "    .dataframe tbody tr th:only-of-type {\n",
       "        vertical-align: middle;\n",
       "    }\n",
       "\n",
       "    .dataframe tbody tr th {\n",
       "        vertical-align: top;\n",
       "    }\n",
       "\n",
       "    .dataframe thead th {\n",
       "        text-align: right;\n",
       "    }\n",
       "</style>\n",
       "<table border=\"1\" class=\"dataframe\">\n",
       "  <thead>\n",
       "    <tr style=\"text-align: right;\">\n",
       "      <th></th>\n",
       "      <th>count</th>\n",
       "      <th>unique</th>\n",
       "      <th>top</th>\n",
       "      <th>freq</th>\n",
       "      <th>mean</th>\n",
       "      <th>std</th>\n",
       "      <th>min</th>\n",
       "      <th>25%</th>\n",
       "      <th>50%</th>\n",
       "      <th>75%</th>\n",
       "      <th>max</th>\n",
       "    </tr>\n",
       "  </thead>\n",
       "  <tbody>\n",
       "    <tr>\n",
       "      <th>CreditScore</th>\n",
       "      <td>10000.0</td>\n",
       "      <td>NaN</td>\n",
       "      <td>NaN</td>\n",
       "      <td>NaN</td>\n",
       "      <td>650.5288</td>\n",
       "      <td>96.653299</td>\n",
       "      <td>350.0</td>\n",
       "      <td>584.0</td>\n",
       "      <td>652.0</td>\n",
       "      <td>718.0</td>\n",
       "      <td>850.0</td>\n",
       "    </tr>\n",
       "    <tr>\n",
       "      <th>Geography</th>\n",
       "      <td>10000</td>\n",
       "      <td>3</td>\n",
       "      <td>France</td>\n",
       "      <td>5014</td>\n",
       "      <td>NaN</td>\n",
       "      <td>NaN</td>\n",
       "      <td>NaN</td>\n",
       "      <td>NaN</td>\n",
       "      <td>NaN</td>\n",
       "      <td>NaN</td>\n",
       "      <td>NaN</td>\n",
       "    </tr>\n",
       "    <tr>\n",
       "      <th>Gender</th>\n",
       "      <td>10000</td>\n",
       "      <td>2</td>\n",
       "      <td>Male</td>\n",
       "      <td>5457</td>\n",
       "      <td>NaN</td>\n",
       "      <td>NaN</td>\n",
       "      <td>NaN</td>\n",
       "      <td>NaN</td>\n",
       "      <td>NaN</td>\n",
       "      <td>NaN</td>\n",
       "      <td>NaN</td>\n",
       "    </tr>\n",
       "    <tr>\n",
       "      <th>Age</th>\n",
       "      <td>10000.0</td>\n",
       "      <td>NaN</td>\n",
       "      <td>NaN</td>\n",
       "      <td>NaN</td>\n",
       "      <td>38.9218</td>\n",
       "      <td>10.487806</td>\n",
       "      <td>18.0</td>\n",
       "      <td>32.0</td>\n",
       "      <td>37.0</td>\n",
       "      <td>44.0</td>\n",
       "      <td>92.0</td>\n",
       "    </tr>\n",
       "    <tr>\n",
       "      <th>Tenure</th>\n",
       "      <td>9091.0</td>\n",
       "      <td>NaN</td>\n",
       "      <td>NaN</td>\n",
       "      <td>NaN</td>\n",
       "      <td>4.99769</td>\n",
       "      <td>2.894723</td>\n",
       "      <td>0.0</td>\n",
       "      <td>2.0</td>\n",
       "      <td>5.0</td>\n",
       "      <td>7.0</td>\n",
       "      <td>10.0</td>\n",
       "    </tr>\n",
       "    <tr>\n",
       "      <th>Balance</th>\n",
       "      <td>10000.0</td>\n",
       "      <td>NaN</td>\n",
       "      <td>NaN</td>\n",
       "      <td>NaN</td>\n",
       "      <td>76485.889288</td>\n",
       "      <td>62397.405202</td>\n",
       "      <td>0.0</td>\n",
       "      <td>0.0</td>\n",
       "      <td>97198.54</td>\n",
       "      <td>127644.24</td>\n",
       "      <td>250898.09</td>\n",
       "    </tr>\n",
       "    <tr>\n",
       "      <th>NumOfProducts</th>\n",
       "      <td>10000.0</td>\n",
       "      <td>NaN</td>\n",
       "      <td>NaN</td>\n",
       "      <td>NaN</td>\n",
       "      <td>1.5302</td>\n",
       "      <td>0.581654</td>\n",
       "      <td>1.0</td>\n",
       "      <td>1.0</td>\n",
       "      <td>1.0</td>\n",
       "      <td>2.0</td>\n",
       "      <td>4.0</td>\n",
       "    </tr>\n",
       "    <tr>\n",
       "      <th>HasCrCard</th>\n",
       "      <td>10000.0</td>\n",
       "      <td>NaN</td>\n",
       "      <td>NaN</td>\n",
       "      <td>NaN</td>\n",
       "      <td>0.7055</td>\n",
       "      <td>0.45584</td>\n",
       "      <td>0.0</td>\n",
       "      <td>0.0</td>\n",
       "      <td>1.0</td>\n",
       "      <td>1.0</td>\n",
       "      <td>1.0</td>\n",
       "    </tr>\n",
       "    <tr>\n",
       "      <th>IsActiveMember</th>\n",
       "      <td>10000.0</td>\n",
       "      <td>NaN</td>\n",
       "      <td>NaN</td>\n",
       "      <td>NaN</td>\n",
       "      <td>0.5151</td>\n",
       "      <td>0.499797</td>\n",
       "      <td>0.0</td>\n",
       "      <td>0.0</td>\n",
       "      <td>1.0</td>\n",
       "      <td>1.0</td>\n",
       "      <td>1.0</td>\n",
       "    </tr>\n",
       "    <tr>\n",
       "      <th>EstimatedSalary</th>\n",
       "      <td>10000.0</td>\n",
       "      <td>NaN</td>\n",
       "      <td>NaN</td>\n",
       "      <td>NaN</td>\n",
       "      <td>100090.239881</td>\n",
       "      <td>57510.492818</td>\n",
       "      <td>11.58</td>\n",
       "      <td>51002.11</td>\n",
       "      <td>100193.915</td>\n",
       "      <td>149388.2475</td>\n",
       "      <td>199992.48</td>\n",
       "    </tr>\n",
       "    <tr>\n",
       "      <th>Exited</th>\n",
       "      <td>10000.0</td>\n",
       "      <td>NaN</td>\n",
       "      <td>NaN</td>\n",
       "      <td>NaN</td>\n",
       "      <td>0.2037</td>\n",
       "      <td>0.402769</td>\n",
       "      <td>0.0</td>\n",
       "      <td>0.0</td>\n",
       "      <td>0.0</td>\n",
       "      <td>0.0</td>\n",
       "      <td>1.0</td>\n",
       "    </tr>\n",
       "  </tbody>\n",
       "</table>\n",
       "</div>"
      ],
      "text/plain": [
       "                   count unique     top  freq           mean           std  \\\n",
       "CreditScore      10000.0    NaN     NaN   NaN       650.5288     96.653299   \n",
       "Geography          10000      3  France  5014            NaN           NaN   \n",
       "Gender             10000      2    Male  5457            NaN           NaN   \n",
       "Age              10000.0    NaN     NaN   NaN        38.9218     10.487806   \n",
       "Tenure            9091.0    NaN     NaN   NaN        4.99769      2.894723   \n",
       "Balance          10000.0    NaN     NaN   NaN   76485.889288  62397.405202   \n",
       "NumOfProducts    10000.0    NaN     NaN   NaN         1.5302      0.581654   \n",
       "HasCrCard        10000.0    NaN     NaN   NaN         0.7055       0.45584   \n",
       "IsActiveMember   10000.0    NaN     NaN   NaN         0.5151      0.499797   \n",
       "EstimatedSalary  10000.0    NaN     NaN   NaN  100090.239881  57510.492818   \n",
       "Exited           10000.0    NaN     NaN   NaN         0.2037      0.402769   \n",
       "\n",
       "                   min       25%         50%          75%        max  \n",
       "CreditScore      350.0     584.0       652.0        718.0      850.0  \n",
       "Geography          NaN       NaN         NaN          NaN        NaN  \n",
       "Gender             NaN       NaN         NaN          NaN        NaN  \n",
       "Age               18.0      32.0        37.0         44.0       92.0  \n",
       "Tenure             0.0       2.0         5.0          7.0       10.0  \n",
       "Balance            0.0       0.0    97198.54    127644.24  250898.09  \n",
       "NumOfProducts      1.0       1.0         1.0          2.0        4.0  \n",
       "HasCrCard          0.0       0.0         1.0          1.0        1.0  \n",
       "IsActiveMember     0.0       0.0         1.0          1.0        1.0  \n",
       "EstimatedSalary  11.58  51002.11  100193.915  149388.2475  199992.48  \n",
       "Exited             0.0       0.0         0.0          0.0        1.0  "
      ]
     },
     "execution_count": 10,
     "metadata": {},
     "output_type": "execute_result"
    }
   ],
   "source": [
    "df.describe(include='all').T"
   ]
  },
  {
   "cell_type": "markdown",
   "metadata": {},
   "source": [
    "<div class=\"alert alert-info\">\n",
    "Транспонировала, так действительно удобнее, спасибо за лайфхак :)\n",
    "</div>"
   ]
  },
  {
   "cell_type": "code",
   "execution_count": 11,
   "metadata": {},
   "outputs": [
    {
     "data": {
      "image/png": "[encoded data removed]",
      "text/plain": [
       "<Figure size 1080x720 with 9 Axes>"
      ]
     },
     "metadata": {
      "needs_background": "light"
     },
     "output_type": "display_data"
    }
   ],
   "source": [
    "df.hist(figsize=(15, 10));"
   ]
  },
  {
   "cell_type": "code",
   "execution_count": 12,
   "metadata": {},
   "outputs": [
    {
     "data": {
      "image/png": "[encoded data removed]",
      "text/plain": [
       "<Figure size 1080x720 with 9 Axes>"
      ]
     },
     "metadata": {
      "needs_background": "light"
     },
     "output_type": "display_data"
    }
   ],
   "source": [
    "df.loc[df['Tenure'].isna()].hist(figsize=(15, 10));"
   ]
  },
  {
   "cell_type": "markdown",
   "metadata": {},
   "source": [
    "Данные выглядят распределенными адекватно. Пик около нуля в столбце Balance понятен, ведь многие могут завести счет и не хранить на нем денег вовсе. \n",
    "\n",
    "Распределение данных в строках с пропущенным значением в столбце Tenure схоже с остальными данными, значит, скорее всего, эти пропуски случайны. Их причиной могут быть, например, технические проблемы при сохранении данных или выгрузке.\n",
    "\n",
    "Так как эти данные с пропуском составляют менее 10%, то их можно удалить. Заполнение каким-либо значением может снизить точность модели, так как лояльность и приверженность клиента банку (срок, в течение которого он остается клиентом) может оказывать достаточно большое влияние на то, уйдет ли он из него."
   ]
  },
  {
   "cell_type": "code",
   "execution_count": 13,
   "metadata": {},
   "outputs": [],
   "source": [
    "df = df.loc[df['Tenure'].notna()]"
   ]
  },
  {
   "cell_type": "markdown",
   "metadata": {},
   "source": [
    "Для дальнейшего обучения модели нужно провести прямое кодирование столбцов Geography и Gender с категориальными данными."
   ]
  },
  {
   "cell_type": "code",
   "execution_count": 14,
   "metadata": {},
   "outputs": [],
   "source": [
    "df = pd.get_dummies(df, columns=['Geography', 'Gender'], drop_first=True)"
   ]
  },
  {
   "cell_type": "code",
   "execution_count": 15,
   "metadata": {},
   "outputs": [
    {
     "name": "stdout",
     "output_type": "stream",
     "text": [
      "<class 'pandas.core.frame.DataFrame'>\n",
      "Int64Index: 9091 entries, 0 to 9998\n",
      "Data columns (total 12 columns):\n",
      " #   Column             Non-Null Count  Dtype  \n",
      "---  ------             --------------  -----  \n",
      " 0   CreditScore        9091 non-null   int64  \n",
      " 1   Age                9091 non-null   int64  \n",
      " 2   Tenure             9091 non-null   float64\n",
      " 3   Balance            9091 non-null   float64\n",
      " 4   NumOfProducts      9091 non-null   int64  \n",
      " 5   HasCrCard          9091 non-null   int64  \n",
      " 6   IsActiveMember     9091 non-null   int64  \n",
      " 7   EstimatedSalary    9091 non-null   float64\n",
      " 8   Exited             9091 non-null   int64  \n",
      " 9   Geography_Germany  9091 non-null   uint8  \n",
      " 10  Geography_Spain    9091 non-null   uint8  \n",
      " 11  Gender_Male        9091 non-null   uint8  \n",
      "dtypes: float64(3), int64(6), uint8(3)\n",
      "memory usage: 736.9 KB\n"
     ]
    }
   ],
   "source": [
    "df.info()"
   ]
  },
  {
   "cell_type": "markdown",
   "metadata": {},
   "source": [
    "*Вывод:*  \n",
    "\n",
    "Получены исторические данные в объеме 10 тысяч строк о поведении клиентов и расторжении контрактов. \n",
    "\n",
    "В данных имеются 9% пропусков в столбце, содержающим информацию о количестве лет, в течении которых человек является клиентом банка. Зависимостей этих пропусков от других данных выявлено не было, поэтому они были удалены.\n",
    "\n",
    "Столбцы RowNumber, CustomerId и Surname не представляют пользы для предсказания оттока, поэтому также были удалены.\n",
    " \n",
    "Проведено прямое кодирование категориальных данных в столбцах Geography и Gender. \n",
    "\n",
    "Данные подготовлены для дальнейшей работы.\n",
    "***********"
   ]
  },
  {
   "cell_type": "markdown",
   "metadata": {},
   "source": [
    "## Исследование задачи"
   ]
  },
  {
   "cell_type": "code",
   "execution_count": 16,
   "metadata": {},
   "outputs": [
    {
     "data": {
      "text/plain": [
       "0    0.796062\n",
       "1    0.203938\n",
       "Name: Exited, dtype: float64"
      ]
     },
     "execution_count": 16,
     "metadata": {},
     "output_type": "execute_result"
    }
   ],
   "source": [
    "df['Exited'].value_counts(normalize=True)"
   ]
  },
  {
   "cell_type": "markdown",
   "metadata": {},
   "source": [
    "Наблюдается дисбаланс классов с перевесом в сторону отрицательного (что логично, ведь в идеале от банка никто уходить не должен).\n",
    "\n",
    "Разобьем данные на обучающую, валидационную и тестовую выборки в соотношении 3:1:1, а затем проведем масштабирование численных данных."
   ]
  },
  {
   "cell_type": "code",
   "execution_count": 17,
   "metadata": {},
   "outputs": [],
   "source": [
    "features = df.drop('Exited', axis=1)\n",
    "target = df['Exited']"
   ]
  },
  {
   "cell_type": "code",
   "execution_count": 18,
   "metadata": {},
   "outputs": [],
   "source": [
    "features_train, features_, target_train, target_ = train_test_split(\n",
    "    features, target, test_size=0.4, random_state=rs)"
   ]
  },
  {
   "cell_type": "code",
   "execution_count": 19,
   "metadata": {},
   "outputs": [],
   "source": [
    "features_valid, features_test, target_valid, target_test = train_test_split(\n",
    "    features_, target_, test_size=0.5, random_state=rs)"
   ]
  },
  {
   "cell_type": "code",
   "execution_count": 20,
   "metadata": {},
   "outputs": [
    {
     "name": "stdout",
     "output_type": "stream",
     "text": [
      "Размер тестовой выборки: (1819,)\n",
      "Размер валидационной выборки: (1818,)\n",
      "Размер обучающей выборки: (5454,)\n"
     ]
    }
   ],
   "source": [
    "print('Размер тестовой выборки:', target_test.shape)\n",
    "print('Размер валидационной выборки:', target_valid.shape)\n",
    "print('Размер обучающей выборки:', target_train.shape)"
   ]
  },
  {
   "cell_type": "code",
   "execution_count": 21,
   "metadata": {},
   "outputs": [
    {
     "data": {
      "text/plain": [
       "['CreditScore',\n",
       " 'Age',\n",
       " 'Tenure',\n",
       " 'Balance',\n",
       " 'NumOfProducts',\n",
       " 'HasCrCard',\n",
       " 'IsActiveMember',\n",
       " 'EstimatedSalary',\n",
       " 'Exited',\n",
       " 'Geography_Germany',\n",
       " 'Geography_Spain',\n",
       " 'Gender_Male']"
      ]
     },
     "execution_count": 21,
     "metadata": {},
     "output_type": "execute_result"
    }
   ],
   "source": [
    "df.columns.tolist()"
   ]
  },
  {
   "cell_type": "code",
   "execution_count": 22,
   "metadata": {},
   "outputs": [],
   "source": [
    "numeric = ['CreditScore','Age','Tenure','Balance','NumOfProducts', 'EstimatedSalary']"
   ]
  },
  {
   "cell_type": "code",
   "execution_count": 23,
   "metadata": {},
   "outputs": [],
   "source": [
    "scaler = StandardScaler()\n",
    "pd.options.mode.chained_assignment = None\n",
    "scaler.fit(features_train[numeric])\n",
    "features_train[numeric] = scaler.transform(features_train[numeric])\n",
    "features_valid[numeric] = scaler.transform(features_valid[numeric])\n",
    "features_test[numeric] = scaler.transform(features_test[numeric])"
   ]
  },
  {
   "cell_type": "markdown",
   "metadata": {},
   "source": [
    "Обучим модели на несбалансированных данных и оценим результат."
   ]
  },
  {
   "cell_type": "code",
   "execution_count": 24,
   "metadata": {},
   "outputs": [],
   "source": [
    "f1_data = pd.DataFrame(columns=['Data', 'Model', 'F1']) # вспомогательная таблица для визуализации"
   ]
  },
  {
   "cell_type": "markdown",
   "metadata": {},
   "source": [
    "### Логистическая регрессия"
   ]
  },
  {
   "cell_type": "code",
   "execution_count": 25,
   "metadata": {},
   "outputs": [
    {
     "name": "stdout",
     "output_type": "stream",
     "text": [
      "F1: 0.30400000000000005\n"
     ]
    }
   ],
   "source": [
    "lr = LogisticRegression(random_state=rs, solver='liblinear')\n",
    "lr.fit(features_train, target_train)\n",
    "predictions = lr.predict(features_valid)\n",
    "print('F1:', f1_score(predictions, target_valid))\n",
    "f1_data = f1_data.append({'Data': 'Unbalanced', 'Model': 'LR', 'F1': f1_score(predictions, target_valid)}, ignore_index=True)"
   ]
  },
  {
   "cell_type": "markdown",
   "metadata": {},
   "source": [
    "### Дерево решений"
   ]
  },
  {
   "cell_type": "code",
   "execution_count": 26,
   "metadata": {},
   "outputs": [
    {
     "name": "stderr",
     "output_type": "stream",
     "text": [
      "100%|██████████| 684/684 [00:17<00:00, 38.56it/s]"
     ]
    },
    {
     "name": "stdout",
     "output_type": "stream",
     "text": [
      "Лучшее F1: 0.5833333333333334,\n",
      "Глубина 6, \n",
      "Критерий entropy, \n",
      "Мин. количество объектов для ветвления 9.\n"
     ]
    },
    {
     "name": "stderr",
     "output_type": "stream",
     "text": [
      "\n"
     ]
    }
   ],
   "source": [
    "best_model_dt = None\n",
    "best_f1 = 0\n",
    "\n",
    "depths = list(range(1, 20))\n",
    "crits = ['gini', 'entropy']\n",
    "splits = list(range(2, 20))\n",
    "\n",
    "with tqdm(total=len(depths)*len(crits)*len(splits)) as progress:\n",
    "    for depth in depths:\n",
    "        for crit in crits:\n",
    "            for split in splits:\n",
    "                model = DecisionTreeClassifier(criterion=crit, max_depth=depth, min_samples_split=split, random_state=rs)\n",
    "                model.fit(features_train, target_train)\n",
    "                predictions = model.predict(features_valid)\n",
    "                f1 = f1_score(target_valid, predictions) # посчитаем качество модели на валидационной выборке\n",
    "                if f1 > best_f1:\n",
    "                    best_model_dt = model # сохраним наилучшую модель\n",
    "                    best_f1 = f1\n",
    "                    best_depth = depth\n",
    "                    best_crit = crit\n",
    "                    best_split = split\n",
    "                progress.update(1)\n",
    "\n",
    "f1_data = f1_data.append({'Data': 'Unbalanced', 'Model': 'DT', 'F1': best_f1}, ignore_index=True)\n",
    "\n",
    "print(f'''Лучшее F1: {best_f1},\n",
    "Глубина {best_depth}, \n",
    "Критерий {best_crit}, \n",
    "Мин. количество объектов для ветвления {best_split}.''')"
   ]
  },
  {
   "cell_type": "markdown",
   "metadata": {},
   "source": [
    "### Случайный лес"
   ]
  },
  {
   "cell_type": "code",
   "execution_count": 27,
   "metadata": {},
   "outputs": [
    {
     "name": "stderr",
     "output_type": "stream",
     "text": [
      "100%|██████████| 570/570 [04:31<00:00,  2.10it/s]"
     ]
    },
    {
     "name": "stdout",
     "output_type": "stream",
     "text": [
      "Лучшее F1: 0.5986842105263158,\n",
      "Количество наблюдателей 90,\n",
      "Глубина 17, \n",
      "Критерий gini.\n"
     ]
    },
    {
     "name": "stderr",
     "output_type": "stream",
     "text": [
      "\n"
     ]
    }
   ],
   "source": [
    "best_model_rf = None\n",
    "best_f1 = 0\n",
    "\n",
    "ests = list(range(10, 151, 10))\n",
    "\n",
    "with tqdm(total=len(depths)*len(crits)*len(ests)) as progress:\n",
    "    for depth in depths:\n",
    "        for crit in crits:\n",
    "            for est in ests:\n",
    "                model = RandomForestClassifier(criterion=crit, max_depth=depth, n_estimators=est, random_state=rs)\n",
    "                model.fit(features_train, target_train)\n",
    "                predictions = model.predict(features_valid)\n",
    "                f1 = f1_score(target_valid, predictions) # посчитаем качество модели на валидационной выборке\n",
    "                if f1 > best_f1:\n",
    "                    best_model_rf = model # сохраним наилучшую модель\n",
    "                    best_f1 = f1\n",
    "                    best_depth = depth\n",
    "                    best_crit = crit\n",
    "                    best_est = est\n",
    "                progress.update(1)\n",
    "\n",
    "f1_data = f1_data.append({'Data': 'Unbalanced', 'Model': 'RF', 'F1': best_f1}, ignore_index=True)\n",
    "\n",
    "print(f'''Лучшее F1: {best_f1},\n",
    "Количество наблюдателей {best_est},\n",
    "Глубина {best_depth}, \n",
    "Критерий {best_crit}.''')"
   ]
  },
  {
   "cell_type": "markdown",
   "metadata": {},
   "source": [
    "**Вывод:** Наблюдается дисбаланс классов с перевесом в сторону отрицательного в 4 раза. Преодолеть порог f1 в 0.59, данный по заданию, для случайного леса удалось даже без учета дисбаланса классов с параметрами количество наблюдаетелей: 90, глубина: 17 и критерий: gini - f1 вышла равной 0,597. \n",
    "Логистическая регрессия на несбалансированных данных показала очень низкий результат, а у дерева решений значение f1 было близким к случайному лесу, но порог не перешло.\n",
    "*************"
   ]
  },
  {
   "cell_type": "markdown",
   "metadata": {},
   "source": [
    "## Борьба с дисбалансом\n",
    "### Взвешивание классов\n",
    "#### Логистическая регрессия"
   ]
  },
  {
   "cell_type": "code",
   "execution_count": 28,
   "metadata": {},
   "outputs": [
    {
     "name": "stdout",
     "output_type": "stream",
     "text": [
      "F1: 0.509731232622799\n"
     ]
    }
   ],
   "source": [
    "model = LogisticRegression(random_state=rs, solver='liblinear', class_weight='balanced')\n",
    "model.fit(features_train, target_train)\n",
    "predicted_valid = model.predict(features_valid)\n",
    "print(\"F1:\", f1_score(target_valid, predicted_valid))\n",
    "f1_data = f1_data.append({'Data': 'Weighed', 'Model': 'LR', 'F1': f1_score(predictions, target_valid)}, ignore_index=True)"
   ]
  },
  {
   "cell_type": "markdown",
   "metadata": {},
   "source": [
    "#### Дерево решений"
   ]
  },
  {
   "cell_type": "code",
   "execution_count": 29,
   "metadata": {},
   "outputs": [
    {
     "name": "stderr",
     "output_type": "stream",
     "text": [
      "100%|██████████| 684/684 [00:19<00:00, 34.95it/s]"
     ]
    },
    {
     "name": "stdout",
     "output_type": "stream",
     "text": [
      "Лучшее F1: 0.5735449735449736,\n",
      "Глубина 5, \n",
      "Критерий gini, \n",
      "Мин. количество объектов для ветвления 2.\n"
     ]
    },
    {
     "name": "stderr",
     "output_type": "stream",
     "text": [
      "\n"
     ]
    }
   ],
   "source": [
    "best_model_dt = None\n",
    "best_f1 = 0\n",
    "\n",
    "with tqdm(total=len(depths)*len(crits)*len(splits)) as progress:\n",
    "    for depth in depths:\n",
    "        for crit in crits:\n",
    "            for split in splits:\n",
    "                model = DecisionTreeClassifier(criterion=crit, max_depth=depth, min_samples_split=split, \\\n",
    "                                               random_state=rs, class_weight='balanced')\n",
    "                model.fit(features_train, target_train)\n",
    "                predictions = model.predict(features_valid)\n",
    "                f1 = f1_score(target_valid, predictions) # посчитаем качество модели на валидационной выборке\n",
    "                if f1 > best_f1:\n",
    "                    best_model_dt = model # сохраним наилучшую модель\n",
    "                    best_f1 = f1\n",
    "                    best_depth = depth\n",
    "                    best_crit = crit\n",
    "                    best_split = split\n",
    "                progress.update(1)\n",
    "\n",
    "f1_data = f1_data.append({'Data': 'Weighed', 'Model': 'DT', 'F1': best_f1}, ignore_index=True)\n",
    "\n",
    "print(f'''Лучшее F1: {best_f1},\n",
    "Глубина {best_depth}, \n",
    "Критерий {best_crit}, \n",
    "Мин. количество объектов для ветвления {best_split}.''')"
   ]
  },
  {
   "cell_type": "markdown",
   "metadata": {},
   "source": [
    "#### Случайный лес"
   ]
  },
  {
   "cell_type": "code",
   "execution_count": 30,
   "metadata": {},
   "outputs": [
    {
     "name": "stderr",
     "output_type": "stream",
     "text": [
      "100%|██████████| 570/570 [04:33<00:00,  2.09it/s]"
     ]
    },
    {
     "name": "stdout",
     "output_type": "stream",
     "text": [
      "Лучшее F1: 0.6567164179104478,\n",
      "Количество наблюдателей 60,\n",
      "Глубина 9, \n",
      "Критерий entropy.\n"
     ]
    },
    {
     "name": "stderr",
     "output_type": "stream",
     "text": [
      "\n"
     ]
    }
   ],
   "source": [
    "best_model_rf = None\n",
    "best_f1 = 0\n",
    "\n",
    "with tqdm(total=len(depths)*len(crits)*len(ests)) as progress:\n",
    "    for depth in depths:\n",
    "        for crit in crits:\n",
    "            for est in ests:\n",
    "                model = RandomForestClassifier(criterion=crit, max_depth=depth, n_estimators=est, \\\n",
    "                                               random_state=rs, class_weight='balanced')\n",
    "                model.fit(features_train, target_train)\n",
    "                predictions = model.predict(features_valid)\n",
    "                f1 = f1_score(target_valid, predictions) # посчитаем качество модели на валидационной выборке\n",
    "                if f1 > best_f1:\n",
    "                    best_model_rf = model # сохраним наилучшую модель\n",
    "                    best_f1 = f1\n",
    "                    best_depth = depth\n",
    "                    best_crit = crit\n",
    "                    best_est = est\n",
    "                progress.update(1)\n",
    "\n",
    "f1_data = f1_data.append({'Data': 'Weighed', 'Model': 'RF', 'F1': best_f1}, ignore_index=True)\n",
    "\n",
    "print(f'''Лучшее F1: {best_f1},\n",
    "Количество наблюдателей {best_est},\n",
    "Глубина {best_depth}, \n",
    "Критерий {best_crit}.''')"
   ]
  },
  {
   "cell_type": "markdown",
   "metadata": {},
   "source": [
    "### Увеличение выборки"
   ]
  },
  {
   "cell_type": "code",
   "execution_count": 31,
   "metadata": {},
   "outputs": [],
   "source": [
    "def upsample(features, target, repeat):\n",
    "    features_zeros = features[target == 0]\n",
    "    features_ones = features[target == 1]\n",
    "    target_zeros = target[target == 0]\n",
    "    target_ones = target[target == 1]\n",
    "\n",
    "    features_upsampled = pd.concat([features_zeros] + [features_ones] * repeat)\n",
    "    target_upsampled = pd.concat([target_zeros] + [target_ones] * repeat)\n",
    "    \n",
    "    features_upsampled, target_upsampled = shuffle(\n",
    "        features_upsampled, target_upsampled, random_state=12345)\n",
    "    \n",
    "    return features_upsampled, target_upsampled"
   ]
  },
  {
   "cell_type": "markdown",
   "metadata": {},
   "source": [
    "Так как наши классы соотносятся как 80:20 (или 4:1), то увеличим количество объектов положительного класса в 4 раза."
   ]
  },
  {
   "cell_type": "code",
   "execution_count": 32,
   "metadata": {},
   "outputs": [],
   "source": [
    "features_upsampled, target_upsampled = upsample(features_train, target_train, 4)"
   ]
  },
  {
   "cell_type": "code",
   "execution_count": 33,
   "metadata": {},
   "outputs": [
    {
     "data": {
      "text/plain": [
       "1    4504\n",
       "0    4328\n",
       "Name: Exited, dtype: int64"
      ]
     },
     "execution_count": 33,
     "metadata": {},
     "output_type": "execute_result"
    }
   ],
   "source": [
    "target_upsampled.value_counts()"
   ]
  },
  {
   "cell_type": "markdown",
   "metadata": {},
   "source": [
    "#### Логистическая регрессия"
   ]
  },
  {
   "cell_type": "code",
   "execution_count": 34,
   "metadata": {},
   "outputs": [
    {
     "name": "stdout",
     "output_type": "stream",
     "text": [
      "F1: 0.5085972850678734\n"
     ]
    }
   ],
   "source": [
    "lr.fit(features_upsampled, target_upsampled)\n",
    "predictions = lr.predict(features_valid)\n",
    "print('F1:', f1_score(predictions, target_valid))\n",
    "f1_data = f1_data.append({'Data': 'Upsampled', 'Model': 'LR', 'F1': f1_score(predictions, target_valid)}, ignore_index=True)"
   ]
  },
  {
   "cell_type": "markdown",
   "metadata": {},
   "source": [
    "#### Дерево решений"
   ]
  },
  {
   "cell_type": "code",
   "execution_count": 35,
   "metadata": {},
   "outputs": [
    {
     "name": "stderr",
     "output_type": "stream",
     "text": [
      "100%|██████████| 684/684 [00:21<00:00, 31.35it/s]"
     ]
    },
    {
     "name": "stdout",
     "output_type": "stream",
     "text": [
      "Лучшее F1: 0.5735449735449736,\n",
      "Глубина 5, \n",
      "Критерий gini, \n",
      "Мин. количество объектов для ветвления 2.\n"
     ]
    },
    {
     "name": "stderr",
     "output_type": "stream",
     "text": [
      "\n"
     ]
    }
   ],
   "source": [
    "best_model_dt = None\n",
    "best_f1 = 0\n",
    "\n",
    "with tqdm(total=len(depths)*len(crits)*len(splits)) as progress:\n",
    "    for depth in depths:\n",
    "        for crit in crits:\n",
    "            for split in splits:\n",
    "                model = DecisionTreeClassifier(criterion=crit, max_depth=depth, min_samples_split=split, random_state=rs)\n",
    "                model.fit(features_upsampled, target_upsampled)\n",
    "                predictions = model.predict(features_valid)\n",
    "                f1 = f1_score(target_valid, predictions) # посчитаем качество модели на валидационной выборке\n",
    "                if f1 > best_f1:\n",
    "                    best_model_dt = model # сохраним наилучшую модель\n",
    "                    best_f1 = f1\n",
    "                    best_depth = depth\n",
    "                    best_crit = crit\n",
    "                    best_split = split\n",
    "                progress.update(1)\n",
    "\n",
    "f1_data = f1_data.append({'Data': 'Upsampled', 'Model': 'DT', 'F1': best_f1}, ignore_index=True)\n",
    "\n",
    "print(f'''Лучшее F1: {best_f1},\n",
    "Глубина {best_depth}, \n",
    "Критерий {best_crit}, \n",
    "Мин. количество объектов для ветвления {best_split}.''')"
   ]
  },
  {
   "cell_type": "markdown",
   "metadata": {},
   "source": [
    "#### Случайный лес"
   ]
  },
  {
   "cell_type": "code",
   "execution_count": 36,
   "metadata": {},
   "outputs": [
    {
     "name": "stderr",
     "output_type": "stream",
     "text": [
      "100%|██████████| 570/570 [06:01<00:00,  1.58it/s]"
     ]
    },
    {
     "name": "stdout",
     "output_type": "stream",
     "text": [
      "Лучшее F1: 0.64075382803298,\n",
      "Количество наблюдателей 120,\n",
      "Глубина 10, \n",
      "Критерий entropy.\n"
     ]
    },
    {
     "name": "stderr",
     "output_type": "stream",
     "text": [
      "\n"
     ]
    }
   ],
   "source": [
    "best_model_rf = None\n",
    "best_f1 = 0\n",
    "\n",
    "with tqdm(total=len(depths)*len(crits)*len(ests)) as progress:\n",
    "    for depth in depths:\n",
    "        for crit in crits:\n",
    "            for est in ests:\n",
    "                model = RandomForestClassifier(criterion=crit, max_depth=depth, n_estimators=est, random_state=rs)\n",
    "                model.fit(features_upsampled, target_upsampled)\n",
    "                predictions = model.predict(features_valid)\n",
    "                f1 = f1_score(target_valid, predictions) # посчитаем качество модели на валидационной выборке\n",
    "                if f1 > best_f1:\n",
    "                    best_model_rf = model # сохраним наилучшую модель\n",
    "                    best_f1 = f1\n",
    "                    best_depth = depth\n",
    "                    best_crit = crit\n",
    "                    best_est = est\n",
    "                progress.update(1)\n",
    "\n",
    "f1_data = f1_data.append({'Data': 'Upsampled', 'Model': 'RF', 'F1': best_f1}, ignore_index=True)\n",
    "\n",
    "print(f'''Лучшее F1: {best_f1},\n",
    "Количество наблюдателей {best_est},\n",
    "Глубина {best_depth}, \n",
    "Критерий {best_crit}.''')"
   ]
  },
  {
   "cell_type": "markdown",
   "metadata": {},
   "source": [
    "### Увеличение выборки с помощью SMOTE"
   ]
  },
  {
   "cell_type": "code",
   "execution_count": 37,
   "metadata": {},
   "outputs": [],
   "source": [
    "oversample = SMOTE(random_state=rs, k_neighbors=4)\n",
    "features_smote, target_smote = oversample.fit_resample(features_train, target_train)"
   ]
  },
  {
   "cell_type": "markdown",
   "metadata": {},
   "source": [
    "#### Логистическая регрессия"
   ]
  },
  {
   "cell_type": "code",
   "execution_count": 38,
   "metadata": {},
   "outputs": [
    {
     "name": "stdout",
     "output_type": "stream",
     "text": [
      "F1: 0.49064039408866994\n"
     ]
    }
   ],
   "source": [
    "lr.fit(features_smote, target_smote)\n",
    "predictions = lr.predict(features_valid)\n",
    "print('F1:', f1_score(predictions, target_valid))\n",
    "f1_data = f1_data.append({'Data': 'SMOTE', 'Model': 'LR', 'F1': f1_score(predictions, target_valid)}, ignore_index=True)"
   ]
  },
  {
   "cell_type": "markdown",
   "metadata": {},
   "source": [
    "#### Дерево решений"
   ]
  },
  {
   "cell_type": "code",
   "execution_count": 39,
   "metadata": {},
   "outputs": [
    {
     "name": "stderr",
     "output_type": "stream",
     "text": [
      "100%|██████████| 684/684 [00:32<00:00, 21.36it/s]"
     ]
    },
    {
     "name": "stdout",
     "output_type": "stream",
     "text": [
      "Лучшее F1: 0.5971316818774445,\n",
      "Глубина 5, \n",
      "Критерий entropy, \n",
      "Мин. количество объектов для ветвления 2.\n"
     ]
    },
    {
     "name": "stderr",
     "output_type": "stream",
     "text": [
      "\n"
     ]
    }
   ],
   "source": [
    "best_model_dt = None\n",
    "best_f1 = 0\n",
    "\n",
    "with tqdm(total=len(depths)*len(crits)*len(splits)) as progress:\n",
    "    for depth in depths:\n",
    "        for crit in crits:\n",
    "            for split in splits:\n",
    "                model = DecisionTreeClassifier(criterion=crit, max_depth=depth, min_samples_split=split, random_state=rs)\n",
    "                model.fit(features_smote, target_smote)\n",
    "                predictions = model.predict(features_valid)\n",
    "                f1 = f1_score(target_valid, predictions) # посчитаем качество модели на валидационной выборке\n",
    "                if f1 > best_f1:\n",
    "                    best_model_dt = model # сохраним наилучшую модель\n",
    "                    best_f1 = f1\n",
    "                    best_depth = depth\n",
    "                    best_crit = crit\n",
    "                    best_split = split\n",
    "                progress.update(1)\n",
    "\n",
    "f1_data = f1_data.append({'Data': 'SMOTE', 'Model': 'DT', 'F1': best_f1}, ignore_index=True)\n",
    "\n",
    "print(f'''Лучшее F1: {best_f1},\n",
    "Глубина {best_depth}, \n",
    "Критерий {best_crit}, \n",
    "Мин. количество объектов для ветвления {best_split}.''')"
   ]
  },
  {
   "cell_type": "markdown",
   "metadata": {},
   "source": [
    "#### Случайный лес"
   ]
  },
  {
   "cell_type": "code",
   "execution_count": 40,
   "metadata": {},
   "outputs": [
    {
     "name": "stderr",
     "output_type": "stream",
     "text": [
      "100%|██████████| 570/570 [07:50<00:00,  1.21it/s]"
     ]
    },
    {
     "name": "stdout",
     "output_type": "stream",
     "text": [
      "Лучшее F1: 0.6345177664974619,\n",
      "Количество наблюдателей 60,\n",
      "Глубина 14, \n",
      "Критерий gini.\n"
     ]
    },
    {
     "name": "stderr",
     "output_type": "stream",
     "text": [
      "\n"
     ]
    }
   ],
   "source": [
    "best_model_rf = None\n",
    "best_f1 = 0\n",
    "\n",
    "with tqdm(total=len(depths)*len(crits)*len(ests)) as progress:\n",
    "    for depth in depths:\n",
    "        for crit in crits:\n",
    "            for est in ests:\n",
    "                model = RandomForestClassifier(criterion=crit, max_depth=depth, n_estimators=est, random_state=rs)\n",
    "                model.fit(features_smote, target_smote)\n",
    "                predictions = model.predict(features_valid)\n",
    "                f1 = f1_score(target_valid, predictions) # посчитаем качество модели на валидационной выборке\n",
    "                if f1 > best_f1:\n",
    "                    best_model_rf = model # сохраним наилучшую модель\n",
    "                    best_f1 = f1\n",
    "                    best_depth = depth\n",
    "                    best_crit = crit\n",
    "                    best_est = est\n",
    "                progress.update(1)\n",
    "\n",
    "f1_data = f1_data.append({'Data': 'SMOTE', 'Model': 'RF', 'F1': best_f1}, ignore_index=True)\n",
    "\n",
    "print(f'''Лучшее F1: {best_f1},\n",
    "Количество наблюдателей {best_est},\n",
    "Глубина {best_depth}, \n",
    "Критерий {best_crit}.''')"
   ]
  },
  {
   "cell_type": "markdown",
   "metadata": {},
   "source": [
    "### Уменьшение выборки"
   ]
  },
  {
   "cell_type": "code",
   "execution_count": 41,
   "metadata": {},
   "outputs": [],
   "source": [
    "def downsample(features, target, fraction):\n",
    "    features_zeros = features[target == 0]\n",
    "    features_ones = features[target == 1]\n",
    "    target_zeros = target[target == 0]\n",
    "    target_ones = target[target == 1]\n",
    "\n",
    "    features_downsampled = pd.concat(\n",
    "        [features_zeros.sample(frac=fraction, random_state=12345)] + [features_ones])\n",
    "    target_downsampled = pd.concat(\n",
    "        [target_zeros.sample(frac=fraction, random_state=12345)] + [target_ones])\n",
    "    \n",
    "    features_downsampled, target_downsampled = shuffle(\n",
    "        features_downsampled, target_downsampled, random_state=12345)\n",
    "    \n",
    "    return features_downsampled, target_downsampled"
   ]
  },
  {
   "cell_type": "markdown",
   "metadata": {},
   "source": [
    "Уменьшим количество объектов отрицательного класса в 4 раза."
   ]
  },
  {
   "cell_type": "code",
   "execution_count": 42,
   "metadata": {},
   "outputs": [],
   "source": [
    "features_downsampled, target_downsampled = downsample(features_train, target_train, 0.25)"
   ]
  },
  {
   "cell_type": "code",
   "execution_count": 43,
   "metadata": {},
   "outputs": [
    {
     "data": {
      "text/plain": [
       "1    1126\n",
       "0    1082\n",
       "Name: Exited, dtype: int64"
      ]
     },
     "execution_count": 43,
     "metadata": {},
     "output_type": "execute_result"
    }
   ],
   "source": [
    "target_downsampled.value_counts()"
   ]
  },
  {
   "cell_type": "markdown",
   "metadata": {},
   "source": [
    "#### Логистическая регрессия"
   ]
  },
  {
   "cell_type": "code",
   "execution_count": 44,
   "metadata": {},
   "outputs": [
    {
     "name": "stdout",
     "output_type": "stream",
     "text": [
      "F1: 0.5044883303411131\n"
     ]
    }
   ],
   "source": [
    "lr.fit(features_downsampled, target_downsampled)\n",
    "predictions = lr.predict(features_valid)\n",
    "print('F1:', f1_score(predictions, target_valid))\n",
    "f1_data = f1_data.append({'Data': 'Downsampled', 'Model': 'LR', 'F1': f1_score(predictions, target_valid)}, ignore_index=True)"
   ]
  },
  {
   "cell_type": "markdown",
   "metadata": {},
   "source": [
    "#### Дерево решений"
   ]
  },
  {
   "cell_type": "code",
   "execution_count": 46,
   "metadata": {},
   "outputs": [
    {
     "name": "stderr",
     "output_type": "stream",
     "text": [
      "100%|██████████| 684/684 [00:10<00:00, 65.83it/s] "
     ]
    },
    {
     "name": "stdout",
     "output_type": "stream",
     "text": [
      "Лучшее F1: 0.5680580762250453,\n",
      "Глубина 5, \n",
      "Критерий entropy, \n",
      "Мин. количество объектов для ветвления 18.\n"
     ]
    },
    {
     "name": "stderr",
     "output_type": "stream",
     "text": [
      "\n"
     ]
    }
   ],
   "source": [
    "best_model_dt = None\n",
    "best_f1 = 0\n",
    "\n",
    "with tqdm(total=len(depths)*len(crits)*len(splits)) as progress:\n",
    "    for depth in depths:\n",
    "        for crit in crits:\n",
    "            for split in splits:\n",
    "                model = DecisionTreeClassifier(criterion=crit, max_depth=depth, min_samples_split=split, random_state=rs)\n",
    "                model.fit(features_downsampled, target_downsampled)\n",
    "                predictions = model.predict(features_valid)\n",
    "                f1 = f1_score(target_valid, predictions) # посчитаем качество модели на валидационной выборке\n",
    "                if f1 > best_f1:\n",
    "                    best_model_dt = model # сохраним наилучшую модель\n",
    "                    best_f1 = f1\n",
    "                    best_depth = depth\n",
    "                    best_crit = crit\n",
    "                    best_split = split\n",
    "                progress.update(1)\n",
    "\n",
    "f1_data = f1_data.append({'Data': 'Downsampled', 'Model': 'DT', 'F1': best_f1}, ignore_index=True)\n",
    "\n",
    "print(f'''Лучшее F1: {best_f1},\n",
    "Глубина {best_depth}, \n",
    "Критерий {best_crit}, \n",
    "Мин. количество объектов для ветвления {best_split}.''')"
   ]
  },
  {
   "cell_type": "markdown",
   "metadata": {},
   "source": [
    "#### Случайный лес"
   ]
  },
  {
   "cell_type": "code",
   "execution_count": 47,
   "metadata": {},
   "outputs": [
    {
     "name": "stderr",
     "output_type": "stream",
     "text": [
      "100%|██████████| 570/570 [02:39<00:00,  3.57it/s]"
     ]
    },
    {
     "name": "stdout",
     "output_type": "stream",
     "text": [
      "Лучшее F1: 0.6072874493927125,\n",
      "Количество наблюдателей 40,\n",
      "Глубина 8, \n",
      "Критерий gini.\n"
     ]
    },
    {
     "name": "stderr",
     "output_type": "stream",
     "text": [
      "\n"
     ]
    }
   ],
   "source": [
    "best_model_rf = None\n",
    "best_f1 = 0\n",
    "\n",
    "with tqdm(total=len(depths)*len(crits)*len(ests)) as progress:\n",
    "    for depth in depths:\n",
    "        for crit in crits:\n",
    "            for est in ests:\n",
    "                model = RandomForestClassifier(criterion=crit, max_depth=depth, n_estimators=est, random_state=rs)\n",
    "                model.fit(features_downsampled, target_downsampled)\n",
    "                predictions = model.predict(features_valid)\n",
    "                f1 = f1_score(target_valid, predictions) # посчитаем качество модели на валидационной выборке\n",
    "                if f1 > best_f1:\n",
    "                    best_model_rf = model # сохраним наилучшую модель\n",
    "                    best_f1 = f1\n",
    "                    best_depth = depth\n",
    "                    best_crit = crit\n",
    "                    best_est = est\n",
    "                progress.update(1)\n",
    "\n",
    "f1_data = f1_data.append({'Data': 'Downsampled', 'Model': 'RF', 'F1': best_f1}, ignore_index=True)\n",
    "\n",
    "print(f'''Лучшее F1: {best_f1},\n",
    "Количество наблюдателей {best_est},\n",
    "Глубина {best_depth}, \n",
    "Критерий {best_crit}.''')"
   ]
  },
  {
   "cell_type": "markdown",
   "metadata": {},
   "source": [
    "****\n",
    "Сравним результаты борьбы с неравенством классов."
   ]
  },
  {
   "cell_type": "code",
   "execution_count": 48,
   "metadata": {},
   "outputs": [
    {
     "data": {
      "text/html": [
       "<div>\n",
       "<style scoped>\n",
       "    .dataframe tbody tr th:only-of-type {\n",
       "        vertical-align: middle;\n",
       "    }\n",
       "\n",
       "    .dataframe tbody tr th {\n",
       "        vertical-align: top;\n",
       "    }\n",
       "\n",
       "    .dataframe thead th {\n",
       "        text-align: right;\n",
       "    }\n",
       "</style>\n",
       "<table border=\"1\" class=\"dataframe\">\n",
       "  <thead>\n",
       "    <tr style=\"text-align: right;\">\n",
       "      <th></th>\n",
       "      <th>Data</th>\n",
       "      <th>Model</th>\n",
       "      <th>F1</th>\n",
       "    </tr>\n",
       "  </thead>\n",
       "  <tbody>\n",
       "    <tr>\n",
       "      <th>0</th>\n",
       "      <td>Unbalanced</td>\n",
       "      <td>LR</td>\n",
       "      <td>0.304000</td>\n",
       "    </tr>\n",
       "    <tr>\n",
       "      <th>1</th>\n",
       "      <td>Unbalanced</td>\n",
       "      <td>DT</td>\n",
       "      <td>0.583333</td>\n",
       "    </tr>\n",
       "    <tr>\n",
       "      <th>2</th>\n",
       "      <td>Unbalanced</td>\n",
       "      <td>RF</td>\n",
       "      <td>0.598684</td>\n",
       "    </tr>\n",
       "    <tr>\n",
       "      <th>3</th>\n",
       "      <td>Weighed</td>\n",
       "      <td>LR</td>\n",
       "      <td>0.587459</td>\n",
       "    </tr>\n",
       "    <tr>\n",
       "      <th>4</th>\n",
       "      <td>Weighed</td>\n",
       "      <td>DT</td>\n",
       "      <td>0.573545</td>\n",
       "    </tr>\n",
       "    <tr>\n",
       "      <th>5</th>\n",
       "      <td>Weighed</td>\n",
       "      <td>RF</td>\n",
       "      <td>0.656716</td>\n",
       "    </tr>\n",
       "    <tr>\n",
       "      <th>6</th>\n",
       "      <td>Upsampled</td>\n",
       "      <td>LR</td>\n",
       "      <td>0.508597</td>\n",
       "    </tr>\n",
       "    <tr>\n",
       "      <th>7</th>\n",
       "      <td>Upsampled</td>\n",
       "      <td>DT</td>\n",
       "      <td>0.573545</td>\n",
       "    </tr>\n",
       "    <tr>\n",
       "      <th>8</th>\n",
       "      <td>Upsampled</td>\n",
       "      <td>RF</td>\n",
       "      <td>0.640754</td>\n",
       "    </tr>\n",
       "    <tr>\n",
       "      <th>9</th>\n",
       "      <td>SMOTE</td>\n",
       "      <td>LR</td>\n",
       "      <td>0.490640</td>\n",
       "    </tr>\n",
       "    <tr>\n",
       "      <th>10</th>\n",
       "      <td>SMOTE</td>\n",
       "      <td>DT</td>\n",
       "      <td>0.597132</td>\n",
       "    </tr>\n",
       "    <tr>\n",
       "      <th>11</th>\n",
       "      <td>SMOTE</td>\n",
       "      <td>RF</td>\n",
       "      <td>0.634518</td>\n",
       "    </tr>\n",
       "    <tr>\n",
       "      <th>12</th>\n",
       "      <td>Downsampled</td>\n",
       "      <td>LR</td>\n",
       "      <td>0.504488</td>\n",
       "    </tr>\n",
       "    <tr>\n",
       "      <th>13</th>\n",
       "      <td>Downsampled</td>\n",
       "      <td>DT</td>\n",
       "      <td>0.568058</td>\n",
       "    </tr>\n",
       "    <tr>\n",
       "      <th>14</th>\n",
       "      <td>Downsampled</td>\n",
       "      <td>RF</td>\n",
       "      <td>0.607287</td>\n",
       "    </tr>\n",
       "  </tbody>\n",
       "</table>\n",
       "</div>"
      ],
      "text/plain": [
       "           Data Model        F1\n",
       "0    Unbalanced    LR  0.304000\n",
       "1    Unbalanced    DT  0.583333\n",
       "2    Unbalanced    RF  0.598684\n",
       "3       Weighed    LR  0.587459\n",
       "4       Weighed    DT  0.573545\n",
       "5       Weighed    RF  0.656716\n",
       "6     Upsampled    LR  0.508597\n",
       "7     Upsampled    DT  0.573545\n",
       "8     Upsampled    RF  0.640754\n",
       "9         SMOTE    LR  0.490640\n",
       "10        SMOTE    DT  0.597132\n",
       "11        SMOTE    RF  0.634518\n",
       "12  Downsampled    LR  0.504488\n",
       "13  Downsampled    DT  0.568058\n",
       "14  Downsampled    RF  0.607287"
      ]
     },
     "execution_count": 48,
     "metadata": {},
     "output_type": "execute_result"
    }
   ],
   "source": [
    "f1_data"
   ]
  },
  {
   "cell_type": "code",
   "execution_count": 49,
   "metadata": {},
   "outputs": [
    {
     "data": {
      "image/png": "[encoded data removed]",
      "text/plain": [
       "<Figure size 432x288 with 1 Axes>"
      ]
     },
     "metadata": {
      "needs_background": "light"
     },
     "output_type": "display_data"
    }
   ],
   "source": [
    "sns.barplot(data=f1_data, x=\"Model\", y=\"F1\", hue=\"Data\")\n",
    "plt.title('Значения F1 при разных способах борьбы с дисбалансом \\n')\n",
    "plt.ylim(0.25, 0.7)\n",
    "plt.legend(bbox_to_anchor=(1,1), loc=\"upper left\")\n",
    "plt.show()"
   ]
  },
  {
   "cell_type": "markdown",
   "metadata": {},
   "source": [
    "**Вывод**: Самый лучший результат показал случайный лес при взвешивании классов с F1 = 0.657 при следующих параметрах: количество наблюдателей - 60, глубина - 9, критерий - entropy.\n",
    "\n",
    "Наибольшую разницу методы борьбы с дисбалансом показали на логистической регрессии. На ней же взвешивание классов показывает бОльший отрыв в результатах по сравнению с upsampling и downsampling. <br>\n",
    "На дереве решений эффективных оказалось только увеличение выборки с помощью SMOTE, а все остальные методы дали худший результат, чем на несбалансированных данных. <br>"
   ]
  },
  {
   "cell_type": "markdown",
   "metadata": {},
   "source": [
    "## Тестирование модели"
   ]
  },
  {
   "cell_type": "markdown",
   "metadata": {},
   "source": [
    "Проверим лучшую модель на тестовых данных."
   ]
  },
  {
   "cell_type": "code",
   "execution_count": 55,
   "metadata": {},
   "outputs": [
    {
     "name": "stdout",
     "output_type": "stream",
     "text": [
      "F1: 0.6108897742363878\n",
      "Recall: 0.6552706552706553\n",
      "AUC ROC: 0.862326012870972\n"
     ]
    }
   ],
   "source": [
    "best_model = RandomForestClassifier(class_weight='balanced', criterion='entropy', \\\n",
    "                                    max_depth=9, n_estimators=60, random_state=rs)\n",
    "best_model.fit(features_train, target_train)\n",
    "\n",
    "predicted_test = best_model.predict(features_test)\n",
    "print(\"F1:\", f1_score(target_test, predicted_test))\n",
    "print('Recall:', recall_score(target_test, predicted_test))\n",
    "\n",
    "probabilities_test = best_model.predict_proba(features_test)\n",
    "probabilities_one_test = probabilities_test[:, 1]\n",
    "auc_roc = roc_auc_score(target_test, probabilities_one_test)\n",
    "print('AUC ROC:', auc_roc)"
   ]
  },
  {
   "cell_type": "code",
   "execution_count": 53,
   "metadata": {
    "scrolled": true
   },
   "outputs": [
    {
     "data": {
      "image/png": "[encoded data removed]",
      "text/plain": [
       "<Figure size 432x288 with 1 Axes>"
      ]
     },
     "metadata": {
      "needs_background": "light"
     },
     "output_type": "display_data"
    }
   ],
   "source": [
    "fpr, tpr, thresholds = roc_curve(target_test, probabilities_one_test)\n",
    "\n",
    "plt.plot([0, 1], [0, 1], linestyle='--')\n",
    "plt.plot(fpr, tpr)\n",
    "plt.xlabel('False Positive Rate')\n",
    "plt.ylabel('True Positive Rate')\n",
    "plt.ylim([0.0, 1.0])\n",
    "plt.xlim([0.0, 1.0])\n",
    "plt.title('ROC-кривая')\n",
    "plt.show()"
   ]
  },
  {
   "cell_type": "markdown",
   "metadata": {},
   "source": [
    "Сравним с константной моделью."
   ]
  },
  {
   "cell_type": "code",
   "execution_count": 57,
   "metadata": {},
   "outputs": [
    {
     "name": "stdout",
     "output_type": "stream",
     "text": [
      "F1: 0.3235023041474654\n",
      "Recall: 0.19296316657504123\n"
     ]
    }
   ],
   "source": [
    "dummy_model = DummyClassifier(strategy='constant', constant=1)\n",
    "dummy_model.fit(features_train, target_train)\n",
    "print(\"F1:\", f1_score(dummy_model.predict(features_test), target_test))\n",
    "print('Recall:', recall_score(dummy_model.predict(features_test), target_test))"
   ]
  },
  {
   "cell_type": "markdown",
   "metadata": {},
   "source": [
    "## Вывод"
   ]
  },
  {
   "cell_type": "markdown",
   "metadata": {},
   "source": [
    "Получены исторические данные в объеме 10 тысяч строк о поведении клиентов и расторжении контрактов.\n",
    "\n",
    "В данных имеются 9% пропусков в столбце, содержающим информацию о количестве лет, в течении которых человек является клиентом банка. Зависимостей этих пропусков от других данных выявлено не было, поэтому они были удалены. Столбцы c номером строки, ID клиента и его фамилией не представляют пользы для предсказания оттока клиентов, поэтому также были удалены. Было проведено прямое кодирование категориальных данных в столбцах с полом клиента и его географическим местоположением. Таким образом, данные были подготовлены для дальнйшего обучения моделей.\n",
    "\n",
    "В данных наблюдается дисбаланс классов с перевесом в сторону отрицательного (неушедших клиентов) в 4 раза. Преодолеть порог f1 в 0.59, данный по заданию, для случайного леса удалось даже без учета дисбаланса классов с параметрами количество наблюдаетелей: 90, глубина: 17 и критерий: gini - f1 вышла равной 0,597. Логистическая регрессия на несбалансированных данных показала очень низкий результат, а у дерева решений значение f1 было близким к случайному лесу, но порог не перешло. \n",
    "\n",
    "Были использованы 3 метода борьбы с дисбалансом классов: взвешивание классов, увеличение выборки и уменьшение выборки на моделях логистической регрессии, дерева решений и случайного леса.\n",
    "\n",
    "Наибольшую разницу методы борьбы с дисбалансом показали на логистической регрессии. На ней же взвешивание классов показывает бОльший отрыв в результатах по сравнению с upsampling и downsampling.\n",
    "На дереве решений эффективных оказалось только увеличение выборки с помощью SMOTE, а все остальные методы дали худший результат, чем на несбалансированных данных.\n",
    "Самый лучший результат показал случайный лес при взвешивании классов с F1 = 0.657 при следующих параметрах: количество наблюдателей - 60, глубина - 9, критерий - entropy.\n",
    "\n",
    "Эта модель на тестовых данных показала результат F1 = 0.612 с Recall = 0.655 и AUC ROC 0,862. Значение Recall показывает, что модель не очень хорошо находит клиентов на отток - только около 60%. Тем не менее, это лучшее константной модели, которая находит только около 20% клиентов на отток и имеет F1 = 0.323."
   ]
  },
  {
   "cell_type": "code",
   "execution_count": null,
   "metadata": {},
   "outputs": [],
   "source": []
  }
 ],
 "metadata": {
  "ExecuteTimeLog": [
   {
    "duration": 66,
    "start_time": "2023-07-05T19:52:52.630Z"
   },
   {
    "duration": 396,
    "start_time": "2023-07-05T19:52:55.528Z"
   },
   {
    "duration": 154,
    "start_time": "2023-07-05T19:52:56.810Z"
   },
   {
    "duration": 20,
    "start_time": "2023-07-05T19:53:10.593Z"
   },
   {
    "duration": 189,
    "start_time": "2023-07-05T20:01:00.870Z"
   },
   {
    "duration": 67,
    "start_time": "2023-07-05T20:06:11.277Z"
   },
   {
    "duration": 63,
    "start_time": "2023-07-05T20:06:17.457Z"
   },
   {
    "duration": 13,
    "start_time": "2023-07-05T20:06:20.741Z"
   },
   {
    "duration": 15,
    "start_time": "2023-07-05T20:07:21.654Z"
   },
   {
    "duration": 18,
    "start_time": "2023-07-05T20:07:38.098Z"
   },
   {
    "duration": 43,
    "start_time": "2023-07-05T20:10:06.344Z"
   },
   {
    "duration": 10,
    "start_time": "2023-07-05T20:10:40.809Z"
   },
   {
    "duration": 10,
    "start_time": "2023-07-05T20:10:59.488Z"
   },
   {
    "duration": 8,
    "start_time": "2023-07-05T20:11:06.796Z"
   },
   {
    "duration": 432,
    "start_time": "2023-07-13T19:20:20.092Z"
   },
   {
    "duration": 94,
    "start_time": "2023-07-13T19:20:20.527Z"
   },
   {
    "duration": 24,
    "start_time": "2023-07-13T19:20:20.623Z"
   },
   {
    "duration": 42,
    "start_time": "2023-07-13T19:20:20.649Z"
   },
   {
    "duration": 9,
    "start_time": "2023-07-13T19:20:20.694Z"
   },
   {
    "duration": 46,
    "start_time": "2023-07-13T19:20:20.705Z"
   },
   {
    "duration": 383,
    "start_time": "2023-07-14T11:40:10.704Z"
   },
   {
    "duration": 341,
    "start_time": "2023-07-14T11:40:11.090Z"
   },
   {
    "duration": 20,
    "start_time": "2023-07-14T11:40:11.433Z"
   },
   {
    "duration": 14,
    "start_time": "2023-07-14T11:40:11.455Z"
   },
   {
    "duration": 70,
    "start_time": "2023-07-14T11:40:11.471Z"
   },
   {
    "duration": 0,
    "start_time": "2023-07-14T11:40:11.543Z"
   },
   {
    "duration": 0,
    "start_time": "2023-07-14T11:40:11.544Z"
   },
   {
    "duration": 4,
    "start_time": "2023-07-14T11:40:31.582Z"
   },
   {
    "duration": 403,
    "start_time": "2023-07-14T11:42:26.590Z"
   },
   {
    "duration": 42,
    "start_time": "2023-07-14T11:42:26.995Z"
   },
   {
    "duration": 24,
    "start_time": "2023-07-14T11:42:27.038Z"
   },
   {
    "duration": 16,
    "start_time": "2023-07-14T11:42:27.064Z"
   },
   {
    "duration": 4,
    "start_time": "2023-07-14T11:42:27.083Z"
   },
   {
    "duration": 118,
    "start_time": "2023-07-14T11:42:27.089Z"
   },
   {
    "duration": 0,
    "start_time": "2023-07-14T11:42:27.209Z"
   },
   {
    "duration": 0,
    "start_time": "2023-07-14T11:42:27.210Z"
   },
   {
    "duration": 21,
    "start_time": "2023-07-14T11:47:08.761Z"
   },
   {
    "duration": 5,
    "start_time": "2023-07-14T11:47:12.730Z"
   },
   {
    "duration": 12,
    "start_time": "2023-07-14T11:47:18.431Z"
   },
   {
    "duration": 4,
    "start_time": "2023-07-14T11:47:34.313Z"
   },
   {
    "duration": 80,
    "start_time": "2023-07-14T11:48:41.966Z"
   },
   {
    "duration": 9,
    "start_time": "2023-07-14T11:48:49.128Z"
   },
   {
    "duration": 39,
    "start_time": "2023-07-14T11:49:01.704Z"
   },
   {
    "duration": 1133,
    "start_time": "2023-07-14T11:49:06.730Z"
   },
   {
    "duration": 705,
    "start_time": "2023-07-14T11:49:10.056Z"
   },
   {
    "duration": 1284,
    "start_time": "2023-07-14T11:49:23.003Z"
   },
   {
    "duration": 1227,
    "start_time": "2023-07-14T11:49:33.255Z"
   },
   {
    "duration": 83,
    "start_time": "2023-07-14T11:52:08.507Z"
   },
   {
    "duration": 27,
    "start_time": "2023-07-14T11:53:43.585Z"
   },
   {
    "duration": 5,
    "start_time": "2023-07-14T11:57:01.560Z"
   },
   {
    "duration": 885,
    "start_time": "2023-07-14T11:57:19.389Z"
   },
   {
    "duration": 984,
    "start_time": "2023-07-14T11:57:22.592Z"
   },
   {
    "duration": 18,
    "start_time": "2023-07-14T11:57:56.713Z"
   },
   {
    "duration": 86,
    "start_time": "2023-07-14T11:58:54.185Z"
   },
   {
    "duration": 100,
    "start_time": "2023-07-14T11:59:09.364Z"
   },
   {
    "duration": 27,
    "start_time": "2023-07-14T11:59:16.001Z"
   },
   {
    "duration": 908,
    "start_time": "2023-07-14T12:00:00.907Z"
   },
   {
    "duration": 1014,
    "start_time": "2023-07-14T12:00:28.164Z"
   },
   {
    "duration": 4,
    "start_time": "2023-07-14T12:05:29.807Z"
   },
   {
    "duration": 14,
    "start_time": "2023-07-14T12:05:36.020Z"
   },
   {
    "duration": 5,
    "start_time": "2023-07-14T12:06:33.096Z"
   },
   {
    "duration": 4,
    "start_time": "2023-07-14T12:07:41.971Z"
   },
   {
    "duration": 12,
    "start_time": "2023-07-14T12:10:37.972Z"
   },
   {
    "duration": 3,
    "start_time": "2023-07-14T12:11:39.810Z"
   },
   {
    "duration": 1290,
    "start_time": "2023-07-14T12:11:42.935Z"
   },
   {
    "duration": 1333,
    "start_time": "2023-07-14T12:12:21.262Z"
   },
   {
    "duration": 87,
    "start_time": "2023-07-14T12:14:28.573Z"
   },
   {
    "duration": 15,
    "start_time": "2023-07-14T12:14:35.121Z"
   },
   {
    "duration": 14,
    "start_time": "2023-07-14T12:14:48.030Z"
   },
   {
    "duration": 393,
    "start_time": "2023-07-14T12:15:03.281Z"
   },
   {
    "duration": 43,
    "start_time": "2023-07-14T12:15:03.676Z"
   },
   {
    "duration": 22,
    "start_time": "2023-07-14T12:15:03.720Z"
   },
   {
    "duration": 15,
    "start_time": "2023-07-14T12:15:03.745Z"
   },
   {
    "duration": 12,
    "start_time": "2023-07-14T12:15:03.762Z"
   },
   {
    "duration": 11,
    "start_time": "2023-07-14T12:15:03.776Z"
   },
   {
    "duration": 39,
    "start_time": "2023-07-14T12:15:03.789Z"
   },
   {
    "duration": 1431,
    "start_time": "2023-07-14T12:15:03.830Z"
   },
   {
    "duration": 1105,
    "start_time": "2023-07-14T12:15:05.263Z"
   },
   {
    "duration": 5,
    "start_time": "2023-07-14T12:15:06.371Z"
   },
   {
    "duration": 7,
    "start_time": "2023-07-14T12:15:06.378Z"
   },
   {
    "duration": 12,
    "start_time": "2023-07-14T12:15:06.387Z"
   },
   {
    "duration": 12,
    "start_time": "2023-07-14T12:15:24.329Z"
   },
   {
    "duration": 4,
    "start_time": "2023-07-14T12:17:02.269Z"
   },
   {
    "duration": 69,
    "start_time": "2023-07-14T12:17:16.199Z"
   },
   {
    "duration": 189,
    "start_time": "2023-07-14T12:17:24.430Z"
   },
   {
    "duration": 10,
    "start_time": "2023-07-14T12:19:09.220Z"
   },
   {
    "duration": 9,
    "start_time": "2023-07-14T12:20:26.924Z"
   },
   {
    "duration": 30,
    "start_time": "2023-07-14T12:20:38.402Z"
   },
   {
    "duration": 11,
    "start_time": "2023-07-14T12:20:52.318Z"
   },
   {
    "duration": 437,
    "start_time": "2023-07-14T12:20:59.233Z"
   },
   {
    "duration": 41,
    "start_time": "2023-07-14T12:20:59.672Z"
   },
   {
    "duration": 19,
    "start_time": "2023-07-14T12:20:59.715Z"
   },
   {
    "duration": 12,
    "start_time": "2023-07-14T12:20:59.736Z"
   },
   {
    "duration": 23,
    "start_time": "2023-07-14T12:20:59.749Z"
   },
   {
    "duration": 4,
    "start_time": "2023-07-14T12:20:59.774Z"
   },
   {
    "duration": 49,
    "start_time": "2023-07-14T12:20:59.779Z"
   },
   {
    "duration": 1224,
    "start_time": "2023-07-14T12:20:59.829Z"
   },
   {
    "duration": 1009,
    "start_time": "2023-07-14T12:21:01.055Z"
   },
   {
    "duration": 5,
    "start_time": "2023-07-14T12:21:02.066Z"
   },
   {
    "duration": 22,
    "start_time": "2023-07-14T12:21:02.072Z"
   },
   {
    "duration": 39,
    "start_time": "2023-07-14T12:21:02.096Z"
   },
   {
    "duration": 23,
    "start_time": "2023-07-14T12:21:02.137Z"
   },
   {
    "duration": 70,
    "start_time": "2023-07-14T12:21:57.802Z"
   },
   {
    "duration": 9,
    "start_time": "2023-07-14T12:22:06.443Z"
   },
   {
    "duration": 19,
    "start_time": "2023-07-14T12:22:15.980Z"
   },
   {
    "duration": 10,
    "start_time": "2023-07-14T12:22:41.434Z"
   },
   {
    "duration": 5,
    "start_time": "2023-07-14T12:23:03.169Z"
   },
   {
    "duration": 9,
    "start_time": "2023-07-14T12:24:02.402Z"
   },
   {
    "duration": 6,
    "start_time": "2023-07-14T12:24:38.603Z"
   },
   {
    "duration": 7,
    "start_time": "2023-07-14T12:43:07.772Z"
   },
   {
    "duration": 8,
    "start_time": "2023-07-14T12:43:54.317Z"
   },
   {
    "duration": 102,
    "start_time": "2023-07-14T12:45:59.000Z"
   },
   {
    "duration": 108,
    "start_time": "2023-07-14T12:46:19.610Z"
   },
   {
    "duration": 105,
    "start_time": "2023-07-14T12:46:44.528Z"
   },
   {
    "duration": 798,
    "start_time": "2023-07-14T12:51:26.016Z"
   },
   {
    "duration": 1420,
    "start_time": "2023-07-14T13:01:45.298Z"
   },
   {
    "duration": 111,
    "start_time": "2023-07-14T13:06:34.351Z"
   },
   {
    "duration": 1134,
    "start_time": "2023-07-14T13:06:51.493Z"
   },
   {
    "duration": 79,
    "start_time": "2023-07-14T13:06:52.629Z"
   },
   {
    "duration": 27,
    "start_time": "2023-07-14T13:06:52.711Z"
   },
   {
    "duration": 11,
    "start_time": "2023-07-14T13:06:52.740Z"
   },
   {
    "duration": 12,
    "start_time": "2023-07-14T13:06:52.752Z"
   },
   {
    "duration": 10,
    "start_time": "2023-07-14T13:06:52.765Z"
   },
   {
    "duration": 23,
    "start_time": "2023-07-14T13:06:52.776Z"
   },
   {
    "duration": 48,
    "start_time": "2023-07-14T13:06:52.802Z"
   },
   {
    "duration": 1428,
    "start_time": "2023-07-14T13:06:52.851Z"
   },
   {
    "duration": 913,
    "start_time": "2023-07-14T13:06:54.282Z"
   },
   {
    "duration": 11,
    "start_time": "2023-07-14T13:06:55.197Z"
   },
   {
    "duration": 31,
    "start_time": "2023-07-14T13:06:55.210Z"
   },
   {
    "duration": 11,
    "start_time": "2023-07-14T13:06:55.242Z"
   },
   {
    "duration": 8,
    "start_time": "2023-07-14T13:06:55.254Z"
   },
   {
    "duration": 8,
    "start_time": "2023-07-14T13:06:55.264Z"
   },
   {
    "duration": 12,
    "start_time": "2023-07-14T13:06:55.274Z"
   },
   {
    "duration": 5,
    "start_time": "2023-07-14T13:07:31.947Z"
   },
   {
    "duration": 4,
    "start_time": "2023-07-14T13:08:06.425Z"
   },
   {
    "duration": 4,
    "start_time": "2023-07-14T13:08:32.578Z"
   },
   {
    "duration": 5,
    "start_time": "2023-07-14T13:08:40.624Z"
   },
   {
    "duration": 3,
    "start_time": "2023-07-14T13:08:59.594Z"
   },
   {
    "duration": 4,
    "start_time": "2023-07-14T13:09:03.477Z"
   },
   {
    "duration": 4,
    "start_time": "2023-07-14T13:10:01.835Z"
   },
   {
    "duration": 6,
    "start_time": "2023-07-14T13:10:04.672Z"
   },
   {
    "duration": 5,
    "start_time": "2023-07-14T13:10:47.521Z"
   },
   {
    "duration": 2,
    "start_time": "2023-07-14T13:12:09.341Z"
   },
   {
    "duration": 2,
    "start_time": "2023-07-14T13:12:57.631Z"
   },
   {
    "duration": 44,
    "start_time": "2023-07-14T13:13:13.976Z"
   },
   {
    "duration": 127,
    "start_time": "2023-07-14T13:17:55.449Z"
   },
   {
    "duration": 3,
    "start_time": "2023-07-14T13:18:00.144Z"
   },
   {
    "duration": 1059,
    "start_time": "2023-07-14T13:27:32.551Z"
   },
   {
    "duration": 39,
    "start_time": "2023-07-14T13:27:33.612Z"
   },
   {
    "duration": 17,
    "start_time": "2023-07-14T13:27:33.653Z"
   },
   {
    "duration": 11,
    "start_time": "2023-07-14T13:27:33.672Z"
   },
   {
    "duration": 11,
    "start_time": "2023-07-14T13:27:33.684Z"
   },
   {
    "duration": 18,
    "start_time": "2023-07-14T13:27:33.697Z"
   },
   {
    "duration": 4,
    "start_time": "2023-07-14T13:27:33.717Z"
   },
   {
    "duration": 35,
    "start_time": "2023-07-14T13:27:33.723Z"
   },
   {
    "duration": 1111,
    "start_time": "2023-07-14T13:27:33.759Z"
   },
   {
    "duration": 914,
    "start_time": "2023-07-14T13:27:34.872Z"
   },
   {
    "duration": 4,
    "start_time": "2023-07-14T13:27:35.787Z"
   },
   {
    "duration": 9,
    "start_time": "2023-07-14T13:27:35.800Z"
   },
   {
    "duration": 17,
    "start_time": "2023-07-14T13:27:35.810Z"
   },
   {
    "duration": 6,
    "start_time": "2023-07-14T13:27:35.829Z"
   },
   {
    "duration": 14,
    "start_time": "2023-07-14T13:27:35.836Z"
   },
   {
    "duration": 7,
    "start_time": "2023-07-14T13:27:35.852Z"
   },
   {
    "duration": 17,
    "start_time": "2023-07-14T13:27:35.861Z"
   },
   {
    "duration": 13,
    "start_time": "2023-07-14T13:27:35.880Z"
   },
   {
    "duration": 19,
    "start_time": "2023-07-14T13:27:35.895Z"
   },
   {
    "duration": 17,
    "start_time": "2023-07-14T13:27:35.916Z"
   },
   {
    "duration": 45,
    "start_time": "2023-07-14T13:27:35.935Z"
   },
   {
    "duration": 1133,
    "start_time": "2023-07-14T13:29:08.381Z"
   },
   {
    "duration": 39,
    "start_time": "2023-07-14T13:29:09.516Z"
   },
   {
    "duration": 24,
    "start_time": "2023-07-14T13:29:09.556Z"
   },
   {
    "duration": 40,
    "start_time": "2023-07-14T13:29:09.582Z"
   },
   {
    "duration": 28,
    "start_time": "2023-07-14T13:29:09.624Z"
   },
   {
    "duration": 31,
    "start_time": "2023-07-14T13:29:09.654Z"
   },
   {
    "duration": 22,
    "start_time": "2023-07-14T13:29:09.687Z"
   },
   {
    "duration": 103,
    "start_time": "2023-07-14T13:29:09.711Z"
   },
   {
    "duration": 1170,
    "start_time": "2023-07-14T13:29:09.815Z"
   },
   {
    "duration": 883,
    "start_time": "2023-07-14T13:29:10.987Z"
   },
   {
    "duration": 4,
    "start_time": "2023-07-14T13:29:11.872Z"
   },
   {
    "duration": 25,
    "start_time": "2023-07-14T13:29:11.877Z"
   },
   {
    "duration": 24,
    "start_time": "2023-07-14T13:29:11.903Z"
   },
   {
    "duration": 11,
    "start_time": "2023-07-14T13:29:11.928Z"
   },
   {
    "duration": 9,
    "start_time": "2023-07-14T13:29:11.941Z"
   },
   {
    "duration": 6,
    "start_time": "2023-07-14T13:29:11.951Z"
   },
   {
    "duration": 11,
    "start_time": "2023-07-14T13:29:11.958Z"
   },
   {
    "duration": 5,
    "start_time": "2023-07-14T13:29:11.970Z"
   },
   {
    "duration": 16,
    "start_time": "2023-07-14T13:29:11.976Z"
   },
   {
    "duration": 10,
    "start_time": "2023-07-14T13:29:11.993Z"
   },
   {
    "duration": 30,
    "start_time": "2023-07-14T13:29:12.004Z"
   },
   {
    "duration": 1092,
    "start_time": "2023-07-14T13:30:36.592Z"
   },
   {
    "duration": 43,
    "start_time": "2023-07-14T13:30:37.686Z"
   },
   {
    "duration": 19,
    "start_time": "2023-07-14T13:30:37.731Z"
   },
   {
    "duration": 13,
    "start_time": "2023-07-14T13:30:37.752Z"
   },
   {
    "duration": 12,
    "start_time": "2023-07-14T13:30:37.767Z"
   },
   {
    "duration": 20,
    "start_time": "2023-07-14T13:30:37.781Z"
   },
   {
    "duration": 4,
    "start_time": "2023-07-14T13:30:37.802Z"
   },
   {
    "duration": 36,
    "start_time": "2023-07-14T13:30:37.807Z"
   },
   {
    "duration": 1144,
    "start_time": "2023-07-14T13:30:37.845Z"
   },
   {
    "duration": 880,
    "start_time": "2023-07-14T13:30:38.992Z"
   },
   {
    "duration": 4,
    "start_time": "2023-07-14T13:30:39.873Z"
   },
   {
    "duration": 15,
    "start_time": "2023-07-14T13:30:39.878Z"
   },
   {
    "duration": 21,
    "start_time": "2023-07-14T13:30:39.894Z"
   },
   {
    "duration": 16,
    "start_time": "2023-07-14T13:30:39.917Z"
   },
   {
    "duration": 7,
    "start_time": "2023-07-14T13:30:39.934Z"
   },
   {
    "duration": 5,
    "start_time": "2023-07-14T13:30:39.943Z"
   },
   {
    "duration": 5,
    "start_time": "2023-07-14T13:30:39.949Z"
   },
   {
    "duration": 4,
    "start_time": "2023-07-14T13:30:39.955Z"
   },
   {
    "duration": 5,
    "start_time": "2023-07-14T13:30:39.961Z"
   },
   {
    "duration": 3,
    "start_time": "2023-07-14T13:30:39.967Z"
   },
   {
    "duration": 41,
    "start_time": "2023-07-14T13:30:39.972Z"
   },
   {
    "duration": 900130,
    "start_time": "2023-07-14T13:30:40.014Z"
   },
   {
    "duration": 24,
    "start_time": "2023-07-14T14:25:09.771Z"
   },
   {
    "duration": 590,
    "start_time": "2023-07-14T14:28:19.715Z"
   },
   {
    "duration": 76,
    "start_time": "2023-07-14T14:28:35.295Z"
   },
   {
    "duration": 1488,
    "start_time": "2023-07-14T14:30:09.923Z"
   },
   {
    "duration": 24995,
    "start_time": "2023-07-14T14:49:19.363Z"
   },
   {
    "duration": 8,
    "start_time": "2023-07-14T14:50:01.342Z"
   },
   {
    "duration": 226461,
    "start_time": "2023-07-14T15:41:05.882Z"
   },
   {
    "duration": 23,
    "start_time": "2023-07-14T15:46:30.803Z"
   },
   {
    "duration": 24,
    "start_time": "2023-07-14T15:49:11.449Z"
   },
   {
    "duration": 27,
    "start_time": "2023-07-14T15:55:17.154Z"
   },
   {
    "duration": 17,
    "start_time": "2023-07-14T15:55:19.959Z"
   },
   {
    "duration": 290,
    "start_time": "2023-07-14T15:59:16.622Z"
   },
   {
    "duration": 1014,
    "start_time": "2023-07-14T15:59:25.548Z"
   },
   {
    "duration": 38,
    "start_time": "2023-07-14T15:59:26.564Z"
   },
   {
    "duration": 16,
    "start_time": "2023-07-14T15:59:26.603Z"
   },
   {
    "duration": 20,
    "start_time": "2023-07-14T15:59:26.621Z"
   },
   {
    "duration": 14,
    "start_time": "2023-07-14T15:59:26.643Z"
   },
   {
    "duration": 13,
    "start_time": "2023-07-14T15:59:26.658Z"
   },
   {
    "duration": 15,
    "start_time": "2023-07-14T15:59:26.672Z"
   },
   {
    "duration": 34,
    "start_time": "2023-07-14T15:59:26.689Z"
   },
   {
    "duration": 991,
    "start_time": "2023-07-14T15:59:26.725Z"
   },
   {
    "duration": 832,
    "start_time": "2023-07-14T15:59:27.719Z"
   },
   {
    "duration": 4,
    "start_time": "2023-07-14T15:59:28.552Z"
   },
   {
    "duration": 15,
    "start_time": "2023-07-14T15:59:28.557Z"
   },
   {
    "duration": 13,
    "start_time": "2023-07-14T15:59:28.573Z"
   },
   {
    "duration": 5,
    "start_time": "2023-07-14T15:59:28.587Z"
   },
   {
    "duration": 3,
    "start_time": "2023-07-14T15:59:28.599Z"
   },
   {
    "duration": 5,
    "start_time": "2023-07-14T15:59:28.604Z"
   },
   {
    "duration": 12,
    "start_time": "2023-07-14T15:59:28.610Z"
   },
   {
    "duration": 5,
    "start_time": "2023-07-14T15:59:28.623Z"
   },
   {
    "duration": 8,
    "start_time": "2023-07-14T15:59:28.629Z"
   },
   {
    "duration": 5,
    "start_time": "2023-07-14T15:59:28.638Z"
   },
   {
    "duration": 23,
    "start_time": "2023-07-14T15:59:28.644Z"
   },
   {
    "duration": 31,
    "start_time": "2023-07-14T15:59:28.669Z"
   },
   {
    "duration": 24402,
    "start_time": "2023-07-14T15:59:28.702Z"
   },
   {
    "duration": 6,
    "start_time": "2023-07-14T15:59:53.105Z"
   },
   {
    "duration": 229448,
    "start_time": "2023-07-14T15:59:53.112Z"
   },
   {
    "duration": 19,
    "start_time": "2023-07-14T16:03:42.561Z"
   },
   {
    "duration": 33,
    "start_time": "2023-07-14T16:03:42.582Z"
   },
   {
    "duration": 121,
    "start_time": "2023-07-14T16:03:42.699Z"
   },
   {
    "duration": 325,
    "start_time": "2023-07-14T16:03:42.821Z"
   },
   {
    "duration": 26,
    "start_time": "2023-07-14T16:08:01.709Z"
   },
   {
    "duration": 224,
    "start_time": "2023-07-14T16:08:04.162Z"
   },
   {
    "duration": 46,
    "start_time": "2023-07-14T16:14:58.831Z"
   },
   {
    "duration": 25698,
    "start_time": "2023-07-14T16:15:04.361Z"
   },
   {
    "duration": 10,
    "start_time": "2023-07-14T16:16:29.252Z"
   },
   {
    "duration": 34,
    "start_time": "2023-07-14T16:17:16.583Z"
   },
   {
    "duration": 3,
    "start_time": "2023-07-14T16:17:33.483Z"
   },
   {
    "duration": 418088,
    "start_time": "2023-07-14T16:19:08.464Z"
   },
   {
    "duration": 19,
    "start_time": "2023-07-14T16:32:34.977Z"
   },
   {
    "duration": 9,
    "start_time": "2023-07-14T16:35:04.294Z"
   },
   {
    "duration": 78,
    "start_time": "2023-07-14T16:35:08.122Z"
   },
   {
    "duration": 2,
    "start_time": "2023-07-14T16:35:37.289Z"
   },
   {
    "duration": 32019,
    "start_time": "2023-07-14T16:36:17.282Z"
   },
   {
    "duration": 7,
    "start_time": "2023-07-14T16:38:14.040Z"
   },
   {
    "duration": 295466,
    "start_time": "2023-07-14T16:38:48.615Z"
   },
   {
    "duration": 2,
    "start_time": "2023-07-14T16:43:44.083Z"
   },
   {
    "duration": 21,
    "start_time": "2023-07-14T16:43:48.352Z"
   },
   {
    "duration": 3,
    "start_time": "2023-07-14T16:45:49.179Z"
   },
   {
    "duration": 4,
    "start_time": "2023-07-14T16:46:39.184Z"
   },
   {
    "duration": 8,
    "start_time": "2023-07-14T16:47:18.458Z"
   },
   {
    "duration": 4,
    "start_time": "2023-07-14T16:47:35.481Z"
   },
   {
    "duration": 5,
    "start_time": "2023-07-14T16:47:54.682Z"
   },
   {
    "duration": 2,
    "start_time": "2023-07-14T16:48:40.138Z"
   },
   {
    "duration": 22,
    "start_time": "2023-07-14T16:50:32.293Z"
   },
   {
    "duration": 13576,
    "start_time": "2023-07-14T16:51:53.684Z"
   },
   {
    "duration": 7,
    "start_time": "2023-07-14T16:53:44.098Z"
   },
   {
    "duration": 294867,
    "start_time": "2023-07-14T16:54:21.326Z"
   },
   {
    "duration": 22,
    "start_time": "2023-07-14T16:59:54.644Z"
   },
   {
    "duration": 4,
    "start_time": "2023-07-14T17:03:01.815Z"
   },
   {
    "duration": 5,
    "start_time": "2023-07-14T17:03:09.098Z"
   },
   {
    "duration": 4,
    "start_time": "2023-07-14T17:06:14.861Z"
   },
   {
    "duration": 88,
    "start_time": "2023-07-14T17:06:18.120Z"
   },
   {
    "duration": 6,
    "start_time": "2023-07-14T17:06:25.063Z"
   },
   {
    "duration": 22,
    "start_time": "2023-07-14T17:06:47.446Z"
   },
   {
    "duration": 7,
    "start_time": "2023-07-14T17:06:52.687Z"
   },
   {
    "duration": 27,
    "start_time": "2023-07-14T17:07:20.956Z"
   },
   {
    "duration": 26,
    "start_time": "2023-07-14T17:07:34.631Z"
   },
   {
    "duration": 1057,
    "start_time": "2023-07-14T17:21:44.939Z"
   },
   {
    "duration": 42,
    "start_time": "2023-07-14T17:21:45.999Z"
   },
   {
    "duration": 23,
    "start_time": "2023-07-14T17:21:46.043Z"
   },
   {
    "duration": 20,
    "start_time": "2023-07-14T17:21:46.068Z"
   },
   {
    "duration": 12,
    "start_time": "2023-07-14T17:21:46.090Z"
   },
   {
    "duration": 13,
    "start_time": "2023-07-14T17:21:46.104Z"
   },
   {
    "duration": 4,
    "start_time": "2023-07-14T17:21:46.119Z"
   },
   {
    "duration": 43,
    "start_time": "2023-07-14T17:21:46.125Z"
   },
   {
    "duration": 1051,
    "start_time": "2023-07-14T17:21:46.170Z"
   },
   {
    "duration": 828,
    "start_time": "2023-07-14T17:21:47.223Z"
   },
   {
    "duration": 5,
    "start_time": "2023-07-14T17:21:48.052Z"
   },
   {
    "duration": 9,
    "start_time": "2023-07-14T17:21:48.058Z"
   },
   {
    "duration": 11,
    "start_time": "2023-07-14T17:21:48.068Z"
   },
   {
    "duration": 19,
    "start_time": "2023-07-14T17:21:48.081Z"
   },
   {
    "duration": 10,
    "start_time": "2023-07-14T17:21:48.101Z"
   },
   {
    "duration": 15,
    "start_time": "2023-07-14T17:21:48.113Z"
   },
   {
    "duration": 6,
    "start_time": "2023-07-14T17:21:48.130Z"
   },
   {
    "duration": 18,
    "start_time": "2023-07-14T17:21:48.138Z"
   },
   {
    "duration": 7,
    "start_time": "2023-07-14T17:21:48.157Z"
   },
   {
    "duration": 9,
    "start_time": "2023-07-14T17:21:48.166Z"
   },
   {
    "duration": 28,
    "start_time": "2023-07-14T17:21:48.177Z"
   },
   {
    "duration": 4,
    "start_time": "2023-07-14T17:21:48.206Z"
   },
   {
    "duration": 91,
    "start_time": "2023-07-14T17:21:48.211Z"
   },
   {
    "duration": 24264,
    "start_time": "2023-07-14T17:21:48.303Z"
   },
   {
    "duration": 10,
    "start_time": "2023-07-14T17:22:12.568Z"
   },
   {
    "duration": 112,
    "start_time": "2023-07-14T17:22:12.579Z"
   },
   {
    "duration": 0,
    "start_time": "2023-07-14T17:22:12.693Z"
   },
   {
    "duration": 0,
    "start_time": "2023-07-14T17:22:12.699Z"
   },
   {
    "duration": 0,
    "start_time": "2023-07-14T17:22:12.700Z"
   },
   {
    "duration": 0,
    "start_time": "2023-07-14T17:22:12.702Z"
   },
   {
    "duration": 0,
    "start_time": "2023-07-14T17:22:12.703Z"
   },
   {
    "duration": 0,
    "start_time": "2023-07-14T17:22:12.704Z"
   },
   {
    "duration": 0,
    "start_time": "2023-07-14T17:22:12.713Z"
   },
   {
    "duration": 0,
    "start_time": "2023-07-14T17:22:12.714Z"
   },
   {
    "duration": 0,
    "start_time": "2023-07-14T17:22:12.716Z"
   },
   {
    "duration": 0,
    "start_time": "2023-07-14T17:22:12.717Z"
   },
   {
    "duration": 0,
    "start_time": "2023-07-14T17:22:12.718Z"
   },
   {
    "duration": 0,
    "start_time": "2023-07-14T17:22:12.720Z"
   },
   {
    "duration": 0,
    "start_time": "2023-07-14T17:22:12.721Z"
   },
   {
    "duration": 0,
    "start_time": "2023-07-14T17:22:12.722Z"
   },
   {
    "duration": 0,
    "start_time": "2023-07-14T17:22:12.723Z"
   },
   {
    "duration": 0,
    "start_time": "2023-07-14T17:22:12.725Z"
   },
   {
    "duration": 0,
    "start_time": "2023-07-14T17:22:12.726Z"
   },
   {
    "duration": 0,
    "start_time": "2023-07-14T17:22:12.727Z"
   },
   {
    "duration": 0,
    "start_time": "2023-07-14T17:22:12.728Z"
   },
   {
    "duration": 0,
    "start_time": "2023-07-14T17:22:12.729Z"
   },
   {
    "duration": 0,
    "start_time": "2023-07-14T17:22:12.730Z"
   },
   {
    "duration": 1,
    "start_time": "2023-07-14T17:22:12.731Z"
   },
   {
    "duration": 1028,
    "start_time": "2023-07-14T17:22:22.634Z"
   },
   {
    "duration": 42,
    "start_time": "2023-07-14T17:22:23.664Z"
   },
   {
    "duration": 18,
    "start_time": "2023-07-14T17:22:23.707Z"
   },
   {
    "duration": 23,
    "start_time": "2023-07-14T17:22:23.727Z"
   },
   {
    "duration": 18,
    "start_time": "2023-07-14T17:22:23.751Z"
   },
   {
    "duration": 20,
    "start_time": "2023-07-14T17:22:23.770Z"
   },
   {
    "duration": 12,
    "start_time": "2023-07-14T17:22:23.791Z"
   },
   {
    "duration": 45,
    "start_time": "2023-07-14T17:22:23.804Z"
   },
   {
    "duration": 1006,
    "start_time": "2023-07-14T17:22:23.850Z"
   },
   {
    "duration": 849,
    "start_time": "2023-07-14T17:22:24.858Z"
   },
   {
    "duration": 3,
    "start_time": "2023-07-14T17:22:25.709Z"
   },
   {
    "duration": 27,
    "start_time": "2023-07-14T17:22:25.714Z"
   },
   {
    "duration": 27,
    "start_time": "2023-07-14T17:22:25.742Z"
   },
   {
    "duration": 8,
    "start_time": "2023-07-14T17:22:25.770Z"
   },
   {
    "duration": 24,
    "start_time": "2023-07-14T17:22:25.780Z"
   },
   {
    "duration": 12,
    "start_time": "2023-07-14T17:22:25.806Z"
   },
   {
    "duration": 12,
    "start_time": "2023-07-14T17:22:25.819Z"
   },
   {
    "duration": 14,
    "start_time": "2023-07-14T17:22:25.832Z"
   },
   {
    "duration": 7,
    "start_time": "2023-07-14T17:22:25.848Z"
   },
   {
    "duration": 30,
    "start_time": "2023-07-14T17:22:25.857Z"
   },
   {
    "duration": 32,
    "start_time": "2023-07-14T17:22:25.888Z"
   },
   {
    "duration": 4,
    "start_time": "2023-07-14T17:22:25.921Z"
   },
   {
    "duration": 72,
    "start_time": "2023-07-14T17:22:25.927Z"
   },
   {
    "duration": 24287,
    "start_time": "2023-07-14T17:22:26.002Z"
   },
   {
    "duration": 10,
    "start_time": "2023-07-14T17:22:50.299Z"
   },
   {
    "duration": 494162,
    "start_time": "2023-07-14T17:22:50.310Z"
   },
   {
    "duration": 29,
    "start_time": "2023-07-14T17:31:04.474Z"
   },
   {
    "duration": 21,
    "start_time": "2023-07-14T17:31:04.506Z"
   },
   {
    "duration": 25662,
    "start_time": "2023-07-14T17:31:04.528Z"
   },
   {
    "duration": 16,
    "start_time": "2023-07-14T17:31:30.191Z"
   },
   {
    "duration": 496479,
    "start_time": "2023-07-14T17:31:30.208Z"
   },
   {
    "duration": 46,
    "start_time": "2023-07-14T17:39:46.688Z"
   },
   {
    "duration": 4,
    "start_time": "2023-07-14T17:39:46.735Z"
   },
   {
    "duration": 10,
    "start_time": "2023-07-14T17:39:46.740Z"
   },
   {
    "duration": 5,
    "start_time": "2023-07-14T17:39:46.751Z"
   },
   {
    "duration": 49,
    "start_time": "2023-07-14T17:39:46.757Z"
   },
   {
    "duration": 32060,
    "start_time": "2023-07-14T17:39:46.808Z"
   },
   {
    "duration": 8,
    "start_time": "2023-07-14T17:40:18.870Z"
   },
   {
    "duration": 650344,
    "start_time": "2023-07-14T17:40:18.880Z"
   },
   {
    "duration": 31,
    "start_time": "2023-07-14T17:51:09.225Z"
   },
   {
    "duration": 3,
    "start_time": "2023-07-14T17:51:09.258Z"
   },
   {
    "duration": 16,
    "start_time": "2023-07-14T17:51:09.262Z"
   },
   {
    "duration": 6,
    "start_time": "2023-07-14T17:51:09.279Z"
   },
   {
    "duration": 15,
    "start_time": "2023-07-14T17:51:09.300Z"
   },
   {
    "duration": 14752,
    "start_time": "2023-07-14T17:51:09.316Z"
   },
   {
    "duration": 9,
    "start_time": "2023-07-14T17:51:24.069Z"
   },
   {
    "duration": 37,
    "start_time": "2023-07-14T18:02:17.483Z"
   },
   {
    "duration": 7,
    "start_time": "2023-07-14T18:02:36.980Z"
   },
   {
    "duration": 653557,
    "start_time": "2023-07-14T18:02:36.989Z"
   },
   {
    "duration": 33,
    "start_time": "2023-07-14T18:14:07.078Z"
   },
   {
    "duration": 34,
    "start_time": "2023-07-14T18:14:26.600Z"
   },
   {
    "duration": 8,
    "start_time": "2023-07-14T18:14:28.375Z"
   },
   {
    "duration": 117,
    "start_time": "2023-07-14T18:15:28.036Z"
   },
   {
    "duration": 11,
    "start_time": "2023-07-14T18:15:56.612Z"
   },
   {
    "duration": 11,
    "start_time": "2023-07-14T18:16:00.886Z"
   },
   {
    "duration": 1302,
    "start_time": "2023-07-14T18:49:29.491Z"
   },
   {
    "duration": 198,
    "start_time": "2023-07-14T18:49:30.795Z"
   },
   {
    "duration": 23,
    "start_time": "2023-07-14T18:49:30.996Z"
   },
   {
    "duration": 51,
    "start_time": "2023-07-14T18:49:31.021Z"
   },
   {
    "duration": 29,
    "start_time": "2023-07-14T18:49:31.074Z"
   },
   {
    "duration": 34,
    "start_time": "2023-07-14T18:49:31.105Z"
   },
   {
    "duration": 40,
    "start_time": "2023-07-14T18:49:31.142Z"
   },
   {
    "duration": 79,
    "start_time": "2023-07-14T18:49:31.184Z"
   },
   {
    "duration": 1800,
    "start_time": "2023-07-14T18:49:31.265Z"
   },
   {
    "duration": 1279,
    "start_time": "2023-07-14T18:49:33.069Z"
   },
   {
    "duration": 6,
    "start_time": "2023-07-14T18:49:34.349Z"
   },
   {
    "duration": 25,
    "start_time": "2023-07-14T18:49:34.357Z"
   },
   {
    "duration": 18,
    "start_time": "2023-07-14T18:49:34.384Z"
   },
   {
    "duration": 7,
    "start_time": "2023-07-14T18:49:34.404Z"
   },
   {
    "duration": 33,
    "start_time": "2023-07-14T18:49:34.413Z"
   },
   {
    "duration": 10,
    "start_time": "2023-07-14T18:49:34.447Z"
   },
   {
    "duration": 11,
    "start_time": "2023-07-14T18:49:34.459Z"
   },
   {
    "duration": 37,
    "start_time": "2023-07-14T18:49:34.472Z"
   },
   {
    "duration": 10,
    "start_time": "2023-07-14T18:49:34.511Z"
   },
   {
    "duration": 23,
    "start_time": "2023-07-14T18:49:34.523Z"
   },
   {
    "duration": 54,
    "start_time": "2023-07-14T18:49:34.548Z"
   },
   {
    "duration": 6,
    "start_time": "2023-07-14T18:49:34.604Z"
   },
   {
    "duration": 77,
    "start_time": "2023-07-14T18:49:34.612Z"
   },
   {
    "duration": 31163,
    "start_time": "2023-07-14T18:49:34.691Z"
   },
   {
    "duration": 21,
    "start_time": "2023-07-14T18:50:05.856Z"
   },
   {
    "duration": 464949,
    "start_time": "2023-07-14T18:50:05.881Z"
   },
   {
    "duration": 0,
    "start_time": "2023-07-14T18:57:50.833Z"
   },
   {
    "duration": 0,
    "start_time": "2023-07-14T18:57:50.834Z"
   },
   {
    "duration": 0,
    "start_time": "2023-07-14T18:57:50.836Z"
   },
   {
    "duration": 0,
    "start_time": "2023-07-14T18:57:50.838Z"
   },
   {
    "duration": 0,
    "start_time": "2023-07-14T18:57:50.839Z"
   },
   {
    "duration": 0,
    "start_time": "2023-07-14T18:57:50.840Z"
   },
   {
    "duration": 0,
    "start_time": "2023-07-14T18:57:50.841Z"
   },
   {
    "duration": 0,
    "start_time": "2023-07-14T18:57:50.842Z"
   },
   {
    "duration": 0,
    "start_time": "2023-07-14T18:57:50.844Z"
   },
   {
    "duration": 0,
    "start_time": "2023-07-14T18:57:50.844Z"
   },
   {
    "duration": 0,
    "start_time": "2023-07-14T18:57:50.846Z"
   },
   {
    "duration": 1,
    "start_time": "2023-07-14T18:57:50.866Z"
   },
   {
    "duration": 0,
    "start_time": "2023-07-14T18:57:50.868Z"
   },
   {
    "duration": 0,
    "start_time": "2023-07-14T18:57:50.869Z"
   },
   {
    "duration": 0,
    "start_time": "2023-07-14T18:57:50.870Z"
   },
   {
    "duration": 0,
    "start_time": "2023-07-14T18:57:50.873Z"
   },
   {
    "duration": 0,
    "start_time": "2023-07-14T18:57:50.875Z"
   },
   {
    "duration": 0,
    "start_time": "2023-07-14T18:57:50.876Z"
   },
   {
    "duration": 0,
    "start_time": "2023-07-14T18:57:50.877Z"
   },
   {
    "duration": 0,
    "start_time": "2023-07-14T18:57:50.878Z"
   },
   {
    "duration": 0,
    "start_time": "2023-07-14T18:57:50.880Z"
   },
   {
    "duration": 0,
    "start_time": "2023-07-14T18:57:50.881Z"
   },
   {
    "duration": 0,
    "start_time": "2023-07-14T18:57:50.882Z"
   },
   {
    "duration": 203059,
    "start_time": "2023-07-14T18:58:13.459Z"
   },
   {
    "duration": 1301,
    "start_time": "2023-07-14T19:02:31.682Z"
   },
   {
    "duration": 46,
    "start_time": "2023-07-14T19:02:32.985Z"
   },
   {
    "duration": 48,
    "start_time": "2023-07-14T19:02:33.033Z"
   },
   {
    "duration": 50,
    "start_time": "2023-07-14T19:02:33.084Z"
   },
   {
    "duration": 54,
    "start_time": "2023-07-14T19:02:33.136Z"
   },
   {
    "duration": 36,
    "start_time": "2023-07-14T19:02:33.193Z"
   },
   {
    "duration": 76,
    "start_time": "2023-07-14T19:02:33.231Z"
   },
   {
    "duration": 66,
    "start_time": "2023-07-14T19:02:33.309Z"
   },
   {
    "duration": 1535,
    "start_time": "2023-07-14T19:02:33.377Z"
   },
   {
    "duration": 1214,
    "start_time": "2023-07-14T19:02:34.916Z"
   },
   {
    "duration": 6,
    "start_time": "2023-07-14T19:02:36.132Z"
   },
   {
    "duration": 46,
    "start_time": "2023-07-14T19:02:36.140Z"
   },
   {
    "duration": 50,
    "start_time": "2023-07-14T19:02:36.188Z"
   },
   {
    "duration": 34,
    "start_time": "2023-07-14T19:02:36.241Z"
   },
   {
    "duration": 58,
    "start_time": "2023-07-14T19:02:36.277Z"
   },
   {
    "duration": 39,
    "start_time": "2023-07-14T19:02:36.337Z"
   },
   {
    "duration": 26,
    "start_time": "2023-07-14T19:02:36.378Z"
   },
   {
    "duration": 20,
    "start_time": "2023-07-14T19:02:36.406Z"
   },
   {
    "duration": 52,
    "start_time": "2023-07-14T19:02:36.429Z"
   },
   {
    "duration": 24,
    "start_time": "2023-07-14T19:02:36.484Z"
   },
   {
    "duration": 55,
    "start_time": "2023-07-14T19:02:36.509Z"
   },
   {
    "duration": 7,
    "start_time": "2023-07-14T19:02:36.567Z"
   },
   {
    "duration": 91,
    "start_time": "2023-07-14T19:02:36.576Z"
   },
   {
    "duration": 4789,
    "start_time": "2023-07-14T19:02:36.671Z"
   },
   {
    "duration": 14,
    "start_time": "2023-07-14T19:02:41.469Z"
   },
   {
    "duration": 599043,
    "start_time": "2023-07-14T19:02:41.485Z"
   },
   {
    "duration": 58,
    "start_time": "2023-07-14T19:12:40.530Z"
   },
   {
    "duration": 79,
    "start_time": "2023-07-14T19:12:40.592Z"
   },
   {
    "duration": 4864,
    "start_time": "2023-07-14T19:12:40.672Z"
   },
   {
    "duration": 30,
    "start_time": "2023-07-14T19:12:45.539Z"
   },
   {
    "duration": 582728,
    "start_time": "2023-07-14T19:12:45.572Z"
   },
   {
    "duration": 50,
    "start_time": "2023-07-14T19:22:28.302Z"
   },
   {
    "duration": 15,
    "start_time": "2023-07-14T19:22:28.354Z"
   },
   {
    "duration": 21,
    "start_time": "2023-07-14T19:22:28.371Z"
   },
   {
    "duration": 7,
    "start_time": "2023-07-14T19:22:28.394Z"
   },
   {
    "duration": 165,
    "start_time": "2023-07-14T19:22:28.402Z"
   },
   {
    "duration": 6098,
    "start_time": "2023-07-14T19:22:28.570Z"
   },
   {
    "duration": 17,
    "start_time": "2023-07-14T19:22:34.670Z"
   },
   {
    "duration": 779891,
    "start_time": "2023-07-14T19:22:34.689Z"
   },
   {
    "duration": 56,
    "start_time": "2023-07-14T19:35:34.582Z"
   },
   {
    "duration": 5,
    "start_time": "2023-07-14T19:35:34.640Z"
   },
   {
    "duration": 31,
    "start_time": "2023-07-14T19:35:34.646Z"
   },
   {
    "duration": 8,
    "start_time": "2023-07-14T19:35:34.679Z"
   },
   {
    "duration": 92,
    "start_time": "2023-07-14T19:35:34.690Z"
   },
   {
    "duration": 2728,
    "start_time": "2023-07-14T19:35:34.868Z"
   },
   {
    "duration": 15,
    "start_time": "2023-07-14T19:35:37.597Z"
   },
   {
    "duration": 770732,
    "start_time": "2023-07-14T19:35:37.614Z"
   },
   {
    "duration": 63,
    "start_time": "2023-07-14T19:48:28.348Z"
   },
   {
    "duration": 10,
    "start_time": "2023-07-14T19:48:28.414Z"
   },
   {
    "duration": 181,
    "start_time": "2023-07-14T19:49:28.243Z"
   },
   {
    "duration": 151,
    "start_time": "2023-07-14T19:51:10.086Z"
   },
   {
    "duration": 190,
    "start_time": "2023-07-14T19:51:21.964Z"
   },
   {
    "duration": 12,
    "start_time": "2023-07-14T19:55:10.731Z"
   },
   {
    "duration": 10,
    "start_time": "2023-07-14T19:55:22.803Z"
   },
   {
    "duration": 6,
    "start_time": "2023-07-14T19:55:51.531Z"
   },
   {
    "duration": 17,
    "start_time": "2023-07-14T19:56:59.779Z"
   },
   {
    "duration": 6,
    "start_time": "2023-07-14T19:57:21.100Z"
   },
   {
    "duration": 15,
    "start_time": "2023-07-14T19:57:50.795Z"
   },
   {
    "duration": 137,
    "start_time": "2023-07-14T19:58:06.922Z"
   },
   {
    "duration": 7,
    "start_time": "2023-07-14T19:58:35.113Z"
   },
   {
    "duration": 143,
    "start_time": "2023-07-14T19:59:02.990Z"
   },
   {
    "duration": 272,
    "start_time": "2023-07-14T19:59:03.844Z"
   },
   {
    "duration": 157,
    "start_time": "2023-07-14T19:59:04.997Z"
   },
   {
    "duration": 9,
    "start_time": "2023-07-14T20:01:11.542Z"
   },
   {
    "duration": 8,
    "start_time": "2023-07-14T20:04:10.031Z"
   },
   {
    "duration": 15,
    "start_time": "2023-07-14T20:04:12.886Z"
   },
   {
    "duration": 7,
    "start_time": "2023-07-14T20:04:33.287Z"
   },
   {
    "duration": 19,
    "start_time": "2023-07-14T20:04:42.454Z"
   },
   {
    "duration": 20,
    "start_time": "2023-07-14T20:05:03.234Z"
   },
   {
    "duration": 9,
    "start_time": "2023-07-14T20:05:07.185Z"
   },
   {
    "duration": 8,
    "start_time": "2023-07-14T20:06:26.186Z"
   },
   {
    "duration": 148,
    "start_time": "2023-07-14T20:06:30.009Z"
   },
   {
    "duration": 135,
    "start_time": "2023-07-14T20:06:35.314Z"
   },
   {
    "duration": 16,
    "start_time": "2023-07-14T20:07:23.327Z"
   },
   {
    "duration": 152,
    "start_time": "2023-07-14T20:07:28.543Z"
   },
   {
    "duration": 155,
    "start_time": "2023-07-14T20:07:32.881Z"
   },
   {
    "duration": 93,
    "start_time": "2023-07-14T20:09:43.861Z"
   },
   {
    "duration": 239,
    "start_time": "2023-07-14T20:10:30.421Z"
   },
   {
    "duration": 296,
    "start_time": "2023-07-14T20:11:13.905Z"
   },
   {
    "duration": 4,
    "start_time": "2023-07-14T20:11:50.144Z"
   },
   {
    "duration": 235,
    "start_time": "2023-07-14T20:12:10.587Z"
   },
   {
    "duration": 238,
    "start_time": "2023-07-14T20:12:15.905Z"
   },
   {
    "duration": 383,
    "start_time": "2023-07-14T20:13:20.918Z"
   },
   {
    "duration": 240,
    "start_time": "2023-07-14T20:13:29.077Z"
   },
   {
    "duration": 282,
    "start_time": "2023-07-14T20:14:57.891Z"
   },
   {
    "duration": 263,
    "start_time": "2023-07-14T20:15:11.034Z"
   },
   {
    "duration": 650,
    "start_time": "2023-07-14T20:15:47.424Z"
   },
   {
    "duration": 286,
    "start_time": "2023-07-14T20:15:55.926Z"
   },
   {
    "duration": 208,
    "start_time": "2023-07-14T20:26:39.826Z"
   },
   {
    "duration": 220,
    "start_time": "2023-07-14T20:27:07.366Z"
   },
   {
    "duration": 13,
    "start_time": "2023-07-14T20:45:43.201Z"
   },
   {
    "duration": 549,
    "start_time": "2023-07-14T20:45:50.531Z"
   },
   {
    "duration": 632,
    "start_time": "2023-07-14T20:46:07.099Z"
   },
   {
    "duration": 669,
    "start_time": "2023-07-14T20:46:15.716Z"
   },
   {
    "duration": 6,
    "start_time": "2023-07-14T20:48:27.421Z"
   },
   {
    "duration": 139,
    "start_time": "2023-07-14T20:48:51.710Z"
   },
   {
    "duration": 1612,
    "start_time": "2023-07-14T21:07:12.252Z"
   },
   {
    "duration": 64,
    "start_time": "2023-07-14T21:07:13.866Z"
   },
   {
    "duration": 24,
    "start_time": "2023-07-14T21:07:13.932Z"
   },
   {
    "duration": 29,
    "start_time": "2023-07-14T21:07:13.959Z"
   },
   {
    "duration": 18,
    "start_time": "2023-07-14T21:07:13.991Z"
   },
   {
    "duration": 14,
    "start_time": "2023-07-14T21:07:14.011Z"
   },
   {
    "duration": 5,
    "start_time": "2023-07-14T21:07:14.027Z"
   },
   {
    "duration": 68,
    "start_time": "2023-07-14T21:07:14.034Z"
   },
   {
    "duration": 1120,
    "start_time": "2023-07-14T21:07:14.104Z"
   },
   {
    "duration": 1189,
    "start_time": "2023-07-14T21:07:15.226Z"
   },
   {
    "duration": 6,
    "start_time": "2023-07-14T21:07:16.417Z"
   },
   {
    "duration": 53,
    "start_time": "2023-07-14T21:07:16.425Z"
   },
   {
    "duration": 13,
    "start_time": "2023-07-14T21:07:16.483Z"
   },
   {
    "duration": 7,
    "start_time": "2023-07-14T21:07:16.498Z"
   },
   {
    "duration": 17,
    "start_time": "2023-07-14T21:07:16.506Z"
   },
   {
    "duration": 5,
    "start_time": "2023-07-14T21:07:16.525Z"
   },
   {
    "duration": 13,
    "start_time": "2023-07-14T21:07:16.532Z"
   },
   {
    "duration": 11,
    "start_time": "2023-07-14T21:07:16.547Z"
   },
   {
    "duration": 6,
    "start_time": "2023-07-14T21:07:16.559Z"
   },
   {
    "duration": 16,
    "start_time": "2023-07-14T21:07:16.566Z"
   },
   {
    "duration": 28,
    "start_time": "2023-07-14T21:07:16.584Z"
   },
   {
    "duration": 5,
    "start_time": "2023-07-14T21:07:16.613Z"
   },
   {
    "duration": 65,
    "start_time": "2023-07-14T21:07:16.620Z"
   },
   {
    "duration": 4687,
    "start_time": "2023-07-14T21:07:16.688Z"
   },
   {
    "duration": 19,
    "start_time": "2023-07-14T21:07:21.377Z"
   },
   {
    "duration": 575404,
    "start_time": "2023-07-14T21:07:21.398Z"
   },
   {
    "duration": 44,
    "start_time": "2023-07-14T21:16:56.804Z"
   },
   {
    "duration": 118,
    "start_time": "2023-07-14T21:16:56.852Z"
   },
   {
    "duration": 4931,
    "start_time": "2023-07-14T21:16:56.972Z"
   },
   {
    "duration": 14,
    "start_time": "2023-07-14T21:17:01.905Z"
   },
   {
    "duration": 585600,
    "start_time": "2023-07-14T21:17:01.921Z"
   },
   {
    "duration": 61,
    "start_time": "2023-07-14T21:26:47.523Z"
   },
   {
    "duration": 6,
    "start_time": "2023-07-14T21:26:47.585Z"
   },
   {
    "duration": 16,
    "start_time": "2023-07-14T21:26:47.593Z"
   },
   {
    "duration": 6,
    "start_time": "2023-07-14T21:26:47.612Z"
   },
   {
    "duration": 154,
    "start_time": "2023-07-14T21:26:47.620Z"
   },
   {
    "duration": 6104,
    "start_time": "2023-07-14T21:26:47.787Z"
   },
   {
    "duration": 16,
    "start_time": "2023-07-14T21:26:53.893Z"
   },
   {
    "duration": 762483,
    "start_time": "2023-07-14T21:26:53.911Z"
   },
   {
    "duration": 56,
    "start_time": "2023-07-14T21:39:36.396Z"
   },
   {
    "duration": 24,
    "start_time": "2023-07-14T21:39:36.454Z"
   },
   {
    "duration": 16,
    "start_time": "2023-07-14T21:39:36.484Z"
   },
   {
    "duration": 6,
    "start_time": "2023-07-14T21:39:36.503Z"
   },
   {
    "duration": 68,
    "start_time": "2023-07-14T21:39:36.512Z"
   },
   {
    "duration": 2927,
    "start_time": "2023-07-14T21:39:36.587Z"
   },
   {
    "duration": 13,
    "start_time": "2023-07-14T21:39:39.516Z"
   },
   {
    "duration": 763600,
    "start_time": "2023-07-14T21:39:39.531Z"
   },
   {
    "duration": 74,
    "start_time": "2023-07-14T21:52:23.133Z"
   },
   {
    "duration": 9,
    "start_time": "2023-07-14T21:52:23.209Z"
   },
   {
    "duration": 239,
    "start_time": "2023-07-14T21:52:23.220Z"
   },
   {
    "duration": 684,
    "start_time": "2023-07-14T21:52:23.467Z"
   },
   {
    "duration": 142,
    "start_time": "2023-07-14T21:52:24.152Z"
   },
   {
    "duration": 1617,
    "start_time": "2023-07-15T20:30:19.368Z"
   },
   {
    "duration": 351,
    "start_time": "2023-07-15T20:30:20.987Z"
   },
   {
    "duration": 19,
    "start_time": "2023-07-15T20:30:21.340Z"
   },
   {
    "duration": 16,
    "start_time": "2023-07-15T20:30:21.361Z"
   },
   {
    "duration": 12,
    "start_time": "2023-07-15T20:30:21.379Z"
   },
   {
    "duration": 22,
    "start_time": "2023-07-15T20:30:21.392Z"
   },
   {
    "duration": 4,
    "start_time": "2023-07-15T20:30:21.416Z"
   },
   {
    "duration": 116,
    "start_time": "2023-07-15T20:30:21.422Z"
   },
   {
    "duration": 0,
    "start_time": "2023-07-15T20:30:21.540Z"
   },
   {
    "duration": 0,
    "start_time": "2023-07-15T20:30:21.542Z"
   },
   {
    "duration": 0,
    "start_time": "2023-07-15T20:30:21.543Z"
   },
   {
    "duration": 0,
    "start_time": "2023-07-15T20:30:21.544Z"
   },
   {
    "duration": 0,
    "start_time": "2023-07-15T20:30:21.545Z"
   },
   {
    "duration": 0,
    "start_time": "2023-07-15T20:30:21.546Z"
   },
   {
    "duration": 0,
    "start_time": "2023-07-15T20:30:21.547Z"
   },
   {
    "duration": 0,
    "start_time": "2023-07-15T20:30:21.548Z"
   },
   {
    "duration": 0,
    "start_time": "2023-07-15T20:30:21.549Z"
   },
   {
    "duration": 0,
    "start_time": "2023-07-15T20:30:21.550Z"
   },
   {
    "duration": 0,
    "start_time": "2023-07-15T20:30:21.551Z"
   },
   {
    "duration": 0,
    "start_time": "2023-07-15T20:30:21.553Z"
   },
   {
    "duration": 0,
    "start_time": "2023-07-15T20:30:21.553Z"
   },
   {
    "duration": 0,
    "start_time": "2023-07-15T20:30:21.555Z"
   },
   {
    "duration": 0,
    "start_time": "2023-07-15T20:30:21.556Z"
   },
   {
    "duration": 0,
    "start_time": "2023-07-15T20:30:21.557Z"
   },
   {
    "duration": 0,
    "start_time": "2023-07-15T20:30:21.558Z"
   },
   {
    "duration": 0,
    "start_time": "2023-07-15T20:30:21.558Z"
   },
   {
    "duration": 0,
    "start_time": "2023-07-15T20:30:21.559Z"
   },
   {
    "duration": 0,
    "start_time": "2023-07-15T20:30:21.560Z"
   },
   {
    "duration": 0,
    "start_time": "2023-07-15T20:30:21.561Z"
   },
   {
    "duration": 0,
    "start_time": "2023-07-15T20:30:21.562Z"
   },
   {
    "duration": 0,
    "start_time": "2023-07-15T20:30:21.563Z"
   },
   {
    "duration": 0,
    "start_time": "2023-07-15T20:30:21.564Z"
   },
   {
    "duration": 0,
    "start_time": "2023-07-15T20:30:21.565Z"
   },
   {
    "duration": 0,
    "start_time": "2023-07-15T20:30:21.566Z"
   },
   {
    "duration": 0,
    "start_time": "2023-07-15T20:30:21.567Z"
   },
   {
    "duration": 0,
    "start_time": "2023-07-15T20:30:21.568Z"
   },
   {
    "duration": 0,
    "start_time": "2023-07-15T20:30:21.569Z"
   },
   {
    "duration": 0,
    "start_time": "2023-07-15T20:30:21.614Z"
   },
   {
    "duration": 0,
    "start_time": "2023-07-15T20:30:21.615Z"
   },
   {
    "duration": 0,
    "start_time": "2023-07-15T20:30:21.616Z"
   },
   {
    "duration": 0,
    "start_time": "2023-07-15T20:30:21.617Z"
   },
   {
    "duration": 0,
    "start_time": "2023-07-15T20:30:21.619Z"
   },
   {
    "duration": 0,
    "start_time": "2023-07-15T20:30:21.619Z"
   },
   {
    "duration": 0,
    "start_time": "2023-07-15T20:30:21.621Z"
   },
   {
    "duration": 0,
    "start_time": "2023-07-15T20:30:21.622Z"
   },
   {
    "duration": 0,
    "start_time": "2023-07-15T20:30:21.623Z"
   },
   {
    "duration": 0,
    "start_time": "2023-07-15T20:30:21.624Z"
   },
   {
    "duration": 0,
    "start_time": "2023-07-15T20:30:21.625Z"
   },
   {
    "duration": 0,
    "start_time": "2023-07-15T20:30:21.626Z"
   },
   {
    "duration": 0,
    "start_time": "2023-07-15T20:30:21.627Z"
   },
   {
    "duration": 0,
    "start_time": "2023-07-15T20:30:21.628Z"
   },
   {
    "duration": 0,
    "start_time": "2023-07-15T20:30:21.629Z"
   },
   {
    "duration": 47,
    "start_time": "2023-07-15T20:30:39.767Z"
   },
   {
    "duration": 96,
    "start_time": "2023-07-15T20:31:38.351Z"
   },
   {
    "duration": 1104,
    "start_time": "2023-07-15T20:31:49.615Z"
   },
   {
    "duration": 952,
    "start_time": "2023-07-15T20:31:54.481Z"
   },
   {
    "duration": 5,
    "start_time": "2023-07-15T20:31:58.302Z"
   },
   {
    "duration": 3,
    "start_time": "2023-07-15T20:35:10.672Z"
   },
   {
    "duration": 9,
    "start_time": "2023-07-15T20:36:01.148Z"
   },
   {
    "duration": 12,
    "start_time": "2023-07-15T20:36:04.815Z"
   },
   {
    "duration": 6,
    "start_time": "2023-07-15T20:36:19.434Z"
   },
   {
    "duration": 5,
    "start_time": "2023-07-15T20:36:21.246Z"
   },
   {
    "duration": 6,
    "start_time": "2023-07-15T20:36:23.509Z"
   },
   {
    "duration": 4,
    "start_time": "2023-07-15T20:36:25.500Z"
   },
   {
    "duration": 5,
    "start_time": "2023-07-15T20:36:27.563Z"
   },
   {
    "duration": 4,
    "start_time": "2023-07-15T20:36:31.846Z"
   },
   {
    "duration": 2,
    "start_time": "2023-07-15T20:36:37.035Z"
   },
   {
    "duration": 26,
    "start_time": "2023-07-15T20:36:39.534Z"
   },
   {
    "duration": 4,
    "start_time": "2023-07-15T20:36:42.719Z"
   },
   {
    "duration": 5,
    "start_time": "2023-07-15T20:37:03.462Z"
   },
   {
    "duration": 93,
    "start_time": "2023-07-15T20:37:36.321Z"
   },
   {
    "duration": 7,
    "start_time": "2023-07-15T20:39:24.735Z"
   },
   {
    "duration": 20,
    "start_time": "2023-07-15T20:48:31.464Z"
   },
   {
    "duration": 6908,
    "start_time": "2023-07-15T20:48:49.149Z"
   },
   {
    "duration": 6822,
    "start_time": "2023-07-15T20:49:53.284Z"
   },
   {
    "duration": 17,
    "start_time": "2023-07-15T20:50:31.119Z"
   },
   {
    "duration": 14458,
    "start_time": "2023-07-15T20:50:43.398Z"
   },
   {
    "duration": 11,
    "start_time": "2023-07-15T20:54:35.702Z"
   },
   {
    "duration": 14889,
    "start_time": "2023-07-15T20:54:41.434Z"
   },
   {
    "duration": 14832,
    "start_time": "2023-07-15T20:57:31.186Z"
   },
   {
    "duration": 8,
    "start_time": "2023-07-15T20:57:53.043Z"
   },
   {
    "duration": 241134,
    "start_time": "2023-07-15T21:05:19.780Z"
   },
   {
    "duration": 81,
    "start_time": "2023-07-15T21:12:58.838Z"
   },
   {
    "duration": 59,
    "start_time": "2023-07-15T21:14:09.357Z"
   },
   {
    "duration": 16573,
    "start_time": "2023-07-15T21:15:26.710Z"
   },
   {
    "duration": 246030,
    "start_time": "2023-07-15T21:17:02.123Z"
   },
   {
    "duration": 15,
    "start_time": "2023-07-15T21:23:11.205Z"
   },
   {
    "duration": 6673,
    "start_time": "2023-07-15T21:23:38.127Z"
   },
   {
    "duration": 22,
    "start_time": "2023-07-15T21:23:50.347Z"
   },
   {
    "duration": 2078,
    "start_time": "2023-07-15T21:24:27.401Z"
   },
   {
    "duration": 1322,
    "start_time": "2023-07-15T21:24:31.230Z"
   },
   {
    "duration": 3,
    "start_time": "2023-07-15T21:24:37.424Z"
   },
   {
    "duration": 42,
    "start_time": "2023-07-15T21:24:39.684Z"
   },
   {
    "duration": 18,
    "start_time": "2023-07-15T21:24:41.815Z"
   },
   {
    "duration": 15,
    "start_time": "2023-07-15T21:24:52.899Z"
   },
   {
    "duration": 24,
    "start_time": "2023-07-15T21:24:52.916Z"
   },
   {
    "duration": 14,
    "start_time": "2023-07-15T21:24:52.942Z"
   },
   {
    "duration": 18,
    "start_time": "2023-07-15T21:24:52.958Z"
   },
   {
    "duration": 60,
    "start_time": "2023-07-15T21:24:52.979Z"
   },
   {
    "duration": 1117,
    "start_time": "2023-07-15T21:24:53.041Z"
   },
   {
    "duration": 984,
    "start_time": "2023-07-15T21:24:54.160Z"
   },
   {
    "duration": 5,
    "start_time": "2023-07-15T21:24:55.145Z"
   },
   {
    "duration": 26,
    "start_time": "2023-07-15T21:24:55.151Z"
   },
   {
    "duration": 34,
    "start_time": "2023-07-15T21:24:55.178Z"
   },
   {
    "duration": 33,
    "start_time": "2023-07-15T21:24:55.213Z"
   },
   {
    "duration": 41,
    "start_time": "2023-07-15T21:24:55.247Z"
   },
   {
    "duration": 46,
    "start_time": "2023-07-15T21:24:55.290Z"
   },
   {
    "duration": 17,
    "start_time": "2023-07-15T21:24:55.339Z"
   },
   {
    "duration": 14,
    "start_time": "2023-07-15T21:24:55.357Z"
   },
   {
    "duration": 33,
    "start_time": "2023-07-15T21:24:55.373Z"
   },
   {
    "duration": 15,
    "start_time": "2023-07-15T21:24:55.408Z"
   },
   {
    "duration": 29,
    "start_time": "2023-07-15T21:24:55.425Z"
   },
   {
    "duration": 5,
    "start_time": "2023-07-15T21:24:55.456Z"
   },
   {
    "duration": 58,
    "start_time": "2023-07-15T21:24:55.462Z"
   },
   {
    "duration": 231,
    "start_time": "2023-07-15T21:24:55.521Z"
   },
   {
    "duration": 0,
    "start_time": "2023-07-15T21:24:55.753Z"
   },
   {
    "duration": 0,
    "start_time": "2023-07-15T21:24:55.754Z"
   },
   {
    "duration": 0,
    "start_time": "2023-07-15T21:24:55.756Z"
   },
   {
    "duration": 0,
    "start_time": "2023-07-15T21:24:55.757Z"
   },
   {
    "duration": 0,
    "start_time": "2023-07-15T21:24:55.758Z"
   },
   {
    "duration": 0,
    "start_time": "2023-07-15T21:24:55.759Z"
   },
   {
    "duration": 0,
    "start_time": "2023-07-15T21:24:55.760Z"
   },
   {
    "duration": 0,
    "start_time": "2023-07-15T21:24:55.761Z"
   },
   {
    "duration": 0,
    "start_time": "2023-07-15T21:24:55.762Z"
   },
   {
    "duration": 0,
    "start_time": "2023-07-15T21:24:55.763Z"
   },
   {
    "duration": 0,
    "start_time": "2023-07-15T21:24:55.764Z"
   },
   {
    "duration": 0,
    "start_time": "2023-07-15T21:24:55.765Z"
   },
   {
    "duration": 0,
    "start_time": "2023-07-15T21:24:55.766Z"
   },
   {
    "duration": 0,
    "start_time": "2023-07-15T21:24:55.767Z"
   },
   {
    "duration": 0,
    "start_time": "2023-07-15T21:24:55.768Z"
   },
   {
    "duration": 0,
    "start_time": "2023-07-15T21:24:55.770Z"
   },
   {
    "duration": 0,
    "start_time": "2023-07-15T21:24:55.770Z"
   },
   {
    "duration": 0,
    "start_time": "2023-07-15T21:24:55.772Z"
   },
   {
    "duration": 0,
    "start_time": "2023-07-15T21:24:55.773Z"
   },
   {
    "duration": 0,
    "start_time": "2023-07-15T21:24:55.774Z"
   },
   {
    "duration": 0,
    "start_time": "2023-07-15T21:24:55.775Z"
   },
   {
    "duration": 0,
    "start_time": "2023-07-15T21:24:55.814Z"
   },
   {
    "duration": 0,
    "start_time": "2023-07-15T21:24:55.815Z"
   },
   {
    "duration": 0,
    "start_time": "2023-07-15T21:24:55.816Z"
   },
   {
    "duration": 18507,
    "start_time": "2023-07-15T21:25:23.637Z"
   },
   {
    "duration": 18653,
    "start_time": "2023-07-15T21:28:09.519Z"
   },
   {
    "duration": 277091,
    "start_time": "2023-07-15T21:28:45.712Z"
   },
   {
    "duration": 75,
    "start_time": "2023-07-15T21:34:24.742Z"
   },
   {
    "duration": 19266,
    "start_time": "2023-07-15T21:34:27.598Z"
   },
   {
    "duration": 274057,
    "start_time": "2023-07-15T21:35:46.438Z"
   },
   {
    "duration": 4,
    "start_time": "2023-07-15T21:40:55.159Z"
   },
   {
    "duration": 11,
    "start_time": "2023-07-15T21:41:00.437Z"
   },
   {
    "duration": 6,
    "start_time": "2023-07-15T21:41:02.377Z"
   },
   {
    "duration": 77,
    "start_time": "2023-07-15T21:41:14.438Z"
   },
   {
    "duration": 31,
    "start_time": "2023-07-15T21:46:41.023Z"
   },
   {
    "duration": 18924,
    "start_time": "2023-07-15T21:47:55.934Z"
   },
   {
    "duration": 62364,
    "start_time": "2023-07-15T21:48:39.400Z"
   },
   {
    "duration": 21943,
    "start_time": "2023-07-15T21:49:44.094Z"
   },
   {
    "duration": 357146,
    "start_time": "2023-07-15T21:50:11.703Z"
   },
   {
    "duration": 33,
    "start_time": "2023-07-15T21:56:33.936Z"
   },
   {
    "duration": 31592,
    "start_time": "2023-07-15T21:56:43.048Z"
   },
   {
    "duration": 457718,
    "start_time": "2023-07-15T21:57:46.837Z"
   },
   {
    "duration": 33258,
    "start_time": "2023-07-15T22:08:36.848Z"
   },
   {
    "duration": 112,
    "start_time": "2023-07-15T22:09:19.801Z"
   },
   {
    "duration": 28,
    "start_time": "2023-07-15T22:09:24.288Z"
   },
   {
    "duration": 116,
    "start_time": "2023-07-15T22:09:26.698Z"
   },
   {
    "duration": 31900,
    "start_time": "2023-07-15T22:09:30.147Z"
   },
   {
    "duration": 464504,
    "start_time": "2023-07-15T22:11:00.673Z"
   },
   {
    "duration": 32,
    "start_time": "2023-07-15T22:21:08.221Z"
   },
   {
    "duration": 106,
    "start_time": "2023-07-15T22:21:10.408Z"
   },
   {
    "duration": 10,
    "start_time": "2023-07-15T22:21:22.174Z"
   },
   {
    "duration": 29,
    "start_time": "2023-07-15T22:21:35.693Z"
   },
   {
    "duration": 102,
    "start_time": "2023-07-15T22:21:37.816Z"
   },
   {
    "duration": 102,
    "start_time": "2023-07-15T22:21:42.212Z"
   },
   {
    "duration": 31,
    "start_time": "2023-07-15T22:21:45.851Z"
   },
   {
    "duration": 84,
    "start_time": "2023-07-15T22:21:47.335Z"
   },
   {
    "duration": 28,
    "start_time": "2023-07-15T22:21:50.096Z"
   },
   {
    "duration": 32,
    "start_time": "2023-07-15T22:21:51.591Z"
   },
   {
    "duration": 31314,
    "start_time": "2023-07-15T22:21:56.619Z"
   },
   {
    "duration": 67,
    "start_time": "2023-07-15T22:22:41.947Z"
   },
   {
    "duration": 33,
    "start_time": "2023-07-15T22:22:46.067Z"
   },
   {
    "duration": 92,
    "start_time": "2023-07-15T22:22:47.526Z"
   },
   {
    "duration": 1937,
    "start_time": "2023-07-15T22:22:57.150Z"
   },
   {
    "duration": 1331,
    "start_time": "2023-07-15T22:22:59.089Z"
   },
   {
    "duration": 3,
    "start_time": "2023-07-15T22:23:00.422Z"
   },
   {
    "duration": 79,
    "start_time": "2023-07-15T22:23:00.427Z"
   },
   {
    "duration": 18,
    "start_time": "2023-07-15T22:23:00.507Z"
   },
   {
    "duration": 50,
    "start_time": "2023-07-15T22:23:00.527Z"
   },
   {
    "duration": 31,
    "start_time": "2023-07-15T22:23:00.579Z"
   },
   {
    "duration": 41,
    "start_time": "2023-07-15T22:23:00.611Z"
   },
   {
    "duration": 19,
    "start_time": "2023-07-15T22:23:00.655Z"
   },
   {
    "duration": 66,
    "start_time": "2023-07-15T22:23:00.676Z"
   },
   {
    "duration": 1079,
    "start_time": "2023-07-15T22:23:00.744Z"
   },
   {
    "duration": 980,
    "start_time": "2023-07-15T22:23:01.824Z"
   },
   {
    "duration": 9,
    "start_time": "2023-07-15T22:23:02.806Z"
   },
   {
    "duration": 55,
    "start_time": "2023-07-15T22:23:02.817Z"
   },
   {
    "duration": 31,
    "start_time": "2023-07-15T22:23:02.874Z"
   },
   {
    "duration": 21,
    "start_time": "2023-07-15T22:23:02.907Z"
   },
   {
    "duration": 19,
    "start_time": "2023-07-15T22:23:02.930Z"
   },
   {
    "duration": 22,
    "start_time": "2023-07-15T22:23:02.950Z"
   },
   {
    "duration": 24,
    "start_time": "2023-07-15T22:23:02.974Z"
   },
   {
    "duration": 22,
    "start_time": "2023-07-15T22:23:03.000Z"
   },
   {
    "duration": 26,
    "start_time": "2023-07-15T22:23:03.024Z"
   },
   {
    "duration": 41,
    "start_time": "2023-07-15T22:23:03.052Z"
   },
   {
    "duration": 45,
    "start_time": "2023-07-15T22:23:03.094Z"
   },
   {
    "duration": 34,
    "start_time": "2023-07-15T22:23:03.141Z"
   },
   {
    "duration": 48,
    "start_time": "2023-07-15T22:23:03.177Z"
   },
   {
    "duration": 17844,
    "start_time": "2023-07-15T22:23:03.315Z"
   },
   {
    "duration": 271652,
    "start_time": "2023-07-15T22:23:21.161Z"
   },
   {
    "duration": 99,
    "start_time": "2023-07-15T22:27:52.817Z"
   },
   {
    "duration": 19672,
    "start_time": "2023-07-15T22:27:52.917Z"
   },
   {
    "duration": 273180,
    "start_time": "2023-07-15T22:28:12.591Z"
   },
   {
    "duration": 4,
    "start_time": "2023-07-15T22:32:45.773Z"
   },
   {
    "duration": 19,
    "start_time": "2023-07-15T22:32:45.778Z"
   },
   {
    "duration": 28,
    "start_time": "2023-07-15T22:32:45.798Z"
   },
   {
    "duration": 89,
    "start_time": "2023-07-15T22:32:45.828Z"
   },
   {
    "duration": 21920,
    "start_time": "2023-07-15T22:32:45.918Z"
   },
   {
    "duration": 361474,
    "start_time": "2023-07-15T22:33:07.840Z"
   },
   {
    "duration": 31,
    "start_time": "2023-07-15T22:39:09.315Z"
   },
   {
    "duration": 168,
    "start_time": "2023-07-15T22:39:09.347Z"
   },
   {
    "duration": 32125,
    "start_time": "2023-07-15T22:39:09.516Z"
   },
   {
    "duration": 470108,
    "start_time": "2023-07-15T22:39:41.643Z"
   },
   {
    "duration": 5,
    "start_time": "2023-07-15T22:47:31.753Z"
   },
   {
    "duration": 15,
    "start_time": "2023-07-15T22:47:31.760Z"
   },
   {
    "duration": 6,
    "start_time": "2023-07-15T22:47:31.777Z"
   },
   {
    "duration": 133,
    "start_time": "2023-07-15T22:47:31.785Z"
   },
   {
    "duration": 215,
    "start_time": "2023-07-15T22:47:31.920Z"
   },
   {
    "duration": 0,
    "start_time": "2023-07-15T22:47:32.138Z"
   },
   {
    "duration": 0,
    "start_time": "2023-07-15T22:47:32.139Z"
   },
   {
    "duration": 0,
    "start_time": "2023-07-15T22:47:32.140Z"
   },
   {
    "duration": 0,
    "start_time": "2023-07-15T22:47:32.142Z"
   },
   {
    "duration": 0,
    "start_time": "2023-07-15T22:47:32.143Z"
   },
   {
    "duration": 0,
    "start_time": "2023-07-15T22:47:32.145Z"
   },
   {
    "duration": 0,
    "start_time": "2023-07-15T22:47:32.147Z"
   },
   {
    "duration": 10402,
    "start_time": "2023-07-15T23:04:02.462Z"
   },
   {
    "duration": 159672,
    "start_time": "2023-07-15T23:04:12.866Z"
   },
   {
    "duration": 9,
    "start_time": "2023-07-15T23:06:52.540Z"
   },
   {
    "duration": 234,
    "start_time": "2023-07-15T23:06:52.551Z"
   },
   {
    "duration": 687,
    "start_time": "2023-07-15T23:06:52.788Z"
   },
   {
    "duration": 129,
    "start_time": "2023-07-15T23:06:53.477Z"
   },
   {
    "duration": 443,
    "start_time": "2023-07-15T23:14:37.597Z"
   },
   {
    "duration": 122,
    "start_time": "2023-07-15T23:14:52.691Z"
   },
   {
    "duration": 4,
    "start_time": "2023-07-15T23:15:19.648Z"
   },
   {
    "duration": 429,
    "start_time": "2023-07-15T23:15:51.897Z"
   },
   {
    "duration": 4,
    "start_time": "2023-07-15T23:16:35.100Z"
   },
   {
    "duration": 10,
    "start_time": "2023-07-15T23:18:12.618Z"
   },
   {
    "duration": 94,
    "start_time": "2023-07-15T23:24:35.805Z"
   },
   {
    "duration": 157,
    "start_time": "2023-07-15T23:25:02.087Z"
   },
   {
    "duration": 86,
    "start_time": "2023-07-15T23:25:22.322Z"
   },
   {
    "duration": 105,
    "start_time": "2023-07-15T23:26:47.411Z"
   },
   {
    "duration": 89,
    "start_time": "2023-07-15T23:27:29.408Z"
   },
   {
    "duration": 66,
    "start_time": "2023-07-16T12:33:14.405Z"
   }
  ],
  "kernelspec": {
   "display_name": "Python 3 (ipykernel)",
   "language": "python",
   "name": "python3"
  },
  "language_info": {
   "codemirror_mode": {
    "name": "ipython",
    "version": 3
   },
   "file_extension": ".py",
   "mimetype": "text/x-python",
   "name": "python",
   "nbconvert_exporter": "python",
   "pygments_lexer": "ipython3",
   "version": "3.9.5"
  },
  "toc": {
   "base_numbering": 1,
   "nav_menu": {},
   "number_sections": true,
   "sideBar": true,
   "skip_h1_title": true,
   "title_cell": "Содержание",
   "title_sidebar": "Contents",
   "toc_cell": true,
   "toc_position": {},
   "toc_section_display": true,
   "toc_window_display": false
  }
 },
 "nbformat": 4,
 "nbformat_minor": 2
}
