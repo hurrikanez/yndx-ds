{
 "cells": [
  {
   "cell_type": "markdown",
   "id": "e9501f73",
   "metadata": {
    "deletable": false,
    "editable": false,
    "id": "c81daeeb"
   },
   "source": [
    "# Исследование надежности заемщиков\n"
   ]
  },
  {
   "cell_type": "markdown",
   "id": "ef9f696d",
   "metadata": {},
   "source": [
    "**Описание проекта**\n",
    "\n",
    "Заказчик данного исследования - кредитный отдел банка, и цель его - определить, как влияет семейное положение и количество детей у клиента на вероятность своевременного погашения кредита. Банк предоставляет статистику по платежеспособности клиентов, и на основе этих данных будет проведено исследование.\n",
    "\n",
    "Результаты будут использованы при создании модели кредитного скоринга - это система, предназначенная для оценки вероятности успешного возврата кредита заемщиком."
   ]
  },
  {
   "cell_type": "markdown",
   "id": "5bbc83a5",
   "metadata": {},
   "source": [
    "**Цель проекта**\n",
    "\n",
    "Выявить, есть ли зависимость между семейным положением и количеством детей клиента и фактом погашения кредита в срок."
   ]
  },
  {
   "cell_type": "markdown",
   "id": "33150f96",
   "metadata": {},
   "source": [
    "**Описание данных**\n",
    "\n",
    "* *children* — количество детей в семье\n",
    "* *days_employed* — общий трудовой стаж в днях\n",
    "* *dob_years* — возраст клиента в годах\n",
    "* *education* — уровень образования клиента\n",
    "* *education_id* — идентификатор уровня образования\n",
    "* *family_status* — семейное положение\n",
    "* *family_status_id* — идентификатор семейного положения\n",
    "* *gender* — пол клиента\n",
    "* *income_type* — тип занятости\n",
    "* *debt* — имел ли задолженность по возврату кредитов\n",
    "* *total_income* — ежемесячный доход\n",
    "* *purpose* — цель получения кредита"
   ]
  },
  {
   "cell_type": "markdown",
   "id": "cf224611",
   "metadata": {},
   "source": [
    "**План работы**\n",
    "1. Провести первичный анализ данных\n",
    "2. Заполнить пропущенные значения\n",
    "3. Привести данные к типам, пригодным для дальнейшего анализа\n",
    "4. Очистить данные от аномальных значений и дубликатов\n",
    "5. Провести категоризацию данных для удобства дальнейшего анализа\n",
    "6. Изучить зависимости между различными параметрами и фактом возврата кредита в срок\n",
    "7. Интепретировать полученные результаты и сделать выводы"
   ]
  },
  {
   "cell_type": "markdown",
   "id": "f56081c3",
   "metadata": {
    "deletable": false,
    "editable": false,
    "id": "744d7639"
   },
   "source": [
    "## Откройте таблицу и изучите общую информацию о данных"
   ]
  },
  {
   "cell_type": "markdown",
   "id": "01c8783d",
   "metadata": {
    "deletable": false,
    "editable": false,
    "id": "e7a14c31"
   },
   "source": [
    "**Задание 1. Импортируйте библиотеку pandas. Считайте данные из csv-файла в датафрейм и сохраните в переменную `data`. Путь к файлу:**\n",
    "\n",
    "`/datasets/data.csv`"
   ]
  },
  {
   "cell_type": "code",
   "execution_count": 1,
   "id": "5195d0ec",
   "metadata": {
    "deletable": false,
    "id": "7bcf75c9"
   },
   "outputs": [],
   "source": [
    "import pandas as pd\n",
    "\n",
    "try:\n",
    "    data = pd.read_csv('/datasets/data.csv')\n",
    "except:\n",
    "    data = pd.read_csv('https://code.s3.yandex.net/datasets/data.csv')"
   ]
  },
  {
   "cell_type": "markdown",
   "id": "5de7d16e",
   "metadata": {
    "deletable": false,
    "editable": false,
    "id": "b8038fe3"
   },
   "source": [
    "**Задание 2. Выведите первые 20 строчек датафрейма `data` на экран.**"
   ]
  },
  {
   "cell_type": "code",
   "execution_count": 2,
   "id": "84901c2d",
   "metadata": {
    "deletable": false,
    "id": "2a7cab99",
    "outputId": "1a8f3ef2-d323-4ec2-ddf7-89670b5944c4"
   },
   "outputs": [
    {
     "data": {
      "text/html": [
       "<div>\n",
       "<style scoped>\n",
       "    .dataframe tbody tr th:only-of-type {\n",
       "        vertical-align: middle;\n",
       "    }\n",
       "\n",
       "    .dataframe tbody tr th {\n",
       "        vertical-align: top;\n",
       "    }\n",
       "\n",
       "    .dataframe thead th {\n",
       "        text-align: right;\n",
       "    }\n",
       "</style>\n",
       "<table border=\"1\" class=\"dataframe\">\n",
       "  <thead>\n",
       "    <tr style=\"text-align: right;\">\n",
       "      <th></th>\n",
       "      <th>children</th>\n",
       "      <th>days_employed</th>\n",
       "      <th>dob_years</th>\n",
       "      <th>education</th>\n",
       "      <th>education_id</th>\n",
       "      <th>family_status</th>\n",
       "      <th>family_status_id</th>\n",
       "      <th>gender</th>\n",
       "      <th>income_type</th>\n",
       "      <th>debt</th>\n",
       "      <th>total_income</th>\n",
       "      <th>purpose</th>\n",
       "    </tr>\n",
       "  </thead>\n",
       "  <tbody>\n",
       "    <tr>\n",
       "      <th>0</th>\n",
       "      <td>1</td>\n",
       "      <td>-8437.673028</td>\n",
       "      <td>42</td>\n",
       "      <td>высшее</td>\n",
       "      <td>0</td>\n",
       "      <td>женат / замужем</td>\n",
       "      <td>0</td>\n",
       "      <td>F</td>\n",
       "      <td>сотрудник</td>\n",
       "      <td>0</td>\n",
       "      <td>253875.639453</td>\n",
       "      <td>покупка жилья</td>\n",
       "    </tr>\n",
       "    <tr>\n",
       "      <th>1</th>\n",
       "      <td>1</td>\n",
       "      <td>-4024.803754</td>\n",
       "      <td>36</td>\n",
       "      <td>среднее</td>\n",
       "      <td>1</td>\n",
       "      <td>женат / замужем</td>\n",
       "      <td>0</td>\n",
       "      <td>F</td>\n",
       "      <td>сотрудник</td>\n",
       "      <td>0</td>\n",
       "      <td>112080.014102</td>\n",
       "      <td>приобретение автомобиля</td>\n",
       "    </tr>\n",
       "    <tr>\n",
       "      <th>2</th>\n",
       "      <td>0</td>\n",
       "      <td>-5623.422610</td>\n",
       "      <td>33</td>\n",
       "      <td>Среднее</td>\n",
       "      <td>1</td>\n",
       "      <td>женат / замужем</td>\n",
       "      <td>0</td>\n",
       "      <td>M</td>\n",
       "      <td>сотрудник</td>\n",
       "      <td>0</td>\n",
       "      <td>145885.952297</td>\n",
       "      <td>покупка жилья</td>\n",
       "    </tr>\n",
       "    <tr>\n",
       "      <th>3</th>\n",
       "      <td>3</td>\n",
       "      <td>-4124.747207</td>\n",
       "      <td>32</td>\n",
       "      <td>среднее</td>\n",
       "      <td>1</td>\n",
       "      <td>женат / замужем</td>\n",
       "      <td>0</td>\n",
       "      <td>M</td>\n",
       "      <td>сотрудник</td>\n",
       "      <td>0</td>\n",
       "      <td>267628.550329</td>\n",
       "      <td>дополнительное образование</td>\n",
       "    </tr>\n",
       "    <tr>\n",
       "      <th>4</th>\n",
       "      <td>0</td>\n",
       "      <td>340266.072047</td>\n",
       "      <td>53</td>\n",
       "      <td>среднее</td>\n",
       "      <td>1</td>\n",
       "      <td>гражданский брак</td>\n",
       "      <td>1</td>\n",
       "      <td>F</td>\n",
       "      <td>пенсионер</td>\n",
       "      <td>0</td>\n",
       "      <td>158616.077870</td>\n",
       "      <td>сыграть свадьбу</td>\n",
       "    </tr>\n",
       "    <tr>\n",
       "      <th>5</th>\n",
       "      <td>0</td>\n",
       "      <td>-926.185831</td>\n",
       "      <td>27</td>\n",
       "      <td>высшее</td>\n",
       "      <td>0</td>\n",
       "      <td>гражданский брак</td>\n",
       "      <td>1</td>\n",
       "      <td>M</td>\n",
       "      <td>компаньон</td>\n",
       "      <td>0</td>\n",
       "      <td>255763.565419</td>\n",
       "      <td>покупка жилья</td>\n",
       "    </tr>\n",
       "    <tr>\n",
       "      <th>6</th>\n",
       "      <td>0</td>\n",
       "      <td>-2879.202052</td>\n",
       "      <td>43</td>\n",
       "      <td>высшее</td>\n",
       "      <td>0</td>\n",
       "      <td>женат / замужем</td>\n",
       "      <td>0</td>\n",
       "      <td>F</td>\n",
       "      <td>компаньон</td>\n",
       "      <td>0</td>\n",
       "      <td>240525.971920</td>\n",
       "      <td>операции с жильем</td>\n",
       "    </tr>\n",
       "    <tr>\n",
       "      <th>7</th>\n",
       "      <td>0</td>\n",
       "      <td>-152.779569</td>\n",
       "      <td>50</td>\n",
       "      <td>СРЕДНЕЕ</td>\n",
       "      <td>1</td>\n",
       "      <td>женат / замужем</td>\n",
       "      <td>0</td>\n",
       "      <td>M</td>\n",
       "      <td>сотрудник</td>\n",
       "      <td>0</td>\n",
       "      <td>135823.934197</td>\n",
       "      <td>образование</td>\n",
       "    </tr>\n",
       "    <tr>\n",
       "      <th>8</th>\n",
       "      <td>2</td>\n",
       "      <td>-6929.865299</td>\n",
       "      <td>35</td>\n",
       "      <td>ВЫСШЕЕ</td>\n",
       "      <td>0</td>\n",
       "      <td>гражданский брак</td>\n",
       "      <td>1</td>\n",
       "      <td>F</td>\n",
       "      <td>сотрудник</td>\n",
       "      <td>0</td>\n",
       "      <td>95856.832424</td>\n",
       "      <td>на проведение свадьбы</td>\n",
       "    </tr>\n",
       "    <tr>\n",
       "      <th>9</th>\n",
       "      <td>0</td>\n",
       "      <td>-2188.756445</td>\n",
       "      <td>41</td>\n",
       "      <td>среднее</td>\n",
       "      <td>1</td>\n",
       "      <td>женат / замужем</td>\n",
       "      <td>0</td>\n",
       "      <td>M</td>\n",
       "      <td>сотрудник</td>\n",
       "      <td>0</td>\n",
       "      <td>144425.938277</td>\n",
       "      <td>покупка жилья для семьи</td>\n",
       "    </tr>\n",
       "    <tr>\n",
       "      <th>10</th>\n",
       "      <td>2</td>\n",
       "      <td>-4171.483647</td>\n",
       "      <td>36</td>\n",
       "      <td>высшее</td>\n",
       "      <td>0</td>\n",
       "      <td>женат / замужем</td>\n",
       "      <td>0</td>\n",
       "      <td>M</td>\n",
       "      <td>компаньон</td>\n",
       "      <td>0</td>\n",
       "      <td>113943.491460</td>\n",
       "      <td>покупка недвижимости</td>\n",
       "    </tr>\n",
       "    <tr>\n",
       "      <th>11</th>\n",
       "      <td>0</td>\n",
       "      <td>-792.701887</td>\n",
       "      <td>40</td>\n",
       "      <td>среднее</td>\n",
       "      <td>1</td>\n",
       "      <td>женат / замужем</td>\n",
       "      <td>0</td>\n",
       "      <td>F</td>\n",
       "      <td>сотрудник</td>\n",
       "      <td>0</td>\n",
       "      <td>77069.234271</td>\n",
       "      <td>покупка коммерческой недвижимости</td>\n",
       "    </tr>\n",
       "    <tr>\n",
       "      <th>12</th>\n",
       "      <td>0</td>\n",
       "      <td>NaN</td>\n",
       "      <td>65</td>\n",
       "      <td>среднее</td>\n",
       "      <td>1</td>\n",
       "      <td>гражданский брак</td>\n",
       "      <td>1</td>\n",
       "      <td>M</td>\n",
       "      <td>пенсионер</td>\n",
       "      <td>0</td>\n",
       "      <td>NaN</td>\n",
       "      <td>сыграть свадьбу</td>\n",
       "    </tr>\n",
       "    <tr>\n",
       "      <th>13</th>\n",
       "      <td>0</td>\n",
       "      <td>-1846.641941</td>\n",
       "      <td>54</td>\n",
       "      <td>неоконченное высшее</td>\n",
       "      <td>2</td>\n",
       "      <td>женат / замужем</td>\n",
       "      <td>0</td>\n",
       "      <td>F</td>\n",
       "      <td>сотрудник</td>\n",
       "      <td>0</td>\n",
       "      <td>130458.228857</td>\n",
       "      <td>приобретение автомобиля</td>\n",
       "    </tr>\n",
       "    <tr>\n",
       "      <th>14</th>\n",
       "      <td>0</td>\n",
       "      <td>-1844.956182</td>\n",
       "      <td>56</td>\n",
       "      <td>высшее</td>\n",
       "      <td>0</td>\n",
       "      <td>гражданский брак</td>\n",
       "      <td>1</td>\n",
       "      <td>F</td>\n",
       "      <td>компаньон</td>\n",
       "      <td>1</td>\n",
       "      <td>165127.911772</td>\n",
       "      <td>покупка жилой недвижимости</td>\n",
       "    </tr>\n",
       "    <tr>\n",
       "      <th>15</th>\n",
       "      <td>1</td>\n",
       "      <td>-972.364419</td>\n",
       "      <td>26</td>\n",
       "      <td>среднее</td>\n",
       "      <td>1</td>\n",
       "      <td>женат / замужем</td>\n",
       "      <td>0</td>\n",
       "      <td>F</td>\n",
       "      <td>сотрудник</td>\n",
       "      <td>0</td>\n",
       "      <td>116820.904450</td>\n",
       "      <td>строительство собственной недвижимости</td>\n",
       "    </tr>\n",
       "    <tr>\n",
       "      <th>16</th>\n",
       "      <td>0</td>\n",
       "      <td>-1719.934226</td>\n",
       "      <td>35</td>\n",
       "      <td>среднее</td>\n",
       "      <td>1</td>\n",
       "      <td>женат / замужем</td>\n",
       "      <td>0</td>\n",
       "      <td>F</td>\n",
       "      <td>сотрудник</td>\n",
       "      <td>0</td>\n",
       "      <td>289202.704229</td>\n",
       "      <td>недвижимость</td>\n",
       "    </tr>\n",
       "    <tr>\n",
       "      <th>17</th>\n",
       "      <td>0</td>\n",
       "      <td>-2369.999720</td>\n",
       "      <td>33</td>\n",
       "      <td>высшее</td>\n",
       "      <td>0</td>\n",
       "      <td>гражданский брак</td>\n",
       "      <td>1</td>\n",
       "      <td>M</td>\n",
       "      <td>сотрудник</td>\n",
       "      <td>0</td>\n",
       "      <td>90410.586745</td>\n",
       "      <td>строительство недвижимости</td>\n",
       "    </tr>\n",
       "    <tr>\n",
       "      <th>18</th>\n",
       "      <td>0</td>\n",
       "      <td>400281.136913</td>\n",
       "      <td>53</td>\n",
       "      <td>среднее</td>\n",
       "      <td>1</td>\n",
       "      <td>вдовец / вдова</td>\n",
       "      <td>2</td>\n",
       "      <td>F</td>\n",
       "      <td>пенсионер</td>\n",
       "      <td>0</td>\n",
       "      <td>56823.777243</td>\n",
       "      <td>на покупку подержанного автомобиля</td>\n",
       "    </tr>\n",
       "    <tr>\n",
       "      <th>19</th>\n",
       "      <td>0</td>\n",
       "      <td>-10038.818549</td>\n",
       "      <td>48</td>\n",
       "      <td>СРЕДНЕЕ</td>\n",
       "      <td>1</td>\n",
       "      <td>в разводе</td>\n",
       "      <td>3</td>\n",
       "      <td>F</td>\n",
       "      <td>сотрудник</td>\n",
       "      <td>0</td>\n",
       "      <td>242831.107982</td>\n",
       "      <td>на покупку своего автомобиля</td>\n",
       "    </tr>\n",
       "  </tbody>\n",
       "</table>\n",
       "</div>"
      ],
      "text/plain": [
       "    children  days_employed  dob_years            education  education_id  \\\n",
       "0          1   -8437.673028         42               высшее             0   \n",
       "1          1   -4024.803754         36              среднее             1   \n",
       "2          0   -5623.422610         33              Среднее             1   \n",
       "3          3   -4124.747207         32              среднее             1   \n",
       "4          0  340266.072047         53              среднее             1   \n",
       "5          0    -926.185831         27               высшее             0   \n",
       "6          0   -2879.202052         43               высшее             0   \n",
       "7          0    -152.779569         50              СРЕДНЕЕ             1   \n",
       "8          2   -6929.865299         35               ВЫСШЕЕ             0   \n",
       "9          0   -2188.756445         41              среднее             1   \n",
       "10         2   -4171.483647         36               высшее             0   \n",
       "11         0    -792.701887         40              среднее             1   \n",
       "12         0            NaN         65              среднее             1   \n",
       "13         0   -1846.641941         54  неоконченное высшее             2   \n",
       "14         0   -1844.956182         56               высшее             0   \n",
       "15         1    -972.364419         26              среднее             1   \n",
       "16         0   -1719.934226         35              среднее             1   \n",
       "17         0   -2369.999720         33               высшее             0   \n",
       "18         0  400281.136913         53              среднее             1   \n",
       "19         0  -10038.818549         48              СРЕДНЕЕ             1   \n",
       "\n",
       "       family_status  family_status_id gender income_type  debt  \\\n",
       "0    женат / замужем                 0      F   сотрудник     0   \n",
       "1    женат / замужем                 0      F   сотрудник     0   \n",
       "2    женат / замужем                 0      M   сотрудник     0   \n",
       "3    женат / замужем                 0      M   сотрудник     0   \n",
       "4   гражданский брак                 1      F   пенсионер     0   \n",
       "5   гражданский брак                 1      M   компаньон     0   \n",
       "6    женат / замужем                 0      F   компаньон     0   \n",
       "7    женат / замужем                 0      M   сотрудник     0   \n",
       "8   гражданский брак                 1      F   сотрудник     0   \n",
       "9    женат / замужем                 0      M   сотрудник     0   \n",
       "10   женат / замужем                 0      M   компаньон     0   \n",
       "11   женат / замужем                 0      F   сотрудник     0   \n",
       "12  гражданский брак                 1      M   пенсионер     0   \n",
       "13   женат / замужем                 0      F   сотрудник     0   \n",
       "14  гражданский брак                 1      F   компаньон     1   \n",
       "15   женат / замужем                 0      F   сотрудник     0   \n",
       "16   женат / замужем                 0      F   сотрудник     0   \n",
       "17  гражданский брак                 1      M   сотрудник     0   \n",
       "18    вдовец / вдова                 2      F   пенсионер     0   \n",
       "19         в разводе                 3      F   сотрудник     0   \n",
       "\n",
       "     total_income                                 purpose  \n",
       "0   253875.639453                           покупка жилья  \n",
       "1   112080.014102                 приобретение автомобиля  \n",
       "2   145885.952297                           покупка жилья  \n",
       "3   267628.550329              дополнительное образование  \n",
       "4   158616.077870                         сыграть свадьбу  \n",
       "5   255763.565419                           покупка жилья  \n",
       "6   240525.971920                       операции с жильем  \n",
       "7   135823.934197                             образование  \n",
       "8    95856.832424                   на проведение свадьбы  \n",
       "9   144425.938277                 покупка жилья для семьи  \n",
       "10  113943.491460                    покупка недвижимости  \n",
       "11   77069.234271       покупка коммерческой недвижимости  \n",
       "12            NaN                         сыграть свадьбу  \n",
       "13  130458.228857                 приобретение автомобиля  \n",
       "14  165127.911772              покупка жилой недвижимости  \n",
       "15  116820.904450  строительство собственной недвижимости  \n",
       "16  289202.704229                            недвижимость  \n",
       "17   90410.586745              строительство недвижимости  \n",
       "18   56823.777243      на покупку подержанного автомобиля  \n",
       "19  242831.107982            на покупку своего автомобиля  "
      ]
     },
     "execution_count": 2,
     "metadata": {},
     "output_type": "execute_result"
    }
   ],
   "source": [
    "data.head(20)"
   ]
  },
  {
   "cell_type": "markdown",
   "id": "dab61d51",
   "metadata": {
    "deletable": false,
    "editable": false,
    "id": "1c12e233"
   },
   "source": [
    "**Задание 3. Выведите основную информацию о датафрейме с помощью метода `info()`.**"
   ]
  },
  {
   "cell_type": "code",
   "execution_count": 3,
   "id": "fbdf83a9",
   "metadata": {
    "deletable": false,
    "id": "2b757bca",
    "outputId": "15376089-8dad-46c9-b520-c05248d43158"
   },
   "outputs": [
    {
     "name": "stdout",
     "output_type": "stream",
     "text": [
      "<class 'pandas.core.frame.DataFrame'>\n",
      "RangeIndex: 21525 entries, 0 to 21524\n",
      "Data columns (total 12 columns):\n",
      " #   Column            Non-Null Count  Dtype  \n",
      "---  ------            --------------  -----  \n",
      " 0   children          21525 non-null  int64  \n",
      " 1   days_employed     19351 non-null  float64\n",
      " 2   dob_years         21525 non-null  int64  \n",
      " 3   education         21525 non-null  object \n",
      " 4   education_id      21525 non-null  int64  \n",
      " 5   family_status     21525 non-null  object \n",
      " 6   family_status_id  21525 non-null  int64  \n",
      " 7   gender            21525 non-null  object \n",
      " 8   income_type       21525 non-null  object \n",
      " 9   debt              21525 non-null  int64  \n",
      " 10  total_income      19351 non-null  float64\n",
      " 11  purpose           21525 non-null  object \n",
      "dtypes: float64(2), int64(5), object(5)\n",
      "memory usage: 2.0+ MB\n"
     ]
    }
   ],
   "source": [
    "data.info()"
   ]
  },
  {
   "cell_type": "markdown",
   "id": "bb6caed2",
   "metadata": {},
   "source": [
    "**Вывод:** В ходе первичного анализа данных мы обнаружили столбцы с пропущенными значениями - *days_employed* и *total_income.* Для дальнейшего анализа необходимо будет заполнить пропущенные в них значения."
   ]
  },
  {
   "cell_type": "markdown",
   "id": "087c734f",
   "metadata": {
    "deletable": false,
    "editable": false,
    "id": "333ec665"
   },
   "source": [
    "## Предобработка данных"
   ]
  },
  {
   "cell_type": "markdown",
   "id": "9daf03e0",
   "metadata": {
    "deletable": false,
    "editable": false,
    "id": "02d92d53"
   },
   "source": [
    "### Удаление пропусков"
   ]
  },
  {
   "cell_type": "markdown",
   "id": "5e4c831a",
   "metadata": {
    "deletable": false,
    "editable": false,
    "id": "cd84967c"
   },
   "source": [
    "**Задание 4. Выведите количество пропущенных значений для каждого столбца. Используйте комбинацию двух методов.**"
   ]
  },
  {
   "cell_type": "code",
   "execution_count": 4,
   "id": "e56d514f",
   "metadata": {
    "deletable": false,
    "id": "7f9b2309",
    "outputId": "81f4d817-781c-465c-ed15-91ce4446810d"
   },
   "outputs": [
    {
     "data": {
      "text/plain": [
       "children               0\n",
       "days_employed       2174\n",
       "dob_years              0\n",
       "education              0\n",
       "education_id           0\n",
       "family_status          0\n",
       "family_status_id       0\n",
       "gender                 0\n",
       "income_type            0\n",
       "debt                   0\n",
       "total_income        2174\n",
       "purpose                0\n",
       "dtype: int64"
      ]
     },
     "execution_count": 4,
     "metadata": {},
     "output_type": "execute_result"
    }
   ],
   "source": [
    "data.isna().sum()"
   ]
  },
  {
   "cell_type": "markdown",
   "id": "c16a1350",
   "metadata": {
    "deletable": false,
    "editable": false,
    "id": "db86e27b"
   },
   "source": [
    "**Задание 5. В двух столбцах есть пропущенные значения. Один из них — `days_employed`. Пропуски в этом столбце вы обработаете на следующем этапе. Другой столбец с пропущенными значениями — `total_income` — хранит данные о доходах. На сумму дохода сильнее всего влияет тип занятости, поэтому заполнить пропуски в этом столбце нужно медианным значением по каждому типу из столбца `income_type`. Например, у человека с типом занятости `сотрудник` пропуск в столбце `total_income` должен быть заполнен медианным доходом среди всех записей с тем же типом.**"
   ]
  },
  {
   "cell_type": "code",
   "execution_count": 5,
   "id": "b2e27d8e",
   "metadata": {
    "deletable": false,
    "id": "42006a93"
   },
   "outputs": [],
   "source": [
    "for t in data['income_type'].unique():\n",
    "    data.loc[(data['income_type'] == t) & (data['total_income'].isna()), 'total_income'] = \\\n",
    "    data.loc[(data['income_type'] == t), 'total_income'].median()"
   ]
  },
  {
   "cell_type": "markdown",
   "id": "4faa4a2b",
   "metadata": {},
   "source": [
    "**Вывод:** Заполнили пропуски в столбце *income_type* медианным значением в соответствии с типом занятости. "
   ]
  },
  {
   "cell_type": "markdown",
   "id": "9b57868c",
   "metadata": {
    "deletable": false,
    "editable": false,
    "id": "89da5ece"
   },
   "source": [
    "### Обработка аномальных значений"
   ]
  },
  {
   "cell_type": "markdown",
   "id": "bb27828c",
   "metadata": {
    "deletable": false,
    "editable": false,
    "id": "57964554"
   },
   "source": [
    "**Задание 6. В данных могут встречаться артефакты (аномалии) — значения, которые не отражают действительность и появились по какой-то ошибке. таким артефактом будет отрицательное количество дней трудового стажа в столбце `days_employed`. Для реальных данных это нормально. Обработайте значения в этом столбце: замените все отрицательные значения положительными с помощью метода `abs()`.**"
   ]
  },
  {
   "cell_type": "code",
   "execution_count": 6,
   "id": "3a3e21dc",
   "metadata": {
    "deletable": false,
    "id": "f6f055bf"
   },
   "outputs": [],
   "source": [
    "data['days_employed'] = data['days_employed'].abs()"
   ]
  },
  {
   "cell_type": "markdown",
   "id": "c02a547a",
   "metadata": {
    "deletable": false,
    "editable": false,
    "id": "6107dd2f"
   },
   "source": [
    "**Задание 7. Для каждого типа занятости выведите медианное значение трудового стажа `days_employed` в днях.**"
   ]
  },
  {
   "cell_type": "code",
   "execution_count": 7,
   "id": "b4f7f244",
   "metadata": {
    "deletable": false,
    "id": "85a5faf6",
    "outputId": "801ef80e-522b-4668-f34e-565af7432bcf"
   },
   "outputs": [
    {
     "data": {
      "text/plain": [
       "income_type\n",
       "безработный        366413.652744\n",
       "в декрете            3296.759962\n",
       "госслужащий          2689.368353\n",
       "компаньон            1547.382223\n",
       "пенсионер          365213.306266\n",
       "предприниматель       520.848083\n",
       "сотрудник            1574.202821\n",
       "студент               578.751554\n",
       "Name: days_employed, dtype: float64"
      ]
     },
     "execution_count": 7,
     "metadata": {},
     "output_type": "execute_result"
    }
   ],
   "source": [
    "data.groupby('income_type')['days_employed'].agg('median')"
   ]
  },
  {
   "cell_type": "markdown",
   "id": "30d7bbdf",
   "metadata": {
    "deletable": false,
    "editable": false,
    "id": "38d1a030"
   },
   "source": [
    "У двух типов (безработные и пенсионеры) получатся аномально большие значения. Исправить такие значения сложно, поэтому оставьте их как есть. Тем более этот столбец не понадобится вам для исследования."
   ]
  },
  {
   "cell_type": "markdown",
   "id": "6d6420ae",
   "metadata": {
    "deletable": false,
    "editable": false,
    "id": "d8a9f147"
   },
   "source": [
    "**Задание 8. Выведите перечень уникальных значений столбца `children`.**"
   ]
  },
  {
   "cell_type": "code",
   "execution_count": 8,
   "id": "4f926220",
   "metadata": {
    "deletable": false,
    "id": "ef5056eb",
    "outputId": "6975b15c-7f95-4697-d16d-a0c79b657b03"
   },
   "outputs": [
    {
     "data": {
      "text/plain": [
       "array([ 1,  0,  3,  2, -1,  4, 20,  5])"
      ]
     },
     "execution_count": 8,
     "metadata": {},
     "output_type": "execute_result"
    }
   ],
   "source": [
    "data['children'].unique()"
   ]
  },
  {
   "cell_type": "markdown",
   "id": "000ac5b5",
   "metadata": {
    "deletable": false,
    "editable": false,
    "id": "40b9ebf2"
   },
   "source": [
    "**Задание 9. В столбце `children` есть два аномальных значения. Удалите строки, в которых встречаются такие аномальные значения из датафрейма `data`.**"
   ]
  },
  {
   "cell_type": "code",
   "execution_count": 9,
   "id": "3cf469fb",
   "metadata": {
    "deletable": false,
    "id": "3ff9801d"
   },
   "outputs": [],
   "source": [
    "data = data[(data['children'] != -1) & (data['children'] != 20)]"
   ]
  },
  {
   "cell_type": "markdown",
   "id": "470423d2",
   "metadata": {
    "deletable": false,
    "editable": false,
    "id": "bbc4d0ce"
   },
   "source": [
    "**Задание 10. Ещё раз выведите перечень уникальных значений столбца `children`, чтобы убедиться, что артефакты удалены.**"
   ]
  },
  {
   "cell_type": "code",
   "execution_count": 10,
   "id": "fbcb68e9",
   "metadata": {
    "deletable": false,
    "id": "ad4fa8b7",
    "outputId": "b2097101-d49d-44d9-901b-32a65c9463d1"
   },
   "outputs": [
    {
     "data": {
      "text/plain": [
       "array([1, 0, 3, 2, 4, 5])"
      ]
     },
     "execution_count": 10,
     "metadata": {},
     "output_type": "execute_result"
    }
   ],
   "source": [
    "data['children'].unique()"
   ]
  },
  {
   "cell_type": "markdown",
   "id": "0ccd5a97",
   "metadata": {},
   "source": [
    "**Вывод:** Обработали отрицательные значения в столбце *income_type*, а также удалили аномальные значения в столбце *children*."
   ]
  },
  {
   "cell_type": "markdown",
   "id": "e2d455ab",
   "metadata": {
    "deletable": false,
    "editable": false,
    "id": "75440b63"
   },
   "source": [
    "### Удаление пропусков (продолжение)"
   ]
  },
  {
   "cell_type": "markdown",
   "id": "cd14882e",
   "metadata": {
    "deletable": false,
    "editable": false,
    "id": "f4ea573f"
   },
   "source": [
    "**Задание 11. Заполните пропуски в столбце `days_employed` медианными значениями по каждого типа занятости `income_type`.**"
   ]
  },
  {
   "cell_type": "code",
   "execution_count": 11,
   "id": "4511c095",
   "metadata": {
    "deletable": false,
    "id": "af6b1a7e"
   },
   "outputs": [],
   "source": [
    "for t in data['income_type'].unique():\n",
    "    data.loc[(data['income_type'] == t) & (data['days_employed'].isna()), 'days_employed'] = \\\n",
    "    data.loc[(data['income_type'] == t), 'days_employed'].median()"
   ]
  },
  {
   "cell_type": "markdown",
   "id": "75196b7f",
   "metadata": {
    "deletable": false,
    "editable": false,
    "id": "2753f40d"
   },
   "source": [
    "**Задание 12. Убедитесь, что все пропуски заполнены. Проверьте себя и ещё раз выведите количество пропущенных значений для каждого столбца с помощью двух методов.**"
   ]
  },
  {
   "cell_type": "code",
   "execution_count": 12,
   "id": "2ac6e95f",
   "metadata": {
    "deletable": false,
    "id": "55f78bc2",
    "outputId": "8da1e4e1-358e-4e87-98c9-f261bce0a7b2"
   },
   "outputs": [
    {
     "data": {
      "text/plain": [
       "children            0\n",
       "days_employed       0\n",
       "dob_years           0\n",
       "education           0\n",
       "education_id        0\n",
       "family_status       0\n",
       "family_status_id    0\n",
       "gender              0\n",
       "income_type         0\n",
       "debt                0\n",
       "total_income        0\n",
       "purpose             0\n",
       "dtype: int64"
      ]
     },
     "execution_count": 12,
     "metadata": {},
     "output_type": "execute_result"
    }
   ],
   "source": [
    "data.isna().sum()"
   ]
  },
  {
   "cell_type": "markdown",
   "id": "17882f01",
   "metadata": {},
   "source": [
    "**Вывод**: Заполнили медианным значением в соотвествии с типом занятости пропуски в столбце *days_employed*. На данном этапе в данных не осталось пропущенных значений."
   ]
  },
  {
   "cell_type": "markdown",
   "id": "70104bdc",
   "metadata": {
    "deletable": false,
    "editable": false,
    "id": "ddc81e43"
   },
   "source": [
    "### Изменение типов данных"
   ]
  },
  {
   "cell_type": "markdown",
   "id": "97ca562e",
   "metadata": {
    "deletable": false,
    "editable": false,
    "id": "42d19d24"
   },
   "source": [
    "**Задание 13. Замените вещественный тип данных в столбце `total_income` на целочисленный с помощью метода `astype()`.**"
   ]
  },
  {
   "cell_type": "code",
   "execution_count": 13,
   "id": "e8e95fb1",
   "metadata": {
    "deletable": false,
    "id": "920b65ad"
   },
   "outputs": [],
   "source": [
    "data['total_income'] = data['total_income'].astype(int)"
   ]
  },
  {
   "cell_type": "markdown",
   "id": "4685d265",
   "metadata": {},
   "source": [
    "**Вывод:** данные в столбце *total_income* преобразованы в тип, пригодный для дальнейшего анализа."
   ]
  },
  {
   "cell_type": "markdown",
   "id": "00582d06",
   "metadata": {
    "deletable": false,
    "editable": false,
    "id": "80c420ba"
   },
   "source": [
    "### Обработка дубликатов"
   ]
  },
  {
   "cell_type": "markdown",
   "id": "a003e0a7",
   "metadata": {
    "deletable": false,
    "editable": false
   },
   "source": [
    "**Задание 14. Обработайте неявные дубликаты в столбце `education`. В этом столбце есть одни и те же значения, но записанные по-разному: с использованием заглавных и строчных букв. Приведите их к нижнему регистру. Проверьте остальные столбцы.**"
   ]
  },
  {
   "cell_type": "code",
   "execution_count": 14,
   "id": "2690d298",
   "metadata": {
    "deletable": false
   },
   "outputs": [],
   "source": [
    "data['education'] = data['education'].str.lower()"
   ]
  },
  {
   "cell_type": "markdown",
   "id": "4def2c2e",
   "metadata": {
    "deletable": false,
    "editable": false,
    "id": "dc587695"
   },
   "source": [
    "**Задание 15. Выведите на экран количество строк-дубликатов в данных. Если такие строки присутствуют, удалите их.**"
   ]
  },
  {
   "cell_type": "code",
   "execution_count": 15,
   "id": "3c3a958f",
   "metadata": {
    "deletable": false,
    "id": "3ee445e4",
    "outputId": "9684deba-1934-42d1-99e1-cda61740f822"
   },
   "outputs": [
    {
     "data": {
      "text/plain": [
       "71"
      ]
     },
     "execution_count": 15,
     "metadata": {},
     "output_type": "execute_result"
    }
   ],
   "source": [
    "data.duplicated().sum()"
   ]
  },
  {
   "cell_type": "code",
   "execution_count": 16,
   "id": "eb745ffa",
   "metadata": {
    "deletable": false,
    "id": "8575fe05"
   },
   "outputs": [],
   "source": [
    "data = data.drop_duplicates()"
   ]
  },
  {
   "cell_type": "markdown",
   "id": "68e041b5",
   "metadata": {},
   "source": [
    "**Вывод:** Были обработаны неявные и удалены явные дубликаты."
   ]
  },
  {
   "cell_type": "markdown",
   "id": "d3dd361b",
   "metadata": {
    "deletable": false,
    "editable": false,
    "id": "9904cf55"
   },
   "source": [
    "### Категоризация данных"
   ]
  },
  {
   "cell_type": "markdown",
   "id": "fb243ba7",
   "metadata": {
    "deletable": false,
    "editable": false,
    "id": "72fcc8a2"
   },
   "source": [
    "**Задание 16. На основании диапазонов, указанных ниже, создайте в датафрейме `data` столбец `total_income_category` с категориями:**\n",
    "\n",
    "- 0–30000 — `'E'`;\n",
    "- 30001–50000 — `'D'`;\n",
    "- 50001–200000 — `'C'`;\n",
    "- 200001–1000000 — `'B'`;\n",
    "- 1000001 и выше — `'A'`.\n",
    "\n",
    "\n",
    "**Например, кредитополучателю с доходом 25000 нужно назначить категорию `'E'`, а клиенту, получающему 235000, — `'B'`. Используйте собственную функцию с именем `categorize_income()` и метод `apply()`.**"
   ]
  },
  {
   "cell_type": "code",
   "execution_count": 17,
   "id": "a4d06191",
   "metadata": {
    "deletable": false,
    "id": "e1771346"
   },
   "outputs": [],
   "source": [
    "def categorize_income(income):\n",
    "    try:\n",
    "        if 0 <= income <= 30000:\n",
    "            return 'E'\n",
    "        elif 30001 <= income <= 50000:\n",
    "            return 'D'\n",
    "        elif 50001 <= income <= 200000:\n",
    "            return 'C'\n",
    "        elif 200001 <= income <= 1000000:\n",
    "            return 'B'\n",
    "        elif income >= 1000001:\n",
    "            return 'A'\n",
    "    except:\n",
    "        pass"
   ]
  },
  {
   "cell_type": "code",
   "execution_count": 18,
   "id": "2f359e6e",
   "metadata": {
    "deletable": false,
    "id": "d5f3586d"
   },
   "outputs": [],
   "source": [
    "data['total_income_category'] = data['total_income'].apply(categorize_income)"
   ]
  },
  {
   "cell_type": "markdown",
   "id": "8270d5e2",
   "metadata": {
    "deletable": false,
    "editable": false,
    "id": "dde49b5c"
   },
   "source": [
    "**Задание 17. Выведите на экран перечень уникальных целей взятия кредита из столбца `purpose`.**"
   ]
  },
  {
   "cell_type": "code",
   "execution_count": 19,
   "id": "fa10fcd3",
   "metadata": {
    "deletable": false,
    "id": "f67ce9b3",
    "outputId": "673c12d9-7d7e-4ae0-9812-c622c89dd244"
   },
   "outputs": [
    {
     "data": {
      "text/plain": [
       "array(['покупка жилья', 'приобретение автомобиля',\n",
       "       'дополнительное образование', 'сыграть свадьбу',\n",
       "       'операции с жильем', 'образование', 'на проведение свадьбы',\n",
       "       'покупка жилья для семьи', 'покупка недвижимости',\n",
       "       'покупка коммерческой недвижимости', 'покупка жилой недвижимости',\n",
       "       'строительство собственной недвижимости', 'недвижимость',\n",
       "       'строительство недвижимости', 'на покупку подержанного автомобиля',\n",
       "       'на покупку своего автомобиля',\n",
       "       'операции с коммерческой недвижимостью',\n",
       "       'строительство жилой недвижимости', 'жилье',\n",
       "       'операции со своей недвижимостью', 'автомобили',\n",
       "       'заняться образованием', 'сделка с подержанным автомобилем',\n",
       "       'получение образования', 'автомобиль', 'свадьба',\n",
       "       'получение дополнительного образования', 'покупка своего жилья',\n",
       "       'операции с недвижимостью', 'получение высшего образования',\n",
       "       'свой автомобиль', 'сделка с автомобилем',\n",
       "       'профильное образование', 'высшее образование',\n",
       "       'покупка жилья для сдачи', 'на покупку автомобиля', 'ремонт жилью',\n",
       "       'заняться высшим образованием'], dtype=object)"
      ]
     },
     "execution_count": 19,
     "metadata": {},
     "output_type": "execute_result"
    }
   ],
   "source": [
    "data['purpose'].unique()"
   ]
  },
  {
   "cell_type": "markdown",
   "id": "0628a4b4",
   "metadata": {
    "deletable": false,
    "editable": false,
    "id": "85d0aef0"
   },
   "source": [
    "**Задание 18. Создайте функцию, которая на основании данных из столбца `purpose` сформирует новый столбец `purpose_category`, в который войдут следующие категории:**\n",
    "\n",
    "- `'операции с автомобилем'`,\n",
    "- `'операции с недвижимостью'`,\n",
    "- `'проведение свадьбы'`,\n",
    "- `'получение образования'`.\n",
    "\n",
    "**Например, если в столбце `purpose` находится подстрока `'на покупку автомобиля'`, то в столбце `purpose_category` должна появиться строка `'операции с автомобилем'`.**\n",
    "\n",
    "**Используйте собственную функцию с именем `categorize_purpose()` и метод `apply()`. Изучите данные в столбце `purpose` и определите, какие подстроки помогут вам правильно определить категорию.**"
   ]
  },
  {
   "cell_type": "code",
   "execution_count": 20,
   "id": "3c6790d2",
   "metadata": {
    "deletable": false,
    "id": "e149fab4"
   },
   "outputs": [],
   "source": [
    "def categorize_purpose(row):\n",
    "    try:\n",
    "        if 'автом' in row:\n",
    "            return 'операции с автомобилем'\n",
    "        elif 'жил' in row or 'недвиж' in row:\n",
    "            return 'операции с недвижимостью'\n",
    "        elif 'свад' in row:\n",
    "            return 'проведение свадьбы'\n",
    "        elif 'образов' in row:\n",
    "            return 'получение образования'\n",
    "    except:\n",
    "        return 'нет категории'"
   ]
  },
  {
   "cell_type": "code",
   "execution_count": 21,
   "id": "6d69453a",
   "metadata": {
    "deletable": false,
    "id": "bf36e69b"
   },
   "outputs": [],
   "source": [
    "data['purpose_category'] = data['purpose'].apply(categorize_purpose)"
   ]
  },
  {
   "cell_type": "markdown",
   "id": "b7fa41dc",
   "metadata": {},
   "source": [
    "**Вывод:** Была произведена категоризация данных по ежемесячному доходу и цели кредита. Это необходимо для дальнейшего анализа зависимости между этими параметрами и фактом возврата кредита в срок."
   ]
  },
  {
   "cell_type": "markdown",
   "id": "0e4c3f5e",
   "metadata": {
    "deletable": false,
    "editable": false,
    "id": "09b242bf"
   },
   "source": [
    "### Шаг 3. Исследуйте данные и ответьте на вопросы"
   ]
  },
  {
   "cell_type": "markdown",
   "id": "e23ff031",
   "metadata": {
    "deletable": false,
    "editable": false,
    "id": "c5d66278"
   },
   "source": [
    "#### 3.1 Есть ли зависимость между количеством детей и возвратом кредита в срок?"
   ]
  },
  {
   "cell_type": "markdown",
   "id": "812992a2",
   "metadata": {},
   "source": [
    "Для того, чтобы узнать, если ли зависимость между количеством детей и возвратом кредита в срок, посчитаем долю лиц, имевших задолжности по кредитам, сгруппировав данные по количеству детей. Чем ближе получившаяся доля к единице, тем больше лиц с этим количеством детей имело проблемы с возвратом кредита в срок.\n",
    "Если доля будет расти (или падать) с ростом количества детей, то можно говорить о наличии некоторой зависимости."
   ]
  },
  {
   "cell_type": "code",
   "execution_count": 22,
   "id": "41c5776f",
   "metadata": {
    "deletable": false,
    "id": "2cacfc4a",
    "scrolled": true
   },
   "outputs": [
    {
     "data": {
      "text/plain": [
       "children\n",
       "0    1063\n",
       "1     444\n",
       "2     194\n",
       "3      27\n",
       "4       4\n",
       "5       0\n",
       "Name: debt, dtype: int64"
      ]
     },
     "execution_count": 22,
     "metadata": {},
     "output_type": "execute_result"
    }
   ],
   "source": [
    "# подсчитаем количество лиц, имевших задолжности по кредитам, сгруппировав по количеству детей\n",
    "data.groupby('children')['debt'].sum()"
   ]
  },
  {
   "cell_type": "code",
   "execution_count": 23,
   "id": "c7c24bb0",
   "metadata": {},
   "outputs": [
    {
     "data": {
      "text/plain": [
       "children\n",
       "0    14091\n",
       "1     4808\n",
       "2     2052\n",
       "3      330\n",
       "4       41\n",
       "5        9\n",
       "Name: debt, dtype: int64"
      ]
     },
     "execution_count": 23,
     "metadata": {},
     "output_type": "execute_result"
    }
   ],
   "source": [
    "# подсчитаем количество лиц, бравших кредиты, сгруппировав по количеству детей\n",
    "data.groupby('children')['debt'].count()"
   ]
  },
  {
   "cell_type": "code",
   "execution_count": 24,
   "id": "87f3e25d",
   "metadata": {},
   "outputs": [
    {
     "data": {
      "text/plain": [
       "children\n",
       "0    0.075438\n",
       "1    0.092346\n",
       "2    0.094542\n",
       "3    0.081818\n",
       "4    0.097561\n",
       "5    0.000000\n",
       "Name: debt, dtype: float64"
      ]
     },
     "execution_count": 24,
     "metadata": {},
     "output_type": "execute_result"
    }
   ],
   "source": [
    "# подсчитаем долю лиц, имевших задолжности по кредитам, сгруппировав по количеству детей\n",
    "data.groupby('children')['debt'].mean()"
   ]
  },
  {
   "cell_type": "code",
   "execution_count": 25,
   "id": "c694ffdb",
   "metadata": {},
   "outputs": [
    {
     "data": {
      "text/html": [
       "<div>\n",
       "<style scoped>\n",
       "    .dataframe tbody tr th:only-of-type {\n",
       "        vertical-align: middle;\n",
       "    }\n",
       "\n",
       "    .dataframe tbody tr th {\n",
       "        vertical-align: top;\n",
       "    }\n",
       "\n",
       "    .dataframe thead tr th {\n",
       "        text-align: left;\n",
       "    }\n",
       "\n",
       "    .dataframe thead tr:last-of-type th {\n",
       "        text-align: right;\n",
       "    }\n",
       "</style>\n",
       "<table border=\"1\" class=\"dataframe\">\n",
       "  <thead>\n",
       "    <tr>\n",
       "      <th></th>\n",
       "      <th>count</th>\n",
       "      <th>sum</th>\n",
       "      <th>mean</th>\n",
       "    </tr>\n",
       "    <tr>\n",
       "      <th></th>\n",
       "      <th>debt</th>\n",
       "      <th>debt</th>\n",
       "      <th>debt</th>\n",
       "    </tr>\n",
       "    <tr>\n",
       "      <th>children</th>\n",
       "      <th></th>\n",
       "      <th></th>\n",
       "      <th></th>\n",
       "    </tr>\n",
       "  </thead>\n",
       "  <tbody>\n",
       "    <tr>\n",
       "      <th>0</th>\n",
       "      <td>14091</td>\n",
       "      <td>1063</td>\n",
       "      <td>0.075438</td>\n",
       "    </tr>\n",
       "    <tr>\n",
       "      <th>1</th>\n",
       "      <td>4808</td>\n",
       "      <td>444</td>\n",
       "      <td>0.092346</td>\n",
       "    </tr>\n",
       "    <tr>\n",
       "      <th>2</th>\n",
       "      <td>2052</td>\n",
       "      <td>194</td>\n",
       "      <td>0.094542</td>\n",
       "    </tr>\n",
       "    <tr>\n",
       "      <th>3</th>\n",
       "      <td>330</td>\n",
       "      <td>27</td>\n",
       "      <td>0.081818</td>\n",
       "    </tr>\n",
       "    <tr>\n",
       "      <th>4</th>\n",
       "      <td>41</td>\n",
       "      <td>4</td>\n",
       "      <td>0.097561</td>\n",
       "    </tr>\n",
       "    <tr>\n",
       "      <th>5</th>\n",
       "      <td>9</td>\n",
       "      <td>0</td>\n",
       "      <td>0.000000</td>\n",
       "    </tr>\n",
       "  </tbody>\n",
       "</table>\n",
       "</div>"
      ],
      "text/plain": [
       "          count   sum      mean\n",
       "           debt  debt      debt\n",
       "children                       \n",
       "0         14091  1063  0.075438\n",
       "1          4808   444  0.092346\n",
       "2          2052   194  0.094542\n",
       "3           330    27  0.081818\n",
       "4            41     4  0.097561\n",
       "5             9     0  0.000000"
      ]
     },
     "execution_count": 25,
     "metadata": {},
     "output_type": "execute_result"
    }
   ],
   "source": [
    "data.pivot_table(index='children', values='debt', aggfunc= ['count', 'sum','mean'])"
   ]
  },
  {
   "cell_type": "markdown",
   "id": "81ce3743",
   "metadata": {},
   "source": [
    "<div class=\"alert-success\" style=\"border-radius: 10px; padding: 20px\">\n",
    "<b>Комментарий ревьюера V2 ✔️</b>\n",
    "\n",
    "Это правильная сводная таблица со всеми нужными для сравнения категорий данными. </div>"
   ]
  },
  {
   "cell_type": "markdown",
   "id": "b7ee8587",
   "metadata": {
    "deletable": false,
    "id": "3a6b99ec"
   },
   "source": [
    "**Вывод:** \n",
    "Однозначно можно сказать, что лица без детей имеют меньше проблем в возвратом кредита в срок.\n",
    "С ростом количества детей доля лиц с задолжностями по кредиту так же растет, за исключением значения доли у людей с 3 детьми. В таком случае, либо зависимости с количеством детей нет, либо есть неучтенные факторы (например, субсидии для семей с 3 детьми) или выборка на семьях с 3 детьми нерелеванта по еще каким-то причинам."
   ]
  },
  {
   "cell_type": "markdown",
   "id": "6fe81c1b",
   "metadata": {
    "deletable": false,
    "editable": false,
    "id": "97be82ca"
   },
   "source": [
    "#### 3.2 Есть ли зависимость между семейным положением и возвратом кредита в срок?"
   ]
  },
  {
   "cell_type": "markdown",
   "id": "96e3389f",
   "metadata": {},
   "source": [
    "Для того, чтобы узнать, если ли зависимость между семейным положением и возвратом кредита в срок, посчитаем долю лиц, имевших задолжности по кредитам, сгруппировав данные по семейному положению. Чем ближе получившаяся доля к единице, тем больше лиц с этим семейным положением имело проблемы с возвратом кредита в срок."
   ]
  },
  {
   "cell_type": "code",
   "execution_count": 26,
   "id": "ae060c9e",
   "metadata": {
    "deletable": false,
    "id": "dc3f7ee8"
   },
   "outputs": [
    {
     "data": {
      "text/plain": [
       "family_status\n",
       "Не женат / не замужем    273\n",
       "в разводе                 84\n",
       "вдовец / вдова            63\n",
       "гражданский брак         385\n",
       "женат / замужем          927\n",
       "Name: debt, dtype: int64"
      ]
     },
     "execution_count": 26,
     "metadata": {},
     "output_type": "execute_result"
    }
   ],
   "source": [
    "# подсчитаем количество лиц, имевших задолжности по кредитам, сгруппировав по семейному положению\n",
    "data.groupby('family_status')['debt'].sum()"
   ]
  },
  {
   "cell_type": "code",
   "execution_count": 27,
   "id": "817b2782",
   "metadata": {},
   "outputs": [
    {
     "data": {
      "text/plain": [
       "family_status\n",
       "Не женат / не замужем     2796\n",
       "в разводе                 1189\n",
       "вдовец / вдова             951\n",
       "гражданский брак          4134\n",
       "женат / замужем          12261\n",
       "Name: debt, dtype: int64"
      ]
     },
     "execution_count": 27,
     "metadata": {},
     "output_type": "execute_result"
    }
   ],
   "source": [
    "# подсчитаем количество лиц, бравших кредиты, сгруппировав по семейному положению\n",
    "data.groupby('family_status')['debt'].count()"
   ]
  },
  {
   "cell_type": "code",
   "execution_count": 28,
   "id": "6da53cc0",
   "metadata": {},
   "outputs": [
    {
     "data": {
      "text/plain": [
       "family_status\n",
       "Не женат / не замужем    0.097639\n",
       "в разводе                0.070648\n",
       "вдовец / вдова           0.066246\n",
       "гражданский брак         0.093130\n",
       "женат / замужем          0.075606\n",
       "Name: debt, dtype: float64"
      ]
     },
     "execution_count": 28,
     "metadata": {},
     "output_type": "execute_result"
    }
   ],
   "source": [
    "# подсчитаем долю лиц, имевших задолжности по кредитам, сгруппировав по семейному положению\n",
    "data.groupby('family_status')['debt'].mean()"
   ]
  },
  {
   "cell_type": "code",
   "execution_count": 29,
   "id": "321d2dec",
   "metadata": {},
   "outputs": [
    {
     "data": {
      "text/html": [
       "<div>\n",
       "<style scoped>\n",
       "    .dataframe tbody tr th:only-of-type {\n",
       "        vertical-align: middle;\n",
       "    }\n",
       "\n",
       "    .dataframe tbody tr th {\n",
       "        vertical-align: top;\n",
       "    }\n",
       "\n",
       "    .dataframe thead tr th {\n",
       "        text-align: left;\n",
       "    }\n",
       "\n",
       "    .dataframe thead tr:last-of-type th {\n",
       "        text-align: right;\n",
       "    }\n",
       "</style>\n",
       "<table border=\"1\" class=\"dataframe\">\n",
       "  <thead>\n",
       "    <tr>\n",
       "      <th></th>\n",
       "      <th>count</th>\n",
       "      <th>sum</th>\n",
       "      <th>mean</th>\n",
       "    </tr>\n",
       "    <tr>\n",
       "      <th></th>\n",
       "      <th>debt</th>\n",
       "      <th>debt</th>\n",
       "      <th>debt</th>\n",
       "    </tr>\n",
       "    <tr>\n",
       "      <th>family_status</th>\n",
       "      <th></th>\n",
       "      <th></th>\n",
       "      <th></th>\n",
       "    </tr>\n",
       "  </thead>\n",
       "  <tbody>\n",
       "    <tr>\n",
       "      <th>Не женат / не замужем</th>\n",
       "      <td>2796</td>\n",
       "      <td>273</td>\n",
       "      <td>0.097639</td>\n",
       "    </tr>\n",
       "    <tr>\n",
       "      <th>в разводе</th>\n",
       "      <td>1189</td>\n",
       "      <td>84</td>\n",
       "      <td>0.070648</td>\n",
       "    </tr>\n",
       "    <tr>\n",
       "      <th>вдовец / вдова</th>\n",
       "      <td>951</td>\n",
       "      <td>63</td>\n",
       "      <td>0.066246</td>\n",
       "    </tr>\n",
       "    <tr>\n",
       "      <th>гражданский брак</th>\n",
       "      <td>4134</td>\n",
       "      <td>385</td>\n",
       "      <td>0.093130</td>\n",
       "    </tr>\n",
       "    <tr>\n",
       "      <th>женат / замужем</th>\n",
       "      <td>12261</td>\n",
       "      <td>927</td>\n",
       "      <td>0.075606</td>\n",
       "    </tr>\n",
       "  </tbody>\n",
       "</table>\n",
       "</div>"
      ],
      "text/plain": [
       "                       count  sum      mean\n",
       "                        debt debt      debt\n",
       "family_status                              \n",
       "Не женат / не замужем   2796  273  0.097639\n",
       "в разводе               1189   84  0.070648\n",
       "вдовец / вдова           951   63  0.066246\n",
       "гражданский брак        4134  385  0.093130\n",
       "женат / замужем        12261  927  0.075606"
      ]
     },
     "execution_count": 29,
     "metadata": {},
     "output_type": "execute_result"
    }
   ],
   "source": [
    "data.pivot_table(index='family_status', values='debt', aggfunc= ['count', 'sum','mean'])"
   ]
  },
  {
   "cell_type": "markdown",
   "id": "b5efb0f7",
   "metadata": {
    "deletable": false,
    "id": "1cef7837"
   },
   "source": [
    "**Вывод:**\n",
    "Из полученных данных можно сделать вывод, что лица, не состоящие или состоявшие в официальном браке чаще имеют проблемы с возвратом кредита в срок. "
   ]
  },
  {
   "cell_type": "markdown",
   "id": "89897b81",
   "metadata": {
    "deletable": false,
    "editable": false,
    "id": "1e8b2fca"
   },
   "source": [
    "#### 3.3 Есть ли зависимость между уровнем дохода и возвратом кредита в срок?"
   ]
  },
  {
   "cell_type": "markdown",
   "id": "5b34fc8d",
   "metadata": {},
   "source": [
    "Для того, чтобы узнать, если ли зависимость между уровнем дохода и возвратом кредита в срок, посчитаем долю лиц, имевших задолжности по кредитам, сгруппировав данные по категории дохода (чем ближе буква обозначения категории к началу алфавита, тем выше доход).\n",
    "Чем ближе получившаяся доля к единице, тем больше лиц с этим уровнем дохода имело проблемы с возвратом кредита в срок.\n",
    "Если доля будет расти (или падать) с ростом дохода, то можно говорить о наличии некоторой зависимости."
   ]
  },
  {
   "cell_type": "code",
   "execution_count": 30,
   "id": "e3d7b531",
   "metadata": {
    "deletable": false,
    "id": "cd7e3720"
   },
   "outputs": [
    {
     "data": {
      "text/plain": [
       "total_income_category\n",
       "A       2\n",
       "B     354\n",
       "C    1353\n",
       "D      21\n",
       "E       2\n",
       "Name: debt, dtype: int64"
      ]
     },
     "execution_count": 30,
     "metadata": {},
     "output_type": "execute_result"
    }
   ],
   "source": [
    "# подсчитаем количество лиц, имевших задолжности по кредитам, сгруппировав по категории дохода\n",
    "data.groupby('total_income_category')['debt'].sum()"
   ]
  },
  {
   "cell_type": "code",
   "execution_count": 31,
   "id": "2cc19457",
   "metadata": {},
   "outputs": [
    {
     "data": {
      "text/plain": [
       "total_income_category\n",
       "A       25\n",
       "B     5014\n",
       "C    15921\n",
       "D      349\n",
       "E       22\n",
       "Name: debt, dtype: int64"
      ]
     },
     "execution_count": 31,
     "metadata": {},
     "output_type": "execute_result"
    }
   ],
   "source": [
    "# подсчитаем количество лиц, бравших кредиты, сгруппировав по категории дохода\n",
    "data.groupby('total_income_category')['debt'].count()"
   ]
  },
  {
   "cell_type": "code",
   "execution_count": 32,
   "id": "97ddd081",
   "metadata": {},
   "outputs": [
    {
     "data": {
      "text/plain": [
       "total_income_category\n",
       "A    0.080000\n",
       "B    0.070602\n",
       "C    0.084982\n",
       "D    0.060172\n",
       "E    0.090909\n",
       "Name: debt, dtype: float64"
      ]
     },
     "execution_count": 32,
     "metadata": {},
     "output_type": "execute_result"
    }
   ],
   "source": [
    "# подсчитаем долю лиц, имевших задолжности по кредитам, сгруппировав по категории дохода\n",
    "data.groupby('total_income_category')['debt'].mean()"
   ]
  },
  {
   "cell_type": "markdown",
   "id": "c46d48f3",
   "metadata": {
    "deletable": false,
    "id": "e8593def"
   },
   "source": [
    "**Вывод:** \n",
    "На полученных расчетах доли не наблюдается зависимости между уровнем дохода и возврата кредита в срок.\n",
    "Результаты могут быть искажены из-за категории C, в которую попала большая часть наблюдений. Возможно, для анализа этой зависимости стоит пересмотреть границы категорий. "
   ]
  },
  {
   "cell_type": "code",
   "execution_count": 33,
   "id": "2115e11f",
   "metadata": {},
   "outputs": [
    {
     "data": {
      "text/html": [
       "<div>\n",
       "<style scoped>\n",
       "    .dataframe tbody tr th:only-of-type {\n",
       "        vertical-align: middle;\n",
       "    }\n",
       "\n",
       "    .dataframe tbody tr th {\n",
       "        vertical-align: top;\n",
       "    }\n",
       "\n",
       "    .dataframe thead tr th {\n",
       "        text-align: left;\n",
       "    }\n",
       "\n",
       "    .dataframe thead tr:last-of-type th {\n",
       "        text-align: right;\n",
       "    }\n",
       "</style>\n",
       "<table border=\"1\" class=\"dataframe\">\n",
       "  <thead>\n",
       "    <tr>\n",
       "      <th></th>\n",
       "      <th>count</th>\n",
       "      <th>sum</th>\n",
       "      <th>mean</th>\n",
       "    </tr>\n",
       "    <tr>\n",
       "      <th></th>\n",
       "      <th>debt</th>\n",
       "      <th>debt</th>\n",
       "      <th>debt</th>\n",
       "    </tr>\n",
       "    <tr>\n",
       "      <th>total_income_category</th>\n",
       "      <th></th>\n",
       "      <th></th>\n",
       "      <th></th>\n",
       "    </tr>\n",
       "  </thead>\n",
       "  <tbody>\n",
       "    <tr>\n",
       "      <th>A</th>\n",
       "      <td>25</td>\n",
       "      <td>2</td>\n",
       "      <td>0.080000</td>\n",
       "    </tr>\n",
       "    <tr>\n",
       "      <th>B</th>\n",
       "      <td>5014</td>\n",
       "      <td>354</td>\n",
       "      <td>0.070602</td>\n",
       "    </tr>\n",
       "    <tr>\n",
       "      <th>C</th>\n",
       "      <td>15921</td>\n",
       "      <td>1353</td>\n",
       "      <td>0.084982</td>\n",
       "    </tr>\n",
       "    <tr>\n",
       "      <th>D</th>\n",
       "      <td>349</td>\n",
       "      <td>21</td>\n",
       "      <td>0.060172</td>\n",
       "    </tr>\n",
       "    <tr>\n",
       "      <th>E</th>\n",
       "      <td>22</td>\n",
       "      <td>2</td>\n",
       "      <td>0.090909</td>\n",
       "    </tr>\n",
       "  </tbody>\n",
       "</table>\n",
       "</div>"
      ],
      "text/plain": [
       "                       count   sum      mean\n",
       "                        debt  debt      debt\n",
       "total_income_category                       \n",
       "A                         25     2  0.080000\n",
       "B                       5014   354  0.070602\n",
       "C                      15921  1353  0.084982\n",
       "D                        349    21  0.060172\n",
       "E                         22     2  0.090909"
      ]
     },
     "execution_count": 33,
     "metadata": {},
     "output_type": "execute_result"
    }
   ],
   "source": [
    "data.pivot_table(index='total_income_category', values='debt', aggfunc= ['count', 'sum','mean'])"
   ]
  },
  {
   "cell_type": "markdown",
   "id": "8e7e5d7d",
   "metadata": {},
   "source": [
    "    \n",
    "Вывод: Выборка в рамках выбраных категорий несбалансирована, поэтому сделать однозначный вывод о зависимости затруднительно. Однако, можно заметить, что из двух наиболее крупных категорий категория B имеет меньшую долю невозврата кредита в срок, чем категория C с меньшим доходом. Возможно, для анализа этой зависимости стоит пересмотреть границы категорий. </div>"
   ]
  },
  {
   "cell_type": "markdown",
   "id": "fc07a8d6",
   "metadata": {
    "deletable": false,
    "editable": false,
    "id": "99ecbd1f"
   },
   "source": [
    "#### 3.4 Как разные цели кредита влияют на его возврат в срок?"
   ]
  },
  {
   "cell_type": "markdown",
   "id": "5f8c884a",
   "metadata": {},
   "source": [
    "Для того, чтобы узнать, если ли зависимость между целью кредита и возвратом кредита в срок, посчитаем долю лиц, имевших задолжности по кредитам, сгруппировав данные по цели кредита.\n",
    "Чем ближе получившаяся доля к единице, тем больше лиц с этой целью имело проблемы с возвратом кредита в срок."
   ]
  },
  {
   "cell_type": "code",
   "execution_count": 34,
   "id": "193f5a4a",
   "metadata": {
    "deletable": false,
    "id": "2b687290"
   },
   "outputs": [
    {
     "data": {
      "text/plain": [
       "purpose_category\n",
       "операции с автомобилем      400\n",
       "операции с недвижимостью    780\n",
       "получение образования       369\n",
       "проведение свадьбы          183\n",
       "Name: debt, dtype: int64"
      ]
     },
     "execution_count": 34,
     "metadata": {},
     "output_type": "execute_result"
    }
   ],
   "source": [
    "# подсчитаем количество лиц, имевших задолжности по кредитам, сгруппировав по категории цели кредита\n",
    "data.groupby('purpose_category')['debt'].sum()"
   ]
  },
  {
   "cell_type": "code",
   "execution_count": 35,
   "id": "50a4cdd5",
   "metadata": {},
   "outputs": [
    {
     "data": {
      "text/plain": [
       "purpose_category\n",
       "операции с автомобилем       4279\n",
       "операции с недвижимостью    10751\n",
       "получение образования        3988\n",
       "проведение свадьбы           2313\n",
       "Name: debt, dtype: int64"
      ]
     },
     "execution_count": 35,
     "metadata": {},
     "output_type": "execute_result"
    }
   ],
   "source": [
    "# подсчитаем количество лиц, бравших кредиты, сгруппировав по категории цели кредита\n",
    "data.groupby('purpose_category')['debt'].count()"
   ]
  },
  {
   "cell_type": "code",
   "execution_count": 36,
   "id": "6077aa18",
   "metadata": {},
   "outputs": [
    {
     "data": {
      "text/plain": [
       "purpose_category\n",
       "операции с автомобилем      0.093480\n",
       "операции с недвижимостью    0.072551\n",
       "получение образования       0.092528\n",
       "проведение свадьбы          0.079118\n",
       "Name: debt, dtype: float64"
      ]
     },
     "execution_count": 36,
     "metadata": {},
     "output_type": "execute_result"
    }
   ],
   "source": [
    "# подсчитаем долю лиц, имевших задолжности по кредитам, сгруппировав по категории цели кредита\n",
    "data.groupby('purpose_category')['debt'].mean()"
   ]
  },
  {
   "cell_type": "code",
   "execution_count": 37,
   "id": "e5f9bbe3",
   "metadata": {},
   "outputs": [
    {
     "data": {
      "text/html": [
       "<div>\n",
       "<style scoped>\n",
       "    .dataframe tbody tr th:only-of-type {\n",
       "        vertical-align: middle;\n",
       "    }\n",
       "\n",
       "    .dataframe tbody tr th {\n",
       "        vertical-align: top;\n",
       "    }\n",
       "\n",
       "    .dataframe thead tr th {\n",
       "        text-align: left;\n",
       "    }\n",
       "\n",
       "    .dataframe thead tr:last-of-type th {\n",
       "        text-align: right;\n",
       "    }\n",
       "</style>\n",
       "<table border=\"1\" class=\"dataframe\">\n",
       "  <thead>\n",
       "    <tr>\n",
       "      <th></th>\n",
       "      <th>count</th>\n",
       "      <th>sum</th>\n",
       "      <th>mean</th>\n",
       "    </tr>\n",
       "    <tr>\n",
       "      <th></th>\n",
       "      <th>debt</th>\n",
       "      <th>debt</th>\n",
       "      <th>debt</th>\n",
       "    </tr>\n",
       "    <tr>\n",
       "      <th>purpose_category</th>\n",
       "      <th></th>\n",
       "      <th></th>\n",
       "      <th></th>\n",
       "    </tr>\n",
       "  </thead>\n",
       "  <tbody>\n",
       "    <tr>\n",
       "      <th>операции с автомобилем</th>\n",
       "      <td>4279</td>\n",
       "      <td>400</td>\n",
       "      <td>0.093480</td>\n",
       "    </tr>\n",
       "    <tr>\n",
       "      <th>операции с недвижимостью</th>\n",
       "      <td>10751</td>\n",
       "      <td>780</td>\n",
       "      <td>0.072551</td>\n",
       "    </tr>\n",
       "    <tr>\n",
       "      <th>получение образования</th>\n",
       "      <td>3988</td>\n",
       "      <td>369</td>\n",
       "      <td>0.092528</td>\n",
       "    </tr>\n",
       "    <tr>\n",
       "      <th>проведение свадьбы</th>\n",
       "      <td>2313</td>\n",
       "      <td>183</td>\n",
       "      <td>0.079118</td>\n",
       "    </tr>\n",
       "  </tbody>\n",
       "</table>\n",
       "</div>"
      ],
      "text/plain": [
       "                          count  sum      mean\n",
       "                           debt debt      debt\n",
       "purpose_category                              \n",
       "операции с автомобилем     4279  400  0.093480\n",
       "операции с недвижимостью  10751  780  0.072551\n",
       "получение образования      3988  369  0.092528\n",
       "проведение свадьбы         2313  183  0.079118"
      ]
     },
     "execution_count": 37,
     "metadata": {},
     "output_type": "execute_result"
    }
   ],
   "source": [
    "data.pivot_table(index='purpose_category', values='debt', aggfunc= ['count', 'sum','mean'])"
   ]
  },
  {
   "cell_type": "markdown",
   "id": "a835807e",
   "metadata": {
    "deletable": false,
    "id": "b4bb2ce6"
   },
   "source": [
    "**Вывод:** \n",
    "Кредиты, полученные на свадьбу и недвижимость, чаще возвращают в срок, чем на автомобили и образование. \n",
    "Это может быть связано с тем, что кредит на свадьбу и покупку недвижмости чаще выплачивают люди в браке, зачастую имеющие больше одного источников дохода."
   ]
  },
  {
   "cell_type": "markdown",
   "id": "9b2c689c",
   "metadata": {
    "deletable": false,
    "editable": false,
    "id": "09c3ac4c"
   },
   "source": [
    "#### 3.5 Приведите возможные причины появления пропусков в исходных данных."
   ]
  },
  {
   "cell_type": "markdown",
   "id": "f187685f",
   "metadata": {
    "deletable": false,
    "id": "9da2ceda"
   },
   "source": [
    "*Ответ:* Пропуски были в столбцах days_employed и total_income. \n",
    "Их причиной могло быть:\n",
    "1. некорректное заполнение или ошибки при вводе в банковскую систему;\n",
    "2. остутствие трудового опыта и дохода у лиц, получавших кредит;\n",
    "3. неофицальное трудоустройство;\n",
    "4. особенности, связанные с типом занятости и получении государственных выплат (например, у пенсионеров, студентов и лиц в декрете)."
   ]
  },
  {
   "cell_type": "markdown",
   "id": "3320b065",
   "metadata": {
    "deletable": false,
    "editable": false,
    "id": "7b0487d6"
   },
   "source": [
    "#### 3.6 Объясните, почему заполнить пропуски медианным значением — лучшее решение для количественных переменных."
   ]
  },
  {
   "cell_type": "code",
   "execution_count": 38,
   "id": "a48f7a9b",
   "metadata": {},
   "outputs": [
    {
     "name": "stdout",
     "output_type": "stream",
     "text": [
      "67148.97213258488\n",
      "1996.732855437927\n"
     ]
    }
   ],
   "source": [
    "print(data['days_employed'].mean())\n",
    "print(data['days_employed'].median())"
   ]
  },
  {
   "cell_type": "markdown",
   "id": "d110d17b",
   "metadata": {},
   "source": [
    "\n",
    "*Ответ:* При расчете среднего арифмитического большее влияние окажут выбросы, что сделает это значение менее адекватно отражающем действительность. Медиана является более объективным показателем среднего значения.\n"
   ]
  },
  {
   "cell_type": "markdown",
   "id": "e747bf65",
   "metadata": {
    "deletable": false,
    "editable": false,
    "id": "6db5255a"
   },
   "source": [
    "### Шаг 4: общий вывод."
   ]
  },
  {
   "cell_type": "markdown",
   "id": "5938e5f7",
   "metadata": {},
   "source": [
    "\n",
    "*Вывод* \n",
    "\n",
    "Для анализа получены данные о платежеспособности клиентов банка. На этапе предобработки был проведен первичный анализ для выявления проблем в данных и заполнены пропущенные значения, затем данные были очищены от аномальных значений и дубликатов. Для удобства дальнейшего анализа была проведена категоризация по ежемесячному доходу и цели кредита.\n",
    "\n",
    "Подводя итог, можно сказать, что однозначно были выявлены зависимости между семейным положением и наличием детей и возвратом кредита в срок. Лица, состоящие или состоявшие в официальном браке имеют меньше проблем с возвратом кредита в срок, как и лица без детей. С ростом количества детей доля людей, имеющих проблемы с возвратом кредита в срок увеличивается, за исключением клиентов с 3 детьми - они имеют наименьший показатель среди лиц с детьми в целом. \n",
    "\n",
    "Сделать однозначный вывод о зависимости факта возврата кредита в срок от ежемесячного дохода затруднительно из-за несбалансированной выборки. Возможно, для анализа этого фактора стоит пересмотреть границы категорий. Однако, можно заметить, что из двух наиболее крупных категорий категория с большим доходом имеет меньшую долю невозврата кредита в срок, чем категория с меньшим доходом.\n",
    "\n",
    "Также кредиты, полученные на свадьбу и недвижимость, чаще возвращают в срок, чем на автомобили и образование. Это может быть связано с тем, что кредит на свадьбу и покупку недвижмости чаще выплачивают люди в браке, зачастую имеющие больше одного источников дохода.\n",
    "\n",
    "Рекомендуется проконсультироваться с разработчиками банковской системы для выявления причин возникновения пропущенных значений в данных, а также ввести валидацию данных чтобы исключить ошибки по причине человеческого фактора. В дальнейшем это позволит оперировать более объективными данными при анализе и повысит точность результатов. \n"
   ]
  }
 ],
 "metadata": {
  "ExecuteTimeLog": [
   {
    "duration": 481,
    "start_time": "2023-03-18T17:51:53.798Z"
   },
   {
    "duration": 24,
    "start_time": "2023-03-18T17:51:57.120Z"
   },
   {
    "duration": 24,
    "start_time": "2023-03-18T17:52:00.501Z"
   },
   {
    "duration": 15,
    "start_time": "2023-03-18T17:52:02.968Z"
   },
   {
    "duration": 55,
    "start_time": "2023-03-18T17:52:06.062Z"
   },
   {
    "duration": 3,
    "start_time": "2023-03-18T17:52:08.942Z"
   },
   {
    "duration": 9,
    "start_time": "2023-03-18T17:52:10.959Z"
   },
   {
    "duration": 5,
    "start_time": "2023-03-18T17:52:13.517Z"
   },
   {
    "duration": 13,
    "start_time": "2023-03-18T17:52:16.204Z"
   },
   {
    "duration": 8,
    "start_time": "2023-03-18T17:52:18.501Z"
   },
   {
    "duration": 35,
    "start_time": "2023-03-18T17:52:21.205Z"
   },
   {
    "duration": 17,
    "start_time": "2023-03-18T17:52:23.710Z"
   },
   {
    "duration": 14,
    "start_time": "2023-03-18T17:52:28.727Z"
   },
   {
    "duration": 19,
    "start_time": "2023-03-18T17:52:31.697Z"
   },
   {
    "duration": 22,
    "start_time": "2023-03-18T17:52:33.709Z"
   },
   {
    "duration": 25,
    "start_time": "2023-03-18T17:52:34.959Z"
   },
   {
    "duration": 10,
    "start_time": "2023-03-18T17:52:36.750Z"
   },
   {
    "duration": 17,
    "start_time": "2023-03-18T17:52:48.898Z"
   },
   {
    "duration": 6,
    "start_time": "2023-03-18T17:52:52.001Z"
   },
   {
    "duration": 4,
    "start_time": "2023-03-18T17:53:00.987Z"
   },
   {
    "duration": 16,
    "start_time": "2023-03-18T17:53:03.748Z"
   },
   {
    "duration": 16,
    "start_time": "2023-03-18T19:20:27.754Z"
   },
   {
    "duration": 21,
    "start_time": "2023-03-18T19:22:29.729Z"
   },
   {
    "duration": 6,
    "start_time": "2023-03-18T19:24:45.251Z"
   },
   {
    "duration": 5,
    "start_time": "2023-03-18T19:25:04.589Z"
   },
   {
    "duration": 118,
    "start_time": "2023-03-18T19:26:13.710Z"
   },
   {
    "duration": 16,
    "start_time": "2023-03-18T19:26:13.830Z"
   },
   {
    "duration": 23,
    "start_time": "2023-03-18T19:26:13.850Z"
   },
   {
    "duration": 25,
    "start_time": "2023-03-18T19:26:13.875Z"
   },
   {
    "duration": 58,
    "start_time": "2023-03-18T19:26:13.904Z"
   },
   {
    "duration": 23,
    "start_time": "2023-03-18T19:26:13.965Z"
   },
   {
    "duration": 22,
    "start_time": "2023-03-18T19:26:13.991Z"
   },
   {
    "duration": 7,
    "start_time": "2023-03-18T19:26:14.015Z"
   },
   {
    "duration": 10,
    "start_time": "2023-03-18T19:26:14.024Z"
   },
   {
    "duration": 7,
    "start_time": "2023-03-18T19:26:14.036Z"
   },
   {
    "duration": 71,
    "start_time": "2023-03-18T19:26:14.045Z"
   },
   {
    "duration": 18,
    "start_time": "2023-03-18T19:26:14.117Z"
   },
   {
    "duration": 11,
    "start_time": "2023-03-18T19:26:14.137Z"
   },
   {
    "duration": 12,
    "start_time": "2023-03-18T19:26:14.152Z"
   },
   {
    "duration": 38,
    "start_time": "2023-03-18T19:26:14.166Z"
   },
   {
    "duration": 19,
    "start_time": "2023-03-18T19:26:14.206Z"
   },
   {
    "duration": 4,
    "start_time": "2023-03-18T19:26:14.227Z"
   },
   {
    "duration": 13,
    "start_time": "2023-03-18T19:26:14.233Z"
   },
   {
    "duration": 45,
    "start_time": "2023-03-18T19:26:14.248Z"
   },
   {
    "duration": 4,
    "start_time": "2023-03-18T19:26:14.295Z"
   },
   {
    "duration": 15,
    "start_time": "2023-03-18T19:26:14.301Z"
   },
   {
    "duration": 6,
    "start_time": "2023-03-18T19:26:16.466Z"
   },
   {
    "duration": 14,
    "start_time": "2023-03-18T19:27:01.444Z"
   },
   {
    "duration": 37,
    "start_time": "2023-03-18T19:28:44.853Z"
   },
   {
    "duration": 8,
    "start_time": "2023-03-18T19:29:36.474Z"
   },
   {
    "duration": 9,
    "start_time": "2023-03-18T19:29:46.692Z"
   },
   {
    "duration": 9,
    "start_time": "2023-03-18T19:31:21.473Z"
   },
   {
    "duration": 607,
    "start_time": "2023-03-20T18:46:48.172Z"
   },
   {
    "duration": 32,
    "start_time": "2023-03-20T18:46:48.781Z"
   },
   {
    "duration": 22,
    "start_time": "2023-03-20T18:46:48.814Z"
   },
   {
    "duration": 11,
    "start_time": "2023-03-20T18:46:48.838Z"
   },
   {
    "duration": 64,
    "start_time": "2023-03-20T18:46:48.850Z"
   },
   {
    "duration": 4,
    "start_time": "2023-03-20T18:46:48.915Z"
   },
   {
    "duration": 9,
    "start_time": "2023-03-20T18:46:48.921Z"
   },
   {
    "duration": 5,
    "start_time": "2023-03-20T18:46:48.932Z"
   },
   {
    "duration": 9,
    "start_time": "2023-03-20T18:46:48.940Z"
   },
   {
    "duration": 8,
    "start_time": "2023-03-20T18:46:48.952Z"
   },
   {
    "duration": 58,
    "start_time": "2023-03-20T18:46:48.990Z"
   },
   {
    "duration": 11,
    "start_time": "2023-03-20T18:46:49.051Z"
   },
   {
    "duration": 4,
    "start_time": "2023-03-20T18:46:49.064Z"
   },
   {
    "duration": 18,
    "start_time": "2023-03-20T18:46:49.090Z"
   },
   {
    "duration": 30,
    "start_time": "2023-03-20T18:46:49.110Z"
   },
   {
    "duration": 24,
    "start_time": "2023-03-20T18:46:49.142Z"
   },
   {
    "duration": 21,
    "start_time": "2023-03-20T18:46:49.168Z"
   },
   {
    "duration": 12,
    "start_time": "2023-03-20T18:46:49.191Z"
   },
   {
    "duration": 7,
    "start_time": "2023-03-20T18:46:49.205Z"
   },
   {
    "duration": 3,
    "start_time": "2023-03-20T18:46:49.214Z"
   },
   {
    "duration": 14,
    "start_time": "2023-03-20T18:46:49.219Z"
   },
   {
    "duration": 68,
    "start_time": "2023-03-20T18:47:26.014Z"
   },
   {
    "duration": 11,
    "start_time": "2023-03-20T18:47:40.147Z"
   },
   {
    "duration": 8,
    "start_time": "2023-03-20T18:47:43.614Z"
   },
   {
    "duration": 8,
    "start_time": "2023-03-20T18:47:45.918Z"
   },
   {
    "duration": 11,
    "start_time": "2023-03-20T18:47:47.860Z"
   },
   {
    "duration": 7,
    "start_time": "2023-03-20T18:48:04.870Z"
   },
   {
    "duration": 7,
    "start_time": "2023-03-20T18:57:15.964Z"
   },
   {
    "duration": 3,
    "start_time": "2023-03-20T18:57:23.111Z"
   },
   {
    "duration": 8,
    "start_time": "2023-03-20T18:57:50.625Z"
   },
   {
    "duration": 7,
    "start_time": "2023-03-20T18:59:16.142Z"
   },
   {
    "duration": 9,
    "start_time": "2023-03-20T19:09:26.521Z"
   },
   {
    "duration": 9,
    "start_time": "2023-03-20T19:09:47.813Z"
   },
   {
    "duration": 8,
    "start_time": "2023-03-20T19:10:51.829Z"
   },
   {
    "duration": 7,
    "start_time": "2023-03-20T19:19:46.552Z"
   },
   {
    "duration": 7,
    "start_time": "2023-03-20T19:20:06.293Z"
   },
   {
    "duration": 7,
    "start_time": "2023-03-20T19:20:23.047Z"
   },
   {
    "duration": 7,
    "start_time": "2023-03-20T19:22:54.791Z"
   },
   {
    "duration": 11,
    "start_time": "2023-03-20T19:33:46.690Z"
   },
   {
    "duration": 8,
    "start_time": "2023-03-20T19:33:48.465Z"
   },
   {
    "duration": 9,
    "start_time": "2023-03-20T19:33:51.051Z"
   },
   {
    "duration": 80,
    "start_time": "2023-03-20T20:36:23.247Z"
   },
   {
    "duration": 17,
    "start_time": "2023-03-20T20:36:23.329Z"
   },
   {
    "duration": 63,
    "start_time": "2023-03-20T20:36:23.348Z"
   },
   {
    "duration": 34,
    "start_time": "2023-03-20T20:36:23.414Z"
   },
   {
    "duration": 87,
    "start_time": "2023-03-20T20:36:23.450Z"
   },
   {
    "duration": 4,
    "start_time": "2023-03-20T20:36:23.539Z"
   },
   {
    "duration": 55,
    "start_time": "2023-03-20T20:36:23.545Z"
   },
   {
    "duration": 19,
    "start_time": "2023-03-20T20:36:23.602Z"
   },
   {
    "duration": 37,
    "start_time": "2023-03-20T20:36:23.623Z"
   },
   {
    "duration": 33,
    "start_time": "2023-03-20T20:36:23.663Z"
   },
   {
    "duration": 63,
    "start_time": "2023-03-20T20:36:23.703Z"
   },
   {
    "duration": 10,
    "start_time": "2023-03-20T20:36:23.768Z"
   },
   {
    "duration": 24,
    "start_time": "2023-03-20T20:36:23.780Z"
   },
   {
    "duration": 48,
    "start_time": "2023-03-20T20:36:23.806Z"
   },
   {
    "duration": 47,
    "start_time": "2023-03-20T20:36:23.856Z"
   },
   {
    "duration": 38,
    "start_time": "2023-03-20T20:36:23.904Z"
   },
   {
    "duration": 12,
    "start_time": "2023-03-20T20:36:23.944Z"
   },
   {
    "duration": 48,
    "start_time": "2023-03-20T20:36:23.957Z"
   },
   {
    "duration": 35,
    "start_time": "2023-03-20T20:36:24.007Z"
   },
   {
    "duration": 20,
    "start_time": "2023-03-20T20:36:24.044Z"
   },
   {
    "duration": 57,
    "start_time": "2023-03-20T20:36:24.066Z"
   },
   {
    "duration": 49,
    "start_time": "2023-03-20T20:36:24.125Z"
   },
   {
    "duration": 28,
    "start_time": "2023-03-20T20:36:24.176Z"
   },
   {
    "duration": 14,
    "start_time": "2023-03-20T20:36:24.205Z"
   },
   {
    "duration": 15,
    "start_time": "2023-03-20T20:36:24.220Z"
   },
   {
    "duration": 38,
    "start_time": "2023-03-20T20:36:24.237Z"
   },
   {
    "duration": 40,
    "start_time": "2023-03-20T20:36:24.276Z"
   },
   {
    "duration": 35,
    "start_time": "2023-03-20T20:36:24.318Z"
   },
   {
    "duration": 79,
    "start_time": "2023-03-20T20:36:24.355Z"
   },
   {
    "duration": 21,
    "start_time": "2023-03-20T20:36:24.435Z"
   },
   {
    "duration": 44,
    "start_time": "2023-03-20T20:36:24.457Z"
   },
   {
    "duration": 48,
    "start_time": "2023-03-20T20:36:24.503Z"
   },
   {
    "duration": 54,
    "start_time": "2023-03-20T20:36:24.553Z"
   },
   {
    "duration": 529,
    "start_time": "2023-03-21T07:53:28.262Z"
   },
   {
    "duration": 23,
    "start_time": "2023-03-21T07:53:28.793Z"
   },
   {
    "duration": 41,
    "start_time": "2023-03-21T07:53:28.817Z"
   },
   {
    "duration": 69,
    "start_time": "2023-03-21T07:53:28.861Z"
   },
   {
    "duration": 73,
    "start_time": "2023-03-21T07:53:28.933Z"
   },
   {
    "duration": 8,
    "start_time": "2023-03-21T07:53:29.008Z"
   },
   {
    "duration": 45,
    "start_time": "2023-03-21T07:53:29.018Z"
   },
   {
    "duration": 43,
    "start_time": "2023-03-21T07:53:29.064Z"
   },
   {
    "duration": 81,
    "start_time": "2023-03-21T07:53:29.108Z"
   },
   {
    "duration": 42,
    "start_time": "2023-03-21T07:53:29.191Z"
   },
   {
    "duration": 69,
    "start_time": "2023-03-21T07:53:29.235Z"
   },
   {
    "duration": 15,
    "start_time": "2023-03-21T07:53:29.306Z"
   },
   {
    "duration": 58,
    "start_time": "2023-03-21T07:53:29.323Z"
   },
   {
    "duration": 34,
    "start_time": "2023-03-21T07:53:29.383Z"
   },
   {
    "duration": 74,
    "start_time": "2023-03-21T07:53:29.419Z"
   },
   {
    "duration": 18,
    "start_time": "2023-03-21T07:53:29.494Z"
   },
   {
    "duration": 5,
    "start_time": "2023-03-21T07:53:29.514Z"
   },
   {
    "duration": 15,
    "start_time": "2023-03-21T07:53:29.520Z"
   },
   {
    "duration": 6,
    "start_time": "2023-03-21T07:53:29.536Z"
   },
   {
    "duration": 13,
    "start_time": "2023-03-21T07:53:29.543Z"
   },
   {
    "duration": 16,
    "start_time": "2023-03-21T07:53:29.558Z"
   },
   {
    "duration": 17,
    "start_time": "2023-03-21T07:53:29.575Z"
   },
   {
    "duration": 7,
    "start_time": "2023-03-21T07:53:29.593Z"
   },
   {
    "duration": 9,
    "start_time": "2023-03-21T07:53:29.602Z"
   },
   {
    "duration": 13,
    "start_time": "2023-03-21T07:53:29.612Z"
   },
   {
    "duration": 7,
    "start_time": "2023-03-21T07:53:29.626Z"
   },
   {
    "duration": 9,
    "start_time": "2023-03-21T07:53:29.634Z"
   },
   {
    "duration": 42,
    "start_time": "2023-03-21T07:53:29.647Z"
   },
   {
    "duration": 7,
    "start_time": "2023-03-21T07:53:29.691Z"
   },
   {
    "duration": 8,
    "start_time": "2023-03-21T07:53:29.699Z"
   },
   {
    "duration": 10,
    "start_time": "2023-03-21T07:53:29.708Z"
   },
   {
    "duration": 9,
    "start_time": "2023-03-21T07:53:29.720Z"
   },
   {
    "duration": 8,
    "start_time": "2023-03-21T07:53:29.730Z"
   },
   {
    "duration": 57,
    "start_time": "2023-03-21T13:18:20.986Z"
   },
   {
    "duration": 65,
    "start_time": "2023-03-21T13:18:58.105Z"
   },
   {
    "duration": 56,
    "start_time": "2023-03-21T13:25:42.935Z"
   },
   {
    "duration": 766,
    "start_time": "2023-03-21T13:25:50.547Z"
   },
   {
    "duration": 23,
    "start_time": "2023-03-21T13:25:51.315Z"
   },
   {
    "duration": 17,
    "start_time": "2023-03-21T13:25:51.340Z"
   },
   {
    "duration": 12,
    "start_time": "2023-03-21T13:25:51.367Z"
   },
   {
    "duration": 37,
    "start_time": "2023-03-21T13:25:51.380Z"
   },
   {
    "duration": 4,
    "start_time": "2023-03-21T13:25:51.419Z"
   },
   {
    "duration": 22,
    "start_time": "2023-03-21T13:25:51.425Z"
   },
   {
    "duration": 35,
    "start_time": "2023-03-21T13:25:51.448Z"
   },
   {
    "duration": 23,
    "start_time": "2023-03-21T13:25:51.485Z"
   },
   {
    "duration": 20,
    "start_time": "2023-03-21T13:25:51.510Z"
   },
   {
    "duration": 57,
    "start_time": "2023-03-21T13:25:51.531Z"
   },
   {
    "duration": 10,
    "start_time": "2023-03-21T13:25:51.590Z"
   },
   {
    "duration": 13,
    "start_time": "2023-03-21T13:25:51.602Z"
   },
   {
    "duration": 15,
    "start_time": "2023-03-21T13:25:51.616Z"
   },
   {
    "duration": 39,
    "start_time": "2023-03-21T13:25:51.632Z"
   },
   {
    "duration": 19,
    "start_time": "2023-03-21T13:25:51.673Z"
   },
   {
    "duration": 3,
    "start_time": "2023-03-21T13:25:51.694Z"
   },
   {
    "duration": 18,
    "start_time": "2023-03-21T13:25:51.699Z"
   },
   {
    "duration": 6,
    "start_time": "2023-03-21T13:25:51.719Z"
   },
   {
    "duration": 11,
    "start_time": "2023-03-21T13:25:51.727Z"
   },
   {
    "duration": 42,
    "start_time": "2023-03-21T13:25:51.739Z"
   },
   {
    "duration": 9,
    "start_time": "2023-03-21T13:25:51.783Z"
   },
   {
    "duration": 23,
    "start_time": "2023-03-21T13:25:51.794Z"
   },
   {
    "duration": 16,
    "start_time": "2023-03-21T13:25:51.819Z"
   },
   {
    "duration": 12,
    "start_time": "2023-03-21T13:25:51.837Z"
   },
   {
    "duration": 20,
    "start_time": "2023-03-21T13:25:51.850Z"
   },
   {
    "duration": 35,
    "start_time": "2023-03-21T13:25:51.872Z"
   },
   {
    "duration": 7,
    "start_time": "2023-03-21T13:25:51.910Z"
   },
   {
    "duration": 24,
    "start_time": "2023-03-21T13:25:51.919Z"
   },
   {
    "duration": 13,
    "start_time": "2023-03-21T13:25:51.944Z"
   },
   {
    "duration": 16,
    "start_time": "2023-03-21T13:25:51.966Z"
   },
   {
    "duration": 7,
    "start_time": "2023-03-21T13:25:51.984Z"
   },
   {
    "duration": 14,
    "start_time": "2023-03-21T13:25:51.993Z"
   },
   {
    "duration": 5,
    "start_time": "2023-03-21T13:25:54.318Z"
   },
   {
    "duration": 99,
    "start_time": "2023-03-21T13:38:01.287Z"
   },
   {
    "duration": 22,
    "start_time": "2023-03-21T14:00:05.126Z"
   },
   {
    "duration": 46,
    "start_time": "2023-03-21T14:06:42.194Z"
   },
   {
    "duration": 57,
    "start_time": "2023-03-21T14:06:47.276Z"
   },
   {
    "duration": 15,
    "start_time": "2023-03-21T14:06:58.633Z"
   },
   {
    "duration": 21,
    "start_time": "2023-03-21T14:11:10.139Z"
   },
   {
    "duration": 15,
    "start_time": "2023-03-21T14:11:19.732Z"
   },
   {
    "duration": 12,
    "start_time": "2023-03-21T14:11:42.795Z"
   },
   {
    "duration": 23,
    "start_time": "2023-03-21T14:11:58.533Z"
   },
   {
    "duration": 27,
    "start_time": "2023-03-21T14:13:18.094Z"
   },
   {
    "duration": 32,
    "start_time": "2023-03-21T14:17:43.979Z"
   },
   {
    "duration": 491,
    "start_time": "2023-03-21T14:20:10.251Z"
   },
   {
    "duration": 29,
    "start_time": "2023-03-21T14:22:04.692Z"
   },
   {
    "duration": 56,
    "start_time": "2023-03-21T14:23:30.124Z"
   },
   {
    "duration": 91,
    "start_time": "2023-03-21T14:29:35.120Z"
   },
   {
    "duration": 105,
    "start_time": "2023-03-21T14:41:16.723Z"
   },
   {
    "duration": 60,
    "start_time": "2023-03-21T14:41:50.112Z"
   },
   {
    "duration": 65,
    "start_time": "2023-03-21T14:42:24.709Z"
   },
   {
    "duration": 64,
    "start_time": "2023-03-21T15:13:15.475Z"
   },
   {
    "duration": 74,
    "start_time": "2023-03-21T15:18:30.572Z"
   },
   {
    "duration": 28,
    "start_time": "2023-03-21T15:18:30.648Z"
   },
   {
    "duration": 47,
    "start_time": "2023-03-21T15:18:30.679Z"
   },
   {
    "duration": 59,
    "start_time": "2023-03-21T15:18:30.727Z"
   },
   {
    "duration": 67,
    "start_time": "2023-03-21T15:18:30.788Z"
   },
   {
    "duration": 21,
    "start_time": "2023-03-21T15:18:30.857Z"
   },
   {
    "duration": 38,
    "start_time": "2023-03-21T15:18:30.880Z"
   },
   {
    "duration": 29,
    "start_time": "2023-03-21T15:18:30.920Z"
   },
   {
    "duration": 58,
    "start_time": "2023-03-21T15:18:30.951Z"
   },
   {
    "duration": 29,
    "start_time": "2023-03-21T15:18:31.011Z"
   },
   {
    "duration": 66,
    "start_time": "2023-03-21T15:18:31.042Z"
   },
   {
    "duration": 12,
    "start_time": "2023-03-21T15:18:31.110Z"
   },
   {
    "duration": 22,
    "start_time": "2023-03-21T15:18:31.123Z"
   },
   {
    "duration": 38,
    "start_time": "2023-03-21T15:18:31.148Z"
   },
   {
    "duration": 44,
    "start_time": "2023-03-21T15:18:31.188Z"
   },
   {
    "duration": 18,
    "start_time": "2023-03-21T15:18:31.234Z"
   },
   {
    "duration": 32,
    "start_time": "2023-03-21T15:18:31.254Z"
   },
   {
    "duration": 23,
    "start_time": "2023-03-21T15:18:31.287Z"
   },
   {
    "duration": 19,
    "start_time": "2023-03-21T15:18:31.312Z"
   },
   {
    "duration": 28,
    "start_time": "2023-03-21T15:18:31.333Z"
   },
   {
    "duration": 37,
    "start_time": "2023-03-21T15:18:31.366Z"
   },
   {
    "duration": 20,
    "start_time": "2023-03-21T15:18:31.405Z"
   },
   {
    "duration": 13,
    "start_time": "2023-03-21T15:18:31.427Z"
   },
   {
    "duration": 15,
    "start_time": "2023-03-21T15:18:31.442Z"
   },
   {
    "duration": 53,
    "start_time": "2023-03-21T15:18:31.462Z"
   },
   {
    "duration": 9,
    "start_time": "2023-03-21T15:18:31.516Z"
   },
   {
    "duration": 12,
    "start_time": "2023-03-21T15:18:31.526Z"
   },
   {
    "duration": 13,
    "start_time": "2023-03-21T15:18:31.540Z"
   },
   {
    "duration": 52,
    "start_time": "2023-03-21T15:18:31.555Z"
   },
   {
    "duration": 9,
    "start_time": "2023-03-21T15:18:31.609Z"
   },
   {
    "duration": 23,
    "start_time": "2023-03-21T15:18:31.620Z"
   },
   {
    "duration": 44,
    "start_time": "2023-03-21T15:18:31.644Z"
   },
   {
    "duration": 0,
    "start_time": "2023-03-21T15:18:31.689Z"
   },
   {
    "duration": 0,
    "start_time": "2023-03-21T15:18:31.691Z"
   },
   {
    "duration": 0,
    "start_time": "2023-03-21T15:18:31.692Z"
   },
   {
    "duration": 0,
    "start_time": "2023-03-21T15:18:31.693Z"
   },
   {
    "duration": 0,
    "start_time": "2023-03-21T15:18:31.694Z"
   },
   {
    "duration": 0,
    "start_time": "2023-03-21T15:18:31.695Z"
   },
   {
    "duration": 17,
    "start_time": "2023-03-21T15:18:51.050Z"
   },
   {
    "duration": 83,
    "start_time": "2023-03-21T15:19:19.116Z"
   },
   {
    "duration": 16,
    "start_time": "2023-03-21T15:19:19.201Z"
   },
   {
    "duration": 40,
    "start_time": "2023-03-21T15:19:19.219Z"
   },
   {
    "duration": 12,
    "start_time": "2023-03-21T15:19:19.270Z"
   },
   {
    "duration": 40,
    "start_time": "2023-03-21T15:19:19.284Z"
   },
   {
    "duration": 4,
    "start_time": "2023-03-21T15:19:19.326Z"
   },
   {
    "duration": 34,
    "start_time": "2023-03-21T15:19:19.332Z"
   },
   {
    "duration": 39,
    "start_time": "2023-03-21T15:19:19.369Z"
   },
   {
    "duration": 17,
    "start_time": "2023-03-21T15:19:19.410Z"
   },
   {
    "duration": 8,
    "start_time": "2023-03-21T15:19:19.430Z"
   },
   {
    "duration": 49,
    "start_time": "2023-03-21T15:19:19.440Z"
   },
   {
    "duration": 12,
    "start_time": "2023-03-21T15:19:19.491Z"
   },
   {
    "duration": 7,
    "start_time": "2023-03-21T15:19:19.505Z"
   },
   {
    "duration": 18,
    "start_time": "2023-03-21T15:19:19.514Z"
   },
   {
    "duration": 44,
    "start_time": "2023-03-21T15:19:19.534Z"
   },
   {
    "duration": 17,
    "start_time": "2023-03-21T15:19:19.580Z"
   },
   {
    "duration": 3,
    "start_time": "2023-03-21T15:19:19.599Z"
   },
   {
    "duration": 15,
    "start_time": "2023-03-21T15:19:19.604Z"
   },
   {
    "duration": 13,
    "start_time": "2023-03-21T15:19:19.620Z"
   },
   {
    "duration": 28,
    "start_time": "2023-03-21T15:19:19.635Z"
   },
   {
    "duration": 13,
    "start_time": "2023-03-21T15:19:19.670Z"
   },
   {
    "duration": 16,
    "start_time": "2023-03-21T15:19:19.684Z"
   },
   {
    "duration": 11,
    "start_time": "2023-03-21T15:19:19.702Z"
   },
   {
    "duration": 12,
    "start_time": "2023-03-21T15:19:19.714Z"
   },
   {
    "duration": 35,
    "start_time": "2023-03-21T15:19:19.727Z"
   },
   {
    "duration": 11,
    "start_time": "2023-03-21T15:19:19.766Z"
   },
   {
    "duration": 12,
    "start_time": "2023-03-21T15:19:19.779Z"
   },
   {
    "duration": 14,
    "start_time": "2023-03-21T15:19:19.794Z"
   },
   {
    "duration": 38,
    "start_time": "2023-03-21T15:19:19.809Z"
   },
   {
    "duration": 17,
    "start_time": "2023-03-21T15:19:19.849Z"
   },
   {
    "duration": 19,
    "start_time": "2023-03-21T15:19:19.868Z"
   },
   {
    "duration": 9,
    "start_time": "2023-03-21T15:19:19.889Z"
   },
   {
    "duration": 29,
    "start_time": "2023-03-21T15:19:19.900Z"
   },
   {
    "duration": 27,
    "start_time": "2023-03-21T15:19:19.931Z"
   },
   {
    "duration": 9,
    "start_time": "2023-03-21T15:19:19.967Z"
   },
   {
    "duration": 11,
    "start_time": "2023-03-21T15:19:19.978Z"
   },
   {
    "duration": 32,
    "start_time": "2023-03-21T15:19:19.990Z"
   },
   {
    "duration": 6,
    "start_time": "2023-03-21T15:19:20.024Z"
   },
   {
    "duration": 514,
    "start_time": "2023-03-21T18:22:48.152Z"
   },
   {
    "duration": 25,
    "start_time": "2023-03-21T18:22:48.668Z"
   },
   {
    "duration": 21,
    "start_time": "2023-03-21T18:22:48.695Z"
   },
   {
    "duration": 14,
    "start_time": "2023-03-21T18:22:48.719Z"
   },
   {
    "duration": 76,
    "start_time": "2023-03-21T18:22:48.735Z"
   },
   {
    "duration": 4,
    "start_time": "2023-03-21T18:22:48.813Z"
   },
   {
    "duration": 13,
    "start_time": "2023-03-21T18:22:48.819Z"
   },
   {
    "duration": 6,
    "start_time": "2023-03-21T18:22:48.834Z"
   },
   {
    "duration": 9,
    "start_time": "2023-03-21T18:22:48.842Z"
   },
   {
    "duration": 6,
    "start_time": "2023-03-21T18:22:48.874Z"
   },
   {
    "duration": 40,
    "start_time": "2023-03-21T18:22:48.882Z"
   },
   {
    "duration": 10,
    "start_time": "2023-03-21T18:22:48.924Z"
   },
   {
    "duration": 5,
    "start_time": "2023-03-21T18:22:48.936Z"
   },
   {
    "duration": 36,
    "start_time": "2023-03-21T18:22:48.942Z"
   },
   {
    "duration": 37,
    "start_time": "2023-03-21T18:22:48.981Z"
   },
   {
    "duration": 19,
    "start_time": "2023-03-21T18:22:49.019Z"
   },
   {
    "duration": 6,
    "start_time": "2023-03-21T18:22:49.040Z"
   },
   {
    "duration": 39,
    "start_time": "2023-03-21T18:22:49.048Z"
   },
   {
    "duration": 8,
    "start_time": "2023-03-21T18:22:49.090Z"
   },
   {
    "duration": 11,
    "start_time": "2023-03-21T18:22:49.099Z"
   },
   {
    "duration": 17,
    "start_time": "2023-03-21T18:22:49.112Z"
   },
   {
    "duration": 7,
    "start_time": "2023-03-21T18:22:49.131Z"
   },
   {
    "duration": 34,
    "start_time": "2023-03-21T18:22:49.140Z"
   },
   {
    "duration": 8,
    "start_time": "2023-03-21T18:22:49.177Z"
   },
   {
    "duration": 50,
    "start_time": "2023-03-21T18:22:49.189Z"
   },
   {
    "duration": 11,
    "start_time": "2023-03-21T18:22:49.241Z"
   },
   {
    "duration": 27,
    "start_time": "2023-03-21T18:22:49.254Z"
   },
   {
    "duration": 11,
    "start_time": "2023-03-21T18:22:49.285Z"
   },
   {
    "duration": 46,
    "start_time": "2023-03-21T18:22:49.298Z"
   },
   {
    "duration": 9,
    "start_time": "2023-03-21T18:22:49.375Z"
   },
   {
    "duration": 9,
    "start_time": "2023-03-21T18:22:49.386Z"
   },
   {
    "duration": 8,
    "start_time": "2023-03-21T18:22:49.397Z"
   },
   {
    "duration": 35,
    "start_time": "2023-03-21T18:22:49.407Z"
   },
   {
    "duration": 11,
    "start_time": "2023-03-21T18:22:49.475Z"
   },
   {
    "duration": 16,
    "start_time": "2023-03-21T18:22:49.488Z"
   },
   {
    "duration": 10,
    "start_time": "2023-03-21T18:22:49.506Z"
   },
   {
    "duration": 34,
    "start_time": "2023-03-21T18:22:49.518Z"
   },
   {
    "duration": 6,
    "start_time": "2023-03-21T18:22:49.575Z"
   }
  ],
  "colab": {
   "name": "dpp_template_part2.ipynb",
   "provenance": []
  },
  "kernelspec": {
   "display_name": "Python 3 (ipykernel)",
   "language": "python",
   "name": "python3"
  },
  "language_info": {
   "codemirror_mode": {
    "name": "ipython",
    "version": 3
   },
   "file_extension": ".py",
   "mimetype": "text/x-python",
   "name": "python",
   "nbconvert_exporter": "python",
   "pygments_lexer": "ipython3",
   "version": "3.9.5"
  },
  "toc": {
   "base_numbering": 1,
   "nav_menu": {},
   "number_sections": true,
   "sideBar": true,
   "skip_h1_title": true,
   "title_cell": "Table of Contents",
   "title_sidebar": "Contents",
   "toc_cell": false,
   "toc_position": {},
   "toc_section_display": true,
   "toc_window_display": false
  }
 },
 "nbformat": 4,
 "nbformat_minor": 5
}
