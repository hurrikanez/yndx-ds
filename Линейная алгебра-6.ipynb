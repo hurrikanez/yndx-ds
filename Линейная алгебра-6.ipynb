{
 "cells": [
  {
   "cell_type": "markdown",
   "metadata": {
    "toc": true
   },
   "source": [
    "<h1>Содержание<span class=\"tocSkip\"></span></h1>\n",
    "<div class=\"toc\"><ul class=\"toc-item\"><li><span><a href=\"#Загрузка-данных\" data-toc-modified-id=\"Загрузка-данных-1\"><span class=\"toc-item-num\">1&nbsp;&nbsp;</span>Загрузка данных</a></span></li><li><span><a href=\"#Умножение-матриц\" data-toc-modified-id=\"Умножение-матриц-2\"><span class=\"toc-item-num\">2&nbsp;&nbsp;</span>Умножение матриц</a></span></li><li><span><a href=\"#Алгоритм-преобразования\" data-toc-modified-id=\"Алгоритм-преобразования-3\"><span class=\"toc-item-num\">3&nbsp;&nbsp;</span>Алгоритм преобразования</a></span></li><li><span><a href=\"#Проверка-алгоритма\" data-toc-modified-id=\"Проверка-алгоритма-4\"><span class=\"toc-item-num\">4&nbsp;&nbsp;</span>Проверка алгоритма</a></span></li><li><span><a href=\"#Чек-лист-проверки\" data-toc-modified-id=\"Чек-лист-проверки-5\"><span class=\"toc-item-num\">5&nbsp;&nbsp;</span>Чек-лист проверки</a></span></li></ul></div>"
   ]
  },
  {
   "cell_type": "markdown",
   "metadata": {},
   "source": [
    "# Защита персональных данных клиентов"
   ]
  },
  {
   "cell_type": "markdown",
   "metadata": {},
   "source": [
    "Для обеспечения безопасности данных клиентов страховой компании необходимо разработать метод шифрования, который обеспечит сложность восстановления персональной информации. Предложенный метод должен быть обоснован по своей корректности и эффективности.\n",
    "\n",
    "Нужно защитить данные, чтобы при преобразовании качество моделей машинного обучения не ухудшилось. Подбирать наилучшую модель не требуется."
   ]
  },
  {
   "cell_type": "markdown",
   "metadata": {},
   "source": [
    "**Инструкция по выполнению проекта**\n",
    "1. Загрузите и изучите данные.\n",
    "2. Ответьте на вопрос и обоснуйте решение: \n",
    "Признаки умножают на обратимую матрицу. Изменится ли качество линейной регрессии? (Её можно обучить заново.)<br>\n",
    "    a. Изменится. Приведите примеры матриц.<br>\n",
    "    b. Не изменится. Укажите, как связаны параметры линейной регрессии в исходной задаче и в преобразованной.<br>\n",
    "3. Предложите алгоритм преобразования данных для решения задачи. Обоснуйте, почему качество линейной регрессии не поменяется.\n",
    "4. Запрограммируйте этот алгоритм, применив матричные операции. Проверьте, что качество линейной регрессии из sklearn не отличается до и после преобразования. Примените метрику R2.\n",
    "\n",
    "**Описание данных**\n",
    "* Признаки: пол, возраст и зарплата застрахованного, количество членов его семьи.\n",
    "* Целевой признак: количество страховых выплат клиенту за последние 5 лет."
   ]
  },
  {
   "cell_type": "markdown",
   "metadata": {},
   "source": [
    "## Загрузка данных"
   ]
  },
  {
   "cell_type": "code",
   "execution_count": 1,
   "metadata": {},
   "outputs": [],
   "source": [
    "import numpy as np\n",
    "import pandas as pd\n",
    "from sklearn.linear_model import LinearRegression\n",
    "from sklearn.metrics import r2_score\n",
    "from sklearn.model_selection import train_test_split"
   ]
  },
  {
   "cell_type": "code",
   "execution_count": 2,
   "metadata": {},
   "outputs": [],
   "source": [
    "df = pd.read_csv('/datasets/insurance.csv')"
   ]
  },
  {
   "cell_type": "code",
   "execution_count": 3,
   "metadata": {},
   "outputs": [
    {
     "data": {
      "text/html": [
       "<div>\n",
       "<style scoped>\n",
       "    .dataframe tbody tr th:only-of-type {\n",
       "        vertical-align: middle;\n",
       "    }\n",
       "\n",
       "    .dataframe tbody tr th {\n",
       "        vertical-align: top;\n",
       "    }\n",
       "\n",
       "    .dataframe thead th {\n",
       "        text-align: right;\n",
       "    }\n",
       "</style>\n",
       "<table border=\"1\" class=\"dataframe\">\n",
       "  <thead>\n",
       "    <tr style=\"text-align: right;\">\n",
       "      <th></th>\n",
       "      <th>Пол</th>\n",
       "      <th>Возраст</th>\n",
       "      <th>Зарплата</th>\n",
       "      <th>Члены семьи</th>\n",
       "      <th>Страховые выплаты</th>\n",
       "    </tr>\n",
       "  </thead>\n",
       "  <tbody>\n",
       "    <tr>\n",
       "      <th>0</th>\n",
       "      <td>1</td>\n",
       "      <td>41.0</td>\n",
       "      <td>49600.0</td>\n",
       "      <td>1</td>\n",
       "      <td>0</td>\n",
       "    </tr>\n",
       "    <tr>\n",
       "      <th>1</th>\n",
       "      <td>0</td>\n",
       "      <td>46.0</td>\n",
       "      <td>38000.0</td>\n",
       "      <td>1</td>\n",
       "      <td>1</td>\n",
       "    </tr>\n",
       "    <tr>\n",
       "      <th>2</th>\n",
       "      <td>0</td>\n",
       "      <td>29.0</td>\n",
       "      <td>21000.0</td>\n",
       "      <td>0</td>\n",
       "      <td>0</td>\n",
       "    </tr>\n",
       "    <tr>\n",
       "      <th>3</th>\n",
       "      <td>0</td>\n",
       "      <td>21.0</td>\n",
       "      <td>41700.0</td>\n",
       "      <td>2</td>\n",
       "      <td>0</td>\n",
       "    </tr>\n",
       "    <tr>\n",
       "      <th>4</th>\n",
       "      <td>1</td>\n",
       "      <td>28.0</td>\n",
       "      <td>26100.0</td>\n",
       "      <td>0</td>\n",
       "      <td>0</td>\n",
       "    </tr>\n",
       "  </tbody>\n",
       "</table>\n",
       "</div>"
      ],
      "text/plain": [
       "   Пол  Возраст  Зарплата  Члены семьи  Страховые выплаты\n",
       "0    1     41.0   49600.0            1                  0\n",
       "1    0     46.0   38000.0            1                  1\n",
       "2    0     29.0   21000.0            0                  0\n",
       "3    0     21.0   41700.0            2                  0\n",
       "4    1     28.0   26100.0            0                  0"
      ]
     },
     "execution_count": 3,
     "metadata": {},
     "output_type": "execute_result"
    }
   ],
   "source": [
    "df.head()"
   ]
  },
  {
   "cell_type": "code",
   "execution_count": 4,
   "metadata": {},
   "outputs": [
    {
     "name": "stdout",
     "output_type": "stream",
     "text": [
      "<class 'pandas.core.frame.DataFrame'>\n",
      "RangeIndex: 5000 entries, 0 to 4999\n",
      "Data columns (total 5 columns):\n",
      " #   Column             Non-Null Count  Dtype  \n",
      "---  ------             --------------  -----  \n",
      " 0   Пол                5000 non-null   int64  \n",
      " 1   Возраст            5000 non-null   float64\n",
      " 2   Зарплата           5000 non-null   float64\n",
      " 3   Члены семьи        5000 non-null   int64  \n",
      " 4   Страховые выплаты  5000 non-null   int64  \n",
      "dtypes: float64(2), int64(3)\n",
      "memory usage: 195.4 KB\n"
     ]
    }
   ],
   "source": [
    "df.info()"
   ]
  },
  {
   "cell_type": "code",
   "execution_count": 5,
   "metadata": {},
   "outputs": [
    {
     "data": {
      "text/plain": [
       "153"
      ]
     },
     "execution_count": 5,
     "metadata": {},
     "output_type": "execute_result"
    }
   ],
   "source": [
    "df.duplicated().sum()"
   ]
  },
  {
   "cell_type": "code",
   "execution_count": 6,
   "metadata": {},
   "outputs": [],
   "source": [
    "df = df.drop_duplicates().reset_index(drop=True) "
   ]
  },
  {
   "cell_type": "code",
   "execution_count": 7,
   "metadata": {},
   "outputs": [
    {
     "data": {
      "text/plain": [
       "0"
      ]
     },
     "execution_count": 7,
     "metadata": {},
     "output_type": "execute_result"
    }
   ],
   "source": [
    "df.duplicated().sum()"
   ]
  },
  {
   "cell_type": "code",
   "execution_count": 8,
   "metadata": {},
   "outputs": [
    {
     "data": {
      "text/html": [
       "<div>\n",
       "<style scoped>\n",
       "    .dataframe tbody tr th:only-of-type {\n",
       "        vertical-align: middle;\n",
       "    }\n",
       "\n",
       "    .dataframe tbody tr th {\n",
       "        vertical-align: top;\n",
       "    }\n",
       "\n",
       "    .dataframe thead th {\n",
       "        text-align: right;\n",
       "    }\n",
       "</style>\n",
       "<table border=\"1\" class=\"dataframe\">\n",
       "  <thead>\n",
       "    <tr style=\"text-align: right;\">\n",
       "      <th></th>\n",
       "      <th>Пол</th>\n",
       "      <th>Возраст</th>\n",
       "      <th>Зарплата</th>\n",
       "      <th>Члены семьи</th>\n",
       "      <th>Страховые выплаты</th>\n",
       "    </tr>\n",
       "  </thead>\n",
       "  <tbody>\n",
       "    <tr>\n",
       "      <th>count</th>\n",
       "      <td>4847.000000</td>\n",
       "      <td>4847.000000</td>\n",
       "      <td>4847.000000</td>\n",
       "      <td>4847.000000</td>\n",
       "      <td>4847.000000</td>\n",
       "    </tr>\n",
       "    <tr>\n",
       "      <th>mean</th>\n",
       "      <td>0.498453</td>\n",
       "      <td>31.023932</td>\n",
       "      <td>39895.811842</td>\n",
       "      <td>1.203425</td>\n",
       "      <td>0.152259</td>\n",
       "    </tr>\n",
       "    <tr>\n",
       "      <th>std</th>\n",
       "      <td>0.500049</td>\n",
       "      <td>8.487995</td>\n",
       "      <td>9972.953985</td>\n",
       "      <td>1.098664</td>\n",
       "      <td>0.468934</td>\n",
       "    </tr>\n",
       "    <tr>\n",
       "      <th>min</th>\n",
       "      <td>0.000000</td>\n",
       "      <td>18.000000</td>\n",
       "      <td>5300.000000</td>\n",
       "      <td>0.000000</td>\n",
       "      <td>0.000000</td>\n",
       "    </tr>\n",
       "    <tr>\n",
       "      <th>25%</th>\n",
       "      <td>0.000000</td>\n",
       "      <td>24.000000</td>\n",
       "      <td>33200.000000</td>\n",
       "      <td>0.000000</td>\n",
       "      <td>0.000000</td>\n",
       "    </tr>\n",
       "    <tr>\n",
       "      <th>50%</th>\n",
       "      <td>0.000000</td>\n",
       "      <td>30.000000</td>\n",
       "      <td>40200.000000</td>\n",
       "      <td>1.000000</td>\n",
       "      <td>0.000000</td>\n",
       "    </tr>\n",
       "    <tr>\n",
       "      <th>75%</th>\n",
       "      <td>1.000000</td>\n",
       "      <td>37.000000</td>\n",
       "      <td>46600.000000</td>\n",
       "      <td>2.000000</td>\n",
       "      <td>0.000000</td>\n",
       "    </tr>\n",
       "    <tr>\n",
       "      <th>max</th>\n",
       "      <td>1.000000</td>\n",
       "      <td>65.000000</td>\n",
       "      <td>79000.000000</td>\n",
       "      <td>6.000000</td>\n",
       "      <td>5.000000</td>\n",
       "    </tr>\n",
       "  </tbody>\n",
       "</table>\n",
       "</div>"
      ],
      "text/plain": [
       "               Пол      Возраст      Зарплата  Члены семьи  Страховые выплаты\n",
       "count  4847.000000  4847.000000   4847.000000  4847.000000        4847.000000\n",
       "mean      0.498453    31.023932  39895.811842     1.203425           0.152259\n",
       "std       0.500049     8.487995   9972.953985     1.098664           0.468934\n",
       "min       0.000000    18.000000   5300.000000     0.000000           0.000000\n",
       "25%       0.000000    24.000000  33200.000000     0.000000           0.000000\n",
       "50%       0.000000    30.000000  40200.000000     1.000000           0.000000\n",
       "75%       1.000000    37.000000  46600.000000     2.000000           0.000000\n",
       "max       1.000000    65.000000  79000.000000     6.000000           5.000000"
      ]
     },
     "execution_count": 8,
     "metadata": {},
     "output_type": "execute_result"
    }
   ],
   "source": [
    "df.describe()"
   ]
  },
  {
   "cell_type": "code",
   "execution_count": 9,
   "metadata": {},
   "outputs": [
    {
     "data": {
      "image/png": "[encoded data removed]",
      "text/plain": [
       "<Figure size 1080x864 with 6 Axes>"
      ]
     },
     "metadata": {
      "needs_background": "light"
     },
     "output_type": "display_data"
    }
   ],
   "source": [
    "df.hist(figsize=(15, 12));"
   ]
  },
  {
   "cell_type": "markdown",
   "metadata": {},
   "source": [
    "**Вывод**: имеются исторические данные о страховых выплатах за последние 5 лет в объеме 4847 строк. Пропусков нет, от дубликатов мы избавились, выбросов не наблюдается."
   ]
  },
  {
   "cell_type": "markdown",
   "metadata": {},
   "source": [
    "## Умножение матриц"
   ]
  },
  {
   "cell_type": "markdown",
   "metadata": {},
   "source": [
    "В этом задании вы можете записывать формулы в *Jupyter Notebook.*\n",
    "\n",
    "Чтобы записать формулу внутри текста, окружите её символами доллара \\\\$; если снаружи —  двойными символами \\\\$\\\\$. Эти формулы записываются на языке вёрстки *LaTeX.* \n",
    "\n",
    "Для примера мы записали формулы линейной регрессии. Можете их скопировать и отредактировать, чтобы решить задачу.\n",
    "\n",
    "Работать в *LaTeX* необязательно."
   ]
  },
  {
   "cell_type": "markdown",
   "metadata": {},
   "source": [
    "Обозначения:\n",
    "\n",
    "- $X$ — матрица признаков (нулевой столбец состоит из единиц)\n",
    "\n",
    "- $y$ — вектор целевого признака\n",
    "\n",
    "- $P$ — матрица, на которую умножаются признаки\n",
    "\n",
    "- $w$ — вектор весов линейной регрессии (нулевой элемент равен сдвигу)"
   ]
  },
  {
   "cell_type": "markdown",
   "metadata": {},
   "source": [
    "Предсказания:\n",
    "\n",
    "$$\n",
    "a = Xw\n",
    "$$\n",
    "\n",
    "Задача обучения:\n",
    "\n",
    "$$\n",
    "w = \\arg\\min_w MSE(Xw, y)\n",
    "$$\n",
    "\n",
    "Формула обучения:\n",
    "\n",
    "$$\n",
    "w = (X^T X)^{-1} X^T y\n",
    "$$"
   ]
  },
  {
   "cell_type": "markdown",
   "metadata": {},
   "source": [
    "**Изменится ли качество линейной регрессии при умножении матрицы признаков на обратимую матрицу?**\n",
    "\n",
    "**Ответ:** При умножении на обратимую матрицу качество линейной регрессии не изменится.\n",
    "\n",
    "**Обоснование:**\n",
    "Умножим матрицу признаков X на некую обратимую матрицу P и подставим полученное уравнение в формулу предсказаний (т.к. качество регрессии не изменится, если не изменятся предсказания).\n",
    "\n",
    "$$\n",
    "a' = XPw'\n",
    "$$\n",
    "\n",
    "$$\n",
    "w' = ((XP)^T (XP))^{-1} (XP)^T y\n",
    "$$\n",
    "\n",
    "$$\n",
    "a' = XP ((XP)^T (XP))^{-1} (XP)^T y\n",
    "$$\n",
    "\n",
    "Расскроем внутреннюю скобку по свойству транспонированной матрицы:\n",
    "\n",
    "$$\n",
    "(AB)^T = B^T A^T\n",
    "$$\n",
    "\n",
    "$$\n",
    "a' = XP (P^T X^T X P)^{-1} (XP)^T y\n",
    "$$\n",
    "\n",
    "Далее раскрываем, используя свойство обратной матрциы:\n",
    "\n",
    "$$\n",
    "(AB)^{-1}=B^{-1}A^{-1}\n",
    "$$\n",
    "\n",
    "$$\n",
    "a' = XP ((X^T X) P)^{-1} (P^T)^{-1} (XP)^T y\n",
    "$$\n",
    "\n",
    "$$\n",
    "a' = XP P^{-1} (X^T X)^{-1} (P^T)^{-1} (XP)^T y\n",
    "$$\n",
    "\n",
    "$$\n",
    "a' = X (P P^{-1}) (X^T X)^{-1} ((P^T)^{-1} P^T) X^T y\n",
    "$$\n",
    "\n",
    "$$\n",
    "a' = X (X^T X)^{-1} X^T y\n",
    "$$\n",
    "\n",
    "Напоминаем, что первоначальные формулы прдесказаний и обучения выглядят так:\n",
    "\n",
    "$$\n",
    "a = Xw\n",
    "$$\n",
    "$$\n",
    "w = (X^T X)^{-1} X^T y\n",
    "$$\n",
    "\n",
    "А значит, при умножении на обратимую матрицу качество линейной регрессии не изменится:\n",
    "\n",
    "$$\n",
    "a' = a\n",
    "$$\n",
    "****\n",
    "**Укажите, как связаны параметры линейной регрессии в исходной задаче и в преобразованной.**\n",
    "\n",
    "$$\n",
    "w = (X^T X)^{-1} X^T y\n",
    "$$\n",
    "\n",
    "$$\n",
    "w' = ((XP)^T (XP))^{-1} (XP)^T y \n",
    "$$\n",
    "\n",
    "Расскроем скобки по свойству транспонированной матрицы:\n",
    "\n",
    "$$\n",
    "w' = (P^T X^T XP)^{-1} P^T X^T y\n",
    "$$\n",
    "\n",
    "$$\n",
    "w' = ((P^T X^T X)P)^{-1} P^T X^T y\n",
    "$$\n",
    "\n",
    "Расскроем скобки по свойству обратной матрицы:\n",
    "\n",
    "$$\n",
    "w' = P^{-1} (P^T(X^T X))^{-1} P^T X^T y\n",
    "$$\n",
    "\n",
    "$$\n",
    "w' = P^{-1} (X^T X)^{-1} ((P^T)^{-1} P^T) X^T y\n",
    "$$\n",
    "\n",
    "$$\n",
    "w' = P^{-1} (X^T X)^{-1} X^T y\n",
    "$$\n",
    "\n",
    "Напомним, что формула параметров линейной регрессии в исходной задаче такова:\n",
    "\n",
    "$$\n",
    "w = (X^T X)^{-1} X^T y\n",
    "$$\n",
    "\n",
    "А значит, параметры линейной регрессии в исходной задаче и в преобразованной связаны следующим образом:\n",
    "\n",
    "$$\n",
    "w' = P^{-1} w \n",
    "$$"
   ]
  },
  {
   "cell_type": "markdown",
   "metadata": {},
   "source": [
    "## Алгоритм преобразования"
   ]
  },
  {
   "cell_type": "markdown",
   "metadata": {},
   "source": [
    "**Алгоритм**\n",
    "\n",
    "1. Генерация случайной матрицы размером *(nxn)*, где *n* - количество признаков в матрице признаков.\n",
    "2. Проверка сгенерированной матрицы на обратимость (того, что детерминант не равен нулю).\n",
    "3. Умножение матрицы признаков на сгенерированную матрицу.\n",
    "4. Обучение модели на преобразованных признаках."
   ]
  },
  {
   "cell_type": "markdown",
   "metadata": {},
   "source": [
    "**Обоснование**\n",
    "\n",
    "Как было доказано выше, использование в качестве ключа шифрования обратимой матрицы не повлияет на качество линейной регрессии. При этом, не зная исходной матрицы (и обратимой к ней), восстановить изначальные данные будет затруднительно - умножение исходных данных на матрицу в криптографии относится к шифрованию методами аналитических преобразований и считается достаточно надежным. <br>"
   ]
  },
  {
   "cell_type": "markdown",
   "metadata": {},
   "source": [
    "<div class=\"alert alert-success\">\n",
    "<b>Комментарий ревьюера №1</b> ✅\n",
    "    \n",
    "👍\n",
    "</div>"
   ]
  },
  {
   "cell_type": "markdown",
   "metadata": {},
   "source": [
    "## Проверка алгоритма"
   ]
  },
  {
   "cell_type": "code",
   "execution_count": 10,
   "metadata": {},
   "outputs": [],
   "source": [
    "features = df.drop('Страховые выплаты', axis=1)\n",
    "target = df['Страховые выплаты']"
   ]
  },
  {
   "cell_type": "code",
   "execution_count": 11,
   "metadata": {},
   "outputs": [],
   "source": [
    "features_train, features_test, target_train, target_test = train_test_split(\n",
    "    features, target, test_size=0.25, random_state=12345)"
   ]
  },
  {
   "cell_type": "code",
   "execution_count": 12,
   "metadata": {},
   "outputs": [],
   "source": [
    "n = features.shape[1]"
   ]
  },
  {
   "cell_type": "code",
   "execution_count": 13,
   "metadata": {},
   "outputs": [],
   "source": [
    "det = 0\n",
    "while det == 0:\n",
    "    key = np.random.normal(size=(n, n))\n",
    "    det = np.linalg.det(key)"
   ]
  },
  {
   "cell_type": "markdown",
   "metadata": {},
   "source": [
    "Для начала обучим модель на непреобразованных данным и вычислим метрику R2."
   ]
  },
  {
   "cell_type": "code",
   "execution_count": 14,
   "metadata": {},
   "outputs": [
    {
     "name": "stdout",
     "output_type": "stream",
     "text": [
      "R2 на непреобразованных данных: 0.42307727492147584\n"
     ]
    }
   ],
   "source": [
    "model = LinearRegression()\n",
    "model.fit(features_train, target_train)\n",
    "r2 = r2_score(target_test, model.predict(features_test))\n",
    "print('R2 на непреобразованных данных:', r2)"
   ]
  },
  {
   "cell_type": "markdown",
   "metadata": {},
   "source": [
    "Теперь проведем преобразования, а затем снова обучим модель и посчитаем R2."
   ]
  },
  {
   "cell_type": "code",
   "execution_count": 15,
   "metadata": {},
   "outputs": [],
   "source": [
    "features_train_ciphered = features_train @ key"
   ]
  },
  {
   "cell_type": "code",
   "execution_count": 16,
   "metadata": {},
   "outputs": [
    {
     "data": {
      "text/html": [
       "<div>\n",
       "<style scoped>\n",
       "    .dataframe tbody tr th:only-of-type {\n",
       "        vertical-align: middle;\n",
       "    }\n",
       "\n",
       "    .dataframe tbody tr th {\n",
       "        vertical-align: top;\n",
       "    }\n",
       "\n",
       "    .dataframe thead th {\n",
       "        text-align: right;\n",
       "    }\n",
       "</style>\n",
       "<table border=\"1\" class=\"dataframe\">\n",
       "  <thead>\n",
       "    <tr style=\"text-align: right;\">\n",
       "      <th></th>\n",
       "      <th>0</th>\n",
       "      <th>1</th>\n",
       "      <th>2</th>\n",
       "      <th>3</th>\n",
       "    </tr>\n",
       "  </thead>\n",
       "  <tbody>\n",
       "    <tr>\n",
       "      <th>4460</th>\n",
       "      <td>66611.976566</td>\n",
       "      <td>-56938.724173</td>\n",
       "      <td>24444.921155</td>\n",
       "      <td>109566.725762</td>\n",
       "    </tr>\n",
       "    <tr>\n",
       "      <th>3773</th>\n",
       "      <td>61951.714029</td>\n",
       "      <td>-52974.442453</td>\n",
       "      <td>22733.771347</td>\n",
       "      <td>101922.493796</td>\n",
       "    </tr>\n",
       "    <tr>\n",
       "      <th>4561</th>\n",
       "      <td>34207.156135</td>\n",
       "      <td>-29257.612861</td>\n",
       "      <td>12555.856028</td>\n",
       "      <td>56287.621902</td>\n",
       "    </tr>\n",
       "    <tr>\n",
       "      <th>1385</th>\n",
       "      <td>47381.315121</td>\n",
       "      <td>-40548.038701</td>\n",
       "      <td>17391.515672</td>\n",
       "      <td>77993.802658</td>\n",
       "    </tr>\n",
       "    <tr>\n",
       "      <th>724</th>\n",
       "      <td>39685.345789</td>\n",
       "      <td>-33965.525885</td>\n",
       "      <td>14569.686715</td>\n",
       "      <td>65329.404198</td>\n",
       "    </tr>\n",
       "  </tbody>\n",
       "</table>\n",
       "</div>"
      ],
      "text/plain": [
       "                 0             1             2              3\n",
       "4460  66611.976566 -56938.724173  24444.921155  109566.725762\n",
       "3773  61951.714029 -52974.442453  22733.771347  101922.493796\n",
       "4561  34207.156135 -29257.612861  12555.856028   56287.621902\n",
       "1385  47381.315121 -40548.038701  17391.515672   77993.802658\n",
       "724   39685.345789 -33965.525885  14569.686715   65329.404198"
      ]
     },
     "execution_count": 16,
     "metadata": {},
     "output_type": "execute_result"
    }
   ],
   "source": [
    "features_train_ciphered.head()"
   ]
  },
  {
   "cell_type": "code",
   "execution_count": 17,
   "metadata": {},
   "outputs": [],
   "source": [
    "features_test_ciphered = features_test @ key"
   ]
  },
  {
   "cell_type": "code",
   "execution_count": 18,
   "metadata": {},
   "outputs": [
    {
     "data": {
      "text/html": [
       "<div>\n",
       "<style scoped>\n",
       "    .dataframe tbody tr th:only-of-type {\n",
       "        vertical-align: middle;\n",
       "    }\n",
       "\n",
       "    .dataframe tbody tr th {\n",
       "        vertical-align: top;\n",
       "    }\n",
       "\n",
       "    .dataframe thead th {\n",
       "        text-align: right;\n",
       "    }\n",
       "</style>\n",
       "<table border=\"1\" class=\"dataframe\">\n",
       "  <thead>\n",
       "    <tr style=\"text-align: right;\">\n",
       "      <th></th>\n",
       "      <th>0</th>\n",
       "      <th>1</th>\n",
       "      <th>2</th>\n",
       "      <th>3</th>\n",
       "    </tr>\n",
       "  </thead>\n",
       "  <tbody>\n",
       "    <tr>\n",
       "      <th>1321</th>\n",
       "      <td>57696.624117</td>\n",
       "      <td>-49310.469915</td>\n",
       "      <td>21165.995941</td>\n",
       "      <td>94891.162385</td>\n",
       "    </tr>\n",
       "    <tr>\n",
       "      <th>3767</th>\n",
       "      <td>80554.550240</td>\n",
       "      <td>-68846.253162</td>\n",
       "      <td>29552.164984</td>\n",
       "      <td>132485.994208</td>\n",
       "    </tr>\n",
       "    <tr>\n",
       "      <th>166</th>\n",
       "      <td>41409.669288</td>\n",
       "      <td>-35426.100851</td>\n",
       "      <td>15200.973495</td>\n",
       "      <td>68146.096311</td>\n",
       "    </tr>\n",
       "    <tr>\n",
       "      <th>2935</th>\n",
       "      <td>23540.089281</td>\n",
       "      <td>-20179.196377</td>\n",
       "      <td>8650.645010</td>\n",
       "      <td>38789.678184</td>\n",
       "    </tr>\n",
       "    <tr>\n",
       "      <th>423</th>\n",
       "      <td>33558.411135</td>\n",
       "      <td>-28747.187964</td>\n",
       "      <td>12327.068612</td>\n",
       "      <td>55273.986271</td>\n",
       "    </tr>\n",
       "  </tbody>\n",
       "</table>\n",
       "</div>"
      ],
      "text/plain": [
       "                 0             1             2              3\n",
       "1321  57696.624117 -49310.469915  21165.995941   94891.162385\n",
       "3767  80554.550240 -68846.253162  29552.164984  132485.994208\n",
       "166   41409.669288 -35426.100851  15200.973495   68146.096311\n",
       "2935  23540.089281 -20179.196377   8650.645010   38789.678184\n",
       "423   33558.411135 -28747.187964  12327.068612   55273.986271"
      ]
     },
     "execution_count": 18,
     "metadata": {},
     "output_type": "execute_result"
    }
   ],
   "source": [
    "features_test_ciphered.head()"
   ]
  },
  {
   "cell_type": "code",
   "execution_count": 19,
   "metadata": {},
   "outputs": [
    {
     "name": "stdout",
     "output_type": "stream",
     "text": [
      "R2 на преобразованных данных: 0.42307727492135905\n"
     ]
    }
   ],
   "source": [
    "model = LinearRegression()\n",
    "model.fit(features_train_ciphered, target_train)\n",
    "r2_cip = r2_score(target_test, model.predict(features_test_ciphered))\n",
    "print('R2 на преобразованных данных:', r2_cip)"
   ]
  },
  {
   "cell_type": "code",
   "execution_count": 20,
   "metadata": {},
   "outputs": [
    {
     "name": "stdout",
     "output_type": "stream",
     "text": [
      "0.42307727492147584\n",
      "0.42307727492135905\n"
     ]
    }
   ],
   "source": [
    "print(r2)\n",
    "print(r2_cip)"
   ]
  },
  {
   "cell_type": "markdown",
   "metadata": {},
   "source": [
    "Различия наблюдаются после более чем 10 знака после запятой, что скорее может быть связано с особенностями хранения дробных чисел в Python, чем с влиянием преобразования на результат.\n",
    "****\n",
    "Попробуем декодировать данные."
   ]
  },
  {
   "cell_type": "code",
   "execution_count": 21,
   "metadata": {},
   "outputs": [],
   "source": [
    "decipher_key = np.linalg.inv(key) "
   ]
  },
  {
   "cell_type": "code",
   "execution_count": 22,
   "metadata": {},
   "outputs": [
    {
     "data": {
      "text/html": [
       "<div>\n",
       "<style scoped>\n",
       "    .dataframe tbody tr th:only-of-type {\n",
       "        vertical-align: middle;\n",
       "    }\n",
       "\n",
       "    .dataframe tbody tr th {\n",
       "        vertical-align: top;\n",
       "    }\n",
       "\n",
       "    .dataframe thead th {\n",
       "        text-align: right;\n",
       "    }\n",
       "</style>\n",
       "<table border=\"1\" class=\"dataframe\">\n",
       "  <thead>\n",
       "    <tr style=\"text-align: right;\">\n",
       "      <th></th>\n",
       "      <th>0</th>\n",
       "      <th>1</th>\n",
       "      <th>2</th>\n",
       "      <th>3</th>\n",
       "    </tr>\n",
       "  </thead>\n",
       "  <tbody>\n",
       "    <tr>\n",
       "      <th>4460</th>\n",
       "      <td>66611.976566</td>\n",
       "      <td>-56938.724173</td>\n",
       "      <td>24444.921155</td>\n",
       "      <td>109566.725762</td>\n",
       "    </tr>\n",
       "    <tr>\n",
       "      <th>3773</th>\n",
       "      <td>61951.714029</td>\n",
       "      <td>-52974.442453</td>\n",
       "      <td>22733.771347</td>\n",
       "      <td>101922.493796</td>\n",
       "    </tr>\n",
       "    <tr>\n",
       "      <th>4561</th>\n",
       "      <td>34207.156135</td>\n",
       "      <td>-29257.612861</td>\n",
       "      <td>12555.856028</td>\n",
       "      <td>56287.621902</td>\n",
       "    </tr>\n",
       "    <tr>\n",
       "      <th>1385</th>\n",
       "      <td>47381.315121</td>\n",
       "      <td>-40548.038701</td>\n",
       "      <td>17391.515672</td>\n",
       "      <td>77993.802658</td>\n",
       "    </tr>\n",
       "    <tr>\n",
       "      <th>724</th>\n",
       "      <td>39685.345789</td>\n",
       "      <td>-33965.525885</td>\n",
       "      <td>14569.686715</td>\n",
       "      <td>65329.404198</td>\n",
       "    </tr>\n",
       "  </tbody>\n",
       "</table>\n",
       "</div>"
      ],
      "text/plain": [
       "                 0             1             2              3\n",
       "4460  66611.976566 -56938.724173  24444.921155  109566.725762\n",
       "3773  61951.714029 -52974.442453  22733.771347  101922.493796\n",
       "4561  34207.156135 -29257.612861  12555.856028   56287.621902\n",
       "1385  47381.315121 -40548.038701  17391.515672   77993.802658\n",
       "724   39685.345789 -33965.525885  14569.686715   65329.404198"
      ]
     },
     "execution_count": 22,
     "metadata": {},
     "output_type": "execute_result"
    }
   ],
   "source": [
    "features_train_ciphered.head()"
   ]
  },
  {
   "cell_type": "code",
   "execution_count": 35,
   "metadata": {},
   "outputs": [],
   "source": [
    "features_train_deciphered = features_train_ciphered @ decipher_key"
   ]
  },
  {
   "cell_type": "code",
   "execution_count": 36,
   "metadata": {},
   "outputs": [
    {
     "data": {
      "text/html": [
       "<div>\n",
       "<style scoped>\n",
       "    .dataframe tbody tr th:only-of-type {\n",
       "        vertical-align: middle;\n",
       "    }\n",
       "\n",
       "    .dataframe tbody tr th {\n",
       "        vertical-align: top;\n",
       "    }\n",
       "\n",
       "    .dataframe thead th {\n",
       "        text-align: right;\n",
       "    }\n",
       "</style>\n",
       "<table border=\"1\" class=\"dataframe\">\n",
       "  <thead>\n",
       "    <tr style=\"text-align: right;\">\n",
       "      <th></th>\n",
       "      <th>0</th>\n",
       "      <th>1</th>\n",
       "      <th>2</th>\n",
       "      <th>3</th>\n",
       "    </tr>\n",
       "  </thead>\n",
       "  <tbody>\n",
       "    <tr>\n",
       "      <th>4460</th>\n",
       "      <td>4.741680e-12</td>\n",
       "      <td>28.0</td>\n",
       "      <td>54500.0</td>\n",
       "      <td>2.000000e+00</td>\n",
       "    </tr>\n",
       "    <tr>\n",
       "      <th>3773</th>\n",
       "      <td>1.000000e+00</td>\n",
       "      <td>38.0</td>\n",
       "      <td>50700.0</td>\n",
       "      <td>1.000000e+00</td>\n",
       "    </tr>\n",
       "    <tr>\n",
       "      <th>4561</th>\n",
       "      <td>2.342198e-12</td>\n",
       "      <td>24.0</td>\n",
       "      <td>28000.0</td>\n",
       "      <td>1.000000e+00</td>\n",
       "    </tr>\n",
       "    <tr>\n",
       "      <th>1385</th>\n",
       "      <td>3.618148e-13</td>\n",
       "      <td>47.0</td>\n",
       "      <td>38800.0</td>\n",
       "      <td>-8.511119e-13</td>\n",
       "    </tr>\n",
       "    <tr>\n",
       "      <th>724</th>\n",
       "      <td>3.951490e-12</td>\n",
       "      <td>40.0</td>\n",
       "      <td>32500.0</td>\n",
       "      <td>1.000000e+00</td>\n",
       "    </tr>\n",
       "  </tbody>\n",
       "</table>\n",
       "</div>"
      ],
      "text/plain": [
       "                 0     1        2             3\n",
       "4460  4.741680e-12  28.0  54500.0  2.000000e+00\n",
       "3773  1.000000e+00  38.0  50700.0  1.000000e+00\n",
       "4561  2.342198e-12  24.0  28000.0  1.000000e+00\n",
       "1385  3.618148e-13  47.0  38800.0 -8.511119e-13\n",
       "724   3.951490e-12  40.0  32500.0  1.000000e+00"
      ]
     },
     "execution_count": 36,
     "metadata": {},
     "output_type": "execute_result"
    }
   ],
   "source": [
    "features_train_deciphered.head()"
   ]
  },
  {
   "cell_type": "markdown",
   "metadata": {},
   "source": [
    "<div class=\"alert alert-success\">\n",
    "<b>Комментарий ревьюера №2</b> ✅\n",
    "    \n",
    "Можно округлить значения с помощью `round()`, изменить названия столбцов и типы данных\n",
    "</div>"
   ]
  },
  {
   "cell_type": "code",
   "execution_count": 25,
   "metadata": {},
   "outputs": [
    {
     "data": {
      "text/html": [
       "<div>\n",
       "<style scoped>\n",
       "    .dataframe tbody tr th:only-of-type {\n",
       "        vertical-align: middle;\n",
       "    }\n",
       "\n",
       "    .dataframe tbody tr th {\n",
       "        vertical-align: top;\n",
       "    }\n",
       "\n",
       "    .dataframe thead th {\n",
       "        text-align: right;\n",
       "    }\n",
       "</style>\n",
       "<table border=\"1\" class=\"dataframe\">\n",
       "  <thead>\n",
       "    <tr style=\"text-align: right;\">\n",
       "      <th></th>\n",
       "      <th>Пол</th>\n",
       "      <th>Возраст</th>\n",
       "      <th>Зарплата</th>\n",
       "      <th>Члены семьи</th>\n",
       "    </tr>\n",
       "  </thead>\n",
       "  <tbody>\n",
       "    <tr>\n",
       "      <th>4460</th>\n",
       "      <td>0</td>\n",
       "      <td>28.0</td>\n",
       "      <td>54500.0</td>\n",
       "      <td>2</td>\n",
       "    </tr>\n",
       "    <tr>\n",
       "      <th>3773</th>\n",
       "      <td>1</td>\n",
       "      <td>38.0</td>\n",
       "      <td>50700.0</td>\n",
       "      <td>1</td>\n",
       "    </tr>\n",
       "    <tr>\n",
       "      <th>4561</th>\n",
       "      <td>0</td>\n",
       "      <td>24.0</td>\n",
       "      <td>28000.0</td>\n",
       "      <td>1</td>\n",
       "    </tr>\n",
       "    <tr>\n",
       "      <th>1385</th>\n",
       "      <td>0</td>\n",
       "      <td>47.0</td>\n",
       "      <td>38800.0</td>\n",
       "      <td>0</td>\n",
       "    </tr>\n",
       "    <tr>\n",
       "      <th>724</th>\n",
       "      <td>0</td>\n",
       "      <td>40.0</td>\n",
       "      <td>32500.0</td>\n",
       "      <td>1</td>\n",
       "    </tr>\n",
       "  </tbody>\n",
       "</table>\n",
       "</div>"
      ],
      "text/plain": [
       "      Пол  Возраст  Зарплата  Члены семьи\n",
       "4460    0     28.0   54500.0            2\n",
       "3773    1     38.0   50700.0            1\n",
       "4561    0     24.0   28000.0            1\n",
       "1385    0     47.0   38800.0            0\n",
       "724     0     40.0   32500.0            1"
      ]
     },
     "execution_count": 25,
     "metadata": {},
     "output_type": "execute_result"
    }
   ],
   "source": [
    "features_train.head()"
   ]
  },
  {
   "cell_type": "markdown",
   "metadata": {},
   "source": [
    "**Вывод:**<br>\n",
    "В ходе работы предложен метод защиты персональных данных путем умножения матрицы признаков на случайно сгенерированную обратимую матрицу (известный в криптографии как один из методов аналитических преобразований). Было доказано, а затем и проверено на практике, что этот метод не влияет на качество модели линейной регрессии.<br>\n",
    "Важно заметить, что зная ключ-матрицу, легко найти обратную ей и провести декодирование. Соответственно, ключ нельзя хранить в открытом доступе, а передавать возможно только по защищенным каналам."
   ]
  }
 ],
 "metadata": {
  "ExecuteTimeLog": [
   {
    "duration": 449,
    "start_time": "2023-08-31T16:16:22.167Z"
   },
   {
    "duration": 76,
    "start_time": "2023-08-31T16:16:41.565Z"
   },
   {
    "duration": 16,
    "start_time": "2023-08-31T16:16:47.685Z"
   },
   {
    "duration": 11,
    "start_time": "2023-08-31T16:16:55.067Z"
   },
   {
    "duration": 12,
    "start_time": "2023-08-31T16:16:57.797Z"
   },
   {
    "duration": 23,
    "start_time": "2023-08-31T16:17:06.407Z"
   },
   {
    "duration": 915,
    "start_time": "2023-08-31T16:17:28.102Z"
   },
   {
    "duration": 683,
    "start_time": "2023-08-31T16:17:39.557Z"
   },
   {
    "duration": 610,
    "start_time": "2023-08-31T16:17:48.040Z"
   },
   {
    "duration": 645,
    "start_time": "2023-08-31T16:17:59.237Z"
   },
   {
    "duration": 655,
    "start_time": "2023-08-31T16:18:03.464Z"
   },
   {
    "duration": 8,
    "start_time": "2023-08-31T16:18:27.364Z"
   },
   {
    "duration": 9,
    "start_time": "2023-08-31T16:18:37.182Z"
   },
   {
    "duration": 8,
    "start_time": "2023-08-31T16:19:20.987Z"
   },
   {
    "duration": 15,
    "start_time": "2023-08-31T16:19:49.122Z"
   },
   {
    "duration": 5,
    "start_time": "2023-08-31T16:25:00.800Z"
   },
   {
    "duration": 12,
    "start_time": "2023-08-31T16:25:12.276Z"
   },
   {
    "duration": 7,
    "start_time": "2023-08-31T16:25:57.299Z"
   },
   {
    "duration": 1168,
    "start_time": "2023-08-31T20:28:21.703Z"
   },
   {
    "duration": 15,
    "start_time": "2023-08-31T20:40:59.098Z"
   },
   {
    "duration": 4,
    "start_time": "2023-08-31T20:41:35.564Z"
   },
   {
    "duration": 9,
    "start_time": "2023-08-31T20:41:41.737Z"
   },
   {
    "duration": 1391,
    "start_time": "2023-08-31T20:42:11.069Z"
   },
   {
    "duration": 49,
    "start_time": "2023-08-31T20:42:12.462Z"
   },
   {
    "duration": 20,
    "start_time": "2023-08-31T20:42:12.513Z"
   },
   {
    "duration": 12,
    "start_time": "2023-08-31T20:42:12.535Z"
   },
   {
    "duration": 8,
    "start_time": "2023-08-31T20:42:12.549Z"
   },
   {
    "duration": 5,
    "start_time": "2023-08-31T20:42:12.558Z"
   },
   {
    "duration": 25,
    "start_time": "2023-08-31T20:42:12.565Z"
   },
   {
    "duration": 39,
    "start_time": "2023-08-31T20:42:12.592Z"
   },
   {
    "duration": 1213,
    "start_time": "2023-08-31T20:42:12.633Z"
   },
   {
    "duration": 10,
    "start_time": "2023-08-31T20:42:13.848Z"
   },
   {
    "duration": 4,
    "start_time": "2023-08-31T20:42:13.860Z"
   },
   {
    "duration": 6,
    "start_time": "2023-08-31T20:42:13.866Z"
   },
   {
    "duration": 4,
    "start_time": "2023-08-31T20:44:37.739Z"
   },
   {
    "duration": 4,
    "start_time": "2023-08-31T20:44:45.976Z"
   },
   {
    "duration": 222,
    "start_time": "2023-08-31T20:45:10.820Z"
   },
   {
    "duration": 4,
    "start_time": "2023-08-31T20:45:28.240Z"
   },
   {
    "duration": 79,
    "start_time": "2023-08-31T20:45:30.201Z"
   },
   {
    "duration": 7,
    "start_time": "2023-08-31T20:45:37.976Z"
   },
   {
    "duration": 5,
    "start_time": "2023-08-31T20:45:49.844Z"
   },
   {
    "duration": 111,
    "start_time": "2023-08-31T20:46:30.927Z"
   },
   {
    "duration": 6,
    "start_time": "2023-08-31T20:46:44.254Z"
   },
   {
    "duration": 8,
    "start_time": "2023-08-31T20:46:48.075Z"
   },
   {
    "duration": 64,
    "start_time": "2023-08-31T20:48:12.509Z"
   },
   {
    "duration": 9,
    "start_time": "2023-08-31T20:48:15.096Z"
   },
   {
    "duration": 11,
    "start_time": "2023-08-31T20:48:44.458Z"
   },
   {
    "duration": 4,
    "start_time": "2023-08-31T20:48:48.417Z"
   },
   {
    "duration": 5,
    "start_time": "2023-08-31T20:48:53.953Z"
   },
   {
    "duration": 5,
    "start_time": "2023-08-31T20:50:14.519Z"
   },
   {
    "duration": 4,
    "start_time": "2023-08-31T20:50:19.048Z"
   },
   {
    "duration": 18,
    "start_time": "2023-08-31T20:51:33.497Z"
   },
   {
    "duration": 14,
    "start_time": "2023-08-31T20:52:02.848Z"
   },
   {
    "duration": 12,
    "start_time": "2023-08-31T20:52:55.414Z"
   },
   {
    "duration": 92,
    "start_time": "2023-08-31T20:53:45.248Z"
   },
   {
    "duration": 10,
    "start_time": "2023-08-31T20:54:18.199Z"
   },
   {
    "duration": 19,
    "start_time": "2023-08-31T20:54:37.008Z"
   },
   {
    "duration": 1288,
    "start_time": "2023-08-31T20:58:55.522Z"
   },
   {
    "duration": 32,
    "start_time": "2023-08-31T20:58:56.816Z"
   },
   {
    "duration": 19,
    "start_time": "2023-08-31T20:58:56.850Z"
   },
   {
    "duration": 21,
    "start_time": "2023-08-31T20:58:56.872Z"
   },
   {
    "duration": 11,
    "start_time": "2023-08-31T20:58:56.897Z"
   },
   {
    "duration": 7,
    "start_time": "2023-08-31T20:58:56.911Z"
   },
   {
    "duration": 9,
    "start_time": "2023-08-31T20:58:56.920Z"
   },
   {
    "duration": 50,
    "start_time": "2023-08-31T20:58:56.931Z"
   },
   {
    "duration": 1072,
    "start_time": "2023-08-31T20:58:56.985Z"
   },
   {
    "duration": 3,
    "start_time": "2023-08-31T20:58:58.060Z"
   },
   {
    "duration": 27,
    "start_time": "2023-08-31T20:58:58.065Z"
   },
   {
    "duration": 4,
    "start_time": "2023-08-31T20:58:58.094Z"
   },
   {
    "duration": 10,
    "start_time": "2023-08-31T20:58:58.100Z"
   },
   {
    "duration": 25,
    "start_time": "2023-08-31T20:58:58.113Z"
   },
   {
    "duration": 10,
    "start_time": "2023-08-31T20:58:58.140Z"
   },
   {
    "duration": 170,
    "start_time": "2023-08-31T20:58:58.152Z"
   },
   {
    "duration": 0,
    "start_time": "2023-08-31T20:58:58.325Z"
   },
   {
    "duration": 0,
    "start_time": "2023-08-31T20:58:58.327Z"
   },
   {
    "duration": 1212,
    "start_time": "2023-08-31T21:00:21.931Z"
   },
   {
    "duration": 30,
    "start_time": "2023-08-31T21:00:23.145Z"
   },
   {
    "duration": 26,
    "start_time": "2023-08-31T21:00:23.177Z"
   },
   {
    "duration": 15,
    "start_time": "2023-08-31T21:00:23.206Z"
   },
   {
    "duration": 9,
    "start_time": "2023-08-31T21:00:23.223Z"
   },
   {
    "duration": 5,
    "start_time": "2023-08-31T21:00:23.234Z"
   },
   {
    "duration": 19,
    "start_time": "2023-08-31T21:00:23.241Z"
   },
   {
    "duration": 52,
    "start_time": "2023-08-31T21:00:23.262Z"
   },
   {
    "duration": 1034,
    "start_time": "2023-08-31T21:00:23.316Z"
   },
   {
    "duration": 5,
    "start_time": "2023-08-31T21:00:24.353Z"
   },
   {
    "duration": 10,
    "start_time": "2023-08-31T21:00:24.360Z"
   },
   {
    "duration": 5,
    "start_time": "2023-08-31T21:00:24.381Z"
   },
   {
    "duration": 11,
    "start_time": "2023-08-31T21:00:24.387Z"
   },
   {
    "duration": 24,
    "start_time": "2023-08-31T21:00:24.400Z"
   },
   {
    "duration": 9,
    "start_time": "2023-08-31T21:00:24.427Z"
   },
   {
    "duration": 14,
    "start_time": "2023-08-31T21:00:24.438Z"
   },
   {
    "duration": 11,
    "start_time": "2023-08-31T21:00:24.454Z"
   },
   {
    "duration": 20,
    "start_time": "2023-08-31T21:00:24.467Z"
   },
   {
    "duration": 9,
    "start_time": "2023-08-31T21:09:57.448Z"
   },
   {
    "duration": 9,
    "start_time": "2023-08-31T21:10:28.208Z"
   },
   {
    "duration": 3,
    "start_time": "2023-08-31T21:10:35.509Z"
   },
   {
    "duration": 1202,
    "start_time": "2023-08-31T21:10:47.913Z"
   },
   {
    "duration": 29,
    "start_time": "2023-08-31T21:10:49.117Z"
   },
   {
    "duration": 18,
    "start_time": "2023-08-31T21:10:49.148Z"
   },
   {
    "duration": 13,
    "start_time": "2023-08-31T21:10:49.168Z"
   },
   {
    "duration": 16,
    "start_time": "2023-08-31T21:10:49.182Z"
   },
   {
    "duration": 7,
    "start_time": "2023-08-31T21:10:49.204Z"
   },
   {
    "duration": 7,
    "start_time": "2023-08-31T21:10:49.213Z"
   },
   {
    "duration": 29,
    "start_time": "2023-08-31T21:10:49.222Z"
   },
   {
    "duration": 1042,
    "start_time": "2023-08-31T21:10:49.253Z"
   },
   {
    "duration": 9,
    "start_time": "2023-08-31T21:10:50.298Z"
   },
   {
    "duration": 16,
    "start_time": "2023-08-31T21:10:50.309Z"
   },
   {
    "duration": 18,
    "start_time": "2023-08-31T21:10:50.327Z"
   },
   {
    "duration": 6,
    "start_time": "2023-08-31T21:10:50.347Z"
   },
   {
    "duration": 18,
    "start_time": "2023-08-31T21:10:50.355Z"
   },
   {
    "duration": 3,
    "start_time": "2023-08-31T21:10:50.375Z"
   },
   {
    "duration": 23,
    "start_time": "2023-08-31T21:10:50.380Z"
   },
   {
    "duration": 5,
    "start_time": "2023-08-31T21:10:50.405Z"
   },
   {
    "duration": 18,
    "start_time": "2023-08-31T21:10:50.414Z"
   },
   {
    "duration": 10,
    "start_time": "2023-08-31T21:10:50.435Z"
   },
   {
    "duration": 6,
    "start_time": "2023-08-31T21:10:50.447Z"
   },
   {
    "duration": 4,
    "start_time": "2023-08-31T21:12:58.039Z"
   },
   {
    "duration": 1204,
    "start_time": "2023-08-31T21:43:24.294Z"
   },
   {
    "duration": 32,
    "start_time": "2023-08-31T21:43:25.501Z"
   },
   {
    "duration": 17,
    "start_time": "2023-08-31T21:43:25.535Z"
   },
   {
    "duration": 16,
    "start_time": "2023-08-31T21:43:25.554Z"
   },
   {
    "duration": 38,
    "start_time": "2023-08-31T21:43:25.572Z"
   },
   {
    "duration": 9,
    "start_time": "2023-08-31T21:43:25.612Z"
   },
   {
    "duration": 30,
    "start_time": "2023-08-31T21:43:25.623Z"
   },
   {
    "duration": 57,
    "start_time": "2023-08-31T21:43:25.655Z"
   },
   {
    "duration": 1108,
    "start_time": "2023-08-31T21:43:25.715Z"
   },
   {
    "duration": 6,
    "start_time": "2023-08-31T21:43:26.825Z"
   },
   {
    "duration": 8,
    "start_time": "2023-08-31T21:43:26.833Z"
   },
   {
    "duration": 3,
    "start_time": "2023-08-31T21:43:26.843Z"
   },
   {
    "duration": 6,
    "start_time": "2023-08-31T21:43:26.848Z"
   },
   {
    "duration": 20,
    "start_time": "2023-08-31T21:43:26.883Z"
   },
   {
    "duration": 5,
    "start_time": "2023-08-31T21:43:26.907Z"
   },
   {
    "duration": 10,
    "start_time": "2023-08-31T21:43:26.915Z"
   },
   {
    "duration": 5,
    "start_time": "2023-08-31T21:43:26.927Z"
   },
   {
    "duration": 15,
    "start_time": "2023-08-31T21:43:26.933Z"
   },
   {
    "duration": 33,
    "start_time": "2023-08-31T21:43:26.950Z"
   },
   {
    "duration": 13,
    "start_time": "2023-08-31T21:43:26.990Z"
   },
   {
    "duration": 2286,
    "start_time": "2023-08-31T22:05:58.671Z"
   },
   {
    "duration": 92,
    "start_time": "2023-08-31T22:06:00.959Z"
   },
   {
    "duration": 17,
    "start_time": "2023-08-31T22:06:01.053Z"
   },
   {
    "duration": 33,
    "start_time": "2023-08-31T22:06:01.073Z"
   },
   {
    "duration": 33,
    "start_time": "2023-08-31T22:06:01.108Z"
   },
   {
    "duration": 42,
    "start_time": "2023-08-31T22:06:01.143Z"
   },
   {
    "duration": 25,
    "start_time": "2023-08-31T22:06:01.188Z"
   },
   {
    "duration": 80,
    "start_time": "2023-08-31T22:06:01.215Z"
   },
   {
    "duration": 1362,
    "start_time": "2023-08-31T22:06:01.297Z"
   },
   {
    "duration": 5,
    "start_time": "2023-08-31T22:06:02.662Z"
   },
   {
    "duration": 38,
    "start_time": "2023-08-31T22:06:02.669Z"
   },
   {
    "duration": 25,
    "start_time": "2023-08-31T22:06:02.710Z"
   },
   {
    "duration": 17,
    "start_time": "2023-08-31T22:06:02.737Z"
   },
   {
    "duration": 36,
    "start_time": "2023-08-31T22:06:02.757Z"
   },
   {
    "duration": 34,
    "start_time": "2023-08-31T22:06:02.797Z"
   },
   {
    "duration": 104,
    "start_time": "2023-08-31T22:06:02.833Z"
   },
   {
    "duration": 33,
    "start_time": "2023-08-31T22:06:02.939Z"
   },
   {
    "duration": 63,
    "start_time": "2023-08-31T22:06:02.975Z"
   },
   {
    "duration": 55,
    "start_time": "2023-08-31T22:06:03.040Z"
   },
   {
    "duration": 45,
    "start_time": "2023-08-31T22:06:03.098Z"
   },
   {
    "duration": 1865,
    "start_time": "2023-09-01T08:28:06.961Z"
   },
   {
    "duration": 79,
    "start_time": "2023-09-01T08:28:08.828Z"
   },
   {
    "duration": 16,
    "start_time": "2023-09-01T08:28:08.909Z"
   },
   {
    "duration": 12,
    "start_time": "2023-09-01T08:28:08.927Z"
   },
   {
    "duration": 6,
    "start_time": "2023-09-01T08:28:08.940Z"
   },
   {
    "duration": 7,
    "start_time": "2023-09-01T08:28:08.948Z"
   },
   {
    "duration": 6,
    "start_time": "2023-09-01T08:28:08.957Z"
   },
   {
    "duration": 56,
    "start_time": "2023-09-01T08:28:08.964Z"
   },
   {
    "duration": 1166,
    "start_time": "2023-09-01T08:28:09.021Z"
   },
   {
    "duration": 4,
    "start_time": "2023-09-01T08:28:10.190Z"
   },
   {
    "duration": 15,
    "start_time": "2023-09-01T08:28:10.196Z"
   },
   {
    "duration": 3,
    "start_time": "2023-09-01T08:28:10.213Z"
   },
   {
    "duration": 9,
    "start_time": "2023-09-01T08:28:10.218Z"
   },
   {
    "duration": 81,
    "start_time": "2023-09-01T08:28:10.228Z"
   },
   {
    "duration": 9,
    "start_time": "2023-09-01T08:28:10.312Z"
   },
   {
    "duration": 101,
    "start_time": "2023-09-01T08:28:10.323Z"
   },
   {
    "duration": 5,
    "start_time": "2023-09-01T08:28:10.426Z"
   },
   {
    "duration": 16,
    "start_time": "2023-09-01T08:28:10.432Z"
   },
   {
    "duration": 11,
    "start_time": "2023-09-01T08:28:10.449Z"
   },
   {
    "duration": 2,
    "start_time": "2023-09-01T08:28:10.463Z"
   },
   {
    "duration": 4,
    "start_time": "2023-09-01T09:25:03.162Z"
   },
   {
    "duration": 1129,
    "start_time": "2023-09-01T11:11:11.189Z"
   },
   {
    "duration": 90,
    "start_time": "2023-09-01T11:11:12.320Z"
   },
   {
    "duration": 18,
    "start_time": "2023-09-01T11:11:12.412Z"
   },
   {
    "duration": 16,
    "start_time": "2023-09-01T11:11:12.434Z"
   },
   {
    "duration": 10,
    "start_time": "2023-09-01T11:11:12.451Z"
   },
   {
    "duration": 25,
    "start_time": "2023-09-01T11:11:12.463Z"
   },
   {
    "duration": 7,
    "start_time": "2023-09-01T11:11:12.490Z"
   },
   {
    "duration": 43,
    "start_time": "2023-09-01T11:11:12.499Z"
   },
   {
    "duration": 1197,
    "start_time": "2023-09-01T11:11:12.544Z"
   },
   {
    "duration": 12,
    "start_time": "2023-09-01T11:11:13.745Z"
   },
   {
    "duration": 157,
    "start_time": "2023-09-01T11:11:13.759Z"
   },
   {
    "duration": 31,
    "start_time": "2023-09-01T11:11:13.918Z"
   },
   {
    "duration": 47,
    "start_time": "2023-09-01T11:11:13.951Z"
   },
   {
    "duration": 49,
    "start_time": "2023-09-01T11:11:14.000Z"
   },
   {
    "duration": 206,
    "start_time": "2023-09-01T11:11:14.051Z"
   },
   {
    "duration": 125,
    "start_time": "2023-09-01T11:11:14.259Z"
   },
   {
    "duration": 36,
    "start_time": "2023-09-01T11:11:14.386Z"
   },
   {
    "duration": 51,
    "start_time": "2023-09-01T11:11:14.424Z"
   },
   {
    "duration": 54,
    "start_time": "2023-09-01T11:11:14.477Z"
   },
   {
    "duration": 15,
    "start_time": "2023-09-01T11:11:14.532Z"
   },
   {
    "duration": 17,
    "start_time": "2023-09-01T11:11:14.549Z"
   },
   {
    "duration": 12,
    "start_time": "2023-09-01T11:16:08.944Z"
   },
   {
    "duration": 4,
    "start_time": "2023-09-01T11:16:39.701Z"
   },
   {
    "duration": 10,
    "start_time": "2023-09-01T11:16:48.331Z"
   },
   {
    "duration": 9,
    "start_time": "2023-09-01T11:17:10.111Z"
   },
   {
    "duration": 1165,
    "start_time": "2023-09-01T11:17:24.565Z"
   },
   {
    "duration": 30,
    "start_time": "2023-09-01T11:17:25.732Z"
   },
   {
    "duration": 32,
    "start_time": "2023-09-01T11:17:25.764Z"
   },
   {
    "duration": 72,
    "start_time": "2023-09-01T11:17:25.798Z"
   },
   {
    "duration": 45,
    "start_time": "2023-09-01T11:17:25.872Z"
   },
   {
    "duration": 28,
    "start_time": "2023-09-01T11:17:25.919Z"
   },
   {
    "duration": 42,
    "start_time": "2023-09-01T11:17:25.949Z"
   },
   {
    "duration": 41,
    "start_time": "2023-09-01T11:17:25.992Z"
   },
   {
    "duration": 942,
    "start_time": "2023-09-01T11:17:26.035Z"
   },
   {
    "duration": 5,
    "start_time": "2023-09-01T11:17:26.981Z"
   },
   {
    "duration": 24,
    "start_time": "2023-09-01T11:17:26.988Z"
   },
   {
    "duration": 31,
    "start_time": "2023-09-01T11:17:27.014Z"
   },
   {
    "duration": 53,
    "start_time": "2023-09-01T11:17:27.047Z"
   },
   {
    "duration": 33,
    "start_time": "2023-09-01T11:17:27.102Z"
   },
   {
    "duration": 25,
    "start_time": "2023-09-01T11:17:27.137Z"
   },
   {
    "duration": 36,
    "start_time": "2023-09-01T11:17:27.165Z"
   },
   {
    "duration": 83,
    "start_time": "2023-09-01T11:17:27.203Z"
   },
   {
    "duration": 24,
    "start_time": "2023-09-01T11:17:27.288Z"
   },
   {
    "duration": 33,
    "start_time": "2023-09-01T11:17:27.314Z"
   },
   {
    "duration": 10,
    "start_time": "2023-09-01T11:17:27.349Z"
   },
   {
    "duration": 28,
    "start_time": "2023-09-01T11:17:27.362Z"
   },
   {
    "duration": 70,
    "start_time": "2023-09-01T11:17:27.393Z"
   },
   {
    "duration": 93,
    "start_time": "2023-09-01T11:17:27.465Z"
   },
   {
    "duration": 19,
    "start_time": "2023-09-01T11:17:27.561Z"
   },
   {
    "duration": 29,
    "start_time": "2023-09-01T11:17:27.582Z"
   },
   {
    "duration": 8,
    "start_time": "2023-09-01T20:02:26.707Z"
   },
   {
    "duration": 7,
    "start_time": "2023-09-01T20:02:33.295Z"
   },
   {
    "duration": 9,
    "start_time": "2023-09-01T20:02:46.852Z"
   },
   {
    "duration": 7,
    "start_time": "2023-09-01T20:03:06.008Z"
   },
   {
    "duration": 7,
    "start_time": "2023-09-01T20:03:19.284Z"
   },
   {
    "duration": 6,
    "start_time": "2023-09-01T20:03:36.079Z"
   },
   {
    "duration": 4,
    "start_time": "2023-09-01T20:03:48.235Z"
   },
   {
    "duration": 10,
    "start_time": "2023-09-01T20:04:01.011Z"
   },
   {
    "duration": 8,
    "start_time": "2023-09-01T20:04:33.348Z"
   },
   {
    "duration": 4,
    "start_time": "2023-09-01T20:04:38.098Z"
   },
   {
    "duration": 9,
    "start_time": "2023-09-01T20:04:39.784Z"
   },
   {
    "duration": 97,
    "start_time": "2023-09-01T20:05:39.010Z"
   },
   {
    "duration": 94,
    "start_time": "2023-09-01T20:06:23.323Z"
   }
  ],
  "kernelspec": {
   "display_name": "Python 3 (ipykernel)",
   "language": "python",
   "name": "python3"
  },
  "language_info": {
   "codemirror_mode": {
    "name": "ipython",
    "version": 3
   },
   "file_extension": ".py",
   "mimetype": "text/x-python",
   "name": "python",
   "nbconvert_exporter": "python",
   "pygments_lexer": "ipython3",
   "version": "3.9.5"
  },
  "toc": {
   "base_numbering": 1,
   "nav_menu": {},
   "number_sections": true,
   "sideBar": true,
   "skip_h1_title": true,
   "title_cell": "Содержание",
   "title_sidebar": "Contents",
   "toc_cell": true,
   "toc_position": {
    "height": "calc(100% - 180px)",
    "left": "10px",
    "top": "150px",
    "width": "165px"
   },
   "toc_section_display": true,
   "toc_window_display": true
  }
 },
 "nbformat": 4,
 "nbformat_minor": 2
}
