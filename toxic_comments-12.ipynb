{
 "cells": [
  {
   "cell_type": "markdown",
   "metadata": {
    "toc": true
   },
   "source": [
    "<h1>Содержание<span class=\"tocSkip\"></span></h1>\n",
    "<div class=\"toc\"><ul class=\"toc-item\"><li><span><a href=\"#Подготовка\" data-toc-modified-id=\"Подготовка-1\"><span class=\"toc-item-num\">1&nbsp;&nbsp;</span>Подготовка</a></span><ul class=\"toc-item\"><li><span><a href=\"#Первичный-осмотр-данных\" data-toc-modified-id=\"Первичный-осмотр-данных-1.1\"><span class=\"toc-item-num\">1.1&nbsp;&nbsp;</span>Первичный осмотр данных</a></span></li><li><span><a href=\"#Очистка-текста\" data-toc-modified-id=\"Очистка-текста-1.2\"><span class=\"toc-item-num\">1.2&nbsp;&nbsp;</span>Очистка текста</a></span></li><li><span><a href=\"#Лемматизация\" data-toc-modified-id=\"Лемматизация-1.3\"><span class=\"toc-item-num\">1.3&nbsp;&nbsp;</span>Лемматизация</a></span></li><li><span><a href=\"#Деление-на-выборки\" data-toc-modified-id=\"Деление-на-выборки-1.4\"><span class=\"toc-item-num\">1.4&nbsp;&nbsp;</span>Деление на выборки</a></span></li><li><span><a href=\"#TF-IDF\" data-toc-modified-id=\"TF-IDF-1.5\"><span class=\"toc-item-num\">1.5&nbsp;&nbsp;</span>TF-IDF</a></span></li></ul></li><li><span><a href=\"#Обучение\" data-toc-modified-id=\"Обучение-2\"><span class=\"toc-item-num\">2&nbsp;&nbsp;</span>Обучение</a></span><ul class=\"toc-item\"><li><span><a href=\"#Логистическая-регрессия\" data-toc-modified-id=\"Логистическая-регрессия-2.1\"><span class=\"toc-item-num\">2.1&nbsp;&nbsp;</span>Логистическая регрессия</a></span></li><li><span><a href=\"#Случайный-лес\" data-toc-modified-id=\"Случайный-лес-2.2\"><span class=\"toc-item-num\">2.2&nbsp;&nbsp;</span>Случайный лес</a></span></li><li><span><a href=\"#Метод-опорных-векторов\" data-toc-modified-id=\"Метод-опорных-векторов-2.3\"><span class=\"toc-item-num\">2.3&nbsp;&nbsp;</span>Метод опорных векторов</a></span></li><li><span><a href=\"#Сравнение-моделей\" data-toc-modified-id=\"Сравнение-моделей-2.4\"><span class=\"toc-item-num\">2.4&nbsp;&nbsp;</span>Сравнение моделей</a></span></li><li><span><a href=\"#Проверка-лучшей-модели-на-тестовой-выборке\" data-toc-modified-id=\"Проверка-лучшей-модели-на-тестовой-выборке-2.5\"><span class=\"toc-item-num\">2.5&nbsp;&nbsp;</span>Проверка лучшей модели на тестовой выборке</a></span></li></ul></li><li><span><a href=\"#Выводы\" data-toc-modified-id=\"Выводы-3\"><span class=\"toc-item-num\">3&nbsp;&nbsp;</span>Выводы</a></span></li><li><span><a href=\"#Чек-лист-проверки\" data-toc-modified-id=\"Чек-лист-проверки-4\"><span class=\"toc-item-num\">4&nbsp;&nbsp;</span>Чек-лист проверки</a></span></li></ul></div>"
   ]
  },
  {
   "cell_type": "markdown",
   "metadata": {},
   "source": [
    "# Модерация комментариев"
   ]
  },
  {
   "cell_type": "markdown",
   "metadata": {},
   "source": [
    "Интернет-магазин вводит новый сервис: теперь пользователи имеют возможность редактировать и дополнять описания товаров, аналогично вики-сообществам. Это означает, что клиенты могут предлагать свои правки и комментировать изменения, сделанные другими. Для этого магазину необходим инструмент, который будет автоматически обнаруживать токсичные комментарии и отправлять их на модерацию.\n",
    "\n",
    "Обучите модель классифицировать комментарии на позитивные и негативные. В вашем распоряжении набор данных с разметкой о токсичности правок.\n",
    "\n",
    "Постройте модель со значением метрики качества *F1* не меньше 0.75. \n",
    "\n",
    "**Инструкция по выполнению проекта**\n",
    "\n",
    "1. Загрузите и подготовьте данные.\n",
    "2. Обучите разные модели. \n",
    "3. Сделайте выводы.\n",
    "\n",
    "\n",
    "**Описание данных**\n",
    "\n",
    "Данные находятся в файле `toxic_comments.csv`. Столбец *text* в нём содержит текст комментария, а *toxic* — целевой признак."
   ]
  },
  {
   "cell_type": "markdown",
   "metadata": {},
   "source": [
    "## Подготовка\n",
    "### Первичный осмотр данных"
   ]
  },
  {
   "cell_type": "code",
   "execution_count": 1,
   "metadata": {},
   "outputs": [
    {
     "name": "stderr",
     "output_type": "stream",
     "text": [
      "[nltk_data] Downloading package averaged_perceptron_tagger to\n",
      "[nltk_data]     /home/jovyan/nltk_data...\n",
      "[nltk_data]   Package averaged_perceptron_tagger is already up-to-\n",
      "[nltk_data]       date!\n"
     ]
    }
   ],
   "source": [
    "import os\n",
    "import pandas as pd\n",
    "import numpy as np\n",
    "import re\n",
    "import nltk\n",
    "import matplotlib.pyplot as plt\n",
    "from nltk.tokenize import word_tokenize\n",
    "from nltk.stem import WordNetLemmatizer\n",
    "from sklearn.model_selection import train_test_split\n",
    "from sklearn.feature_extraction.text import TfidfVectorizer\n",
    "from sklearn.linear_model import LogisticRegression\n",
    "from sklearn.ensemble import RandomForestClassifier\n",
    "from sklearn.metrics import f1_score\n",
    "from nltk.corpus import wordnet, stopwords as nltk_stopwords\n",
    "from sklearn.model_selection import GridSearchCV, cross_val_score\n",
    "from sklearn.svm import LinearSVC\n",
    "import warnings\n",
    "warnings.filterwarnings(\"ignore\")\n",
    "\n",
    "nltk.download('averaged_perceptron_tagger')\n",
    "\n",
    "state = 123"
   ]
  },
  {
   "cell_type": "code",
   "execution_count": 2,
   "metadata": {},
   "outputs": [],
   "source": [
    "pth1 = '/datasets/toxic_comments.csv'\n",
    "pth2 = 'toxic_comments.csv'\n",
    "\n",
    "if os.path.exists(pth1):\n",
    "    data = pd.read_csv(pth1, index_col=[0])\n",
    "elif os.path.exists(pth2):\n",
    "    data = pd.read_csv(pth2, index_col=[0])\n",
    "else:\n",
    "    print('Something is wrong')"
   ]
  },
  {
   "cell_type": "code",
   "execution_count": 3,
   "metadata": {
    "scrolled": true
   },
   "outputs": [
    {
     "name": "stdout",
     "output_type": "stream",
     "text": [
      "<class 'pandas.core.frame.DataFrame'>\n",
      "Int64Index: 159292 entries, 0 to 159450\n",
      "Data columns (total 2 columns):\n",
      " #   Column  Non-Null Count   Dtype \n",
      "---  ------  --------------   ----- \n",
      " 0   text    159292 non-null  object\n",
      " 1   toxic   159292 non-null  int64 \n",
      "dtypes: int64(1), object(1)\n",
      "memory usage: 3.6+ MB\n"
     ]
    }
   ],
   "source": [
    "data.info()"
   ]
  },
  {
   "cell_type": "code",
   "execution_count": 4,
   "metadata": {},
   "outputs": [
    {
     "data": {
      "text/plain": [
       "(159292, 2)"
      ]
     },
     "execution_count": 4,
     "metadata": {},
     "output_type": "execute_result"
    }
   ],
   "source": [
    "data.shape"
   ]
  },
  {
   "cell_type": "code",
   "execution_count": 5,
   "metadata": {
    "scrolled": true
   },
   "outputs": [
    {
     "data": {
      "text/html": [
       "<div>\n",
       "<style scoped>\n",
       "    .dataframe tbody tr th:only-of-type {\n",
       "        vertical-align: middle;\n",
       "    }\n",
       "\n",
       "    .dataframe tbody tr th {\n",
       "        vertical-align: top;\n",
       "    }\n",
       "\n",
       "    .dataframe thead th {\n",
       "        text-align: right;\n",
       "    }\n",
       "</style>\n",
       "<table border=\"1\" class=\"dataframe\">\n",
       "  <thead>\n",
       "    <tr style=\"text-align: right;\">\n",
       "      <th></th>\n",
       "      <th>text</th>\n",
       "      <th>toxic</th>\n",
       "    </tr>\n",
       "  </thead>\n",
       "  <tbody>\n",
       "    <tr>\n",
       "      <th>0</th>\n",
       "      <td>Explanation\\nWhy the edits made under my usern...</td>\n",
       "      <td>0</td>\n",
       "    </tr>\n",
       "    <tr>\n",
       "      <th>1</th>\n",
       "      <td>D'aww! He matches this background colour I'm s...</td>\n",
       "      <td>0</td>\n",
       "    </tr>\n",
       "    <tr>\n",
       "      <th>2</th>\n",
       "      <td>Hey man, I'm really not trying to edit war. It...</td>\n",
       "      <td>0</td>\n",
       "    </tr>\n",
       "    <tr>\n",
       "      <th>3</th>\n",
       "      <td>\"\\nMore\\nI can't make any real suggestions on ...</td>\n",
       "      <td>0</td>\n",
       "    </tr>\n",
       "    <tr>\n",
       "      <th>4</th>\n",
       "      <td>You, sir, are my hero. Any chance you remember...</td>\n",
       "      <td>0</td>\n",
       "    </tr>\n",
       "    <tr>\n",
       "      <th>5</th>\n",
       "      <td>\"\\n\\nCongratulations from me as well, use the ...</td>\n",
       "      <td>0</td>\n",
       "    </tr>\n",
       "    <tr>\n",
       "      <th>6</th>\n",
       "      <td>COCKSUCKER BEFORE YOU PISS AROUND ON MY WORK</td>\n",
       "      <td>1</td>\n",
       "    </tr>\n",
       "    <tr>\n",
       "      <th>7</th>\n",
       "      <td>Your vandalism to the Matt Shirvington article...</td>\n",
       "      <td>0</td>\n",
       "    </tr>\n",
       "    <tr>\n",
       "      <th>8</th>\n",
       "      <td>Sorry if the word 'nonsense' was offensive to ...</td>\n",
       "      <td>0</td>\n",
       "    </tr>\n",
       "    <tr>\n",
       "      <th>9</th>\n",
       "      <td>alignment on this subject and which are contra...</td>\n",
       "      <td>0</td>\n",
       "    </tr>\n",
       "  </tbody>\n",
       "</table>\n",
       "</div>"
      ],
      "text/plain": [
       "                                                text  toxic\n",
       "0  Explanation\\nWhy the edits made under my usern...      0\n",
       "1  D'aww! He matches this background colour I'm s...      0\n",
       "2  Hey man, I'm really not trying to edit war. It...      0\n",
       "3  \"\\nMore\\nI can't make any real suggestions on ...      0\n",
       "4  You, sir, are my hero. Any chance you remember...      0\n",
       "5  \"\\n\\nCongratulations from me as well, use the ...      0\n",
       "6       COCKSUCKER BEFORE YOU PISS AROUND ON MY WORK      1\n",
       "7  Your vandalism to the Matt Shirvington article...      0\n",
       "8  Sorry if the word 'nonsense' was offensive to ...      0\n",
       "9  alignment on this subject and which are contra...      0"
      ]
     },
     "execution_count": 5,
     "metadata": {},
     "output_type": "execute_result"
    }
   ],
   "source": [
    "data.head(10)"
   ]
  },
  {
   "cell_type": "code",
   "execution_count": 6,
   "metadata": {},
   "outputs": [
    {
     "data": {
      "text/plain": [
       "0    143106\n",
       "1     16186\n",
       "Name: toxic, dtype: int64"
      ]
     },
     "execution_count": 6,
     "metadata": {},
     "output_type": "execute_result"
    }
   ],
   "source": [
    "data['toxic'].value_counts()"
   ]
  },
  {
   "cell_type": "code",
   "execution_count": 7,
   "metadata": {},
   "outputs": [
    {
     "data": {
      "text/plain": [
       "0    89.838787\n",
       "1    10.161213\n",
       "Name: toxic, dtype: float64"
      ]
     },
     "execution_count": 7,
     "metadata": {},
     "output_type": "execute_result"
    }
   ],
   "source": [
    "data['toxic'].value_counts(normalize=True) * 100"
   ]
  },
  {
   "cell_type": "markdown",
   "metadata": {},
   "source": [
    "Наблюдается значительный дисбаланс классов в пользу отрицательного - его в 9 раз больше. Это стоит учитывать при обучении.\n",
    "\n",
    "### Очистка текста\n",
    "Очистим тексты от лишних символов при помощи регулярных выражений."
   ]
  },
  {
   "cell_type": "code",
   "execution_count": 8,
   "metadata": {},
   "outputs": [],
   "source": [
    "def clear_text(text):\n",
    "    text = re.sub(r'[^a-zA-Z ]', ' ', text)\n",
    "    text = text.lower()\n",
    "    text = text.split()\n",
    "    return ' '.join(text)"
   ]
  },
  {
   "cell_type": "code",
   "execution_count": 9,
   "metadata": {},
   "outputs": [],
   "source": [
    "data['text'] = data['text'].apply(clear_text)"
   ]
  },
  {
   "cell_type": "code",
   "execution_count": 10,
   "metadata": {},
   "outputs": [
    {
     "data": {
      "text/html": [
       "<div>\n",
       "<style scoped>\n",
       "    .dataframe tbody tr th:only-of-type {\n",
       "        vertical-align: middle;\n",
       "    }\n",
       "\n",
       "    .dataframe tbody tr th {\n",
       "        vertical-align: top;\n",
       "    }\n",
       "\n",
       "    .dataframe thead th {\n",
       "        text-align: right;\n",
       "    }\n",
       "</style>\n",
       "<table border=\"1\" class=\"dataframe\">\n",
       "  <thead>\n",
       "    <tr style=\"text-align: right;\">\n",
       "      <th></th>\n",
       "      <th>text</th>\n",
       "      <th>toxic</th>\n",
       "    </tr>\n",
       "  </thead>\n",
       "  <tbody>\n",
       "    <tr>\n",
       "      <th>12075</th>\n",
       "      <td>the image the main image it s not clean to non...</td>\n",
       "      <td>0</td>\n",
       "    </tr>\n",
       "    <tr>\n",
       "      <th>105772</th>\n",
       "      <td>regarding errors in the intro formula p z i k ...</td>\n",
       "      <td>0</td>\n",
       "    </tr>\n",
       "    <tr>\n",
       "      <th>59537</th>\n",
       "      <td>if you still think the statement is not reliab...</td>\n",
       "      <td>0</td>\n",
       "    </tr>\n",
       "    <tr>\n",
       "      <th>26500</th>\n",
       "      <td>i ve blocked you for forty eight hours for you...</td>\n",
       "      <td>0</td>\n",
       "    </tr>\n",
       "    <tr>\n",
       "      <th>114640</th>\n",
       "      <td>returned advice i strongly recommend that you ...</td>\n",
       "      <td>0</td>\n",
       "    </tr>\n",
       "    <tr>\n",
       "      <th>85465</th>\n",
       "      <td>okay but i made the page jakewater so how is t...</td>\n",
       "      <td>0</td>\n",
       "    </tr>\n",
       "    <tr>\n",
       "      <th>51296</th>\n",
       "      <td>an announcement i would like to make i am now ...</td>\n",
       "      <td>1</td>\n",
       "    </tr>\n",
       "    <tr>\n",
       "      <th>135829</th>\n",
       "      <td>berkley high school edit first the edit to the...</td>\n",
       "      <td>0</td>\n",
       "    </tr>\n",
       "    <tr>\n",
       "      <th>93126</th>\n",
       "      <td>he deleted my discussion so i delete his i wou...</td>\n",
       "      <td>0</td>\n",
       "    </tr>\n",
       "    <tr>\n",
       "      <th>127177</th>\n",
       "      <td>oops i didn t request a new ip from dhcp anywa...</td>\n",
       "      <td>1</td>\n",
       "    </tr>\n",
       "    <tr>\n",
       "      <th>103090</th>\n",
       "      <td>and i wonder one thing too how much celcius de...</td>\n",
       "      <td>0</td>\n",
       "    </tr>\n",
       "    <tr>\n",
       "      <th>101690</th>\n",
       "      <td>if it all sounds like too much hassle i also u...</td>\n",
       "      <td>0</td>\n",
       "    </tr>\n",
       "    <tr>\n",
       "      <th>20383</th>\n",
       "      <td>harut grigorian would you please undelete this...</td>\n",
       "      <td>0</td>\n",
       "    </tr>\n",
       "    <tr>\n",
       "      <th>96359</th>\n",
       "      <td>another administator impersonator</td>\n",
       "      <td>0</td>\n",
       "    </tr>\n",
       "    <tr>\n",
       "      <th>70156</th>\n",
       "      <td>this is a bio about a church pastor who served...</td>\n",
       "      <td>0</td>\n",
       "    </tr>\n",
       "    <tr>\n",
       "      <th>152939</th>\n",
       "      <td>i m not sure whether there s a guideline you m...</td>\n",
       "      <td>0</td>\n",
       "    </tr>\n",
       "    <tr>\n",
       "      <th>134159</th>\n",
       "      <td>see your language first a source of unthinking...</td>\n",
       "      <td>0</td>\n",
       "    </tr>\n",
       "    <tr>\n",
       "      <th>96644</th>\n",
       "      <td>august utc democratic party offices around the...</td>\n",
       "      <td>0</td>\n",
       "    </tr>\n",
       "    <tr>\n",
       "      <th>111041</th>\n",
       "      <td>talk it doesn t matter you are already being r...</td>\n",
       "      <td>0</td>\n",
       "    </tr>\n",
       "    <tr>\n",
       "      <th>66827</th>\n",
       "      <td>criticisms that page has no substantiated clai...</td>\n",
       "      <td>0</td>\n",
       "    </tr>\n",
       "  </tbody>\n",
       "</table>\n",
       "</div>"
      ],
      "text/plain": [
       "                                                     text  toxic\n",
       "12075   the image the main image it s not clean to non...      0\n",
       "105772  regarding errors in the intro formula p z i k ...      0\n",
       "59537   if you still think the statement is not reliab...      0\n",
       "26500   i ve blocked you for forty eight hours for you...      0\n",
       "114640  returned advice i strongly recommend that you ...      0\n",
       "85465   okay but i made the page jakewater so how is t...      0\n",
       "51296   an announcement i would like to make i am now ...      1\n",
       "135829  berkley high school edit first the edit to the...      0\n",
       "93126   he deleted my discussion so i delete his i wou...      0\n",
       "127177  oops i didn t request a new ip from dhcp anywa...      1\n",
       "103090  and i wonder one thing too how much celcius de...      0\n",
       "101690  if it all sounds like too much hassle i also u...      0\n",
       "20383   harut grigorian would you please undelete this...      0\n",
       "96359                   another administator impersonator      0\n",
       "70156   this is a bio about a church pastor who served...      0\n",
       "152939  i m not sure whether there s a guideline you m...      0\n",
       "134159  see your language first a source of unthinking...      0\n",
       "96644   august utc democratic party offices around the...      0\n",
       "111041  talk it doesn t matter you are already being r...      0\n",
       "66827   criticisms that page has no substantiated clai...      0"
      ]
     },
     "execution_count": 10,
     "metadata": {},
     "output_type": "execute_result"
    }
   ],
   "source": [
    "data.sample(20)"
   ]
  },
  {
   "cell_type": "markdown",
   "metadata": {},
   "source": [
    "### Лемматизация\n",
    "Проведем лемматизацию."
   ]
  },
  {
   "cell_type": "code",
   "execution_count": 11,
   "metadata": {},
   "outputs": [],
   "source": [
    "m = WordNetLemmatizer()\n",
    "\n",
    "def get_wordnet_pos(word):\n",
    "    \"\"\"Map POS tag to first character lemmatize() accepts\"\"\"\n",
    "    tag = nltk.pos_tag([word])[0][1][0].upper()\n",
    "    tag_dict = {\"J\": wordnet.ADJ,\n",
    "                \"N\": wordnet.NOUN,\n",
    "                \"V\": wordnet.VERB,\n",
    "                \"R\": wordnet.ADV}\n",
    "    return tag_dict.get(tag, wordnet.NOUN)\n",
    "\n",
    "def lemmatize(text):\n",
    "    token = nltk.word_tokenize(text)\n",
    "    return ' '.join(m.lemmatize(word, get_wordnet_pos(word)) for word in token)"
   ]
  },
  {
   "cell_type": "code",
   "execution_count": 12,
   "metadata": {},
   "outputs": [],
   "source": [
    "data['lem_text'] = data['text'].apply(lemmatize)"
   ]
  },
  {
   "cell_type": "code",
   "execution_count": 13,
   "metadata": {},
   "outputs": [
    {
     "data": {
      "text/html": [
       "<div>\n",
       "<style scoped>\n",
       "    .dataframe tbody tr th:only-of-type {\n",
       "        vertical-align: middle;\n",
       "    }\n",
       "\n",
       "    .dataframe tbody tr th {\n",
       "        vertical-align: top;\n",
       "    }\n",
       "\n",
       "    .dataframe thead th {\n",
       "        text-align: right;\n",
       "    }\n",
       "</style>\n",
       "<table border=\"1\" class=\"dataframe\">\n",
       "  <thead>\n",
       "    <tr style=\"text-align: right;\">\n",
       "      <th></th>\n",
       "      <th>text</th>\n",
       "      <th>toxic</th>\n",
       "      <th>lem_text</th>\n",
       "    </tr>\n",
       "  </thead>\n",
       "  <tbody>\n",
       "    <tr>\n",
       "      <th>0</th>\n",
       "      <td>explanation why the edits made under my userna...</td>\n",
       "      <td>0</td>\n",
       "      <td>explanation why the edits make under my userna...</td>\n",
       "    </tr>\n",
       "    <tr>\n",
       "      <th>1</th>\n",
       "      <td>d aww he matches this background colour i m se...</td>\n",
       "      <td>0</td>\n",
       "      <td>d aww he match this background colour i m seem...</td>\n",
       "    </tr>\n",
       "    <tr>\n",
       "      <th>2</th>\n",
       "      <td>hey man i m really not trying to edit war it s...</td>\n",
       "      <td>0</td>\n",
       "      <td>hey man i m really not try to edit war it s ju...</td>\n",
       "    </tr>\n",
       "    <tr>\n",
       "      <th>3</th>\n",
       "      <td>more i can t make any real suggestions on impr...</td>\n",
       "      <td>0</td>\n",
       "      <td>more i can t make any real suggestion on impro...</td>\n",
       "    </tr>\n",
       "    <tr>\n",
       "      <th>4</th>\n",
       "      <td>you sir are my hero any chance you remember wh...</td>\n",
       "      <td>0</td>\n",
       "      <td>you sir be my hero any chance you remember wha...</td>\n",
       "    </tr>\n",
       "  </tbody>\n",
       "</table>\n",
       "</div>"
      ],
      "text/plain": [
       "                                                text  toxic  \\\n",
       "0  explanation why the edits made under my userna...      0   \n",
       "1  d aww he matches this background colour i m se...      0   \n",
       "2  hey man i m really not trying to edit war it s...      0   \n",
       "3  more i can t make any real suggestions on impr...      0   \n",
       "4  you sir are my hero any chance you remember wh...      0   \n",
       "\n",
       "                                            lem_text  \n",
       "0  explanation why the edits make under my userna...  \n",
       "1  d aww he match this background colour i m seem...  \n",
       "2  hey man i m really not try to edit war it s ju...  \n",
       "3  more i can t make any real suggestion on impro...  \n",
       "4  you sir be my hero any chance you remember wha...  "
      ]
     },
     "execution_count": 13,
     "metadata": {},
     "output_type": "execute_result"
    }
   ],
   "source": [
    "data.head()"
   ]
  },
  {
   "cell_type": "markdown",
   "metadata": {},
   "source": [
    "### Деление на выборки\n",
    "Разделим датасет на фичи и таргет, а зачем на выборки - обучающую и тестовую."
   ]
  },
  {
   "cell_type": "code",
   "execution_count": 14,
   "metadata": {},
   "outputs": [
    {
     "data": {
      "text/plain": [
       "((135398,), (23894,))"
      ]
     },
     "execution_count": 14,
     "metadata": {},
     "output_type": "execute_result"
    }
   ],
   "source": [
    "features = data['lem_text']\n",
    "target = data['toxic']\n",
    "features_train, features_test, target_train, target_test = train_test_split(features, target,\\\n",
    "                                                                            test_size=0.15, stratify = target,\\\n",
    "                                                                            random_state=state)\n",
    "features_train.shape, features_test.shape"
   ]
  },
  {
   "cell_type": "markdown",
   "metadata": {},
   "source": [
    "### TF-IDF\n",
    "Вычислим TF-IDF."
   ]
  },
  {
   "cell_type": "code",
   "execution_count": 15,
   "metadata": {},
   "outputs": [],
   "source": [
    "stopwords = set(nltk_stopwords.words('english'))\n",
    "\n",
    "count_tf_idf = TfidfVectorizer(stop_words=stopwords)\n",
    "tfidf_train = count_tf_idf.fit_transform(features_train)\n",
    "tfidf_test = count_tf_idf.transform(features_test)"
   ]
  },
  {
   "cell_type": "markdown",
   "metadata": {},
   "source": [
    "## Обучение"
   ]
  },
  {
   "cell_type": "markdown",
   "metadata": {},
   "source": [
    "### Логистическая регрессия"
   ]
  },
  {
   "cell_type": "code",
   "execution_count": 16,
   "metadata": {},
   "outputs": [
    {
     "name": "stdout",
     "output_type": "stream",
     "text": [
      "Fitting 3 folds for each of 32 candidates, totalling 96 fits\n",
      "[CV] END C=1, class_weight=None, penalty=l2, solver=liblinear; total time=   7.8s\n",
      "[CV] END C=1, class_weight=None, penalty=l2, solver=liblinear; total time=   8.1s\n",
      "[CV] END C=1, class_weight=None, penalty=l2, solver=liblinear; total time=   7.0s\n",
      "[CV] END ....C=1, class_weight=None, penalty=l2, solver=saga; total time=   2.0s\n",
      "[CV] END ....C=1, class_weight=None, penalty=l2, solver=saga; total time=   2.0s\n",
      "[CV] END ....C=1, class_weight=None, penalty=l2, solver=saga; total time=   1.9s\n",
      "[CV] END C=1, class_weight=None, penalty=l1, solver=liblinear; total time=   1.1s\n",
      "[CV] END C=1, class_weight=None, penalty=l1, solver=liblinear; total time=   1.2s\n",
      "[CV] END C=1, class_weight=None, penalty=l1, solver=liblinear; total time=   1.2s\n",
      "[CV] END ....C=1, class_weight=None, penalty=l1, solver=saga; total time=  23.2s\n",
      "[CV] END ....C=1, class_weight=None, penalty=l1, solver=saga; total time=  25.1s\n",
      "[CV] END ....C=1, class_weight=None, penalty=l1, solver=saga; total time=  20.9s\n",
      "[CV] END C=1, class_weight=balanced, penalty=l2, solver=liblinear; total time=  11.6s\n",
      "[CV] END C=1, class_weight=balanced, penalty=l2, solver=liblinear; total time=  12.2s\n",
      "[CV] END C=1, class_weight=balanced, penalty=l2, solver=liblinear; total time=  12.6s\n",
      "[CV] END C=1, class_weight=balanced, penalty=l2, solver=saga; total time=  10.5s\n",
      "[CV] END C=1, class_weight=balanced, penalty=l2, solver=saga; total time=  10.5s\n",
      "[CV] END C=1, class_weight=balanced, penalty=l2, solver=saga; total time=  10.3s\n",
      "[CV] END C=1, class_weight=balanced, penalty=l1, solver=liblinear; total time=   1.6s\n",
      "[CV] END C=1, class_weight=balanced, penalty=l1, solver=liblinear; total time=   1.6s\n",
      "[CV] END C=1, class_weight=balanced, penalty=l1, solver=liblinear; total time=   1.8s\n",
      "[CV] END C=1, class_weight=balanced, penalty=l1, solver=saga; total time= 1.8min\n",
      "[CV] END C=1, class_weight=balanced, penalty=l1, solver=saga; total time= 1.8min\n",
      "[CV] END C=1, class_weight=balanced, penalty=l1, solver=saga; total time= 1.8min\n",
      "[CV] END C=2, class_weight=None, penalty=l2, solver=liblinear; total time=   8.8s\n",
      "[CV] END C=2, class_weight=None, penalty=l2, solver=liblinear; total time=   9.1s\n",
      "[CV] END C=2, class_weight=None, penalty=l2, solver=liblinear; total time=   8.6s\n",
      "[CV] END ....C=2, class_weight=None, penalty=l2, solver=saga; total time=   2.1s\n",
      "[CV] END ....C=2, class_weight=None, penalty=l2, solver=saga; total time=   2.1s\n",
      "[CV] END ....C=2, class_weight=None, penalty=l2, solver=saga; total time=   2.3s\n",
      "[CV] END C=2, class_weight=None, penalty=l1, solver=liblinear; total time=   1.2s\n",
      "[CV] END C=2, class_weight=None, penalty=l1, solver=liblinear; total time=   1.3s\n",
      "[CV] END C=2, class_weight=None, penalty=l1, solver=liblinear; total time=   1.2s\n",
      "[CV] END ....C=2, class_weight=None, penalty=l1, solver=saga; total time= 1.3min\n",
      "[CV] END ....C=2, class_weight=None, penalty=l1, solver=saga; total time= 1.3min\n",
      "[CV] END ....C=2, class_weight=None, penalty=l1, solver=saga; total time= 1.2min\n",
      "[CV] END C=2, class_weight=balanced, penalty=l2, solver=liblinear; total time=  13.4s\n",
      "[CV] END C=2, class_weight=balanced, penalty=l2, solver=liblinear; total time=  13.4s\n",
      "[CV] END C=2, class_weight=balanced, penalty=l2, solver=liblinear; total time=  13.7s\n",
      "[CV] END C=2, class_weight=balanced, penalty=l2, solver=saga; total time=   9.7s\n",
      "[CV] END C=2, class_weight=balanced, penalty=l2, solver=saga; total time=   9.7s\n",
      "[CV] END C=2, class_weight=balanced, penalty=l2, solver=saga; total time=   9.7s\n",
      "[CV] END C=2, class_weight=balanced, penalty=l1, solver=liblinear; total time=   1.9s\n",
      "[CV] END C=2, class_weight=balanced, penalty=l1, solver=liblinear; total time=   1.9s\n",
      "[CV] END C=2, class_weight=balanced, penalty=l1, solver=liblinear; total time=   2.1s\n",
      "[CV] END C=2, class_weight=balanced, penalty=l1, solver=saga; total time= 2.9min\n",
      "[CV] END C=2, class_weight=balanced, penalty=l1, solver=saga; total time= 2.9min\n",
      "[CV] END C=2, class_weight=balanced, penalty=l1, solver=saga; total time= 2.9min\n",
      "[CV] END C=3, class_weight=None, penalty=l2, solver=liblinear; total time=  10.4s\n",
      "[CV] END C=3, class_weight=None, penalty=l2, solver=liblinear; total time=  10.3s\n",
      "[CV] END C=3, class_weight=None, penalty=l2, solver=liblinear; total time=   9.8s\n",
      "[CV] END ....C=3, class_weight=None, penalty=l2, solver=saga; total time=   2.6s\n",
      "[CV] END ....C=3, class_weight=None, penalty=l2, solver=saga; total time=   2.7s\n",
      "[CV] END ....C=3, class_weight=None, penalty=l2, solver=saga; total time=   2.8s\n",
      "[CV] END C=3, class_weight=None, penalty=l1, solver=liblinear; total time=   1.5s\n",
      "[CV] END C=3, class_weight=None, penalty=l1, solver=liblinear; total time=   1.5s\n",
      "[CV] END C=3, class_weight=None, penalty=l1, solver=liblinear; total time=   1.5s\n",
      "[CV] END ....C=3, class_weight=None, penalty=l1, solver=saga; total time= 2.0min\n",
      "[CV] END ....C=3, class_weight=None, penalty=l1, solver=saga; total time= 2.0min\n",
      "[CV] END ....C=3, class_weight=None, penalty=l1, solver=saga; total time= 2.0min\n",
      "[CV] END C=3, class_weight=balanced, penalty=l2, solver=liblinear; total time=  18.2s\n",
      "[CV] END C=3, class_weight=balanced, penalty=l2, solver=liblinear; total time=  18.8s\n",
      "[CV] END C=3, class_weight=balanced, penalty=l2, solver=liblinear; total time=  18.7s\n",
      "[CV] END C=3, class_weight=balanced, penalty=l2, solver=saga; total time=  10.1s\n",
      "[CV] END C=3, class_weight=balanced, penalty=l2, solver=saga; total time=  10.0s\n",
      "[CV] END C=3, class_weight=balanced, penalty=l2, solver=saga; total time=  10.4s\n",
      "[CV] END C=3, class_weight=balanced, penalty=l1, solver=liblinear; total time=   2.6s\n",
      "[CV] END C=3, class_weight=balanced, penalty=l1, solver=liblinear; total time=   4.6s\n",
      "[CV] END C=3, class_weight=balanced, penalty=l1, solver=liblinear; total time=   2.7s\n",
      "[CV] END C=3, class_weight=balanced, penalty=l1, solver=saga; total time= 3.6min\n",
      "[CV] END C=3, class_weight=balanced, penalty=l1, solver=saga; total time= 3.6min\n",
      "[CV] END C=3, class_weight=balanced, penalty=l1, solver=saga; total time= 3.6min\n",
      "[CV] END C=4, class_weight=None, penalty=l2, solver=liblinear; total time=  11.9s\n",
      "[CV] END C=4, class_weight=None, penalty=l2, solver=liblinear; total time=   9.6s\n",
      "[CV] END C=4, class_weight=None, penalty=l2, solver=liblinear; total time=  10.3s\n",
      "[CV] END ....C=4, class_weight=None, penalty=l2, solver=saga; total time=   3.3s\n",
      "[CV] END ....C=4, class_weight=None, penalty=l2, solver=saga; total time=   3.6s\n",
      "[CV] END ....C=4, class_weight=None, penalty=l2, solver=saga; total time=   3.6s\n",
      "[CV] END C=4, class_weight=None, penalty=l1, solver=liblinear; total time=   1.7s\n",
      "[CV] END C=4, class_weight=None, penalty=l1, solver=liblinear; total time=   1.9s\n",
      "[CV] END C=4, class_weight=None, penalty=l1, solver=liblinear; total time=   1.8s\n",
      "[CV] END ....C=4, class_weight=None, penalty=l1, solver=saga; total time= 2.6min\n",
      "[CV] END ....C=4, class_weight=None, penalty=l1, solver=saga; total time= 2.7min\n",
      "[CV] END ....C=4, class_weight=None, penalty=l1, solver=saga; total time= 2.6min\n",
      "[CV] END C=4, class_weight=balanced, penalty=l2, solver=liblinear; total time=  17.2s\n",
      "[CV] END C=4, class_weight=balanced, penalty=l2, solver=liblinear; total time=  18.8s\n",
      "[CV] END C=4, class_weight=balanced, penalty=l2, solver=liblinear; total time=  20.3s\n",
      "[CV] END C=4, class_weight=balanced, penalty=l2, solver=saga; total time=  10.0s\n",
      "[CV] END C=4, class_weight=balanced, penalty=l2, solver=saga; total time=  10.3s\n",
      "[CV] END C=4, class_weight=balanced, penalty=l2, solver=saga; total time=  10.5s\n",
      "[CV] END C=4, class_weight=balanced, penalty=l1, solver=liblinear; total time=   3.3s\n",
      "[CV] END C=4, class_weight=balanced, penalty=l1, solver=liblinear; total time=   2.9s\n",
      "[CV] END C=4, class_weight=balanced, penalty=l1, solver=liblinear; total time=   3.1s\n",
      "[CV] END C=4, class_weight=balanced, penalty=l1, solver=saga; total time= 4.2min\n",
      "[CV] END C=4, class_weight=balanced, penalty=l1, solver=saga; total time= 4.2min\n",
      "[CV] END C=4, class_weight=balanced, penalty=l1, solver=saga; total time= 4.1min\n"
     ]
    },
    {
     "data": {
      "text/plain": [
       "GridSearchCV(cv=3, estimator=LogisticRegression(random_state=123), n_jobs=-1,\n",
       "             param_grid={'C': (1, 2, 3, 4), 'class_weight': (None, 'balanced'),\n",
       "                         'penalty': ('l2', 'l1'),\n",
       "                         'solver': ('liblinear', 'saga')},\n",
       "             scoring='f1', verbose=2)"
      ]
     },
     "execution_count": 16,
     "metadata": {},
     "output_type": "execute_result"
    }
   ],
   "source": [
    "lr = LogisticRegression(random_state = state)\n",
    "\n",
    "lr_params = {\n",
    "    'class_weight': (None, 'balanced'),\n",
    "    'solver': ('liblinear', 'saga'),\n",
    "    'penalty': ('l2', 'l1'),\n",
    "    'C': (1, 2, 3, 4)\n",
    "}\n",
    "\n",
    "logreg = GridSearchCV(lr, \n",
    "                      lr_params, \n",
    "                      cv=3, \n",
    "                      verbose=2, \n",
    "                      scoring='f1',\n",
    "                      n_jobs = -1)\n",
    "\n",
    "logreg.fit(tfidf_train, target_train)"
   ]
  },
  {
   "cell_type": "code",
   "execution_count": 17,
   "metadata": {},
   "outputs": [
    {
     "data": {
      "text/plain": [
       "{'C': 4, 'class_weight': None, 'penalty': 'l1', 'solver': 'saga'}"
      ]
     },
     "execution_count": 17,
     "metadata": {},
     "output_type": "execute_result"
    }
   ],
   "source": [
    "logreg.best_params_"
   ]
  },
  {
   "cell_type": "code",
   "execution_count": 18,
   "metadata": {},
   "outputs": [
    {
     "data": {
      "text/plain": [
       "0.7698832831207335"
      ]
     },
     "execution_count": 18,
     "metadata": {},
     "output_type": "execute_result"
    }
   ],
   "source": [
    "logreg.best_score_"
   ]
  },
  {
   "cell_type": "markdown",
   "metadata": {},
   "source": [
    "### Случайный лес"
   ]
  },
  {
   "cell_type": "code",
   "execution_count": 19,
   "metadata": {},
   "outputs": [
    {
     "name": "stdout",
     "output_type": "stream",
     "text": [
      "Fitting 3 folds for each of 12 candidates, totalling 36 fits\n",
      "[CV] END ....class_weight=None, max_depth=7, n_estimators=25; total time=   4.2s\n",
      "[CV] END ....class_weight=None, max_depth=7, n_estimators=25; total time=   4.3s\n",
      "[CV] END ....class_weight=None, max_depth=7, n_estimators=25; total time=   4.3s\n",
      "[CV] END ....class_weight=None, max_depth=7, n_estimators=50; total time=   8.3s\n",
      "[CV] END ....class_weight=None, max_depth=7, n_estimators=50; total time=   8.1s\n",
      "[CV] END ....class_weight=None, max_depth=7, n_estimators=50; total time=   8.2s\n",
      "[CV] END ...class_weight=None, max_depth=7, n_estimators=100; total time=  16.4s\n",
      "[CV] END ...class_weight=None, max_depth=7, n_estimators=100; total time=  16.5s\n",
      "[CV] END ...class_weight=None, max_depth=7, n_estimators=100; total time=  16.2s\n",
      "[CV] END ...class_weight=None, max_depth=10, n_estimators=25; total time=   6.1s\n",
      "[CV] END ...class_weight=None, max_depth=10, n_estimators=25; total time=   6.0s\n",
      "[CV] END ...class_weight=None, max_depth=10, n_estimators=25; total time=   6.1s\n",
      "[CV] END ...class_weight=None, max_depth=10, n_estimators=50; total time=  11.5s\n",
      "[CV] END ...class_weight=None, max_depth=10, n_estimators=50; total time=  11.6s\n",
      "[CV] END ...class_weight=None, max_depth=10, n_estimators=50; total time=  12.0s\n",
      "[CV] END ..class_weight=None, max_depth=10, n_estimators=100; total time=  23.1s\n",
      "[CV] END ..class_weight=None, max_depth=10, n_estimators=100; total time=  23.5s\n",
      "[CV] END ..class_weight=None, max_depth=10, n_estimators=100; total time=  23.6s\n",
      "[CV] END class_weight=balanced, max_depth=7, n_estimators=25; total time=   4.2s\n",
      "[CV] END class_weight=balanced, max_depth=7, n_estimators=25; total time=   4.4s\n",
      "[CV] END class_weight=balanced, max_depth=7, n_estimators=25; total time=   4.4s\n",
      "[CV] END class_weight=balanced, max_depth=7, n_estimators=50; total time=   8.4s\n",
      "[CV] END class_weight=balanced, max_depth=7, n_estimators=50; total time=   8.6s\n",
      "[CV] END class_weight=balanced, max_depth=7, n_estimators=50; total time=   8.5s\n",
      "[CV] END class_weight=balanced, max_depth=7, n_estimators=100; total time=  16.4s\n",
      "[CV] END class_weight=balanced, max_depth=7, n_estimators=100; total time=  16.8s\n",
      "[CV] END class_weight=balanced, max_depth=7, n_estimators=100; total time=  16.9s\n",
      "[CV] END class_weight=balanced, max_depth=10, n_estimators=25; total time=   5.9s\n",
      "[CV] END class_weight=balanced, max_depth=10, n_estimators=25; total time=   6.1s\n",
      "[CV] END class_weight=balanced, max_depth=10, n_estimators=25; total time=   5.9s\n",
      "[CV] END class_weight=balanced, max_depth=10, n_estimators=50; total time=  11.8s\n",
      "[CV] END class_weight=balanced, max_depth=10, n_estimators=50; total time=  11.8s\n",
      "[CV] END class_weight=balanced, max_depth=10, n_estimators=50; total time=  11.9s\n",
      "[CV] END class_weight=balanced, max_depth=10, n_estimators=100; total time=  23.1s\n",
      "[CV] END class_weight=balanced, max_depth=10, n_estimators=100; total time=  23.4s\n",
      "[CV] END class_weight=balanced, max_depth=10, n_estimators=100; total time=  23.4s\n"
     ]
    },
    {
     "data": {
      "text/plain": [
       "GridSearchCV(cv=3, estimator=RandomForestClassifier(random_state=123),\n",
       "             n_jobs=-1,\n",
       "             param_grid={'class_weight': (None, 'balanced'),\n",
       "                         'max_depth': (7, 10), 'n_estimators': (25, 50, 100)},\n",
       "             scoring='f1', verbose=2)"
      ]
     },
     "execution_count": 19,
     "metadata": {},
     "output_type": "execute_result"
    }
   ],
   "source": [
    "rf = RandomForestClassifier(random_state=state)\n",
    "forest_params = {\n",
    "    'max_depth': (7, 10),\n",
    "    'n_estimators': (25, 50, 100),\n",
    "    'class_weight': (None, 'balanced')\n",
    "}\n",
    "\n",
    "forest = GridSearchCV(rf, \n",
    "                      forest_params, \n",
    "                      cv=3, \n",
    "                      verbose=2, \n",
    "                      scoring='f1',\n",
    "                      n_jobs = -1)\n",
    "\n",
    "forest.fit(tfidf_train, target_train)"
   ]
  },
  {
   "cell_type": "code",
   "execution_count": 20,
   "metadata": {},
   "outputs": [
    {
     "data": {
      "text/plain": [
       "{'class_weight': 'balanced', 'max_depth': 10, 'n_estimators': 100}"
      ]
     },
     "execution_count": 20,
     "metadata": {},
     "output_type": "execute_result"
    }
   ],
   "source": [
    "forest.best_params_"
   ]
  },
  {
   "cell_type": "code",
   "execution_count": 21,
   "metadata": {},
   "outputs": [
    {
     "data": {
      "text/plain": [
       "0.3748750000721845"
      ]
     },
     "execution_count": 21,
     "metadata": {},
     "output_type": "execute_result"
    }
   ],
   "source": [
    "forest.best_score_"
   ]
  },
  {
   "cell_type": "markdown",
   "metadata": {},
   "source": [
    "### Метод опорных векторов"
   ]
  },
  {
   "cell_type": "markdown",
   "metadata": {},
   "source": [
    "Так как в датасете наблюдается дисбаланс, было принято попробовать еще одну модель обучения с учителей - метод опорных векторов, которую в различных источниках рекомендуют при такой проблеме.\n",
    "\n",
    "Для SVM была взята линейная модификация, так как согласно документации, она быстрее справится с большим объемом данных. "
   ]
  },
  {
   "cell_type": "code",
   "execution_count": 22,
   "metadata": {},
   "outputs": [
    {
     "name": "stdout",
     "output_type": "stream",
     "text": [
      "Fitting 3 folds for each of 8 candidates, totalling 24 fits\n",
      "[CV] END .............................C=1, class_weight=None; total time=   0.9s\n",
      "[CV] END .............................C=1, class_weight=None; total time=   0.9s\n",
      "[CV] END .............................C=1, class_weight=None; total time=   0.8s\n",
      "[CV] END .........................C=1, class_weight=balanced; total time=   2.8s\n",
      "[CV] END .........................C=1, class_weight=balanced; total time=   2.7s\n",
      "[CV] END .........................C=1, class_weight=balanced; total time=   2.7s\n",
      "[CV] END .............................C=2, class_weight=None; total time=   1.2s\n",
      "[CV] END .............................C=2, class_weight=None; total time=   1.2s\n",
      "[CV] END .............................C=2, class_weight=None; total time=   1.1s\n",
      "[CV] END .........................C=2, class_weight=balanced; total time=   4.1s\n",
      "[CV] END .........................C=2, class_weight=balanced; total time=   4.2s\n",
      "[CV] END .........................C=2, class_weight=balanced; total time=   4.2s\n",
      "[CV] END .............................C=3, class_weight=None; total time=   1.4s\n",
      "[CV] END .............................C=3, class_weight=None; total time=   1.5s\n",
      "[CV] END .............................C=3, class_weight=None; total time=   1.4s\n",
      "[CV] END .........................C=3, class_weight=balanced; total time=   6.5s\n",
      "[CV] END .........................C=3, class_weight=balanced; total time=   5.7s\n",
      "[CV] END .........................C=3, class_weight=balanced; total time=   5.4s\n",
      "[CV] END .............................C=4, class_weight=None; total time=   2.0s\n",
      "[CV] END .............................C=4, class_weight=None; total time=   2.0s\n",
      "[CV] END .............................C=4, class_weight=None; total time=   1.7s\n",
      "[CV] END .........................C=4, class_weight=balanced; total time=   6.6s\n",
      "[CV] END .........................C=4, class_weight=balanced; total time=   6.5s\n",
      "[CV] END .........................C=4, class_weight=balanced; total time=   6.6s\n"
     ]
    },
    {
     "data": {
      "text/plain": [
       "GridSearchCV(cv=3, estimator=LinearSVC(random_state=123), n_jobs=-1,\n",
       "             param_grid={'C': (1, 2, 3, 4), 'class_weight': (None, 'balanced')},\n",
       "             scoring='f1', verbose=2)"
      ]
     },
     "execution_count": 22,
     "metadata": {},
     "output_type": "execute_result"
    }
   ],
   "source": [
    "sv = LinearSVC(random_state = state)\n",
    "\n",
    "sv_params = {\n",
    "    'class_weight': (None, 'balanced'),\n",
    "    'C': (1, 2, 3, 4)\n",
    "}\n",
    "\n",
    "svm = GridSearchCV(sv, \n",
    "                   sv_params, \n",
    "                   cv=3, \n",
    "                   verbose=2, \n",
    "                   scoring='f1',\n",
    "                   n_jobs = -1)\n",
    "\n",
    "svm.fit(tfidf_train, target_train)"
   ]
  },
  {
   "cell_type": "code",
   "execution_count": 23,
   "metadata": {},
   "outputs": [
    {
     "data": {
      "text/plain": [
       "{'C': 1, 'class_weight': None}"
      ]
     },
     "execution_count": 23,
     "metadata": {},
     "output_type": "execute_result"
    }
   ],
   "source": [
    "svm.best_params_"
   ]
  },
  {
   "cell_type": "code",
   "execution_count": 24,
   "metadata": {},
   "outputs": [
    {
     "data": {
      "text/plain": [
       "0.7666336787652973"
      ]
     },
     "execution_count": 24,
     "metadata": {},
     "output_type": "execute_result"
    }
   ],
   "source": [
    "svm.best_score_"
   ]
  },
  {
   "cell_type": "markdown",
   "metadata": {},
   "source": [
    "### Сравнение моделей"
   ]
  },
  {
   "cell_type": "code",
   "execution_count": 25,
   "metadata": {},
   "outputs": [
    {
     "data": {
      "text/html": [
       "<div>\n",
       "<style scoped>\n",
       "    .dataframe tbody tr th:only-of-type {\n",
       "        vertical-align: middle;\n",
       "    }\n",
       "\n",
       "    .dataframe tbody tr th {\n",
       "        vertical-align: top;\n",
       "    }\n",
       "\n",
       "    .dataframe thead th {\n",
       "        text-align: right;\n",
       "    }\n",
       "</style>\n",
       "<table border=\"1\" class=\"dataframe\">\n",
       "  <thead>\n",
       "    <tr style=\"text-align: right;\">\n",
       "      <th></th>\n",
       "      <th>Model</th>\n",
       "      <th>F1 on CV</th>\n",
       "    </tr>\n",
       "  </thead>\n",
       "  <tbody>\n",
       "    <tr>\n",
       "      <th>0</th>\n",
       "      <td>Logistic Regression</td>\n",
       "      <td>0.770</td>\n",
       "    </tr>\n",
       "    <tr>\n",
       "      <th>2</th>\n",
       "      <td>Linear SVM</td>\n",
       "      <td>0.767</td>\n",
       "    </tr>\n",
       "    <tr>\n",
       "      <th>1</th>\n",
       "      <td>Random Forest</td>\n",
       "      <td>0.375</td>\n",
       "    </tr>\n",
       "  </tbody>\n",
       "</table>\n",
       "</div>"
      ],
      "text/plain": [
       "                 Model  F1 on CV\n",
       "0  Logistic Regression     0.770\n",
       "2           Linear SVM     0.767\n",
       "1        Random Forest     0.375"
      ]
     },
     "execution_count": 25,
     "metadata": {},
     "output_type": "execute_result"
    }
   ],
   "source": [
    "df = pd.DataFrame([['Logistic Regression', logreg.best_score_], \n",
    "                   ['Random Forest', forest.best_score_], \n",
    "                   ['Linear SVM', svm.best_score_]], \n",
    "                   columns=['Model', 'F1 on CV']).round({'F1 on CV': 3})\n",
    "df.sort_values(by='F1 on CV', ascending=False)"
   ]
  },
  {
   "cell_type": "markdown",
   "metadata": {},
   "source": [
    "### Проверка лучшей модели на тестовой выборке"
   ]
  },
  {
   "cell_type": "code",
   "execution_count": 26,
   "metadata": {},
   "outputs": [
    {
     "data": {
      "text/plain": [
       "0.7833814707842701"
      ]
     },
     "execution_count": 26,
     "metadata": {},
     "output_type": "execute_result"
    }
   ],
   "source": [
    "pred = logreg.best_estimator_.predict(tfidf_test)\n",
    "f1_score(target_test, pred)"
   ]
  },
  {
   "cell_type": "markdown",
   "metadata": {},
   "source": [
    "## Выводы"
   ]
  },
  {
   "cell_type": "markdown",
   "metadata": {},
   "source": [
    "В нашем распоряжении был набор данных с разметкой о токсичности правок. В них наблюдается заметный дисбаланс классов в сторону отрицательного (нетоксичного текста). \n",
    "\n",
    "Была проведена очистка текста от знаков препинания, тегов и прочей лишней информации, затем лемматизация, деление на стратифицированные выборки, расчет TF-IDF и подбор гиперпараметров для трех моделей - логистический регрессии, случайного леса и линейного методо опорных векторов.\n",
    "\n",
    "Лучший результат на кросс-валидации (f1 = 0.77) показала логистическая со следующими параметрами: <br>\n",
    "'C': 4, 'class_weight': None, 'penalty': 'l1', 'solver': 'saga'.<br>\n",
    "\n",
    "На тестовой выборке лучшая модель дала результат f1 = 0.78, что превосходит требуемый по заданию порог. "
   ]
  },
  {
   "cell_type": "markdown",
   "metadata": {},
   "source": []
  }
 ],
 "metadata": {
  "ExecuteTimeLog": [
   {
    "duration": 460,
    "start_time": "2023-11-06T16:18:38.048Z"
   },
   {
    "duration": 90,
    "start_time": "2023-11-06T16:20:44.307Z"
   },
   {
    "duration": 2,
    "start_time": "2023-11-06T16:20:50.721Z"
   },
   {
    "duration": 2395,
    "start_time": "2023-11-06T16:20:52.132Z"
   },
   {
    "duration": 33,
    "start_time": "2023-11-06T16:21:04.522Z"
   },
   {
    "duration": 12,
    "start_time": "2023-11-06T16:21:13.608Z"
   },
   {
    "duration": 4,
    "start_time": "2023-11-06T16:21:38.742Z"
   },
   {
    "duration": 32,
    "start_time": "2023-11-06T16:21:54.524Z"
   },
   {
    "duration": 870,
    "start_time": "2023-11-06T16:22:42.172Z"
   },
   {
    "duration": 31,
    "start_time": "2023-11-06T16:22:44.193Z"
   },
   {
    "duration": 7,
    "start_time": "2023-11-06T16:22:46.024Z"
   },
   {
    "duration": 14,
    "start_time": "2023-11-06T16:22:59.298Z"
   },
   {
    "duration": 8,
    "start_time": "2023-11-06T16:23:14.768Z"
   },
   {
    "duration": 10,
    "start_time": "2023-11-06T16:24:06.160Z"
   },
   {
    "duration": 6,
    "start_time": "2023-11-06T16:24:08.026Z"
   },
   {
    "duration": 4,
    "start_time": "2023-11-06T16:24:35.999Z"
   },
   {
    "duration": 3,
    "start_time": "2023-11-06T16:25:58.777Z"
   },
   {
    "duration": 11,
    "start_time": "2023-11-06T16:26:19.377Z"
   },
   {
    "duration": 10,
    "start_time": "2023-11-06T16:26:28.899Z"
   },
   {
    "duration": 12,
    "start_time": "2023-11-06T16:27:11.932Z"
   },
   {
    "duration": 10,
    "start_time": "2023-11-06T16:27:19.671Z"
   },
   {
    "duration": 18,
    "start_time": "2023-11-06T16:28:00.075Z"
   },
   {
    "duration": 11,
    "start_time": "2023-11-06T16:28:07.789Z"
   },
   {
    "duration": 7,
    "start_time": "2023-11-06T16:28:48.634Z"
   },
   {
    "duration": 11,
    "start_time": "2023-11-06T16:28:55.449Z"
   },
   {
    "duration": 10,
    "start_time": "2023-11-06T16:29:10.244Z"
   },
   {
    "duration": 15,
    "start_time": "2023-11-06T16:29:28.478Z"
   },
   {
    "duration": 887,
    "start_time": "2023-11-06T16:30:25.015Z"
   },
   {
    "duration": 2359,
    "start_time": "2023-11-06T16:31:15.041Z"
   },
   {
    "duration": 3,
    "start_time": "2023-11-06T16:31:28.474Z"
   },
   {
    "duration": 58,
    "start_time": "2023-11-06T16:31:53.613Z"
   },
   {
    "duration": 4,
    "start_time": "2023-11-06T16:32:04.840Z"
   },
   {
    "duration": 19,
    "start_time": "2023-11-06T16:32:08.895Z"
   },
   {
    "duration": 3,
    "start_time": "2023-11-06T16:32:10.248Z"
   },
   {
    "duration": 15,
    "start_time": "2023-11-06T16:32:11.690Z"
   },
   {
    "duration": 4,
    "start_time": "2023-11-06T16:32:55.427Z"
   },
   {
    "duration": 9,
    "start_time": "2023-11-06T16:33:00.066Z"
   },
   {
    "duration": 4,
    "start_time": "2023-11-06T16:33:14.059Z"
   },
   {
    "duration": 4,
    "start_time": "2023-11-06T16:34:19.804Z"
   },
   {
    "duration": 1216,
    "start_time": "2023-11-06T16:35:12.952Z"
   },
   {
    "duration": 2422,
    "start_time": "2023-11-06T16:35:14.170Z"
   },
   {
    "duration": 32,
    "start_time": "2023-11-06T16:35:16.593Z"
   },
   {
    "duration": 7,
    "start_time": "2023-11-06T16:35:16.627Z"
   },
   {
    "duration": 8,
    "start_time": "2023-11-06T16:35:16.636Z"
   },
   {
    "duration": 12,
    "start_time": "2023-11-06T16:35:16.645Z"
   },
   {
    "duration": 1983,
    "start_time": "2023-11-06T16:35:16.658Z"
   },
   {
    "duration": 12,
    "start_time": "2023-11-06T16:35:18.643Z"
   },
   {
    "duration": 9,
    "start_time": "2023-11-06T16:35:18.657Z"
   },
   {
    "duration": 110,
    "start_time": "2023-11-06T16:35:18.668Z"
   },
   {
    "duration": 201,
    "start_time": "2023-11-06T16:36:28.538Z"
   },
   {
    "duration": 9,
    "start_time": "2023-11-06T16:36:40.269Z"
   },
   {
    "duration": 586,
    "start_time": "2023-11-06T16:37:28.665Z"
   },
   {
    "duration": 5,
    "start_time": "2023-11-06T16:37:56.951Z"
   },
   {
    "duration": 3,
    "start_time": "2023-11-06T16:41:15.541Z"
   },
   {
    "duration": 22,
    "start_time": "2023-11-06T16:41:19.456Z"
   },
   {
    "duration": 372,
    "start_time": "2023-11-06T16:41:28.697Z"
   },
   {
    "duration": 3,
    "start_time": "2023-11-06T16:42:11.224Z"
   },
   {
    "duration": 1309,
    "start_time": "2023-11-06T16:42:12.780Z"
   },
   {
    "duration": 8,
    "start_time": "2023-11-06T16:42:20.338Z"
   },
   {
    "duration": 10,
    "start_time": "2023-11-06T16:42:32.480Z"
   },
   {
    "duration": 3,
    "start_time": "2023-11-06T16:42:48.584Z"
   },
   {
    "duration": 657,
    "start_time": "2023-11-06T16:42:50.301Z"
   },
   {
    "duration": 9,
    "start_time": "2023-11-06T16:42:53.576Z"
   },
   {
    "duration": 1528,
    "start_time": "2023-11-06T16:43:00.603Z"
   },
   {
    "duration": 836,
    "start_time": "2023-11-06T16:43:02.133Z"
   },
   {
    "duration": 25,
    "start_time": "2023-11-06T16:43:02.971Z"
   },
   {
    "duration": 16,
    "start_time": "2023-11-06T16:43:02.998Z"
   },
   {
    "duration": 8,
    "start_time": "2023-11-06T16:43:03.015Z"
   },
   {
    "duration": 12,
    "start_time": "2023-11-06T16:43:03.025Z"
   },
   {
    "duration": 10,
    "start_time": "2023-11-06T16:43:03.038Z"
   },
   {
    "duration": 1296,
    "start_time": "2023-11-06T16:43:03.049Z"
   },
   {
    "duration": 8,
    "start_time": "2023-11-06T16:43:04.347Z"
   },
   {
    "duration": 206,
    "start_time": "2023-11-06T16:43:04.356Z"
   },
   {
    "duration": 4,
    "start_time": "2023-11-06T16:43:04.564Z"
   },
   {
    "duration": 11,
    "start_time": "2023-11-06T16:44:18.266Z"
   },
   {
    "duration": 109,
    "start_time": "2023-11-06T16:45:12.920Z"
   },
   {
    "duration": 2108,
    "start_time": "2023-11-06T16:45:16.812Z"
   },
   {
    "duration": 13,
    "start_time": "2023-11-06T16:45:28.121Z"
   },
   {
    "duration": 11,
    "start_time": "2023-11-06T16:46:03.085Z"
   },
   {
    "duration": 10,
    "start_time": "2023-11-06T16:46:42.376Z"
   },
   {
    "duration": 8,
    "start_time": "2023-11-06T16:46:51.452Z"
   },
   {
    "duration": 3,
    "start_time": "2023-11-06T16:46:54.801Z"
   },
   {
    "duration": 958,
    "start_time": "2023-11-06T16:46:57.519Z"
   },
   {
    "duration": 15,
    "start_time": "2023-11-06T16:47:06.753Z"
   },
   {
    "duration": 5,
    "start_time": "2023-11-06T16:47:16.256Z"
   },
   {
    "duration": 1557,
    "start_time": "2023-11-06T16:47:54.500Z"
   },
   {
    "duration": 835,
    "start_time": "2023-11-06T16:47:56.058Z"
   },
   {
    "duration": 32,
    "start_time": "2023-11-06T16:47:56.894Z"
   },
   {
    "duration": 26,
    "start_time": "2023-11-06T16:47:56.927Z"
   },
   {
    "duration": 41,
    "start_time": "2023-11-06T16:47:56.955Z"
   },
   {
    "duration": 33,
    "start_time": "2023-11-06T16:47:56.998Z"
   },
   {
    "duration": 27,
    "start_time": "2023-11-06T16:47:57.033Z"
   },
   {
    "duration": 2098,
    "start_time": "2023-11-06T16:47:57.061Z"
   },
   {
    "duration": 11,
    "start_time": "2023-11-06T16:47:59.160Z"
   },
   {
    "duration": 1974,
    "start_time": "2023-11-06T16:47:59.174Z"
   },
   {
    "duration": 71,
    "start_time": "2023-11-06T16:48:01.149Z"
   },
   {
    "duration": 756,
    "start_time": "2023-11-06T16:48:01.222Z"
   },
   {
    "duration": 303,
    "start_time": "2023-11-06T16:48:01.980Z"
   },
   {
    "duration": 4,
    "start_time": "2023-11-06T16:48:02.285Z"
   },
   {
    "duration": 100,
    "start_time": "2023-11-06T16:49:00.287Z"
   },
   {
    "duration": 116,
    "start_time": "2023-11-06T16:50:24.630Z"
   },
   {
    "duration": 299,
    "start_time": "2023-11-06T16:51:03.396Z"
   },
   {
    "duration": 670,
    "start_time": "2023-11-06T16:51:06.145Z"
   },
   {
    "duration": 3,
    "start_time": "2023-11-06T16:53:05.796Z"
   },
   {
    "duration": 3,
    "start_time": "2023-11-06T16:54:33.438Z"
   },
   {
    "duration": 3,
    "start_time": "2023-11-06T16:54:34.872Z"
   },
   {
    "duration": 7,
    "start_time": "2023-11-06T16:57:49.521Z"
   },
   {
    "duration": 8,
    "start_time": "2023-11-06T16:57:57.475Z"
   },
   {
    "duration": 6,
    "start_time": "2023-11-06T16:58:12.184Z"
   },
   {
    "duration": 1025,
    "start_time": "2023-11-06T17:21:21.037Z"
   },
   {
    "duration": 679,
    "start_time": "2023-11-06T17:21:40.235Z"
   },
   {
    "duration": 8,
    "start_time": "2023-11-06T17:21:45.254Z"
   },
   {
    "duration": 1559,
    "start_time": "2023-11-06T17:22:03.725Z"
   },
   {
    "duration": 933,
    "start_time": "2023-11-06T17:22:05.286Z"
   },
   {
    "duration": 32,
    "start_time": "2023-11-06T17:22:06.220Z"
   },
   {
    "duration": 25,
    "start_time": "2023-11-06T17:22:06.254Z"
   },
   {
    "duration": 51,
    "start_time": "2023-11-06T17:22:06.282Z"
   },
   {
    "duration": 24,
    "start_time": "2023-11-06T17:22:06.335Z"
   },
   {
    "duration": 27,
    "start_time": "2023-11-06T17:22:06.360Z"
   },
   {
    "duration": 4,
    "start_time": "2023-11-06T17:22:06.389Z"
   },
   {
    "duration": 2264,
    "start_time": "2023-11-06T17:22:06.394Z"
   },
   {
    "duration": 11,
    "start_time": "2023-11-06T17:22:08.660Z"
   },
   {
    "duration": 1994,
    "start_time": "2023-11-06T17:22:08.673Z"
   },
   {
    "duration": 8,
    "start_time": "2023-11-06T17:22:10.669Z"
   },
   {
    "duration": 1402,
    "start_time": "2023-11-06T17:22:10.679Z"
   },
   {
    "duration": 9,
    "start_time": "2023-11-06T17:22:12.084Z"
   },
   {
    "duration": 132,
    "start_time": "2023-11-06T17:22:12.094Z"
   },
   {
    "duration": 0,
    "start_time": "2023-11-06T17:22:12.228Z"
   },
   {
    "duration": 0,
    "start_time": "2023-11-06T17:22:12.230Z"
   },
   {
    "duration": 0,
    "start_time": "2023-11-06T17:22:12.231Z"
   },
   {
    "duration": 66,
    "start_time": "2023-11-06T17:23:35.701Z"
   },
   {
    "duration": 15,
    "start_time": "2023-11-06T17:23:53.991Z"
   },
   {
    "duration": 35,
    "start_time": "2023-11-06T17:23:57.738Z"
   },
   {
    "duration": 728,
    "start_time": "2023-11-06T17:24:32.955Z"
   },
   {
    "duration": 14,
    "start_time": "2023-11-06T17:24:40.832Z"
   },
   {
    "duration": 40,
    "start_time": "2023-11-06T17:25:12.416Z"
   },
   {
    "duration": 8,
    "start_time": "2023-11-06T17:25:27.561Z"
   },
   {
    "duration": 1237,
    "start_time": "2023-11-06T17:25:33.113Z"
   },
   {
    "duration": 690,
    "start_time": "2023-11-06T17:25:40.238Z"
   },
   {
    "duration": 1268,
    "start_time": "2023-11-06T17:25:50.405Z"
   },
   {
    "duration": 1521,
    "start_time": "2023-11-06T17:27:40.392Z"
   },
   {
    "duration": 886,
    "start_time": "2023-11-06T17:27:41.915Z"
   },
   {
    "duration": 34,
    "start_time": "2023-11-06T17:27:42.802Z"
   },
   {
    "duration": 5,
    "start_time": "2023-11-06T17:27:42.838Z"
   },
   {
    "duration": 20,
    "start_time": "2023-11-06T17:27:42.845Z"
   },
   {
    "duration": 6,
    "start_time": "2023-11-06T17:27:42.867Z"
   },
   {
    "duration": 9,
    "start_time": "2023-11-06T17:27:42.875Z"
   },
   {
    "duration": 32,
    "start_time": "2023-11-06T17:27:42.885Z"
   },
   {
    "duration": 2090,
    "start_time": "2023-11-06T17:27:42.918Z"
   },
   {
    "duration": 13,
    "start_time": "2023-11-06T17:27:45.010Z"
   },
   {
    "duration": 2012,
    "start_time": "2023-11-06T17:27:45.025Z"
   },
   {
    "duration": 10,
    "start_time": "2023-11-06T17:27:47.039Z"
   },
   {
    "duration": 1526,
    "start_time": "2023-11-06T17:27:47.050Z"
   },
   {
    "duration": 66190,
    "start_time": "2023-11-06T17:27:48.578Z"
   },
   {
    "duration": 35,
    "start_time": "2023-11-06T17:28:54.770Z"
   },
   {
    "duration": 30,
    "start_time": "2023-11-06T17:29:04.391Z"
   },
   {
    "duration": 1652,
    "start_time": "2023-11-06T17:30:07.401Z"
   },
   {
    "duration": 868,
    "start_time": "2023-11-06T17:30:09.055Z"
   },
   {
    "duration": 33,
    "start_time": "2023-11-06T17:30:09.924Z"
   },
   {
    "duration": 5,
    "start_time": "2023-11-06T17:30:09.958Z"
   },
   {
    "duration": 10,
    "start_time": "2023-11-06T17:30:09.965Z"
   },
   {
    "duration": 7,
    "start_time": "2023-11-06T17:30:09.977Z"
   },
   {
    "duration": 34,
    "start_time": "2023-11-06T17:30:09.985Z"
   },
   {
    "duration": 3,
    "start_time": "2023-11-06T17:30:10.020Z"
   },
   {
    "duration": 2131,
    "start_time": "2023-11-06T17:30:10.025Z"
   },
   {
    "duration": 10,
    "start_time": "2023-11-06T17:30:12.159Z"
   },
   {
    "duration": 1988,
    "start_time": "2023-11-06T17:30:12.171Z"
   },
   {
    "duration": 12,
    "start_time": "2023-11-06T17:30:14.161Z"
   },
   {
    "duration": 63692,
    "start_time": "2023-11-06T17:30:14.175Z"
   },
   {
    "duration": 35,
    "start_time": "2023-11-06T17:31:17.868Z"
   },
   {
    "duration": 34,
    "start_time": "2023-11-06T17:31:17.915Z"
   },
   {
    "duration": 7,
    "start_time": "2023-11-06T17:37:19.494Z"
   },
   {
    "duration": 127,
    "start_time": "2023-11-06T17:37:38.758Z"
   },
   {
    "duration": 4,
    "start_time": "2023-11-06T17:38:16.092Z"
   },
   {
    "duration": 3,
    "start_time": "2023-11-06T17:38:24.735Z"
   },
   {
    "duration": 4,
    "start_time": "2023-11-06T17:38:40.509Z"
   },
   {
    "duration": 1518,
    "start_time": "2023-11-06T17:39:43.790Z"
   },
   {
    "duration": 828,
    "start_time": "2023-11-06T17:39:45.310Z"
   },
   {
    "duration": 28,
    "start_time": "2023-11-06T17:39:46.139Z"
   },
   {
    "duration": 4,
    "start_time": "2023-11-06T17:39:46.169Z"
   },
   {
    "duration": 10,
    "start_time": "2023-11-06T17:39:46.175Z"
   },
   {
    "duration": 5,
    "start_time": "2023-11-06T17:39:46.186Z"
   },
   {
    "duration": 26,
    "start_time": "2023-11-06T17:39:46.192Z"
   },
   {
    "duration": 3,
    "start_time": "2023-11-06T17:39:46.219Z"
   },
   {
    "duration": 2017,
    "start_time": "2023-11-06T17:39:46.223Z"
   },
   {
    "duration": 10,
    "start_time": "2023-11-06T17:39:48.243Z"
   },
   {
    "duration": 4,
    "start_time": "2023-11-06T17:39:48.254Z"
   },
   {
    "duration": 694,
    "start_time": "2023-11-06T17:39:48.260Z"
   },
   {
    "duration": 2055,
    "start_time": "2023-11-06T17:42:12.050Z"
   },
   {
    "duration": 121,
    "start_time": "2023-11-06T17:42:15.100Z"
   },
   {
    "duration": 13,
    "start_time": "2023-11-06T17:42:28.256Z"
   },
   {
    "duration": 4,
    "start_time": "2023-11-06T17:42:40.519Z"
   },
   {
    "duration": 60208,
    "start_time": "2023-11-06T17:43:44.140Z"
   },
   {
    "duration": 1695,
    "start_time": "2023-11-07T20:54:20.893Z"
   },
   {
    "duration": 2330,
    "start_time": "2023-11-07T20:54:22.590Z"
   },
   {
    "duration": 32,
    "start_time": "2023-11-07T20:54:24.922Z"
   },
   {
    "duration": 4,
    "start_time": "2023-11-07T20:54:24.958Z"
   },
   {
    "duration": 19,
    "start_time": "2023-11-07T20:54:24.964Z"
   },
   {
    "duration": 6,
    "start_time": "2023-11-07T20:54:24.985Z"
   },
   {
    "duration": 21,
    "start_time": "2023-11-07T20:54:24.993Z"
   },
   {
    "duration": 11,
    "start_time": "2023-11-07T20:54:25.015Z"
   },
   {
    "duration": 2205,
    "start_time": "2023-11-07T20:54:25.027Z"
   },
   {
    "duration": 22,
    "start_time": "2023-11-07T20:54:27.234Z"
   },
   {
    "duration": 2,
    "start_time": "2023-11-07T20:54:27.258Z"
   },
   {
    "duration": 66856,
    "start_time": "2023-11-07T20:54:27.261Z"
   },
   {
    "duration": 7,
    "start_time": "2023-11-07T20:56:59.459Z"
   },
   {
    "duration": 13,
    "start_time": "2023-11-07T20:57:30.667Z"
   },
   {
    "duration": 21272,
    "start_time": "2023-11-07T20:57:31.882Z"
   },
   {
    "duration": 0,
    "start_time": "2023-11-07T20:57:53.156Z"
   },
   {
    "duration": 3,
    "start_time": "2023-11-07T20:57:55.793Z"
   },
   {
    "duration": 17061,
    "start_time": "2023-11-07T20:57:58.192Z"
   },
   {
    "duration": 4,
    "start_time": "2023-11-07T20:58:51.857Z"
   },
   {
    "duration": 761,
    "start_time": "2023-11-07T20:58:54.950Z"
   },
   {
    "duration": 2556,
    "start_time": "2023-11-07T21:00:46.776Z"
   },
   {
    "duration": 3,
    "start_time": "2023-11-07T21:01:11.101Z"
   },
   {
    "duration": 4,
    "start_time": "2023-11-07T21:01:16.777Z"
   },
   {
    "duration": 8,
    "start_time": "2023-11-07T21:01:22.478Z"
   },
   {
    "duration": 4,
    "start_time": "2023-11-07T21:01:25.359Z"
   },
   {
    "duration": 6,
    "start_time": "2023-11-07T21:01:29.490Z"
   },
   {
    "duration": 3,
    "start_time": "2023-11-07T21:02:06.866Z"
   },
   {
    "duration": 307301,
    "start_time": "2023-11-07T21:02:11.634Z"
   },
   {
    "duration": 649,
    "start_time": "2023-11-07T21:07:39.153Z"
   },
   {
    "duration": 14,
    "start_time": "2023-11-07T21:07:43.981Z"
   },
   {
    "duration": 8,
    "start_time": "2023-11-07T21:08:00.782Z"
   },
   {
    "duration": 4487,
    "start_time": "2023-11-07T21:08:10.971Z"
   },
   {
    "duration": 4378,
    "start_time": "2023-11-07T21:08:23.755Z"
   },
   {
    "duration": 2,
    "start_time": "2023-11-07T21:08:44.307Z"
   },
   {
    "duration": 764,
    "start_time": "2023-11-07T21:09:12.415Z"
   },
   {
    "duration": 733,
    "start_time": "2023-11-07T21:09:21.287Z"
   },
   {
    "duration": 748,
    "start_time": "2023-11-07T21:09:27.657Z"
   },
   {
    "duration": 14,
    "start_time": "2023-11-07T21:10:05.717Z"
   },
   {
    "duration": 797,
    "start_time": "2023-11-07T21:10:27.266Z"
   },
   {
    "duration": 744,
    "start_time": "2023-11-07T21:10:31.611Z"
   },
   {
    "duration": 748,
    "start_time": "2023-11-07T21:12:29.046Z"
   },
   {
    "duration": 735,
    "start_time": "2023-11-07T21:12:41.178Z"
   },
   {
    "duration": 738,
    "start_time": "2023-11-07T21:13:07.063Z"
   },
   {
    "duration": 745,
    "start_time": "2023-11-07T21:13:28.328Z"
   },
   {
    "duration": 743,
    "start_time": "2023-11-07T21:13:35.534Z"
   },
   {
    "duration": 724,
    "start_time": "2023-11-07T21:13:40.428Z"
   },
   {
    "duration": 749,
    "start_time": "2023-11-07T21:13:46.286Z"
   },
   {
    "duration": 768,
    "start_time": "2023-11-07T21:13:49.512Z"
   },
   {
    "duration": 730,
    "start_time": "2023-11-07T21:13:57.305Z"
   },
   {
    "duration": 721,
    "start_time": "2023-11-07T21:14:05.273Z"
   },
   {
    "duration": 4,
    "start_time": "2023-11-07T21:15:17.852Z"
   },
   {
    "duration": 736,
    "start_time": "2023-11-07T21:15:20.997Z"
   },
   {
    "duration": 2,
    "start_time": "2023-11-07T21:15:48.020Z"
   },
   {
    "duration": 836,
    "start_time": "2023-11-07T21:15:50.385Z"
   },
   {
    "duration": 3,
    "start_time": "2023-11-07T21:16:02.268Z"
   },
   {
    "duration": 737,
    "start_time": "2023-11-07T21:16:04.419Z"
   },
   {
    "duration": 1920,
    "start_time": "2023-11-08T09:45:41.881Z"
   },
   {
    "duration": 2540,
    "start_time": "2023-11-08T09:45:43.803Z"
   },
   {
    "duration": 40,
    "start_time": "2023-11-08T09:45:46.345Z"
   },
   {
    "duration": 8,
    "start_time": "2023-11-08T09:45:46.388Z"
   },
   {
    "duration": 30,
    "start_time": "2023-11-08T09:45:46.397Z"
   },
   {
    "duration": 6,
    "start_time": "2023-11-08T09:45:46.430Z"
   },
   {
    "duration": 9,
    "start_time": "2023-11-08T09:45:46.438Z"
   },
   {
    "duration": 14,
    "start_time": "2023-11-08T09:45:46.449Z"
   },
   {
    "duration": 2252,
    "start_time": "2023-11-08T09:45:46.464Z"
   },
   {
    "duration": 11,
    "start_time": "2023-11-08T09:45:48.718Z"
   },
   {
    "duration": 5,
    "start_time": "2023-11-08T09:45:48.731Z"
   },
   {
    "duration": 22,
    "start_time": "2023-11-08T09:45:48.737Z"
   },
   {
    "duration": 786,
    "start_time": "2023-11-08T09:45:48.761Z"
   },
   {
    "duration": 4432,
    "start_time": "2023-11-08T09:45:49.549Z"
   },
   {
    "duration": 7,
    "start_time": "2023-11-08T09:45:53.983Z"
   },
   {
    "duration": 4,
    "start_time": "2023-11-08T09:48:07.621Z"
   },
   {
    "duration": 140,
    "start_time": "2023-11-08T09:48:11.794Z"
   },
   {
    "duration": 17,
    "start_time": "2023-11-08T09:48:23.879Z"
   },
   {
    "duration": 5,
    "start_time": "2023-11-08T09:48:30.841Z"
   },
   {
    "duration": 1325,
    "start_time": "2023-11-08T09:48:33.316Z"
   },
   {
    "duration": 4,
    "start_time": "2023-11-08T09:49:11.570Z"
   },
   {
    "duration": 4,
    "start_time": "2023-11-08T09:49:13.972Z"
   },
   {
    "duration": 3,
    "start_time": "2023-11-08T09:49:33.020Z"
   },
   {
    "duration": 5,
    "start_time": "2023-11-08T09:49:34.877Z"
   },
   {
    "duration": 3,
    "start_time": "2023-11-08T09:49:48.537Z"
   },
   {
    "duration": 11,
    "start_time": "2023-11-08T09:49:56.259Z"
   },
   {
    "duration": 11653,
    "start_time": "2023-11-08T09:51:27.663Z"
   },
   {
    "duration": 11,
    "start_time": "2023-11-08T09:53:23.966Z"
   },
   {
    "duration": 4,
    "start_time": "2023-11-08T09:53:30.822Z"
   },
   {
    "duration": 5,
    "start_time": "2023-11-08T09:56:33.899Z"
   },
   {
    "duration": 17,
    "start_time": "2023-11-08T09:57:03.751Z"
   },
   {
    "duration": 20,
    "start_time": "2023-11-08T09:57:17.506Z"
   },
   {
    "duration": 8,
    "start_time": "2023-11-08T09:57:30.115Z"
   },
   {
    "duration": 255,
    "start_time": "2023-11-08T09:57:34.754Z"
   },
   {
    "duration": 7,
    "start_time": "2023-11-08T09:57:40.389Z"
   },
   {
    "duration": 4,
    "start_time": "2023-11-08T09:58:30.805Z"
   },
   {
    "duration": 7,
    "start_time": "2023-11-08T09:58:33.158Z"
   },
   {
    "duration": 10,
    "start_time": "2023-11-08T09:59:20.990Z"
   },
   {
    "duration": 15,
    "start_time": "2023-11-08T09:59:26.032Z"
   },
   {
    "duration": 9,
    "start_time": "2023-11-08T09:59:35.193Z"
   },
   {
    "duration": 8,
    "start_time": "2023-11-08T09:59:56.154Z"
   },
   {
    "duration": 8,
    "start_time": "2023-11-08T09:59:57.232Z"
   },
   {
    "duration": 8,
    "start_time": "2023-11-08T09:59:59.241Z"
   },
   {
    "duration": 9,
    "start_time": "2023-11-08T09:59:59.919Z"
   },
   {
    "duration": 4,
    "start_time": "2023-11-08T10:00:50.784Z"
   },
   {
    "duration": 4,
    "start_time": "2023-11-08T10:00:52.680Z"
   },
   {
    "duration": 452,
    "start_time": "2023-11-08T10:01:06.794Z"
   },
   {
    "duration": 5,
    "start_time": "2023-11-08T10:01:20.123Z"
   },
   {
    "duration": 21019,
    "start_time": "2023-11-08T10:01:21.885Z"
   },
   {
    "duration": 3,
    "start_time": "2023-11-08T10:01:44.086Z"
   },
   {
    "duration": 1779,
    "start_time": "2023-11-08T10:03:14.616Z"
   },
   {
    "duration": 1022,
    "start_time": "2023-11-08T10:03:16.398Z"
   },
   {
    "duration": 35,
    "start_time": "2023-11-08T10:03:17.422Z"
   },
   {
    "duration": 9,
    "start_time": "2023-11-08T10:03:17.458Z"
   },
   {
    "duration": 16,
    "start_time": "2023-11-08T10:03:17.469Z"
   },
   {
    "duration": 15,
    "start_time": "2023-11-08T10:03:17.486Z"
   },
   {
    "duration": 12,
    "start_time": "2023-11-08T10:03:17.503Z"
   },
   {
    "duration": 3,
    "start_time": "2023-11-08T10:03:17.517Z"
   },
   {
    "duration": 2227,
    "start_time": "2023-11-08T10:03:17.522Z"
   },
   {
    "duration": 12,
    "start_time": "2023-11-08T10:03:19.751Z"
   },
   {
    "duration": 25,
    "start_time": "2023-11-08T10:03:19.765Z"
   },
   {
    "duration": 84508,
    "start_time": "2023-11-08T10:03:19.791Z"
   },
   {
    "duration": 8,
    "start_time": "2023-11-08T10:04:44.301Z"
   },
   {
    "duration": 143,
    "start_time": "2023-11-08T10:07:03.791Z"
   },
   {
    "duration": 5,
    "start_time": "2023-11-08T10:07:19.154Z"
   },
   {
    "duration": 4,
    "start_time": "2023-11-08T10:07:34.345Z"
   },
   {
    "duration": 4,
    "start_time": "2023-11-08T10:07:42.641Z"
   },
   {
    "duration": 743,
    "start_time": "2023-11-08T10:10:05.486Z"
   },
   {
    "duration": 6,
    "start_time": "2023-11-08T10:11:41.787Z"
   },
   {
    "duration": 128,
    "start_time": "2023-11-08T10:16:52.007Z"
   },
   {
    "duration": 10,
    "start_time": "2023-11-08T10:17:08.210Z"
   },
   {
    "duration": 5,
    "start_time": "2023-11-08T10:17:15.134Z"
   },
   {
    "duration": 70,
    "start_time": "2023-11-08T10:17:19.667Z"
   },
   {
    "duration": 4,
    "start_time": "2023-11-08T10:17:46.025Z"
   },
   {
    "duration": 1687,
    "start_time": "2023-11-08T10:19:06.869Z"
   },
   {
    "duration": 1007,
    "start_time": "2023-11-08T10:19:08.558Z"
   },
   {
    "duration": 41,
    "start_time": "2023-11-08T10:19:09.567Z"
   },
   {
    "duration": 6,
    "start_time": "2023-11-08T10:19:09.611Z"
   },
   {
    "duration": 12,
    "start_time": "2023-11-08T10:19:09.619Z"
   },
   {
    "duration": 8,
    "start_time": "2023-11-08T10:19:09.632Z"
   },
   {
    "duration": 9,
    "start_time": "2023-11-08T10:19:09.641Z"
   },
   {
    "duration": 5,
    "start_time": "2023-11-08T10:19:09.652Z"
   },
   {
    "duration": 2288,
    "start_time": "2023-11-08T10:19:09.658Z"
   },
   {
    "duration": 13,
    "start_time": "2023-11-08T10:19:11.949Z"
   },
   {
    "duration": 9,
    "start_time": "2023-11-08T10:19:11.963Z"
   },
   {
    "duration": 87984,
    "start_time": "2023-11-08T10:19:11.974Z"
   },
   {
    "duration": 9,
    "start_time": "2023-11-08T10:20:39.960Z"
   },
   {
    "duration": 115,
    "start_time": "2023-11-08T10:20:39.972Z"
   },
   {
    "duration": 4,
    "start_time": "2023-11-08T10:20:40.089Z"
   },
   {
    "duration": 82,
    "start_time": "2023-11-08T10:21:38.209Z"
   },
   {
    "duration": 5,
    "start_time": "2023-11-08T10:21:52.265Z"
   },
   {
    "duration": 130,
    "start_time": "2023-11-08T10:23:52.446Z"
   },
   {
    "duration": 5,
    "start_time": "2023-11-08T10:24:21.014Z"
   },
   {
    "duration": 7554,
    "start_time": "2023-11-08T10:24:30.072Z"
   },
   {
    "duration": 5,
    "start_time": "2023-11-08T10:25:02.173Z"
   },
   {
    "duration": 4,
    "start_time": "2023-11-08T10:25:19.354Z"
   },
   {
    "duration": 17,
    "start_time": "2023-11-08T10:34:47.161Z"
   },
   {
    "duration": 45,
    "start_time": "2023-11-08T10:34:58.808Z"
   },
   {
    "duration": 14,
    "start_time": "2023-11-08T10:39:08.066Z"
   },
   {
    "duration": 5238,
    "start_time": "2023-11-08T10:39:16.225Z"
   },
   {
    "duration": 6,
    "start_time": "2023-11-08T10:40:55.170Z"
   },
   {
    "duration": 547244,
    "start_time": "2023-11-08T10:41:32.694Z"
   },
   {
    "duration": 16526,
    "start_time": "2023-11-08T10:50:51.118Z"
   },
   {
    "duration": 1555558,
    "start_time": "2023-11-08T10:52:03.416Z"
   },
   {
    "duration": 4,
    "start_time": "2023-11-08T11:22:42.068Z"
   },
   {
    "duration": 4,
    "start_time": "2023-11-08T11:22:53.939Z"
   },
   {
    "duration": 304840,
    "start_time": "2023-11-08T11:26:38.074Z"
   },
   {
    "duration": 4,
    "start_time": "2023-11-08T11:33:02.409Z"
   },
   {
    "duration": 4,
    "start_time": "2023-11-08T11:33:13.686Z"
   },
   {
    "duration": 34,
    "start_time": "2023-11-08T11:33:51.558Z"
   },
   {
    "duration": 77,
    "start_time": "2023-11-08T11:36:53.420Z"
   },
   {
    "duration": 15,
    "start_time": "2023-11-08T11:36:59.576Z"
   },
   {
    "duration": 154689,
    "start_time": "2023-11-08T11:37:57.558Z"
   },
   {
    "duration": 161624,
    "start_time": "2023-11-08T11:41:37.749Z"
   },
   {
    "duration": 0,
    "start_time": "2023-11-08T11:52:59.174Z"
   },
   {
    "duration": 51,
    "start_time": "2023-11-08T11:53:59.659Z"
   },
   {
    "duration": 1956,
    "start_time": "2023-11-08T12:14:04.135Z"
   },
   {
    "duration": 2531,
    "start_time": "2023-11-08T12:14:06.093Z"
   },
   {
    "duration": 34,
    "start_time": "2023-11-08T12:14:08.626Z"
   },
   {
    "duration": 9,
    "start_time": "2023-11-08T12:14:08.662Z"
   },
   {
    "duration": 22,
    "start_time": "2023-11-08T12:14:08.672Z"
   },
   {
    "duration": 20,
    "start_time": "2023-11-08T12:14:08.696Z"
   },
   {
    "duration": 18,
    "start_time": "2023-11-08T12:14:08.718Z"
   },
   {
    "duration": 20,
    "start_time": "2023-11-08T12:14:08.737Z"
   },
   {
    "duration": 2222,
    "start_time": "2023-11-08T12:14:08.759Z"
   },
   {
    "duration": 19,
    "start_time": "2023-11-08T12:14:10.983Z"
   },
   {
    "duration": 7,
    "start_time": "2023-11-08T12:14:11.004Z"
   },
   {
    "duration": 87907,
    "start_time": "2023-11-08T12:14:11.012Z"
   },
   {
    "duration": 11,
    "start_time": "2023-11-08T12:15:38.921Z"
   },
   {
    "duration": 99,
    "start_time": "2023-11-08T12:15:38.934Z"
   },
   {
    "duration": 4,
    "start_time": "2023-11-08T12:15:39.035Z"
   },
   {
    "duration": 7476,
    "start_time": "2023-11-08T12:15:39.042Z"
   },
   {
    "duration": 310588,
    "start_time": "2023-11-08T12:15:46.520Z"
   },
   {
    "duration": 1537788,
    "start_time": "2023-11-08T12:20:57.201Z"
   },
   {
    "duration": 14,
    "start_time": "2023-11-08T12:46:34.991Z"
   },
   {
    "duration": 23,
    "start_time": "2023-11-08T12:46:35.007Z"
   },
   {
    "duration": 42,
    "start_time": "2023-11-08T12:46:35.032Z"
   },
   {
    "duration": 29,
    "start_time": "2023-11-08T12:46:35.076Z"
   },
   {
    "duration": 1845,
    "start_time": "2023-11-08T13:54:26.998Z"
   },
   {
    "duration": 956,
    "start_time": "2023-11-08T13:54:28.846Z"
   },
   {
    "duration": 35,
    "start_time": "2023-11-08T13:54:29.804Z"
   },
   {
    "duration": 4,
    "start_time": "2023-11-08T13:54:29.841Z"
   },
   {
    "duration": 17,
    "start_time": "2023-11-08T13:54:29.847Z"
   },
   {
    "duration": 8,
    "start_time": "2023-11-08T13:54:29.865Z"
   },
   {
    "duration": 9,
    "start_time": "2023-11-08T13:54:29.902Z"
   },
   {
    "duration": 11,
    "start_time": "2023-11-08T13:54:29.912Z"
   },
   {
    "duration": 2263,
    "start_time": "2023-11-08T13:54:29.925Z"
   },
   {
    "duration": 17,
    "start_time": "2023-11-08T13:54:32.190Z"
   },
   {
    "duration": 18,
    "start_time": "2023-11-08T13:54:32.209Z"
   },
   {
    "duration": 87686,
    "start_time": "2023-11-08T13:54:32.229Z"
   },
   {
    "duration": 15,
    "start_time": "2023-11-08T13:55:59.917Z"
   },
   {
    "duration": 108,
    "start_time": "2023-11-08T13:55:59.934Z"
   },
   {
    "duration": 4,
    "start_time": "2023-11-08T13:56:00.044Z"
   },
   {
    "duration": 8194,
    "start_time": "2023-11-08T13:56:00.050Z"
   },
   {
    "duration": 303362,
    "start_time": "2023-11-08T13:56:08.245Z"
   },
   {
    "duration": 91,
    "start_time": "2023-11-08T14:01:11.611Z"
   },
   {
    "duration": 5,
    "start_time": "2023-11-08T14:01:11.705Z"
   },
   {
    "duration": 1533561,
    "start_time": "2023-11-08T14:01:11.711Z"
   },
   {
    "duration": 3,
    "start_time": "2023-11-08T14:26:45.274Z"
   },
   {
    "duration": 28,
    "start_time": "2023-11-08T14:26:45.279Z"
   },
   {
    "duration": 4355868,
    "start_time": "2023-11-08T14:26:45.309Z"
   },
   {
    "duration": 0,
    "start_time": "2023-11-08T15:39:21.179Z"
   },
   {
    "duration": 0,
    "start_time": "2023-11-08T15:39:21.180Z"
   },
   {
    "duration": 0,
    "start_time": "2023-11-08T15:39:21.181Z"
   },
   {
    "duration": 0,
    "start_time": "2023-11-08T15:39:21.183Z"
   },
   {
    "duration": 0,
    "start_time": "2023-11-08T15:40:14.153Z"
   },
   {
    "duration": 10,
    "start_time": "2023-11-08T15:40:17.376Z"
   },
   {
    "duration": 1998,
    "start_time": "2023-11-08T15:50:23.103Z"
   },
   {
    "duration": 2425,
    "start_time": "2023-11-08T15:50:25.103Z"
   },
   {
    "duration": 34,
    "start_time": "2023-11-08T15:50:27.530Z"
   },
   {
    "duration": 9,
    "start_time": "2023-11-08T15:50:27.566Z"
   },
   {
    "duration": 27,
    "start_time": "2023-11-08T15:50:27.577Z"
   },
   {
    "duration": 18,
    "start_time": "2023-11-08T15:50:27.606Z"
   },
   {
    "duration": 20,
    "start_time": "2023-11-08T15:50:27.626Z"
   },
   {
    "duration": 8,
    "start_time": "2023-11-08T15:50:27.647Z"
   },
   {
    "duration": 2209,
    "start_time": "2023-11-08T15:50:27.657Z"
   },
   {
    "duration": 11,
    "start_time": "2023-11-08T15:50:29.868Z"
   },
   {
    "duration": 11,
    "start_time": "2023-11-08T15:50:29.880Z"
   },
   {
    "duration": 85153,
    "start_time": "2023-11-08T15:50:29.893Z"
   },
   {
    "duration": 8,
    "start_time": "2023-11-08T15:51:55.047Z"
   },
   {
    "duration": 84,
    "start_time": "2023-11-08T15:51:55.059Z"
   },
   {
    "duration": 3,
    "start_time": "2023-11-08T15:51:55.145Z"
   },
   {
    "duration": 7340,
    "start_time": "2023-11-08T15:51:55.150Z"
   },
   {
    "duration": 1663,
    "start_time": "2023-11-08T15:55:27.149Z"
   },
   {
    "duration": 921,
    "start_time": "2023-11-08T15:55:28.814Z"
   },
   {
    "duration": 34,
    "start_time": "2023-11-08T15:55:29.737Z"
   },
   {
    "duration": 5,
    "start_time": "2023-11-08T15:55:29.773Z"
   },
   {
    "duration": 30,
    "start_time": "2023-11-08T15:55:29.780Z"
   },
   {
    "duration": 7,
    "start_time": "2023-11-08T15:55:29.811Z"
   },
   {
    "duration": 11,
    "start_time": "2023-11-08T15:55:29.819Z"
   },
   {
    "duration": 4,
    "start_time": "2023-11-08T15:55:29.831Z"
   },
   {
    "duration": 2308,
    "start_time": "2023-11-08T15:55:29.836Z"
   },
   {
    "duration": 13,
    "start_time": "2023-11-08T15:55:32.147Z"
   },
   {
    "duration": 36,
    "start_time": "2023-11-08T15:55:32.162Z"
   },
   {
    "duration": 83637,
    "start_time": "2023-11-08T15:55:32.200Z"
   },
   {
    "duration": 8,
    "start_time": "2023-11-08T15:56:55.839Z"
   },
   {
    "duration": 150,
    "start_time": "2023-11-08T15:56:55.848Z"
   },
   {
    "duration": 4,
    "start_time": "2023-11-08T15:56:56.000Z"
   },
   {
    "duration": 6972,
    "start_time": "2023-11-08T15:56:56.006Z"
   },
   {
    "duration": 34552,
    "start_time": "2023-11-08T15:57:02.979Z"
   },
   {
    "duration": 0,
    "start_time": "2023-11-08T15:57:37.533Z"
   },
   {
    "duration": 0,
    "start_time": "2023-11-08T15:57:37.534Z"
   },
   {
    "duration": 0,
    "start_time": "2023-11-08T15:57:37.535Z"
   },
   {
    "duration": 0,
    "start_time": "2023-11-08T15:57:37.536Z"
   },
   {
    "duration": 0,
    "start_time": "2023-11-08T15:57:37.538Z"
   },
   {
    "duration": 0,
    "start_time": "2023-11-08T15:57:37.539Z"
   },
   {
    "duration": 0,
    "start_time": "2023-11-08T15:57:37.540Z"
   },
   {
    "duration": 0,
    "start_time": "2023-11-08T15:57:37.541Z"
   },
   {
    "duration": 0,
    "start_time": "2023-11-08T15:57:37.542Z"
   },
   {
    "duration": 0,
    "start_time": "2023-11-08T15:57:37.543Z"
   },
   {
    "duration": 81,
    "start_time": "2023-11-08T15:58:56.144Z"
   },
   {
    "duration": 1770,
    "start_time": "2023-11-08T16:16:23.345Z"
   },
   {
    "duration": 913,
    "start_time": "2023-11-08T16:16:25.117Z"
   },
   {
    "duration": 34,
    "start_time": "2023-11-08T16:16:26.032Z"
   },
   {
    "duration": 5,
    "start_time": "2023-11-08T16:16:26.069Z"
   },
   {
    "duration": 31,
    "start_time": "2023-11-08T16:16:26.076Z"
   },
   {
    "duration": 22,
    "start_time": "2023-11-08T16:16:26.109Z"
   },
   {
    "duration": 30,
    "start_time": "2023-11-08T16:16:26.132Z"
   },
   {
    "duration": 14,
    "start_time": "2023-11-08T16:16:26.164Z"
   },
   {
    "duration": 2257,
    "start_time": "2023-11-08T16:16:26.180Z"
   },
   {
    "duration": 12,
    "start_time": "2023-11-08T16:16:28.440Z"
   },
   {
    "duration": 38,
    "start_time": "2023-11-08T16:16:28.454Z"
   },
   {
    "duration": 82303,
    "start_time": "2023-11-08T16:16:28.494Z"
   },
   {
    "duration": 8,
    "start_time": "2023-11-08T16:17:50.799Z"
   },
   {
    "duration": 74,
    "start_time": "2023-11-08T16:17:50.809Z"
   },
   {
    "duration": 4,
    "start_time": "2023-11-08T16:17:50.884Z"
   },
   {
    "duration": 6948,
    "start_time": "2023-11-08T16:17:50.902Z"
   },
   {
    "duration": 500058,
    "start_time": "2023-11-08T16:17:57.853Z"
   },
   {
    "duration": 4,
    "start_time": "2023-11-08T16:26:17.913Z"
   },
   {
    "duration": 6,
    "start_time": "2023-11-08T16:26:17.918Z"
   },
   {
    "duration": 1481770,
    "start_time": "2023-11-08T16:26:17.926Z"
   },
   {
    "duration": 16,
    "start_time": "2023-11-08T16:50:59.700Z"
   },
   {
    "duration": 4,
    "start_time": "2023-11-08T16:50:59.718Z"
   },
   {
    "duration": 611592,
    "start_time": "2023-11-08T16:50:59.724Z"
   },
   {
    "duration": 0,
    "start_time": "2023-11-08T17:01:11.319Z"
   },
   {
    "duration": 0,
    "start_time": "2023-11-08T17:01:11.320Z"
   },
   {
    "duration": 0,
    "start_time": "2023-11-08T17:01:11.321Z"
   },
   {
    "duration": 0,
    "start_time": "2023-11-08T17:01:11.322Z"
   },
   {
    "duration": 1394028,
    "start_time": "2023-11-08T17:01:21.485Z"
   },
   {
    "duration": 4,
    "start_time": "2023-11-08T17:24:58.385Z"
   },
   {
    "duration": 4,
    "start_time": "2023-11-08T17:25:01.205Z"
   },
   {
    "duration": 2045,
    "start_time": "2023-11-08T17:25:06.105Z"
   },
   {
    "duration": 1516,
    "start_time": "2023-11-08T17:25:17.708Z"
   },
   {
    "duration": 1286,
    "start_time": "2023-11-08T17:26:36.556Z"
   },
   {
    "duration": 3,
    "start_time": "2023-11-08T17:29:08.636Z"
   },
   {
    "duration": 1787,
    "start_time": "2023-11-08T17:50:57.363Z"
   },
   {
    "duration": 922,
    "start_time": "2023-11-08T17:50:59.152Z"
   },
   {
    "duration": 38,
    "start_time": "2023-11-08T17:51:00.076Z"
   },
   {
    "duration": 16,
    "start_time": "2023-11-08T17:51:00.116Z"
   },
   {
    "duration": 65,
    "start_time": "2023-11-08T17:51:00.135Z"
   },
   {
    "duration": 54,
    "start_time": "2023-11-08T17:51:00.203Z"
   },
   {
    "duration": 64,
    "start_time": "2023-11-08T17:51:00.259Z"
   },
   {
    "duration": 65,
    "start_time": "2023-11-08T17:51:00.325Z"
   },
   {
    "duration": 2313,
    "start_time": "2023-11-08T17:51:00.392Z"
   },
   {
    "duration": 13,
    "start_time": "2023-11-08T17:51:02.709Z"
   },
   {
    "duration": 4,
    "start_time": "2023-11-08T17:51:02.724Z"
   },
   {
    "duration": 84074,
    "start_time": "2023-11-08T17:51:02.730Z"
   },
   {
    "duration": 8,
    "start_time": "2023-11-08T17:52:26.805Z"
   },
   {
    "duration": 65,
    "start_time": "2023-11-08T17:52:26.815Z"
   },
   {
    "duration": 3,
    "start_time": "2023-11-08T17:52:26.882Z"
   },
   {
    "duration": 7053,
    "start_time": "2023-11-08T17:52:26.902Z"
   },
   {
    "duration": 499159,
    "start_time": "2023-11-08T17:52:33.957Z"
   },
   {
    "duration": 4,
    "start_time": "2023-11-08T18:00:53.118Z"
   },
   {
    "duration": 11,
    "start_time": "2023-11-08T18:00:53.124Z"
   },
   {
    "duration": 213077,
    "start_time": "2023-11-08T18:00:53.136Z"
   },
   {
    "duration": 0,
    "start_time": "2023-11-08T18:04:26.215Z"
   },
   {
    "duration": 0,
    "start_time": "2023-11-08T18:04:26.217Z"
   },
   {
    "duration": 0,
    "start_time": "2023-11-08T18:04:26.220Z"
   },
   {
    "duration": 0,
    "start_time": "2023-11-08T18:04:26.221Z"
   },
   {
    "duration": 0,
    "start_time": "2023-11-08T18:04:26.223Z"
   },
   {
    "duration": 0,
    "start_time": "2023-11-08T18:04:26.225Z"
   },
   {
    "duration": 0,
    "start_time": "2023-11-08T18:04:26.227Z"
   },
   {
    "duration": 0,
    "start_time": "2023-11-08T18:04:26.229Z"
   },
   {
    "duration": 0,
    "start_time": "2023-11-08T18:04:26.230Z"
   },
   {
    "duration": 0,
    "start_time": "2023-11-08T18:04:26.231Z"
   },
   {
    "duration": 0,
    "start_time": "2023-11-08T18:04:26.232Z"
   },
   {
    "duration": 0,
    "start_time": "2023-11-08T18:04:26.234Z"
   },
   {
    "duration": 0,
    "start_time": "2023-11-08T18:04:26.235Z"
   },
   {
    "duration": 0,
    "start_time": "2023-11-08T18:04:26.236Z"
   },
   {
    "duration": 0,
    "start_time": "2023-11-08T18:04:26.237Z"
   },
   {
    "duration": 1832,
    "start_time": "2023-11-08T18:04:35.069Z"
   },
   {
    "duration": 910,
    "start_time": "2023-11-08T18:04:36.904Z"
   },
   {
    "duration": 31,
    "start_time": "2023-11-08T18:04:37.816Z"
   },
   {
    "duration": 14,
    "start_time": "2023-11-08T18:04:37.849Z"
   },
   {
    "duration": 25,
    "start_time": "2023-11-08T18:04:37.864Z"
   },
   {
    "duration": 12,
    "start_time": "2023-11-08T18:04:37.891Z"
   },
   {
    "duration": 8,
    "start_time": "2023-11-08T18:04:37.905Z"
   },
   {
    "duration": 23,
    "start_time": "2023-11-08T18:04:37.914Z"
   },
   {
    "duration": 2261,
    "start_time": "2023-11-08T18:04:37.938Z"
   },
   {
    "duration": 11,
    "start_time": "2023-11-08T18:04:40.203Z"
   },
   {
    "duration": 7,
    "start_time": "2023-11-08T18:04:40.216Z"
   },
   {
    "duration": 1812,
    "start_time": "2023-11-08T18:05:29.367Z"
   },
   {
    "duration": 890,
    "start_time": "2023-11-08T18:05:31.181Z"
   },
   {
    "duration": 36,
    "start_time": "2023-11-08T18:05:32.073Z"
   },
   {
    "duration": 11,
    "start_time": "2023-11-08T18:05:32.111Z"
   },
   {
    "duration": 10,
    "start_time": "2023-11-08T18:05:32.125Z"
   },
   {
    "duration": 5,
    "start_time": "2023-11-08T18:05:32.137Z"
   },
   {
    "duration": 16,
    "start_time": "2023-11-08T18:05:32.144Z"
   },
   {
    "duration": 3,
    "start_time": "2023-11-08T18:05:32.161Z"
   },
   {
    "duration": 2214,
    "start_time": "2023-11-08T18:05:32.165Z"
   },
   {
    "duration": 11,
    "start_time": "2023-11-08T18:05:34.381Z"
   },
   {
    "duration": 3,
    "start_time": "2023-11-08T18:05:34.402Z"
   },
   {
    "duration": 81495,
    "start_time": "2023-11-08T18:05:34.406Z"
   },
   {
    "duration": 7,
    "start_time": "2023-11-08T18:06:55.903Z"
   },
   {
    "duration": 67,
    "start_time": "2023-11-08T18:06:55.913Z"
   },
   {
    "duration": 7059,
    "start_time": "2023-11-08T18:06:55.981Z"
   },
   {
    "duration": 1783,
    "start_time": "2023-11-08T18:22:39.137Z"
   },
   {
    "duration": 904,
    "start_time": "2023-11-08T18:22:40.922Z"
   },
   {
    "duration": 31,
    "start_time": "2023-11-08T18:22:41.828Z"
   },
   {
    "duration": 5,
    "start_time": "2023-11-08T18:22:41.861Z"
   },
   {
    "duration": 9,
    "start_time": "2023-11-08T18:22:41.868Z"
   },
   {
    "duration": 7,
    "start_time": "2023-11-08T18:22:41.900Z"
   },
   {
    "duration": 8,
    "start_time": "2023-11-08T18:22:41.908Z"
   },
   {
    "duration": 3,
    "start_time": "2023-11-08T18:22:41.917Z"
   },
   {
    "duration": 2225,
    "start_time": "2023-11-08T18:22:41.922Z"
   },
   {
    "duration": 11,
    "start_time": "2023-11-08T18:22:44.149Z"
   },
   {
    "duration": 46,
    "start_time": "2023-11-08T18:22:44.162Z"
   },
   {
    "duration": 81477,
    "start_time": "2023-11-08T18:22:44.210Z"
   },
   {
    "duration": 14,
    "start_time": "2023-11-08T18:24:05.688Z"
   },
   {
    "duration": 106,
    "start_time": "2023-11-08T18:24:05.704Z"
   },
   {
    "duration": 6769,
    "start_time": "2023-11-08T18:24:05.811Z"
   },
   {
    "duration": 1753,
    "start_time": "2023-11-08T18:25:32.906Z"
   },
   {
    "duration": 1000,
    "start_time": "2023-11-08T18:25:34.662Z"
   },
   {
    "duration": 37,
    "start_time": "2023-11-08T18:25:35.664Z"
   },
   {
    "duration": 14,
    "start_time": "2023-11-08T18:25:35.704Z"
   },
   {
    "duration": 11,
    "start_time": "2023-11-08T18:25:35.720Z"
   },
   {
    "duration": 17,
    "start_time": "2023-11-08T18:25:35.732Z"
   },
   {
    "duration": 20,
    "start_time": "2023-11-08T18:25:35.751Z"
   },
   {
    "duration": 31,
    "start_time": "2023-11-08T18:25:35.773Z"
   },
   {
    "duration": 2442,
    "start_time": "2023-11-08T18:25:35.807Z"
   },
   {
    "duration": 11,
    "start_time": "2023-11-08T18:25:38.251Z"
   },
   {
    "duration": 4,
    "start_time": "2023-11-08T18:25:38.264Z"
   },
   {
    "duration": 90805,
    "start_time": "2023-11-08T18:25:38.269Z"
   },
   {
    "duration": 7,
    "start_time": "2023-11-08T18:27:09.076Z"
   },
   {
    "duration": 82,
    "start_time": "2023-11-08T18:27:09.085Z"
   },
   {
    "duration": 7714,
    "start_time": "2023-11-08T18:27:09.169Z"
   },
   {
    "duration": 1136326,
    "start_time": "2023-11-08T18:27:16.885Z"
   },
   {
    "duration": 6,
    "start_time": "2023-11-08T18:46:13.213Z"
   },
   {
    "duration": 11,
    "start_time": "2023-11-08T18:46:13.220Z"
   },
   {
    "duration": 1610770,
    "start_time": "2023-11-08T18:46:13.232Z"
   },
   {
    "duration": 3,
    "start_time": "2023-11-08T19:13:04.004Z"
   },
   {
    "duration": 6,
    "start_time": "2023-11-08T19:13:04.009Z"
   },
   {
    "duration": 1729,
    "start_time": "2023-11-08T20:12:15.756Z"
   },
   {
    "duration": 902,
    "start_time": "2023-11-08T20:12:17.487Z"
   },
   {
    "duration": 33,
    "start_time": "2023-11-08T20:12:18.390Z"
   },
   {
    "duration": 6,
    "start_time": "2023-11-08T20:12:18.425Z"
   },
   {
    "duration": 10,
    "start_time": "2023-11-08T20:12:18.432Z"
   },
   {
    "duration": 12,
    "start_time": "2023-11-08T20:12:18.444Z"
   },
   {
    "duration": 25,
    "start_time": "2023-11-08T20:12:18.457Z"
   },
   {
    "duration": 18,
    "start_time": "2023-11-08T20:12:18.484Z"
   },
   {
    "duration": 2203,
    "start_time": "2023-11-08T20:12:18.503Z"
   },
   {
    "duration": 11,
    "start_time": "2023-11-08T20:12:20.709Z"
   },
   {
    "duration": 17,
    "start_time": "2023-11-08T20:12:20.722Z"
   },
   {
    "duration": 89334,
    "start_time": "2023-11-08T20:12:20.741Z"
   },
   {
    "duration": 8,
    "start_time": "2023-11-08T20:13:50.077Z"
   },
   {
    "duration": 116,
    "start_time": "2023-11-08T20:13:50.086Z"
   },
   {
    "duration": 7310,
    "start_time": "2023-11-08T20:13:50.214Z"
   },
   {
    "duration": 2138381,
    "start_time": "2023-11-08T20:13:57.525Z"
   },
   {
    "duration": 4,
    "start_time": "2023-11-08T20:49:35.908Z"
   },
   {
    "duration": 17,
    "start_time": "2023-11-08T20:49:35.914Z"
   },
   {
    "duration": 274363,
    "start_time": "2023-11-08T20:49:35.933Z"
   },
   {
    "duration": 0,
    "start_time": "2023-11-08T20:54:10.301Z"
   },
   {
    "duration": 0,
    "start_time": "2023-11-08T20:54:10.303Z"
   },
   {
    "duration": 0,
    "start_time": "2023-11-08T20:54:10.304Z"
   },
   {
    "duration": 0,
    "start_time": "2023-11-08T20:54:10.305Z"
   },
   {
    "duration": 0,
    "start_time": "2023-11-08T20:54:10.306Z"
   },
   {
    "duration": 0,
    "start_time": "2023-11-08T20:54:10.307Z"
   },
   {
    "duration": 0,
    "start_time": "2023-11-08T20:54:10.308Z"
   },
   {
    "duration": 0,
    "start_time": "2023-11-08T20:54:10.310Z"
   },
   {
    "duration": 0,
    "start_time": "2023-11-08T20:54:10.311Z"
   },
   {
    "duration": 0,
    "start_time": "2023-11-08T20:54:10.312Z"
   },
   {
    "duration": 0,
    "start_time": "2023-11-08T20:54:10.313Z"
   },
   {
    "duration": 0,
    "start_time": "2023-11-08T20:54:10.314Z"
   },
   {
    "duration": 0,
    "start_time": "2023-11-08T20:54:10.315Z"
   },
   {
    "duration": 0,
    "start_time": "2023-11-08T20:54:10.316Z"
   },
   {
    "duration": 1678,
    "start_time": "2023-11-08T20:54:26.790Z"
   },
   {
    "duration": 898,
    "start_time": "2023-11-08T20:54:28.470Z"
   },
   {
    "duration": 37,
    "start_time": "2023-11-08T20:54:29.369Z"
   },
   {
    "duration": 5,
    "start_time": "2023-11-08T20:54:29.407Z"
   },
   {
    "duration": 17,
    "start_time": "2023-11-08T20:54:29.414Z"
   },
   {
    "duration": 7,
    "start_time": "2023-11-08T20:54:29.433Z"
   },
   {
    "duration": 13,
    "start_time": "2023-11-08T20:54:29.442Z"
   },
   {
    "duration": 6,
    "start_time": "2023-11-08T20:54:29.457Z"
   },
   {
    "duration": 2181,
    "start_time": "2023-11-08T20:54:29.464Z"
   },
   {
    "duration": 12,
    "start_time": "2023-11-08T20:54:31.647Z"
   },
   {
    "duration": 33,
    "start_time": "2023-11-08T20:54:31.662Z"
   },
   {
    "duration": 82274,
    "start_time": "2023-11-08T20:54:31.698Z"
   },
   {
    "duration": 7,
    "start_time": "2023-11-08T20:55:53.974Z"
   },
   {
    "duration": 78,
    "start_time": "2023-11-08T20:55:53.984Z"
   },
   {
    "duration": 7147,
    "start_time": "2023-11-08T20:55:54.064Z"
   },
   {
    "duration": 3250924,
    "start_time": "2023-11-08T20:56:01.212Z"
   },
   {
    "duration": 4,
    "start_time": "2023-11-08T21:50:12.137Z"
   },
   {
    "duration": 8,
    "start_time": "2023-11-08T21:50:12.142Z"
   },
   {
    "duration": 991542,
    "start_time": "2023-11-08T21:50:12.151Z"
   },
   {
    "duration": 0,
    "start_time": "2023-11-08T22:06:43.695Z"
   },
   {
    "duration": 0,
    "start_time": "2023-11-08T22:06:43.696Z"
   },
   {
    "duration": 0,
    "start_time": "2023-11-08T22:06:43.698Z"
   },
   {
    "duration": 0,
    "start_time": "2023-11-08T22:06:43.699Z"
   },
   {
    "duration": 0,
    "start_time": "2023-11-08T22:06:43.701Z"
   },
   {
    "duration": 0,
    "start_time": "2023-11-08T22:06:43.702Z"
   },
   {
    "duration": 0,
    "start_time": "2023-11-08T22:06:43.704Z"
   },
   {
    "duration": 0,
    "start_time": "2023-11-08T22:06:43.705Z"
   },
   {
    "duration": 0,
    "start_time": "2023-11-08T22:06:43.707Z"
   },
   {
    "duration": 0,
    "start_time": "2023-11-08T22:06:43.708Z"
   },
   {
    "duration": 0,
    "start_time": "2023-11-08T22:06:43.710Z"
   },
   {
    "duration": 0,
    "start_time": "2023-11-08T22:06:43.711Z"
   },
   {
    "duration": 0,
    "start_time": "2023-11-08T22:06:43.713Z"
   },
   {
    "duration": 0,
    "start_time": "2023-11-08T22:06:43.714Z"
   },
   {
    "duration": 1738,
    "start_time": "2023-11-08T22:20:55.094Z"
   },
   {
    "duration": 881,
    "start_time": "2023-11-08T22:20:56.834Z"
   },
   {
    "duration": 33,
    "start_time": "2023-11-08T22:20:57.717Z"
   },
   {
    "duration": 4,
    "start_time": "2023-11-08T22:20:57.752Z"
   },
   {
    "duration": 16,
    "start_time": "2023-11-08T22:20:57.758Z"
   },
   {
    "duration": 5,
    "start_time": "2023-11-08T22:20:57.775Z"
   },
   {
    "duration": 8,
    "start_time": "2023-11-08T22:20:57.802Z"
   },
   {
    "duration": 3,
    "start_time": "2023-11-08T22:20:57.811Z"
   },
   {
    "duration": 2067,
    "start_time": "2023-11-08T22:20:57.816Z"
   },
   {
    "duration": 17,
    "start_time": "2023-11-08T22:20:59.885Z"
   },
   {
    "duration": 7,
    "start_time": "2023-11-08T22:20:59.904Z"
   },
   {
    "duration": 79610,
    "start_time": "2023-11-08T22:20:59.912Z"
   },
   {
    "duration": 7,
    "start_time": "2023-11-08T22:22:19.524Z"
   },
   {
    "duration": 74,
    "start_time": "2023-11-08T22:22:19.532Z"
   },
   {
    "duration": 6848,
    "start_time": "2023-11-08T22:22:19.607Z"
   },
   {
    "duration": 5636685,
    "start_time": "2023-11-08T22:22:26.457Z"
   },
   {
    "duration": 3,
    "start_time": "2023-11-08T23:56:23.144Z"
   },
   {
    "duration": 8,
    "start_time": "2023-11-08T23:56:23.148Z"
   },
   {
    "duration": 839226,
    "start_time": "2023-11-08T23:56:23.157Z"
   },
   {
    "duration": 0,
    "start_time": "2023-11-09T00:10:22.385Z"
   },
   {
    "duration": 0,
    "start_time": "2023-11-09T00:10:22.386Z"
   },
   {
    "duration": 0,
    "start_time": "2023-11-09T00:10:22.387Z"
   },
   {
    "duration": 0,
    "start_time": "2023-11-09T00:10:22.402Z"
   },
   {
    "duration": 0,
    "start_time": "2023-11-09T00:10:22.403Z"
   },
   {
    "duration": 0,
    "start_time": "2023-11-09T00:10:22.404Z"
   },
   {
    "duration": 0,
    "start_time": "2023-11-09T00:10:22.405Z"
   },
   {
    "duration": 0,
    "start_time": "2023-11-09T00:10:22.406Z"
   },
   {
    "duration": 0,
    "start_time": "2023-11-09T00:10:22.407Z"
   },
   {
    "duration": 0,
    "start_time": "2023-11-09T00:10:22.408Z"
   },
   {
    "duration": 0,
    "start_time": "2023-11-09T00:10:22.409Z"
   },
   {
    "duration": 0,
    "start_time": "2023-11-09T00:10:22.410Z"
   },
   {
    "duration": 0,
    "start_time": "2023-11-09T00:10:22.411Z"
   },
   {
    "duration": 0,
    "start_time": "2023-11-09T00:10:22.412Z"
   },
   {
    "duration": 5,
    "start_time": "2023-11-09T00:14:01.688Z"
   },
   {
    "duration": 935,
    "start_time": "2023-11-09T00:14:01.695Z"
   },
   {
    "duration": 32,
    "start_time": "2023-11-09T00:14:02.631Z"
   },
   {
    "duration": 18,
    "start_time": "2023-11-09T00:14:02.665Z"
   },
   {
    "duration": 16,
    "start_time": "2023-11-09T00:14:02.688Z"
   },
   {
    "duration": 13,
    "start_time": "2023-11-09T00:14:02.706Z"
   },
   {
    "duration": 17,
    "start_time": "2023-11-09T00:14:02.721Z"
   },
   {
    "duration": 36,
    "start_time": "2023-11-09T00:14:02.740Z"
   },
   {
    "duration": 2235,
    "start_time": "2023-11-09T00:14:02.778Z"
   },
   {
    "duration": 12,
    "start_time": "2023-11-09T00:14:05.015Z"
   },
   {
    "duration": 5,
    "start_time": "2023-11-09T00:14:05.029Z"
   },
   {
    "duration": 1878,
    "start_time": "2023-11-09T00:14:05.036Z"
   },
   {
    "duration": 1743,
    "start_time": "2023-11-09T00:14:22.119Z"
   },
   {
    "duration": 888,
    "start_time": "2023-11-09T00:14:23.864Z"
   },
   {
    "duration": 36,
    "start_time": "2023-11-09T00:14:24.754Z"
   },
   {
    "duration": 7,
    "start_time": "2023-11-09T00:14:24.802Z"
   },
   {
    "duration": 12,
    "start_time": "2023-11-09T00:14:24.811Z"
   },
   {
    "duration": 10,
    "start_time": "2023-11-09T00:14:24.825Z"
   },
   {
    "duration": 21,
    "start_time": "2023-11-09T00:14:24.837Z"
   },
   {
    "duration": 3,
    "start_time": "2023-11-09T00:14:24.860Z"
   },
   {
    "duration": 2165,
    "start_time": "2023-11-09T00:14:24.864Z"
   },
   {
    "duration": 12,
    "start_time": "2023-11-09T00:14:27.030Z"
   },
   {
    "duration": 5,
    "start_time": "2023-11-09T00:14:27.044Z"
   },
   {
    "duration": 685,
    "start_time": "2023-11-09T00:15:33.212Z"
   },
   {
    "duration": 4,
    "start_time": "2023-11-09T00:15:47.818Z"
   },
   {
    "duration": 849597,
    "start_time": "2023-11-09T00:15:49.677Z"
   },
   {
    "duration": 5,
    "start_time": "2023-11-09T00:30:26.066Z"
   },
   {
    "duration": 1919,
    "start_time": "2023-11-09T00:30:44.370Z"
   },
   {
    "duration": 896,
    "start_time": "2023-11-09T00:30:46.291Z"
   },
   {
    "duration": 36,
    "start_time": "2023-11-09T00:30:47.189Z"
   },
   {
    "duration": 5,
    "start_time": "2023-11-09T00:30:47.227Z"
   },
   {
    "duration": 9,
    "start_time": "2023-11-09T00:30:47.234Z"
   },
   {
    "duration": 7,
    "start_time": "2023-11-09T00:30:47.245Z"
   },
   {
    "duration": 9,
    "start_time": "2023-11-09T00:30:47.254Z"
   },
   {
    "duration": 38,
    "start_time": "2023-11-09T00:30:47.265Z"
   },
   {
    "duration": 2067,
    "start_time": "2023-11-09T00:30:47.305Z"
   },
   {
    "duration": 11,
    "start_time": "2023-11-09T00:30:49.376Z"
   },
   {
    "duration": 14,
    "start_time": "2023-11-09T00:30:49.389Z"
   },
   {
    "duration": 1085281,
    "start_time": "2023-11-09T00:30:49.405Z"
   },
   {
    "duration": 13,
    "start_time": "2023-11-09T00:48:54.688Z"
   },
   {
    "duration": 64,
    "start_time": "2023-11-09T00:48:54.703Z"
   },
   {
    "duration": 6483,
    "start_time": "2023-11-09T00:48:54.769Z"
   },
   {
    "duration": 794918,
    "start_time": "2023-11-09T00:49:01.254Z"
   },
   {
    "duration": 0,
    "start_time": "2023-11-09T01:02:16.174Z"
   },
   {
    "duration": 0,
    "start_time": "2023-11-09T01:02:16.175Z"
   },
   {
    "duration": 0,
    "start_time": "2023-11-09T01:02:16.176Z"
   },
   {
    "duration": 0,
    "start_time": "2023-11-09T01:02:16.177Z"
   },
   {
    "duration": 0,
    "start_time": "2023-11-09T01:02:16.178Z"
   },
   {
    "duration": 0,
    "start_time": "2023-11-09T01:02:16.179Z"
   },
   {
    "duration": 0,
    "start_time": "2023-11-09T01:02:16.180Z"
   },
   {
    "duration": 0,
    "start_time": "2023-11-09T01:02:16.181Z"
   },
   {
    "duration": 0,
    "start_time": "2023-11-09T01:02:16.182Z"
   },
   {
    "duration": 0,
    "start_time": "2023-11-09T01:02:16.200Z"
   },
   {
    "duration": 0,
    "start_time": "2023-11-09T01:02:16.202Z"
   },
   {
    "duration": 0,
    "start_time": "2023-11-09T01:02:16.204Z"
   },
   {
    "duration": 0,
    "start_time": "2023-11-09T01:02:16.206Z"
   },
   {
    "duration": 0,
    "start_time": "2023-11-09T01:02:16.207Z"
   },
   {
    "duration": 0,
    "start_time": "2023-11-09T01:02:16.209Z"
   },
   {
    "duration": 0,
    "start_time": "2023-11-09T01:02:16.211Z"
   },
   {
    "duration": 0,
    "start_time": "2023-11-09T01:02:16.213Z"
   },
   {
    "duration": 0,
    "start_time": "2023-11-09T01:02:16.216Z"
   },
   {
    "duration": 4,
    "start_time": "2023-11-09T01:02:22.515Z"
   },
   {
    "duration": 6556,
    "start_time": "2023-11-09T01:03:01.163Z"
   },
   {
    "duration": 3511416,
    "start_time": "2023-11-09T01:03:07.721Z"
   },
   {
    "duration": 4,
    "start_time": "2023-11-09T02:01:39.138Z"
   },
   {
    "duration": 5,
    "start_time": "2023-11-09T02:01:39.144Z"
   },
   {
    "duration": 981019,
    "start_time": "2023-11-09T02:01:39.150Z"
   },
   {
    "duration": 5,
    "start_time": "2023-11-09T02:18:00.171Z"
   },
   {
    "duration": 44,
    "start_time": "2023-11-09T02:18:00.177Z"
   },
   {
    "duration": 3576540,
    "start_time": "2023-11-09T02:18:00.223Z"
   },
   {
    "duration": 38,
    "start_time": "2023-11-09T03:17:36.764Z"
   },
   {
    "duration": 22,
    "start_time": "2023-11-09T03:17:36.804Z"
   },
   {
    "duration": 3474691,
    "start_time": "2023-11-09T03:17:36.828Z"
   },
   {
    "duration": 0,
    "start_time": "2023-11-09T04:15:31.521Z"
   },
   {
    "duration": 0,
    "start_time": "2023-11-09T04:15:31.521Z"
   },
   {
    "duration": 0,
    "start_time": "2023-11-09T04:15:31.523Z"
   },
   {
    "duration": 0,
    "start_time": "2023-11-09T04:15:31.524Z"
   },
   {
    "duration": 0,
    "start_time": "2023-11-09T04:15:31.525Z"
   },
   {
    "duration": 0,
    "start_time": "2023-11-09T04:15:31.526Z"
   },
   {
    "duration": 0,
    "start_time": "2023-11-09T04:15:31.527Z"
   },
   {
    "duration": 0,
    "start_time": "2023-11-09T04:15:31.528Z"
   },
   {
    "duration": 0,
    "start_time": "2023-11-09T04:15:31.529Z"
   },
   {
    "duration": 12505795,
    "start_time": "2023-11-09T04:15:43.648Z"
   },
   {
    "duration": 0,
    "start_time": "2023-11-09T07:44:09.446Z"
   },
   {
    "duration": 0,
    "start_time": "2023-11-09T07:44:09.448Z"
   },
   {
    "duration": 0,
    "start_time": "2023-11-09T07:44:09.449Z"
   },
   {
    "duration": 0,
    "start_time": "2023-11-09T07:44:09.451Z"
   },
   {
    "duration": 0,
    "start_time": "2023-11-09T07:44:09.452Z"
   },
   {
    "duration": 0,
    "start_time": "2023-11-09T07:44:09.454Z"
   },
   {
    "duration": 0,
    "start_time": "2023-11-09T07:44:09.455Z"
   },
   {
    "duration": 0,
    "start_time": "2023-11-09T07:44:09.457Z"
   },
   {
    "duration": 0,
    "start_time": "2023-11-09T07:44:09.458Z"
   },
   {
    "duration": 82658,
    "start_time": "2023-11-09T07:44:31.609Z"
   },
   {
    "duration": 66015,
    "start_time": "2023-11-09T07:59:12.741Z"
   },
   {
    "duration": 4,
    "start_time": "2023-11-09T08:00:18.758Z"
   },
   {
    "duration": 29,
    "start_time": "2023-11-09T08:00:18.764Z"
   },
   {
    "duration": 276023,
    "start_time": "2023-11-09T08:00:18.795Z"
   },
   {
    "duration": 0,
    "start_time": "2023-11-09T08:04:54.821Z"
   },
   {
    "duration": 0,
    "start_time": "2023-11-09T08:04:54.823Z"
   },
   {
    "duration": 0,
    "start_time": "2023-11-09T08:04:54.824Z"
   },
   {
    "duration": 0,
    "start_time": "2023-11-09T08:04:54.826Z"
   },
   {
    "duration": 71302,
    "start_time": "2023-11-09T08:04:59.982Z"
   },
   {
    "duration": 4,
    "start_time": "2023-11-09T08:07:03.026Z"
   },
   {
    "duration": 5,
    "start_time": "2023-11-09T08:07:05.336Z"
   },
   {
    "duration": 51,
    "start_time": "2023-11-09T08:07:32.220Z"
   },
   {
    "duration": 2074,
    "start_time": "2023-11-09T08:08:23.945Z"
   },
   {
    "duration": 2448,
    "start_time": "2023-11-09T08:08:26.021Z"
   },
   {
    "duration": 34,
    "start_time": "2023-11-09T08:08:28.471Z"
   },
   {
    "duration": 9,
    "start_time": "2023-11-09T08:08:28.507Z"
   },
   {
    "duration": 11,
    "start_time": "2023-11-09T08:08:28.519Z"
   },
   {
    "duration": 19,
    "start_time": "2023-11-09T08:08:28.532Z"
   },
   {
    "duration": 21,
    "start_time": "2023-11-09T08:08:28.553Z"
   },
   {
    "duration": 9,
    "start_time": "2023-11-09T08:08:28.576Z"
   },
   {
    "duration": 2258,
    "start_time": "2023-11-09T08:08:28.588Z"
   },
   {
    "duration": 13,
    "start_time": "2023-11-09T08:08:30.848Z"
   },
   {
    "duration": 49,
    "start_time": "2023-11-09T08:08:30.862Z"
   },
   {
    "duration": 2215,
    "start_time": "2023-11-09T08:08:30.913Z"
   },
   {
    "duration": 0,
    "start_time": "2023-11-09T08:08:33.131Z"
   },
   {
    "duration": 0,
    "start_time": "2023-11-09T08:08:33.133Z"
   },
   {
    "duration": 1,
    "start_time": "2023-11-09T08:08:33.134Z"
   },
   {
    "duration": 0,
    "start_time": "2023-11-09T08:08:33.137Z"
   },
   {
    "duration": 0,
    "start_time": "2023-11-09T08:08:33.138Z"
   },
   {
    "duration": 0,
    "start_time": "2023-11-09T08:08:33.139Z"
   },
   {
    "duration": 0,
    "start_time": "2023-11-09T08:08:33.140Z"
   },
   {
    "duration": 0,
    "start_time": "2023-11-09T08:08:33.142Z"
   },
   {
    "duration": 0,
    "start_time": "2023-11-09T08:08:33.144Z"
   },
   {
    "duration": 0,
    "start_time": "2023-11-09T08:08:33.145Z"
   },
   {
    "duration": 0,
    "start_time": "2023-11-09T08:08:33.146Z"
   },
   {
    "duration": 0,
    "start_time": "2023-11-09T08:08:33.148Z"
   },
   {
    "duration": 0,
    "start_time": "2023-11-09T08:08:33.149Z"
   },
   {
    "duration": 0,
    "start_time": "2023-11-09T08:08:33.151Z"
   },
   {
    "duration": 0,
    "start_time": "2023-11-09T08:08:33.152Z"
   },
   {
    "duration": 0,
    "start_time": "2023-11-09T08:08:33.153Z"
   },
   {
    "duration": 0,
    "start_time": "2023-11-09T08:08:33.155Z"
   },
   {
    "duration": 0,
    "start_time": "2023-11-09T08:08:33.156Z"
   },
   {
    "duration": 0,
    "start_time": "2023-11-09T08:08:33.157Z"
   },
   {
    "duration": 0,
    "start_time": "2023-11-09T08:08:33.158Z"
   },
   {
    "duration": 2121,
    "start_time": "2023-11-09T08:13:25.751Z"
   },
   {
    "duration": 924,
    "start_time": "2023-11-09T08:13:27.875Z"
   },
   {
    "duration": 34,
    "start_time": "2023-11-09T08:13:28.801Z"
   },
   {
    "duration": 6,
    "start_time": "2023-11-09T08:13:28.838Z"
   },
   {
    "duration": 18,
    "start_time": "2023-11-09T08:13:28.846Z"
   },
   {
    "duration": 19,
    "start_time": "2023-11-09T08:13:28.866Z"
   },
   {
    "duration": 22,
    "start_time": "2023-11-09T08:13:28.888Z"
   },
   {
    "duration": 4,
    "start_time": "2023-11-09T08:13:28.912Z"
   },
   {
    "duration": 2262,
    "start_time": "2023-11-09T08:13:28.917Z"
   },
   {
    "duration": 21,
    "start_time": "2023-11-09T08:13:31.182Z"
   },
   {
    "duration": 60,
    "start_time": "2023-11-09T08:13:31.206Z"
   },
   {
    "duration": 1193853,
    "start_time": "2023-11-09T08:13:31.268Z"
   },
   {
    "duration": 8,
    "start_time": "2023-11-09T08:33:25.123Z"
   },
   {
    "duration": 80,
    "start_time": "2023-11-09T08:33:25.133Z"
   },
   {
    "duration": 7440,
    "start_time": "2023-11-09T08:33:25.214Z"
   },
   {
    "duration": 3747272,
    "start_time": "2023-11-09T08:33:32.655Z"
   },
   {
    "duration": 4,
    "start_time": "2023-11-09T09:35:59.928Z"
   },
   {
    "duration": 13,
    "start_time": "2023-11-09T09:35:59.934Z"
   },
   {
    "duration": 1113787,
    "start_time": "2023-11-09T09:35:59.949Z"
   },
   {
    "duration": 3,
    "start_time": "2023-11-09T09:54:33.738Z"
   },
   {
    "duration": 13,
    "start_time": "2023-11-09T09:54:33.743Z"
   },
   {
    "duration": 2177,
    "start_time": "2023-11-09T12:20:28.616Z"
   },
   {
    "duration": 1056,
    "start_time": "2023-11-09T12:20:30.796Z"
   },
   {
    "duration": 48,
    "start_time": "2023-11-09T12:20:31.854Z"
   },
   {
    "duration": 18,
    "start_time": "2023-11-09T12:20:31.904Z"
   },
   {
    "duration": 36,
    "start_time": "2023-11-09T12:20:31.925Z"
   },
   {
    "duration": 69,
    "start_time": "2023-11-09T12:20:31.963Z"
   },
   {
    "duration": 31,
    "start_time": "2023-11-09T12:20:32.035Z"
   },
   {
    "duration": 17,
    "start_time": "2023-11-09T12:20:32.068Z"
   },
   {
    "duration": 2411,
    "start_time": "2023-11-09T12:20:32.087Z"
   },
   {
    "duration": 17,
    "start_time": "2023-11-09T12:20:34.503Z"
   },
   {
    "duration": 50,
    "start_time": "2023-11-09T12:20:34.522Z"
   },
   {
    "duration": 1401294,
    "start_time": "2023-11-09T12:20:34.575Z"
   },
   {
    "duration": 9,
    "start_time": "2023-11-09T12:43:55.871Z"
   },
   {
    "duration": 107,
    "start_time": "2023-11-09T12:43:55.883Z"
   },
   {
    "duration": 8142,
    "start_time": "2023-11-09T12:43:55.992Z"
   },
   {
    "duration": 4182640,
    "start_time": "2023-11-09T12:44:04.137Z"
   },
   {
    "duration": 4,
    "start_time": "2023-11-09T13:53:46.779Z"
   },
   {
    "duration": 24,
    "start_time": "2023-11-09T13:53:46.784Z"
   },
   {
    "duration": 426703,
    "start_time": "2023-11-09T13:53:46.812Z"
   },
   {
    "duration": 4,
    "start_time": "2023-11-09T14:00:53.524Z"
   },
   {
    "duration": 25,
    "start_time": "2023-11-09T14:00:53.530Z"
   },
   {
    "duration": 75602,
    "start_time": "2023-11-09T14:00:53.557Z"
   },
   {
    "duration": 6,
    "start_time": "2023-11-09T14:02:09.161Z"
   },
   {
    "duration": 10,
    "start_time": "2023-11-09T14:02:09.169Z"
   },
   {
    "duration": 39,
    "start_time": "2023-11-09T14:02:09.182Z"
   },
   {
    "duration": 28,
    "start_time": "2023-11-09T14:02:09.223Z"
   },
   {
    "duration": 16,
    "start_time": "2023-11-09T16:07:32.149Z"
   }
  ],
  "kernelspec": {
   "display_name": "Python 3 (ipykernel)",
   "language": "python",
   "name": "python3"
  },
  "language_info": {
   "codemirror_mode": {
    "name": "ipython",
    "version": 3
   },
   "file_extension": ".py",
   "mimetype": "text/x-python",
   "name": "python",
   "nbconvert_exporter": "python",
   "pygments_lexer": "ipython3",
   "version": "3.9.5"
  },
  "toc": {
   "base_numbering": 1,
   "nav_menu": {},
   "number_sections": true,
   "sideBar": true,
   "skip_h1_title": true,
   "title_cell": "Содержание",
   "title_sidebar": "Contents",
   "toc_cell": true,
   "toc_position": {
    "height": "calc(100% - 180px)",
    "left": "10px",
    "top": "150px",
    "width": "302.391px"
   },
   "toc_section_display": true,
   "toc_window_display": false
  }
 },
 "nbformat": 4,
 "nbformat_minor": 2
}
